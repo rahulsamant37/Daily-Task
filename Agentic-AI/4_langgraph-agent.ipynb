{
 "cells": [
  {
   "cell_type": "code",
   "execution_count": 1,
   "metadata": {},
   "outputs": [],
   "source": [
    "from langchain_core.messages import AnyMessage\n",
    "from langgraph.graph.message import add_messages\n",
    "from langgraph.graph import StateGraph, START, END\n",
    "from langgraph.prebuilt import ToolNode\n",
    "from langgraph.prebuilt import tools_condition\n",
    "from langchain_core.messages import HumanMessage, SystemMessage\n",
    "from langgraph.graph import MessagesState\n",
    "from langgraph.checkpoint.memory import MemorySaver\n",
    "\n",
    "from pprint import pprint\n",
    "from typing import Annotated\n",
    "from typing_extensions import TypedDict\n",
    "from IPython.display import display, Image\n",
    "import os\n",
    "from dotenv import load_dotenv\n",
    "load_dotenv()\n",
    "\n",
    "os.environ[\"GROQ_API_KEY\"]=os.getenv(\"GROQ_API_KEY\")"
   ]
  },
  {
   "cell_type": "code",
   "execution_count": 2,
   "metadata": {},
   "outputs": [
    {
     "data": {
      "text/plain": [
       "ChatGroq(client=<groq.resources.chat.completions.Completions object at 0x7bb3d33d3620>, async_client=<groq.resources.chat.completions.AsyncCompletions object at 0x7bb3d33d3830>, model_name='qwen-2.5-32b', model_kwargs={}, groq_api_key=SecretStr('**********'))"
      ]
     },
     "execution_count": 2,
     "metadata": {},
     "output_type": "execute_result"
    }
   ],
   "source": [
    "from langchain_groq import ChatGroq\n",
    "\n",
    "llm=ChatGroq(model=\"qwen-2.5-32b\")\n",
    "llm"
   ]
  },
  {
   "cell_type": "code",
   "execution_count": 3,
   "metadata": {},
   "outputs": [],
   "source": [
    "## define tools and bind with llm\n",
    "def add(a:int,b:int)->int:\n",
    "    \"\"\"\n",
    "    add a to b\n",
    "    \"\"\"\n",
    "    return a+b\n",
    "\n",
    "def multiply(a:int,b:int)->int:\n",
    "    \"\"\"\n",
    "    Multiply a to b\n",
    "    \"\"\"\n",
    "    return a*b\n",
    "tools=[add, multiply]\n",
    "llm_with_tools=llm.bind_tools(tools)"
   ]
  },
  {
   "cell_type": "code",
   "execution_count": 9,
   "metadata": {},
   "outputs": [],
   "source": [
    "sys_msg=SystemMessage(content='You are a helpfull assistant tasked with preforming arthmetic on a set of inputs.')\n",
    "\n",
    "def assistant(state:MessagesState):\n",
    "    return {'messages':[llm_with_tools.invoke([sys_msg]+state['messages'])]}"
   ]
  },
  {
   "cell_type": "code",
   "execution_count": 11,
   "metadata": {},
   "outputs": [
    {
     "data": {
      "image/png": "[encoded data removed]",
      "text/plain": [
       "<IPython.core.display.Image object>"
      ]
     },
     "metadata": {},
     "output_type": "display_data"
    }
   ],
   "source": [
    "## Graph\n",
    "builder2=StateGraph(MessagesState)\n",
    "builder2.add_node(\"llm\",assistant)\n",
    "builder2.add_node(\"tools\",ToolNode(tools))\n",
    "builder2.add_edge(START,\"llm\")\n",
    "builder2.add_conditional_edges(\n",
    "    \"llm\",\n",
    "    ## If the latest message (result) from assistant is a tool call -> tools_condition routes to tools\n",
    "    ## IF the latest message (result) from assistant is not a tool call -> tools_condition routes to END\n",
    "    tools_condition,\n",
    ")\n",
    "builder2.add_edge(\"tools\",\"llm\")\n",
    "tool_graph1=builder2.compile()\n",
    "\n",
    "## display\n",
    "display(Image(tool_graph1.get_graph().draw_mermaid_png()))"
   ]
  },
  {
   "cell_type": "code",
   "execution_count": 12,
   "metadata": {},
   "outputs": [
    {
     "name": "stdout",
     "output_type": "stream",
     "text": [
      "================================\u001b[1m Human Message \u001b[0m=================================\n",
      "\n",
      "what is 2*3 and then add 4 and then multiply by 10?\n",
      "==================================\u001b[1m Ai Message \u001b[0m==================================\n",
      "Tool Calls:\n",
      "  multiply (call_8zrt)\n",
      " Call ID: call_8zrt\n",
      "  Args:\n",
      "    a: 2\n",
      "    b: 3\n",
      "  add (call_w341)\n",
      " Call ID: call_w341\n",
      "  Args:\n",
      "    a: 6\n",
      "    b: 4\n",
      "  multiply (call_3zw6)\n",
      " Call ID: call_3zw6\n",
      "  Args:\n",
      "    a: 10\n",
      "    b: 10\n",
      "=================================\u001b[1m Tool Message \u001b[0m=================================\n",
      "Name: multiply\n",
      "\n",
      "6\n",
      "=================================\u001b[1m Tool Message \u001b[0m=================================\n",
      "Name: add\n",
      "\n",
      "10\n",
      "=================================\u001b[1m Tool Message \u001b[0m=================================\n",
      "Name: multiply\n",
      "\n",
      "100\n",
      "==================================\u001b[1m Ai Message \u001b[0m==================================\n",
      "\n",
      "The result of 2*3 is 6. When you add 4 to that, you get 10. And when you multiply that result by 10, you end up with 100.\n"
     ]
    }
   ],
   "source": [
    "messages=tool_graph1.invoke({\"messages\":HumanMessage(content=\"what is 2*3 and then add 4 and then multiply by 10?\")})\n",
    "for m in messages['messages']:\n",
    "    m.pretty_print()"
   ]
  },
  {
   "cell_type": "code",
   "execution_count": 13,
   "metadata": {},
   "outputs": [
    {
     "name": "stdout",
     "output_type": "stream",
     "text": [
      "================================\u001b[1m Human Message \u001b[0m=================================\n",
      "\n",
      "and multiply that by 10\n",
      "==================================\u001b[1m Ai Message \u001b[0m==================================\n",
      "\n",
      "It looks like you want to multiply a number by 10, but you haven't provided the initial number. Could you please specify the number you want to multiply by 10?\n"
     ]
    }
   ],
   "source": [
    "messages=tool_graph1.invoke({\"messages\":HumanMessage(content=\"and multiply that by 10\")})\n",
    "for m in messages['messages']:\n",
    "    m.pretty_print()"
   ]
  },
  {
   "cell_type": "code",
   "execution_count": 42,
   "metadata": {},
   "outputs": [
    {
     "data": {
      "image/png": "[encoded data removed]",
      "text/plain": [
       "<IPython.core.display.Image object>"
      ]
     },
     "metadata": {},
     "output_type": "display_data"
    }
   ],
   "source": [
    "## Memory in Agents using MemorySaver\n",
    "memory=MemorySaver()\n",
    "config={'configurable':{'thread_id':'1'}}\n",
    "\n",
    "## Graph\n",
    "builder=StateGraph(MessagesState)\n",
    "builder.add_node(\"llm\",assistant)\n",
    "builder.add_node(\"tools\",ToolNode(tools))\n",
    "builder.add_edge(START,\"llm\")\n",
    "builder.add_conditional_edges(\n",
    "    \"llm\",\n",
    "    ## If the latest message (result) from assistant is a tool call -> tools_condition routes to tools\n",
    "    ## IF the latest message (result) from assistant is not a tool call -> tools_condition routes to END\n",
    "    tools_condition,\n",
    ")\n",
    "builder.add_edge(\"tools\",\"llm\")\n",
    "tool_graph=builder.compile(checkpointer=memory)\n",
    "\n",
    "## display\n",
    "display(Image(tool_graph.get_graph().draw_mermaid_png()))"
   ]
  },
  {
   "cell_type": "code",
   "execution_count": 43,
   "metadata": {},
   "outputs": [
    {
     "name": "stdout",
     "output_type": "stream",
     "text": [
      "================================\u001b[1m Human Message \u001b[0m=================================\n",
      "\n",
      "what is 2 add by 2\n",
      "==================================\u001b[1m Ai Message \u001b[0m==================================\n",
      "Tool Calls:\n",
      "  add (call_jdqf)\n",
      " Call ID: call_jdqf\n",
      "  Args:\n",
      "    a: 2\n",
      "    b: 2\n",
      "=================================\u001b[1m Tool Message \u001b[0m=================================\n",
      "Name: add\n",
      "\n",
      "4\n",
      "==================================\u001b[1m Ai Message \u001b[0m==================================\n",
      "\n",
      "The result of adding 2 and 2 is 4.\n"
     ]
    }
   ],
   "source": [
    "events = tool_graph.stream(\n",
    "    {\"messages\": [{\"role\": \"user\", \"content\": \"what is 2 add by 2\"}]},\n",
    "    config,\n",
    "    stream_mode=\"values\",\n",
    ")\n",
    "for event in events:\n",
    "    event[\"messages\"][-1].pretty_print()"
   ]
  },
  {
   "cell_type": "code",
   "execution_count": 44,
   "metadata": {},
   "outputs": [
    {
     "name": "stdout",
     "output_type": "stream",
     "text": [
      "================================\u001b[1m Human Message \u001b[0m=================================\n",
      "\n",
      "what is previous result?\n",
      "==================================\u001b[1m Ai Message \u001b[0m==================================\n",
      "\n",
      "The previous result of the addition was 4.\n"
     ]
    }
   ],
   "source": [
    "events = tool_graph.stream(\n",
    "    {\"messages\": [{\"role\": \"user\", \"content\": \"what is previous result?\"}]},\n",
    "    config,\n",
    "    stream_mode=\"values\",\n",
    ")\n",
    "for event in events:\n",
    "    event[\"messages\"][-1].pretty_print()"
   ]
  },
  {
   "cell_type": "code",
   "execution_count": null,
   "metadata": {},
   "outputs": [],
   "source": []
  }
 ],
 "metadata": {
  "kernelspec": {
   "display_name": "Python 3",
   "language": "python",
   "name": "python3"
  },
  "language_info": {
   "codemirror_mode": {
    "name": "ipython",
    "version": 3
   },
   "file_extension": ".py",
   "mimetype": "text/x-python",
   "name": "python",
   "nbconvert_exporter": "python",
   "pygments_lexer": "ipython3",
   "version": "3.12.1"
  }
 },
 "nbformat": 4,
 "nbformat_minor": 2
}
