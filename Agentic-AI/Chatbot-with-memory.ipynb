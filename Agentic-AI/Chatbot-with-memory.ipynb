{
  "nbformat": 4,
  "nbformat_minor": 0,
  "metadata": {
    "colab": {
      "provenance": []
    },
    "kernelspec": {
      "name": "python3",
      "display_name": "Python 3"
    },
    "language_info": {
      "name": "python"
    }
  },
  "cells": [
    {
      "cell_type": "code",
      "source": [
        "!pip install -q python-dotenv"
      ],
      "metadata": {
        "id": "tafVIbzbr1kC"
      },
      "execution_count": 1,
      "outputs": []
    },
    {
      "cell_type": "code",
      "execution_count": 15,
      "metadata": {
        "id": "lykrZ6fSfrd8"
      },
      "outputs": [],
      "source": [
        "import os\n",
        "from google.colab import userdata"
      ]
    },
    {
      "cell_type": "code",
      "source": [
        "os.environ[\"GROQ_API_KEY\"]= userdata.get(\"GROQ_API_KEY\")"
      ],
      "metadata": {
        "id": "C4mFkKurmpdH"
      },
      "execution_count": 16,
      "outputs": []
    },
    {
      "cell_type": "code",
      "source": [
        "print(\"GROQ API Key:\", GROQ_API_KEY if GROQ_API_KEY else \"No API Key found!\")\n"
      ],
      "metadata": {
        "colab": {
          "base_uri": "https://localhost:8080/"
        },
        "id": "zkPboBlUmpaT",
        "outputId": "88e822d9-6ae6-4b37-8399-ddc7809f4e4f"
      },
      "execution_count": 17,
      "outputs": [
        {
          "output_type": "stream",
          "name": "stdout",
          "text": [
            "GROQ API Key: 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\n"
          ]
        }
      ]
    },
    {
      "cell_type": "code",
      "source": [
        "pip install -q langchain-groq"
      ],
      "metadata": {
        "id": "ZyIMwG6smpXe",
        "colab": {
          "base_uri": "https://localhost:8080/"
        },
        "outputId": "66cd99a9-95ba-4a73-a282-92489b366be3"
      },
      "execution_count": 12,
      "outputs": [
        {
          "output_type": "stream",
          "name": "stdout",
          "text": [
            "\u001b[?25l   \u001b[90m━━━━━━━━━━━━━━━━━━━━━━━━━━━━━━━━━━━━━━━━\u001b[0m \u001b[32m0.0/121.9 kB\u001b[0m \u001b[31m?\u001b[0m eta \u001b[36m-:--:--\u001b[0m\r\u001b[2K   \u001b[90m━━━━━━━━━━━━━━━━━━━━━━━━━━━━━━━━━━━━━━━━\u001b[0m \u001b[32m121.9/121.9 kB\u001b[0m \u001b[31m5.8 MB/s\u001b[0m eta \u001b[36m0:00:00\u001b[0m\n",
            "\u001b[?25h"
          ]
        }
      ]
    },
    {
      "cell_type": "code",
      "source": [
        "from langchain_groq import ChatGroq\n",
        "model= ChatGroq(model=\"qwen-2.5-32b\")\n",
        "model"
      ],
      "metadata": {
        "id": "O6Z9EEIDmpTA",
        "colab": {
          "base_uri": "https://localhost:8080/"
        },
        "outputId": "53c6719a-0780-4d24-b4f3-03c2996ad53a"
      },
      "execution_count": 18,
      "outputs": [
        {
          "output_type": "execute_result",
          "data": {
            "text/plain": [
              "ChatGroq(client=<groq.resources.chat.completions.Completions object at 0x78806a7c4510>, async_client=<groq.resources.chat.completions.AsyncCompletions object at 0x78806a7d9810>, model_name='qwen-2.5-32b', model_kwargs={}, groq_api_key=SecretStr('**********'))"
            ]
          },
          "metadata": {},
          "execution_count": 18
        }
      ]
    },
    {
      "cell_type": "code",
      "source": [
        "model.invoke(\"Hello\")"
      ],
      "metadata": {
        "id": "fgtpJXrImpQJ",
        "colab": {
          "base_uri": "https://localhost:8080/"
        },
        "outputId": "96f730cf-b00c-48c4-f691-d81e1eef6cb2"
      },
      "execution_count": 19,
      "outputs": [
        {
          "output_type": "execute_result",
          "data": {
            "text/plain": [
              "AIMessage(content='Hello! How can I assist you today?', additional_kwargs={}, response_metadata={'token_usage': {'completion_tokens': 10, 'prompt_tokens': 30, 'total_tokens': 40, 'completion_time': 0.025974388, 'prompt_time': 0.003668817, 'queue_time': 0.020819279, 'total_time': 0.029643205}, 'model_name': 'qwen-2.5-32b', 'system_fingerprint': 'fp_7b9ecfcd5f', 'finish_reason': 'stop', 'logprobs': None}, id='run-d43b6af6-c7a0-49ec-8fcd-86d8e3640491-0', usage_metadata={'input_tokens': 30, 'output_tokens': 10, 'total_tokens': 40})"
            ]
          },
          "metadata": {},
          "execution_count": 19
        }
      ]
    },
    {
      "cell_type": "code",
      "source": [
        "from langchain_core.messages import HumanMessage\n",
        "\n",
        "model.invoke([HumanMessage(content=\"Hello my name is Rahul and I'm a 3rd year student\")])"
      ],
      "metadata": {
        "id": "1y0nlil4mpNi",
        "colab": {
          "base_uri": "https://localhost:8080/"
        },
        "outputId": "d7cddf53-4f90-4969-a1b1-a93c056f0070"
      },
      "execution_count": 20,
      "outputs": [
        {
          "output_type": "execute_result",
          "data": {
            "text/plain": [
              "AIMessage(content=\"Hello Rahul! It's nice to meet you. As a 3rd-year student, you're likely well into your college journey by now. What field are you studying? Are there any particular challenges or exciting projects you're working on at the moment? Feel free to share more about your studies or any other topics you're interested in!\", additional_kwargs={}, response_metadata={'token_usage': {'completion_tokens': 69, 'prompt_tokens': 43, 'total_tokens': 112, 'completion_time': 0.174196304, 'prompt_time': 0.004513387, 'queue_time': 0.028086769999999997, 'total_time': 0.178709691}, 'model_name': 'qwen-2.5-32b', 'system_fingerprint': 'fp_7b9ecfcd5f', 'finish_reason': 'stop', 'logprobs': None}, id='run-82775dee-c7b2-4492-8014-3a8a405b5bff-0', usage_metadata={'input_tokens': 43, 'output_tokens': 69, 'total_tokens': 112})"
            ]
          },
          "metadata": {},
          "execution_count": 20
        }
      ]
    },
    {
      "cell_type": "code",
      "source": [
        "from langchain_core.messages import AIMessage\n",
        "\n",
        "model.invoke(\n",
        "    [\n",
        "        HumanMessage(content=\"Hello my name is Rahul and I'm a 3rd year student\"),\n",
        "        AIMessage(content=\"Hello Rahul! It's nice to meet you. As a 3rd-year student, you're likely well into your college journey by now. What field are you studying?\"),\n",
        "        HumanMessage(content=\"Hey What's my name and what do I do?\")\n",
        "    ]\n",
        ")"
      ],
      "metadata": {
        "id": "2dUvlS_XmpLu",
        "colab": {
          "base_uri": "https://localhost:8080/"
        },
        "outputId": "d721cc47-7c9a-4c29-e4a8-9c202e0a48b4"
      },
      "execution_count": 21,
      "outputs": [
        {
          "output_type": "execute_result",
          "data": {
            "text/plain": [
              "AIMessage(content='Your name is Rahul, and you are a 3rd-year student. Is there anything specific you would like to know or discuss?', additional_kwargs={}, response_metadata={'token_usage': {'completion_tokens': 28, 'prompt_tokens': 99, 'total_tokens': 127, 'completion_time': 0.07034083, 'prompt_time': 0.00691021, 'queue_time': 0.026405473, 'total_time': 0.07725104}, 'model_name': 'qwen-2.5-32b', 'system_fingerprint': 'fp_7b9ecfcd5f', 'finish_reason': 'stop', 'logprobs': None}, id='run-52f21b4f-e82b-4260-9e12-a9ccc8caa620-0', usage_metadata={'input_tokens': 99, 'output_tokens': 28, 'total_tokens': 127})"
            ]
          },
          "metadata": {},
          "execution_count": 21
        }
      ]
    },
    {
      "cell_type": "code",
      "source": [
        "!pip install -q langchain_community"
      ],
      "metadata": {
        "colab": {
          "base_uri": "https://localhost:8080/"
        },
        "id": "bMrFM23Lx9XW",
        "outputId": "3d695b95-e00c-444d-c15e-c193f807f688"
      },
      "execution_count": 23,
      "outputs": [
        {
          "output_type": "stream",
          "name": "stdout",
          "text": [
            "\u001b[?25l   \u001b[90m━━━━━━━━━━━━━━━━━━━━━━━━━━━━━━━━━━━━━━━━\u001b[0m \u001b[32m0.0/2.5 MB\u001b[0m \u001b[31m?\u001b[0m eta \u001b[36m-:--:--\u001b[0m\r\u001b[2K   \u001b[91m━━━━━━━━━━━━━━━━━━━━━━━━━━━━━━━\u001b[0m\u001b[90m╺\u001b[0m\u001b[90m━━━━━━━━\u001b[0m \u001b[32m2.0/2.5 MB\u001b[0m \u001b[31m58.1 MB/s\u001b[0m eta \u001b[36m0:00:01\u001b[0m\r\u001b[2K   \u001b[90m━━━━━━━━━━━━━━━━━━━━━━━━━━━━━━━━━━━━━━━━\u001b[0m \u001b[32m2.5/2.5 MB\u001b[0m \u001b[31m41.9 MB/s\u001b[0m eta \u001b[36m0:00:00\u001b[0m\n",
            "\u001b[?25h\u001b[?25l   \u001b[90m━━━━━━━━━━━━━━━━━━━━━━━━━━━━━━━━━━━━━━━━\u001b[0m \u001b[32m0.0/1.0 MB\u001b[0m \u001b[31m?\u001b[0m eta \u001b[36m-:--:--\u001b[0m\r\u001b[2K   \u001b[90m━━━━━━━━━━━━━━━━━━━━━━━━━━━━━━━━━━━━━━━━\u001b[0m \u001b[32m1.0/1.0 MB\u001b[0m \u001b[31m52.4 MB/s\u001b[0m eta \u001b[36m0:00:00\u001b[0m\n",
            "\u001b[2K   \u001b[90m━━━━━━━━━━━━━━━━━━━━━━━━━━━━━━━━━━━━━━━━\u001b[0m \u001b[32m413.2/413.2 kB\u001b[0m \u001b[31m34.3 MB/s\u001b[0m eta \u001b[36m0:00:00\u001b[0m\n",
            "\u001b[2K   \u001b[90m━━━━━━━━━━━━━━━━━━━━━━━━━━━━━━━━━━━━━━━━\u001b[0m \u001b[32m50.9/50.9 kB\u001b[0m \u001b[31m5.0 MB/s\u001b[0m eta \u001b[36m0:00:00\u001b[0m\n",
            "\u001b[?25h"
          ]
        }
      ]
    },
    {
      "cell_type": "code",
      "source": [
        "!pip install -q langchain_core"
      ],
      "metadata": {
        "id": "3H7TzQpeyHWm"
      },
      "execution_count": 27,
      "outputs": []
    },
    {
      "cell_type": "code",
      "source": [
        "from langchain_community.chat_message_histories import ChatMessageHistory\n",
        "from langchain_core.chat_history import BaseChatMessageHistory\n",
        "from langchain_core.runnables.history import RunnableWithMessageHistory\n",
        "\n",
        "store={}\n",
        "def get_session_history(session_id: str) -> BaseChatMessageHistory:\n",
        "  if session_id not in store:\n",
        "    store[session_id]= ChatMessageHistory()\n",
        "\n",
        "  return store[session_id]"
      ],
      "metadata": {
        "id": "TeS23eMumpJI"
      },
      "execution_count": 29,
      "outputs": []
    },
    {
      "cell_type": "code",
      "source": [
        "with_message_history= RunnableWithMessageHistory(model,get_session_history)\n",
        "with_message_history"
      ],
      "metadata": {
        "colab": {
          "base_uri": "https://localhost:8080/"
        },
        "id": "3jvtMG33ya7_",
        "outputId": "facecbbe-9322-4b93-917f-52b109e44321"
      },
      "execution_count": 30,
      "outputs": [
        {
          "output_type": "execute_result",
          "data": {
            "text/plain": [
              "RunnableWithMessageHistory(bound=RunnableBinding(bound=RunnableBinding(bound=RunnableLambda(_enter_history), kwargs={}, config={'run_name': 'load_history'}, config_factories=[])\n",
              "| RunnableBinding(bound=RunnableLambda(_call_runnable_sync), kwargs={}, config={'run_name': 'check_sync_or_async'}, config_factories=[]), kwargs={}, config={'run_name': 'RunnableWithMessageHistory'}, config_factories=[]), kwargs={}, config={}, config_factories=[], get_session_history=<function get_session_history at 0x7880913edf80>, history_factory_config=[ConfigurableFieldSpec(id='session_id', annotation=<class 'str'>, name='Session ID', description='Unique identifier for a session.', default='', is_shared=True, dependencies=None)])"
            ]
          },
          "metadata": {},
          "execution_count": 30
        }
      ]
    },
    {
      "cell_type": "code",
      "source": [
        "config={\"configurable\":{\"session_id\":\"Rahul\"}}\n",
        "\n",
        "response=with_message_history.invoke(\n",
        "    \"Hello my name is Rahul and I'm a 3rd year student\",\n",
        "    config=config\n",
        ")"
      ],
      "metadata": {
        "id": "qG0LQBQXya5G"
      },
      "execution_count": 32,
      "outputs": []
    },
    {
      "cell_type": "code",
      "source": [
        "response"
      ],
      "metadata": {
        "colab": {
          "base_uri": "https://localhost:8080/"
        },
        "id": "x1M-eJ_NyapD",
        "outputId": "3bad74c0-22f4-4f57-ccbe-cb2d9d889a21"
      },
      "execution_count": 33,
      "outputs": [
        {
          "output_type": "execute_result",
          "data": {
            "text/plain": [
              "AIMessage(content=\"Hello Rahul! It's nice to meet you. As a 3rd year student, what field are you studying? And how can I assist you with your studies or anything else you might need help with?\", additional_kwargs={}, response_metadata={'token_usage': {'completion_tokens': 43, 'prompt_tokens': 43, 'total_tokens': 86, 'completion_time': 0.10898231, 'prompt_time': 0.0043998, 'queue_time': 0.026112357000000003, 'total_time': 0.11338211}, 'model_name': 'qwen-2.5-32b', 'system_fingerprint': 'fp_7b9ecfcd5f', 'finish_reason': 'stop', 'logprobs': None}, id='run-1206c7f5-eb80-4e57-8787-72a98c48b9eb-0', usage_metadata={'input_tokens': 43, 'output_tokens': 43, 'total_tokens': 86})"
            ]
          },
          "metadata": {},
          "execution_count": 33
        }
      ]
    },
    {
      "cell_type": "code",
      "source": [
        "response1=with_message_history.invoke(\n",
        "    \"Hey What's my name and what do I do?\",\n",
        "    config=config\n",
        ")\n",
        "response1"
      ],
      "metadata": {
        "id": "ncMZjNgSmpGS",
        "colab": {
          "base_uri": "https://localhost:8080/"
        },
        "outputId": "9b3cfa9e-293e-4bb4-c1b5-f5d5b0433f61"
      },
      "execution_count": 34,
      "outputs": [
        {
          "output_type": "execute_result",
          "data": {
            "text/plain": [
              "AIMessage(content='Your name is Rahul, and you are a 3rd year student. If you have any questions or need help with your studies or anything else, feel free to ask!', additional_kwargs={}, response_metadata={'token_usage': {'completion_tokens': 36, 'prompt_tokens': 106, 'total_tokens': 142, 'completion_time': 0.090557951, 'prompt_time': 0.007370695, 'queue_time': 0.029144787000000002, 'total_time': 0.097928646}, 'model_name': 'qwen-2.5-32b', 'system_fingerprint': 'fp_7b9ecfcd5f', 'finish_reason': 'stop', 'logprobs': None}, id='run-d2dda50a-cfc2-425b-ada2-122de8fc38b1-0', usage_metadata={'input_tokens': 106, 'output_tokens': 36, 'total_tokens': 142})"
            ]
          },
          "metadata": {},
          "execution_count": 34
        }
      ]
    },
    {
      "cell_type": "code",
      "source": [
        "config1={\"configurable\":{\"session_id\":\"Aman\"}}"
      ],
      "metadata": {
        "id": "AMj1RU8hzUi8"
      },
      "execution_count": 36,
      "outputs": []
    },
    {
      "cell_type": "code",
      "source": [
        "response2=with_message_history.invoke(\n",
        "    \"What is my name?\",\n",
        "    config=config1\n",
        ")\n",
        "response2"
      ],
      "metadata": {
        "colab": {
          "base_uri": "https://localhost:8080/"
        },
        "id": "X2UJCktjzLE3",
        "outputId": "3fe00e6d-3d50-4f4d-852c-393a1ee68938"
      },
      "execution_count": 37,
      "outputs": [
        {
          "output_type": "execute_result",
          "data": {
            "text/plain": [
              "AIMessage(content=\"You haven't told me your name yet. Could you please tell me what your name is?\", additional_kwargs={}, response_metadata={'token_usage': {'completion_tokens': 20, 'prompt_tokens': 34, 'total_tokens': 54, 'completion_time': 0.051145444, 'prompt_time': 0.003916066, 'queue_time': 0.021768352, 'total_time': 0.05506151}, 'model_name': 'qwen-2.5-32b', 'system_fingerprint': 'fp_7b9ecfcd5f', 'finish_reason': 'stop', 'logprobs': None}, id='run-46db72f2-6bd6-4fb9-bf6b-e54e995be5b5-0', usage_metadata={'input_tokens': 34, 'output_tokens': 20, 'total_tokens': 54})"
            ]
          },
          "metadata": {},
          "execution_count": 37
        }
      ]
    },
    {
      "cell_type": "markdown",
      "source": [
        "# Prompt Template"
      ],
      "metadata": {
        "id": "XOaVFfjq4df0"
      }
    },
    {
      "cell_type": "code",
      "source": [
        "from langchain_core.prompts import ChatPromptTemplate, MessagesPlaceholder\n",
        "\n",
        "prompt=ChatPromptTemplate(\n",
        "    [\n",
        "        (\"system\",\"You are a helpful assistant. Answer all the question to the best of your ability in {language}\"),\n",
        "        MessagesPlaceholder(variable_name=\"messages\")\n",
        "    ]\n",
        ")\n",
        "chain=prompt | model"
      ],
      "metadata": {
        "id": "lWD-hQEtzQs3"
      },
      "execution_count": 50,
      "outputs": []
    },
    {
      "cell_type": "code",
      "source": [
        "chain.invoke({\"messages\":[HumanMessage(content=\"Hello my name is Rahul and I'm a 3rd year student\")]})"
      ],
      "metadata": {
        "colab": {
          "base_uri": "https://localhost:8080/"
        },
        "id": "sJXeCZdc801P",
        "outputId": "a542465e-694e-4af1-cc68-a128faea88c0"
      },
      "execution_count": 43,
      "outputs": [
        {
          "output_type": "execute_result",
          "data": {
            "text/plain": [
              "AIMessage(content=\"Hello Rahul! Nice to meet you. As a 3rd-year student, what field are you studying? Is there anything specific you'd like advice or help with regarding your studies or your future career plans?\", additional_kwargs={}, response_metadata={'token_usage': {'completion_tokens': 43, 'prompt_tokens': 32, 'total_tokens': 75, 'completion_time': 0.109215978, 'prompt_time': 0.003893576, 'queue_time': 0.024411389000000002, 'total_time': 0.113109554}, 'model_name': 'qwen-2.5-32b', 'system_fingerprint': 'fp_7b9ecfcd5f', 'finish_reason': 'stop', 'logprobs': None}, id='run-80d912b6-94f3-4095-8e69-270e29ba9f0b-0', usage_metadata={'input_tokens': 32, 'output_tokens': 43, 'total_tokens': 75})"
            ]
          },
          "metadata": {},
          "execution_count": 43
        }
      ]
    },
    {
      "cell_type": "code",
      "source": [
        "with_message_history= RunnableWithMessageHistory(chain,get_session_history)"
      ],
      "metadata": {
        "id": "9N1u2FPM9GTX"
      },
      "execution_count": 44,
      "outputs": []
    },
    {
      "cell_type": "code",
      "source": [
        "config={\"configurable\":{\"session_id\":\"Rahul1\"}}\n",
        "response=with_message_history.invoke(\n",
        "    [HumanMessage(content=\"Hi my name is Rahul\")],\n",
        "    config=config\n",
        ")"
      ],
      "metadata": {
        "id": "oD8I3PJ99ZzB"
      },
      "execution_count": 46,
      "outputs": []
    },
    {
      "cell_type": "code",
      "source": [
        "response=with_message_history.invoke(\n",
        "    [HumanMessage(content=\"What is my name?\")],\n",
        "    config=config\n",
        ")\n",
        "response.content"
      ],
      "metadata": {
        "colab": {
          "base_uri": "https://localhost:8080/",
          "height": 53
        },
        "id": "tfKgePOt9tEf",
        "outputId": "a7cf526f-8fd0-44ad-8352-abdb5f6ad37d"
      },
      "execution_count": 48,
      "outputs": [
        {
          "output_type": "execute_result",
          "data": {
            "text/plain": [
              "'Your name is Rahul. Is there anything specific you would like to know or discuss further?'"
            ],
            "application/vnd.google.colaboratory.intrinsic+json": {
              "type": "string"
            }
          },
          "metadata": {},
          "execution_count": 48
        }
      ]
    },
    {
      "cell_type": "code",
      "source": [
        "response=chain.invoke({\"messages\":[HumanMessage(content=\"Hi my name is Rahul\")],\"language\":\"Hindi\"})\n",
        "response.content"
      ],
      "metadata": {
        "colab": {
          "base_uri": "https://localhost:8080/",
          "height": 36
        },
        "id": "u2ShLHlh92eN",
        "outputId": "c6440540-59a8-40e0-efe7-a19fe2cf4478"
      },
      "execution_count": 51,
      "outputs": [
        {
          "output_type": "execute_result",
          "data": {
            "text/plain": [
              "'नमस्ते राहुल, कैसे मदद कर सकता हूँ?'"
            ],
            "application/vnd.google.colaboratory.intrinsic+json": {
              "type": "string"
            }
          },
          "metadata": {},
          "execution_count": 51
        }
      ]
    },
    {
      "cell_type": "markdown",
      "source": [
        "## TRIMMING"
      ],
      "metadata": {
        "id": "KFzv0EQ9DqvO"
      }
    },
    {
      "cell_type": "code",
      "source": [
        "from langchain_core.messages import SystemMessage, trim_messages\n",
        "\n",
        "trimmer=trim_messages(\n",
        "    max_tokens=60,\n",
        "    strategy=\"last\",\n",
        "    token_counter=model,\n",
        "    include_system=True,\n",
        "    allow_partial=False,\n",
        "    start_on=\"human\"\n",
        ")\n",
        "messages = [\n",
        "    SystemMessage(content=\"You are a helpful assistant.\"),\n",
        "    HumanMessage(content=\"Hello my name is Rahul\"),\n",
        "    AIMessage(content=\"Hello Rahul! It's nice to meet you.\"),\n",
        "    HumanMessage(content=\"I like choco-icecream\"),\n",
        "    AIMessage(content=\"nice\"),\n",
        "    HumanMessage(content=\"Whats 2 + 2\"),\n",
        "    AIMessage(content=\"4\"),\n",
        "    HumanMessage(content=\"thanks\"),\n",
        "    AIMessage(content=\"you're welcome\")\n",
        "]\n",
        "trimmer.invoke(messages)"
      ],
      "metadata": {
        "colab": {
          "base_uri": "https://localhost:8080/"
        },
        "id": "NU6YAk1aCX2C",
        "outputId": "b79062a5-c20b-46b0-b491-cbfc5b3b7b63"
      },
      "execution_count": 58,
      "outputs": [
        {
          "output_type": "execute_result",
          "data": {
            "text/plain": [
              "[SystemMessage(content='You are a helpful assistant.', additional_kwargs={}, response_metadata={}),\n",
              " HumanMessage(content='Hello my name is Rahul', additional_kwargs={}, response_metadata={}),\n",
              " AIMessage(content=\"Hello Rahul! It's nice to meet you.\", additional_kwargs={}, response_metadata={}),\n",
              " HumanMessage(content='I like choco-icecream', additional_kwargs={}, response_metadata={}),\n",
              " AIMessage(content='nice', additional_kwargs={}, response_metadata={}),\n",
              " HumanMessage(content='Whats 2 + 2', additional_kwargs={}, response_metadata={}),\n",
              " AIMessage(content='4', additional_kwargs={}, response_metadata={}),\n",
              " HumanMessage(content='thanks', additional_kwargs={}, response_metadata={}),\n",
              " AIMessage(content=\"you're welcome\", additional_kwargs={}, response_metadata={})]"
            ]
          },
          "metadata": {},
          "execution_count": 58
        }
      ]
    },
    {
      "cell_type": "code",
      "source": [
        "from langchain_core.messages import SystemMessage, trim_messages\n",
        "\n",
        "trimmer=trim_messages(\n",
        "    max_tokens=45,\n",
        "    strategy=\"last\",\n",
        "    token_counter=model,\n",
        "    include_system=True,\n",
        "    allow_partial=False,\n",
        "    start_on=\"human\"\n",
        ")\n",
        "messages = [\n",
        "    SystemMessage(content=\"You are a helpful assistant.\"),\n",
        "    HumanMessage(content=\"Hello my name is Rahul\"),\n",
        "    AIMessage(content=\"Hello Rahul! It's nice to meet you.\"),\n",
        "    HumanMessage(content=\"I like choco-icecream\"),\n",
        "    AIMessage(content=\"nice\"),\n",
        "    HumanMessage(content=\"Whats 2 + 2\"),\n",
        "    AIMessage(content=\"4\"),\n",
        "    HumanMessage(content=\"thanks\"),\n",
        "    AIMessage(content=\"you're welcome\")\n",
        "]\n",
        "trimmer.invoke(messages)"
      ],
      "metadata": {
        "colab": {
          "base_uri": "https://localhost:8080/"
        },
        "id": "7yvJ91ZlEyn1",
        "outputId": "731f3c24-72c4-43ed-d6d5-dc4675cb5859"
      },
      "execution_count": 53,
      "outputs": [
        {
          "output_type": "execute_result",
          "data": {
            "text/plain": [
              "[SystemMessage(content='You are a helpful assistant.', additional_kwargs={}, response_metadata={}),\n",
              " HumanMessage(content='I like choco-icecream', additional_kwargs={}, response_metadata={}),\n",
              " AIMessage(content='nice', additional_kwargs={}, response_metadata={}),\n",
              " HumanMessage(content='Whats 2 + 2', additional_kwargs={}, response_metadata={}),\n",
              " AIMessage(content='4', additional_kwargs={}, response_metadata={}),\n",
              " HumanMessage(content='thanks', additional_kwargs={}, response_metadata={}),\n",
              " AIMessage(content=\"you're welcome\", additional_kwargs={}, response_metadata={})]"
            ]
          },
          "metadata": {},
          "execution_count": 53
        }
      ]
    },
    {
      "cell_type": "code",
      "source": [
        "from operator import itemgetter\n",
        "from langchain_core.runnables import RunnablePassthrough\n",
        "\n",
        "chain=(RunnablePassthrough.assign(messages=itemgetter('messages')| trimmer)\n",
        "| prompt | model )\n",
        "chain"
      ],
      "metadata": {
        "colab": {
          "base_uri": "https://localhost:8080/"
        },
        "id": "UPZXMiRoE9F7",
        "outputId": "640f13b9-3bbf-4847-c64a-4a66ae3ae11e"
      },
      "execution_count": 54,
      "outputs": [
        {
          "output_type": "execute_result",
          "data": {
            "text/plain": [
              "RunnableAssign(mapper={\n",
              "  messages: RunnableLambda(itemgetter('messages'))\n",
              "            | RunnableLambda(...)\n",
              "})\n",
              "| ChatPromptTemplate(input_variables=['language', 'messages'], input_types={'messages': list[typing.Annotated[typing.Union[typing.Annotated[langchain_core.messages.ai.AIMessage, Tag(tag='ai')], typing.Annotated[langchain_core.messages.human.HumanMessage, Tag(tag='human')], typing.Annotated[langchain_core.messages.chat.ChatMessage, Tag(tag='chat')], typing.Annotated[langchain_core.messages.system.SystemMessage, Tag(tag='system')], typing.Annotated[langchain_core.messages.function.FunctionMessage, Tag(tag='function')], typing.Annotated[langchain_core.messages.tool.ToolMessage, Tag(tag='tool')], typing.Annotated[langchain_core.messages.ai.AIMessageChunk, Tag(tag='AIMessageChunk')], typing.Annotated[langchain_core.messages.human.HumanMessageChunk, Tag(tag='HumanMessageChunk')], typing.Annotated[langchain_core.messages.chat.ChatMessageChunk, Tag(tag='ChatMessageChunk')], typing.Annotated[langchain_core.messages.system.SystemMessageChunk, Tag(tag='SystemMessageChunk')], typing.Annotated[langchain_core.messages.function.FunctionMessageChunk, Tag(tag='FunctionMessageChunk')], typing.Annotated[langchain_core.messages.tool.ToolMessageChunk, Tag(tag='ToolMessageChunk')]], FieldInfo(annotation=NoneType, required=True, discriminator=Discriminator(discriminator=<function _get_type at 0x7880907737e0>, custom_error_type=None, custom_error_message=None, custom_error_context=None))]]}, partial_variables={}, messages=[SystemMessagePromptTemplate(prompt=PromptTemplate(input_variables=['language'], input_types={}, partial_variables={}, template='You are a helpful assistant. Answer all the question to the best of your ability in {language}'), additional_kwargs={}), MessagesPlaceholder(variable_name='messages')])\n",
              "| ChatGroq(client=<groq.resources.chat.completions.Completions object at 0x78806a7c4510>, async_client=<groq.resources.chat.completions.AsyncCompletions object at 0x78806a7d9810>, model_name='qwen-2.5-32b', model_kwargs={}, groq_api_key=SecretStr('**********'))"
            ]
          },
          "metadata": {},
          "execution_count": 54
        }
      ]
    },
    {
      "cell_type": "code",
      "source": [
        "response=chain.invoke(\n",
        "    {\n",
        "        \"messages\":messages + [HumanMessage(content=\"What is my name?\")],\n",
        "        \"language\":\"English\"\n",
        "    }\n",
        ")\n",
        "response.content\n",
        "response.content"
      ],
      "metadata": {
        "colab": {
          "base_uri": "https://localhost:8080/",
          "height": 53
        },
        "id": "ckn1HXISFivl",
        "outputId": "ce5493dd-a357-4c4b-bf58-d5443629891d"
      },
      "execution_count": 57,
      "outputs": [
        {
          "output_type": "execute_result",
          "data": {
            "text/plain": [
              "\"You haven't told me your name in our conversation yet. Could you please let me know what your name is?\""
            ],
            "application/vnd.google.colaboratory.intrinsic+json": {
              "type": "string"
            }
          },
          "metadata": {},
          "execution_count": 57
        }
      ]
    },
    {
      "cell_type": "code",
      "source": [
        "from langchain_core.messages import SystemMessage, trim_messages\n",
        "\n",
        "trimmer=trim_messages(\n",
        "    max_tokens=60,\n",
        "    strategy=\"last\",\n",
        "    token_counter=model,\n",
        "    include_system=True,\n",
        "    allow_partial=False,\n",
        "    start_on=\"human\"\n",
        ")\n",
        "messages = [\n",
        "    SystemMessage(content=\"You are a helpful assistant.\"),\n",
        "    HumanMessage(content=\"Hello my name is Rahul\"),\n",
        "    AIMessage(content=\"Hello Rahul! It's nice to meet you.\"),\n",
        "    HumanMessage(content=\"I like choco-ice cream\"),\n",
        "    AIMessage(content=\"nice\"),\n",
        "    HumanMessage(content=\"Whats 2 + 2\"),\n",
        "    AIMessage(content=\"4\"),\n",
        "    HumanMessage(content=\"thanks\"),\n",
        "    AIMessage(content=\"you're welcome\")\n",
        "]\n",
        "trimmer.invoke(messages)"
      ],
      "metadata": {
        "colab": {
          "base_uri": "https://localhost:8080/"
        },
        "id": "vaAu8LUoGOF3",
        "outputId": "7a14af1d-6434-4f8b-e9b2-5dc803308739"
      },
      "execution_count": 84,
      "outputs": [
        {
          "output_type": "execute_result",
          "data": {
            "text/plain": [
              "[SystemMessage(content='You are a helpful assistant.', additional_kwargs={}, response_metadata={}),\n",
              " HumanMessage(content='Hello my name is Rahul', additional_kwargs={}, response_metadata={}),\n",
              " AIMessage(content=\"Hello Rahul! It's nice to meet you.\", additional_kwargs={}, response_metadata={}),\n",
              " HumanMessage(content='I like choco-ice cream', additional_kwargs={}, response_metadata={}),\n",
              " AIMessage(content='nice', additional_kwargs={}, response_metadata={}),\n",
              " HumanMessage(content='Whats 2 + 2', additional_kwargs={}, response_metadata={}),\n",
              " AIMessage(content='4', additional_kwargs={}, response_metadata={}),\n",
              " HumanMessage(content='thanks', additional_kwargs={}, response_metadata={}),\n",
              " AIMessage(content=\"you're welcome\", additional_kwargs={}, response_metadata={})]"
            ]
          },
          "metadata": {},
          "execution_count": 84
        }
      ]
    },
    {
      "cell_type": "code",
      "source": [
        "from operator import itemgetter\n",
        "from langchain_core.runnables import RunnablePassthrough\n",
        "\n",
        "chain=(RunnablePassthrough.assign(messages=itemgetter('messages')| trimmer)\n",
        "| prompt | model )\n",
        "chain"
      ],
      "metadata": {
        "colab": {
          "base_uri": "https://localhost:8080/"
        },
        "id": "ImjbHLIJGtRN",
        "outputId": "434790af-2f16-45c1-cd83-bdcee0772b12"
      },
      "execution_count": 87,
      "outputs": [
        {
          "output_type": "execute_result",
          "data": {
            "text/plain": [
              "RunnableAssign(mapper={\n",
              "  messages: RunnableLambda(itemgetter('messages'))\n",
              "            | RunnableLambda(...)\n",
              "})\n",
              "| ChatPromptTemplate(input_variables=['language', 'messages'], input_types={'messages': list[typing.Annotated[typing.Union[typing.Annotated[langchain_core.messages.ai.AIMessage, Tag(tag='ai')], typing.Annotated[langchain_core.messages.human.HumanMessage, Tag(tag='human')], typing.Annotated[langchain_core.messages.chat.ChatMessage, Tag(tag='chat')], typing.Annotated[langchain_core.messages.system.SystemMessage, Tag(tag='system')], typing.Annotated[langchain_core.messages.function.FunctionMessage, Tag(tag='function')], typing.Annotated[langchain_core.messages.tool.ToolMessage, Tag(tag='tool')], typing.Annotated[langchain_core.messages.ai.AIMessageChunk, Tag(tag='AIMessageChunk')], typing.Annotated[langchain_core.messages.human.HumanMessageChunk, Tag(tag='HumanMessageChunk')], typing.Annotated[langchain_core.messages.chat.ChatMessageChunk, Tag(tag='ChatMessageChunk')], typing.Annotated[langchain_core.messages.system.SystemMessageChunk, Tag(tag='SystemMessageChunk')], typing.Annotated[langchain_core.messages.function.FunctionMessageChunk, Tag(tag='FunctionMessageChunk')], typing.Annotated[langchain_core.messages.tool.ToolMessageChunk, Tag(tag='ToolMessageChunk')]], FieldInfo(annotation=NoneType, required=True, discriminator=Discriminator(discriminator=<function _get_type at 0x7880907737e0>, custom_error_type=None, custom_error_message=None, custom_error_context=None))]]}, partial_variables={}, messages=[SystemMessagePromptTemplate(prompt=PromptTemplate(input_variables=['language'], input_types={}, partial_variables={}, template='You are a helpful assistant. Answer all the question to the best of your ability in {language}'), additional_kwargs={}), MessagesPlaceholder(variable_name='messages')])\n",
              "| ChatGroq(client=<groq.resources.chat.completions.Completions object at 0x78806a7c4510>, async_client=<groq.resources.chat.completions.AsyncCompletions object at 0x78806a7d9810>, model_name='qwen-2.5-32b', model_kwargs={}, groq_api_key=SecretStr('**********'))"
            ]
          },
          "metadata": {},
          "execution_count": 87
        }
      ]
    },
    {
      "cell_type": "code",
      "source": [
        "response=chain.invoke(\n",
        "    {\n",
        "        \"messages\":messages + [HumanMessage(content=\"What is ice cream do i like?\")],\n",
        "        \"language\":\"English\"\n",
        "    }\n",
        ")\n",
        "response.content\n",
        "response.content"
      ],
      "metadata": {
        "colab": {
          "base_uri": "https://localhost:8080/",
          "height": 53
        },
        "id": "3Vgk4jQGGuN2",
        "outputId": "4b9b6942-342a-43fc-efcb-832ff135de4b"
      },
      "execution_count": 88,
      "outputs": [
        {
          "output_type": "execute_result",
          "data": {
            "text/plain": [
              "'It seems like you mentioned earlier that you like chocolate ice cream. If you have other flavors you enjoy, feel free to share!'"
            ],
            "application/vnd.google.colaboratory.intrinsic+json": {
              "type": "string"
            }
          },
          "metadata": {},
          "execution_count": 88
        }
      ]
    },
    {
      "cell_type": "code",
      "source": [],
      "metadata": {
        "id": "v6EiTumpGvLZ"
      },
      "execution_count": null,
      "outputs": []
    }
  ]
}