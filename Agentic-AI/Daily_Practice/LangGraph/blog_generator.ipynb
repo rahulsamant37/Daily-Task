{
 "cells": [
  {
   "cell_type": "code",
   "execution_count": 18,
   "id": "b75f79bd",
   "metadata": {},
   "outputs": [],
   "source": [
    "from langgraph.graph import StateGraph, START, END\n",
    "from langchain_google_genai import ChatGoogleGenerativeAI\n",
    "\n",
    "from typing import TypedDict"
   ]
  },
  {
   "cell_type": "code",
   "execution_count": 19,
   "id": "088fbc18",
   "metadata": {},
   "outputs": [],
   "source": [
    "class BlogClass(TypedDict):\n",
    "    topic: str\n",
    "    outline: str\n",
    "    content: str"
   ]
  },
  {
   "cell_type": "code",
   "execution_count": 20,
   "metadata": {},
   "outputs": [],
   "source": [
    "llm = ChatGoogleGenerativeAI(model=\"gemini-2.5-flash\")"
   ]
  },
  {
   "cell_type": "code",
   "execution_count": 21,
   "id": "eff6556b",
   "metadata": {},
   "outputs": [],
   "source": [
    "def outline_generator(state: BlogClass) -> BlogClass:\n",
    "    \"\"\"\n",
    "    This is a function to generate outline with topic\n",
    "    \"\"\"\n",
    "    topic = state['topic']\n",
    "    state['outline'] = llm.invoke(f\"Generate a outline in this topic: {topic} in 50 words\").content\n",
    "    return state\n",
    "\n",
    "def blog_generator(state: BlogClass) -> BlogClass:\n",
    "    \"\"\"\n",
    "    This will generate a blog content based on topic and outline\n",
    "    \"\"\"\n",
    "    topic = state['topic']\n",
    "    outline = state['outline']\n",
    "    state['content'] = llm.invoke(f\"Generate a blog content with this topic - \\n{topic}\\nand in this outline format- \\n{outline} in 50 words\").content\n",
    "    return state"
   ]
  },
  {
   "cell_type": "code",
   "execution_count": 23,
   "metadata": {},
   "outputs": [
    {
     "data": {
      "image/png": "[encoded data removed]",
      "text/plain": [
       "<IPython.core.display.Image object>"
      ]
     },
     "metadata": {},
     "output_type": "display_data"
    }
   ],
   "source": [
    "## Define the state graph\n",
    "builder = StateGraph(BlogClass)\n",
    "\n",
    "## Define the node\n",
    "builder.add_node(\"Outline_generator\", outline_generator)\n",
    "builder.add_node(\"Blog_generator\", blog_generator)\n",
    "\n",
    "## Define the edge\n",
    "builder.add_edge(START, \"Outline_generator\")\n",
    "builder.add_edge(\"Outline_generator\", \"Blog_generator\")\n",
    "builder.add_edge(\"Blog_generator\", END)\n",
    "\n",
    "## Compile\n",
    "graph = builder.compile()\n",
    "\n",
    "## Display graph\n",
    "from IPython.display import display, Image\n",
    "display(Image(graph.get_graph().draw_mermaid_png()))"
   ]
  },
  {
   "cell_type": "code",
   "execution_count": 12,
   "id": "8edce461",
   "metadata": {},
   "outputs": [],
   "source": [
    "response = graph.invoke({\"topic\": \"Agentic AI\"})"
   ]
  },
  {
   "cell_type": "code",
   "execution_count": 17,
   "id": "f048a7ff",
   "metadata": {},
   "outputs": [
    {
     "data": {
      "text/plain": [
       "\"Here's a blog content on Agentic AI, following your outline and exactly 50 words:\\n\\n**Agentic AI: The Future of Autonomy**\\n\\n*   **I. Definition:** Agentic AI autonomously sets goals, plans, and acts, perceiving and adapting dynamically.\\n*   **II. Key Characteristics:** Self-direction, perception-action loops, memory, reasoning, plus tool use.\\n*   **III. Applications:** Robotics, complex problem-solving, personal assistants, and scientific discovery.\\n*   **IV. Challenges/Risks:** Safety, control, ethics, alignment, and unintended outcomes.\\n*   **V. Future Outlook:** Enhanced autonomy, human-AI collaboration, and responsible development.\""
      ]
     },
     "execution_count": 17,
     "metadata": {},
     "output_type": "execute_result"
    }
   ],
   "source": [
    "response['content']"
   ]
  },
  {
   "cell_type": "code",
   "execution_count": null,
   "id": "e8361725",
   "metadata": {},
   "outputs": [],
   "source": []
  }
 ],
 "metadata": {
  "kernelspec": {
   "display_name": "daily-task",
   "language": "python",
   "name": "python3"
  },
  "language_info": {
   "codemirror_mode": {
    "name": "ipython",
    "version": 3
   },
   "file_extension": ".py",
   "mimetype": "text/x-python",
   "name": "python",
   "nbconvert_exporter": "python",
   "pygments_lexer": "ipython3",
   "version": "3.12.0"
  }
 },
 "nbformat": 4,
 "nbformat_minor": 5
}
