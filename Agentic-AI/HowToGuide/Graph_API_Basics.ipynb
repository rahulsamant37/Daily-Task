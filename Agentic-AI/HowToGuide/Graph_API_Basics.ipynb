{
 "cells": [
  {
   "cell_type": "markdown",
   "id": "04cf75d4",
   "metadata": {},
   "source": [
    "# How to update graph state from nodes"
   ]
  },
  {
   "cell_type": "markdown",
   "id": "645fce2c",
   "metadata": {},
   "source": [
    "### State\n",
    "State in LangGraph can be a TypedDict, Pydantic model, or dataclass. Below we will use TypedDict. See this guide for detail on using Pydantic.\n",
    "\n",
    "By default, graphs will have the same input and output schema, and the state determines that schema. See this guide for how to define distinct input and output schemas."
   ]
  },
  {
   "cell_type": "code",
   "execution_count": 1,
   "id": "cdcede93",
   "metadata": {},
   "outputs": [],
   "source": [
    "from langchain_core.messages import AnyMessage\n",
    "from typing_extensions import TypedDict\n",
    "\n",
    "\n",
    "class State(TypedDict):\n",
    "    messages: list[AnyMessage]\n",
    "    extra_field: int"
   ]
  },
  {
   "cell_type": "code",
   "execution_count": 2,
   "id": "bb4f10d1",
   "metadata": {},
   "outputs": [],
   "source": [
    "from langchain_core.messages import AIMessage\n",
    "\n",
    "\n",
    "def node(state: State):\n",
    "    messages = state[\"messages\"]\n",
    "    new_message = AIMessage(\"Hello!\")\n",
    "\n",
    "    return {\"messages\": messages + [new_message], \"extra_field\": 10}"
   ]
  },
  {
   "cell_type": "code",
   "execution_count": 3,
   "metadata": {},
   "outputs": [],
   "source": [
    "from langgraph.graph import StateGraph\n",
    "\n",
    "graph_builder = StateGraph(State)\n",
    "graph_builder.add_node(node)\n",
    "graph_builder.set_entry_point(\"node\")\n",
    "graph = graph_builder.compile()"
   ]
  },
  {
   "cell_type": "code",
   "execution_count": 4,
   "metadata": {},
   "outputs": [
    {
     "data": {
      "image/png": "[encoded data removed]",
      "text/plain": [
       "<IPython.core.display.Image object>"
      ]
     },
     "metadata": {},
     "output_type": "display_data"
    }
   ],
   "source": [
    "from IPython.display import Image, display\n",
    "\n",
    "display(Image(graph.get_graph().draw_mermaid_png()))"
   ]
  },
  {
   "cell_type": "code",
   "execution_count": 5,
   "id": "fc700d34",
   "metadata": {},
   "outputs": [
    {
     "data": {
      "text/plain": [
       "{'messages': [HumanMessage(content='Hi', additional_kwargs={}, response_metadata={}),\n",
       "  AIMessage(content='Hello!', additional_kwargs={}, response_metadata={})],\n",
       " 'extra_field': 10}"
      ]
     },
     "execution_count": 5,
     "metadata": {},
     "output_type": "execute_result"
    }
   ],
   "source": [
    "from langchain_core.messages import HumanMessage\n",
    "\n",
    "result = graph.invoke({\"messages\": [HumanMessage(\"Hi\")]})\n",
    "result"
   ]
  },
  {
   "cell_type": "code",
   "execution_count": 6,
   "metadata": {},
   "outputs": [
    {
     "name": "stdout",
     "output_type": "stream",
     "text": [
      "================================\u001b[1m Human Message \u001b[0m=================================\n",
      "\n",
      "Hi\n",
      "==================================\u001b[1m Ai Message \u001b[0m==================================\n",
      "\n",
      "Hello!\n"
     ]
    }
   ],
   "source": [
    "for message in result[\"messages\"]:\n",
    "    message.pretty_print()"
   ]
  },
  {
   "cell_type": "code",
   "execution_count": 9,
   "id": "80ddcd33",
   "metadata": {},
   "outputs": [],
   "source": [
    "from typing_extensions import Annotated\n",
    "\n",
    "def add(left, right):\n",
    "    \"\"\"Can also import `add` from the `operator` built-in.\"\"\"\n",
    "    return left + right\n",
    "\n",
    "class State(TypedDict):\n",
    "    messages: Annotated[list[AnyMessage], add]\n",
    "    extra_field: int"
   ]
  },
  {
   "cell_type": "code",
   "execution_count": 10,
   "id": "3fffc55e",
   "metadata": {},
   "outputs": [],
   "source": [
    "def node(state: State):\n",
    "    new_message = AIMessage(\"Hello!\")\n",
    "    return {\"messages\": [new_message], \"extra_field\": 10}"
   ]
  },
  {
   "cell_type": "code",
   "execution_count": 12,
   "id": "806b75c4",
   "metadata": {},
   "outputs": [
    {
     "name": "stdout",
     "output_type": "stream",
     "text": [
      "================================\u001b[1m Human Message \u001b[0m=================================\n",
      "\n",
      "Hi\n",
      "==================================\u001b[1m Ai Message \u001b[0m==================================\n",
      "\n",
      "Hello!\n"
     ]
    }
   ],
   "source": [
    "from langgraph.graph import START\n",
    "\n",
    "graph = StateGraph(State).add_node(node).add_edge(START,\"node\").compile()\n",
    "\n",
    "result = graph.invoke({\"messages\": [HumanMessage(\"Hi\")]})\n",
    "\n",
    "for message in result[\"messages\"]:\n",
    "    message.pretty_print()"
   ]
  },
  {
   "cell_type": "code",
   "execution_count": 13,
   "metadata": {},
   "outputs": [],
   "source": [
    "from langgraph.graph.message import add_messages\n",
    "\n",
    "class State(TypedDict):\n",
    "    messages: Annotated[list[AnyMessage], add_messages]\n",
    "    extra_field: int\n",
    "\n",
    "def node(state: State):\n",
    "    new_message = AIMessage(\"Hello!\")\n",
    "    return {\"messages\": [new_message], \"extra_field\": 10}\n",
    "\n",
    "graph = StateGraph(State).add_node(node).add_edge(START,\"node\").compile()"
   ]
  },
  {
   "cell_type": "code",
   "execution_count": 15,
   "metadata": {},
   "outputs": [
    {
     "name": "stdout",
     "output_type": "stream",
     "text": [
      "================================\u001b[1m Human Message \u001b[0m=================================\n",
      "\n",
      "Hii\n",
      "==================================\u001b[1m Ai Message \u001b[0m==================================\n",
      "\n",
      "Hello!\n"
     ]
    }
   ],
   "source": [
    "input_message = {\"role\": \"user\", \"content\": \"Hii\"}\n",
    "\n",
    "result = graph.invoke({\"messages\": [input_message]})\n",
    "\n",
    "for message in result[\"messages\"]:\n",
    "    message.pretty_print()"
   ]
  },
  {
   "cell_type": "markdown",
   "id": "3d20dc6f",
   "metadata": {},
   "source": [
    "# How to create a sequence of steps"
   ]
  },
  {
   "cell_type": "code",
   "execution_count": 2,
   "id": "56e276bf",
   "metadata": {},
   "outputs": [],
   "source": [
    "from typing_extensions import TypedDict\n",
    "\n",
    "\n",
    "class State(TypedDict):\n",
    "    value_1: str\n",
    "    value_2: int"
   ]
  },
  {
   "cell_type": "code",
   "execution_count": 9,
   "id": "8a35edc3",
   "metadata": {},
   "outputs": [],
   "source": [
    "def step_1(state: State):\n",
    "    return {\"value_1\": \"a\"}\n",
    "\n",
    "def step_2(state: State):\n",
    "    current_value_1 = state[\"value_1\"]\n",
    "    return {\"value_1\": f\"{current_value_1} b\"}\n",
    "\n",
    "def step_3(state: State):\n",
    "    return {\"value_2\": 10}"
   ]
  },
  {
   "cell_type": "code",
   "execution_count": 10,
   "id": "c71980ba",
   "metadata": {},
   "outputs": [
    {
     "data": {
      "image/png": "[encoded data removed]",
      "text/plain": [
       "<IPython.core.display.Image object>"
      ]
     },
     "metadata": {},
     "output_type": "display_data"
    }
   ],
   "source": [
    "from langgraph.graph import START, StateGraph\n",
    "\n",
    "graph_builder = StateGraph(State)\n",
    "\n",
    "## Add nodes\n",
    "graph_builder.add_node(step_1)\n",
    "graph_builder.add_node(step_2)\n",
    "graph_builder.add_node(step_3)\n",
    "\n",
    "## Add edges\n",
    "graph_builder.add_edge(START,\"step_1\")\n",
    "graph_builder.add_edge(\"step_1\",\"step_2\")\n",
    "graph_builder.add_edge(\"step_2\",\"step_3\")\n",
    "\n",
    "## Compile\n",
    "graph = graph_builder.compile()\n",
    "\n",
    "from IPython.display import Image, display\n",
    "display(Image(graph.get_graph().draw_mermaid_png()))"
   ]
  },
  {
   "cell_type": "code",
   "execution_count": 11,
   "id": "f5d03eb0",
   "metadata": {},
   "outputs": [
    {
     "data": {
      "text/plain": [
       "{'value_1': 'a b', 'value_2': 10}"
      ]
     },
     "execution_count": 11,
     "metadata": {},
     "output_type": "execute_result"
    }
   ],
   "source": [
    "graph.invoke({\"value_1\": \"c\"})"
   ]
  },
  {
   "cell_type": "markdown",
   "id": "39670822",
   "metadata": {},
   "source": [
    "### Built-in shorthand"
   ]
  },
  {
   "cell_type": "code",
   "execution_count": 12,
   "id": "9a3b61ef",
   "metadata": {},
   "outputs": [
    {
     "data": {
      "text/plain": [
       "{'value_1': 'a b', 'value_2': 10}"
      ]
     },
     "execution_count": 12,
     "metadata": {},
     "output_type": "execute_result"
    }
   ],
   "source": [
    "graph_builder = StateGraph(State).add_sequence([step_1, step_2, step_3])\n",
    "graph_builder.add_edge(START,\"step_1\")\n",
    "\n",
    "graph = graph_builder.compile()\n",
    "\n",
    "graph.invoke({\"value_1\": \"c\"})"
   ]
  },
  {
   "cell_type": "markdown",
   "id": "bcefdc8d",
   "metadata": {},
   "source": [
    "# How to create branches for parallel node execution"
   ]
  },
  {
   "cell_type": "markdown",
   "id": "de5b9dd7",
   "metadata": {},
   "source": [
    "### How to run graph nodes in parallel\n",
    "In this example, we fan out from Node A to B and C and then fan in to D. With our state, we specify the reducer add operation. This will combine or accumulate values for the specific key in the State, rather than simply overwriting the existing value."
   ]
  },
  {
   "cell_type": "code",
   "execution_count": 1,
   "id": "1b0e5ff5",
   "metadata": {},
   "outputs": [],
   "source": [
    "import operator\n",
    "from typing import Annotated, Any\n",
    "\n",
    "from typing_extensions import TypedDict\n",
    "\n",
    "from langgraph.graph import StateGraph, START, END\n",
    "\n",
    "\n",
    "class State(TypedDict):\n",
    "    # The operator.add reducer fn makes this append-only\n",
    "    aggregate: Annotated[list, operator.add]\n",
    "\n",
    "\n",
    "def a(state: State):\n",
    "    print(f'Adding \"A\" to {state[\"aggregate\"]}')\n",
    "    return {\"aggregate\": [\"A\"]}\n",
    "\n",
    "\n",
    "def b(state: State):\n",
    "    print(f'Adding \"B\" to {state[\"aggregate\"]}')\n",
    "    return {\"aggregate\": [\"B\"]}\n",
    "\n",
    "\n",
    "def c(state: State):\n",
    "    print(f'Adding \"C\" to {state[\"aggregate\"]}')\n",
    "    return {\"aggregate\": [\"C\"]}\n",
    "\n",
    "\n",
    "def d(state: State):\n",
    "    print(f'Adding \"D\" to {state[\"aggregate\"]}')\n",
    "    return {\"aggregate\": [\"D\"]}\n",
    "\n",
    "\n",
    "builder = StateGraph(State)\n",
    "builder.add_node(a)\n",
    "builder.add_node(b)\n",
    "builder.add_node(c)\n",
    "builder.add_node(d)\n",
    "builder.add_edge(START, \"a\")\n",
    "builder.add_edge(\"a\", \"b\")\n",
    "builder.add_edge(\"a\", \"c\")\n",
    "builder.add_edge(\"b\", \"d\")\n",
    "builder.add_edge(\"c\", \"d\")\n",
    "builder.add_edge(\"d\", END)\n",
    "graph = builder.compile()"
   ]
  },
  {
   "cell_type": "code",
   "execution_count": 2,
   "id": "124afcda",
   "metadata": {},
   "outputs": [
    {
     "data": {
      "image/png": "[encoded data removed]",
      "text/plain": [
       "<IPython.core.display.Image object>"
      ]
     },
     "metadata": {},
     "output_type": "display_data"
    }
   ],
   "source": [
    "from IPython.display import Image, display\n",
    "\n",
    "display(Image(graph.get_graph().draw_mermaid_png()))"
   ]
  },
  {
   "cell_type": "code",
   "execution_count": 3,
   "id": "abbef6ca",
   "metadata": {},
   "outputs": [
    {
     "name": "stdout",
     "output_type": "stream",
     "text": [
      "Adding \"A\" to []\n",
      "Adding \"B\" to ['A']\n",
      "Adding \"C\" to ['A']\n",
      "Adding \"D\" to ['A', 'B', 'C']\n"
     ]
    },
    {
     "data": {
      "text/plain": [
       "{'aggregate': ['A', 'B', 'C', 'D']}"
      ]
     },
     "execution_count": 3,
     "metadata": {},
     "output_type": "execute_result"
    }
   ],
   "source": [
    "graph.invoke({\"aggregate\": []}, {\"configurable\": {\"thread_id\": \"foo\"}})"
   ]
  },
  {
   "cell_type": "code",
   "execution_count": 4,
   "id": "6078455d",
   "metadata": {},
   "outputs": [],
   "source": [
    "def b_2(state: State):\n",
    "    print(f'Adding \"B_2\" to {state[\"aggregate\"]}')\n",
    "    return {\"aggregate\": [\"B_2\"]}\n",
    "\n",
    "\n",
    "builder = StateGraph(State)\n",
    "builder.add_node(a)\n",
    "builder.add_node(b)\n",
    "builder.add_node(b_2)\n",
    "builder.add_node(c)\n",
    "builder.add_node(d)\n",
    "builder.add_edge(START, \"a\")\n",
    "builder.add_edge(\"a\", \"b\")\n",
    "builder.add_edge(\"a\", \"c\")\n",
    "builder.add_edge(\"b\", \"b_2\")\n",
    "builder.add_edge([\"b_2\", \"c\"], \"d\")\n",
    "builder.add_edge(\"d\", END)\n",
    "graph = builder.compile()"
   ]
  },
  {
   "cell_type": "code",
   "execution_count": 5,
   "id": "db0d624e",
   "metadata": {},
   "outputs": [
    {
     "data": {
      "image/png": "[encoded data removed]",
      "text/plain": [
       "<IPython.core.display.Image object>"
      ]
     },
     "metadata": {},
     "output_type": "display_data"
    }
   ],
   "source": [
    "from IPython.display import Image, display\n",
    "\n",
    "display(Image(graph.get_graph().draw_mermaid_png()))"
   ]
  },
  {
   "cell_type": "code",
   "execution_count": 6,
   "id": "7bd7ecd7",
   "metadata": {},
   "outputs": [
    {
     "name": "stdout",
     "output_type": "stream",
     "text": [
      "Adding \"A\" to []\n",
      "Adding \"B\" to ['A']\n",
      "Adding \"C\" to ['A']\n",
      "Adding \"B_2\" to ['A', 'B', 'C']\n",
      "Adding \"D\" to ['A', 'B', 'C', 'B_2']\n"
     ]
    },
    {
     "data": {
      "text/plain": [
       "{'aggregate': ['A', 'B', 'C', 'B_2', 'D']}"
      ]
     },
     "execution_count": 6,
     "metadata": {},
     "output_type": "execute_result"
    }
   ],
   "source": [
    "graph.invoke({\"aggregate\": []})"
   ]
  },
  {
   "cell_type": "markdown",
   "id": "b0d25fe4",
   "metadata": {},
   "source": [
    "### Conditional Branching\n",
    "If your fan-out is not deterministic, you can use add_conditional_edges directly."
   ]
  },
  {
   "cell_type": "code",
   "execution_count": 7,
   "id": "e681404b",
   "metadata": {},
   "outputs": [],
   "source": [
    "import operator\n",
    "from typing import Annotated, Sequence\n",
    "\n",
    "from typing_extensions import TypedDict\n",
    "\n",
    "from langgraph.graph import StateGraph, START, END\n",
    "\n",
    "\n",
    "class State(TypedDict):\n",
    "    aggregate: Annotated[list, operator.add]\n",
    "    # Add a key to the state. We will set this key to determine\n",
    "    # how we branch.\n",
    "    which: str\n",
    "\n",
    "\n",
    "def a(state: State):\n",
    "    print(f'Adding \"A\" to {state[\"aggregate\"]}')\n",
    "    return {\"aggregate\": [\"A\"]}\n",
    "\n",
    "\n",
    "def b(state: State):\n",
    "    print(f'Adding \"B\" to {state[\"aggregate\"]}')\n",
    "    return {\"aggregate\": [\"B\"]}\n",
    "\n",
    "\n",
    "def c(state: State):\n",
    "    print(f'Adding \"C\" to {state[\"aggregate\"]}')\n",
    "    return {\"aggregate\": [\"C\"]}\n",
    "\n",
    "\n",
    "def d(state: State):\n",
    "    print(f'Adding \"D\" to {state[\"aggregate\"]}')\n",
    "    return {\"aggregate\": [\"D\"]}\n",
    "\n",
    "\n",
    "def e(state: State):\n",
    "    print(f'Adding \"E\" to {state[\"aggregate\"]}')\n",
    "    return {\"aggregate\": [\"E\"]}\n",
    "\n",
    "\n",
    "builder = StateGraph(State)\n",
    "builder.add_node(a)\n",
    "builder.add_node(b)\n",
    "builder.add_node(c)\n",
    "builder.add_node(d)\n",
    "builder.add_node(e)\n",
    "builder.add_edge(START, \"a\")\n",
    "\n",
    "\n",
    "def route_bc_or_cd(state: State) -> Sequence[str]:\n",
    "    if state[\"which\"] == \"cd\":\n",
    "        return [\"c\", \"d\"]\n",
    "    return [\"b\", \"c\"]\n",
    "\n",
    "\n",
    "intermediates = [\"b\", \"c\", \"d\"]\n",
    "builder.add_conditional_edges(\n",
    "    \"a\",\n",
    "    route_bc_or_cd,\n",
    "    intermediates,\n",
    ")\n",
    "for node in intermediates:\n",
    "    builder.add_edge(node, \"e\")\n",
    "\n",
    "builder.add_edge(\"e\", END)\n",
    "graph = builder.compile()"
   ]
  },
  {
   "cell_type": "code",
   "execution_count": 8,
   "id": "0c82f781",
   "metadata": {},
   "outputs": [
    {
     "data": {
      "image/png": "[encoded data removed]",
      "text/plain": [
       "<IPython.core.display.Image object>"
      ]
     },
     "metadata": {},
     "output_type": "display_data"
    }
   ],
   "source": [
    "from IPython.display import Image, display\n",
    "\n",
    "display(Image(graph.get_graph().draw_mermaid_png()))"
   ]
  },
  {
   "cell_type": "code",
   "execution_count": 9,
   "id": "ebec17f2",
   "metadata": {},
   "outputs": [
    {
     "name": "stdout",
     "output_type": "stream",
     "text": [
      "Adding \"A\" to []\n",
      "Adding \"B\" to ['A']\n",
      "Adding \"C\" to ['A']\n",
      "Adding \"E\" to ['A', 'B', 'C']\n"
     ]
    },
    {
     "data": {
      "text/plain": [
       "{'aggregate': ['A', 'B', 'C', 'E'], 'which': 'bc'}"
      ]
     },
     "execution_count": 9,
     "metadata": {},
     "output_type": "execute_result"
    }
   ],
   "source": [
    "graph.invoke({\"aggregate\": [], \"which\": \"bc\"})"
   ]
  },
  {
   "cell_type": "code",
   "execution_count": 10,
   "id": "e5179afb",
   "metadata": {},
   "outputs": [
    {
     "name": "stdout",
     "output_type": "stream",
     "text": [
      "Adding \"A\" to []\n",
      "Adding \"C\" to ['A']\n",
      "Adding \"D\" to ['A']\n",
      "Adding \"E\" to ['A', 'C', 'D']\n"
     ]
    },
    {
     "data": {
      "text/plain": [
       "{'aggregate': ['A', 'C', 'D', 'E'], 'which': 'cd'}"
      ]
     },
     "execution_count": 10,
     "metadata": {},
     "output_type": "execute_result"
    }
   ],
   "source": [
    "graph.invoke({\"aggregate\": [], \"which\": \"cd\"})"
   ]
  },
  {
   "cell_type": "markdown",
   "id": "c2ff356c",
   "metadata": {},
   "source": [
    "# How to create and control loops"
   ]
  },
  {
   "cell_type": "markdown",
   "id": "67492f86",
   "metadata": {},
   "source": [
    "When creating a loop, you can include a conditional edge that specifies a termination condition:"
   ]
  },
  {
   "cell_type": "code",
   "execution_count": null,
   "id": "20bae64f",
   "metadata": {},
   "outputs": [],
   "source": [
    "from typing_extensions import Literal\n",
    "from langgraph."
   ]
  },
  {
   "cell_type": "code",
   "execution_count": null,
   "id": "2b70c7e2",
   "metadata": {},
   "outputs": [
    {
     "ename": "NameError",
     "evalue": "name 'Literal' is not defined",
     "output_type": "error",
     "traceback": [
      "\u001b[1;31m---------------------------------------------------------------------------\u001b[0m",
      "\u001b[1;31mNameError\u001b[0m                                 Traceback (most recent call last)",
      "Cell \u001b[1;32mIn[16], line 5\u001b[0m\n\u001b[0;32m      2\u001b[0m builder\u001b[38;5;241m.\u001b[39madd_node(a)\n\u001b[0;32m      3\u001b[0m builder\u001b[38;5;241m.\u001b[39madd_node(b)\n\u001b[1;32m----> 5\u001b[0m \u001b[38;5;28;01mdef\u001b[39;00m\u001b[38;5;250m \u001b[39m\u001b[38;5;21mroute\u001b[39m(state: State) \u001b[38;5;241m-\u001b[39m\u001b[38;5;241m>\u001b[39m \u001b[43mLiteral\u001b[49m[\u001b[38;5;124m\"\u001b[39m\u001b[38;5;124mb\u001b[39m\u001b[38;5;124m\"\u001b[39m, END]:\n\u001b[0;32m      6\u001b[0m     \u001b[38;5;28;01mif\u001b[39;00m termination_condition(state):\n\u001b[0;32m      7\u001b[0m         \u001b[38;5;28;01mreturn\u001b[39;00m END\n",
      "\u001b[1;31mNameError\u001b[0m: name 'Literal' is not defined"
     ]
    },
    {
     "ename": "",
     "evalue": "",
     "output_type": "error",
     "traceback": [
      "\u001b[1;31mThe Kernel crashed while executing code in the current cell or a previous cell. \n",
      "\u001b[1;31mPlease review the code in the cell(s) to identify a possible cause of the failure. \n",
      "\u001b[1;31mClick <a href='https://aka.ms/vscodeJupyterKernelCrash'>here</a> for more info. \n",
      "\u001b[1;31mView Jupyter <a href='command:jupyter.viewOutput'>log</a> for further details."
     ]
    }
   ],
   "source": [
    "builder = StateGraph(State)\n",
    "builder.add_node(a)\n",
    "builder.add_node(b)\n",
    "\n",
    "def route(state: State) -> Literal[\"b\", END]:\n",
    "    if termination_condition(state):\n",
    "        return END\n",
    "    else:\n",
    "        return \"a\"\n",
    "\n",
    "builder.add_edge(START, \"a\")\n",
    "builder.add_conditional_edges(\"a\", route)\n",
    "builder.add_edge(\"b\", \"a\")\n",
    "graph = builder.compile()"
   ]
  },
  {
   "cell_type": "code",
   "execution_count": null,
   "id": "56ca89f2",
   "metadata": {},
   "outputs": [],
   "source": []
  }
 ],
 "metadata": {
  "kernelspec": {
   "display_name": "venv",
   "language": "python",
   "name": "python3"
  },
  "language_info": {
   "codemirror_mode": {
    "name": "ipython",
    "version": 3
   },
   "file_extension": ".py",
   "mimetype": "text/x-python",
   "name": "python",
   "nbconvert_exporter": "python",
   "pygments_lexer": "ipython3",
   "version": "3.12.7"
  }
 },
 "nbformat": 4,
 "nbformat_minor": 5
}
