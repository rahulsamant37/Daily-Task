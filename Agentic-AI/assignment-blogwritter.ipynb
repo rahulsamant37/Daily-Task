{
 "cells": [
  {
   "cell_type": "code",
   "execution_count": 1,
   "metadata": {},
   "outputs": [],
   "source": [
    "from langchain_core.messages import AnyMessage\n",
    "from langgraph.graph.message import add_messages\n",
    "from langgraph.graph import StateGraph, START, END\n",
    "from langgraph.prebuilt import ToolNode\n",
    "from langgraph.prebuilt import tools_condition\n",
    "from langchain_core.messages import HumanMessage, SystemMessage\n",
    "from langgraph.graph import MessagesState\n",
    "from langgraph.checkpoint.memory import MemorySaver\n",
    "\n",
    "from pprint import pprint\n",
    "from typing import Annotated\n",
    "from typing_extensions import TypedDict\n",
    "from IPython.display import display, Image\n",
    "import os\n",
    "from dotenv import load_dotenv\n",
    "load_dotenv()\n",
    "\n",
    "os.environ[\"GROQ_API_KEY\"]=os.getenv(\"GROQ_API_KEY\")"
   ]
  },
  {
   "cell_type": "code",
   "execution_count": 2,
   "metadata": {},
   "outputs": [
    {
     "data": {
      "text/plain": [
       "ChatGroq(client=<groq.resources.chat.completions.Completions object at 0x0000028F82257140>, async_client=<groq.resources.chat.completions.AsyncCompletions object at 0x0000028F822D7B30>, model_name='qwen-2.5-32b', model_kwargs={}, groq_api_key=SecretStr('**********'))"
      ]
     },
     "execution_count": 2,
     "metadata": {},
     "output_type": "execute_result"
    }
   ],
   "source": [
    "from langchain_groq import ChatGroq\n",
    "\n",
    "llm=ChatGroq(model=\"qwen-2.5-32b\")\n",
    "llm"
   ]
  },
  {
   "cell_type": "code",
   "execution_count": 3,
   "metadata": {},
   "outputs": [],
   "source": [
    "sys_msg=SystemMessage(content='You are an assistant tasked with creating a catchy, descriptive, and relevant title for any given topic. The title should capture the essence of the topic and be engaging to the audience. Please keep it brief and ensure it aligns with the subject matter provided.')\n",
    "\n",
    "def title_creator(state:MessagesState):\n",
    "    return {'messages':[llm.invoke([sys_msg]+state['messages'])]}"
   ]
  },
  {
   "cell_type": "code",
   "execution_count": 4,
   "metadata": {},
   "outputs": [],
   "source": [
    "sys_msg = SystemMessage(content=\"You are an assistant tasked with generating informative and engaging content for a given title and topic. Your response should provide clear, detailed explanations, examples, and relevant information that elaborates on the subject. Ensure the content is well-organized, coherent, and aligned with the title provided. Aim to educate, inform, or entertain the audience based on the topic's nature.\")\n",
    "\n",
    "def content_writer(state:MessagesState):\n",
    "    return {'messages':[llm.invoke([sys_msg]+state['messages'])]}"
   ]
  },
  {
   "cell_type": "code",
   "execution_count": 5,
   "metadata": {},
   "outputs": [
    {
     "data": {
      "image/png": "[encoded data removed]",
      "text/plain": [
       "<IPython.core.display.Image object>"
      ]
     },
     "metadata": {},
     "output_type": "display_data"
    }
   ],
   "source": [
    "memory= MemorySaver()\n",
    "config={'configurable':{'thread_id':'1'}}\n",
    "## Graph\n",
    "builder2=StateGraph(MessagesState)\n",
    "builder2.add_node(\"title\",title_creator)\n",
    "builder2.add_node(\"content\",content_writer)\n",
    "builder2.add_edge(START,\"title\")\n",
    "builder2.add_edge(\"title\",\"content\")\n",
    "builder2.add_edge(\"content\",END)\n",
    "tool_graph1=builder2.compile(checkpointer=memory)\n",
    "\n",
    "## display\n",
    "display(Image(tool_graph1.get_graph().draw_mermaid_png()))"
   ]
  },
  {
   "cell_type": "code",
   "execution_count": 7,
   "metadata": {},
   "outputs": [
    {
     "name": "stdout",
     "output_type": "stream",
     "text": [
      "================================\u001b[1m Human Message \u001b[0m=================================\n",
      "\n",
      "I need a title for a blog post about the benefits of exercise.\n",
      "==================================\u001b[1m Ai Message \u001b[0m==================================\n",
      "\n",
      "Title: \"Unlocking Health and Happiness: The Transformative Benefits of Regular Exercise\"\n",
      "==================================\u001b[1m Ai Message \u001b[0m==================================\n",
      "\n",
      "That sounds like a great title! Here's a sample blog post based on that title:\n",
      "\n",
      "---\n",
      "\n",
      "## Unlocking Health and Happiness: The Transformative Benefits of Regular Exercise\n",
      "\n",
      "### Introduction\n",
      "\n",
      "Exercise is more than just a way to keep fit or lose weight; it's a powerful tool for enhancing overall health and well-being. From mental clarity to physical strength, the benefits of regular exercise are numerous and profound. This blog post will explore the myriad ways in which exercise can transform your life.\n",
      "\n",
      "### Physical Health Benefits\n",
      "\n",
      "#### Weight Management\n",
      "Regular exercise helps in burning calories and maintaining a healthy weight. A combination of cardiovascular exercises (like running, cycling, or swimming) and strength training can boost metabolism and build muscle mass, leading to a more toned physique.\n",
      "\n",
      "#### Cardiovascular Health\n",
      "Engaging in aerobic activities such as brisk walking, jogging, or cycling can strengthen the heart and improve blood circulation. This reduces the risk of heart disease and stroke, and enhances overall cardiovascular health.\n",
      "\n",
      "#### Bone and Muscle Strength\n",
      "Weight-bearing exercises, such as weightlifting and resistance training, promote bone density and muscle strength. These are crucial for preventing osteoporosis and maintaining mobility as you age.\n",
      "\n",
      "### Mental Health Benefits\n",
      "\n",
      "#### Stress Reduction\n",
      "Exercise is a natural mood booster. Physical activity releases endorphins, the body’s natural feel-good chemicals, which help in reducing stress and anxiety. A short walk or a quick workout session can significantly improve your mood and energy levels.\n",
      "\n",
      "#### Cognitive Function\n",
      "Regular physical activity has been shown to improve cognitive function. It enhances memory, attention, and the ability to process information. Exercise stimulates the brain to release growth factors that help create new brain cells and support brain health.\n",
      "\n",
      "#### Sleep Quality\n",
      "Engaging in regular physical activity can help you fall asleep faster and deepen your sleep. However, it's important to avoid vigorous exercise close to bedtime as it might have the opposite effect.\n",
      "\n",
      "### Social and Emotional Benefits\n",
      "\n",
      "#### Social Interaction\n",
      "Joining a fitness class or a sports team can provide opportunities for social interaction and networking. These interactions can help build a support system and foster a sense of community and belonging.\n",
      "\n",
      "#### Self-Esteem and Confidence\n",
      "Achieving fitness goals, such as running a 5K or lifting a heavier weight, can significantly boost self-esteem and confidence. Regular exercise can help you develop a positive body image and a sense of accomplishment.\n",
      "\n",
      "### Long-Term Health Benefits\n",
      "\n",
      "#### Chronic Disease Prevention\n",
      "Regular physical activity is a powerful way to prevent and manage chronic conditions such as Type 2 diabetes, high blood pressure, and high cholesterol. It also reduces the risk of certain types of cancer.\n",
      "\n",
      "#### Longevity\n",
      "Research has shown that regular physical activity can extend life expectancy and improve the quality of life in older adults. It can help maintain independence and mobility, making daily activities easier as you age.\n",
      "\n",
      "### Conclusion\n",
      "\n",
      "Incorporating regular exercise into your lifestyle is one of the most effective ways to improve your physical and mental health. Whether it's a brisk walk, a dance class, or a session at the gym, finding a form of exercise that you enjoy and can stick with can have lasting benefits. So, lace up those sneakers and take the first step towards unlocking a happier, healthier you!\n",
      "\n",
      "---\n",
      "\n",
      "This post aims to provide a comprehensive overview of the benefits of exercise, encouraging readers to take the initiative to integrate physical activity into their daily lives.\n"
     ]
    }
   ],
   "source": [
    "events = tool_graph1.stream(\n",
    "    {\"messages\": [{\"role\": \"user\", \"content\": \"I need a title for a blog post about the benefits of exercise.\"}]},\n",
    "    config,\n",
    "    stream_mode=\"values\",\n",
    ")\n",
    "for event in events:\n",
    "    event[\"messages\"][-1].pretty_print()"
   ]
  },
  {
   "cell_type": "code",
   "execution_count": null,
   "metadata": {},
   "outputs": [],
   "source": []
  },
  {
   "cell_type": "code",
   "execution_count": null,
   "metadata": {},
   "outputs": [],
   "source": []
  },
  {
   "cell_type": "code",
   "execution_count": null,
   "metadata": {},
   "outputs": [],
   "source": []
  }
 ],
 "metadata": {
  "kernelspec": {
   "display_name": "venv",
   "language": "python",
   "name": "python3"
  },
  "language_info": {
   "codemirror_mode": {
    "name": "ipython",
    "version": 3
   },
   "file_extension": ".py",
   "mimetype": "text/x-python",
   "name": "python",
   "nbconvert_exporter": "python",
   "pygments_lexer": "ipython3",
   "version": "3.12.7"
  }
 },
 "nbformat": 4,
 "nbformat_minor": 2
}
