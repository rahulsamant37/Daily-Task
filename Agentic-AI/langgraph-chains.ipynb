{
 "cells": [
  {
   "cell_type": "code",
   "execution_count": 1,
   "metadata": {},
   "outputs": [
    {
     "name": "stdout",
     "output_type": "stream",
     "text": [
      "==================================\u001b[1m Ai Message \u001b[0m==================================\n",
      "Name: Model\n",
      "\n",
      "So you said you are learning about langgraph?\n",
      "================================\u001b[1m Human Message \u001b[0m=================================\n",
      "Name: Rahul\n",
      "\n",
      "Yes, that's right\n",
      "==================================\u001b[1m Ai Message \u001b[0m==================================\n",
      "Name: Model\n",
      "\n",
      "Great, What would you like to learn about it.\n",
      "================================\u001b[1m Human Message \u001b[0m=================================\n",
      "Name: Rahul\n",
      "\n",
      "I would love to learn how its basic working works.\n"
     ]
    }
   ],
   "source": [
    "from pprint import pprint\n",
    "from langchain_core.messages import AIMessage, HumanMessage\n",
    "\n",
    "messages = [AIMessage(content=f\"So you said you are learning about langgraph?\", name=\"Model\")]\n",
    "messages.append(HumanMessage(content=f\"Yes, that's right\", name=\"Rahul\"))\n",
    "messages.append(AIMessage(content=f\"Great, What would you like to learn about it.\", name=\"Model\"))\n",
    "messages.append(HumanMessage(content=f\"I would love to learn how its basic working works.\", name=\"Rahul\"))\n",
    "\n",
    "for m in messages:\n",
    "    m.pretty_print()"
   ]
  },
  {
   "cell_type": "code",
   "execution_count": 2,
   "metadata": {},
   "outputs": [],
   "source": [
    "import os\n",
    "from dotenv import load_dotenv\n",
    "load_dotenv()\n",
    "\n",
    "os.environ[\"GROQ_API_KEY\"]=os.getenv(\"GROQ_API_KEY\")"
   ]
  },
  {
   "cell_type": "code",
   "execution_count": 3,
   "metadata": {},
   "outputs": [
    {
     "data": {
      "text/plain": [
       "AIMessage(content='It seems there might be a bit of confusion as \"langgraph\" isn\\'t a widely recognized term in the fields of computer science, linguistics, or technology. Could you provide more context or clarify what you mean by \"langgraph\"? It could be a specific tool, a research concept, or a term used in a particular community. If it\\'s related to language processing, graphs, or another specific area, giving more details would help in providing a more accurate and helpful explanation.', additional_kwargs={}, response_metadata={'token_usage': {'completion_tokens': 98, 'prompt_tokens': 86, 'total_tokens': 184, 'completion_time': 0.24680239, 'prompt_time': 0.006499669, 'queue_time': 0.021714509, 'total_time': 0.253302059}, 'model_name': 'qwen-2.5-32b', 'system_fingerprint': 'fp_7b9ecfcd5f', 'finish_reason': 'stop', 'logprobs': None}, id='run-e221da09-d29a-435f-967e-3cdfc9db175d-0', usage_metadata={'input_tokens': 86, 'output_tokens': 98, 'total_tokens': 184})"
      ]
     },
     "execution_count": 3,
     "metadata": {},
     "output_type": "execute_result"
    }
   ],
   "source": [
    "from langchain_groq import ChatGroq\n",
    "\n",
    "llm=ChatGroq(model=\"qwen-2.5-32b\")\n",
    "result=llm.invoke(messages)\n",
    "result"
   ]
  },
  {
   "cell_type": "code",
   "execution_count": 4,
   "metadata": {},
   "outputs": [],
   "source": [
    "def add(a:int,b:int)->int:\n",
    "    \"\"\"\n",
    "    add a to b\n",
    "    \"\"\"\n",
    "    return a+b"
   ]
  },
  {
   "cell_type": "code",
   "execution_count": 5,
   "metadata": {},
   "outputs": [],
   "source": [
    "llm_with_tools=llm.bind_tools([add])"
   ]
  },
  {
   "cell_type": "code",
   "execution_count": 6,
   "metadata": {},
   "outputs": [
    {
     "data": {
      "text/plain": [
       "AIMessage(content='', additional_kwargs={'tool_calls': [{'id': 'call_zy7t', 'function': {'arguments': '{\"a\": 2, \"b\": 3}', 'name': 'add'}, 'type': 'function'}]}, response_metadata={'token_usage': {'completion_tokens': 25, 'prompt_tokens': 178, 'total_tokens': 203, 'completion_time': 0.062943119, 'prompt_time': 0.011307436, 'queue_time': 0.019456980999999998, 'total_time': 0.074250555}, 'model_name': 'qwen-2.5-32b', 'system_fingerprint': 'fp_7b9ecfcd5f', 'finish_reason': 'tool_calls', 'logprobs': None}, id='run-45e56628-7a8a-4c49-af02-14cde54a4491-0', tool_calls=[{'name': 'add', 'args': {'a': 2, 'b': 3}, 'id': 'call_zy7t', 'type': 'tool_call'}], usage_metadata={'input_tokens': 178, 'output_tokens': 25, 'total_tokens': 203})"
      ]
     },
     "execution_count": 6,
     "metadata": {},
     "output_type": "execute_result"
    }
   ],
   "source": [
    "tool_call=llm_with_tools.invoke([HumanMessage(content=f\"What is 2 plus 3\", name=\"Rahul\")])\n",
    "tool_call"
   ]
  },
  {
   "cell_type": "code",
   "execution_count": 7,
   "metadata": {},
   "outputs": [
    {
     "data": {
      "text/plain": [
       "[{'name': 'add',\n",
       "  'args': {'a': 2, 'b': 3},\n",
       "  'id': 'call_zy7t',\n",
       "  'type': 'tool_call'}]"
      ]
     },
     "execution_count": 7,
     "metadata": {},
     "output_type": "execute_result"
    }
   ],
   "source": [
    "tool_call.tool_calls"
   ]
  },
  {
   "cell_type": "code",
   "execution_count": 8,
   "metadata": {},
   "outputs": [],
   "source": [
    "from typing import Annotated\n",
    "from typing_extensions import TypedDict\n",
    "from langchain_core.messages import AnyMessage\n",
    "from langgraph.graph.message import add_messages\n",
    "\n",
    "class MesssageState(TypedDict):\n",
    "    messages: Annotated[list[AnyMessage],add_messages]"
   ]
  },
  {
   "cell_type": "code",
   "execution_count": 9,
   "metadata": {},
   "outputs": [
    {
     "data": {
      "text/plain": [
       "[AIMessage(content='Hello! How can I assist you?', additional_kwargs={}, response_metadata={}, name='Model', id='f9dbbaf1-6111-4c71-81c0-f7d128c1b48f'),\n",
       " HumanMessage(content=\"I'm looking for information about India's got latent\", additional_kwargs={}, response_metadata={}, name='Rahul', id='fb2f36c5-4360-4f32-acc6-ad763d7e30fc'),\n",
       " AIMessage(content='Sure, I can help you with that. What specifically are you interested in?', additional_kwargs={}, response_metadata={}, name='Model', id='e4be56aa-0e34-4cdd-ada0-9aac6c098eb3')]"
      ]
     },
     "execution_count": 9,
     "metadata": {},
     "output_type": "execute_result"
    }
   ],
   "source": [
    "initial_message=[\n",
    "    AIMessage(content=\"Hello! How can I assist you?\", name=\"Model\"),\n",
    "    HumanMessage(content=\"I'm looking for information about India's got latent\", name=\"Rahul\")\n",
    "]\n",
    "## New message to add\n",
    "new_messaage= AIMessage(content=\"Sure, I can help you with that. What specifically are you interested in?\", name=\"Model\")\n",
    "\n",
    "add_messages(initial_message, new_messaage)"
   ]
  },
  {
   "cell_type": "code",
   "execution_count": 10,
   "metadata": {},
   "outputs": [
    {
     "data": {
      "image/png": "[encoded data removed]",
      "text/plain": [
       "<IPython.core.display.Image object>"
      ]
     },
     "metadata": {},
     "output_type": "display_data"
    }
   ],
   "source": [
    "from IPython.display import display, Image\n",
    "from langgraph.graph import StateGraph,START,END\n",
    "\n",
    "def tool_llm_calling(state:MesssageState):\n",
    "    return {\"messages\":[llm_with_tools.invoke(state['messages'])]}\n",
    "\n",
    "## BUild graph\n",
    "builder=StateGraph(MesssageState)\n",
    "builder.add_node(\"llm_calling\",tool_llm_calling)\n",
    "builder.add_edge(START,\"llm_calling\")\n",
    "builder.add_edge(\"llm_calling\",END)\n",
    "graph=builder.compile()\n",
    "\n",
    "## Display\n",
    "display(Image(graph.get_graph().draw_mermaid_png()))"
   ]
  },
  {
   "cell_type": "code",
   "execution_count": 11,
   "metadata": {},
   "outputs": [
    {
     "name": "stdout",
     "output_type": "stream",
     "text": [
      "================================\u001b[1m Human Message \u001b[0m=================================\n",
      "\n",
      "Hello,my name is Rahul\n",
      "==================================\u001b[1m Ai Message \u001b[0m==================================\n",
      "\n",
      "Hello Rahul! It's nice to meet you. How can I assist you today?\n"
     ]
    }
   ],
   "source": [
    "messages=graph.invoke({\"messages\":HumanMessage(content=\"Hello,my name is Rahul\")})\n",
    "for m in messages['messages']:\n",
    "    m.pretty_print()"
   ]
  },
  {
   "cell_type": "code",
   "execution_count": 12,
   "metadata": {},
   "outputs": [
    {
     "name": "stdout",
     "output_type": "stream",
     "text": [
      "================================\u001b[1m Human Message \u001b[0m=================================\n",
      "\n",
      "What is 2 plus 3\n",
      "==================================\u001b[1m Ai Message \u001b[0m==================================\n",
      "Tool Calls:\n",
      "  add (call_9nrb)\n",
      " Call ID: call_9nrb\n",
      "  Args:\n",
      "    a: 2\n",
      "    b: 3\n"
     ]
    }
   ],
   "source": [
    "messages=graph.invoke({\"messages\":HumanMessage(content=\"What is 2 plus 3\")})\n",
    "for m in messages['messages']:\n",
    "    m.pretty_print()"
   ]
  },
  {
   "cell_type": "code",
   "execution_count": 13,
   "metadata": {},
   "outputs": [],
   "source": [
    "def multiply(a:int,b:int)->int:\n",
    "    \"\"\"\n",
    "    Multiply a to b\n",
    "    \"\"\"\n",
    "    return a*b"
   ]
  },
  {
   "cell_type": "code",
   "execution_count": 14,
   "metadata": {},
   "outputs": [],
   "source": [
    "llm_with_tools=llm.bind_tools([multiply,add])"
   ]
  },
  {
   "cell_type": "code",
   "execution_count": 15,
   "metadata": {},
   "outputs": [],
   "source": [
    "from IPython.display import display, Image\n",
    "from langgraph.graph import StateGraph, START, END\n",
    "from langgraph.graph import MessagesState\n",
    "\n",
    "def tool_llm_calling(state:MesssageState):\n",
    "    return {\"messages\":[llm_with_tools.invoke(state['messages'])]}"
   ]
  },
  {
   "cell_type": "code",
   "execution_count": 16,
   "metadata": {},
   "outputs": [],
   "source": [
    "from langgraph.prebuilt import ToolNode\n",
    "from langgraph.prebuilt import tools_condition"
   ]
  },
  {
   "cell_type": "code",
   "execution_count": 17,
   "metadata": {},
   "outputs": [
    {
     "data": {
      "image/png": "[encoded data removed]",
      "text/plain": [
       "<IPython.core.display.Image object>"
      ]
     },
     "metadata": {},
     "output_type": "display_data"
    }
   ],
   "source": [
    "## Graph\n",
    "builder1=StateGraph(MessagesState)\n",
    "builder1.add_node(\"llm\",tool_llm_calling)\n",
    "builder1.add_node(\"tools\",ToolNode([multiply,add]))\n",
    "builder1.add_edge(START,\"llm\")\n",
    "builder1.add_conditional_edges(\n",
    "    \"llm\",\n",
    "    ## If the latest message (result) from assistant is a tool call -> tools_condition routes to tools\n",
    "    ## IF the latest message (result) from assistant is not a tool call -> tools_condition routes to END\n",
    "    tools_condition,\n",
    ")\n",
    "builder1.add_edge(\"tools\",END)\n",
    "tool_graph=builder1.compile()\n",
    "\n",
    "## display\n",
    "display(Image(tool_graph.get_graph().draw_mermaid_png()))"
   ]
  },
  {
   "cell_type": "code",
   "execution_count": 18,
   "metadata": {},
   "outputs": [
    {
     "name": "stdout",
     "output_type": "stream",
     "text": [
      "================================\u001b[1m Human Message \u001b[0m=================================\n",
      "\n",
      "what is 2*3 and then add 4 to 5?\n",
      "==================================\u001b[1m Ai Message \u001b[0m==================================\n",
      "Tool Calls:\n",
      "  multiply (call_mzb8)\n",
      " Call ID: call_mzb8\n",
      "  Args:\n",
      "    a: 2\n",
      "    b: 3\n",
      "  add (call_cn51)\n",
      " Call ID: call_cn51\n",
      "  Args:\n",
      "    a: 4\n",
      "    b: 5\n",
      "=================================\u001b[1m Tool Message \u001b[0m=================================\n",
      "Name: multiply\n",
      "\n",
      "6\n",
      "=================================\u001b[1m Tool Message \u001b[0m=================================\n",
      "Name: add\n",
      "\n",
      "9\n"
     ]
    }
   ],
   "source": [
    "messages=tool_graph.invoke({\"messages\":HumanMessage(content=\"what is 2*3 and then add 4 to 5?\")})\n",
    "for m in messages['messages']:\n",
    "    m.pretty_print()"
   ]
  },
  {
   "cell_type": "code",
   "execution_count": 19,
   "metadata": {},
   "outputs": [
    {
     "name": "stdout",
     "output_type": "stream",
     "text": [
      "================================\u001b[1m Human Message \u001b[0m=================================\n",
      "\n",
      "Who is Samay raina?\n",
      "==================================\u001b[1m Ai Message \u001b[0m==================================\n",
      "\n",
      "Samay Raina is an Indian-American actor, filmmaker, and comedian. He is known for his web series \"Samay Over It,\" which features sketches and commentary on current events and social issues. If you need more specific information about Samay Raina, please let me know!\n"
     ]
    }
   ],
   "source": [
    "messages=tool_graph.invoke({\"messages\":HumanMessage(content=\"Who is Samay raina?\")})\n",
    "for m in messages['messages']:\n",
    "    m.pretty_print()"
   ]
  },
  {
   "cell_type": "code",
   "execution_count": 21,
   "metadata": {},
   "outputs": [
    {
     "data": {
      "image/png": "[encoded data removed]",
      "text/plain": [
       "<IPython.core.display.Image object>"
      ]
     },
     "metadata": {},
     "output_type": "display_data"
    }
   ],
   "source": [
    "## Graph\n",
    "builder2=StateGraph(MessagesState)\n",
    "builder2.add_node(\"llm\",tool_llm_calling)\n",
    "builder2.add_node(\"tools\",ToolNode([multiply,add]))\n",
    "builder2.add_edge(START,\"llm\")\n",
    "builder2.add_conditional_edges(\n",
    "    \"llm\",\n",
    "    ## If the latest message (result) from assistant is a tool call -> tools_condition routes to tools\n",
    "    ## IF the latest message (result) from assistant is not a tool call -> tools_condition routes to END\n",
    "    tools_condition,\n",
    ")\n",
    "builder2.add_edge(\"tools\",\"llm\")\n",
    "tool_graph1=builder2.compile()\n",
    "\n",
    "## display\n",
    "display(Image(tool_graph1.get_graph().draw_mermaid_png()))"
   ]
  },
  {
   "cell_type": "code",
   "execution_count": 23,
   "metadata": {},
   "outputs": [
    {
     "name": "stdout",
     "output_type": "stream",
     "text": [
      "================================\u001b[1m Human Message \u001b[0m=================================\n",
      "\n",
      "what is 2*3 and then add 4 and then multiply by 10?\n",
      "==================================\u001b[1m Ai Message \u001b[0m==================================\n",
      "Tool Calls:\n",
      "  multiply (call_1hhn)\n",
      " Call ID: call_1hhn\n",
      "  Args:\n",
      "    a: 2\n",
      "    b: 3\n",
      "  add (call_zmd3)\n",
      " Call ID: call_zmd3\n",
      "  Args:\n",
      "    a: 6\n",
      "    b: 4\n",
      "  multiply (call_y6ge)\n",
      " Call ID: call_y6ge\n",
      "  Args:\n",
      "    a: 10\n",
      "    b: 10\n",
      "=================================\u001b[1m Tool Message \u001b[0m=================================\n",
      "Name: multiply\n",
      "\n",
      "6\n",
      "=================================\u001b[1m Tool Message \u001b[0m=================================\n",
      "Name: add\n",
      "\n",
      "10\n",
      "=================================\u001b[1m Tool Message \u001b[0m=================================\n",
      "Name: multiply\n",
      "\n",
      "100\n",
      "==================================\u001b[1m Ai Message \u001b[0m==================================\n",
      "\n",
      "The result of 2*3 is 6. Then, adding 4 to 6 gives us 10. Finally, multiplying 10 by 10 results in 100. So, the final answer is 100.\n"
     ]
    }
   ],
   "source": [
    "messages=tool_graph1.invoke({\"messages\":HumanMessage(content=\"what is 2*3 and then add 4 and then multiply by 10?\")})\n",
    "for m in messages['messages']:\n",
    "    m.pretty_print()"
   ]
  },
  {
   "cell_type": "code",
   "execution_count": null,
   "metadata": {},
   "outputs": [],
   "source": []
  }
 ],
 "metadata": {
  "kernelspec": {
   "display_name": "Python 3",
   "language": "python",
   "name": "python3"
  },
  "language_info": {
   "codemirror_mode": {
    "name": "ipython",
    "version": 3
   },
   "file_extension": ".py",
   "mimetype": "text/x-python",
   "name": "python",
   "nbconvert_exporter": "python",
   "pygments_lexer": "ipython3",
   "version": "3.12.1"
  }
 },
 "nbformat": 4,
 "nbformat_minor": 2
}
