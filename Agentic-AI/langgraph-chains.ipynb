{
 "cells": [
  {
   "cell_type": "code",
   "execution_count": 21,
   "metadata": {},
   "outputs": [
    {
     "name": "stdout",
     "output_type": "stream",
     "text": [
      "==================================\u001b[1m Ai Message \u001b[0m==================================\n",
      "Name: Model\n",
      "\n",
      "So you said you are learning about langgraph?\n",
      "================================\u001b[1m Human Message \u001b[0m=================================\n",
      "Name: Rahul\n",
      "\n",
      "Yes, that's right\n",
      "==================================\u001b[1m Ai Message \u001b[0m==================================\n",
      "Name: Model\n",
      "\n",
      "Great, What would you like to learn about it.\n",
      "================================\u001b[1m Human Message \u001b[0m=================================\n",
      "Name: Rahul\n",
      "\n",
      "I would love to learn how its basic working works.\n"
     ]
    }
   ],
   "source": [
    "from pprint import pprint\n",
    "from langchain_core.messages import AIMessage, HumanMessage\n",
    "\n",
    "messages = [AIMessage(content=f\"So you said you are learning about langgraph?\", name=\"Model\")]\n",
    "messages.append(HumanMessage(content=f\"Yes, that's right\", name=\"Rahul\"))\n",
    "messages.append(AIMessage(content=f\"Great, What would you like to learn about it.\", name=\"Model\"))\n",
    "messages.append(HumanMessage(content=f\"I would love to learn how its basic working works.\", name=\"Rahul\"))\n",
    "\n",
    "for m in messages:\n",
    "    m.pretty_print()"
   ]
  },
  {
   "cell_type": "code",
   "execution_count": 5,
   "metadata": {},
   "outputs": [],
   "source": [
    "import os\n",
    "from dotenv import load_dotenv\n",
    "load_dotenv()\n",
    "\n",
    "os.environ[\"GROQ_API_KEY\"]=os.getenv(\"GROQ_API_KEY\")"
   ]
  },
  {
   "cell_type": "code",
   "execution_count": 7,
   "metadata": {},
   "outputs": [
    {
     "data": {
      "text/plain": [
       "AIMessage(content='It seems there might be a slight confusion, as \"langgraph\" does not seem to be a widely recognized term or technology based on the current information available. It\\'s possible that you might be referring to a specific project, tool, or concept that is either very new or specific to a certain field or community.\\n\\nIf you could provide more context or detail about what \"langgraph\" refers to, I would be more than happy to help you understand how it works and its applications. Could you clarify or provide more details about the context in which you encountered the term \"langgraph\"?', additional_kwargs={}, response_metadata={'token_usage': {'completion_tokens': 118, 'prompt_tokens': 86, 'total_tokens': 204, 'completion_time': 0.298079775, 'prompt_time': 0.006455696, 'queue_time': 0.02439701, 'total_time': 0.304535471}, 'model_name': 'qwen-2.5-32b', 'system_fingerprint': 'fp_7b9ecfcd5f', 'finish_reason': 'stop', 'logprobs': None}, id='run-5b3201a8-1d59-4303-ad42-2b220343c70f-0', usage_metadata={'input_tokens': 86, 'output_tokens': 118, 'total_tokens': 204})"
      ]
     },
     "execution_count": 7,
     "metadata": {},
     "output_type": "execute_result"
    }
   ],
   "source": [
    "from langchain_groq import ChatGroq\n",
    "\n",
    "llm=ChatGroq(model=\"qwen-2.5-32b\")\n",
    "result=llm.invoke(messages)\n",
    "result"
   ]
  },
  {
   "cell_type": "code",
   "execution_count": 53,
   "metadata": {},
   "outputs": [],
   "source": [
    "def add(a:int,b:int)->int:\n",
    "    \"\"\"\n",
    "    add a to b\n",
    "    \"\"\"\n",
    "    return a+b"
   ]
  },
  {
   "cell_type": "code",
   "execution_count": 9,
   "metadata": {},
   "outputs": [],
   "source": [
    "llm_with_tools=llm.bind_tools([add])"
   ]
  },
  {
   "cell_type": "code",
   "execution_count": 22,
   "metadata": {},
   "outputs": [
    {
     "data": {
      "text/plain": [
       "AIMessage(content='', additional_kwargs={'tool_calls': [{'id': 'call_p5h4', 'function': {'arguments': '{\"a\": 2, \"b\": 3}', 'name': 'add'}, 'type': 'function'}]}, response_metadata={'token_usage': {'completion_tokens': 25, 'prompt_tokens': 173, 'total_tokens': 198, 'completion_time': 0.062844284, 'prompt_time': 0.010378342, 'queue_time': 0.022053041000000002, 'total_time': 0.073222626}, 'model_name': 'qwen-2.5-32b', 'system_fingerprint': 'fp_7b9ecfcd5f', 'finish_reason': 'tool_calls', 'logprobs': None}, id='run-abf160b8-0272-4065-9e92-7bbcfb817833-0', tool_calls=[{'name': 'add', 'args': {'a': 2, 'b': 3}, 'id': 'call_p5h4', 'type': 'tool_call'}], usage_metadata={'input_tokens': 173, 'output_tokens': 25, 'total_tokens': 198})"
      ]
     },
     "execution_count": 22,
     "metadata": {},
     "output_type": "execute_result"
    }
   ],
   "source": [
    "tool_call=llm_with_tools.invoke([HumanMessage(content=f\"What is 2 plus 3\", name=\"Rahul\")])\n",
    "tool_call"
   ]
  },
  {
   "cell_type": "code",
   "execution_count": 19,
   "metadata": {},
   "outputs": [
    {
     "data": {
      "text/plain": [
       "[{'name': 'add',\n",
       "  'args': {'a': 2, 'b': 3},\n",
       "  'id': 'call_7k3v',\n",
       "  'type': 'tool_call'}]"
      ]
     },
     "execution_count": 19,
     "metadata": {},
     "output_type": "execute_result"
    }
   ],
   "source": [
    "tool_call.tool_calls"
   ]
  },
  {
   "cell_type": "code",
   "execution_count": 20,
   "metadata": {},
   "outputs": [],
   "source": [
    "from typing import Annotated\n",
    "from typing_extensions import TypedDict\n",
    "from langchain_core.messages import AnyMessage\n",
    "from langgraph.graph.message import add_messages\n",
    "\n",
    "class MesssageState(TypedDict):\n",
    "    messages: Annotated[list[AnyMessage],add_messages]"
   ]
  },
  {
   "cell_type": "code",
   "execution_count": 23,
   "metadata": {},
   "outputs": [
    {
     "data": {
      "text/plain": [
       "[AIMessage(content='Hello! How can I assist you?', additional_kwargs={}, response_metadata={}, name='Model', id='1065cf0e-428f-40e0-9cfb-5f1faa96793b'),\n",
       " HumanMessage(content=\"I'm looking for information about India's got latent\", additional_kwargs={}, response_metadata={}, name='Rahul', id='5c1e4715-06f1-4d6f-a040-ee43081ad1fa'),\n",
       " AIMessage(content='Sure, I can help you with that. What specifically are you interested in?', additional_kwargs={}, response_metadata={}, name='Model', id='06d51a42-234b-4137-beea-fbc44c63f48c')]"
      ]
     },
     "execution_count": 23,
     "metadata": {},
     "output_type": "execute_result"
    }
   ],
   "source": [
    "initial_message=[\n",
    "    AIMessage(content=\"Hello! How can I assist you?\", name=\"Model\"),\n",
    "    HumanMessage(content=\"I'm looking for information about India's got latent\", name=\"Rahul\")\n",
    "]\n",
    "## New message to add\n",
    "new_messaage= AIMessage(content=\"Sure, I can help you with that. What specifically are you interested in?\", name=\"Model\")\n",
    "\n",
    "add_messages(initial_message, new_messaage)"
   ]
  },
  {
   "cell_type": "code",
   "execution_count": 25,
   "metadata": {},
   "outputs": [
    {
     "data": {
      "image/png": "[encoded data removed]",
      "text/plain": [
       "<IPython.core.display.Image object>"
      ]
     },
     "metadata": {},
     "output_type": "display_data"
    }
   ],
   "source": [
    "from IPython.display import display, Image\n",
    "from langgraph.graph import StateGraph,START,END\n",
    "\n",
    "def tool_llm_calling(state:MesssageState):\n",
    "    return {\"messages\":[llm_with_tools.invoke(state['messages'])]}\n",
    "\n",
    "## BUild graph\n",
    "builder=StateGraph(MesssageState)\n",
    "builder.add_node(\"llm_calling\",tool_llm_calling)\n",
    "builder.add_edge(START,\"llm_calling\")\n",
    "builder.add_edge(\"llm_calling\",END)\n",
    "graph=builder.compile()\n",
    "\n",
    "## Display\n",
    "display(Image(graph.get_graph().draw_mermaid_png()))"
   ]
  },
  {
   "cell_type": "code",
   "execution_count": 26,
   "metadata": {},
   "outputs": [
    {
     "name": "stdout",
     "output_type": "stream",
     "text": [
      "================================\u001b[1m Human Message \u001b[0m=================================\n",
      "\n",
      "Hello,my name is Rahul\n",
      "==================================\u001b[1m Ai Message \u001b[0m==================================\n",
      "\n",
      "Hello Rahul! It's nice to meet you. How can I assist you today?\n"
     ]
    }
   ],
   "source": [
    "messages=graph.invoke({\"messages\":HumanMessage(content=\"Hello,my name is Rahul\")})\n",
    "for m in messages['messages']:\n",
    "    m.pretty_print()"
   ]
  },
  {
   "cell_type": "code",
   "execution_count": 27,
   "metadata": {},
   "outputs": [
    {
     "name": "stdout",
     "output_type": "stream",
     "text": [
      "================================\u001b[1m Human Message \u001b[0m=================================\n",
      "\n",
      "What is 2 plus 3\n",
      "==================================\u001b[1m Ai Message \u001b[0m==================================\n",
      "Tool Calls:\n",
      "  add (call_rt4a)\n",
      " Call ID: call_rt4a\n",
      "  Args:\n",
      "    a: 2\n",
      "    b: 3\n"
     ]
    }
   ],
   "source": [
    "messages=graph.invoke({\"messages\":HumanMessage(content=\"What is 2 plus 3\")})\n",
    "for m in messages['messages']:\n",
    "    m.pretty_print()"
   ]
  },
  {
   "cell_type": "code",
   "execution_count": 28,
   "metadata": {},
   "outputs": [],
   "source": [
    "def multiply(a:int,b:int)->int:\n",
    "    \"\"\"\n",
    "    Multiply a to b\n",
    "    \"\"\"\n",
    "    return a*b"
   ]
  },
  {
   "cell_type": "code",
   "execution_count": 60,
   "metadata": {},
   "outputs": [],
   "source": [
    "llm_with_tools=llm.bind_tools([multiply,add])"
   ]
  },
  {
   "cell_type": "code",
   "execution_count": 61,
   "metadata": {},
   "outputs": [],
   "source": [
    "from IPython.display import display, Image\n",
    "from langgraph.graph import StateGraph, START, END\n",
    "from langgraph.graph import MessagesState\n",
    "\n",
    "def tool_llm_calling(state:MesssageState):\n",
    "    return {\"messages\":[llm_with_tools.invoke(state['messages'])]}"
   ]
  },
  {
   "cell_type": "code",
   "execution_count": 62,
   "metadata": {},
   "outputs": [],
   "source": [
    "from langgraph.prebuilt import ToolNode\n",
    "from langgraph.prebuilt import tools_condition"
   ]
  },
  {
   "cell_type": "code",
   "execution_count": 63,
   "metadata": {},
   "outputs": [
    {
     "data": {
      "image/png": "[encoded data removed]",
      "text/plain": [
       "<IPython.core.display.Image object>"
      ]
     },
     "metadata": {},
     "output_type": "display_data"
    }
   ],
   "source": [
    "## Graph\n",
    "builder1=StateGraph(MessagesState)\n",
    "builder1.add_node(\"llm\",tool_llm_calling)\n",
    "builder1.add_node(\"tools\",ToolNode([multiply,add]))\n",
    "builder1.add_edge(START,\"llm\")\n",
    "builder1.add_conditional_edges(\n",
    "    \"llm\",\n",
    "    ## If the latest message (result) from assistant is a tool call -> tools_condition routes to tools\n",
    "    ## IF the latest message (result) from assistant is not a tool call -> tools_condition routes to END\n",
    "    tools_condition,\n",
    ")\n",
    "builder1.add_edge(\"tools\",END)\n",
    "tool_graph=builder1.compile()\n",
    "\n",
    "## display\n",
    "display(Image(tool_graph.get_graph().draw_mermaid_png()))"
   ]
  },
  {
   "cell_type": "code",
   "execution_count": 64,
   "metadata": {},
   "outputs": [
    {
     "name": "stdout",
     "output_type": "stream",
     "text": [
      "================================\u001b[1m Human Message \u001b[0m=================================\n",
      "\n",
      "what is 2*3 and then add 4 to 5?\n",
      "==================================\u001b[1m Ai Message \u001b[0m==================================\n",
      "Tool Calls:\n",
      "  multiply (call_2zqh)\n",
      " Call ID: call_2zqh\n",
      "  Args:\n",
      "    a: 2\n",
      "    b: 3\n",
      "  add (call_vpnb)\n",
      " Call ID: call_vpnb\n",
      "  Args:\n",
      "    a: 4\n",
      "    b: 5\n",
      "=================================\u001b[1m Tool Message \u001b[0m=================================\n",
      "Name: multiply\n",
      "\n",
      "6\n",
      "=================================\u001b[1m Tool Message \u001b[0m=================================\n",
      "Name: add\n",
      "\n",
      "9\n"
     ]
    }
   ],
   "source": [
    "messages=tool_graph.invoke({\"messages\":HumanMessage(content=\"what is 2*3 and then add 4 to 5?\")})\n",
    "for m in messages['messages']:\n",
    "    m.pretty_print()"
   ]
  },
  {
   "cell_type": "code",
   "execution_count": 57,
   "metadata": {},
   "outputs": [
    {
     "name": "stdout",
     "output_type": "stream",
     "text": [
      "================================\u001b[1m Human Message \u001b[0m=================================\n",
      "\n",
      "Who is Samay raina?\n",
      "==================================\u001b[1m Ai Message \u001b[0m==================================\n",
      "\n",
      "Samay Raina is a name that might refer to a specific individual, but without more context, it's difficult to provide accurate information. There isn't widely known public figure with this name. Could you provide more details about the Samay Raina you're asking about, such as their field of work, nationality, or any other identifying information?\n"
     ]
    }
   ],
   "source": [
    "messages=tool_graph.invoke({\"messages\":HumanMessage(content=\"Who is Samay raina?\")})\n",
    "for m in messages['messages']:\n",
    "    m.pretty_print()"
   ]
  },
  {
   "cell_type": "code",
   "execution_count": null,
   "metadata": {},
   "outputs": [],
   "source": []
  }
 ],
 "metadata": {
  "kernelspec": {
   "display_name": "Python 3",
   "language": "python",
   "name": "python3"
  },
  "language_info": {
   "codemirror_mode": {
    "name": "ipython",
    "version": 3
   },
   "file_extension": ".py",
   "mimetype": "text/x-python",
   "name": "python",
   "nbconvert_exporter": "python",
   "pygments_lexer": "ipython3",
   "version": "3.12.1"
  }
 },
 "nbformat": 4,
 "nbformat_minor": 2
}
