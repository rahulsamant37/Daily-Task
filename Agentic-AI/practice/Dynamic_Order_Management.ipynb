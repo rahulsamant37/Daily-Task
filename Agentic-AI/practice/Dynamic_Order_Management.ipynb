{
 "cells": [
  {
   "cell_type": "code",
   "execution_count": 24,
   "metadata": {},
   "outputs": [],
   "source": [
    "import os\n",
    "import pandas as pd\n",
    "import random\n",
    "from langchain_core.tools import tool\n",
    "from langchain_groq import ChatGroq\n",
    "from langgraph.prebuilt import ToolNode\n",
    "from langgraph.graph import StateGraph, MessagesState, START, END\n",
    "from langchain_core.runnables.graph import MermaidDrawMethod\n",
    "from IPython.display import display, Image\n",
    "from typing import Literal\n",
    "from langchain_core.prompts import ChatPromptTemplate\n",
    "from typing import Dict, TypedDict\n",
    "\n",
    "# Load environment variables\n",
    "os.environ[\"GROQ_API_KEY\"] = os.getenv(\"GROQ_API_KEY\")"
   ]
  },
  {
   "cell_type": "code",
   "execution_count": 25,
   "metadata": {},
   "outputs": [
    {
     "data": {
      "text/plain": [
       "'d:\\\\Rahul-Github\\\\Daily-Task\\\\Agentic-AI\\\\practice'"
      ]
     },
     "execution_count": 25,
     "metadata": {},
     "output_type": "execute_result"
    }
   ],
   "source": [
    "%pwd"
   ]
  },
  {
   "cell_type": "code",
   "execution_count": 26,
   "metadata": {},
   "outputs": [],
   "source": [
    "# Load datasets\n",
    "inventory = pd.read_csv(\"./data/inventory_latest.csv\")\n",
    "customers = pd.read_csv(\"./data/customers_latest.csv\")"
   ]
  },
  {
   "cell_type": "code",
   "execution_count": 27,
   "metadata": {},
   "outputs": [
    {
     "data": {
      "text/html": [
       "<div>\n",
       "<style scoped>\n",
       "    .dataframe tbody tr th:only-of-type {\n",
       "        vertical-align: middle;\n",
       "    }\n",
       "\n",
       "    .dataframe tbody tr th {\n",
       "        vertical-align: top;\n",
       "    }\n",
       "\n",
       "    .dataframe thead th {\n",
       "        text-align: right;\n",
       "    }\n",
       "</style>\n",
       "<table border=\"1\" class=\"dataframe\">\n",
       "  <thead>\n",
       "    <tr style=\"text-align: right;\">\n",
       "      <th></th>\n",
       "      <th>item_id</th>\n",
       "      <th>category</th>\n",
       "      <th>stock</th>\n",
       "      <th>weight</th>\n",
       "      <th>price</th>\n",
       "    </tr>\n",
       "  </thead>\n",
       "  <tbody>\n",
       "    <tr>\n",
       "      <th>0</th>\n",
       "      <td>item_1</td>\n",
       "      <td>electronics</td>\n",
       "      <td>177</td>\n",
       "      <td>8.19</td>\n",
       "      <td>272.96</td>\n",
       "    </tr>\n",
       "    <tr>\n",
       "      <th>1</th>\n",
       "      <td>item_2</td>\n",
       "      <td>books</td>\n",
       "      <td>22</td>\n",
       "      <td>8.67</td>\n",
       "      <td>135.61</td>\n",
       "    </tr>\n",
       "    <tr>\n",
       "      <th>2</th>\n",
       "      <td>item_3</td>\n",
       "      <td>home</td>\n",
       "      <td>189</td>\n",
       "      <td>9.02</td>\n",
       "      <td>285.38</td>\n",
       "    </tr>\n",
       "    <tr>\n",
       "      <th>3</th>\n",
       "      <td>item_4</td>\n",
       "      <td>books</td>\n",
       "      <td>139</td>\n",
       "      <td>3.05</td>\n",
       "      <td>346.13</td>\n",
       "    </tr>\n",
       "    <tr>\n",
       "      <th>4</th>\n",
       "      <td>item_5</td>\n",
       "      <td>sports</td>\n",
       "      <td>85</td>\n",
       "      <td>2.19</td>\n",
       "      <td>491.50</td>\n",
       "    </tr>\n",
       "  </tbody>\n",
       "</table>\n",
       "</div>"
      ],
      "text/plain": [
       "  item_id     category  stock  weight   price\n",
       "0  item_1  electronics    177    8.19  272.96\n",
       "1  item_2        books     22    8.67  135.61\n",
       "2  item_3         home    189    9.02  285.38\n",
       "3  item_4        books    139    3.05  346.13\n",
       "4  item_5       sports     85    2.19  491.50"
      ]
     },
     "execution_count": 27,
     "metadata": {},
     "output_type": "execute_result"
    }
   ],
   "source": [
    "inventory.head()"
   ]
  },
  {
   "cell_type": "code",
   "execution_count": 28,
   "metadata": {},
   "outputs": [
    {
     "data": {
      "text/html": [
       "<div>\n",
       "<style scoped>\n",
       "    .dataframe tbody tr th:only-of-type {\n",
       "        vertical-align: middle;\n",
       "    }\n",
       "\n",
       "    .dataframe tbody tr th {\n",
       "        vertical-align: top;\n",
       "    }\n",
       "\n",
       "    .dataframe thead th {\n",
       "        text-align: right;\n",
       "    }\n",
       "</style>\n",
       "<table border=\"1\" class=\"dataframe\">\n",
       "  <thead>\n",
       "    <tr style=\"text-align: right;\">\n",
       "      <th></th>\n",
       "      <th>customer_id</th>\n",
       "      <th>name</th>\n",
       "      <th>location</th>\n",
       "    </tr>\n",
       "  </thead>\n",
       "  <tbody>\n",
       "    <tr>\n",
       "      <th>0</th>\n",
       "      <td>customer_1</td>\n",
       "      <td>Customer_1</td>\n",
       "      <td>local</td>\n",
       "    </tr>\n",
       "    <tr>\n",
       "      <th>1</th>\n",
       "      <td>customer_2</td>\n",
       "      <td>Customer_2</td>\n",
       "      <td>local</td>\n",
       "    </tr>\n",
       "    <tr>\n",
       "      <th>2</th>\n",
       "      <td>customer_3</td>\n",
       "      <td>Customer_3</td>\n",
       "      <td>local</td>\n",
       "    </tr>\n",
       "    <tr>\n",
       "      <th>3</th>\n",
       "      <td>customer_4</td>\n",
       "      <td>Customer_4</td>\n",
       "      <td>domestic</td>\n",
       "    </tr>\n",
       "    <tr>\n",
       "      <th>4</th>\n",
       "      <td>customer_5</td>\n",
       "      <td>Customer_5</td>\n",
       "      <td>domestic</td>\n",
       "    </tr>\n",
       "  </tbody>\n",
       "</table>\n",
       "</div>"
      ],
      "text/plain": [
       "  customer_id        name  location\n",
       "0  customer_1  Customer_1     local\n",
       "1  customer_2  Customer_2     local\n",
       "2  customer_3  Customer_3     local\n",
       "3  customer_4  Customer_4  domestic\n",
       "4  customer_5  Customer_5  domestic"
      ]
     },
     "execution_count": 28,
     "metadata": {},
     "output_type": "execute_result"
    }
   ],
   "source": [
    "customers.head()"
   ]
  },
  {
   "cell_type": "code",
   "execution_count": 29,
   "metadata": {},
   "outputs": [],
   "source": [
    "class State(TypedDict):\n",
    "    query: str\n",
    "    category: str\n",
    "    next_node: str\n",
    "    item_id: str\n",
    "    order_status: str\n",
    "    cost: str\n",
    "    payment_status: str\n",
    "    location: str\n",
    "    quantity: int"
   ]
  },
  {
   "cell_type": "code",
   "execution_count": 30,
   "metadata": {},
   "outputs": [],
   "source": [
    "# Initialize LLM and bind tools\n",
    "llm = ChatGroq(model=\"qwen-2.5-32b\", temperature=0)"
   ]
  },
  {
   "cell_type": "code",
   "execution_count": 31,
   "metadata": {},
   "outputs": [],
   "source": [
    "@tool\n",
    "def cancel_order(query: str) -> dict:\n",
    "    \"\"\"Simulate order cancelling\"\"\"\n",
    "    order_id = llm.with_structured_output(method='json_mode').invoke(f'Extract order_id from the following text in json format: {query}')['order_id']\n",
    "    #amount = query.get(\"amount\")\n",
    "\n",
    "    if not order_id:\n",
    "        return {\"error\": \"Missing 'order_id'.\"}\n",
    "\n",
    "    return {\"order_status\": \"Order stands cancelled\"}"
   ]
  },
  {
   "cell_type": "code",
   "execution_count": 32,
   "metadata": {},
   "outputs": [],
   "source": [
    "tools_2 = [cancel_order]\n",
    "llm_with_tools_2 = llm.bind_tools(tools_2)\n",
    "tool_node_2 = ToolNode(tools_2)"
   ]
  },
  {
   "cell_type": "code",
   "execution_count": 41,
   "metadata": {},
   "outputs": [],
   "source": [
    "def call_model_2(state: MessagesState):\n",
    "    \"\"\"Use the LLM to decide the next step.\"\"\"\n",
    "    messages = state[\"messages\"]\n",
    "    response = llm_with_tools_2.invoke(str(messages))\n",
    "    return {\"messages\": [response]}\n",
    "\n",
    "\n",
    "def call_tools_2(state: MessagesState) -> Literal[\"tools_2\", END]:\n",
    "    \"\"\"Route workflow based on tool calls.\"\"\"\n",
    "    messages = state[\"messages\"]\n",
    "    last_message = messages[-1]\n",
    "\n",
    "    if last_message.tool_calls:\n",
    "        return \"tools_2\"\n",
    "    return END\n"
   ]
  },
  {
   "cell_type": "code",
   "execution_count": 34,
   "metadata": {},
   "outputs": [],
   "source": [
    "def categorize_query(state: MessagesState) -> MessagesState:\n",
    "    \"\"\"Categorize user query into PlaceOrder or CancelOrder\"\"\"\n",
    "    prompt = ChatPromptTemplate.from_template(\n",
    "        \"Categorize user query into PlaceOrder or CancelOrder\"\n",
    "        \"Respond with either 'PlaceOrder', 'CancelOrder' Query: {state}\"\n",
    "    )\n",
    "\n",
    "    chain = prompt | ChatGroq(temperature=0)\n",
    "    category = chain.invoke({\"state\": state}).content\n",
    "    \n",
    "    return {\"query\":state,\"category\": category}"
   ]
  },
  {
   "cell_type": "code",
   "execution_count": 35,
   "metadata": {},
   "outputs": [],
   "source": [
    "def check_inventory(state: MessagesState) -> MessagesState:\n",
    "    \"\"\"Check if the requested item is in stock.\"\"\"\n",
    "\n",
    "    item_id = llm.with_structured_output(method='json_mode').invoke(f'Extract item_id from the following text in json format: {state}')['item_id']\n",
    "    quantity = llm.with_structured_output(method='json_mode').invoke(f'Extract quantity from the following text in json format: {state}')['quantity']\n",
    "\n",
    "    if not item_id or not quantity:\n",
    "        return {\"error\": \"Missing 'item_id' or 'quantity'.\"}\n",
    "\n",
    "    if inventory.get(item_id, {}).get(\"stock\", 0) >= quantity:\n",
    "        print(\"IN STOCK\")\n",
    "        return {\"status\": \"In Stock\"}\n",
    "    return {\"query\":state,\"order_status\": \"Out of Stock\"}"
   ]
  },
  {
   "cell_type": "code",
   "execution_count": 36,
   "metadata": {},
   "outputs": [],
   "source": [
    "def compute_shipping(state: MessagesState) -> MessagesState:\n",
    "    \"\"\"Calculate shipping costs.\"\"\"\n",
    "    item_id = llm.with_structured_output(method='json_mode').invoke(f'Extract item_id from the following text in json format: {state}')['item_id']\n",
    "    quantity = llm.with_structured_output(method='json_mode').invoke(f'Extract quantity from the following text in json format: {state}')['quantity']\n",
    "    customer_id = llm.with_structured_output(method='json_mode').invoke(f'Extract customer_id from the following text in json format: {state}')['customer_id']\n",
    "    location = customers[customer_id]['location']\n",
    "\n",
    "\n",
    "    if not item_id or not quantity or not location:\n",
    "        return {\"error\": \"Missing 'item_id', 'quantity', or 'location'.\"}\n",
    "\n",
    "    weight_per_item = inventory[item_id][\"weight\"]\n",
    "    total_weight = weight_per_item * quantity\n",
    "    rates = {\"local\": 5, \"domestic\": 10, \"international\": 20}\n",
    "    cost = total_weight * rates.get(location, 10)\n",
    "    print(cost,location)\n",
    "\n",
    "    return {\"query\":state,\"cost\": f\"${cost:.2f}\"}"
   ]
  },
  {
   "cell_type": "code",
   "execution_count": 37,
   "metadata": {},
   "outputs": [],
   "source": [
    "def process_payment(state: State) -> State:\n",
    "    \"\"\"Simulate payment processing.\"\"\"\n",
    "    cost = llm.with_structured_output(method='json_mode').invoke(f'Extract cost from the following text in json format: {state}')\n",
    "\n",
    "    if not cost:\n",
    "        return {\"error\": \"Missing 'amount'.\"}\n",
    "    print(f\"PAYMENT PROCESSED: {cost} and order successfully placed!\")\n",
    "    payment_outcome = random.choice([\"Success\", \"Failed\"])\n",
    "    return {\"payment_status\": payment_outcome}"
   ]
  },
  {
   "cell_type": "code",
   "execution_count": 38,
   "metadata": {},
   "outputs": [],
   "source": [
    "def route_query_1(state: State) -> str:\n",
    "    \"\"\"Route the query based on its category.\"\"\"\n",
    "    print(state)\n",
    "    if state[\"category\"] == \"PlaceOrder\":\n",
    "        return \"PlaceOrder\"\n",
    "    elif state[\"category\"] == \"CancelOrder\":\n",
    "        return \"CancelOrder\""
   ]
  },
  {
   "cell_type": "code",
   "execution_count": 42,
   "metadata": {},
   "outputs": [],
   "source": [
    "# Create the workflow\n",
    "workflow = StateGraph(MessagesState)\n",
    "\n",
    "#Add nodes\n",
    "workflow.add_node(\"RouteQuery\", categorize_query)\n",
    "workflow.add_node(\"CheckInventory\", check_inventory)\n",
    "workflow.add_node(\"ComputeShipping\", compute_shipping)\n",
    "workflow.add_node(\"ProcessPayment\", process_payment)\n",
    "\n",
    "workflow.add_conditional_edges(\n",
    "    \"RouteQuery\",\n",
    "    route_query_1,\n",
    "    {\n",
    "        \"PlaceOrder\": \"CheckInventory\",\n",
    "        \"CancelOrder\": \"CancelOrder\"\n",
    "    }\n",
    ")\n",
    "workflow.add_node(\"CancelOrder\", call_model_2)\n",
    "workflow.add_node(\"tools_2\", tool_node_2)\n",
    "\n",
    "\n",
    "# Define edges\n",
    "\n",
    "workflow.add_edge(START, \"RouteQuery\")\n",
    "workflow.add_edge(\"CheckInventory\", \"ComputeShipping\")\n",
    "workflow.add_edge(\"ComputeShipping\", \"ProcessPayment\")\n",
    "workflow.add_conditional_edges(\"CancelOrder\", call_tools_2)\n",
    "workflow.add_edge(\"tools_2\", \"CancelOrder\")\n",
    "workflow.add_edge(\"ProcessPayment\", END)\n",
    "\n",
    "app=workflow.compile()"
   ]
  },
  {
   "cell_type": "code",
   "execution_count": 43,
   "metadata": {},
   "outputs": [
    {
     "data": {
      "image/png": "[encoded data removed]",
      "text/plain": [
       "<IPython.core.display.Image object>"
      ]
     },
     "metadata": {},
     "output_type": "display_data"
    }
   ],
   "source": [
    "display(Image(app.get_graph().draw_mermaid_png()))"
   ]
  },
  {
   "cell_type": "code",
   "execution_count": null,
   "metadata": {},
   "outputs": [
    {
     "name": "stdout",
     "output_type": "stream",
     "text": [
      "{'query': {'messages': [HumanMessage(content='I wish to cancel order_id 223', additional_kwargs={}, response_metadata={}, id='1ff390dd-66f7-47cf-91ae-d469e3c73648')]}, 'category': 'CancelOrder', 'messages': [HumanMessage(content='I wish to cancel order_id 223', additional_kwargs={}, response_metadata={}, id='1ff390dd-66f7-47cf-91ae-d469e3c73648')]}\n",
      "================================\u001b[1m Human Message \u001b[0m=================================\n",
      "\n",
      "I wish to cancel order_id 223\n",
      "==================================\u001b[1m Ai Message \u001b[0m==================================\n",
      "Tool Calls:\n",
      "  cancel_order (call_sjv3)\n",
      " Call ID: call_sjv3\n",
      "  Args:\n",
      "    query: order_id 223\n",
      "=================================\u001b[1m Tool Message \u001b[0m=================================\n",
      "Name: cancel_order\n",
      "\n",
      "{\"order_status\": \"Order stands cancelled\"}\n",
      "==================================\u001b[1m Ai Message \u001b[0m==================================\n",
      "\n",
      "The order with ID 223 has been successfully cancelled.\n"
     ]
    }
   ],
   "source": [
    "from langchain_core.messages import HumanMessage\n",
    "\n",
    "messages=app.invoke({\"messages\":HumanMessage(content=\"I wish to cancel order_id 223\")})\n",
    "for m in messages['messages']:\n",
    "    m.pretty_print()"
   ]
  },
  {
   "cell_type": "code",
   "execution_count": null,
   "metadata": {},
   "outputs": [],
   "source": []
  }
 ],
 "metadata": {
  "kernelspec": {
   "display_name": "venv",
   "language": "python",
   "name": "python3"
  },
  "language_info": {
   "codemirror_mode": {
    "name": "ipython",
    "version": 3
   },
   "file_extension": ".py",
   "mimetype": "text/x-python",
   "name": "python",
   "nbconvert_exporter": "python",
   "pygments_lexer": "ipython3",
   "version": "3.12.7"
  }
 },
 "nbformat": 4,
 "nbformat_minor": 2
}
