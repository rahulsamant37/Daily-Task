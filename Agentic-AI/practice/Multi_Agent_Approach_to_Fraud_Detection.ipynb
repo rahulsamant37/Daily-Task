{
 "cells": [
  {
   "cell_type": "code",
   "execution_count": 1,
   "id": "bf9860a9",
   "metadata": {},
   "outputs": [],
   "source": [
    "from langchain_google_genai import ChatGoogleGenerativeAI\n",
    "from dotenv import load_dotenv\n",
    "load_dotenv()\n",
    "import os\n",
    "\n",
    "os.environ[\"GOOGLE_API_KEY\"] = os.getenv(\"GOOGLE_API_KEY\")\n",
    "\n",
    "# Initialize the model\n",
    "llm = ChatGoogleGenerativeAI(model=\"gemini-2.0-flash\")\n"
   ]
  },
  {
   "cell_type": "code",
   "execution_count": 2,
   "metadata": {},
   "outputs": [],
   "source": [
    "from typing import Dict, Any, TypedDict\n",
    "class TransactionState(TypedDict):\n",
    "    transaction: Dict[str, Any]\n",
    "    risk_score: int\n",
    "    rule_based_flag: bool\n",
    "    ml_fraud_probability: float\n",
    "    final_decision: str"
   ]
  },
  {
   "cell_type": "code",
   "execution_count": 3,
   "metadata": {},
   "outputs": [],
   "source": [
    "def create_initial_state(transaction: Dict[str, Any]) -> TransactionState:\n",
    "    return {\n",
    "        \"transaction\": transaction,\n",
    "        \"risk_score\": 0,\n",
    "        \"rule_based_flag\": False,\n",
    "        \"ml_fraud_probability\": 0.0,\n",
    "        \"final_decision\": \"Pending\"\n",
    "    }"
   ]
  },
  {
   "cell_type": "code",
   "execution_count": 4,
   "metadata": {},
   "outputs": [],
   "source": [
    "def transaction_monitoring_agent(state: TransactionState) -> TransactionState:\n",
    "    print(\"Monitoring Transaction:\", state[\"transaction\"])\n",
    "    return state"
   ]
  },
  {
   "cell_type": "code",
   "execution_count": 5,
   "metadata": {},
   "outputs": [],
   "source": [
    "import random\n",
    "def risk_scoring_agent(state: TransactionState) -> TransactionState:\n",
    "    state[\"risk_score\"] = random.randint(1, 100)\n",
    "    print(\"Risk Score Assigned:\", state[\"risk_score\"])\n",
    "    return state"
   ]
  },
  {
   "cell_type": "code",
   "execution_count": 6,
   "metadata": {},
   "outputs": [],
   "source": [
    "def rule_based_detection_agent(state: TransactionState) -> TransactionState:\n",
    "    if state[\"transaction\"][\"amount\"] > 1000:\n",
    "        state[\"rule_based_flag\"] = True\n",
    "    print(\"Rule-based Fraud Detection:\", state[\"rule_based_flag\"])\n",
    "    return state"
   ]
  },
  {
   "cell_type": "code",
   "execution_count": 7,
   "metadata": {},
   "outputs": [],
   "source": [
    "def machine_learning_agent(state: TransactionState) -> TransactionState:\n",
    "    state[\"ml_fraud_probability\"] = random.uniform(0, 1)\n",
    "    print(\"ML Fraud Probability:\", state[\"ml_fraud_probability\"])\n",
    "    return state"
   ]
  },
  {
   "cell_type": "code",
   "execution_count": 8,
   "metadata": {},
   "outputs": [],
   "source": [
    "def alert_decision_agent(state: TransactionState) -> TransactionState:\n",
    "    prompt = (\n",
    "        f\"Transaction Details: {state['transaction']}. \"\n",
    "        f\"Risk Score: {state['risk_score']}, \"\n",
    "        f\"Rule-Based Flag: {state['rule_based_flag']}, \"\n",
    "        f\"ML Probability: {state['ml_fraud_probability']}. \"\n",
    "        \"Should this transaction be Approved or Declined?\"\n",
    "    )\n",
    "    response = llm.invoke(prompt)\n",
    "    print(\"Final Decision (LLM-Based):\", response)\n",
    "    return state"
   ]
  },
  {
   "cell_type": "code",
   "execution_count": 9,
   "id": "e1f5a1be",
   "metadata": {},
   "outputs": [
    {
     "data": {
      "text/plain": [
       "<langgraph.graph.state.StateGraph at 0x77d6181d36e0>"
      ]
     },
     "execution_count": 9,
     "metadata": {},
     "output_type": "execute_result"
    }
   ],
   "source": [
    "from langgraph.graph import StateGraph\n",
    "graph = StateGraph(TransactionState)\n",
    "graph.add_node(\"monitor\", transaction_monitoring_agent)\n",
    "graph.add_node(\"risk_score1\", risk_scoring_agent)\n",
    "graph.add_node(\"rule_based\", rule_based_detection_agent)\n",
    "graph.add_node(\"ml_model\", machine_learning_agent)\n",
    "graph.add_node(\"decision\", alert_decision_agent)"
   ]
  },
  {
   "cell_type": "code",
   "execution_count": 10,
   "id": "66197bbb",
   "metadata": {},
   "outputs": [
    {
     "data": {
      "text/plain": [
       "<langgraph.graph.state.StateGraph at 0x77d6181d36e0>"
      ]
     },
     "execution_count": 10,
     "metadata": {},
     "output_type": "execute_result"
    }
   ],
   "source": [
    "graph.set_entry_point(\"monitor\")\n",
    "graph.add_edge(\"monitor\", \"risk_score1\")\n",
    "graph.add_edge(\"risk_score1\", \"rule_based\")\n",
    "graph.add_edge(\"rule_based\", \"ml_model\")\n",
    "graph.add_edge(\"ml_model\", \"decision\")"
   ]
  },
  {
   "cell_type": "code",
   "execution_count": 11,
   "id": "30b70f83",
   "metadata": {},
   "outputs": [
    {
     "data": {
      "image/png": "[encoded data removed]",
      "text/plain": [
       "<IPython.core.display.Image object>"
      ]
     },
     "metadata": {},
     "output_type": "display_data"
    }
   ],
   "source": [
    "from IPython.display import display, Image\n",
    "from langchain_core.runnables.graph import MermaidDrawMethod\n",
    "fraud_detection_pipeline = graph.compile()\n",
    "display(\n",
    "    Image(\n",
    "        fraud_detection_pipeline.get_graph().draw_mermaid_png(\n",
    "            draw_method=MermaidDrawMethod.API\n",
    "        )\n",
    "    )\n",
    ")"
   ]
  },
  {
   "cell_type": "code",
   "execution_count": 12,
   "id": "873b7ab3",
   "metadata": {},
   "outputs": [
    {
     "name": "stdout",
     "output_type": "stream",
     "text": [
      "Monitoring Transaction: {'amount': 1200, 'location': 'New York', 'device_id': 'XYZ123'}\n",
      "Risk Score Assigned: 74\n",
      "Rule-based Fraud Detection: True\n",
      "ML Fraud Probability: 0.7694173409852972\n",
      "Final Decision (LLM-Based): content=\"Okay, let's analyze this transaction to determine whether to approve or decline it.\\n\\nHere's a breakdown of the factors and a suggested decision:\\n\\n**Factors to Consider:**\\n\\n*   **Amount:** $1200 is a moderately high amount. Whether this is suspicious depends on the customer's typical spending habits.\\n*   **Location:** New York is a common location, so by itself, it doesn't raise immediate suspicion.\\n*   **Device ID:** `XYZ123` - We don't have context on whether this device is associated with fraudulent activity or is new/unusual for this customer.  This is a key piece of information we'd ideally want to know.\\n*   **Risk Score:** 74 - This is a fairly high risk score. The threshold for concern depends on the specific risk scoring system, but a score of 74 likely indicates a significant level of risk.\\n*   **Rule-Based Flag:** True - A rule-based system flagged this transaction. This means it triggered a pre-defined rule for suspicious activity (e.g., exceeding a spending limit, unusual location for the customer).\\n*   **ML Probability:** 0.769 - A machine learning model gives a 76.9% probability of this transaction being fraudulent. This is a relatively strong indicator of fraud.\\n\\n**Decision and Rationale:**\\n\\nBased on the available information, the transaction should be **Declined**, but with a strong recommendation for **further investigation**.\\n\\nHere's why:\\n\\n*   **Multiple Indicators:** We have a high risk score, a rule-based flag, and a significant ML probability.  This convergence of indicators suggests a real risk.\\n*   **Risk Mitigation:** Declining the transaction prevents potential financial loss due to fraud.\\n*   **False Positive Potential:** However, we don't want to unnecessarily block legitimate transactions. The $1200 amount isn't *inherently* suspicious, and New York is a common location.\\n\\n**Recommended Actions:**\\n\\n1.  **Decline the Transaction:** This is the immediate action to protect against potential fraud.\\n2.  **Contact the Customer:** Immediately contact the customer to verify the transaction. This is crucial to differentiate between fraud and a legitimate purchase. Ask them about:\\n    *   Whether they made the $1200 purchase in New York.\\n    *   Whether they recognize the device ID `XYZ123`.\\n3.  **Review Customer History:** Examine the customer's transaction history for any anomalies or patterns that might explain the flagged transaction.\\n4.  **Device Intelligence:** If possible, use a device intelligence service to get more information about the device ID `XYZ123`. Is it a known fraudulent device? Is it associated with a VPN or proxy?\\n5.  **Adjust Rules/ML Model (if necessary):** If this type of transaction is frequently flagged as false positives, review the rules and ML model to identify potential areas for improvement.\\n\\n**In summary, err on the side of caution and decline the transaction, but prioritize contacting the customer to confirm its legitimacy.**  The key is to balance fraud prevention with minimizing disruption to legitimate customers.\" additional_kwargs={} response_metadata={'prompt_feedback': {'block_reason': 0, 'safety_ratings': []}, 'finish_reason': 'STOP', 'model_name': 'gemini-2.0-flash', 'safety_ratings': []} id='run--bb188cd9-7325-4af2-b9d1-0fcf23fe25eb-0' usage_metadata={'input_tokens': 77, 'output_tokens': 669, 'total_tokens': 746, 'input_token_details': {'cache_read': 0}}\n",
      "Fraud Detection Completed: Final Decision - Pending\n"
     ]
    }
   ],
   "source": [
    "transaction = {\"amount\": 1200, \"location\": \"New York\", \"device_id\": \"XYZ123\"}\n",
    "state = create_initial_state(transaction)\n",
    "final_state = fraud_detection_pipeline.invoke(state)\n",
    "print(\"Fraud Detection Completed: Final Decision -\", final_state[\"final_decision\"])"
   ]
  },
  {
   "cell_type": "code",
   "execution_count": null,
   "id": "6d5bdc8f",
   "metadata": {},
   "outputs": [],
   "source": []
  }
 ],
 "metadata": {
  "kernelspec": {
   "display_name": "Python 3",
   "language": "python",
   "name": "python3"
  },
  "language_info": {
   "codemirror_mode": {
    "name": "ipython",
    "version": 3
   },
   "file_extension": ".py",
   "mimetype": "text/x-python",
   "name": "python",
   "nbconvert_exporter": "python",
   "pygments_lexer": "ipython3",
   "version": "3.12.1"
  }
 },
 "nbformat": 4,
 "nbformat_minor": 5
}
