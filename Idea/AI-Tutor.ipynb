{
 "cells": [
  {
   "cell_type": "code",
   "execution_count": 1,
   "metadata": {},
   "outputs": [],
   "source": [
    "import os\n",
    "import speech_recognition as sr\n",
    "from gtts import gTTS\n",
    "from playsound import playsound\n",
    "from langchain_groq import ChatGroq\n",
    "from dotenv import load_dotenv\n",
    "import time\n",
    "import threading"
   ]
  },
  {
   "cell_type": "code",
   "execution_count": 2,
   "metadata": {},
   "outputs": [],
   "source": [
    "# Load environment variables\n",
    "load_dotenv()\n",
    "\n",
    "# Initialize components\n",
    "recognizer = sr.Recognizer()\n",
    "microphone = sr.Microphone()"
   ]
  },
  {
   "cell_type": "code",
   "execution_count": 3,
   "metadata": {},
   "outputs": [],
   "source": [
    "# Initialize ChatGroq\n",
    "groq_api_key = os.getenv(\"GROQ_API_KEY\")\n",
    "llm = ChatGroq(\n",
    "    groq_api_key=groq_api_key,\n",
    "    model_name=\"mixtral-8x7b-32768\"\n",
    ")"
   ]
  },
  {
   "cell_type": "code",
   "execution_count": 4,
   "metadata": {},
   "outputs": [],
   "source": [
    "SYSTEM_PROMPT = \"\"\"\n",
    "You are a friendly, patient language learning assistant. Help users learn their target language through conversation.\n",
    "Follow these rules:\n",
    "1. Use simple, clear explanations\n",
    "2. Correct mistakes gently with examples\n",
    "3. Focus on practical conversation\n",
    "4. Explain grammar when needed\n",
    "5. Keep responses concise\n",
    "6. Use voice-friendly formatting\n",
    "7. Provide cultural context\n",
    "8. Offer encouragement\n",
    "9. Stop immediately if user says \"stop\"\n",
    "Current teaching language: {language}\n",
    "\"\"\""
   ]
  },
  {
   "cell_type": "code",
   "execution_count": 5,
   "metadata": {},
   "outputs": [],
   "source": [
    "# Global flag for interruption\n",
    "stop_flag = False\n",
    "\n",
    "def text_to_speech(text):\n",
    "    \"\"\"Convert text to speech with interrupt capability\"\"\"\n",
    "    global stop_flag\n",
    "    try:\n",
    "        tts = gTTS(text=text, lang='en', slow=False)\n",
    "        tts.save(\"response.mp3\")\n",
    "        \n",
    "        # Play audio in thread\n",
    "        def play_audio():\n",
    "            global stop_flag\n",
    "            if not stop_flag:\n",
    "                playsound(\"response.mp3\")\n",
    "            os.remove(\"response.mp3\")\n",
    "            \n",
    "        audio_thread = threading.Thread(target=play_audio)\n",
    "        audio_thread.start()\n",
    "        \n",
    "        # Check for stop during playback\n",
    "        while audio_thread.is_alive():\n",
    "            if stop_flag:\n",
    "                return False\n",
    "            time.sleep(0.1)\n",
    "            \n",
    "        return True\n",
    "        \n",
    "    except Exception as e:\n",
    "        print(f\"TTS Error: {e}\")\n",
    "        return False\n",
    "\n",
    "def get_voice_input():\n",
    "    \"\"\"Get voice input with stop detection\"\"\"\n",
    "    global stop_flag\n",
    "    with microphone as source:\n",
    "        recognizer.adjust_for_ambient_noise(source)\n",
    "        print(\"Speak now...\")\n",
    "        try:\n",
    "            audio = recognizer.listen(source, timeout=5)\n",
    "            text = recognizer.recognize_google(audio).lower()\n",
    "            \n",
    "            if \"stop\" in text:\n",
    "                stop_flag = True\n",
    "                return \"stop\"\n",
    "                \n",
    "            return text\n",
    "            \n",
    "        except sr.UnknownValueError:\n",
    "            return \"\"\n",
    "        except Exception as e:\n",
    "            print(f\"Recognition Error: {e}\")\n",
    "            return \"\"\n",
    "\n",
    "def generate_response(user_input, language):\n",
    "    \"\"\"Generate AI response with stop awareness\"\"\"\n",
    "    global stop_flag\n",
    "    if stop_flag:\n",
    "        return \"\"\n",
    "        \n",
    "    prompt = SYSTEM_PROMPT.format(language=language)\n",
    "    \n",
    "    try:\n",
    "        response = llm.invoke([{\n",
    "            \"role\": \"system\", \n",
    "            \"content\": prompt\n",
    "        }, {\n",
    "            \"role\": \"user\",\n",
    "            \"content\": user_input + \" (respond in {language})\"\n",
    "        }])\n",
    "        \n",
    "        return response.content\n",
    "        \n",
    "    except Exception as e:\n",
    "        print(f\"API Error: {e}\")\n",
    "        return \"\""
   ]
  },
  {
   "cell_type": "code",
   "execution_count": null,
   "metadata": {},
   "outputs": [
    {
     "ename": "",
     "evalue": "",
     "output_type": "error",
     "traceback": [
      "\u001b[1;31mThe Kernel crashed while executing code in the current cell or a previous cell. \n",
      "\u001b[1;31mPlease review the code in the cell(s) to identify a possible cause of the failure. \n",
      "\u001b[1;31mClick <a href='https://aka.ms/vscodeJupyterKernelCrash'>here</a> for more info. \n",
      "\u001b[1;31mView Jupyter <a href='command:jupyter.viewOutput'>log</a> for further details."
     ]
    }
   ],
   "source": [
    "def main():\n",
    "    global stop_flag\n",
    "    target_language = input(\"Enter target language: \").strip()\n",
    "    \n",
    "    print(f\"Learning {target_language} - say 'stop' to exit\")\n",
    "    text_to_speech(f\"Let's learn {target_language}. Begin speaking.\")\n",
    "    \n",
    "    while not stop_flag:\n",
    "        user_input = get_voice_input()\n",
    "        \n",
    "        if stop_flag:\n",
    "            break\n",
    "            \n",
    "        if not user_input:\n",
    "            continue\n",
    "            \n",
    "        # Generate and process response\n",
    "        response = generate_response(user_input, target_language)\n",
    "        \n",
    "        if response and not stop_flag:\n",
    "            print(f\"Teacher: {response}\")\n",
    "            if not text_to_speech(response):\n",
    "                break\n",
    "                \n",
    "        time.sleep(0.5)\n",
    "\n",
    "    text_to_speech(\"Session ended. Goodbye!\")"
   ]
  },
  {
   "cell_type": "code",
   "execution_count": null,
   "metadata": {},
   "outputs": [
    {
     "name": "stdout",
     "output_type": "stream",
     "text": [
      "Learning English - say 'stop' to exit\n",
      "Speak now...\n",
      "Teacher: Hello Rahul, nice to meet you! In English, we would say: \"Hello, my name is Rahul and I am a B.Tech student.\" It's great to be learning English! Is there a specific topic or question you would like to practice in English today?\n"
     ]
    },
    {
     "name": "stderr",
     "output_type": "stream",
     "text": [
      "\n",
      "    Error 263 for command:\n",
      "        open response.mp3\n",
      "    The specified device is not open or is not recognized by MCI.\n",
      "\n",
      "    Error 263 for command:\n",
      "        close response.mp3\n",
      "    The specified device is not open or is not recognized by MCI.\n",
      "Failed to close the file: response.mp3\n",
      "Exception in thread Thread-5 (play_audio):\n",
      "Traceback (most recent call last):\n",
      "  File \"E:\\anaconda\\Lib\\threading.py\", line 1075, in _bootstrap_inner\n",
      "    self.run()\n",
      "  File \"d:\\Rahul-Github\\Daily-Task\\venv\\Lib\\site-packages\\ipykernel\\ipkernel.py\", line 766, in run_closure\n",
      "    _threading_Thread_run(self)\n",
      "  File \"E:\\anaconda\\Lib\\threading.py\", line 1012, in run\n",
      "    self._target(*self._args, **self._kwargs)\n",
      "  File \"C:\\Users\\rahul\\AppData\\Local\\Temp\\ipykernel_7364\\461104492.py\", line 15, in play_audio\n",
      "  File \"d:\\Rahul-Github\\Daily-Task\\venv\\Lib\\site-packages\\playsound.py\", line 72, in _playsoundWin\n",
      "    winCommand(u'open {}'.format(sound))\n",
      "  File \"d:\\Rahul-Github\\Daily-Task\\venv\\Lib\\site-packages\\playsound.py\", line 64, in winCommand\n",
      "    raise PlaysoundException(exceptionMessage)\n",
      "playsound.PlaysoundException: \n",
      "    Error 263 for command:\n",
      "        open response.mp3\n",
      "    The specified device is not open or is not recognized by MCI.\n"
     ]
    },
    {
     "name": "stdout",
     "output_type": "stream",
     "text": [
      "Speak now...\n",
      "Speak now...\n",
      "Speak now...\n",
      "Speak now...\n"
     ]
    }
   ],
   "source": [
    "if __name__ == \"__main__\":\n",
    "    main()"
   ]
  },
  {
   "cell_type": "code",
   "execution_count": null,
   "metadata": {},
   "outputs": [],
   "source": []
  }
 ],
 "metadata": {
  "kernelspec": {
   "display_name": "venv",
   "language": "python",
   "name": "python3"
  },
  "language_info": {
   "codemirror_mode": {
    "name": "ipython",
    "version": 3
   },
   "file_extension": ".py",
   "mimetype": "text/x-python",
   "name": "python",
   "nbconvert_exporter": "python",
   "pygments_lexer": "ipython3",
   "version": "3.12.7"
  }
 },
 "nbformat": 4,
 "nbformat_minor": 2
}
