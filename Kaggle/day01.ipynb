{
 "cells": [
  {
   "cell_type": "markdown",
   "id": "e62c4305",
   "metadata": {
    "papermill": {
     "duration": 0.011718,
     "end_time": "2024-11-29T01:42:39.619808",
     "exception": false,
     "start_time": "2024-11-29T01:42:39.608090",
     "status": "completed"
    },
    "tags": []
   },
   "source": [
    "# Titanic Dataset - Survival Prediction\n",
    "\n",
    "This notebook demonstrates various machine learning models and techniques to predict the survival of passengers aboard the Titanic using the Titanic dataset. In this specific case, we are constrained to using a single feature (`PassengerId`) to predict the target variable (`Survived`), which results in a challenging prediction task.\n",
    "\n",
    "### Objective:\n",
    "To explore different methods such as Logistic Regression, Linear Regression, Random Forest, Ridge Regression, and a Neural Network with embeddings to predict survival. The models will be evaluated using performance metrics such as Mean Squared Error (MSE), R-squared, and Accuracy.\n"
   ]
  },
  {
   "cell_type": "markdown",
   "id": "5ffe6c8f",
   "metadata": {
    "execution": {
     "iopub.execute_input": "2024-11-29T01:09:49.092903Z",
     "iopub.status.busy": "2024-11-29T01:09:49.092445Z",
     "iopub.status.idle": "2024-11-29T01:09:49.101365Z",
     "shell.execute_reply": "2024-11-29T01:09:49.099672Z",
     "shell.execute_reply.started": "2024-11-29T01:09:49.092866Z"
    },
    "papermill": {
     "duration": 0.01078,
     "end_time": "2024-11-29T01:42:39.641799",
     "exception": false,
     "start_time": "2024-11-29T01:42:39.631019",
     "status": "completed"
    },
    "tags": []
   },
   "source": [
    "# Data Exploration\n",
    "\n",
    "We start by loading the Titanic dataset and performing basic data exploration. This includes checking for missing values, getting a summary of numerical columns, and examining the distribution of the target variable `Survived`."
   ]
  },
  {
   "cell_type": "code",
   "execution_count": 1,
   "id": "a680005e",
   "metadata": {
    "execution": {
     "iopub.execute_input": "2024-11-29T01:42:39.663747Z",
     "iopub.status.busy": "2024-11-29T01:42:39.663339Z",
     "iopub.status.idle": "2024-11-29T01:42:40.477276Z",
     "shell.execute_reply": "2024-11-29T01:42:40.476192Z"
    },
    "papermill": {
     "duration": 0.828353,
     "end_time": "2024-11-29T01:42:40.480311",
     "exception": false,
     "start_time": "2024-11-29T01:42:39.651958",
     "status": "completed"
    },
    "tags": []
   },
   "outputs": [],
   "source": [
    "import pandas as pd"
   ]
  },
  {
   "cell_type": "markdown",
   "id": "e2bdef08",
   "metadata": {
    "papermill": {
     "duration": 0.009887,
     "end_time": "2024-11-29T01:42:40.501411",
     "exception": false,
     "start_time": "2024-11-29T01:42:40.491524",
     "status": "completed"
    },
    "tags": []
   },
   "source": [
    "# Load data"
   ]
  },
  {
   "cell_type": "code",
   "execution_count": 2,
   "id": "70273555",
   "metadata": {
    "execution": {
     "iopub.execute_input": "2024-11-29T01:42:40.522847Z",
     "iopub.status.busy": "2024-11-29T01:42:40.522307Z",
     "iopub.status.idle": "2024-11-29T01:42:40.541980Z",
     "shell.execute_reply": "2024-11-29T01:42:40.540891Z"
    },
    "papermill": {
     "duration": 0.033255,
     "end_time": "2024-11-29T01:42:40.544384",
     "exception": false,
     "start_time": "2024-11-29T01:42:40.511129",
     "status": "completed"
    },
    "tags": []
   },
   "outputs": [],
   "source": [
    "# Load dataset\n",
    "df = pd.read_csv(\"/kaggle/input/titaniccsv/titanic.csv\")"
   ]
  },
  {
   "cell_type": "code",
   "execution_count": 3,
   "id": "5021fbfe",
   "metadata": {
    "execution": {
     "iopub.execute_input": "2024-11-29T01:42:40.565852Z",
     "iopub.status.busy": "2024-11-29T01:42:40.565484Z",
     "iopub.status.idle": "2024-11-29T01:42:40.583190Z",
     "shell.execute_reply": "2024-11-29T01:42:40.582176Z"
    },
    "papermill": {
     "duration": 0.031081,
     "end_time": "2024-11-29T01:42:40.585489",
     "exception": false,
     "start_time": "2024-11-29T01:42:40.554408",
     "status": "completed"
    },
    "tags": []
   },
   "outputs": [
    {
     "data": {
      "text/html": [
       "<div>\n",
       "<style scoped>\n",
       "    .dataframe tbody tr th:only-of-type {\n",
       "        vertical-align: middle;\n",
       "    }\n",
       "\n",
       "    .dataframe tbody tr th {\n",
       "        vertical-align: top;\n",
       "    }\n",
       "\n",
       "    .dataframe thead th {\n",
       "        text-align: right;\n",
       "    }\n",
       "</style>\n",
       "<table border=\"1\" class=\"dataframe\">\n",
       "  <thead>\n",
       "    <tr style=\"text-align: right;\">\n",
       "      <th></th>\n",
       "      <th>PassengerId</th>\n",
       "      <th>Survived</th>\n",
       "    </tr>\n",
       "  </thead>\n",
       "  <tbody>\n",
       "    <tr>\n",
       "      <th>0</th>\n",
       "      <td>892</td>\n",
       "      <td>0</td>\n",
       "    </tr>\n",
       "    <tr>\n",
       "      <th>1</th>\n",
       "      <td>893</td>\n",
       "      <td>0</td>\n",
       "    </tr>\n",
       "    <tr>\n",
       "      <th>2</th>\n",
       "      <td>894</td>\n",
       "      <td>0</td>\n",
       "    </tr>\n",
       "    <tr>\n",
       "      <th>3</th>\n",
       "      <td>895</td>\n",
       "      <td>0</td>\n",
       "    </tr>\n",
       "    <tr>\n",
       "      <th>4</th>\n",
       "      <td>896</td>\n",
       "      <td>1</td>\n",
       "    </tr>\n",
       "  </tbody>\n",
       "</table>\n",
       "</div>"
      ],
      "text/plain": [
       "   PassengerId  Survived\n",
       "0          892         0\n",
       "1          893         0\n",
       "2          894         0\n",
       "3          895         0\n",
       "4          896         1"
      ]
     },
     "execution_count": 3,
     "metadata": {},
     "output_type": "execute_result"
    }
   ],
   "source": [
    "# Display the first few rows of the dataframe\n",
    "df.head()"
   ]
  },
  {
   "cell_type": "code",
   "execution_count": 4,
   "id": "e3c185b8",
   "metadata": {
    "execution": {
     "iopub.execute_input": "2024-11-29T01:42:40.607882Z",
     "iopub.status.busy": "2024-11-29T01:42:40.606868Z",
     "iopub.status.idle": "2024-11-29T01:42:40.632494Z",
     "shell.execute_reply": "2024-11-29T01:42:40.631337Z"
    },
    "papermill": {
     "duration": 0.03908,
     "end_time": "2024-11-29T01:42:40.634856",
     "exception": false,
     "start_time": "2024-11-29T01:42:40.595776",
     "status": "completed"
    },
    "tags": []
   },
   "outputs": [
    {
     "name": "stdout",
     "output_type": "stream",
     "text": [
      "<class 'pandas.core.frame.DataFrame'>\n",
      "RangeIndex: 418 entries, 0 to 417\n",
      "Data columns (total 2 columns):\n",
      " #   Column       Non-Null Count  Dtype\n",
      "---  ------       --------------  -----\n",
      " 0   PassengerId  418 non-null    int64\n",
      " 1   Survived     418 non-null    int64\n",
      "dtypes: int64(2)\n",
      "memory usage: 6.7 KB\n"
     ]
    }
   ],
   "source": [
    "# Display basic info about the dataset\n",
    "df.info()"
   ]
  },
  {
   "cell_type": "code",
   "execution_count": 5,
   "id": "3359c7f2",
   "metadata": {
    "execution": {
     "iopub.execute_input": "2024-11-29T01:42:40.657186Z",
     "iopub.status.busy": "2024-11-29T01:42:40.656785Z",
     "iopub.status.idle": "2024-11-29T01:42:40.663094Z",
     "shell.execute_reply": "2024-11-29T01:42:40.662089Z"
    },
    "papermill": {
     "duration": 0.020301,
     "end_time": "2024-11-29T01:42:40.665715",
     "exception": false,
     "start_time": "2024-11-29T01:42:40.645414",
     "status": "completed"
    },
    "tags": []
   },
   "outputs": [
    {
     "name": "stdout",
     "output_type": "stream",
     "text": [
      "PassengerId    0\n",
      "Survived       0\n",
      "dtype: int64\n"
     ]
    }
   ],
   "source": [
    "# Check for missing values\n",
    "print(df.isnull().sum())"
   ]
  },
  {
   "cell_type": "code",
   "execution_count": 6,
   "id": "97e2cfa4",
   "metadata": {
    "execution": {
     "iopub.execute_input": "2024-11-29T01:42:40.687932Z",
     "iopub.status.busy": "2024-11-29T01:42:40.687553Z",
     "iopub.status.idle": "2024-11-29T01:42:40.707155Z",
     "shell.execute_reply": "2024-11-29T01:42:40.706045Z"
    },
    "papermill": {
     "duration": 0.03316,
     "end_time": "2024-11-29T01:42:40.709218",
     "exception": false,
     "start_time": "2024-11-29T01:42:40.676058",
     "status": "completed"
    },
    "tags": []
   },
   "outputs": [
    {
     "name": "stdout",
     "output_type": "stream",
     "text": [
      "       PassengerId    Survived\n",
      "count   418.000000  418.000000\n",
      "mean   1100.500000    0.366029\n",
      "std     120.810458    0.482295\n",
      "min     892.000000    0.000000\n",
      "25%     996.250000    0.000000\n",
      "50%    1100.500000    0.000000\n",
      "75%    1204.750000    1.000000\n",
      "max    1309.000000    1.000000\n"
     ]
    }
   ],
   "source": [
    "# Summary of numerical columns\n",
    "print(df.describe())"
   ]
  },
  {
   "cell_type": "code",
   "execution_count": 7,
   "id": "8fab2754",
   "metadata": {
    "execution": {
     "iopub.execute_input": "2024-11-29T01:42:40.731889Z",
     "iopub.status.busy": "2024-11-29T01:42:40.731131Z",
     "iopub.status.idle": "2024-11-29T01:42:40.739267Z",
     "shell.execute_reply": "2024-11-29T01:42:40.738110Z"
    },
    "papermill": {
     "duration": 0.021328,
     "end_time": "2024-11-29T01:42:40.741375",
     "exception": false,
     "start_time": "2024-11-29T01:42:40.720047",
     "status": "completed"
    },
    "tags": []
   },
   "outputs": [
    {
     "name": "stdout",
     "output_type": "stream",
     "text": [
      "Survived\n",
      "0    265\n",
      "1    153\n",
      "Name: count, dtype: int64\n"
     ]
    }
   ],
   "source": [
    "# Value counts of the target variable\n",
    "print(df['Survived'].value_counts())"
   ]
  },
  {
   "cell_type": "code",
   "execution_count": 8,
   "id": "9c87b74d",
   "metadata": {
    "execution": {
     "iopub.execute_input": "2024-11-29T01:42:40.763884Z",
     "iopub.status.busy": "2024-11-29T01:42:40.763521Z",
     "iopub.status.idle": "2024-11-29T01:42:40.770499Z",
     "shell.execute_reply": "2024-11-29T01:42:40.769442Z"
    },
    "papermill": {
     "duration": 0.020851,
     "end_time": "2024-11-29T01:42:40.772703",
     "exception": false,
     "start_time": "2024-11-29T01:42:40.751852",
     "status": "completed"
    },
    "tags": []
   },
   "outputs": [
    {
     "name": "stdout",
     "output_type": "stream",
     "text": [
      "PassengerId\n",
      "892     1\n",
      "1205    1\n",
      "1177    1\n",
      "1176    1\n",
      "1175    1\n",
      "       ..\n",
      "1028    1\n",
      "1027    1\n",
      "1026    1\n",
      "1025    1\n",
      "1309    1\n",
      "Name: count, Length: 418, dtype: int64\n"
     ]
    }
   ],
   "source": [
    "# Value counts of PassengerId (just to show distribution of the unique IDs)\n",
    "print(df['PassengerId'].value_counts())"
   ]
  },
  {
   "cell_type": "markdown",
   "id": "2ea3967e",
   "metadata": {
    "papermill": {
     "duration": 0.010067,
     "end_time": "2024-11-29T01:42:40.794495",
     "exception": false,
     "start_time": "2024-11-29T01:42:40.784428",
     "status": "completed"
    },
    "tags": []
   },
   "source": [
    "# Data Visualization\n",
    "\n",
    "Let's explore some visualizations to understand the relationship between the features and the target variable."
   ]
  },
  {
   "cell_type": "code",
   "execution_count": 9,
   "id": "28473a63",
   "metadata": {
    "execution": {
     "iopub.execute_input": "2024-11-29T01:42:40.816216Z",
     "iopub.status.busy": "2024-11-29T01:42:40.815845Z",
     "iopub.status.idle": "2024-11-29T01:42:42.415726Z",
     "shell.execute_reply": "2024-11-29T01:42:42.414663Z"
    },
    "papermill": {
     "duration": 1.613537,
     "end_time": "2024-11-29T01:42:42.418260",
     "exception": false,
     "start_time": "2024-11-29T01:42:40.804723",
     "status": "completed"
    },
    "tags": []
   },
   "outputs": [],
   "source": [
    "import matplotlib.pyplot as plt\n",
    "import seaborn as sns"
   ]
  },
  {
   "cell_type": "code",
   "execution_count": 10,
   "id": "c5ff8eb0",
   "metadata": {
    "execution": {
     "iopub.execute_input": "2024-11-29T01:42:42.441383Z",
     "iopub.status.busy": "2024-11-29T01:42:42.440844Z",
     "iopub.status.idle": "2024-11-29T01:42:42.755427Z",
     "shell.execute_reply": "2024-11-29T01:42:42.754274Z"
    },
    "papermill": {
     "duration": 0.32871,
     "end_time": "2024-11-29T01:42:42.757762",
     "exception": false,
     "start_time": "2024-11-29T01:42:42.429052",
     "status": "completed"
    },
    "tags": []
   },
   "outputs": [
    {
     "data": {
      "image/png": "[encoded data removed]",
      "text/plain": [
       "<Figure size 640x480 with 1 Axes>"
      ]
     },
     "metadata": {},
     "output_type": "display_data"
    }
   ],
   "source": [
    "# Plot histogram for the target variable 'Survived'\n",
    "df['Survived'].hist(bins=20)\n",
    "plt.title('Survival Distribution')\n",
    "plt.xlabel('Survived')\n",
    "plt.ylabel('Count')\n",
    "plt.show()"
   ]
  },
  {
   "cell_type": "code",
   "execution_count": 11,
   "id": "6e44b744",
   "metadata": {
    "execution": {
     "iopub.execute_input": "2024-11-29T01:42:42.781410Z",
     "iopub.status.busy": "2024-11-29T01:42:42.780517Z",
     "iopub.status.idle": "2024-11-29T01:42:42.790692Z",
     "shell.execute_reply": "2024-11-29T01:42:42.789629Z"
    },
    "papermill": {
     "duration": 0.024158,
     "end_time": "2024-11-29T01:42:42.792725",
     "exception": false,
     "start_time": "2024-11-29T01:42:42.768567",
     "status": "completed"
    },
    "tags": []
   },
   "outputs": [
    {
     "name": "stdout",
     "output_type": "stream",
     "text": [
      "             PassengerId  Survived\n",
      "PassengerId      1.00000  -0.05015\n",
      "Survived        -0.05015   1.00000\n"
     ]
    }
   ],
   "source": [
    "print(df.corr())"
   ]
  },
  {
   "cell_type": "code",
   "execution_count": 12,
   "id": "b91c73ed",
   "metadata": {
    "execution": {
     "iopub.execute_input": "2024-11-29T01:42:42.816134Z",
     "iopub.status.busy": "2024-11-29T01:42:42.815201Z",
     "iopub.status.idle": "2024-11-29T01:42:43.079995Z",
     "shell.execute_reply": "2024-11-29T01:42:43.078916Z"
    },
    "papermill": {
     "duration": 0.278692,
     "end_time": "2024-11-29T01:42:43.082085",
     "exception": false,
     "start_time": "2024-11-29T01:42:42.803393",
     "status": "completed"
    },
    "tags": []
   },
   "outputs": [
    {
     "data": {
      "image/png": "[encoded data removed]",
      "text/plain": [
       "<Figure size 640x480 with 2 Axes>"
      ]
     },
     "metadata": {},
     "output_type": "display_data"
    }
   ],
   "source": [
    "# Plot the correlation heatmap (although this dataset has just one feature)\n",
    "sns.heatmap(df.corr(), annot=True, cmap=\"coolwarm\")\n",
    "plt.title(\"Correlation Heatmap\")\n",
    "plt.show()"
   ]
  },
  {
   "cell_type": "code",
   "execution_count": 13,
   "id": "bb2ec6c6",
   "metadata": {
    "execution": {
     "iopub.execute_input": "2024-11-29T01:42:43.106431Z",
     "iopub.status.busy": "2024-11-29T01:42:43.106008Z",
     "iopub.status.idle": "2024-11-29T01:42:43.370327Z",
     "shell.execute_reply": "2024-11-29T01:42:43.369218Z"
    },
    "papermill": {
     "duration": 0.279231,
     "end_time": "2024-11-29T01:42:43.372481",
     "exception": false,
     "start_time": "2024-11-29T01:42:43.093250",
     "status": "completed"
    },
    "tags": []
   },
   "outputs": [
    {
     "data": {
      "image/png": "[encoded data removed]",
      "text/plain": [
       "<Figure size 640x480 with 1 Axes>"
      ]
     },
     "metadata": {},
     "output_type": "display_data"
    }
   ],
   "source": [
    "# Scatterplot between PassengerId and Survived\n",
    "sns.scatterplot(x=df['PassengerId'], y=df['Survived'])\n",
    "plt.title('Feature vs Target Relationship')\n",
    "plt.show()"
   ]
  },
  {
   "cell_type": "markdown",
   "id": "4a6d1ac9",
   "metadata": {
    "papermill": {
     "duration": 0.011095,
     "end_time": "2024-11-29T01:42:43.395121",
     "exception": false,
     "start_time": "2024-11-29T01:42:43.384026",
     "status": "completed"
    },
    "tags": []
   },
   "source": [
    "# Logistic Regression Model (Classification)\n",
    "\n",
    "We'll start with a basic Logistic Regression model to classify the survival outcome. Since we only have `PassengerId` as the feature, we expect that this model won't perform well. Let's proceed with training the model and evaluating its performance."
   ]
  },
  {
   "cell_type": "code",
   "execution_count": 14,
   "id": "8762e63c",
   "metadata": {
    "execution": {
     "iopub.execute_input": "2024-11-29T01:42:43.419998Z",
     "iopub.status.busy": "2024-11-29T01:42:43.419056Z",
     "iopub.status.idle": "2024-11-29T01:42:43.757058Z",
     "shell.execute_reply": "2024-11-29T01:42:43.756010Z"
    },
    "papermill": {
     "duration": 0.353124,
     "end_time": "2024-11-29T01:42:43.759729",
     "exception": false,
     "start_time": "2024-11-29T01:42:43.406605",
     "status": "completed"
    },
    "tags": []
   },
   "outputs": [],
   "source": [
    "from sklearn.model_selection import train_test_split\n",
    "from sklearn.linear_model import LogisticRegression\n",
    "from sklearn.metrics import accuracy_score, classification_report"
   ]
  },
  {
   "cell_type": "code",
   "execution_count": 15,
   "id": "35c1e8f7",
   "metadata": {
    "execution": {
     "iopub.execute_input": "2024-11-29T01:42:43.784700Z",
     "iopub.status.busy": "2024-11-29T01:42:43.784275Z",
     "iopub.status.idle": "2024-11-29T01:42:43.790054Z",
     "shell.execute_reply": "2024-11-29T01:42:43.788737Z"
    },
    "papermill": {
     "duration": 0.020497,
     "end_time": "2024-11-29T01:42:43.792111",
     "exception": false,
     "start_time": "2024-11-29T01:42:43.771614",
     "status": "completed"
    },
    "tags": []
   },
   "outputs": [],
   "source": [
    "# Prepare features and target\n",
    "X = df['PassengerId'].values.reshape(-1, 1)\n",
    "Y = df['Survived']"
   ]
  },
  {
   "cell_type": "code",
   "execution_count": 16,
   "id": "039d3f0f",
   "metadata": {
    "execution": {
     "iopub.execute_input": "2024-11-29T01:42:43.818201Z",
     "iopub.status.busy": "2024-11-29T01:42:43.817816Z",
     "iopub.status.idle": "2024-11-29T01:42:43.825549Z",
     "shell.execute_reply": "2024-11-29T01:42:43.824496Z"
    },
    "papermill": {
     "duration": 0.023418,
     "end_time": "2024-11-29T01:42:43.827639",
     "exception": false,
     "start_time": "2024-11-29T01:42:43.804221",
     "status": "completed"
    },
    "tags": []
   },
   "outputs": [],
   "source": [
    "# Train-test split\n",
    "X_train, X_test, Y_train, Y_test = train_test_split(X, Y, test_size=0.2, random_state=42)"
   ]
  },
  {
   "cell_type": "code",
   "execution_count": 17,
   "id": "acaa9e09",
   "metadata": {
    "execution": {
     "iopub.execute_input": "2024-11-29T01:42:43.852696Z",
     "iopub.status.busy": "2024-11-29T01:42:43.851993Z",
     "iopub.status.idle": "2024-11-29T01:42:43.871172Z",
     "shell.execute_reply": "2024-11-29T01:42:43.869939Z"
    },
    "papermill": {
     "duration": 0.03426,
     "end_time": "2024-11-29T01:42:43.873495",
     "exception": false,
     "start_time": "2024-11-29T01:42:43.839235",
     "status": "completed"
    },
    "tags": []
   },
   "outputs": [
    {
     "data": {
      "text/html": [
       "<style>#sk-container-id-1 {color: black;background-color: white;}#sk-container-id-1 pre{padding: 0;}#sk-container-id-1 div.sk-toggleable {background-color: white;}#sk-container-id-1 label.sk-toggleable__label {cursor: pointer;display: block;width: 100%;margin-bottom: 0;padding: 0.3em;box-sizing: border-box;text-align: center;}#sk-container-id-1 label.sk-toggleable__label-arrow:before {content: \"▸\";float: left;margin-right: 0.25em;color: #696969;}#sk-container-id-1 label.sk-toggleable__label-arrow:hover:before {color: black;}#sk-container-id-1 div.sk-estimator:hover label.sk-toggleable__label-arrow:before {color: black;}#sk-container-id-1 div.sk-toggleable__content {max-height: 0;max-width: 0;overflow: hidden;text-align: left;background-color: #f0f8ff;}#sk-container-id-1 div.sk-toggleable__content pre {margin: 0.2em;color: black;border-radius: 0.25em;background-color: #f0f8ff;}#sk-container-id-1 input.sk-toggleable__control:checked~div.sk-toggleable__content {max-height: 200px;max-width: 100%;overflow: auto;}#sk-container-id-1 input.sk-toggleable__control:checked~label.sk-toggleable__label-arrow:before {content: \"▾\";}#sk-container-id-1 div.sk-estimator input.sk-toggleable__control:checked~label.sk-toggleable__label {background-color: #d4ebff;}#sk-container-id-1 div.sk-label input.sk-toggleable__control:checked~label.sk-toggleable__label {background-color: #d4ebff;}#sk-container-id-1 input.sk-hidden--visually {border: 0;clip: rect(1px 1px 1px 1px);clip: rect(1px, 1px, 1px, 1px);height: 1px;margin: -1px;overflow: hidden;padding: 0;position: absolute;width: 1px;}#sk-container-id-1 div.sk-estimator {font-family: monospace;background-color: #f0f8ff;border: 1px dotted black;border-radius: 0.25em;box-sizing: border-box;margin-bottom: 0.5em;}#sk-container-id-1 div.sk-estimator:hover {background-color: #d4ebff;}#sk-container-id-1 div.sk-parallel-item::after {content: \"\";width: 100%;border-bottom: 1px solid gray;flex-grow: 1;}#sk-container-id-1 div.sk-label:hover label.sk-toggleable__label {background-color: #d4ebff;}#sk-container-id-1 div.sk-serial::before {content: \"\";position: absolute;border-left: 1px solid gray;box-sizing: border-box;top: 0;bottom: 0;left: 50%;z-index: 0;}#sk-container-id-1 div.sk-serial {display: flex;flex-direction: column;align-items: center;background-color: white;padding-right: 0.2em;padding-left: 0.2em;position: relative;}#sk-container-id-1 div.sk-item {position: relative;z-index: 1;}#sk-container-id-1 div.sk-parallel {display: flex;align-items: stretch;justify-content: center;background-color: white;position: relative;}#sk-container-id-1 div.sk-item::before, #sk-container-id-1 div.sk-parallel-item::before {content: \"\";position: absolute;border-left: 1px solid gray;box-sizing: border-box;top: 0;bottom: 0;left: 50%;z-index: -1;}#sk-container-id-1 div.sk-parallel-item {display: flex;flex-direction: column;z-index: 1;position: relative;background-color: white;}#sk-container-id-1 div.sk-parallel-item:first-child::after {align-self: flex-end;width: 50%;}#sk-container-id-1 div.sk-parallel-item:last-child::after {align-self: flex-start;width: 50%;}#sk-container-id-1 div.sk-parallel-item:only-child::after {width: 0;}#sk-container-id-1 div.sk-dashed-wrapped {border: 1px dashed gray;margin: 0 0.4em 0.5em 0.4em;box-sizing: border-box;padding-bottom: 0.4em;background-color: white;}#sk-container-id-1 div.sk-label label {font-family: monospace;font-weight: bold;display: inline-block;line-height: 1.2em;}#sk-container-id-1 div.sk-label-container {text-align: center;}#sk-container-id-1 div.sk-container {/* jupyter's `normalize.less` sets `[hidden] { display: none; }` but bootstrap.min.css set `[hidden] { display: none !important; }` so we also need the `!important` here to be able to override the default hidden behavior on the sphinx rendered scikit-learn.org. See: https://github.com/scikit-learn/scikit-learn/issues/21755 */display: inline-block !important;position: relative;}#sk-container-id-1 div.sk-text-repr-fallback {display: none;}</style><div id=\"sk-container-id-1\" class=\"sk-top-container\"><div class=\"sk-text-repr-fallback\"><pre>LogisticRegression()</pre><b>In a Jupyter environment, please rerun this cell to show the HTML representation or trust the notebook. <br />On GitHub, the HTML representation is unable to render, please try loading this page with nbviewer.org.</b></div><div class=\"sk-container\" hidden><div class=\"sk-item\"><div class=\"sk-estimator sk-toggleable\"><input class=\"sk-toggleable__control sk-hidden--visually\" id=\"sk-estimator-id-1\" type=\"checkbox\" checked><label for=\"sk-estimator-id-1\" class=\"sk-toggleable__label sk-toggleable__label-arrow\">LogisticRegression</label><div class=\"sk-toggleable__content\"><pre>LogisticRegression()</pre></div></div></div></div></div>"
      ],
      "text/plain": [
       "LogisticRegression()"
      ]
     },
     "execution_count": 17,
     "metadata": {},
     "output_type": "execute_result"
    }
   ],
   "source": [
    "# Initialize and train the classifier\n",
    "classifier = LogisticRegression()\n",
    "classifier.fit(X_train, Y_train)"
   ]
  },
  {
   "cell_type": "code",
   "execution_count": 18,
   "id": "5d63f6c5",
   "metadata": {
    "execution": {
     "iopub.execute_input": "2024-11-29T01:42:43.899408Z",
     "iopub.status.busy": "2024-11-29T01:42:43.898993Z",
     "iopub.status.idle": "2024-11-29T01:42:43.904152Z",
     "shell.execute_reply": "2024-11-29T01:42:43.903092Z"
    },
    "papermill": {
     "duration": 0.020299,
     "end_time": "2024-11-29T01:42:43.906253",
     "exception": false,
     "start_time": "2024-11-29T01:42:43.885954",
     "status": "completed"
    },
    "tags": []
   },
   "outputs": [],
   "source": [
    "# Predict on the test set\n",
    "Y_pred_logistic = classifier.predict(X_test)"
   ]
  },
  {
   "cell_type": "code",
   "execution_count": 19,
   "id": "d848c83b",
   "metadata": {
    "execution": {
     "iopub.execute_input": "2024-11-29T01:42:43.931371Z",
     "iopub.status.busy": "2024-11-29T01:42:43.930960Z",
     "iopub.status.idle": "2024-11-29T01:42:43.947083Z",
     "shell.execute_reply": "2024-11-29T01:42:43.946011Z"
    },
    "papermill": {
     "duration": 0.031419,
     "end_time": "2024-11-29T01:42:43.949413",
     "exception": false,
     "start_time": "2024-11-29T01:42:43.917994",
     "status": "completed"
    },
    "tags": []
   },
   "outputs": [],
   "source": [
    "# Evaluate classification performance\n",
    "accuracy = accuracy_score(Y_test, Y_pred_logistic)\n",
    "report = classification_report(Y_test, Y_pred_logistic, zero_division=1)"
   ]
  },
  {
   "cell_type": "code",
   "execution_count": 20,
   "id": "5a07b2ac",
   "metadata": {
    "execution": {
     "iopub.execute_input": "2024-11-29T01:42:43.976177Z",
     "iopub.status.busy": "2024-11-29T01:42:43.975393Z",
     "iopub.status.idle": "2024-11-29T01:42:43.981063Z",
     "shell.execute_reply": "2024-11-29T01:42:43.980038Z"
    },
    "papermill": {
     "duration": 0.021651,
     "end_time": "2024-11-29T01:42:43.983105",
     "exception": false,
     "start_time": "2024-11-29T01:42:43.961454",
     "status": "completed"
    },
    "tags": []
   },
   "outputs": [
    {
     "name": "stdout",
     "output_type": "stream",
     "text": [
      "Accuracy: 0.67\n",
      "\n",
      "Classification Report:\n",
      "               precision    recall  f1-score   support\n",
      "\n",
      "           0       0.67      1.00      0.80        56\n",
      "           1       1.00      0.00      0.00        28\n",
      "\n",
      "    accuracy                           0.67        84\n",
      "   macro avg       0.83      0.50      0.40        84\n",
      "weighted avg       0.78      0.67      0.53        84\n",
      "\n"
     ]
    }
   ],
   "source": [
    "print(f\"Accuracy: {accuracy:.2f}\")\n",
    "print(\"\\nClassification Report:\\n\", report)"
   ]
  },
  {
   "cell_type": "markdown",
   "id": "94d3f3fb",
   "metadata": {
    "papermill": {
     "duration": 0.01216,
     "end_time": "2024-11-29T01:42:44.007514",
     "exception": false,
     "start_time": "2024-11-29T01:42:43.995354",
     "status": "completed"
    },
    "tags": []
   },
   "source": [
    "# Linear Regression Model (Regression)\n",
    "\n",
    "Now, let's test a Linear Regression model. While the task is classification, let's still test the regression performance by predicting the survival as a continuous value. This will give us insight into how the model behaves with a single feature."
   ]
  },
  {
   "cell_type": "code",
   "execution_count": 21,
   "id": "bb2f027e",
   "metadata": {
    "execution": {
     "iopub.execute_input": "2024-11-29T01:42:44.032997Z",
     "iopub.status.busy": "2024-11-29T01:42:44.032629Z",
     "iopub.status.idle": "2024-11-29T01:42:44.037882Z",
     "shell.execute_reply": "2024-11-29T01:42:44.036837Z"
    },
    "papermill": {
     "duration": 0.020402,
     "end_time": "2024-11-29T01:42:44.039902",
     "exception": false,
     "start_time": "2024-11-29T01:42:44.019500",
     "status": "completed"
    },
    "tags": []
   },
   "outputs": [],
   "source": [
    "from sklearn.linear_model import LinearRegression\n",
    "from sklearn.metrics import mean_squared_error, r2_score"
   ]
  },
  {
   "cell_type": "code",
   "execution_count": 22,
   "id": "e8dbd5ac",
   "metadata": {
    "execution": {
     "iopub.execute_input": "2024-11-29T01:42:44.065429Z",
     "iopub.status.busy": "2024-11-29T01:42:44.065015Z",
     "iopub.status.idle": "2024-11-29T01:42:44.081206Z",
     "shell.execute_reply": "2024-11-29T01:42:44.080222Z"
    },
    "papermill": {
     "duration": 0.031372,
     "end_time": "2024-11-29T01:42:44.083349",
     "exception": false,
     "start_time": "2024-11-29T01:42:44.051977",
     "status": "completed"
    },
    "tags": []
   },
   "outputs": [
    {
     "data": {
      "text/html": [
       "<style>#sk-container-id-2 {color: black;background-color: white;}#sk-container-id-2 pre{padding: 0;}#sk-container-id-2 div.sk-toggleable {background-color: white;}#sk-container-id-2 label.sk-toggleable__label {cursor: pointer;display: block;width: 100%;margin-bottom: 0;padding: 0.3em;box-sizing: border-box;text-align: center;}#sk-container-id-2 label.sk-toggleable__label-arrow:before {content: \"▸\";float: left;margin-right: 0.25em;color: #696969;}#sk-container-id-2 label.sk-toggleable__label-arrow:hover:before {color: black;}#sk-container-id-2 div.sk-estimator:hover label.sk-toggleable__label-arrow:before {color: black;}#sk-container-id-2 div.sk-toggleable__content {max-height: 0;max-width: 0;overflow: hidden;text-align: left;background-color: #f0f8ff;}#sk-container-id-2 div.sk-toggleable__content pre {margin: 0.2em;color: black;border-radius: 0.25em;background-color: #f0f8ff;}#sk-container-id-2 input.sk-toggleable__control:checked~div.sk-toggleable__content {max-height: 200px;max-width: 100%;overflow: auto;}#sk-container-id-2 input.sk-toggleable__control:checked~label.sk-toggleable__label-arrow:before {content: \"▾\";}#sk-container-id-2 div.sk-estimator input.sk-toggleable__control:checked~label.sk-toggleable__label {background-color: #d4ebff;}#sk-container-id-2 div.sk-label input.sk-toggleable__control:checked~label.sk-toggleable__label {background-color: #d4ebff;}#sk-container-id-2 input.sk-hidden--visually {border: 0;clip: rect(1px 1px 1px 1px);clip: rect(1px, 1px, 1px, 1px);height: 1px;margin: -1px;overflow: hidden;padding: 0;position: absolute;width: 1px;}#sk-container-id-2 div.sk-estimator {font-family: monospace;background-color: #f0f8ff;border: 1px dotted black;border-radius: 0.25em;box-sizing: border-box;margin-bottom: 0.5em;}#sk-container-id-2 div.sk-estimator:hover {background-color: #d4ebff;}#sk-container-id-2 div.sk-parallel-item::after {content: \"\";width: 100%;border-bottom: 1px solid gray;flex-grow: 1;}#sk-container-id-2 div.sk-label:hover label.sk-toggleable__label {background-color: #d4ebff;}#sk-container-id-2 div.sk-serial::before {content: \"\";position: absolute;border-left: 1px solid gray;box-sizing: border-box;top: 0;bottom: 0;left: 50%;z-index: 0;}#sk-container-id-2 div.sk-serial {display: flex;flex-direction: column;align-items: center;background-color: white;padding-right: 0.2em;padding-left: 0.2em;position: relative;}#sk-container-id-2 div.sk-item {position: relative;z-index: 1;}#sk-container-id-2 div.sk-parallel {display: flex;align-items: stretch;justify-content: center;background-color: white;position: relative;}#sk-container-id-2 div.sk-item::before, #sk-container-id-2 div.sk-parallel-item::before {content: \"\";position: absolute;border-left: 1px solid gray;box-sizing: border-box;top: 0;bottom: 0;left: 50%;z-index: -1;}#sk-container-id-2 div.sk-parallel-item {display: flex;flex-direction: column;z-index: 1;position: relative;background-color: white;}#sk-container-id-2 div.sk-parallel-item:first-child::after {align-self: flex-end;width: 50%;}#sk-container-id-2 div.sk-parallel-item:last-child::after {align-self: flex-start;width: 50%;}#sk-container-id-2 div.sk-parallel-item:only-child::after {width: 0;}#sk-container-id-2 div.sk-dashed-wrapped {border: 1px dashed gray;margin: 0 0.4em 0.5em 0.4em;box-sizing: border-box;padding-bottom: 0.4em;background-color: white;}#sk-container-id-2 div.sk-label label {font-family: monospace;font-weight: bold;display: inline-block;line-height: 1.2em;}#sk-container-id-2 div.sk-label-container {text-align: center;}#sk-container-id-2 div.sk-container {/* jupyter's `normalize.less` sets `[hidden] { display: none; }` but bootstrap.min.css set `[hidden] { display: none !important; }` so we also need the `!important` here to be able to override the default hidden behavior on the sphinx rendered scikit-learn.org. See: https://github.com/scikit-learn/scikit-learn/issues/21755 */display: inline-block !important;position: relative;}#sk-container-id-2 div.sk-text-repr-fallback {display: none;}</style><div id=\"sk-container-id-2\" class=\"sk-top-container\"><div class=\"sk-text-repr-fallback\"><pre>LinearRegression()</pre><b>In a Jupyter environment, please rerun this cell to show the HTML representation or trust the notebook. <br />On GitHub, the HTML representation is unable to render, please try loading this page with nbviewer.org.</b></div><div class=\"sk-container\" hidden><div class=\"sk-item\"><div class=\"sk-estimator sk-toggleable\"><input class=\"sk-toggleable__control sk-hidden--visually\" id=\"sk-estimator-id-2\" type=\"checkbox\" checked><label for=\"sk-estimator-id-2\" class=\"sk-toggleable__label sk-toggleable__label-arrow\">LinearRegression</label><div class=\"sk-toggleable__content\"><pre>LinearRegression()</pre></div></div></div></div></div>"
      ],
      "text/plain": [
       "LinearRegression()"
      ]
     },
     "execution_count": 22,
     "metadata": {},
     "output_type": "execute_result"
    }
   ],
   "source": [
    "# Train a Linear Regression model\n",
    "regressor = LinearRegression()\n",
    "regressor.fit(X_train, Y_train)"
   ]
  },
  {
   "cell_type": "code",
   "execution_count": 23,
   "id": "20056266",
   "metadata": {
    "execution": {
     "iopub.execute_input": "2024-11-29T01:42:44.108705Z",
     "iopub.status.busy": "2024-11-29T01:42:44.108319Z",
     "iopub.status.idle": "2024-11-29T01:42:44.113187Z",
     "shell.execute_reply": "2024-11-29T01:42:44.112185Z"
    },
    "papermill": {
     "duration": 0.019919,
     "end_time": "2024-11-29T01:42:44.115224",
     "exception": false,
     "start_time": "2024-11-29T01:42:44.095305",
     "status": "completed"
    },
    "tags": []
   },
   "outputs": [],
   "source": [
    "# Predict on the test set\n",
    "Y_pred_linear = regressor.predict(X_test)"
   ]
  },
  {
   "cell_type": "code",
   "execution_count": 24,
   "id": "ef79893b",
   "metadata": {
    "execution": {
     "iopub.execute_input": "2024-11-29T01:42:44.140931Z",
     "iopub.status.busy": "2024-11-29T01:42:44.140549Z",
     "iopub.status.idle": "2024-11-29T01:42:44.146658Z",
     "shell.execute_reply": "2024-11-29T01:42:44.145711Z"
    },
    "papermill": {
     "duration": 0.021288,
     "end_time": "2024-11-29T01:42:44.148566",
     "exception": false,
     "start_time": "2024-11-29T01:42:44.127278",
     "status": "completed"
    },
    "tags": []
   },
   "outputs": [],
   "source": [
    "# Evaluate regression performance\n",
    "mse = mean_squared_error(Y_test, Y_pred_linear)\n",
    "r2 = r2_score(Y_test, Y_pred_linear)"
   ]
  },
  {
   "cell_type": "code",
   "execution_count": 25,
   "id": "47e73a41",
   "metadata": {
    "execution": {
     "iopub.execute_input": "2024-11-29T01:42:44.174982Z",
     "iopub.status.busy": "2024-11-29T01:42:44.174068Z",
     "iopub.status.idle": "2024-11-29T01:42:44.179779Z",
     "shell.execute_reply": "2024-11-29T01:42:44.178590Z"
    },
    "papermill": {
     "duration": 0.020935,
     "end_time": "2024-11-29T01:42:44.181755",
     "exception": false,
     "start_time": "2024-11-29T01:42:44.160820",
     "status": "completed"
    },
    "tags": []
   },
   "outputs": [
    {
     "name": "stdout",
     "output_type": "stream",
     "text": [
      "Mean Squared Error: 0.22\n",
      "R-squared: -0.00\n"
     ]
    }
   ],
   "source": [
    "print(f\"Mean Squared Error: {mse:.2f}\")\n",
    "print(f\"R-squared: {r2:.2f}\")"
   ]
  },
  {
   "cell_type": "code",
   "execution_count": 26,
   "id": "ec389350",
   "metadata": {
    "execution": {
     "iopub.execute_input": "2024-11-29T01:42:44.207859Z",
     "iopub.status.busy": "2024-11-29T01:42:44.207449Z",
     "iopub.status.idle": "2024-11-29T01:42:44.445251Z",
     "shell.execute_reply": "2024-11-29T01:42:44.444055Z"
    },
    "papermill": {
     "duration": 0.253497,
     "end_time": "2024-11-29T01:42:44.447498",
     "exception": false,
     "start_time": "2024-11-29T01:42:44.194001",
     "status": "completed"
    },
    "tags": []
   },
   "outputs": [
    {
     "data": {
      "image/png": "[encoded data removed]",
      "text/plain": [
       "<Figure size 1000x600 with 1 Axes>"
      ]
     },
     "metadata": {},
     "output_type": "display_data"
    }
   ],
   "source": [
    "# Plot Linear Regression: Predicted vs Actual values\n",
    "plt.figure(figsize=(10, 6))\n",
    "plt.scatter(X_test, Y_test, color='blue', label='Actual')\n",
    "plt.plot(X_test, Y_pred_linear, color='red', linewidth=2, label='Linear Regression Line')\n",
    "plt.xlabel('Encoded PassengerId')\n",
    "plt.ylabel('Survived')\n",
    "plt.title('Linear Regression: Predicted vs Actual')\n",
    "plt.legend()\n",
    "plt.show()"
   ]
  },
  {
   "cell_type": "markdown",
   "id": "dd11ccf3",
   "metadata": {
    "papermill": {
     "duration": 0.013525,
     "end_time": "2024-11-29T01:42:44.473898",
     "exception": false,
     "start_time": "2024-11-29T01:42:44.460373",
     "status": "completed"
    },
    "tags": []
   },
   "source": [
    "# Random Forest Regressor Model (Regression)\n",
    "\n",
    "Now let's try using a Random Forest model to see if an ensemble approach can yield better results."
   ]
  },
  {
   "cell_type": "code",
   "execution_count": 27,
   "id": "4eef287b",
   "metadata": {
    "execution": {
     "iopub.execute_input": "2024-11-29T01:42:44.501752Z",
     "iopub.status.busy": "2024-11-29T01:42:44.501361Z",
     "iopub.status.idle": "2024-11-29T01:42:44.817240Z",
     "shell.execute_reply": "2024-11-29T01:42:44.816178Z"
    },
    "papermill": {
     "duration": 0.332247,
     "end_time": "2024-11-29T01:42:44.819500",
     "exception": false,
     "start_time": "2024-11-29T01:42:44.487253",
     "status": "completed"
    },
    "tags": []
   },
   "outputs": [
    {
     "data": {
      "text/html": [
       "<style>#sk-container-id-3 {color: black;background-color: white;}#sk-container-id-3 pre{padding: 0;}#sk-container-id-3 div.sk-toggleable {background-color: white;}#sk-container-id-3 label.sk-toggleable__label {cursor: pointer;display: block;width: 100%;margin-bottom: 0;padding: 0.3em;box-sizing: border-box;text-align: center;}#sk-container-id-3 label.sk-toggleable__label-arrow:before {content: \"▸\";float: left;margin-right: 0.25em;color: #696969;}#sk-container-id-3 label.sk-toggleable__label-arrow:hover:before {color: black;}#sk-container-id-3 div.sk-estimator:hover label.sk-toggleable__label-arrow:before {color: black;}#sk-container-id-3 div.sk-toggleable__content {max-height: 0;max-width: 0;overflow: hidden;text-align: left;background-color: #f0f8ff;}#sk-container-id-3 div.sk-toggleable__content pre {margin: 0.2em;color: black;border-radius: 0.25em;background-color: #f0f8ff;}#sk-container-id-3 input.sk-toggleable__control:checked~div.sk-toggleable__content {max-height: 200px;max-width: 100%;overflow: auto;}#sk-container-id-3 input.sk-toggleable__control:checked~label.sk-toggleable__label-arrow:before {content: \"▾\";}#sk-container-id-3 div.sk-estimator input.sk-toggleable__control:checked~label.sk-toggleable__label {background-color: #d4ebff;}#sk-container-id-3 div.sk-label input.sk-toggleable__control:checked~label.sk-toggleable__label {background-color: #d4ebff;}#sk-container-id-3 input.sk-hidden--visually {border: 0;clip: rect(1px 1px 1px 1px);clip: rect(1px, 1px, 1px, 1px);height: 1px;margin: -1px;overflow: hidden;padding: 0;position: absolute;width: 1px;}#sk-container-id-3 div.sk-estimator {font-family: monospace;background-color: #f0f8ff;border: 1px dotted black;border-radius: 0.25em;box-sizing: border-box;margin-bottom: 0.5em;}#sk-container-id-3 div.sk-estimator:hover {background-color: #d4ebff;}#sk-container-id-3 div.sk-parallel-item::after {content: \"\";width: 100%;border-bottom: 1px solid gray;flex-grow: 1;}#sk-container-id-3 div.sk-label:hover label.sk-toggleable__label {background-color: #d4ebff;}#sk-container-id-3 div.sk-serial::before {content: \"\";position: absolute;border-left: 1px solid gray;box-sizing: border-box;top: 0;bottom: 0;left: 50%;z-index: 0;}#sk-container-id-3 div.sk-serial {display: flex;flex-direction: column;align-items: center;background-color: white;padding-right: 0.2em;padding-left: 0.2em;position: relative;}#sk-container-id-3 div.sk-item {position: relative;z-index: 1;}#sk-container-id-3 div.sk-parallel {display: flex;align-items: stretch;justify-content: center;background-color: white;position: relative;}#sk-container-id-3 div.sk-item::before, #sk-container-id-3 div.sk-parallel-item::before {content: \"\";position: absolute;border-left: 1px solid gray;box-sizing: border-box;top: 0;bottom: 0;left: 50%;z-index: -1;}#sk-container-id-3 div.sk-parallel-item {display: flex;flex-direction: column;z-index: 1;position: relative;background-color: white;}#sk-container-id-3 div.sk-parallel-item:first-child::after {align-self: flex-end;width: 50%;}#sk-container-id-3 div.sk-parallel-item:last-child::after {align-self: flex-start;width: 50%;}#sk-container-id-3 div.sk-parallel-item:only-child::after {width: 0;}#sk-container-id-3 div.sk-dashed-wrapped {border: 1px dashed gray;margin: 0 0.4em 0.5em 0.4em;box-sizing: border-box;padding-bottom: 0.4em;background-color: white;}#sk-container-id-3 div.sk-label label {font-family: monospace;font-weight: bold;display: inline-block;line-height: 1.2em;}#sk-container-id-3 div.sk-label-container {text-align: center;}#sk-container-id-3 div.sk-container {/* jupyter's `normalize.less` sets `[hidden] { display: none; }` but bootstrap.min.css set `[hidden] { display: none !important; }` so we also need the `!important` here to be able to override the default hidden behavior on the sphinx rendered scikit-learn.org. See: https://github.com/scikit-learn/scikit-learn/issues/21755 */display: inline-block !important;position: relative;}#sk-container-id-3 div.sk-text-repr-fallback {display: none;}</style><div id=\"sk-container-id-3\" class=\"sk-top-container\"><div class=\"sk-text-repr-fallback\"><pre>RandomForestRegressor(random_state=42)</pre><b>In a Jupyter environment, please rerun this cell to show the HTML representation or trust the notebook. <br />On GitHub, the HTML representation is unable to render, please try loading this page with nbviewer.org.</b></div><div class=\"sk-container\" hidden><div class=\"sk-item\"><div class=\"sk-estimator sk-toggleable\"><input class=\"sk-toggleable__control sk-hidden--visually\" id=\"sk-estimator-id-3\" type=\"checkbox\" checked><label for=\"sk-estimator-id-3\" class=\"sk-toggleable__label sk-toggleable__label-arrow\">RandomForestRegressor</label><div class=\"sk-toggleable__content\"><pre>RandomForestRegressor(random_state=42)</pre></div></div></div></div></div>"
      ],
      "text/plain": [
       "RandomForestRegressor(random_state=42)"
      ]
     },
     "execution_count": 27,
     "metadata": {},
     "output_type": "execute_result"
    }
   ],
   "source": [
    "from sklearn.ensemble import RandomForestRegressor\n",
    "\n",
    "# Train Random Forest model\n",
    "rf_model = RandomForestRegressor(n_estimators=100, random_state=42)\n",
    "rf_model.fit(X_train, Y_train)\n"
   ]
  },
  {
   "cell_type": "code",
   "execution_count": 28,
   "id": "e69ede4e",
   "metadata": {
    "execution": {
     "iopub.execute_input": "2024-11-29T01:42:44.847065Z",
     "iopub.status.busy": "2024-11-29T01:42:44.846679Z",
     "iopub.status.idle": "2024-11-29T01:42:44.857737Z",
     "shell.execute_reply": "2024-11-29T01:42:44.856620Z"
    },
    "papermill": {
     "duration": 0.027384,
     "end_time": "2024-11-29T01:42:44.860068",
     "exception": false,
     "start_time": "2024-11-29T01:42:44.832684",
     "status": "completed"
    },
    "tags": []
   },
   "outputs": [],
   "source": [
    "# Predict on the test set\n",
    "Y_pred_rf = rf_model.predict(X_test)"
   ]
  },
  {
   "cell_type": "code",
   "execution_count": 29,
   "id": "ccb839f2",
   "metadata": {
    "execution": {
     "iopub.execute_input": "2024-11-29T01:42:44.887358Z",
     "iopub.status.busy": "2024-11-29T01:42:44.886942Z",
     "iopub.status.idle": "2024-11-29T01:42:44.893997Z",
     "shell.execute_reply": "2024-11-29T01:42:44.892954Z"
    },
    "papermill": {
     "duration": 0.022971,
     "end_time": "2024-11-29T01:42:44.895997",
     "exception": false,
     "start_time": "2024-11-29T01:42:44.873026",
     "status": "completed"
    },
    "tags": []
   },
   "outputs": [],
   "source": [
    "# Evaluate Random Forest performance\n",
    "mse_rf = mean_squared_error(Y_test, Y_pred_rf)\n",
    "r2_rf = r2_score(Y_test, Y_pred_rf)"
   ]
  },
  {
   "cell_type": "code",
   "execution_count": 30,
   "id": "8f3f7661",
   "metadata": {
    "execution": {
     "iopub.execute_input": "2024-11-29T01:42:44.924380Z",
     "iopub.status.busy": "2024-11-29T01:42:44.923937Z",
     "iopub.status.idle": "2024-11-29T01:42:44.929647Z",
     "shell.execute_reply": "2024-11-29T01:42:44.928530Z"
    },
    "papermill": {
     "duration": 0.02247,
     "end_time": "2024-11-29T01:42:44.931657",
     "exception": false,
     "start_time": "2024-11-29T01:42:44.909187",
     "status": "completed"
    },
    "tags": []
   },
   "outputs": [
    {
     "name": "stdout",
     "output_type": "stream",
     "text": [
      "Random Forest - Mean Squared Error: 0.37\n",
      "Random Forest - R-squared: -0.64\n"
     ]
    }
   ],
   "source": [
    "print(f\"Random Forest - Mean Squared Error: {mse_rf:.2f}\")\n",
    "print(f\"Random Forest - R-squared: {r2_rf:.2f}\")"
   ]
  },
  {
   "cell_type": "markdown",
   "id": "7110b13b",
   "metadata": {
    "papermill": {
     "duration": 0.01256,
     "end_time": "2024-11-29T01:42:44.957164",
     "exception": false,
     "start_time": "2024-11-29T01:42:44.944604",
     "status": "completed"
    },
    "tags": []
   },
   "source": [
    "# Ridge Regression Model (Regularization)\n",
    "\n",
    "We can apply Ridge Regression to add a regularization term. Let's test if this improves our model's performance."
   ]
  },
  {
   "cell_type": "code",
   "execution_count": 31,
   "id": "ece496aa",
   "metadata": {
    "execution": {
     "iopub.execute_input": "2024-11-29T01:42:44.985122Z",
     "iopub.status.busy": "2024-11-29T01:42:44.984727Z",
     "iopub.status.idle": "2024-11-29T01:42:44.996963Z",
     "shell.execute_reply": "2024-11-29T01:42:44.995914Z"
    },
    "papermill": {
     "duration": 0.028694,
     "end_time": "2024-11-29T01:42:44.999138",
     "exception": false,
     "start_time": "2024-11-29T01:42:44.970444",
     "status": "completed"
    },
    "tags": []
   },
   "outputs": [
    {
     "data": {
      "text/html": [
       "<style>#sk-container-id-4 {color: black;background-color: white;}#sk-container-id-4 pre{padding: 0;}#sk-container-id-4 div.sk-toggleable {background-color: white;}#sk-container-id-4 label.sk-toggleable__label {cursor: pointer;display: block;width: 100%;margin-bottom: 0;padding: 0.3em;box-sizing: border-box;text-align: center;}#sk-container-id-4 label.sk-toggleable__label-arrow:before {content: \"▸\";float: left;margin-right: 0.25em;color: #696969;}#sk-container-id-4 label.sk-toggleable__label-arrow:hover:before {color: black;}#sk-container-id-4 div.sk-estimator:hover label.sk-toggleable__label-arrow:before {color: black;}#sk-container-id-4 div.sk-toggleable__content {max-height: 0;max-width: 0;overflow: hidden;text-align: left;background-color: #f0f8ff;}#sk-container-id-4 div.sk-toggleable__content pre {margin: 0.2em;color: black;border-radius: 0.25em;background-color: #f0f8ff;}#sk-container-id-4 input.sk-toggleable__control:checked~div.sk-toggleable__content {max-height: 200px;max-width: 100%;overflow: auto;}#sk-container-id-4 input.sk-toggleable__control:checked~label.sk-toggleable__label-arrow:before {content: \"▾\";}#sk-container-id-4 div.sk-estimator input.sk-toggleable__control:checked~label.sk-toggleable__label {background-color: #d4ebff;}#sk-container-id-4 div.sk-label input.sk-toggleable__control:checked~label.sk-toggleable__label {background-color: #d4ebff;}#sk-container-id-4 input.sk-hidden--visually {border: 0;clip: rect(1px 1px 1px 1px);clip: rect(1px, 1px, 1px, 1px);height: 1px;margin: -1px;overflow: hidden;padding: 0;position: absolute;width: 1px;}#sk-container-id-4 div.sk-estimator {font-family: monospace;background-color: #f0f8ff;border: 1px dotted black;border-radius: 0.25em;box-sizing: border-box;margin-bottom: 0.5em;}#sk-container-id-4 div.sk-estimator:hover {background-color: #d4ebff;}#sk-container-id-4 div.sk-parallel-item::after {content: \"\";width: 100%;border-bottom: 1px solid gray;flex-grow: 1;}#sk-container-id-4 div.sk-label:hover label.sk-toggleable__label {background-color: #d4ebff;}#sk-container-id-4 div.sk-serial::before {content: \"\";position: absolute;border-left: 1px solid gray;box-sizing: border-box;top: 0;bottom: 0;left: 50%;z-index: 0;}#sk-container-id-4 div.sk-serial {display: flex;flex-direction: column;align-items: center;background-color: white;padding-right: 0.2em;padding-left: 0.2em;position: relative;}#sk-container-id-4 div.sk-item {position: relative;z-index: 1;}#sk-container-id-4 div.sk-parallel {display: flex;align-items: stretch;justify-content: center;background-color: white;position: relative;}#sk-container-id-4 div.sk-item::before, #sk-container-id-4 div.sk-parallel-item::before {content: \"\";position: absolute;border-left: 1px solid gray;box-sizing: border-box;top: 0;bottom: 0;left: 50%;z-index: -1;}#sk-container-id-4 div.sk-parallel-item {display: flex;flex-direction: column;z-index: 1;position: relative;background-color: white;}#sk-container-id-4 div.sk-parallel-item:first-child::after {align-self: flex-end;width: 50%;}#sk-container-id-4 div.sk-parallel-item:last-child::after {align-self: flex-start;width: 50%;}#sk-container-id-4 div.sk-parallel-item:only-child::after {width: 0;}#sk-container-id-4 div.sk-dashed-wrapped {border: 1px dashed gray;margin: 0 0.4em 0.5em 0.4em;box-sizing: border-box;padding-bottom: 0.4em;background-color: white;}#sk-container-id-4 div.sk-label label {font-family: monospace;font-weight: bold;display: inline-block;line-height: 1.2em;}#sk-container-id-4 div.sk-label-container {text-align: center;}#sk-container-id-4 div.sk-container {/* jupyter's `normalize.less` sets `[hidden] { display: none; }` but bootstrap.min.css set `[hidden] { display: none !important; }` so we also need the `!important` here to be able to override the default hidden behavior on the sphinx rendered scikit-learn.org. See: https://github.com/scikit-learn/scikit-learn/issues/21755 */display: inline-block !important;position: relative;}#sk-container-id-4 div.sk-text-repr-fallback {display: none;}</style><div id=\"sk-container-id-4\" class=\"sk-top-container\"><div class=\"sk-text-repr-fallback\"><pre>Ridge()</pre><b>In a Jupyter environment, please rerun this cell to show the HTML representation or trust the notebook. <br />On GitHub, the HTML representation is unable to render, please try loading this page with nbviewer.org.</b></div><div class=\"sk-container\" hidden><div class=\"sk-item\"><div class=\"sk-estimator sk-toggleable\"><input class=\"sk-toggleable__control sk-hidden--visually\" id=\"sk-estimator-id-4\" type=\"checkbox\" checked><label for=\"sk-estimator-id-4\" class=\"sk-toggleable__label sk-toggleable__label-arrow\">Ridge</label><div class=\"sk-toggleable__content\"><pre>Ridge()</pre></div></div></div></div></div>"
      ],
      "text/plain": [
       "Ridge()"
      ]
     },
     "execution_count": 31,
     "metadata": {},
     "output_type": "execute_result"
    }
   ],
   "source": [
    "from sklearn.linear_model import Ridge\n",
    "\n",
    "# Train Ridge Regression model\n",
    "ridge_regressor = Ridge(alpha=1.0)\n",
    "ridge_regressor.fit(X_train, Y_train)"
   ]
  },
  {
   "cell_type": "code",
   "execution_count": 32,
   "id": "129945bf",
   "metadata": {
    "execution": {
     "iopub.execute_input": "2024-11-29T01:42:45.027258Z",
     "iopub.status.busy": "2024-11-29T01:42:45.026874Z",
     "iopub.status.idle": "2024-11-29T01:42:45.031804Z",
     "shell.execute_reply": "2024-11-29T01:42:45.030835Z"
    },
    "papermill": {
     "duration": 0.021365,
     "end_time": "2024-11-29T01:42:45.033855",
     "exception": false,
     "start_time": "2024-11-29T01:42:45.012490",
     "status": "completed"
    },
    "tags": []
   },
   "outputs": [],
   "source": [
    "# Predict on the test set\n",
    "Y_pred_ridge = ridge_regressor.predict(X_test)"
   ]
  },
  {
   "cell_type": "code",
   "execution_count": 33,
   "id": "e5092d9e",
   "metadata": {
    "execution": {
     "iopub.execute_input": "2024-11-29T01:42:45.061908Z",
     "iopub.status.busy": "2024-11-29T01:42:45.061493Z",
     "iopub.status.idle": "2024-11-29T01:42:45.068436Z",
     "shell.execute_reply": "2024-11-29T01:42:45.067229Z"
    },
    "papermill": {
     "duration": 0.02324,
     "end_time": "2024-11-29T01:42:45.070462",
     "exception": false,
     "start_time": "2024-11-29T01:42:45.047222",
     "status": "completed"
    },
    "tags": []
   },
   "outputs": [],
   "source": [
    "\n",
    "# Evaluate Ridge Regression performance\n",
    "mse_ridge = mean_squared_error(Y_test, Y_pred_ridge)\n",
    "r2_ridge = r2_score(Y_test, Y_pred_ridge)"
   ]
  },
  {
   "cell_type": "code",
   "execution_count": 34,
   "id": "6a2f7a3b",
   "metadata": {
    "execution": {
     "iopub.execute_input": "2024-11-29T01:42:45.098228Z",
     "iopub.status.busy": "2024-11-29T01:42:45.097802Z",
     "iopub.status.idle": "2024-11-29T01:42:45.103172Z",
     "shell.execute_reply": "2024-11-29T01:42:45.102007Z"
    },
    "papermill": {
     "duration": 0.021562,
     "end_time": "2024-11-29T01:42:45.105124",
     "exception": false,
     "start_time": "2024-11-29T01:42:45.083562",
     "status": "completed"
    },
    "tags": []
   },
   "outputs": [
    {
     "name": "stdout",
     "output_type": "stream",
     "text": [
      "Ridge Regression - Mean Squared Error: 0.22\n",
      "Ridge Regression - R-squared: -0.00\n"
     ]
    }
   ],
   "source": [
    "print(f\"Ridge Regression - Mean Squared Error: {mse_ridge:.2f}\")\n",
    "print(f\"Ridge Regression - R-squared: {r2_ridge:.2f}\")"
   ]
  },
  {
   "cell_type": "markdown",
   "id": "f44f0e2e",
   "metadata": {
    "papermill": {
     "duration": 0.012957,
     "end_time": "2024-11-29T01:42:45.132064",
     "exception": false,
     "start_time": "2024-11-29T01:42:45.119107",
     "status": "completed"
    },
    "tags": []
   },
   "source": [
    "# Neural Network with Embedding Layer (Advanced)\n",
    "\n",
    "Given the structure of the data, we can try using an embedding-based approach for `PassengerId`, which will allow the model to learn a more meaningful representation of the passenger IDs."
   ]
  },
  {
   "cell_type": "code",
   "execution_count": 35,
   "id": "03cc7efc",
   "metadata": {
    "execution": {
     "iopub.execute_input": "2024-11-29T01:42:45.160174Z",
     "iopub.status.busy": "2024-11-29T01:42:45.159127Z",
     "iopub.status.idle": "2024-11-29T01:42:57.730885Z",
     "shell.execute_reply": "2024-11-29T01:42:57.729944Z"
    },
    "papermill": {
     "duration": 12.588125,
     "end_time": "2024-11-29T01:42:57.733224",
     "exception": false,
     "start_time": "2024-11-29T01:42:45.145099",
     "status": "completed"
    },
    "tags": []
   },
   "outputs": [],
   "source": [
    "import tensorflow as tf\n",
    "from tensorflow.keras.models import Sequential\n",
    "from tensorflow.keras.layers import Embedding, Flatten, Dense, Input\n",
    "from tensorflow.keras.optimizers import Adam"
   ]
  },
  {
   "cell_type": "code",
   "execution_count": 36,
   "id": "146895ec",
   "metadata": {
    "execution": {
     "iopub.execute_input": "2024-11-29T01:42:57.762029Z",
     "iopub.status.busy": "2024-11-29T01:42:57.761072Z",
     "iopub.status.idle": "2024-11-29T01:42:57.852824Z",
     "shell.execute_reply": "2024-11-29T01:42:57.851767Z"
    },
    "papermill": {
     "duration": 0.108433,
     "end_time": "2024-11-29T01:42:57.854893",
     "exception": false,
     "start_time": "2024-11-29T01:42:57.746460",
     "status": "completed"
    },
    "tags": []
   },
   "outputs": [
    {
     "name": "stderr",
     "output_type": "stream",
     "text": [
      "/opt/conda/lib/python3.10/site-packages/keras/src/layers/core/embedding.py:90: UserWarning: Argument `input_length` is deprecated. Just remove it.\n",
      "  warnings.warn(\n"
     ]
    }
   ],
   "source": [
    "# Build the model using embeddings\n",
    "model = Sequential()\n",
    "model.add(Input(shape=(1,)))  # One input feature (PassengerId)\n",
    "model.add(Embedding(input_dim=len(df['PassengerId'].unique()) + 1, output_dim=10, input_length=1))\n",
    "model.add(Flatten())  # Flatten the embedding output to a 1D vector\n",
    "model.add(Dense(64, activation='relu'))  # Dense layer for additional learning\n",
    "model.add(Dense(1, activation='sigmoid'))  # Output layer for binary classification\n"
   ]
  },
  {
   "cell_type": "code",
   "execution_count": 37,
   "id": "73134202",
   "metadata": {
    "execution": {
     "iopub.execute_input": "2024-11-29T01:42:57.883023Z",
     "iopub.status.busy": "2024-11-29T01:42:57.882631Z",
     "iopub.status.idle": "2024-11-29T01:42:57.896901Z",
     "shell.execute_reply": "2024-11-29T01:42:57.895760Z"
    },
    "papermill": {
     "duration": 0.030723,
     "end_time": "2024-11-29T01:42:57.899252",
     "exception": false,
     "start_time": "2024-11-29T01:42:57.868529",
     "status": "completed"
    },
    "tags": []
   },
   "outputs": [],
   "source": [
    "# Compile the model\n",
    "model.compile(optimizer=Adam(), loss='binary_crossentropy', metrics=['accuracy'])"
   ]
  },
  {
   "cell_type": "code",
   "execution_count": 38,
   "id": "0a78efb7",
   "metadata": {
    "execution": {
     "iopub.execute_input": "2024-11-29T01:42:57.927188Z",
     "iopub.status.busy": "2024-11-29T01:42:57.926679Z",
     "iopub.status.idle": "2024-11-29T01:42:57.933322Z",
     "shell.execute_reply": "2024-11-29T01:42:57.932320Z"
    },
    "papermill": {
     "duration": 0.022799,
     "end_time": "2024-11-29T01:42:57.935302",
     "exception": false,
     "start_time": "2024-11-29T01:42:57.912503",
     "status": "completed"
    },
    "tags": []
   },
   "outputs": [],
   "source": [
    "from sklearn.preprocessing import LabelEncoder\n",
    "\n",
    "# Label encoding for PassengerId\n",
    "encoder = LabelEncoder()\n",
    "df['Encoded_PassengerId'] = encoder.fit_transform(df['PassengerId'])"
   ]
  },
  {
   "cell_type": "code",
   "execution_count": 39,
   "id": "de9a35c7",
   "metadata": {
    "execution": {
     "iopub.execute_input": "2024-11-29T01:42:57.963075Z",
     "iopub.status.busy": "2024-11-29T01:42:57.962690Z",
     "iopub.status.idle": "2024-11-29T01:42:57.967840Z",
     "shell.execute_reply": "2024-11-29T01:42:57.966833Z"
    },
    "papermill": {
     "duration": 0.021508,
     "end_time": "2024-11-29T01:42:57.969953",
     "exception": false,
     "start_time": "2024-11-29T01:42:57.948445",
     "status": "completed"
    },
    "tags": []
   },
   "outputs": [],
   "source": [
    "# Prepare features and target\n",
    "X = df['Encoded_PassengerId'].values.reshape(-1, 1)  # Reshaping the data for the embedding layer\n",
    "Y = df['Survived']  # Assuming 'Survived' is your target column"
   ]
  },
  {
   "cell_type": "code",
   "execution_count": 40,
   "id": "4d3bcbda",
   "metadata": {
    "execution": {
     "iopub.execute_input": "2024-11-29T01:42:57.997506Z",
     "iopub.status.busy": "2024-11-29T01:42:57.997093Z",
     "iopub.status.idle": "2024-11-29T01:42:58.003882Z",
     "shell.execute_reply": "2024-11-29T01:42:58.002828Z"
    },
    "papermill": {
     "duration": 0.022826,
     "end_time": "2024-11-29T01:42:58.005827",
     "exception": false,
     "start_time": "2024-11-29T01:42:57.983001",
     "status": "completed"
    },
    "tags": []
   },
   "outputs": [],
   "source": [
    "# Split the data into train and test sets\n",
    "X_train, X_test, Y_train, Y_test = train_test_split(X, Y, test_size=0.2, random_state=42)"
   ]
  },
  {
   "cell_type": "code",
   "execution_count": 41,
   "id": "d44d533b",
   "metadata": {
    "execution": {
     "iopub.execute_input": "2024-11-29T01:42:58.033770Z",
     "iopub.status.busy": "2024-11-29T01:42:58.033369Z",
     "iopub.status.idle": "2024-11-29T01:43:00.078768Z",
     "shell.execute_reply": "2024-11-29T01:43:00.077840Z"
    },
    "papermill": {
     "duration": 2.061713,
     "end_time": "2024-11-29T01:43:00.080933",
     "exception": false,
     "start_time": "2024-11-29T01:42:58.019220",
     "status": "completed"
    },
    "tags": []
   },
   "outputs": [
    {
     "name": "stdout",
     "output_type": "stream",
     "text": [
      "Epoch 1/10\n",
      "\u001b[1m11/11\u001b[0m \u001b[32m━━━━━━━━━━━━━━━━━━━━\u001b[0m\u001b[37m\u001b[0m \u001b[1m1s\u001b[0m 20ms/step - accuracy: 0.5640 - loss: 0.6916 - val_accuracy: 0.6667 - val_loss: 0.6851\n",
      "Epoch 2/10\n",
      "\u001b[1m11/11\u001b[0m \u001b[32m━━━━━━━━━━━━━━━━━━━━\u001b[0m\u001b[37m\u001b[0m \u001b[1m0s\u001b[0m 4ms/step - accuracy: 0.6102 - loss: 0.6844 - val_accuracy: 0.6667 - val_loss: 0.6767\n",
      "Epoch 3/10\n",
      "\u001b[1m11/11\u001b[0m \u001b[32m━━━━━━━━━━━━━━━━━━━━\u001b[0m\u001b[37m\u001b[0m \u001b[1m0s\u001b[0m 4ms/step - accuracy: 0.6369 - loss: 0.6746 - val_accuracy: 0.6667 - val_loss: 0.6686\n",
      "Epoch 4/10\n",
      "\u001b[1m11/11\u001b[0m \u001b[32m━━━━━━━━━━━━━━━━━━━━\u001b[0m\u001b[37m\u001b[0m \u001b[1m0s\u001b[0m 4ms/step - accuracy: 0.6014 - loss: 0.6705 - val_accuracy: 0.6667 - val_loss: 0.6621\n",
      "Epoch 5/10\n",
      "\u001b[1m11/11\u001b[0m \u001b[32m━━━━━━━━━━━━━━━━━━━━\u001b[0m\u001b[37m\u001b[0m \u001b[1m0s\u001b[0m 4ms/step - accuracy: 0.5894 - loss: 0.6640 - val_accuracy: 0.6667 - val_loss: 0.6565\n",
      "Epoch 6/10\n",
      "\u001b[1m11/11\u001b[0m \u001b[32m━━━━━━━━━━━━━━━━━━━━\u001b[0m\u001b[37m\u001b[0m \u001b[1m0s\u001b[0m 5ms/step - accuracy: 0.6089 - loss: 0.6448 - val_accuracy: 0.6667 - val_loss: 0.6521\n",
      "Epoch 7/10\n",
      "\u001b[1m11/11\u001b[0m \u001b[32m━━━━━━━━━━━━━━━━━━━━\u001b[0m\u001b[37m\u001b[0m \u001b[1m0s\u001b[0m 5ms/step - accuracy: 0.5609 - loss: 0.6396 - val_accuracy: 0.6667 - val_loss: 0.6502\n",
      "Epoch 8/10\n",
      "\u001b[1m11/11\u001b[0m \u001b[32m━━━━━━━━━━━━━━━━━━━━\u001b[0m\u001b[37m\u001b[0m \u001b[1m0s\u001b[0m 4ms/step - accuracy: 0.6415 - loss: 0.5854 - val_accuracy: 0.6667 - val_loss: 0.6488\n",
      "Epoch 9/10\n",
      "\u001b[1m11/11\u001b[0m \u001b[32m━━━━━━━━━━━━━━━━━━━━\u001b[0m\u001b[37m\u001b[0m \u001b[1m0s\u001b[0m 4ms/step - accuracy: 0.6709 - loss: 0.5449 - val_accuracy: 0.6667 - val_loss: 0.6500\n",
      "Epoch 10/10\n",
      "\u001b[1m11/11\u001b[0m \u001b[32m━━━━━━━━━━━━━━━━━━━━\u001b[0m\u001b[37m\u001b[0m \u001b[1m0s\u001b[0m 4ms/step - accuracy: 0.8216 - loss: 0.4963 - val_accuracy: 0.6667 - val_loss: 0.6535\n"
     ]
    }
   ],
   "source": [
    "# Train the model\n",
    "history = model.fit(X_train, Y_train, epochs=10, batch_size=32, validation_data=(X_test, Y_test))"
   ]
  },
  {
   "cell_type": "code",
   "execution_count": 42,
   "id": "f481b6df",
   "metadata": {
    "execution": {
     "iopub.execute_input": "2024-11-29T01:43:00.112339Z",
     "iopub.status.busy": "2024-11-29T01:43:00.111889Z",
     "iopub.status.idle": "2024-11-29T01:43:00.506998Z",
     "shell.execute_reply": "2024-11-29T01:43:00.505886Z"
    },
    "papermill": {
     "duration": 0.41362,
     "end_time": "2024-11-29T01:43:00.509510",
     "exception": false,
     "start_time": "2024-11-29T01:43:00.095890",
     "status": "completed"
    },
    "tags": []
   },
   "outputs": [
    {
     "name": "stdout",
     "output_type": "stream",
     "text": [
      "\u001b[1m3/3\u001b[0m \u001b[32m━━━━━━━━━━━━━━━━━━━━\u001b[0m\u001b[37m\u001b[0m \u001b[1m0s\u001b[0m 22ms/step\n"
     ]
    }
   ],
   "source": [
    "# Make predictions\n",
    "Y_pred_nn = model.predict(X_test).flatten()  # Get predictions"
   ]
  },
  {
   "cell_type": "code",
   "execution_count": 43,
   "id": "11c76f2c",
   "metadata": {
    "execution": {
     "iopub.execute_input": "2024-11-29T01:43:00.547562Z",
     "iopub.status.busy": "2024-11-29T01:43:00.547157Z",
     "iopub.status.idle": "2024-11-29T01:43:00.554481Z",
     "shell.execute_reply": "2024-11-29T01:43:00.553354Z"
    },
    "papermill": {
     "duration": 0.031549,
     "end_time": "2024-11-29T01:43:00.557139",
     "exception": false,
     "start_time": "2024-11-29T01:43:00.525590",
     "status": "completed"
    },
    "tags": []
   },
   "outputs": [],
   "source": [
    "# Evaluate the model using MSE and R-squared\n",
    "mse = mean_squared_error(Y_test, Y_pred_nn)\n",
    "r2 = r2_score(Y_test, Y_pred_nn)"
   ]
  },
  {
   "cell_type": "code",
   "execution_count": 44,
   "id": "985830c2",
   "metadata": {
    "execution": {
     "iopub.execute_input": "2024-11-29T01:43:00.592977Z",
     "iopub.status.busy": "2024-11-29T01:43:00.592512Z",
     "iopub.status.idle": "2024-11-29T01:43:00.598270Z",
     "shell.execute_reply": "2024-11-29T01:43:00.597200Z"
    },
    "papermill": {
     "duration": 0.02642,
     "end_time": "2024-11-29T01:43:00.600426",
     "exception": false,
     "start_time": "2024-11-29T01:43:00.574006",
     "status": "completed"
    },
    "tags": []
   },
   "outputs": [
    {
     "name": "stdout",
     "output_type": "stream",
     "text": [
      "Mean Squared Error: 0.23\n",
      "R-squared: -0.04\n"
     ]
    }
   ],
   "source": [
    "print(f\"Mean Squared Error: {mse:.2f}\")\n",
    "print(f\"R-squared: {r2:.2f}\")"
   ]
  },
  {
   "cell_type": "code",
   "execution_count": 45,
   "id": "b29770b1",
   "metadata": {
    "execution": {
     "iopub.execute_input": "2024-11-29T01:43:00.631685Z",
     "iopub.status.busy": "2024-11-29T01:43:00.631250Z",
     "iopub.status.idle": "2024-11-29T01:43:00.645954Z",
     "shell.execute_reply": "2024-11-29T01:43:00.644964Z"
    },
    "papermill": {
     "duration": 0.032842,
     "end_time": "2024-11-29T01:43:00.648107",
     "exception": false,
     "start_time": "2024-11-29T01:43:00.615265",
     "status": "completed"
    },
    "tags": []
   },
   "outputs": [
    {
     "data": {
      "text/plain": [
       "<Figure size 1200x600 with 0 Axes>"
      ]
     },
     "execution_count": 45,
     "metadata": {},
     "output_type": "execute_result"
    },
    {
     "data": {
      "text/plain": [
       "<Figure size 1200x600 with 0 Axes>"
      ]
     },
     "metadata": {},
     "output_type": "display_data"
    }
   ],
   "source": [
    "# Plot Neural Network Training History: Accuracy and Loss\n",
    "plt.figure(figsize=(12, 6))"
   ]
  },
  {
   "cell_type": "code",
   "execution_count": 46,
   "id": "34e799a6",
   "metadata": {
    "execution": {
     "iopub.execute_input": "2024-11-29T01:43:00.680568Z",
     "iopub.status.busy": "2024-11-29T01:43:00.680124Z",
     "iopub.status.idle": "2024-11-29T01:43:00.982247Z",
     "shell.execute_reply": "2024-11-29T01:43:00.981022Z"
    },
    "papermill": {
     "duration": 0.3212,
     "end_time": "2024-11-29T01:43:00.984470",
     "exception": false,
     "start_time": "2024-11-29T01:43:00.663270",
     "status": "completed"
    },
    "tags": []
   },
   "outputs": [
    {
     "data": {
      "text/plain": [
       "<matplotlib.legend.Legend at 0x7c22c46f1270>"
      ]
     },
     "execution_count": 46,
     "metadata": {},
     "output_type": "execute_result"
    },
    {
     "data": {
      "image/png": "[encoded data removed]",
      "text/plain": [
       "<Figure size 640x480 with 1 Axes>"
      ]
     },
     "metadata": {},
     "output_type": "display_data"
    }
   ],
   "source": [
    "# Accuracy Plot\n",
    "plt.subplot(1, 2, 1)\n",
    "plt.plot(history.history['accuracy'], label='Training Accuracy')\n",
    "plt.plot(history.history['val_accuracy'], label='Validation Accuracy')\n",
    "plt.title('Neural Network Accuracy')\n",
    "plt.xlabel('Epochs')\n",
    "plt.ylabel('Accuracy')\n",
    "plt.legend()"
   ]
  },
  {
   "cell_type": "code",
   "execution_count": 47,
   "id": "48fdcf96",
   "metadata": {
    "execution": {
     "iopub.execute_input": "2024-11-29T01:43:01.017942Z",
     "iopub.status.busy": "2024-11-29T01:43:01.017544Z",
     "iopub.status.idle": "2024-11-29T01:43:01.355010Z",
     "shell.execute_reply": "2024-11-29T01:43:01.353898Z"
    },
    "papermill": {
     "duration": 0.356938,
     "end_time": "2024-11-29T01:43:01.357181",
     "exception": false,
     "start_time": "2024-11-29T01:43:01.000243",
     "status": "completed"
    },
    "tags": []
   },
   "outputs": [
    {
     "data": {
      "image/png": "[encoded data removed]",
      "text/plain": [
       "<Figure size 640x480 with 1 Axes>"
      ]
     },
     "metadata": {},
     "output_type": "display_data"
    }
   ],
   "source": [
    "# Loss Plot\n",
    "plt.subplot(1, 2, 2)\n",
    "plt.plot(history.history['loss'], label='Training Loss')\n",
    "plt.plot(history.history['val_loss'], label='Validation Loss')\n",
    "plt.title('Neural Network Loss')\n",
    "plt.xlabel('Epochs')\n",
    "plt.ylabel('Loss')\n",
    "plt.legend()\n",
    "\n",
    "plt.tight_layout()\n",
    "plt.show()"
   ]
  },
  {
   "cell_type": "code",
   "execution_count": 48,
   "id": "d89501b3",
   "metadata": {
    "execution": {
     "iopub.execute_input": "2024-11-29T01:43:01.390577Z",
     "iopub.status.busy": "2024-11-29T01:43:01.390165Z",
     "iopub.status.idle": "2024-11-29T01:43:01.641069Z",
     "shell.execute_reply": "2024-11-29T01:43:01.640013Z"
    },
    "papermill": {
     "duration": 0.269909,
     "end_time": "2024-11-29T01:43:01.643072",
     "exception": false,
     "start_time": "2024-11-29T01:43:01.373163",
     "status": "completed"
    },
    "tags": []
   },
   "outputs": [
    {
     "data": {
      "image/png": "[encoded data removed]",
      "text/plain": [
       "<Figure size 1000x600 with 1 Axes>"
      ]
     },
     "metadata": {},
     "output_type": "display_data"
    }
   ],
   "source": [
    "# Plot Neural Network: Predicted vs Actual values\n",
    "plt.figure(figsize=(10, 6))\n",
    "plt.scatter(X_test, Y_test, color='blue', label='Actual')\n",
    "plt.scatter(X_test, Y_pred_nn, color='red', label='Predicted', alpha=0.5)\n",
    "plt.xlabel('Encoded PassengerId')\n",
    "plt.ylabel('Survived')\n",
    "plt.title('Neural Network: Predicted vs Actual')\n",
    "plt.legend()\n",
    "plt.show()"
   ]
  },
  {
   "cell_type": "markdown",
   "id": "fae6bf27",
   "metadata": {
    "papermill": {
     "duration": 0.016327,
     "end_time": "2024-11-29T01:43:01.676006",
     "exception": false,
     "start_time": "2024-11-29T01:43:01.659679",
     "status": "completed"
    },
    "tags": []
   },
   "source": [
    "# Model Evaluation\n",
    "\n",
    "Let's summarize the results of the different models we tried, including the performance metrics for each one.\n",
    "1. Logistic Regression\n",
    "- Accuracy: 0.67 (roughly 67% of predictions were correct).\n",
    "- Classification Report: The Logistic Regression model performed reasonably well as a classifier, given that it can predict binary outcomes. However, its performance was somewhat limited due to the absence of informative features (i.e., it only used PassengerId).\n",
    "2. Linear Regression\n",
    "- Mean Squared Error (MSE): 0.22\n",
    "- R-squared: -0.00\n",
    "  - Interpretation: The Linear Regression model didn't perform well for this classification task. Its MSE is quite high, and the R-squared value suggests that it wasn't able to capture the underlying patterns in the data (likely due to PassengerId being a poor predictor for survival).\n",
    "3. Random Forest Regressor\n",
    "- Mean Squared Error (MSE): 0.37\n",
    "- R-squared: -0.64\n",
    "  - Interpretation: Although Random Forest models typically perform well, this model's performance was hindered by the fact that the feature PassengerId doesn't contain valuable predictive information. The negative R-squared value indicates poor model fit, with predictions that are worse than simply predicting the mean of the target.\n",
    "4. Ridge Regression\n",
    "- Mean Squared Error (MSE): 0.22\n",
    "- R-squared: -0.00\n",
    "  - Interpretation: The Ridge Regression model, which adds regularization to Linear Regression, still didn't show meaningful predictive performance. The model's regularization helped reduce overfitting but didn't improve its ability to predict survival.\n",
    "5. Neural Network with Embedding Layer\n",
    "- Mean Squared Error (MSE): 0.24\n",
    "- R-squared: -0.06\n",
    "  - Interpretation: The Neural Network, using an embedding layer for PassengerId, performed poorly. While neural networks can learn complex relationships in data, the absence of relevant features meant that the model could not learn meaningful patterns for survival prediction, leading to poor generalization and high error rates."
   ]
  },
  {
   "cell_type": "markdown",
   "id": "d9ee897a",
   "metadata": {
    "papermill": {
     "duration": 0.01627,
     "end_time": "2024-11-29T01:43:01.708877",
     "exception": false,
     "start_time": "2024-11-29T01:43:01.692607",
     "status": "completed"
    },
    "tags": []
   },
   "source": [
    "# Conclusion\n",
    "\n",
    "Based on the results of the models, we can conclude the following:\n",
    "- **Logistic Regression** performed as expected for binary classification.\n",
    "- **Linear Regression** did not provide meaningful results for classification, given the single feature.\n",
    "- **Random Forest Regressor** gave a better prediction in terms of regression.\n",
    "- **Ridge Regression** showed how regularization can affect performance.\n",
    "- The **Neural Network with Embedding** approach was an attempt to extract more meaningful information from the `PassengerId`, though it still had limited success due to the lack of other informative features.\n",
    "\n",
    "### Next Steps:\n",
    "- To improve performance, consider adding more meaningful features such as `Pclass`, `Sex`, `Age`, and `Fare` to the dataset.\n",
    "- Feature engineering and data cleaning would also improve model performance significantly.ance significantly.\r\n"
   ]
  }
 ],
 "metadata": {
  "kaggle": {
   "accelerator": "none",
   "dataSources": [
    {
     "datasetId": 340,
     "sourceId": 721,
     "sourceType": "datasetVersion"
    }
   ],
   "dockerImageVersionId": 30786,
   "isGpuEnabled": false,
   "isInternetEnabled": true,
   "language": "python",
   "sourceType": "notebook"
  },
  "kernelspec": {
   "display_name": "Python 3",
   "language": "python",
   "name": "python3"
  },
  "language_info": {
   "codemirror_mode": {
    "name": "ipython",
    "version": 3
   },
   "file_extension": ".py",
   "mimetype": "text/x-python",
   "name": "python",
   "nbconvert_exporter": "python",
   "pygments_lexer": "ipython3",
   "version": "3.10.14"
  },
  "papermill": {
   "default_parameters": {},
   "duration": 26.312114,
   "end_time": "2024-11-29T01:43:03.350564",
   "environment_variables": {},
   "exception": null,
   "input_path": "__notebook__.ipynb",
   "output_path": "__notebook__.ipynb",
   "parameters": {},
   "start_time": "2024-11-29T01:42:37.038450",
   "version": "2.6.0"
  }
 },
 "nbformat": 4,
 "nbformat_minor": 5
}
