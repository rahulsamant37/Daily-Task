{
 "cells": [
  {
   "cell_type": "code",
   "execution_count": 11,
   "id": "43c7aec8",
   "metadata": {},
   "outputs": [],
   "source": [
    "from langchain.vectorstores import FAISS\n",
    "from langchain.document_loaders import PyPDFLoader\n",
    "from langchain_google_genai import GoogleGenerativeAIEmbeddings\n",
    "from langchain_text_splitters.character import RecursiveCharacterTextSplitter\n",
    "\n",
    "from dotenv import load_dotenv"
   ]
  },
  {
   "cell_type": "code",
   "execution_count": 12,
   "id": "782c7b38",
   "metadata": {},
   "outputs": [
    {
     "data": {
      "text/plain": [
       "True"
      ]
     },
     "execution_count": 12,
     "metadata": {},
     "output_type": "execute_result"
    }
   ],
   "source": [
    "import os\n",
    "os.getcwd()\n",
    "load_dotenv()"
   ]
  },
  {
   "cell_type": "code",
   "execution_count": 13,
   "id": "e65222b1",
   "metadata": {},
   "outputs": [],
   "source": [
    "file_paths=[\n",
    "    \"../data/001.pdf\",\n",
    "    \"../data/002.pdf\",\n",
    "    \"../data/003.pdf\",\n",
    "    \"../data/004.pdf\",\n",
    "    \"../data/005.pdf\",\n",
    "    \"../data/006.pdf\",\n",
    "    \"../data/007.pdf\",\n",
    "    \"../data/008.pdf\",\n",
    "    \"../data/009.pdf\",\n",
    "    \"../data/010.pdf\"\n",
    "]"
   ]
  },
  {
   "cell_type": "code",
   "execution_count": 14,
   "id": "cab4fef0",
   "metadata": {},
   "outputs": [],
   "source": [
    "for file_path in file_paths:\n",
    "    loader=PyPDFLoader(file_path)\n",
    "    documents=loader.load()\n",
    "    text_splitter=RecursiveCharacterTextSplitter(\n",
    "        chunk_size=500,\n",
    "        chunk_overlap=150,\n",
    "        length_function=len\n",
    "    )\n",
    "    docs=text_splitter.split_documents(documents)\n",
    "    embedding_model=GoogleGenerativeAIEmbeddings(model=\"models/embedding-001\")\n",
    "    vectorstore=FAISS.from_documents(docs, embedding_model)"
   ]
  },
  {
   "cell_type": "code",
   "execution_count": 15,
   "metadata": {},
   "outputs": [
    {
     "data": {
      "text/plain": [
       "'of data that is large enough to not be memorized in spite of the noise but not so large that\\noverﬁtting is not a problem anyways.\\n7.5 Monte-Carlo Model Averaging vs. Weight Scaling\\n0 20 40 60 80 100 120\\nNumber of samples used for Monte-Carlo averaging (k)1.001.051.101.151.201.251.301.35Test Classification error %\\nMonte-Carlo Model Averaging\\nApproximate averaging by weight scaling\\nFigure 11: Monte-Carlo model averaging vs.\\nweight scaling.The eﬃcient test time procedure that we'"
      ]
     },
     "execution_count": 15,
     "metadata": {},
     "output_type": "execute_result"
    }
   ],
   "source": [
    "relevant_doc=vectorstore.similarity_search(\"llama2 finetuning benchmark experiments.\",k=10)\n",
    "relevant_doc[0].page_content"
   ]
  },
  {
   "cell_type": "code",
   "execution_count": null,
   "id": "66ec09dc",
   "metadata": {},
   "outputs": [],
   "source": []
  }
 ],
 "metadata": {
  "kernelspec": {
   "display_name": "base",
   "language": "python",
   "name": "python3"
  },
  "language_info": {
   "codemirror_mode": {
    "name": "ipython",
    "version": 3
   },
   "file_extension": ".py",
   "mimetype": "text/x-python",
   "name": "python",
   "nbconvert_exporter": "python",
   "pygments_lexer": "ipython3",
   "version": "3.12.7"
  }
 },
 "nbformat": 4,
 "nbformat_minor": 5
}
