{
 "cells": [
  {
   "cell_type": "code",
   "execution_count": 21,
   "metadata": {},
   "outputs": [
    {
     "data": {
      "text/plain": [
       "<langchain_community.document_loaders.text.TextLoader at 0x17d541f8440>"
      ]
     },
     "execution_count": 21,
     "metadata": {},
     "output_type": "execute_result"
    }
   ],
   "source": [
    "## text loader\n",
    "from langchain_community.document_loaders import TextLoader\n",
    "\n",
    "loader=TextLoader(\"speech.txt\")\n",
    "loader"
   ]
  },
  {
   "cell_type": "code",
   "execution_count": 22,
   "metadata": {},
   "outputs": [
    {
     "data": {
      "text/plain": [
       "[Document(metadata={'source': 'speech.txt'}, page_content='A playwright or dramatist is a person who writes plays which are a form of drama that primarily consists of dialogue between characters and is intended for theatrical performance rather than mere reading. Ben Jonson coined the term \"playwright\" and is the first person in English literature to refer to playwrights as separate from poets.\\n\\nThe earliest playwrights in Western literature with surviving works are the Ancient Greeks. William Shakespeare is one of the most famous playwrights in English literature.\\n\\nEtymology\\nThe word \"play\" is from Middle English pleye, from Old English plæġ, pleġa, plæġa (\"play, exercise; sport, game; drama, applause\").[1] The word wright is an archaic English term for a craftsperson or builder (as in a wheelwright or cartwright).[2] The words combine to indicate a person who has \"wrought\" words, themes, and other elements into a dramatic form—a play. (The homophone with \"write\" is coincidental.)\\n\\nThe first recorded use of the term \"playwright\" is from 1605,[3] 73 years before the first written record of the term \"dramatist\".[4] It appears to have been first used in a pejorative sense by Ben Jonson[5] to suggest a mere tradesman fashioning works for the theatre.\\n\\nJonson uses the word in his Epigram 49, which is thought to refer to John Marston[6] or Thomas Dekker:[7]\\n\\nEpigram XLIX — On Playwright\\nPLAYWRIGHT me reads, and still my verses damns,\\nHe says I want the tongue of epigrams ;\\nI have no salt, no bawdry he doth mean ;\\nFor witty, in his language, is obscene.\\nPlaywright, I loath to have thy manners known\\nIn my chaste book ; I profess them in thine own.\\nJonson described himself as a poet, not a playwright, since plays during that time were written in meter and so were regarded as the province of poets. This view was held as late as the early 19th century. The term \"playwright\" later again lost this negative connotation.\\n\\nHistory\\nMain article: List of playwrights\\nEarly playwrights\\nThe earliest playwrights in Western literature with surviving works are the Ancient Greeks. These early plays were for annual Athenian competitions among play writers[8] held around the 5th century BC. Such notables as Aeschylus, Sophocles, Euripides, and Aristophanes established forms still relied on by their modern counterparts. We have complete texts extant by Aeschylus, Sophocles, and Euripides.[9][a] The origins of Athenian tragedy remain obscure, though by the 5th century it was institutionalised in competitions (agon) held as part of festivities celebrating Dionysos (the god of wine and fertility).[10] As contestants in the City Dionysia\\'s competition (the most prestigious of the festivals to stage drama), playwrights were required to present a tetralogy of plays (though the individual works were not necessarily connected by story or theme), which usually consisted of three tragedies and one satyr play.[11][b]\\n\\nFor the ancient Greeks, playwriting involved poïesis, \"the act of making\". This is the source of the English word poet.\\n\\nDespite Chinese Theatre having performers dated back to the 6th century BC with You Meng, their perspective of theatre was such that plays had no other role than \"performer\" or \"actor\", but given that the performers were also the ones who invented their performances, they could be considered a form of playwright.[12]\\n\\nOutside of the Western world there is Indian classical drama, with one of the oldest known playwrights being Śudraka, whose attributed plays can be dated to the second century BC.[13] The Nāṭya Shāstra, a text on the performing arts from between 500BC-500AD, categorizes playwrights as being among the members of a theatre company, although playwrights were generally the highest in social status, with some being kings.[14]\\n\\nAristotle\\'s Poetics techniques\\nIn the 4th century BCE, Aristotle wrote his Poetics, in which he analyzed the principle of action or praxis as the basis for tragedy.[15] He then considered elements of drama: plot (μύθος mythos), character (ἔθος ethos), thought (dianoia), diction (lexis), music (melodia), and spectacle (opsis). Since the myths on which Greek tragedy were based were widely known, plot had to do with the arrangement and selection of existing material.[15] Character was determined by choice and by action. Tragedy is mimesis—\"the imitation of an action that is serious\". He developed his notion of hamartia, or tragic flaw, an error in judgment by the main character or protagonist, which provides the basis for the \"conflict-driven\" play.[15]')]"
      ]
     },
     "execution_count": 22,
     "metadata": {},
     "output_type": "execute_result"
    }
   ],
   "source": [
    "text_documents=loader.load()\n",
    "text_documents"
   ]
  },
  {
   "cell_type": "code",
   "execution_count": 23,
   "metadata": {},
   "outputs": [],
   "source": [
    "with open(\"speech.txt\") as f:\n",
    "    speech=f.read()"
   ]
  },
  {
   "cell_type": "code",
   "execution_count": null,
   "metadata": {},
   "outputs": [],
   "source": []
  },
  {
   "cell_type": "code",
   "execution_count": 29,
   "metadata": {},
   "outputs": [],
   "source": [
    "from langchain_community.document_loaders import WebBaseLoader\n",
    "import bs4\n",
    "loader2=WebBaseLoader(web_path=(\"https://dealsheaven.in/\"),\n",
    "                      bs_kwargs=dict(parse_only=bs4.SoupStrainer(\n",
    "                          class_=(\"deatls-inner\",\"price\",\"spacail-price\",\"discount\")\n",
    "                      ))\n",
    "                      )"
   ]
  },
  {
   "cell_type": "code",
   "execution_count": 30,
   "metadata": {},
   "outputs": [
    {
     "data": {
      "text/plain": [
       "[Document(metadata={'source': 'https://dealsheaven.in/'}, page_content=\"75%\\nClovia Women's Polyester Sports Short Sleeve T-Shirt Dress (...\\n\\n999\\n249 \\n\\n\\n\\n\\n\\n48%\\n[Apply coupon] MamyPoko Pants Extra Absorb Baby Diapers, X-L...\\n\\n1399\\n714 \\n\\n\\n\\n\\n\\n48%\\n[Apply coupon] MamyPoko Pants Extra Absorb Baby Diapers, XX-...\\n\\n1399\\n717 \\n\\n\\n\\n\\n\\n70%\\nPuma Women Regular Fit Cotton Pants (56728104_Blue_One Size)\\n\\n2299\\n689 \\n\\n\\n\\n\\n\\n71%\\nClovia Women's Slim Yoga Pants (AB0042F19M_Multicolor\\n\\n1199\\n346 \\n\\n\\n\\n\\n\\n78%\\nAmazon Brand - Eden & Ivy Women's Cotton Blend High Neck;Cre...\\n\\n1599\\n339 \\n\\n\\n\\n\\n\\n73%\\nMakeup Revolution Makeup Revolution Blender Bestie, Pink\\n\\n599\\n156 \\n\\n\\n\\n\\n\\n69%\\nJust Herbs Nail Polish 12 Chemical Free Formula Quick Dry, G...\\n\\n149\\n46 \\n\\n\\n\\n\\n\\n86%\\nRaisco Anti Bird Net for Balcony, 3 x 3, Green\\n\\n285\\n38 \\n\\n\\n\\n\\n\\n72%\\nWOW Skin Science Hydrating Himalayan Rose Face Serum | Rose...\\n\\n599\\n162 \\n\\n\\n\\n\\n\\n78%\\nUV Squad Daily De-tan Cleanser with Niacinamide, Vitamin C |...\\n\\n349\\n76 \\n\\n\\n\\n\\n\\n51%\\n[Apply Coupon] Aravi Organic Wine Soft Matte Long Stay Lipst...\\n\\n199\\n96 \\n\\n\\n\\n\\n\\n78%\\nStatus Contract Bath Towels |(70 x140 cm) Coral Fleece Quick...\\n\\n899\\n192 \\n\\n\\n\\n\\n\\n88%\\nAND Women's Regular Shirt (SS22AB057TR215_Pink 14)\\n\\n1699\\n187 \\n\\n\\n\\n\\n\\n13%\\nLava O3 (Glossy Black, 4 GB RAM, 64 GB Storage) | Ultra Fast...\\n\\n7199\\n6199 \\n\\n\\n\\n\\n\\n70%\\nBlaupunkt Newly Launched SBW100 Pro+ 2.1 CH Soundbar with Wi...\\n\\n14990\\n4372 \\n\\n\\n\\n\\n\\n93%\\nVibez by Lifelong Cacia Women Smartwatch Bluetooth Calling 1...\\n\\n16999\\n1089 \\n\\n\\n\\n\\n\\n70%\\nLibas Women's Rayon Blend Printed Straight Kurtas (26241_Red\\n\\n1899\\n569 \\n\\n\\n\\n\\n\\n73%\\nStatus Contract 3 x 5 Feet Multi Printed Vintage Persian Car...\\n\\n2999\\n799 \\n\\n\\n\\n\\n\\n78%\\nGoSriKi Women's Cotton Blend Straight Printed Kurta with Pan...\\n\\n2599\\n559 \\n\\n\\n\\n\\n\\n36%\\nLevi's Men's Cotton Style #011 Comfort Regular Fit Solid Bri...\\n\\n370\\n236 \\n\\n\\n\\n\\n\\n82%\\nProline Women's Tights (PA18888_AQ_S_Multicolor_Small)\\n\\n1499\\n266 \\n\\n\\n\\n\\n\\n63%\\namazon basics Wired Gaming Mouse | High Precision 1600 DPI,...\\n\\n549\\n199 \\n\\n\\n\\n\\n\\n59%\\nLayer'r Wottagirl Classic Collection Heaven Body Splash 135m...\\n\\n386\\n155 \\n\\n\\n\\n\\n\\n29%\\n[ICICI Offer] wakeup INDIA SpineAlign Tech Orthopedic Memory...\\n\\n15057\\n10639 \\n\\n\\n\\n\\n\\n29%\\nThe Sleep Company SnowTec™ 4-6 Degree Cooler SmartGRID Ortho...\\n\\n43320\\n30660 \\n\\n\\n\\n\\n\\n50%\\nNutriGlow NATURAL'S Ubtan Facial Kit For Glowing Skin, Tan R...\\n\\n150\\n75 \\n\\n\\n\\n\\n\\n62%\\nBajaj Almond Drops Moisturizing Soap 5 X 125g\\n\\n495\\n188 \\n\\n\\n\\n\\n\\n78%\\nBumtum Baby Chota Bheem Gentle Soft Moisturizing Wet Wipes W...\\n\\n1791\\n394 \\n\\n\\n\\n\\n\\n70%\\nBumtum Baby Diaper Pants, XXXL Size, 48 Count, Double Layer...\\n\\n2198\\n649 \\n\\n\\n\\n\\n\\n72%\\nBumtum Baby Talcum Powder With Aloe Vera For Babies Paraben...\\n\\n249\\n68 \\n\\n\\n\\n\\n\\n60%\\nLarah by Borosil Oak Opalware Mug, Set of 12 Tea/Coffee Mugs...\\n\\n995\\n395 \\n\\n\\n\\n\\n\\n60%\\nLarah by Borosil Shadow Opalware Cup and Saucer Set of 12 pc...\\n\\n715\\n282 \\n\\n\\n\\n\\n\\n80%\\nGoSriKi Women's Cotton Blend Straight Printed Kurta with Pan...\\n\\n2599\\n499 \\n\\n\\n\\n\\n\\n43%\\nThe Sleep Company SmartGRID Orthopedic Pro - Doctor Recommen...\\n\\n57490\\n32610 \\n\\n\\n\\n\\n\\n59%\\nFOGG Realman Fresh Mood Deodorant, Strong Body Spray, Long L...\\n\\n299\\n120 \\n\\n\\n\\n\\n\\n43%\\nAmazon brand - Solimo Cranberry Muesli, 1kg\\n\\n600\\n339 \\n\\n\\n\\n\\n\\n82%\\nTeakwood Unisex Trolley Bag, Hard Cabin Trolley Small, 55 CM...\\n\\n8199\\n1399 \\n\\n\\n\\n\\n\\n52%\\nAmazon Brand - Supples Premium Diapers, XX-Large (XXL), 126...\\n\\n3147\\n1495 \\n\\n\\n\\n\\n\\n44%\\nAmazon Brand - Supples Premium Diapers, X-Large (XL), 54 Cou...\\n\\n943\\n525 \\n\\n\\n\\n\\n\\n54%\\nMygate Smart Locks SE | 5 Ways to Unlock | Fingerprint | Mob...\\n\\n18490\\n8450 \\n\\n\\n\\n\\n\\n40%\\nFem Floral Bouquet Soft & Safe Handwash - 1500 ml | Enriched...\\n\\n199\\n119 \\n\\n\\n\\n\\n\\n50%\\nWOW Skin Science Brightening 20% Vitamin C Face Serum | Boos...\\n\\n699\\n349 \\n\\n\\n\\n\\n\\n59%\\nCharmis Vitamin A,C,E Deep Nourishing Cold Cream, 200ml\\n\\n299\\n122 \\n\\n\\n\\n\\n\\n60%\\nKiddums Baby Sunscreen Face Cream | Hydrating Moisturizer fo...\\n\\n599\\n237 \\n\\n\\n\\n\\n\\n56%\\nATTRO Ultra Pro 2 Motivational 2-Liter BPA-Free Water Bottle...\\n\\n299\\n129 \\n\\n\\n\\n\\n\\n50%\\nHansaplast Fixation Tape Soft (1x24Pc) (1.25cm x 9.14 m)\\n\\n50\\n25 \\n\\n\\n\\n\\n\\n35%\\nCinthol Lime Foam Body Wash - Combi Pack (600ml) | 1 Bottle...\\n\\n280\\n182 \\n\\n\\n\\n\\n\\n41%\\nPigeon by Stovekraft Nexa Automatic Electric Dry Iron Press...\\n\\n1195\\n699 \\n\\n\\n\\n\\n\\n70%\\nPHILIPS 5 Meter LED Rope Light | Flexishine Plug n Play Flex...\\n\\n2000\\n599 \\n\\n\\n\\n\\n\\n81%\\nSuperdrug S/D Hair Therapy Replen T/Mint Mask, 17 ml\\n\\n195\\n37 \\n\\n\\n\\n\\n\\n42%\\n[Coupon + Bank offer] Samsung 8 kg, 5 star, Eco Bubble Techn...\\n\\n55900\\n31990 \\n\\n\\n\\n\\n\\n34%\\nKuber Industries Foldable Reusable Smiley Printed Shopping B...\\n\\n169\\n110 \\n\\n\\n\\n\\n\\n58%\\nWiz Socks for Men, Ultimate Premium Cotton Socks, Breathable...\\n\\n449\\n185 \\n\\n\\n\\n\\n\\n80%\\nSkybags Brat Wine Red 46 Cms Casual Standard Backpack, 28 Lt\\n\\n2100\\n420 \\n\\n\\n\\n\\n\\n76%\\nLee Men's Slim Fit T-Shirt (LMTSSM3187_Blue Indigo L)\\n\\n1199\\n279 \\n\\n\\n\\n\\n\\n53%\\nBLOWHOT Lara 75 Cm Smart Chimney 1300 M3/hr, Filterless, Aut...\\n\\n24490\\n11490 \\n\\n\\n\\n\\n\\n87%\\nPhilips Ace Saver 9 Watt LED Bulb, Base B22 (Cool Day Light)...\\n\\n3000\\n363 \\n\\n\\n\\n\\n\\n41%\\nOrient Electric 1200 mm Zeno BLDC | BLDC energy saving ceili...\\n\\n4600\\n2699 \\n\\n\\n\\n\\n\\n62%\\nHafele Aqua 13XL PRO, 13 Place Settings Stainless Steel Free...\\n\\n79190\\n29490 \\n\\n\\n\\n\\n\\n39%\\n[With Bank offer] MSI Thin 15, Intel 13th Gen. Core i5-13420...\\n\\n82990\\n50090 \\n\\n\\n\\n\\n\\n69%\\nFoxsky 165 cm (65 inches) 4K Ultra HD Smart LED TV 65FS-VS (...\\n\\n129990\\n39499 \\n\\n\\n\\n\\n\\n34%\\n[Bank offer] ASUS TUF Gaming A15, Ryzen 7 7435HS, 15.6-inch...\\n\\n83990\\n54990 \\n\\n\\n\\n\\n\\n\")]"
      ]
     },
     "execution_count": 30,
     "metadata": {},
     "output_type": "execute_result"
    }
   ],
   "source": [
    "loader2.load()"
   ]
  },
  {
   "cell_type": "code",
   "execution_count": 5,
   "metadata": {},
   "outputs": [
    {
     "data": {
      "text/plain": [
       "1"
      ]
     },
     "execution_count": 5,
     "metadata": {},
     "output_type": "execute_result"
    }
   ],
   "source": [
    "from langchain_community.document_loaders import ArxivLoader\n",
    "\n",
    "docs = ArxivLoader(query=\"1706.03762\",load_max_docs=2).load()\n",
    "len(docs)"
   ]
  },
  {
   "cell_type": "code",
   "execution_count": null,
   "metadata": {},
   "outputs": [],
   "source": [
    "from langchain_text_splitters import RecursiveCharacterTextSplitter\n",
    "\n",
    "text_splitter=RecursiveCharacterTextSplitter(chunk_size=500, chunk_overlap=50)\n",
    "final_documents=text_splitter.split_documents(docs)"
   ]
  },
  {
   "cell_type": "code",
   "execution_count": 19,
   "metadata": {},
   "outputs": [
    {
     "name": "stdout",
     "output_type": "stream",
     "text": [
      "page_content='Provided proper attribution is provided, Google hereby grants permission to\n",
      "reproduce the tables and figures in this paper solely for use in journalistic or\n",
      "scholarly works.\n",
      "Attention Is All You Need\n",
      "Ashish Vaswani∗\n",
      "Google Brain\n",
      "avaswani@google.com\n",
      "Noam Shazeer∗\n",
      "Google Brain\n",
      "noam@google.com\n",
      "Niki Parmar∗\n",
      "Google Research\n",
      "nikip@google.com\n",
      "Jakob Uszkoreit∗\n",
      "Google Research\n",
      "usz@google.com\n",
      "Llion Jones∗\n",
      "Google Research\n",
      "llion@google.com\n",
      "Aidan N. Gomez∗†\n",
      "University of Toronto\n",
      "aidan@cs.toronto.edu' metadata={'Published': '2023-08-02', 'Title': 'Attention Is All You Need', 'Authors': 'Ashish Vaswani, Noam Shazeer, Niki Parmar, Jakob Uszkoreit, Llion Jones, Aidan N. Gomez, Lukasz Kaiser, Illia Polosukhin', 'Summary': 'The dominant sequence transduction models are based on complex recurrent or\\nconvolutional neural networks in an encoder-decoder configuration. The best\\nperforming models also connect the encoder and decoder through an attention\\nmechanism. We propose a new simple network architecture, the Transformer, based\\nsolely on attention mechanisms, dispensing with recurrence and convolutions\\nentirely. Experiments on two machine translation tasks show these models to be\\nsuperior in quality while being more parallelizable and requiring significantly\\nless time to train. Our model achieves 28.4 BLEU on the WMT 2014\\nEnglish-to-German translation task, improving over the existing best results,\\nincluding ensembles by over 2 BLEU. On the WMT 2014 English-to-French\\ntranslation task, our model establishes a new single-model state-of-the-art\\nBLEU score of 41.8 after training for 3.5 days on eight GPUs, a small fraction\\nof the training costs of the best models from the literature. We show that the\\nTransformer generalizes well to other tasks by applying it successfully to\\nEnglish constituency parsing both with large and limited training data.'}\n"
     ]
    }
   ],
   "source": [
    "print(final_documents[0])"
   ]
  },
  {
   "cell_type": "code",
   "execution_count": 20,
   "metadata": {},
   "outputs": [
    {
     "name": "stdout",
     "output_type": "stream",
     "text": [
      "page_content='University of Toronto\n",
      "aidan@cs.toronto.edu\n",
      "Łukasz Kaiser∗\n",
      "Google Brain\n",
      "lukaszkaiser@google.com\n",
      "Illia Polosukhin∗‡\n",
      "illia.polosukhin@gmail.com\n",
      "Abstract\n",
      "The dominant sequence transduction models are based on complex recurrent or\n",
      "convolutional neural networks that include an encoder and a decoder. The best\n",
      "performing models also connect the encoder and decoder through an attention\n",
      "mechanism. We propose a new simple network architecture, the Transformer,' metadata={'Published': '2023-08-02', 'Title': 'Attention Is All You Need', 'Authors': 'Ashish Vaswani, Noam Shazeer, Niki Parmar, Jakob Uszkoreit, Llion Jones, Aidan N. Gomez, Lukasz Kaiser, Illia Polosukhin', 'Summary': 'The dominant sequence transduction models are based on complex recurrent or\\nconvolutional neural networks in an encoder-decoder configuration. The best\\nperforming models also connect the encoder and decoder through an attention\\nmechanism. We propose a new simple network architecture, the Transformer, based\\nsolely on attention mechanisms, dispensing with recurrence and convolutions\\nentirely. Experiments on two machine translation tasks show these models to be\\nsuperior in quality while being more parallelizable and requiring significantly\\nless time to train. Our model achieves 28.4 BLEU on the WMT 2014\\nEnglish-to-German translation task, improving over the existing best results,\\nincluding ensembles by over 2 BLEU. On the WMT 2014 English-to-French\\ntranslation task, our model establishes a new single-model state-of-the-art\\nBLEU score of 41.8 after training for 3.5 days on eight GPUs, a small fraction\\nof the training costs of the best models from the literature. We show that the\\nTransformer generalizes well to other tasks by applying it successfully to\\nEnglish constituency parsing both with large and limited training data.'}\n"
     ]
    }
   ],
   "source": [
    "print(final_documents[1])"
   ]
  },
  {
   "cell_type": "code",
   "execution_count": null,
   "metadata": {},
   "outputs": [],
   "source": [
    "docs."
   ]
  },
  {
   "cell_type": "code",
   "execution_count": null,
   "metadata": {},
   "outputs": [],
   "source": []
  },
  {
   "cell_type": "code",
   "execution_count": null,
   "metadata": {},
   "outputs": [],
   "source": []
  },
  {
   "cell_type": "code",
   "execution_count": null,
   "metadata": {},
   "outputs": [],
   "source": []
  },
  {
   "cell_type": "code",
   "execution_count": null,
   "metadata": {},
   "outputs": [],
   "source": []
  },
  {
   "cell_type": "code",
   "execution_count": null,
   "metadata": {},
   "outputs": [],
   "source": []
  },
  {
   "cell_type": "code",
   "execution_count": null,
   "metadata": {},
   "outputs": [],
   "source": []
  },
  {
   "cell_type": "code",
   "execution_count": 1,
   "metadata": {},
   "outputs": [],
   "source": [
    "import os\n",
    "import pathlib\n",
    "import textwrap\n",
    "from dotenv import load_dotenv\n",
    "from langchain_google_genai import ChatGoogleGenerativeAI\n",
    "import google.generativeai as genai"
   ]
  },
  {
   "cell_type": "code",
   "execution_count": 2,
   "metadata": {},
   "outputs": [
    {
     "data": {
      "text/plain": [
       "True"
      ]
     },
     "execution_count": 2,
     "metadata": {},
     "output_type": "execute_result"
    }
   ],
   "source": [
    "# Load environment variables from the .env file\n",
    "load_dotenv()"
   ]
  },
  {
   "cell_type": "code",
   "execution_count": 3,
   "metadata": {},
   "outputs": [],
   "source": [
    "# Now you can access variables like this\n",
    "genai.configure(api_key=os.getenv(\"GOOGLE_API_KEY\"))\n"
   ]
  },
  {
   "cell_type": "code",
   "execution_count": 4,
   "metadata": {},
   "outputs": [
    {
     "name": "stdout",
     "output_type": "stream",
     "text": [
      "models/gemini-1.0-pro-latest\n",
      "models/gemini-1.0-pro\n",
      "models/gemini-pro\n",
      "models/gemini-1.0-pro-001\n",
      "models/gemini-1.0-pro-vision-latest\n",
      "models/gemini-pro-vision\n",
      "models/gemini-1.5-pro-latest\n",
      "models/gemini-1.5-pro-001\n",
      "models/gemini-1.5-pro-002\n",
      "models/gemini-1.5-pro\n",
      "models/gemini-1.5-pro-exp-0801\n",
      "models/gemini-1.5-pro-exp-0827\n",
      "models/gemini-1.5-flash-latest\n",
      "models/gemini-1.5-flash-001\n",
      "models/gemini-1.5-flash-001-tuning\n",
      "models/gemini-1.5-flash\n",
      "models/gemini-1.5-flash-exp-0827\n",
      "models/gemini-1.5-flash-002\n",
      "models/gemini-1.5-flash-8b\n",
      "models/gemini-1.5-flash-8b-001\n",
      "models/gemini-1.5-flash-8b-latest\n",
      "models/gemini-1.5-flash-8b-exp-0827\n",
      "models/gemini-1.5-flash-8b-exp-0924\n"
     ]
    }
   ],
   "source": [
    "for m in genai.list_models():\n",
    "    if 'generateContent' in m.supported_generation_methods:\n",
    "        print(m.name)"
   ]
  },
  {
   "cell_type": "code",
   "execution_count": 5,
   "metadata": {},
   "outputs": [],
   "source": [
    "model=genai.GenerativeModel('models/gemini-1.5-flash')"
   ]
  },
  {
   "cell_type": "code",
   "execution_count": 6,
   "metadata": {},
   "outputs": [
    {
     "name": "stdout",
     "output_type": "stream",
     "text": [
      "CPU times: total: 0 ns\n",
      "Wall time: 3.6 s\n"
     ]
    }
   ],
   "source": [
    "%%time\n",
    "response = model.generate_content(\"What is the meaning of Eduction?\")"
   ]
  },
  {
   "cell_type": "code",
   "execution_count": 7,
   "metadata": {},
   "outputs": [
    {
     "name": "stdout",
     "output_type": "stream",
     "text": [
      "\"Eduction\" is not a commonly used word in the English language, and its meaning can be interpreted in different ways depending on the context. \n",
      "\n",
      "Here are a few possible interpretations:\n",
      "\n",
      "**1. Drawing out or eliciting information:** This is the most common understanding of \"eduction.\" It refers to the process of extracting or bringing out knowledge, ideas, or information from someone or something. This is similar to the concept of \"elicitation.\" For example:\n",
      "\n",
      "* \"The teacher used a series of questions to educe the student's understanding of the concept.\"\n",
      "* \"The detective tried to educe a confession from the suspect.\"\n",
      "\n",
      "**2. Educating or teaching:** This interpretation is less common but still possible. It could refer to the act of imparting knowledge, skills, or values. For example:\n",
      "\n",
      "* \"The program aims to educe young people about the importance of environmental sustainability.\"\n",
      "* \"The school's curriculum is designed to educe critical thinking skills.\"\n",
      "\n",
      "**3. A specific philosophical concept:** In some philosophical discussions, \"eduction\" might be used in a more technical sense, referring to a particular theory of learning or knowledge acquisition. For example, some philosophers might talk about \"eductive reasoning\" or \"eductive processes.\" \n",
      "\n",
      "**4. Misspelling of \"Education\":** It's possible that \"eduction\" is simply a misspelling of \"education.\" In this case, the intended meaning is clear.\n",
      "\n",
      "**In conclusion:**\n",
      "\n",
      "If you encounter the word \"eduction,\" it's important to consider the context to understand its meaning. Based on the surrounding words and phrases, you can usually determine whether it refers to drawing out information, educating, or a more specific philosophical concept. \n",
      "\n"
     ]
    }
   ],
   "source": [
    "print(response.text)"
   ]
  },
  {
   "cell_type": "code",
   "execution_count": null,
   "metadata": {},
   "outputs": [],
   "source": []
  }
 ],
 "metadata": {
  "kernelspec": {
   "display_name": "Python 3",
   "language": "python",
   "name": "python3"
  },
  "language_info": {
   "codemirror_mode": {
    "name": "ipython",
    "version": 3
   },
   "file_extension": ".py",
   "mimetype": "text/x-python",
   "name": "python",
   "nbconvert_exporter": "python",
   "pygments_lexer": "ipython3",
   "version": "3.12.0"
  }
 },
 "nbformat": 4,
 "nbformat_minor": 2
}
