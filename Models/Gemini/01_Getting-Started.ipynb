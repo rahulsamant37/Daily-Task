{
 "cells": [
  {
   "cell_type": "markdown",
   "id": "79da107d",
   "metadata": {},
   "source": [
    "# **Gemini API quickstart**"
   ]
  },
  {
   "cell_type": "code",
   "execution_count": 1,
   "id": "9275bb98",
   "metadata": {},
   "outputs": [
    {
     "name": "stdout",
     "output_type": "stream",
     "text": [
      "AI learns patterns from data to make predictions or decisions.\n",
      "\n"
     ]
    }
   ],
   "source": [
    "from dotenv import load_dotenv\n",
    "import os\n",
    "load_dotenv()\n",
    "api_key = os.getenv(\"GOOGLE_API_KEY\")\n",
    "\n",
    "from google import genai\n",
    "\n",
    "client = genai.Client(api_key=api_key)\n",
    "\n",
    "response = client.models.generate_content(\n",
    "    model=\"gemini-2.0-flash\", contents=\"Explain how AI works in a few words\"\n",
    ")\n",
    "print(response.text)"
   ]
  },
  {
   "cell_type": "markdown",
   "id": "17c1acaf",
   "metadata": {},
   "source": [
    "## Working with local images\n",
    "If you are using the Python imaging library (Pillow), you can use PIL image objects too."
   ]
  },
  {
   "cell_type": "code",
   "execution_count": 12,
   "metadata": {},
   "outputs": [
    {
     "name": "stdout",
     "output_type": "stream",
     "text": [
      "The image shows a person sitting at a desk using a computer. There are also books on the desk.\n"
     ]
    }
   ],
   "source": [
    "from google import genai\n",
    "from google.genai import types\n",
    "\n",
    "import PIL.Image\n",
    "\n",
    "image = PIL.Image.open('data/interview.png')\n",
    "\n",
    "client = genai.Client(api_key=api_key)\n",
    "response = client.models.generate_content(\n",
    "    model=\"gemini-2.0-flash\",\n",
    "    contents=[\"What is this image?\", image])\n",
    "\n",
    "print(response.text)"
   ]
  },
  {
   "cell_type": "markdown",
   "id": "7cd17be7",
   "metadata": {},
   "source": [
    "## Base64 encoded images\n",
    "You can upload public image URLs by encoding them as Base64 payloads. The following code example shows how to do this using only standard library tools:"
   ]
  },
  {
   "cell_type": "code",
   "execution_count": 10,
   "id": "841a733c",
   "metadata": {},
   "outputs": [
    {
     "name": "stdout",
     "output_type": "stream",
     "text": [
      "The image shows a man with dark curly hair and a beard holding a microphone in his hands. He is wearing a black shirt and appears to be speaking or presenting something. The background is a solid black color.\n",
      "\n"
     ]
    }
   ],
   "source": [
    "from google import genai\n",
    "from google.genai import types\n",
    "\n",
    "import requests\n",
    "\n",
    "image_path = \"https://static.toiimg.com/thumb/msid-118701222,imgsize-13452,width-400,resizemode-4/118701222.jpg\"\n",
    "image = requests.get(image_path)\n",
    "\n",
    "client = genai.Client(api_key=api_key)\n",
    "response = client.models.generate_content(\n",
    "    model=\"gemini-2.0-flash-exp\",\n",
    "    contents=[\"What is this image?\",\n",
    "              types.Part.from_bytes(data=image.content, mime_type=\"image/jpeg\")])\n",
    "\n",
    "print(response.text)"
   ]
  },
  {
   "cell_type": "code",
   "execution_count": null,
   "id": "c21d0800",
   "metadata": {},
   "outputs": [
    {
     "name": "stdout",
     "output_type": "stream",
     "text": [
      "That is comedian Samay Raina.\n"
     ]
    }
   ],
   "source": [
    "from google import genai\n",
    "from google.genai import types\n",
    "\n",
    "import requests\n",
    "\n",
    "image_path = \"https://yt3.googleusercontent.com/ytc/AIdro_msUercxyRDA0NKQsaIS0IXMTCF_GId4oiTzQYyKbP4AI4=s900-c-k-c0x00ffffff-no-rj\"\n",
    "image = requests.get(image_path)\n",
    "\n",
    "client = genai.Client(api_key=api_key)\n",
    "response = client.models.generate_content(\n",
    "    model=\"gemini-2.0-flash-exp\",\n",
    "    contents=[\"Can you indentify who is in the image he is a famous comedian?\",\n",
    "              types.Part.from_bytes(data=image.content, mime_type=\"image/jpeg\")])\n",
    "\n",
    "print(response.text)"
   ]
  },
  {
   "cell_type": "markdown",
   "id": "31fdb611",
   "metadata": {},
   "source": [
    "## Multiple images\n",
    "To prompt with multiple images, you can provide multiple images in the call to generate_content. These can be in any supported format, including base64 or PIL."
   ]
  },
  {
   "cell_type": "code",
   "execution_count": 13,
   "metadata": {},
   "outputs": [
    {
     "name": "stdout",
     "output_type": "stream",
     "text": [
      "Here's what the images have in common:\n",
      "\n",
      "*   **Sitting at a Desk/Table:** Each image depicts a person engaging in an activity while seated at a desk or table.\n",
      "*   **Learning/Study Related:** They all convey the theme of learning, studying, or engaging in intellectual activities.\n",
      "*   **Modern/Digital Element:** There are hints of modern or digital elements in both images. The first image shows a person working on a computer and the second image depicts someone with headphones listening to an audiobook.\n"
     ]
    }
   ],
   "source": [
    "from google import genai\n",
    "from google.genai import types\n",
    "\n",
    "import pathlib\n",
    "import PIL.Image\n",
    "\n",
    "image_path_1 = \"data/interview.png\"  # Replace with the actual path to your first image\n",
    "image_path_2 = \"data/meditation.png\" # Replace with the actual path to your second image\n",
    "\n",
    "image_url_1 = \"https://yt3.googleusercontent.com/ytc/AIdro_msUercxyRDA0NKQsaIS0IXMTCF_GId4oiTzQYyKbP4AI4=s900-c-k-c0x00ffffff-no-rj\" # Replace with the actual URL to your third image\n",
    "\n",
    "pil_image = PIL.Image.open(image_path_1)\n",
    "\n",
    "b64_image = types.Part.from_bytes(\n",
    "    data=pathlib.Path(image_path_2).read_bytes(),\n",
    "    mime_type=\"image/jpeg\"\n",
    ")\n",
    "\n",
    "downloaded_image = requests.get(image_url_1)\n",
    "\n",
    "client = genai.Client(api_key=api_key)\n",
    "response = client.models.generate_content(\n",
    "    model=\"gemini-2.0-flash-exp\",\n",
    "    contents=[\"What do these images have in common?\",\n",
    "              pil_image, b64_image, downloaded_image])\n",
    "\n",
    "print(response.text)"
   ]
  },
  {
   "cell_type": "markdown",
   "id": "29b33f2d",
   "metadata": {},
   "source": [
    "## Large image payloads\n",
    "When the combination of files and system instructions that you intend to send is larger than 20 MB in size, use the File API to upload those files."
   ]
  },
  {
   "cell_type": "markdown",
   "id": "2e3f689b",
   "metadata": {},
   "source": [
    "**Note** - Use the media.upload method of the File API to upload an image of any size."
   ]
  },
  {
   "cell_type": "code",
   "execution_count": 14,
   "metadata": {},
   "outputs": [
    {
     "name": "stdout",
     "output_type": "stream",
     "text": [
      "file_ref=File(name='files/lm3hp6jwkp8p', display_name=None, mime_type='image/png', size_bytes=66555, create_time=datetime.datetime(2025, 4, 6, 20, 12, 32, 793926, tzinfo=TzInfo(UTC)), expiration_time=datetime.datetime(2025, 4, 8, 20, 12, 32, 766088, tzinfo=TzInfo(UTC)), update_time=datetime.datetime(2025, 4, 6, 20, 12, 32, 793926, tzinfo=TzInfo(UTC)), sha256_hash='NTk2NTdhNjUzZWQxZjg2YTgyZmQyYTc4NjRmNzkyZjA5YWFkMTkzNTI3NDZjMjg3ZDMxYjgwODk2YTlkYWJjMw==', uri='https://generativelanguage.googleapis.com/v1beta/files/lm3hp6jwkp8p', download_uri=None, state=<FileState.ACTIVE: 'ACTIVE'>, source=<FileSource.UPLOADED: 'UPLOADED'>, video_metadata=None, error=None)\n",
      "The image depicts a desk setup which includes:\n",
      "\n",
      "*   **A computer monitor:** A screen used for displaying information from a computer.\n",
      "*   **A keyboard:** An input device used to type information into the computer.\n",
      "*   **Books:** Stacks of books placed on the desk.\n"
     ]
    }
   ],
   "source": [
    "from google import genai\n",
    "\n",
    "client = genai.Client(api_key=api_key)\n",
    "\n",
    "img_path = \"data/interview.png\"\n",
    "file_ref = client.files.upload(file=img_path)\n",
    "print(f'{file_ref=}')\n",
    "\n",
    "client = genai.Client(api_key=api_key)\n",
    "response = client.models.generate_content(\n",
    "    model=\"gemini-2.0-flash-exp\",\n",
    "    contents=[\"What can you tell me about these instruments?\",\n",
    "              file_ref])\n",
    "\n",
    "print(response.text)"
   ]
  },
  {
   "cell_type": "code",
   "execution_count": null,
   "id": "e03ce02c",
   "metadata": {},
   "outputs": [],
   "source": []
  }
 ],
 "metadata": {
  "kernelspec": {
   "display_name": "venv",
   "language": "python",
   "name": "python3"
  },
  "language_info": {
   "codemirror_mode": {
    "name": "ipython",
    "version": 3
   },
   "file_extension": ".py",
   "mimetype": "text/x-python",
   "name": "python",
   "nbconvert_exporter": "python",
   "pygments_lexer": "ipython3",
   "version": "3.12.7"
  }
 },
 "nbformat": 4,
 "nbformat_minor": 5
}
