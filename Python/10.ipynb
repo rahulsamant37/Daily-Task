{
 "cells": [
  {
   "cell_type": "markdown",
   "metadata": {},
   "source": [
    "### Question:\n",
    "How would you design a Python class for managing and analyzing a dataset in a way that supports both exploratory data analysis (EDA) and predictive modeling? The class should include methods for:\n",
    "\n",
    "1. Automatically handling missing values.\n",
    "2. Performing basic descriptive statistics.\n",
    "3. Encoding categorical variables for machine learning models.\n",
    "4. Saving and loading the dataset efficiently."
   ]
  },
  {
   "cell_type": "code",
   "execution_count": 1,
   "metadata": {},
   "outputs": [],
   "source": [
    "import pandas as pd\n",
    "import numpy as np\n",
    "from sklearn.preprocessing import LabelEncoder"
   ]
  },
  {
   "cell_type": "code",
   "execution_count": 2,
   "metadata": {},
   "outputs": [],
   "source": [
    "class DatasetManager:\n",
    "    def __init__(self, data: pd.DataFrame):\n",
    "        \"\"\"\n",
    "        Initialize the DatasetManager with a given pandas DataFrame.\n",
    "        :param data: Input DataFrame to manage.\n",
    "        \"\"\"\n",
    "        if not isinstance(data, pd.DataFrame):\n",
    "            raise ValueError(\"Input data must be a pandas DataFrame.\")\n",
    "        self.dataset = data.copy()\n",
    "    \n",
    "    def handle_missing_values(self, strategy=\"mean\", fill_value=None):\n",
    "        \"\"\"\n",
    "        Handle missing values in the dataset.\n",
    "        :param strategy: Strategy for imputation ('mean', 'median', 'mode', or 'constant').\n",
    "        :param fill_value: Value to use when strategy is 'constant'.\n",
    "        \"\"\"\n",
    "        if strategy == \"mean\":\n",
    "            self.dataset.fillna(self.dataset.mean(numeric_only=True), inplace=True)\n",
    "        elif strategy == \"median\":\n",
    "            self.dataset.fillna(self.dataset.median(numeric_only=True), inplace=True)\n",
    "        elif strategy == \"mode\":\n",
    "            self.dataset.fillna(self.dataset.mode().iloc[0], inplace=True)\n",
    "        elif strategy == \"constant\":\n",
    "            if fill_value is None:\n",
    "                raise ValueError(\"fill_value must be provided when using 'constant' strategy.\")\n",
    "            self.dataset.fillna(fill_value, inplace=True)\n",
    "        else:\n",
    "            raise ValueError(f\"Unknown strategy: {strategy}\")\n",
    "        print(\"Missing values handled.\")\n",
    "    \n",
    "    def get_descriptive_stats(self):\n",
    "        \"\"\"\n",
    "        Return descriptive statistics for numerical columns.\n",
    "        \"\"\"\n",
    "        return self.dataset.describe()\n",
    "    \n",
    "    def encode_categorical(self, columns, method=\"label\"):\n",
    "        \"\"\"\n",
    "        Encode categorical variables.\n",
    "        :param columns: List of columns to encode.\n",
    "        :param method: Encoding method ('label' or 'onehot').\n",
    "        \"\"\"\n",
    "        if method == \"label\":\n",
    "            for col in columns:\n",
    "                le = LabelEncoder()\n",
    "                self.dataset[col] = le.fit_transform(self.dataset[col])\n",
    "        elif method == \"onehot\":\n",
    "            self.dataset = pd.get_dummies(self.dataset, columns=columns)\n",
    "        else:\n",
    "            raise ValueError(f\"Unknown encoding method: {method}\")\n",
    "        print(f\"Categorical columns {columns} encoded using {method} encoding.\")\n",
    "    \n",
    "    def add_column(self, column_name, values):\n",
    "        \"\"\"\n",
    "        Add a new column to the dataset.\n",
    "        :param column_name: Name of the new column.\n",
    "        :param values: Values to populate the column.\n",
    "        \"\"\"\n",
    "        self.dataset[column_name] = values\n",
    "        print(f\"Column '{column_name}' added.\")\n",
    "    \n",
    "    def get_data(self):\n",
    "        \"\"\"\n",
    "        Return the current state of the dataset.\n",
    "        \"\"\"\n",
    "        return self.dataset"
   ]
  },
  {
   "cell_type": "code",
   "execution_count": 3,
   "metadata": {},
   "outputs": [],
   "source": [
    "# Example Usage:\n",
    "data = pd.DataFrame({\n",
    "    \"Name\": [\"Alice\", \"Bob\", \"Charlie\", None],\n",
    "    \"Age\": [25, 30, None, 40],\n",
    "    \"Salary\": [50000, 60000, 70000, None],\n",
    "    \"Gender\": [\"F\", \"M\", \"M\", \"F\"]\n",
    "})"
   ]
  },
  {
   "cell_type": "code",
   "execution_count": 4,
   "metadata": {},
   "outputs": [],
   "source": [
    "dm = DatasetManager(data)"
   ]
  },
  {
   "cell_type": "code",
   "execution_count": 5,
   "metadata": {},
   "outputs": [
    {
     "name": "stdout",
     "output_type": "stream",
     "text": [
      "Missing values handled.\n"
     ]
    }
   ],
   "source": [
    "# Handle missing values\n",
    "dm.handle_missing_values(strategy=\"mean\")\n"
   ]
  },
  {
   "cell_type": "code",
   "execution_count": 6,
   "metadata": {},
   "outputs": [
    {
     "name": "stdout",
     "output_type": "stream",
     "text": [
      "             Age        Salary\n",
      "count   4.000000      4.000000\n",
      "mean   31.666667  60000.000000\n",
      "std     6.236096   8164.965809\n",
      "min    25.000000  50000.000000\n",
      "25%    28.750000  57500.000000\n",
      "50%    30.833333  60000.000000\n",
      "75%    33.750000  62500.000000\n",
      "max    40.000000  70000.000000\n"
     ]
    }
   ],
   "source": [
    "# Get descriptive statistics\n",
    "print(dm.get_descriptive_stats())"
   ]
  },
  {
   "cell_type": "code",
   "execution_count": 7,
   "metadata": {},
   "outputs": [
    {
     "name": "stdout",
     "output_type": "stream",
     "text": [
      "Categorical columns ['Gender'] encoded using label encoding.\n"
     ]
    }
   ],
   "source": [
    "# Encode categorical variables\n",
    "dm.encode_categorical(columns=[\"Gender\"], method=\"label\")"
   ]
  },
  {
   "cell_type": "code",
   "execution_count": 8,
   "metadata": {},
   "outputs": [
    {
     "name": "stdout",
     "output_type": "stream",
     "text": [
      "Column 'Experience' added.\n"
     ]
    }
   ],
   "source": [
    "# Add a new column\n",
    "dm.add_column(\"Experience\", [2, 5, 7, 3])"
   ]
  },
  {
   "cell_type": "code",
   "execution_count": 9,
   "metadata": {},
   "outputs": [
    {
     "name": "stdout",
     "output_type": "stream",
     "text": [
      "      Name        Age   Salary  Gender  Experience\n",
      "0    Alice  25.000000  50000.0       0           2\n",
      "1      Bob  30.000000  60000.0       1           5\n",
      "2  Charlie  31.666667  70000.0       1           7\n",
      "3     None  40.000000  60000.0       0           3\n"
     ]
    }
   ],
   "source": [
    "# Get final dataset\n",
    "print(dm.get_data())"
   ]
  },
  {
   "cell_type": "code",
   "execution_count": null,
   "metadata": {},
   "outputs": [],
   "source": []
  }
 ],
 "metadata": {
  "kernelspec": {
   "display_name": "Python 3",
   "language": "python",
   "name": "python3"
  },
  "language_info": {
   "codemirror_mode": {
    "name": "ipython",
    "version": 3
   },
   "file_extension": ".py",
   "mimetype": "text/x-python",
   "name": "python",
   "nbconvert_exporter": "python",
   "pygments_lexer": "ipython3",
   "version": "3.12.0"
  }
 },
 "nbformat": 4,
 "nbformat_minor": 2
}
