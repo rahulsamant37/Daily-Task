{
 "cells": [
  {
   "cell_type": "markdown",
   "metadata": {},
   "source": [
    "### Question:\n",
    "You have a dataset represented as a list of dictionaries. Each entry contains keys: \"region\", \"product\", \"sales\", and \"date\" (a string in YYYY-MM-DD format). Write a Python program to:\n",
    "\n",
    "1. Parse the dataset and convert the dates into datetime objects for easy manipulation.\n",
    "2. Identify the month with the highest total sales for each region.\n",
    "3. Perform a time-series trend analysis: calculate a 3-month rolling average of sales for each product.\n",
    "4. Group the data by product and compute the percentage growth/decline in sales compared to the previous month."
   ]
  },
  {
   "cell_type": "code",
   "execution_count": 1,
   "metadata": {},
   "outputs": [],
   "source": [
    "from collections import defaultdict\n",
    "from datetime import datetime\n",
    "import pandas as pd"
   ]
  },
  {
   "cell_type": "code",
   "execution_count": 2,
   "metadata": {},
   "outputs": [],
   "source": [
    "# Sample dataset\n",
    "sales_data = [\n",
    "    {\"region\": \"North\", \"product\": \"A\", \"sales\": 120, \"date\": \"2024-01-15\"},\n",
    "    {\"region\": \"North\", \"product\": \"A\", \"sales\": 200, \"date\": \"2024-02-10\"},\n",
    "    {\"region\": \"North\", \"product\": \"A\", \"sales\": 150, \"date\": \"2024-03-12\"},\n",
    "    {\"region\": \"South\", \"product\": \"B\", \"sales\": 300, \"date\": \"2024-01-20\"},\n",
    "    {\"region\": \"South\", \"product\": \"B\", \"sales\": 250, \"date\": \"2024-02-15\"},\n",
    "    {\"region\": \"South\", \"product\": \"B\", \"sales\": 180, \"date\": \"2024-03-18\"},\n",
    "    {\"region\": \"East\", \"product\": \"C\", \"sales\": 400, \"date\": \"2024-01-25\"},\n",
    "    {\"region\": \"East\", \"product\": \"C\", \"sales\": 350, \"date\": \"2024-02-12\"},\n",
    "    {\"region\": \"East\", \"product\": \"C\", \"sales\": 450, \"date\": \"2024-03-10\"},\n",
    "]"
   ]
  },
  {
   "cell_type": "code",
   "execution_count": 3,
   "metadata": {},
   "outputs": [],
   "source": [
    "# Step 1: Convert dates to datetime objects and load into a DataFrame\n",
    "df = pd.DataFrame(sales_data)\n",
    "df['date'] = pd.to_datetime(df['date'])"
   ]
  },
  {
   "cell_type": "code",
   "execution_count": 4,
   "metadata": {},
   "outputs": [],
   "source": [
    "# Step 2: Identify the month with the highest sales for each region\n",
    "df['month'] = df['date'].dt.to_period('M')\n",
    "region_monthly_sales = df.groupby(['region', 'month'])['sales'].sum().reset_index()\n",
    "highest_sales_by_region = region_monthly_sales.loc[\n",
    "    region_monthly_sales.groupby('region')['sales'].idxmax()\n",
    "]"
   ]
  },
  {
   "cell_type": "code",
   "execution_count": 5,
   "metadata": {},
   "outputs": [],
   "source": [
    "# Step 3: 3-month rolling average sales for each product\n",
    "df = df.sort_values('date')\n",
    "product_monthly_sales = df.groupby(['product', 'month'])['sales'].sum().reset_index()\n",
    "product_monthly_sales['rolling_avg_3m'] = product_monthly_sales.groupby('product')['sales'].transform(lambda x: x.rolling(3, min_periods=1).mean())"
   ]
  },
  {
   "cell_type": "code",
   "execution_count": 6,
   "metadata": {},
   "outputs": [],
   "source": [
    "# Step 4: Percentage growth/decline in sales compared to the previous month\n",
    "product_monthly_sales['pct_change'] = product_monthly_sales.groupby('product')['sales'].pct_change() * 100"
   ]
  },
  {
   "cell_type": "code",
   "execution_count": 7,
   "metadata": {},
   "outputs": [
    {
     "name": "stdout",
     "output_type": "stream",
     "text": [
      "Highest sales month for each region:\n",
      "  region    month  sales\n",
      "2   East  2024-03    450\n",
      "4  North  2024-02    200\n",
      "6  South  2024-01    300\n",
      "\n"
     ]
    }
   ],
   "source": [
    "# Results\n",
    "print(\"Highest sales month for each region:\")\n",
    "print(highest_sales_by_region, end=\"\\n\\n\")"
   ]
  },
  {
   "cell_type": "code",
   "execution_count": 8,
   "metadata": {},
   "outputs": [
    {
     "name": "stdout",
     "output_type": "stream",
     "text": [
      "3-month rolling average sales per product:\n",
      "  product    month  sales  rolling_avg_3m\n",
      "0       A  2024-01    120      120.000000\n",
      "1       A  2024-02    200      160.000000\n",
      "2       A  2024-03    150      156.666667\n",
      "3       B  2024-01    300      300.000000\n",
      "4       B  2024-02    250      275.000000\n",
      "5       B  2024-03    180      243.333333\n",
      "6       C  2024-01    400      400.000000\n",
      "7       C  2024-02    350      375.000000\n",
      "8       C  2024-03    450      400.000000\n",
      "\n"
     ]
    }
   ],
   "source": [
    "print(\"3-month rolling average sales per product:\")\n",
    "print(product_monthly_sales[['product', 'month', 'sales', 'rolling_avg_3m']], end=\"\\n\\n\")"
   ]
  },
  {
   "cell_type": "code",
   "execution_count": 9,
   "metadata": {},
   "outputs": [
    {
     "name": "stdout",
     "output_type": "stream",
     "text": [
      "Percentage growth/decline in sales by product:\n",
      "  product    month  sales  pct_change\n",
      "0       A  2024-01    120         NaN\n",
      "1       A  2024-02    200   66.666667\n",
      "2       A  2024-03    150  -25.000000\n",
      "3       B  2024-01    300         NaN\n",
      "4       B  2024-02    250  -16.666667\n",
      "5       B  2024-03    180  -28.000000\n",
      "6       C  2024-01    400         NaN\n",
      "7       C  2024-02    350  -12.500000\n",
      "8       C  2024-03    450   28.571429\n"
     ]
    }
   ],
   "source": [
    "print(\"Percentage growth/decline in sales by product:\")\n",
    "print(product_monthly_sales[['product', 'month', 'sales', 'pct_change']])"
   ]
  },
  {
   "cell_type": "code",
   "execution_count": null,
   "metadata": {},
   "outputs": [],
   "source": []
  }
 ],
 "metadata": {
  "kernelspec": {
   "display_name": "Python 3",
   "language": "python",
   "name": "python3"
  },
  "language_info": {
   "codemirror_mode": {
    "name": "ipython",
    "version": 3
   },
   "file_extension": ".py",
   "mimetype": "text/x-python",
   "name": "python",
   "nbconvert_exporter": "python",
   "pygments_lexer": "ipython3",
   "version": "3.12.0"
  }
 },
 "nbformat": 4,
 "nbformat_minor": 2
}
