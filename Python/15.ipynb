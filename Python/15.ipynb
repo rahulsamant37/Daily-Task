{
 "cells": [
  {
   "cell_type": "markdown",
   "metadata": {},
   "source": [
    "### Question:\n",
    "You are given a dataset as a list of dictionaries. Each dictionary contains information about a city's population and the recorded temperatures (in Celsius) over a week. Write a Python program to:\n",
    "\n",
    "1. Normalize the population values to a range of 0 to 1 (using Min-Max scaling).\n",
    "2. Calculate the weekly average temperature for each city.\n",
    "3. Identify the city with the largest temperature variation (difference between max and min temperatures during the week).\n",
    "4. Compute the correlation coefficient between the normalized population and the weekly average temperature."
   ]
  },
  {
   "cell_type": "code",
   "execution_count": 1,
   "metadata": {},
   "outputs": [],
   "source": [
    "import numpy as np"
   ]
  },
  {
   "cell_type": "code",
   "execution_count": 2,
   "metadata": {},
   "outputs": [],
   "source": [
    "cities = [\n",
    "    {\"city\": \"CityA\", \"population\": 1200000, \"temperatures\": [25, 26, 24, 23, 22, 24, 25]},\n",
    "    {\"city\": \"CityB\", \"population\": 2500000, \"temperatures\": [30, 32, 31, 29, 28, 27, 29]},\n",
    "    {\"city\": \"CityC\", \"population\": 800000, \"temperatures\": [20, 19, 21, 22, 20, 18, 19]},\n",
    "    {\"city\": \"CityD\", \"population\": 3000000, \"temperatures\": [35, 36, 34, 33, 32, 34, 35]}\n",
    "]"
   ]
  },
  {
   "cell_type": "code",
   "execution_count": 3,
   "metadata": {},
   "outputs": [],
   "source": [
    "# 1. Normalize the population values to a range of 0 to 1\n",
    "populations = [city[\"population\"] for city in cities]\n",
    "min_pop, max_pop = min(populations), max(populations)\n",
    "\n",
    "for city in cities:\n",
    "    city[\"normalized_population\"] = (city[\"population\"] - min_pop) / (max_pop - min_pop)"
   ]
  },
  {
   "cell_type": "code",
   "execution_count": 4,
   "metadata": {},
   "outputs": [],
   "source": [
    "# 2. Calculate the weekly average temperature for each city\n",
    "for city in cities:\n",
    "    city[\"average_temperature\"] = np.mean(city[\"temperatures\"])"
   ]
  },
  {
   "cell_type": "code",
   "execution_count": 5,
   "metadata": {},
   "outputs": [],
   "source": [
    "# 3. Identify the city with the largest temperature variation\n",
    "for city in cities:\n",
    "    city[\"temperature_variation\"] = max(city[\"temperatures\"]) - min(city[\"temperatures\"])\n",
    "\n",
    "most_variable_city = max(cities, key=lambda x: x[\"temperature_variation\"])"
   ]
  },
  {
   "cell_type": "code",
   "execution_count": 6,
   "metadata": {},
   "outputs": [],
   "source": [
    "# 4. Compute the correlation coefficient between normalized population and weekly average temperature\n",
    "normalized_populations = [city[\"normalized_population\"] for city in cities]\n",
    "average_temperatures = [city[\"average_temperature\"] for city in cities]\n",
    "\n",
    "correlation_coefficient = np.corrcoef(normalized_populations, average_temperatures)[0, 1]"
   ]
  },
  {
   "cell_type": "code",
   "execution_count": 7,
   "metadata": {},
   "outputs": [
    {
     "name": "stdout",
     "output_type": "stream",
     "text": [
      "Normalized populations and average temperatures for each city:\n",
      "CityA: Normalized Population = 0.18, Weekly Avg Temp = 24.14\n",
      "CityB: Normalized Population = 0.77, Weekly Avg Temp = 29.43\n",
      "CityC: Normalized Population = 0.00, Weekly Avg Temp = 19.86\n",
      "CityD: Normalized Population = 1.00, Weekly Avg Temp = 34.14\n"
     ]
    }
   ],
   "source": [
    "# Output Results\n",
    "print(\"Normalized populations and average temperatures for each city:\")\n",
    "for city in cities:\n",
    "    print(f\"{city['city']}: Normalized Population = {city['normalized_population']:.2f}, \"\n",
    "          f\"Weekly Avg Temp = {city['average_temperature']:.2f}\")"
   ]
  },
  {
   "cell_type": "code",
   "execution_count": 8,
   "metadata": {},
   "outputs": [
    {
     "name": "stdout",
     "output_type": "stream",
     "text": [
      "\n",
      "City with the largest temperature variation: CityB (5°C)\n"
     ]
    }
   ],
   "source": [
    "print(f\"\\nCity with the largest temperature variation: {most_variable_city['city']} \"\n",
    "      f\"({most_variable_city['temperature_variation']}°C)\")"
   ]
  },
  {
   "cell_type": "code",
   "execution_count": 9,
   "metadata": {},
   "outputs": [
    {
     "name": "stdout",
     "output_type": "stream",
     "text": [
      "\n",
      "Correlation coefficient between normalized population and weekly average temperature: 0.98\n"
     ]
    }
   ],
   "source": [
    "print(f\"\\nCorrelation coefficient between normalized population and weekly average temperature: \"\n",
    "      f\"{correlation_coefficient:.2f}\")"
   ]
  },
  {
   "cell_type": "code",
   "execution_count": null,
   "metadata": {},
   "outputs": [],
   "source": []
  }
 ],
 "metadata": {
  "kernelspec": {
   "display_name": "Python 3",
   "language": "python",
   "name": "python3"
  },
  "language_info": {
   "codemirror_mode": {
    "name": "ipython",
    "version": 3
   },
   "file_extension": ".py",
   "mimetype": "text/x-python",
   "name": "python",
   "nbconvert_exporter": "python",
   "pygments_lexer": "ipython3",
   "version": "3.12.0"
  }
 },
 "nbformat": 4,
 "nbformat_minor": 2
}
