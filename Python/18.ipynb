{
 "cells": [
  {
   "cell_type": "markdown",
   "metadata": {},
   "source": [
    "### Question:\n",
    "Design a class hierarchy for a simple library management system. Create a base class LibraryItem and derive two specific classes Book and DVD. Implement methods to track the item's availability, borrowing, and returning. Additionally, create a Library class that manages these items."
   ]
  },
  {
   "cell_type": "code",
   "execution_count": 1,
   "metadata": {},
   "outputs": [],
   "source": [
    "class LibraryItem:\n",
    "    def __init__(self, title, item_id):\n",
    "        self._title = title\n",
    "        self._item_id = item_id\n",
    "        self._is_borrowed = False\n",
    "        self._borrowed_by = None\n",
    "\n",
    "    def get_title(self):\n",
    "        return self._title\n",
    "\n",
    "    def get_id(self):\n",
    "        return self._item_id\n",
    "\n",
    "    def is_available(self):\n",
    "        return not self._is_borrowed\n",
    "\n",
    "    def borrow(self, borrower):\n",
    "        if self.is_available():\n",
    "            self._is_borrowed = True\n",
    "            self._borrowed_by = borrower\n",
    "            return True\n",
    "        return False\n",
    "\n",
    "    def return_item(self):\n",
    "        if not self.is_available():\n",
    "            self._is_borrowed = False\n",
    "            borrowed_by = self._borrowed_by\n",
    "            self._borrowed_by = None\n",
    "            return borrowed_by\n",
    "        return None\n"
   ]
  },
  {
   "cell_type": "code",
   "execution_count": 2,
   "metadata": {},
   "outputs": [],
   "source": [
    "class Book(LibraryItem):\n",
    "    def __init__(self, title, item_id, author, pages):\n",
    "        super().__init__(title, item_id)\n",
    "        self._author = author\n",
    "        self._pages = pages\n",
    "\n",
    "    def get_author(self):\n",
    "        return self._author\n",
    "\n",
    "    def get_page_count(self):\n",
    "        return self._pages\n",
    "\n",
    "    def __str__(self):\n",
    "        return f\"Book: {self._title} by {self._author}\""
   ]
  },
  {
   "cell_type": "code",
   "execution_count": 3,
   "metadata": {},
   "outputs": [],
   "source": [
    "class DVD(LibraryItem):\n",
    "    def __init__(self, title, item_id, director, duration):\n",
    "        super().__init__(title, item_id)\n",
    "        self._director = director\n",
    "        self._duration = duration\n",
    "\n",
    "    def get_director(self):\n",
    "        return self._director\n",
    "\n",
    "    def get_duration(self):\n",
    "        return self._duration\n",
    "\n",
    "    def __str__(self):\n",
    "        return f\"DVD: {self._title} directed by {self._director}\""
   ]
  },
  {
   "cell_type": "code",
   "execution_count": 5,
   "metadata": {},
   "outputs": [],
   "source": [
    "class Library:\n",
    "    def __init__(self):\n",
    "        self._items = []\n",
    "\n",
    "    def add_item(self, item):\n",
    "        self._items.append(item)\n",
    "\n",
    "    def find_item_by_id(self, item_id):\n",
    "        for item in self._items:\n",
    "            if item.get_id() == item_id:\n",
    "                return item\n",
    "        return None\n",
    "    def borrow_item(self, item_id, borrower):\n",
    "        item = self.find_item_by_id(item_id)\n",
    "        if item:\n",
    "            if item.borrow(borrower):\n",
    "                print(f\"{item} has been borrowed by {borrower}\")\n",
    "                return True\n",
    "            else:\n",
    "                print(f\"{item} is not available\")\n",
    "        else:\n",
    "            print(\"Item not found in library\")\n",
    "        return False\n",
    "\n",
    "    def return_item(self, item_id):\n",
    "        item = self.find_item_by_id(item_id)\n",
    "        if item:\n",
    "            borrower = item.return_item()\n",
    "            if borrower:\n",
    "                print(f\"{item} has been returned by {borrower}\")\n",
    "                return True\n",
    "            else:\n",
    "                print(\"Item was not borrowed\")\n",
    "        else:\n",
    "            print(\"Item not found in library\")\n",
    "        return False"
   ]
  },
  {
   "cell_type": "code",
   "execution_count": 6,
   "metadata": {},
   "outputs": [],
   "source": [
    "library = Library()"
   ]
  },
  {
   "cell_type": "code",
   "execution_count": 7,
   "metadata": {},
   "outputs": [],
   "source": [
    " # Create some books and DVDs\n",
    "book1 = Book(\"Python Programming\", \"B001\", \"John Smith\", 450)\n",
    "book2 = Book(\"OOP Concepts\", \"B002\", \"Jane Doe\", 350)\n",
    "dvd1 = DVD(\"Python Basics\", \"D001\", \"Code Master\", 120)"
   ]
  },
  {
   "cell_type": "code",
   "execution_count": 8,
   "metadata": {},
   "outputs": [],
   "source": [
    "library.add_item(book1)\n",
    "library.add_item(book2)\n",
    "library.add_item(dvd1)"
   ]
  },
  {
   "cell_type": "code",
   "execution_count": 9,
   "metadata": {},
   "outputs": [
    {
     "name": "stdout",
     "output_type": "stream",
     "text": [
      "Book: Python Programming by John Smith has been borrowed by Alice\n",
      "Book: Python Programming by John Smith is not available\n",
      "Book: Python Programming by John Smith has been returned by Alice\n",
      "Book: Python Programming by John Smith has been borrowed by Bob\n"
     ]
    },
    {
     "data": {
      "text/plain": [
       "True"
      ]
     },
     "execution_count": 9,
     "metadata": {},
     "output_type": "execute_result"
    }
   ],
   "source": [
    "# Borrow and return items\n",
    "library.borrow_item(\"B001\", \"Alice\")\n",
    "library.borrow_item(\"B001\", \"Bob\")  # Should fail\n",
    "library.return_item(\"B001\")\n",
    "library.borrow_item(\"B001\", \"Bob\")  # Now should succeed"
   ]
  },
  {
   "cell_type": "code",
   "execution_count": null,
   "metadata": {},
   "outputs": [],
   "source": []
  }
 ],
 "metadata": {
  "kernelspec": {
   "display_name": "Python 3",
   "language": "python",
   "name": "python3"
  },
  "language_info": {
   "codemirror_mode": {
    "name": "ipython",
    "version": 3
   },
   "file_extension": ".py",
   "mimetype": "text/x-python",
   "name": "python",
   "nbconvert_exporter": "python",
   "pygments_lexer": "ipython3",
   "version": "3.12.0"
  }
 },
 "nbformat": 4,
 "nbformat_minor": 2
}
