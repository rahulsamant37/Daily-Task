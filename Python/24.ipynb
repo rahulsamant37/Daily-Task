{
 "cells": [
  {
   "cell_type": "markdown",
   "metadata": {},
   "source": [
    "### Question:\n",
    "Design a Python class called BankAccount that models a bank account. The class should have the following features:\n",
    "\n",
    "1. Attributes:\n",
    "\n",
    "- account_number: A unique account number.\n",
    "- holder_name: The name of the account holder.\n",
    "- balance: The current balance (initialized to 0 by default).\n",
    "2. Methods:\n",
    "\n",
    "- deposit(amount): Adds the specified amount to the account balance.\n",
    "- withdraw(amount): Deducts the specified amount from the balance if sufficient funds are available; otherwise, print an insufficient funds message.\n",
    "- display_balance(): Displays the current balance.\n",
    "- transfer(amount, target_account): Transfers the specified amount to another BankAccount instance if there are sufficient funds.\n",
    "\n",
    "Create two BankAccount instances and demonstrate the functionality by making deposits, withdrawals, and transferring money between the accounts."
   ]
  },
  {
   "cell_type": "code",
   "execution_count": 1,
   "metadata": {},
   "outputs": [],
   "source": [
    "class BankAccount:\n",
    "    def __init__(self, account_number, holder_name, balance=0):\n",
    "        self.account_number = account_number\n",
    "        self.holder_name = holder_name\n",
    "        self.balance = balance\n",
    "\n",
    "    def deposit(self, amount):\n",
    "        if amount <= 0:\n",
    "            print(\"Deposit amount must be positive.\")\n",
    "            return\n",
    "        self.balance += amount\n",
    "        print(f\"Deposited ${amount} to account {self.account_number}. New balance: ${self.balance}\")\n",
    "\n",
    "    def withdraw(self, amount):\n",
    "        if amount <= 0:\n",
    "            print(\"Withdrawal amount must be positive.\")\n",
    "            return\n",
    "        if amount > self.balance:\n",
    "            print(f\"Insufficient funds for account {self.account_number}. Current balance: ${self.balance}\")\n",
    "            return\n",
    "        self.balance -= amount\n",
    "        print(f\"Withdrew ${amount} from account {self.account_number}. New balance: ${self.balance}\")\n",
    "\n",
    "    def display_balance(self):\n",
    "        print(f\"Account {self.account_number} - {self.holder_name}: Current balance is ${self.balance}\")\n",
    "\n",
    "    def transfer(self, amount, target_account):\n",
    "        if amount <= 0:\n",
    "            print(\"Transfer amount must be positive.\")\n",
    "            return\n",
    "        if amount > self.balance:\n",
    "            print(f\"Insufficient funds to transfer from account {self.account_number} to account {target_account.account_number}.\")\n",
    "            return\n",
    "        self.withdraw(amount)\n",
    "        target_account.deposit(amount)\n",
    "        print(f\"Transferred ${amount} from account {self.account_number} to account {target_account.account_number}.\")"
   ]
  },
  {
   "cell_type": "code",
   "execution_count": 2,
   "metadata": {},
   "outputs": [],
   "source": [
    "# Create two bank account instances\n",
    "account1 = BankAccount(\"123456\", \"Alice\")\n",
    "account2 = BankAccount(\"789012\", \"Bob\")"
   ]
  },
  {
   "cell_type": "code",
   "execution_count": 3,
   "metadata": {},
   "outputs": [
    {
     "name": "stdout",
     "output_type": "stream",
     "text": [
      "Deposited $500 to account 123456. New balance: $500\n",
      "Account 123456 - Alice: Current balance is $500\n"
     ]
    }
   ],
   "source": [
    "# Perform operations\n",
    "account1.deposit(500)\n",
    "account1.display_balance()"
   ]
  },
  {
   "cell_type": "code",
   "execution_count": 4,
   "metadata": {},
   "outputs": [
    {
     "name": "stdout",
     "output_type": "stream",
     "text": [
      "Deposited $300 to account 789012. New balance: $300\n",
      "Account 789012 - Bob: Current balance is $300\n"
     ]
    }
   ],
   "source": [
    "account2.deposit(300)\n",
    "account2.display_balance()"
   ]
  },
  {
   "cell_type": "code",
   "execution_count": 5,
   "metadata": {},
   "outputs": [
    {
     "name": "stdout",
     "output_type": "stream",
     "text": [
      "Withdrew $200 from account 123456. New balance: $300\n",
      "Account 123456 - Alice: Current balance is $300\n"
     ]
    }
   ],
   "source": [
    "# Withdraw from account1\n",
    "account1.withdraw(200)\n",
    "account1.display_balance()"
   ]
  },
  {
   "cell_type": "code",
   "execution_count": 6,
   "metadata": {},
   "outputs": [
    {
     "name": "stdout",
     "output_type": "stream",
     "text": [
      "Withdrew $100 from account 123456. New balance: $200\n",
      "Deposited $100 to account 789012. New balance: $400\n",
      "Transferred $100 from account 123456 to account 789012.\n",
      "Account 123456 - Alice: Current balance is $200\n",
      "Account 789012 - Bob: Current balance is $400\n"
     ]
    }
   ],
   "source": [
    "# Transfer money from account1 to account2\n",
    "account1.transfer(100, account2)\n",
    "account1.display_balance()\n",
    "account2.display_balance()"
   ]
  },
  {
   "cell_type": "code",
   "execution_count": null,
   "metadata": {},
   "outputs": [],
   "source": []
  }
 ],
 "metadata": {
  "kernelspec": {
   "display_name": "venv",
   "language": "python",
   "name": "python3"
  },
  "language_info": {
   "codemirror_mode": {
    "name": "ipython",
    "version": 3
   },
   "file_extension": ".py",
   "mimetype": "text/x-python",
   "name": "python",
   "nbconvert_exporter": "python",
   "pygments_lexer": "ipython3",
   "version": "3.12.0"
  }
 },
 "nbformat": 4,
 "nbformat_minor": 2
}
