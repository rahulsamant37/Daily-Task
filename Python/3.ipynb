{
 "cells": [
  {
   "cell_type": "markdown",
   "metadata": {},
   "source": [
    "Question: You are analyzing a dataset where the goal is to predict the Sales of a product based on multiple features: Advertising Budget for TV, Advertising Budget for Radio, and Advertising Budget for Newspaper. Using Lasso Regression, you aim to identify which advertising channels have the most significant impact on sales."
   ]
  },
  {
   "cell_type": "code",
   "execution_count": 1,
   "metadata": {},
   "outputs": [],
   "source": [
    "import numpy as np\n",
    "import pandas as pd\n",
    "from sklearn.linear_model import Lasso\n",
    "from sklearn.preprocessing import StandardScaler\n",
    "import plotly.express as px"
   ]
  },
  {
   "cell_type": "code",
   "execution_count": 2,
   "metadata": {},
   "outputs": [],
   "source": [
    "# Step 1: Generate synthetic data\n",
    "np.random.seed(42)  # For reproducibility\n",
    "n_samples = 100"
   ]
  },
  {
   "cell_type": "code",
   "execution_count": 3,
   "metadata": {},
   "outputs": [],
   "source": [
    "# Features: Advertising budgets (in $1000s)\n",
    "tv_budget = np.random.rand(n_samples) * 300  # TV budget\n",
    "radio_budget = np.random.rand(n_samples) * 200  # Radio budget\n",
    "newspaper_budget = np.random.rand(n_samples) * 100  # Newspaper budget\n",
    "\n",
    "# Target: Sales (in $1000s), influenced by the budgets with some noise\n",
    "sales = (\n",
    "    0.5 * tv_budget + 0.3 * radio_budget - 0.1 * newspaper_budget + np.random.randn(n_samples) * 5\n",
    ")\n",
    "\n",
    "# Combine into a DataFrame\n",
    "data = pd.DataFrame({\n",
    "    \"TV\": tv_budget,\n",
    "    \"Radio\": radio_budget,\n",
    "    \"Newspaper\": newspaper_budget,\n",
    "    \"Sales\": sales,\n",
    "})\n"
   ]
  },
  {
   "cell_type": "code",
   "execution_count": 4,
   "metadata": {},
   "outputs": [],
   "source": [
    "# Step 2: Prepare data for Lasso Regression\n",
    "X = data[[\"TV\", \"Radio\", \"Newspaper\"]]\n",
    "y = data[\"Sales\"]\n",
    "\n",
    "scaler = StandardScaler()\n",
    "X_scaled = scaler.fit_transform(X)"
   ]
  },
  {
   "cell_type": "code",
   "execution_count": 5,
   "metadata": {},
   "outputs": [],
   "source": [
    "# Step 3: Apply Lasso Regression for multiple alpha values\n",
    "alphas = np.logspace(-3, 1, 50)  # Alphas from 0.001 to 10\n",
    "coefficients = []\n",
    "\n",
    "for alpha in alphas:\n",
    "    lasso = Lasso(alpha=alpha, max_iter=10000)\n",
    "    lasso.fit(X_scaled, y)\n",
    "    coefficients.append(lasso.coef_)\n",
    "\n",
    "# Convert coefficients to a DataFrame for visualization\n",
    "coeff_df = pd.DataFrame(coefficients, columns=[\"TV\", \"Radio\", \"Newspaper\"])\n",
    "coeff_df[\"alpha\"] = alphas\n",
    "\n",
    "# Melt DataFrame for Plotly\n",
    "coeff_melted = coeff_df.melt(id_vars=\"alpha\", var_name=\"Feature\", value_name=\"Coefficient\")"
   ]
  },
  {
   "cell_type": "code",
   "execution_count": 6,
   "metadata": {},
   "outputs": [
    {
     "data": {
      "application/vnd.plotly.v1+json": {
       "config": {
        "plotlyServerURL": "https://plot.ly"
       },
       "data": [
        {
         "hovertemplate": "Feature=TV<br>Alpha (Log Scale)=%{x}<br>Feature Coefficient=%{y}<extra></extra>",
         "legendgroup": "TV",
         "line": {
          "color": "#636efa",
          "dash": "solid"
         },
         "marker": {
          "symbol": "circle"
         },
         "mode": "lines",
         "name": "TV",
         "orientation": "v",
         "showlegend": true,
         "type": "scatter",
         "x": [
          0.001,
          0.0012067926406393288,
          0.0014563484775012444,
          0.0017575106248547913,
          0.0021209508879201904,
          0.002559547922699536,
          0.0030888435964774815,
          0.003727593720314938,
          0.004498432668969444,
          0.005428675439323859,
          0.006551285568595509,
          0.0079060432109077,
          0.009540954763499945,
          0.01151395399326447,
          0.013894954943731374,
          0.016768329368110076,
          0.020235896477251564,
          0.02442053094548651,
          0.029470517025518096,
          0.03556480306223128,
          0.04291934260128776,
          0.0517947467923121,
          0.0625055192527397,
          0.07543120063354615,
          0.09102981779915217,
          0.10985411419875583,
          0.13257113655901082,
          0.15998587196060574,
          0.19306977288832497,
          0.2329951810515372,
          0.2811768697974228,
          0.3393221771895326,
          0.4094915062380423,
          0.49417133613238334,
          0.5963623316594643,
          0.7196856730011514,
          0.868511373751352,
          1.0481131341546852,
          1.2648552168552958,
          1.5264179671752318,
          1.8420699693267144,
          2.2229964825261934,
          2.6826957952797246,
          3.2374575428176433,
          3.906939937054613,
          4.714866363457389,
          5.689866029018293,
          6.866488450042998,
          8.286427728546842,
          10
         ],
         "xaxis": "x",
         "y": [
          45.01431322821779,
          45.014106464572606,
          45.01385694372726,
          45.01355582380742,
          45.01319243450419,
          45.01275389896736,
          45.012224677508875,
          45.0115860169475,
          45.01081528608216,
          45.009885173745964,
          45.00876272102366,
          45.00740815333893,
          45.00577347102574,
          45.00380074844042,
          45.001420081342395,
          44.998547109808726,
          44.99508002890511,
          44.990895981186114,
          44.98584670319075,
          44.97975327166542,
          44.97239976334441,
          44.96352560361972,
          44.952816332972105,
          44.939892463967965,
          44.924296033965184,
          44.90547437701756,
          44.88276053992853,
          44.855349648488826,
          44.82227038642604,
          44.78235057641086,
          44.734175643468845,
          44.676038488931106,
          44.60587899868726,
          44.52121104218997,
          44.419034375391085,
          44.29572832585311,
          44.14692349272441,
          43.96734691521311,
          43.75063522304128,
          43.4891091477878,
          43.17349758667866,
          42.792581699130366,
          42.332895209334495,
          41.76788443494511,
          41.074815191568426,
          40.23842432920795,
          39.22907399181336,
          38.01099743281874,
          36.54103160568875,
          34.76708766351697
         ],
         "yaxis": "y"
        },
        {
         "hovertemplate": "Feature=Radio<br>Alpha (Log Scale)=%{x}<br>Feature Coefficient=%{y}<extra></extra>",
         "legendgroup": "Radio",
         "line": {
          "color": "#EF553B",
          "dash": "solid"
         },
         "marker": {
          "symbol": "circle"
         },
         "mode": "lines",
         "name": "Radio",
         "orientation": "v",
         "showlegend": true,
         "type": "scatter",
         "x": [
          0.001,
          0.0012067926406393288,
          0.0014563484775012444,
          0.0017575106248547913,
          0.0021209508879201904,
          0.002559547922699536,
          0.0030888435964774815,
          0.003727593720314938,
          0.004498432668969444,
          0.005428675439323859,
          0.006551285568595509,
          0.0079060432109077,
          0.009540954763499945,
          0.01151395399326447,
          0.013894954943731374,
          0.016768329368110076,
          0.020235896477251564,
          0.02442053094548651,
          0.029470517025518096,
          0.03556480306223128,
          0.04291934260128776,
          0.0517947467923121,
          0.0625055192527397,
          0.07543120063354615,
          0.09102981779915217,
          0.10985411419875583,
          0.13257113655901082,
          0.15998587196060574,
          0.19306977288832497,
          0.2329951810515372,
          0.2811768697974228,
          0.3393221771895326,
          0.4094915062380423,
          0.49417133613238334,
          0.5963623316594643,
          0.7196856730011514,
          0.868511373751352,
          1.0481131341546852,
          1.2648552168552958,
          1.5264179671752318,
          1.8420699693267144,
          2.2229964825261934,
          2.6826957952797246,
          3.2374575428176433,
          3.906939937054613,
          4.714866363457389,
          5.689866029018293,
          6.866488450042998,
          8.286427728546842,
          10
         ],
         "xaxis": "x",
         "y": [
          17.80172269408261,
          17.801533946811613,
          17.801306167994035,
          17.801031286193286,
          17.800699560859105,
          17.80029923716709,
          17.7998161294817,
          17.799233118682334,
          17.79852954554024,
          17.797680478650214,
          17.796655830975926,
          17.795419293703343,
          17.793927049622912,
          17.792126220448612,
          17.78995299305401,
          17.78733035822778,
          17.784165381820394,
          17.780345911584167,
          17.775736603011946,
          17.770174123348554,
          17.763461363827073,
          17.75536045503816,
          17.745584337929206,
          17.7337865917481,
          17.719549158480607,
          17.702367528791804,
          17.681632864529167,
          17.65661042429089,
          17.626413527560498,
          17.589972134816115,
          17.545994930237548,
          17.492923563396243,
          17.428877428463487,
          17.351587024165237,
          17.258313533066076,
          17.14575177044087,
          17.009913063687385,
          16.845983912063303,
          16.648155418297126,
          16.409417447911334,
          16.121326334279207,
          15.773607566130678,
          15.353983115716852,
          14.81157890918485,
          14.118509635244273,
          13.282118735999534,
          12.272768354093273,
          11.054691741382301,
          9.58472584942782,
          7.810781829026328
         ],
         "yaxis": "y"
        },
        {
         "hovertemplate": "Feature=Newspaper<br>Alpha (Log Scale)=%{x}<br>Feature Coefficient=%{y}<extra></extra>",
         "legendgroup": "Newspaper",
         "line": {
          "color": "#00cc96",
          "dash": "solid"
         },
         "marker": {
          "symbol": "circle"
         },
         "mode": "lines",
         "name": "Newspaper",
         "orientation": "v",
         "showlegend": true,
         "type": "scatter",
         "x": [
          0.001,
          0.0012067926406393288,
          0.0014563484775012444,
          0.0017575106248547913,
          0.0021209508879201904,
          0.002559547922699536,
          0.0030888435964774815,
          0.003727593720314938,
          0.004498432668969444,
          0.005428675439323859,
          0.006551285568595509,
          0.0079060432109077,
          0.009540954763499945,
          0.01151395399326447,
          0.013894954943731374,
          0.016768329368110076,
          0.020235896477251564,
          0.02442053094548651,
          0.029470517025518096,
          0.03556480306223128,
          0.04291934260128776,
          0.0517947467923121,
          0.0625055192527397,
          0.07543120063354615,
          0.09102981779915217,
          0.10985411419875583,
          0.13257113655901082,
          0.15998587196060574,
          0.19306977288832497,
          0.2329951810515372,
          0.2811768697974228,
          0.3393221771895326,
          0.4094915062380423,
          0.49417133613238334,
          0.5963623316594643,
          0.7196856730011514,
          0.868511373751352,
          1.0481131341546852,
          1.2648552168552958,
          1.5264179671752318,
          1.8420699693267144,
          2.2229964825261934,
          2.6826957952797246,
          3.2374575428176433,
          3.906939937054613,
          4.714866363457389,
          5.689866029018293,
          6.866488450042998,
          8.286427728546842,
          10
         ],
         "xaxis": "x",
         "y": [
          -2.4379495164520217,
          -2.4377781331525683,
          -2.4375713090480597,
          -2.437321715240833,
          -2.4370205072711206,
          -2.436657011709971,
          -2.436218347941871,
          -2.435688971734812,
          -2.435050124424004,
          -2.4342791681908293,
          -2.433348783882379,
          -2.4322260029459737,
          -2.43087103917487,
          -2.429235878867568,
          -2.4272625794424543,
          -2.424881216218446,
          -2.422007404605024,
          -2.4185393098993635,
          -2.4143540387315308,
          -2.4093032842871116,
          -2.4032080709939083,
          -2.3958524124485465,
          -2.3869756578489465,
          -2.3762632557253878,
          -2.3633356076791086,
          -2.347734617156083,
          -2.328907456606212,
          -2.3061869778104915,
          -2.2787680712080154,
          -2.2456791365057684,
          -2.205747653620503,
          -2.15755863394475,
          -2.0994044796404254,
          -2.029224474203365,
          -1.9445317601218906,
          -1.8423252160525985,
          -1.718983110844595,
          -1.570134765998616,
          -1.3905056788671424,
          -1.1737306184721201,
          -0.9121258566226199,
          -0.5964322811397621,
          -0.21545559754993573,
          0,
          0,
          0,
          0,
          0,
          0,
          0
         ],
         "yaxis": "y"
        }
       ],
       "layout": {
        "legend": {
         "title": {
          "text": "Feature"
         },
         "tracegroupgap": 0
        },
        "template": {
         "data": {
          "bar": [
           {
            "error_x": {
             "color": "#2a3f5f"
            },
            "error_y": {
             "color": "#2a3f5f"
            },
            "marker": {
             "line": {
              "color": "#E5ECF6",
              "width": 0.5
             },
             "pattern": {
              "fillmode": "overlay",
              "size": 10,
              "solidity": 0.2
             }
            },
            "type": "bar"
           }
          ],
          "barpolar": [
           {
            "marker": {
             "line": {
              "color": "#E5ECF6",
              "width": 0.5
             },
             "pattern": {
              "fillmode": "overlay",
              "size": 10,
              "solidity": 0.2
             }
            },
            "type": "barpolar"
           }
          ],
          "carpet": [
           {
            "aaxis": {
             "endlinecolor": "#2a3f5f",
             "gridcolor": "white",
             "linecolor": "white",
             "minorgridcolor": "white",
             "startlinecolor": "#2a3f5f"
            },
            "baxis": {
             "endlinecolor": "#2a3f5f",
             "gridcolor": "white",
             "linecolor": "white",
             "minorgridcolor": "white",
             "startlinecolor": "#2a3f5f"
            },
            "type": "carpet"
           }
          ],
          "choropleth": [
           {
            "colorbar": {
             "outlinewidth": 0,
             "ticks": ""
            },
            "type": "choropleth"
           }
          ],
          "contour": [
           {
            "colorbar": {
             "outlinewidth": 0,
             "ticks": ""
            },
            "colorscale": [
             [
              0,
              "#0d0887"
             ],
             [
              0.1111111111111111,
              "#46039f"
             ],
             [
              0.2222222222222222,
              "#7201a8"
             ],
             [
              0.3333333333333333,
              "#9c179e"
             ],
             [
              0.4444444444444444,
              "#bd3786"
             ],
             [
              0.5555555555555556,
              "#d8576b"
             ],
             [
              0.6666666666666666,
              "#ed7953"
             ],
             [
              0.7777777777777778,
              "#fb9f3a"
             ],
             [
              0.8888888888888888,
              "#fdca26"
             ],
             [
              1,
              "#f0f921"
             ]
            ],
            "type": "contour"
           }
          ],
          "contourcarpet": [
           {
            "colorbar": {
             "outlinewidth": 0,
             "ticks": ""
            },
            "type": "contourcarpet"
           }
          ],
          "heatmap": [
           {
            "colorbar": {
             "outlinewidth": 0,
             "ticks": ""
            },
            "colorscale": [
             [
              0,
              "#0d0887"
             ],
             [
              0.1111111111111111,
              "#46039f"
             ],
             [
              0.2222222222222222,
              "#7201a8"
             ],
             [
              0.3333333333333333,
              "#9c179e"
             ],
             [
              0.4444444444444444,
              "#bd3786"
             ],
             [
              0.5555555555555556,
              "#d8576b"
             ],
             [
              0.6666666666666666,
              "#ed7953"
             ],
             [
              0.7777777777777778,
              "#fb9f3a"
             ],
             [
              0.8888888888888888,
              "#fdca26"
             ],
             [
              1,
              "#f0f921"
             ]
            ],
            "type": "heatmap"
           }
          ],
          "heatmapgl": [
           {
            "colorbar": {
             "outlinewidth": 0,
             "ticks": ""
            },
            "colorscale": [
             [
              0,
              "#0d0887"
             ],
             [
              0.1111111111111111,
              "#46039f"
             ],
             [
              0.2222222222222222,
              "#7201a8"
             ],
             [
              0.3333333333333333,
              "#9c179e"
             ],
             [
              0.4444444444444444,
              "#bd3786"
             ],
             [
              0.5555555555555556,
              "#d8576b"
             ],
             [
              0.6666666666666666,
              "#ed7953"
             ],
             [
              0.7777777777777778,
              "#fb9f3a"
             ],
             [
              0.8888888888888888,
              "#fdca26"
             ],
             [
              1,
              "#f0f921"
             ]
            ],
            "type": "heatmapgl"
           }
          ],
          "histogram": [
           {
            "marker": {
             "pattern": {
              "fillmode": "overlay",
              "size": 10,
              "solidity": 0.2
             }
            },
            "type": "histogram"
           }
          ],
          "histogram2d": [
           {
            "colorbar": {
             "outlinewidth": 0,
             "ticks": ""
            },
            "colorscale": [
             [
              0,
              "#0d0887"
             ],
             [
              0.1111111111111111,
              "#46039f"
             ],
             [
              0.2222222222222222,
              "#7201a8"
             ],
             [
              0.3333333333333333,
              "#9c179e"
             ],
             [
              0.4444444444444444,
              "#bd3786"
             ],
             [
              0.5555555555555556,
              "#d8576b"
             ],
             [
              0.6666666666666666,
              "#ed7953"
             ],
             [
              0.7777777777777778,
              "#fb9f3a"
             ],
             [
              0.8888888888888888,
              "#fdca26"
             ],
             [
              1,
              "#f0f921"
             ]
            ],
            "type": "histogram2d"
           }
          ],
          "histogram2dcontour": [
           {
            "colorbar": {
             "outlinewidth": 0,
             "ticks": ""
            },
            "colorscale": [
             [
              0,
              "#0d0887"
             ],
             [
              0.1111111111111111,
              "#46039f"
             ],
             [
              0.2222222222222222,
              "#7201a8"
             ],
             [
              0.3333333333333333,
              "#9c179e"
             ],
             [
              0.4444444444444444,
              "#bd3786"
             ],
             [
              0.5555555555555556,
              "#d8576b"
             ],
             [
              0.6666666666666666,
              "#ed7953"
             ],
             [
              0.7777777777777778,
              "#fb9f3a"
             ],
             [
              0.8888888888888888,
              "#fdca26"
             ],
             [
              1,
              "#f0f921"
             ]
            ],
            "type": "histogram2dcontour"
           }
          ],
          "mesh3d": [
           {
            "colorbar": {
             "outlinewidth": 0,
             "ticks": ""
            },
            "type": "mesh3d"
           }
          ],
          "parcoords": [
           {
            "line": {
             "colorbar": {
              "outlinewidth": 0,
              "ticks": ""
             }
            },
            "type": "parcoords"
           }
          ],
          "pie": [
           {
            "automargin": true,
            "type": "pie"
           }
          ],
          "scatter": [
           {
            "fillpattern": {
             "fillmode": "overlay",
             "size": 10,
             "solidity": 0.2
            },
            "type": "scatter"
           }
          ],
          "scatter3d": [
           {
            "line": {
             "colorbar": {
              "outlinewidth": 0,
              "ticks": ""
             }
            },
            "marker": {
             "colorbar": {
              "outlinewidth": 0,
              "ticks": ""
             }
            },
            "type": "scatter3d"
           }
          ],
          "scattercarpet": [
           {
            "marker": {
             "colorbar": {
              "outlinewidth": 0,
              "ticks": ""
             }
            },
            "type": "scattercarpet"
           }
          ],
          "scattergeo": [
           {
            "marker": {
             "colorbar": {
              "outlinewidth": 0,
              "ticks": ""
             }
            },
            "type": "scattergeo"
           }
          ],
          "scattergl": [
           {
            "marker": {
             "colorbar": {
              "outlinewidth": 0,
              "ticks": ""
             }
            },
            "type": "scattergl"
           }
          ],
          "scattermapbox": [
           {
            "marker": {
             "colorbar": {
              "outlinewidth": 0,
              "ticks": ""
             }
            },
            "type": "scattermapbox"
           }
          ],
          "scatterpolar": [
           {
            "marker": {
             "colorbar": {
              "outlinewidth": 0,
              "ticks": ""
             }
            },
            "type": "scatterpolar"
           }
          ],
          "scatterpolargl": [
           {
            "marker": {
             "colorbar": {
              "outlinewidth": 0,
              "ticks": ""
             }
            },
            "type": "scatterpolargl"
           }
          ],
          "scatterternary": [
           {
            "marker": {
             "colorbar": {
              "outlinewidth": 0,
              "ticks": ""
             }
            },
            "type": "scatterternary"
           }
          ],
          "surface": [
           {
            "colorbar": {
             "outlinewidth": 0,
             "ticks": ""
            },
            "colorscale": [
             [
              0,
              "#0d0887"
             ],
             [
              0.1111111111111111,
              "#46039f"
             ],
             [
              0.2222222222222222,
              "#7201a8"
             ],
             [
              0.3333333333333333,
              "#9c179e"
             ],
             [
              0.4444444444444444,
              "#bd3786"
             ],
             [
              0.5555555555555556,
              "#d8576b"
             ],
             [
              0.6666666666666666,
              "#ed7953"
             ],
             [
              0.7777777777777778,
              "#fb9f3a"
             ],
             [
              0.8888888888888888,
              "#fdca26"
             ],
             [
              1,
              "#f0f921"
             ]
            ],
            "type": "surface"
           }
          ],
          "table": [
           {
            "cells": {
             "fill": {
              "color": "#EBF0F8"
             },
             "line": {
              "color": "white"
             }
            },
            "header": {
             "fill": {
              "color": "#C8D4E3"
             },
             "line": {
              "color": "white"
             }
            },
            "type": "table"
           }
          ]
         },
         "layout": {
          "annotationdefaults": {
           "arrowcolor": "#2a3f5f",
           "arrowhead": 0,
           "arrowwidth": 1
          },
          "autotypenumbers": "strict",
          "coloraxis": {
           "colorbar": {
            "outlinewidth": 0,
            "ticks": ""
           }
          },
          "colorscale": {
           "diverging": [
            [
             0,
             "#8e0152"
            ],
            [
             0.1,
             "#c51b7d"
            ],
            [
             0.2,
             "#de77ae"
            ],
            [
             0.3,
             "#f1b6da"
            ],
            [
             0.4,
             "#fde0ef"
            ],
            [
             0.5,
             "#f7f7f7"
            ],
            [
             0.6,
             "#e6f5d0"
            ],
            [
             0.7,
             "#b8e186"
            ],
            [
             0.8,
             "#7fbc41"
            ],
            [
             0.9,
             "#4d9221"
            ],
            [
             1,
             "#276419"
            ]
           ],
           "sequential": [
            [
             0,
             "#0d0887"
            ],
            [
             0.1111111111111111,
             "#46039f"
            ],
            [
             0.2222222222222222,
             "#7201a8"
            ],
            [
             0.3333333333333333,
             "#9c179e"
            ],
            [
             0.4444444444444444,
             "#bd3786"
            ],
            [
             0.5555555555555556,
             "#d8576b"
            ],
            [
             0.6666666666666666,
             "#ed7953"
            ],
            [
             0.7777777777777778,
             "#fb9f3a"
            ],
            [
             0.8888888888888888,
             "#fdca26"
            ],
            [
             1,
             "#f0f921"
            ]
           ],
           "sequentialminus": [
            [
             0,
             "#0d0887"
            ],
            [
             0.1111111111111111,
             "#46039f"
            ],
            [
             0.2222222222222222,
             "#7201a8"
            ],
            [
             0.3333333333333333,
             "#9c179e"
            ],
            [
             0.4444444444444444,
             "#bd3786"
            ],
            [
             0.5555555555555556,
             "#d8576b"
            ],
            [
             0.6666666666666666,
             "#ed7953"
            ],
            [
             0.7777777777777778,
             "#fb9f3a"
            ],
            [
             0.8888888888888888,
             "#fdca26"
            ],
            [
             1,
             "#f0f921"
            ]
           ]
          },
          "colorway": [
           "#636efa",
           "#EF553B",
           "#00cc96",
           "#ab63fa",
           "#FFA15A",
           "#19d3f3",
           "#FF6692",
           "#B6E880",
           "#FF97FF",
           "#FECB52"
          ],
          "font": {
           "color": "#2a3f5f"
          },
          "geo": {
           "bgcolor": "white",
           "lakecolor": "white",
           "landcolor": "#E5ECF6",
           "showlakes": true,
           "showland": true,
           "subunitcolor": "white"
          },
          "hoverlabel": {
           "align": "left"
          },
          "hovermode": "closest",
          "mapbox": {
           "style": "light"
          },
          "paper_bgcolor": "white",
          "plot_bgcolor": "#E5ECF6",
          "polar": {
           "angularaxis": {
            "gridcolor": "white",
            "linecolor": "white",
            "ticks": ""
           },
           "bgcolor": "#E5ECF6",
           "radialaxis": {
            "gridcolor": "white",
            "linecolor": "white",
            "ticks": ""
           }
          },
          "scene": {
           "xaxis": {
            "backgroundcolor": "#E5ECF6",
            "gridcolor": "white",
            "gridwidth": 2,
            "linecolor": "white",
            "showbackground": true,
            "ticks": "",
            "zerolinecolor": "white"
           },
           "yaxis": {
            "backgroundcolor": "#E5ECF6",
            "gridcolor": "white",
            "gridwidth": 2,
            "linecolor": "white",
            "showbackground": true,
            "ticks": "",
            "zerolinecolor": "white"
           },
           "zaxis": {
            "backgroundcolor": "#E5ECF6",
            "gridcolor": "white",
            "gridwidth": 2,
            "linecolor": "white",
            "showbackground": true,
            "ticks": "",
            "zerolinecolor": "white"
           }
          },
          "shapedefaults": {
           "line": {
            "color": "#2a3f5f"
           }
          },
          "ternary": {
           "aaxis": {
            "gridcolor": "white",
            "linecolor": "white",
            "ticks": ""
           },
           "baxis": {
            "gridcolor": "white",
            "linecolor": "white",
            "ticks": ""
           },
           "bgcolor": "#E5ECF6",
           "caxis": {
            "gridcolor": "white",
            "linecolor": "white",
            "ticks": ""
           }
          },
          "title": {
           "x": 0.05
          },
          "xaxis": {
           "automargin": true,
           "gridcolor": "white",
           "linecolor": "white",
           "ticks": "",
           "title": {
            "standoff": 15
           },
           "zerolinecolor": "white",
           "zerolinewidth": 2
          },
          "yaxis": {
           "automargin": true,
           "gridcolor": "white",
           "linecolor": "white",
           "ticks": "",
           "title": {
            "standoff": 15
           },
           "zerolinecolor": "white",
           "zerolinewidth": 2
          }
         }
        },
        "title": {
         "text": "Effect of Alpha on Advertising Coefficients in Lasso Regression"
        },
        "xaxis": {
         "anchor": "y",
         "domain": [
          0,
          1
         ],
         "title": {
          "text": "Alpha (Log Scale)"
         },
         "type": "log"
        },
        "yaxis": {
         "anchor": "x",
         "domain": [
          0,
          1
         ],
         "title": {
          "text": "Feature Coefficient"
         }
        }
       }
      }
     },
     "metadata": {},
     "output_type": "display_data"
    }
   ],
   "source": [
    "# Step 4: Plot the coefficients\n",
    "fig = px.line(\n",
    "    coeff_melted,\n",
    "    x=\"alpha\",\n",
    "    y=\"Coefficient\",\n",
    "    color=\"Feature\",\n",
    "    log_x=True,  # Log scale for alpha\n",
    "    title=\"Effect of Alpha on Advertising Coefficients in Lasso Regression\",\n",
    "    labels={\"alpha\": \"Alpha (Log Scale)\", \"Coefficient\": \"Feature Coefficient\"},\n",
    ")\n",
    "fig.show()"
   ]
  },
  {
   "cell_type": "code",
   "execution_count": null,
   "metadata": {},
   "outputs": [],
   "source": []
  }
 ],
 "metadata": {
  "kernelspec": {
   "display_name": "Python 3",
   "language": "python",
   "name": "python3"
  },
  "language_info": {
   "codemirror_mode": {
    "name": "ipython",
    "version": 3
   },
   "file_extension": ".py",
   "mimetype": "text/x-python",
   "name": "python",
   "nbconvert_exporter": "python",
   "pygments_lexer": "ipython3",
   "version": "3.12.0"
  }
 },
 "nbformat": 4,
 "nbformat_minor": 2
}
