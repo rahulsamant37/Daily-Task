{
 "cells": [
  {
   "cell_type": "markdown",
   "metadata": {
    "vscode": {
     "languageId": "plaintext"
    }
   },
   "source": [
    "Show how coefficients shrink differently depending on the type and strength of regularization applied. \n",
    "Would you like me to explain any specific aspect of the code or the elastic net regression \n",
    "concept in more detail?"
   ]
  },
  {
   "cell_type": "code",
   "execution_count": 1,
   "metadata": {},
   "outputs": [],
   "source": [
    "import numpy as np\n",
    "import pandas as pd\n",
    "from sklearn.preprocessing import StandardScaler\n",
    "from sklearn.linear_model import ElasticNet\n",
    "import plotly.express as px"
   ]
  },
  {
   "cell_type": "code",
   "execution_count": 2,
   "metadata": {},
   "outputs": [],
   "source": [
    "# Set random seed for reproducibility\n",
    "np.random.seed(42)"
   ]
  },
  {
   "cell_type": "code",
   "execution_count": 3,
   "metadata": {},
   "outputs": [],
   "source": [
    "# Generate sample data\n",
    "n_samples = 100\n",
    "X = np.random.randn(n_samples, 2)\n",
    "true_coefficients = [1.5, -2]\n",
    "y = np.dot(X, true_coefficients) + np.random.randn(n_samples) * 0.1"
   ]
  },
  {
   "cell_type": "code",
   "execution_count": 4,
   "metadata": {},
   "outputs": [],
   "source": [
    "# Standardize features\n",
    "scaler = StandardScaler()\n",
    "X_scaled = scaler.fit_transform(X)"
   ]
  },
  {
   "cell_type": "code",
   "execution_count": 5,
   "metadata": {},
   "outputs": [],
   "source": [
    "# Create a grid of l1_ratio and alpha values\n",
    "l1_ratios = np.linspace(0, 1, 20)\n",
    "alphas = np.logspace(-3, 1, 20)\n",
    "l1_mesh, alpha_mesh = np.meshgrid(l1_ratios, alphas)"
   ]
  },
  {
   "cell_type": "code",
   "execution_count": 6,
   "metadata": {},
   "outputs": [],
   "source": [
    "# Initialize arrays to store coefficients\n",
    "coef1_values = np.zeros_like(l1_mesh)\n",
    "coef2_values = np.zeros_like(l1_mesh)"
   ]
  },
  {
   "cell_type": "code",
   "execution_count": 7,
   "metadata": {},
   "outputs": [
    {
     "name": "stderr",
     "output_type": "stream",
     "text": [
      "C:\\Users\\rahul\\AppData\\Roaming\\Python\\Python312\\site-packages\\sklearn\\linear_model\\_coordinate_descent.py:697: ConvergenceWarning: Objective did not converge. You might want to increase the number of iterations, check the scale of the features or consider increasing regularisation. Duality gap: 8.394e-01, tolerance: 5.538e-02 Linear regression models with null weight for the l1 regularization term are more efficiently fitted using one of the solvers implemented in sklearn.linear_model.Ridge/RidgeCV instead.\n",
      "  model = cd_fast.enet_coordinate_descent(\n",
      "C:\\Users\\rahul\\AppData\\Roaming\\Python\\Python312\\site-packages\\sklearn\\linear_model\\_coordinate_descent.py:697: ConvergenceWarning: Objective did not converge. You might want to increase the number of iterations, check the scale of the features or consider increasing regularisation. Duality gap: 1.017e+00, tolerance: 5.538e-02 Linear regression models with null weight for the l1 regularization term are more efficiently fitted using one of the solvers implemented in sklearn.linear_model.Ridge/RidgeCV instead.\n",
      "  model = cd_fast.enet_coordinate_descent(\n",
      "C:\\Users\\rahul\\AppData\\Roaming\\Python\\Python312\\site-packages\\sklearn\\linear_model\\_coordinate_descent.py:697: ConvergenceWarning: Objective did not converge. You might want to increase the number of iterations, check the scale of the features or consider increasing regularisation. Duality gap: 1.304e+00, tolerance: 5.538e-02 Linear regression models with null weight for the l1 regularization term are more efficiently fitted using one of the solvers implemented in sklearn.linear_model.Ridge/RidgeCV instead.\n",
      "  model = cd_fast.enet_coordinate_descent(\n",
      "C:\\Users\\rahul\\AppData\\Roaming\\Python\\Python312\\site-packages\\sklearn\\linear_model\\_coordinate_descent.py:697: ConvergenceWarning: Objective did not converge. You might want to increase the number of iterations, check the scale of the features or consider increasing regularisation. Duality gap: 1.769e+00, tolerance: 5.538e-02 Linear regression models with null weight for the l1 regularization term are more efficiently fitted using one of the solvers implemented in sklearn.linear_model.Ridge/RidgeCV instead.\n",
      "  model = cd_fast.enet_coordinate_descent(\n",
      "C:\\Users\\rahul\\AppData\\Roaming\\Python\\Python312\\site-packages\\sklearn\\linear_model\\_coordinate_descent.py:697: ConvergenceWarning: Objective did not converge. You might want to increase the number of iterations, check the scale of the features or consider increasing regularisation. Duality gap: 2.520e+00, tolerance: 5.538e-02 Linear regression models with null weight for the l1 regularization term are more efficiently fitted using one of the solvers implemented in sklearn.linear_model.Ridge/RidgeCV instead.\n",
      "  model = cd_fast.enet_coordinate_descent(\n",
      "C:\\Users\\rahul\\AppData\\Roaming\\Python\\Python312\\site-packages\\sklearn\\linear_model\\_coordinate_descent.py:697: ConvergenceWarning: Objective did not converge. You might want to increase the number of iterations, check the scale of the features or consider increasing regularisation. Duality gap: 3.732e+00, tolerance: 5.538e-02 Linear regression models with null weight for the l1 regularization term are more efficiently fitted using one of the solvers implemented in sklearn.linear_model.Ridge/RidgeCV instead.\n",
      "  model = cd_fast.enet_coordinate_descent(\n",
      "C:\\Users\\rahul\\AppData\\Roaming\\Python\\Python312\\site-packages\\sklearn\\linear_model\\_coordinate_descent.py:697: ConvergenceWarning: Objective did not converge. You might want to increase the number of iterations, check the scale of the features or consider increasing regularisation. Duality gap: 5.677e+00, tolerance: 5.538e-02 Linear regression models with null weight for the l1 regularization term are more efficiently fitted using one of the solvers implemented in sklearn.linear_model.Ridge/RidgeCV instead.\n",
      "  model = cd_fast.enet_coordinate_descent(\n",
      "C:\\Users\\rahul\\AppData\\Roaming\\Python\\Python312\\site-packages\\sklearn\\linear_model\\_coordinate_descent.py:697: ConvergenceWarning: Objective did not converge. You might want to increase the number of iterations, check the scale of the features or consider increasing regularisation. Duality gap: 8.777e+00, tolerance: 5.538e-02 Linear regression models with null weight for the l1 regularization term are more efficiently fitted using one of the solvers implemented in sklearn.linear_model.Ridge/RidgeCV instead.\n",
      "  model = cd_fast.enet_coordinate_descent(\n",
      "C:\\Users\\rahul\\AppData\\Roaming\\Python\\Python312\\site-packages\\sklearn\\linear_model\\_coordinate_descent.py:697: ConvergenceWarning: Objective did not converge. You might want to increase the number of iterations, check the scale of the features or consider increasing regularisation. Duality gap: 1.366e+01, tolerance: 5.538e-02 Linear regression models with null weight for the l1 regularization term are more efficiently fitted using one of the solvers implemented in sklearn.linear_model.Ridge/RidgeCV instead.\n",
      "  model = cd_fast.enet_coordinate_descent(\n",
      "C:\\Users\\rahul\\AppData\\Roaming\\Python\\Python312\\site-packages\\sklearn\\linear_model\\_coordinate_descent.py:697: ConvergenceWarning: Objective did not converge. You might want to increase the number of iterations, check the scale of the features or consider increasing regularisation. Duality gap: 2.123e+01, tolerance: 5.538e-02 Linear regression models with null weight for the l1 regularization term are more efficiently fitted using one of the solvers implemented in sklearn.linear_model.Ridge/RidgeCV instead.\n",
      "  model = cd_fast.enet_coordinate_descent(\n",
      "C:\\Users\\rahul\\AppData\\Roaming\\Python\\Python312\\site-packages\\sklearn\\linear_model\\_coordinate_descent.py:697: ConvergenceWarning: Objective did not converge. You might want to increase the number of iterations, check the scale of the features or consider increasing regularisation. Duality gap: 3.263e+01, tolerance: 5.538e-02 Linear regression models with null weight for the l1 regularization term are more efficiently fitted using one of the solvers implemented in sklearn.linear_model.Ridge/RidgeCV instead.\n",
      "  model = cd_fast.enet_coordinate_descent(\n",
      "C:\\Users\\rahul\\AppData\\Roaming\\Python\\Python312\\site-packages\\sklearn\\linear_model\\_coordinate_descent.py:697: ConvergenceWarning: Objective did not converge. You might want to increase the number of iterations, check the scale of the features or consider increasing regularisation. Duality gap: 4.911e+01, tolerance: 5.538e-02 Linear regression models with null weight for the l1 regularization term are more efficiently fitted using one of the solvers implemented in sklearn.linear_model.Ridge/RidgeCV instead.\n",
      "  model = cd_fast.enet_coordinate_descent(\n",
      "C:\\Users\\rahul\\AppData\\Roaming\\Python\\Python312\\site-packages\\sklearn\\linear_model\\_coordinate_descent.py:697: ConvergenceWarning: Objective did not converge. You might want to increase the number of iterations, check the scale of the features or consider increasing regularisation. Duality gap: 7.161e+01, tolerance: 5.538e-02 Linear regression models with null weight for the l1 regularization term are more efficiently fitted using one of the solvers implemented in sklearn.linear_model.Ridge/RidgeCV instead.\n",
      "  model = cd_fast.enet_coordinate_descent(\n",
      "C:\\Users\\rahul\\AppData\\Roaming\\Python\\Python312\\site-packages\\sklearn\\linear_model\\_coordinate_descent.py:697: ConvergenceWarning: Objective did not converge. You might want to increase the number of iterations, check the scale of the features or consider increasing regularisation. Duality gap: 1.958e+02, tolerance: 5.538e-02 Linear regression models with null weight for the l1 regularization term are more efficiently fitted using one of the solvers implemented in sklearn.linear_model.Ridge/RidgeCV instead.\n",
      "  model = cd_fast.enet_coordinate_descent(\n",
      "C:\\Users\\rahul\\AppData\\Roaming\\Python\\Python312\\site-packages\\sklearn\\linear_model\\_coordinate_descent.py:697: ConvergenceWarning: Objective did not converge. You might want to increase the number of iterations, check the scale of the features or consider increasing regularisation. Duality gap: 2.393e+02, tolerance: 5.538e-02 Linear regression models with null weight for the l1 regularization term are more efficiently fitted using one of the solvers implemented in sklearn.linear_model.Ridge/RidgeCV instead.\n",
      "  model = cd_fast.enet_coordinate_descent(\n",
      "C:\\Users\\rahul\\AppData\\Roaming\\Python\\Python312\\site-packages\\sklearn\\linear_model\\_coordinate_descent.py:697: ConvergenceWarning: Objective did not converge. You might want to increase the number of iterations, check the scale of the features or consider increasing regularisation. Duality gap: 2.524e+02, tolerance: 5.538e-02 Linear regression models with null weight for the l1 regularization term are more efficiently fitted using one of the solvers implemented in sklearn.linear_model.Ridge/RidgeCV instead.\n",
      "  model = cd_fast.enet_coordinate_descent(\n"
     ]
    }
   ],
   "source": [
    "# Fit elastic net for each combination of parameters\n",
    "for i in range(len(alphas)):\n",
    "    for j in range(len(l1_ratios)):\n",
    "        elastic = ElasticNet(alpha=alphas[i], l1_ratio=l1_ratios[j], max_iter=10000)\n",
    "        elastic.fit(X_scaled, y)\n",
    "        coef1_values[i, j] = elastic.coef_[0]\n",
    "        coef2_values[i, j] = elastic.coef_[1]"
   ]
  },
  {
   "cell_type": "code",
   "execution_count": 8,
   "metadata": {},
   "outputs": [],
   "source": [
    "# Create dataframe for plotting\n",
    "plot_data = pd.DataFrame({\n",
    "    'L1 Ratio': l1_mesh.flatten(),\n",
    "    'Alpha': alpha_mesh.flatten(),\n",
    "    'Coefficient 1': coef1_values.flatten(),\n",
    "    'Coefficient 2': coef2_values.flatten()\n",
    "})"
   ]
  },
  {
   "cell_type": "code",
   "execution_count": 9,
   "metadata": {},
   "outputs": [],
   "source": [
    "# Create 3D scatter plot\n",
    "fig = px.scatter_3d(plot_data, \n",
    "                    x='L1 Ratio', \n",
    "                    y='Alpha', \n",
    "                    z='Coefficient 1',\n",
    "                    color='Coefficient 1',\n",
    "                    title='Elastic Net Regression Coefficient Shrinkage',\n",
    "                    labels={'L1 Ratio': 'L1 Ratio (0=Ridge, 1=Lasso)',\n",
    "                           'Alpha': 'Alpha (Regularization Strength)',\n",
    "                           'Coefficient 1': 'Coefficient Value'},\n",
    "                    color_continuous_scale='viridis')"
   ]
  },
  {
   "cell_type": "code",
   "execution_count": 10,
   "metadata": {},
   "outputs": [
    {
     "data": {
      "application/vnd.plotly.v1+json": {
       "config": {
        "plotlyServerURL": "https://plot.ly"
       },
       "data": [
        {
         "hovertemplate": "L1 Ratio (0=Ridge, 1=Lasso)=%{x}<br>Alpha (Regularization Strength)=%{y}<br>Coefficient Value=%{marker.color}<extra></extra>",
         "legendgroup": "",
         "marker": {
          "color": [
           1.2929220263015373,
           1.2929390788299657,
           1.292956203642019,
           1.2929733304382223,
           1.2929904592189172,
           1.2930075899844469,
           1.293024722735153,
           1.2930418574713787,
           1.2930589941934667,
           1.29307613290176,
           1.2930932735966003,
           1.2931104162783305,
           1.2931275609472943,
           1.2931447076038345,
           1.2931618562482932,
           1.2931790068810145,
           1.2931961595023413,
           1.2932133141126176,
           1.2932304707121858,
           1.2932476293013901,
           1.2920757093429418,
           1.292103349079555,
           1.292131064063239,
           1.292158784258867,
           1.2921865096678966,
           1.292214240291788,
           1.2922419761320023,
           1.292269717189999,
           1.2922974634672413,
           1.2923252149651898,
           1.2923529716853082,
           1.2923807336290587,
           1.292408500797905,
           1.2924362731933126,
           1.2924640508167438,
           1.2924918336696671,
           1.292519621753546,
           1.2925474150698462,
           1.292575213620037,
           1.2926030174055845,
           1.2907038341253094,
           1.2907485122243219,
           1.2907932735873617,
           1.290838048609023,
           1.290882837295511,
           1.2909276396530354,
           1.2909724556878095,
           1.2910172854060498,
           1.2910621288139772,
           1.291106985917815,
           1.2911518567237934,
           1.2911967412381427,
           1.2912416394670985,
           1.291286551416901,
           1.2913314770937931,
           1.2913764165040222,
           1.2914213696538375,
           1.2914663365494945,
           1.2915113171972519,
           1.291556311603371,
           1.288482401982715,
           1.2885543458681015,
           1.2886263943131304,
           1.288698478416126,
           1.288770598203366,
           1.2888427537011533,
           1.2889149449358177,
           1.2889871719337136,
           1.289059434721222,
           1.289131733324749,
           1.289204067770727,
           1.2892764380856139,
           1.2893488442958942,
           1.2894212864280772,
           1.2894937645086992,
           1.2895662785643214,
           1.2896388286215321,
           1.2897114147069448,
           1.2897840368471993,
           1.2898566950689627,
           1.2848915144278978,
           1.2850066856588844,
           1.285122017126877,
           1.2852374411078074,
           1.2853529577121836,
           1.2854685670506876,
           1.2855842692341786,
           1.2857000643736893,
           1.2858159525804294,
           1.2859319339657849,
           1.286048008641318,
           1.2861641767187681,
           1.2862804383100535,
           1.2863967935272675,
           1.2865132424826842,
           1.2866297852887532,
           1.2867464220581055,
           1.28686315290355,
           1.2869799779380755,
           1.28709689727485,
           1.2791031037699967,
           1.2792857516822476,
           1.2794687028255962,
           1.279651891556816,
           1.2798353183354263,
           1.2800189836221243,
           1.280202887878789,
           1.2803870315684855,
           1.2805714151554677,
           1.280756039105183,
           1.280940903884277,
           1.2811260099605932,
           1.281311357803182,
           1.2814969478823022,
           1.2816827806694242,
           1.2818688566372354,
           1.2820551762596433,
           1.2822417400117794,
           1.2824285483700029,
           1.2826156018119057,
           1.2698141669318133,
           1.2700994061488606,
           1.2703853069183082,
           1.2706718077116415,
           1.270958910404698,
           1.2712466168810923,
           1.271534929032252,
           1.2718238487574618,
           1.2721133779639022,
           1.2724035185666907,
           1.2726942724889239,
           1.2729856416617165,
           1.2732776280242466,
           1.2735702335237924,
           1.273863460115781,
           1.2741573097638224,
           1.2744517844397614,
           1.2747468861237128,
           1.2750426168041098,
           1.2753389784777442,
           1.2550146970695568,
           1.2554488816142098,
           1.255884591813948,
           1.2563217757725789,
           1.25676044091768,
           1.2572005947264817,
           1.2576422447262732,
           1.258085398494825,
           1.258530063660808,
           1.2589762479042184,
           1.2594239589568073,
           1.2598732046025198,
           1.2603239926779262,
           1.2607763310726687,
           1.2612302277299101,
           1.2616856906467824,
           1.2621427278748452,
           1.2626013475205466,
           1.2630615577456883,
           1.2635233667678953,
           1.2317040005922537,
           1.232336564055529,
           1.232972606463914,
           1.2336121022398256,
           1.2342550793302391,
           1.2349015659822369,
           1.2355515907470196,
           1.2362051824839846,
           1.2368623703648705,
           1.237523183877966,
           1.2381876528323865,
           1.2388558073624256,
           1.2395276779319684,
           1.2402032953389825,
           1.2408826907200812,
           1.241565895555159,
           1.242252941672106,
           1.2429438612515995,
           1.2436386868319709,
           1.2443374513141574,
           1.1956412257763642,
           1.1964930970304866,
           1.1973523686120382,
           1.198219090321724,
           1.1990933584541137,
           1.1999752709561071,
           1.200864927462274,
           1.201762429331094,
           1.202667879682132,
           1.2035813834341738,
           1.2045030473443472,
           1.2054329800482693,
           1.2063712921012346,
           1.207318096020494,
           1.2082735063286398,
           1.2092376395981506,
           1.210210614497109,
           1.2111925518361526,
           1.2121835746166767,
           1.2131838080803359,
           1.141373112485901,
           1.1423534646138331,
           1.1433472944913379,
           1.1443548422297907,
           1.1453763897303721,
           1.146412226582319,
           1.1474626503243222,
           1.1485279667165889,
           1.1496084900240604,
           1.1507045433113279,
           1.1518164587498032,
           1.1529445779377492,
           1.1540892522337858,
           1.1552508431045443,
           1.1564297224871622,
           1.1576262731673617,
           1.1588408891738975,
           1.1600739761901897,
           1.1613259519840298,
           1.162597246856272,
           1.0630184479537947,
           1.0637539185959537,
           1.0645059400432362,
           1.0652750343166206,
           1.0660617698642936,
           1.0668667400355432,
           1.067690564434014,
           1.0685338903588921,
           1.0693973943406807,
           1.0702817837788072,
           1.07118779868893,
           1.0721162135685118,
           1.0730678393899962,
           1.074043525731762,
           1.075044163057955,
           1.0760706851593398,
           1.0771240717684174,
           1.0782053513633325,
           1.0793156041764589,
           1.0804559654250914,
           0.9563907207815221,
           0.9559674481007444,
           0.9555371308329222,
           0.9550996513756743,
           0.9546549091933667,
           0.9542028095403592,
           0.9537432647159727,
           0.9532761955039142,
           0.9528015328231292,
           0.9523192196212684,
           0.9518292130468746,
           0.9513314869421496,
           0.9508260347049327,
           0.9503128725764735,
           0.949792043420962,
           0.9492636210738619,
           0.9487277153492079,
           0.9481844778116082,
           0.9476341084372065,
           0.9470768633099861,
           0.8224134097168307,
           0.8191661212564268,
           0.815797967629584,
           0.8123020734468644,
           0.808671038286697,
           0.804896879457338,
           0.800970973652006,
           0.7968839914548715,
           0.7926258236562235,
           0.7881854981583242,
           0.7835510860421999,
           0.7787095951123396,
           0.7736468489314998,
           0.7683473489896748,
           0.762794117204841,
           0.7569685154094504,
           0.7508500378117848,
           0.7444160716045569,
           0.7376416198851345,
           0.7304989798016002,
           0.6699817272335675,
           0.6616365559554616,
           0.6528582505209269,
           0.6436121779776819,
           0.6338599125404409,
           0.623558699531021,
           0.6126608278653785,
           0.601112890076815,
           0.588854905625,
           0.5758192770714532,
           0.5619295407087169,
           0.5470988627923992,
           0.5312282187821437,
           0.5142041747434211,
           0.49589616558815325,
           0.4761531316894345,
           0.45479933003952944,
           0.43162907330345845,
           0.40640006205366935,
           0.37882485033795865,
           0.5149671933195561,
           0.49934018169779104,
           0.48267251652436377,
           0.4648566471182399,
           0.44576967120729866,
           0.4252704934623219,
           0.4031963290126068,
           0.3793583681574838,
           0.35353635766980124,
           0.32547176900273334,
           0.29485910380726565,
           0.26133471585283746,
           0.22446227999165086,
           0.18371367257970717,
           0.13844347825626505,
           0.08785449721993735,
           0.030950312778941207,
           0,
           0,
           0,
           0.37431761959771165,
           0.35021732943507794,
           0.3241859311226792,
           0.29598161766131537,
           0.2653204496474576,
           0.23186676010441423,
           0.19522081180708897,
           0.15490274307341412,
           0.11033143108577229,
           0.06079629077418714,
           0.005419091765265893,
           0,
           0,
           0,
           0,
           0,
           0,
           0,
           0,
           0,
           0.25930663799963777,
           0.2269344267199728,
           0.191603160156421,
           0.15288767960449506,
           0.11027727786809945,
           0.06315304185218927,
           0.010757591244371693,
           0,
           0,
           0,
           0,
           0,
           0,
           0,
           0,
           0,
           0,
           0,
           0,
           0,
           0.1729933745574418,
           0.13360769448113247,
           0.09028296077306462,
           0.042397133007790355,
           0,
           0,
           0,
           0,
           0,
           0,
           0,
           0,
           0,
           0,
           0,
           0,
           0,
           0,
           0,
           0,
           0.11229637178210669,
           0.06756037157083161,
           0.018076116082238716,
           0,
           0,
           0,
           0,
           0,
           0,
           0,
           0,
           0,
           0,
           0,
           0,
           0,
           0,
           0,
           0,
           0
          ],
          "coloraxis": "coloraxis",
          "symbol": "circle"
         },
         "mode": "markers",
         "name": "",
         "scene": "scene",
         "showlegend": false,
         "type": "scatter3d",
         "x": [
          0,
          0.05263157894736842,
          0.10526315789473684,
          0.15789473684210525,
          0.21052631578947367,
          0.2631578947368421,
          0.3157894736842105,
          0.3684210526315789,
          0.42105263157894735,
          0.47368421052631576,
          0.5263157894736842,
          0.5789473684210527,
          0.631578947368421,
          0.6842105263157894,
          0.7368421052631579,
          0.7894736842105263,
          0.8421052631578947,
          0.894736842105263,
          0.9473684210526315,
          1,
          0,
          0.05263157894736842,
          0.10526315789473684,
          0.15789473684210525,
          0.21052631578947367,
          0.2631578947368421,
          0.3157894736842105,
          0.3684210526315789,
          0.42105263157894735,
          0.47368421052631576,
          0.5263157894736842,
          0.5789473684210527,
          0.631578947368421,
          0.6842105263157894,
          0.7368421052631579,
          0.7894736842105263,
          0.8421052631578947,
          0.894736842105263,
          0.9473684210526315,
          1,
          0,
          0.05263157894736842,
          0.10526315789473684,
          0.15789473684210525,
          0.21052631578947367,
          0.2631578947368421,
          0.3157894736842105,
          0.3684210526315789,
          0.42105263157894735,
          0.47368421052631576,
          0.5263157894736842,
          0.5789473684210527,
          0.631578947368421,
          0.6842105263157894,
          0.7368421052631579,
          0.7894736842105263,
          0.8421052631578947,
          0.894736842105263,
          0.9473684210526315,
          1,
          0,
          0.05263157894736842,
          0.10526315789473684,
          0.15789473684210525,
          0.21052631578947367,
          0.2631578947368421,
          0.3157894736842105,
          0.3684210526315789,
          0.42105263157894735,
          0.47368421052631576,
          0.5263157894736842,
          0.5789473684210527,
          0.631578947368421,
          0.6842105263157894,
          0.7368421052631579,
          0.7894736842105263,
          0.8421052631578947,
          0.894736842105263,
          0.9473684210526315,
          1,
          0,
          0.05263157894736842,
          0.10526315789473684,
          0.15789473684210525,
          0.21052631578947367,
          0.2631578947368421,
          0.3157894736842105,
          0.3684210526315789,
          0.42105263157894735,
          0.47368421052631576,
          0.5263157894736842,
          0.5789473684210527,
          0.631578947368421,
          0.6842105263157894,
          0.7368421052631579,
          0.7894736842105263,
          0.8421052631578947,
          0.894736842105263,
          0.9473684210526315,
          1,
          0,
          0.05263157894736842,
          0.10526315789473684,
          0.15789473684210525,
          0.21052631578947367,
          0.2631578947368421,
          0.3157894736842105,
          0.3684210526315789,
          0.42105263157894735,
          0.47368421052631576,
          0.5263157894736842,
          0.5789473684210527,
          0.631578947368421,
          0.6842105263157894,
          0.7368421052631579,
          0.7894736842105263,
          0.8421052631578947,
          0.894736842105263,
          0.9473684210526315,
          1,
          0,
          0.05263157894736842,
          0.10526315789473684,
          0.15789473684210525,
          0.21052631578947367,
          0.2631578947368421,
          0.3157894736842105,
          0.3684210526315789,
          0.42105263157894735,
          0.47368421052631576,
          0.5263157894736842,
          0.5789473684210527,
          0.631578947368421,
          0.6842105263157894,
          0.7368421052631579,
          0.7894736842105263,
          0.8421052631578947,
          0.894736842105263,
          0.9473684210526315,
          1,
          0,
          0.05263157894736842,
          0.10526315789473684,
          0.15789473684210525,
          0.21052631578947367,
          0.2631578947368421,
          0.3157894736842105,
          0.3684210526315789,
          0.42105263157894735,
          0.47368421052631576,
          0.5263157894736842,
          0.5789473684210527,
          0.631578947368421,
          0.6842105263157894,
          0.7368421052631579,
          0.7894736842105263,
          0.8421052631578947,
          0.894736842105263,
          0.9473684210526315,
          1,
          0,
          0.05263157894736842,
          0.10526315789473684,
          0.15789473684210525,
          0.21052631578947367,
          0.2631578947368421,
          0.3157894736842105,
          0.3684210526315789,
          0.42105263157894735,
          0.47368421052631576,
          0.5263157894736842,
          0.5789473684210527,
          0.631578947368421,
          0.6842105263157894,
          0.7368421052631579,
          0.7894736842105263,
          0.8421052631578947,
          0.894736842105263,
          0.9473684210526315,
          1,
          0,
          0.05263157894736842,
          0.10526315789473684,
          0.15789473684210525,
          0.21052631578947367,
          0.2631578947368421,
          0.3157894736842105,
          0.3684210526315789,
          0.42105263157894735,
          0.47368421052631576,
          0.5263157894736842,
          0.5789473684210527,
          0.631578947368421,
          0.6842105263157894,
          0.7368421052631579,
          0.7894736842105263,
          0.8421052631578947,
          0.894736842105263,
          0.9473684210526315,
          1,
          0,
          0.05263157894736842,
          0.10526315789473684,
          0.15789473684210525,
          0.21052631578947367,
          0.2631578947368421,
          0.3157894736842105,
          0.3684210526315789,
          0.42105263157894735,
          0.47368421052631576,
          0.5263157894736842,
          0.5789473684210527,
          0.631578947368421,
          0.6842105263157894,
          0.7368421052631579,
          0.7894736842105263,
          0.8421052631578947,
          0.894736842105263,
          0.9473684210526315,
          1,
          0,
          0.05263157894736842,
          0.10526315789473684,
          0.15789473684210525,
          0.21052631578947367,
          0.2631578947368421,
          0.3157894736842105,
          0.3684210526315789,
          0.42105263157894735,
          0.47368421052631576,
          0.5263157894736842,
          0.5789473684210527,
          0.631578947368421,
          0.6842105263157894,
          0.7368421052631579,
          0.7894736842105263,
          0.8421052631578947,
          0.894736842105263,
          0.9473684210526315,
          1,
          0,
          0.05263157894736842,
          0.10526315789473684,
          0.15789473684210525,
          0.21052631578947367,
          0.2631578947368421,
          0.3157894736842105,
          0.3684210526315789,
          0.42105263157894735,
          0.47368421052631576,
          0.5263157894736842,
          0.5789473684210527,
          0.631578947368421,
          0.6842105263157894,
          0.7368421052631579,
          0.7894736842105263,
          0.8421052631578947,
          0.894736842105263,
          0.9473684210526315,
          1,
          0,
          0.05263157894736842,
          0.10526315789473684,
          0.15789473684210525,
          0.21052631578947367,
          0.2631578947368421,
          0.3157894736842105,
          0.3684210526315789,
          0.42105263157894735,
          0.47368421052631576,
          0.5263157894736842,
          0.5789473684210527,
          0.631578947368421,
          0.6842105263157894,
          0.7368421052631579,
          0.7894736842105263,
          0.8421052631578947,
          0.894736842105263,
          0.9473684210526315,
          1,
          0,
          0.05263157894736842,
          0.10526315789473684,
          0.15789473684210525,
          0.21052631578947367,
          0.2631578947368421,
          0.3157894736842105,
          0.3684210526315789,
          0.42105263157894735,
          0.47368421052631576,
          0.5263157894736842,
          0.5789473684210527,
          0.631578947368421,
          0.6842105263157894,
          0.7368421052631579,
          0.7894736842105263,
          0.8421052631578947,
          0.894736842105263,
          0.9473684210526315,
          1,
          0,
          0.05263157894736842,
          0.10526315789473684,
          0.15789473684210525,
          0.21052631578947367,
          0.2631578947368421,
          0.3157894736842105,
          0.3684210526315789,
          0.42105263157894735,
          0.47368421052631576,
          0.5263157894736842,
          0.5789473684210527,
          0.631578947368421,
          0.6842105263157894,
          0.7368421052631579,
          0.7894736842105263,
          0.8421052631578947,
          0.894736842105263,
          0.9473684210526315,
          1,
          0,
          0.05263157894736842,
          0.10526315789473684,
          0.15789473684210525,
          0.21052631578947367,
          0.2631578947368421,
          0.3157894736842105,
          0.3684210526315789,
          0.42105263157894735,
          0.47368421052631576,
          0.5263157894736842,
          0.5789473684210527,
          0.631578947368421,
          0.6842105263157894,
          0.7368421052631579,
          0.7894736842105263,
          0.8421052631578947,
          0.894736842105263,
          0.9473684210526315,
          1,
          0,
          0.05263157894736842,
          0.10526315789473684,
          0.15789473684210525,
          0.21052631578947367,
          0.2631578947368421,
          0.3157894736842105,
          0.3684210526315789,
          0.42105263157894735,
          0.47368421052631576,
          0.5263157894736842,
          0.5789473684210527,
          0.631578947368421,
          0.6842105263157894,
          0.7368421052631579,
          0.7894736842105263,
          0.8421052631578947,
          0.894736842105263,
          0.9473684210526315,
          1,
          0,
          0.05263157894736842,
          0.10526315789473684,
          0.15789473684210525,
          0.21052631578947367,
          0.2631578947368421,
          0.3157894736842105,
          0.3684210526315789,
          0.42105263157894735,
          0.47368421052631576,
          0.5263157894736842,
          0.5789473684210527,
          0.631578947368421,
          0.6842105263157894,
          0.7368421052631579,
          0.7894736842105263,
          0.8421052631578947,
          0.894736842105263,
          0.9473684210526315,
          1,
          0,
          0.05263157894736842,
          0.10526315789473684,
          0.15789473684210525,
          0.21052631578947367,
          0.2631578947368421,
          0.3157894736842105,
          0.3684210526315789,
          0.42105263157894735,
          0.47368421052631576,
          0.5263157894736842,
          0.5789473684210527,
          0.631578947368421,
          0.6842105263157894,
          0.7368421052631579,
          0.7894736842105263,
          0.8421052631578947,
          0.894736842105263,
          0.9473684210526315,
          1
         ],
         "y": [
          0.001,
          0.001,
          0.001,
          0.001,
          0.001,
          0.001,
          0.001,
          0.001,
          0.001,
          0.001,
          0.001,
          0.001,
          0.001,
          0.001,
          0.001,
          0.001,
          0.001,
          0.001,
          0.001,
          0.001,
          0.001623776739188721,
          0.001623776739188721,
          0.001623776739188721,
          0.001623776739188721,
          0.001623776739188721,
          0.001623776739188721,
          0.001623776739188721,
          0.001623776739188721,
          0.001623776739188721,
          0.001623776739188721,
          0.001623776739188721,
          0.001623776739188721,
          0.001623776739188721,
          0.001623776739188721,
          0.001623776739188721,
          0.001623776739188721,
          0.001623776739188721,
          0.001623776739188721,
          0.001623776739188721,
          0.001623776739188721,
          0.0026366508987303583,
          0.0026366508987303583,
          0.0026366508987303583,
          0.0026366508987303583,
          0.0026366508987303583,
          0.0026366508987303583,
          0.0026366508987303583,
          0.0026366508987303583,
          0.0026366508987303583,
          0.0026366508987303583,
          0.0026366508987303583,
          0.0026366508987303583,
          0.0026366508987303583,
          0.0026366508987303583,
          0.0026366508987303583,
          0.0026366508987303583,
          0.0026366508987303583,
          0.0026366508987303583,
          0.0026366508987303583,
          0.0026366508987303583,
          0.004281332398719396,
          0.004281332398719396,
          0.004281332398719396,
          0.004281332398719396,
          0.004281332398719396,
          0.004281332398719396,
          0.004281332398719396,
          0.004281332398719396,
          0.004281332398719396,
          0.004281332398719396,
          0.004281332398719396,
          0.004281332398719396,
          0.004281332398719396,
          0.004281332398719396,
          0.004281332398719396,
          0.004281332398719396,
          0.004281332398719396,
          0.004281332398719396,
          0.004281332398719396,
          0.004281332398719396,
          0.0069519279617756054,
          0.0069519279617756054,
          0.0069519279617756054,
          0.0069519279617756054,
          0.0069519279617756054,
          0.0069519279617756054,
          0.0069519279617756054,
          0.0069519279617756054,
          0.0069519279617756054,
          0.0069519279617756054,
          0.0069519279617756054,
          0.0069519279617756054,
          0.0069519279617756054,
          0.0069519279617756054,
          0.0069519279617756054,
          0.0069519279617756054,
          0.0069519279617756054,
          0.0069519279617756054,
          0.0069519279617756054,
          0.0069519279617756054,
          0.011288378916846888,
          0.011288378916846888,
          0.011288378916846888,
          0.011288378916846888,
          0.011288378916846888,
          0.011288378916846888,
          0.011288378916846888,
          0.011288378916846888,
          0.011288378916846888,
          0.011288378916846888,
          0.011288378916846888,
          0.011288378916846888,
          0.011288378916846888,
          0.011288378916846888,
          0.011288378916846888,
          0.011288378916846888,
          0.011288378916846888,
          0.011288378916846888,
          0.011288378916846888,
          0.011288378916846888,
          0.018329807108324356,
          0.018329807108324356,
          0.018329807108324356,
          0.018329807108324356,
          0.018329807108324356,
          0.018329807108324356,
          0.018329807108324356,
          0.018329807108324356,
          0.018329807108324356,
          0.018329807108324356,
          0.018329807108324356,
          0.018329807108324356,
          0.018329807108324356,
          0.018329807108324356,
          0.018329807108324356,
          0.018329807108324356,
          0.018329807108324356,
          0.018329807108324356,
          0.018329807108324356,
          0.018329807108324356,
          0.029763514416313176,
          0.029763514416313176,
          0.029763514416313176,
          0.029763514416313176,
          0.029763514416313176,
          0.029763514416313176,
          0.029763514416313176,
          0.029763514416313176,
          0.029763514416313176,
          0.029763514416313176,
          0.029763514416313176,
          0.029763514416313176,
          0.029763514416313176,
          0.029763514416313176,
          0.029763514416313176,
          0.029763514416313176,
          0.029763514416313176,
          0.029763514416313176,
          0.029763514416313176,
          0.029763514416313176,
          0.04832930238571752,
          0.04832930238571752,
          0.04832930238571752,
          0.04832930238571752,
          0.04832930238571752,
          0.04832930238571752,
          0.04832930238571752,
          0.04832930238571752,
          0.04832930238571752,
          0.04832930238571752,
          0.04832930238571752,
          0.04832930238571752,
          0.04832930238571752,
          0.04832930238571752,
          0.04832930238571752,
          0.04832930238571752,
          0.04832930238571752,
          0.04832930238571752,
          0.04832930238571752,
          0.04832930238571752,
          0.07847599703514611,
          0.07847599703514611,
          0.07847599703514611,
          0.07847599703514611,
          0.07847599703514611,
          0.07847599703514611,
          0.07847599703514611,
          0.07847599703514611,
          0.07847599703514611,
          0.07847599703514611,
          0.07847599703514611,
          0.07847599703514611,
          0.07847599703514611,
          0.07847599703514611,
          0.07847599703514611,
          0.07847599703514611,
          0.07847599703514611,
          0.07847599703514611,
          0.07847599703514611,
          0.07847599703514611,
          0.12742749857031335,
          0.12742749857031335,
          0.12742749857031335,
          0.12742749857031335,
          0.12742749857031335,
          0.12742749857031335,
          0.12742749857031335,
          0.12742749857031335,
          0.12742749857031335,
          0.12742749857031335,
          0.12742749857031335,
          0.12742749857031335,
          0.12742749857031335,
          0.12742749857031335,
          0.12742749857031335,
          0.12742749857031335,
          0.12742749857031335,
          0.12742749857031335,
          0.12742749857031335,
          0.12742749857031335,
          0.20691380811147903,
          0.20691380811147903,
          0.20691380811147903,
          0.20691380811147903,
          0.20691380811147903,
          0.20691380811147903,
          0.20691380811147903,
          0.20691380811147903,
          0.20691380811147903,
          0.20691380811147903,
          0.20691380811147903,
          0.20691380811147903,
          0.20691380811147903,
          0.20691380811147903,
          0.20691380811147903,
          0.20691380811147903,
          0.20691380811147903,
          0.20691380811147903,
          0.20691380811147903,
          0.20691380811147903,
          0.3359818286283781,
          0.3359818286283781,
          0.3359818286283781,
          0.3359818286283781,
          0.3359818286283781,
          0.3359818286283781,
          0.3359818286283781,
          0.3359818286283781,
          0.3359818286283781,
          0.3359818286283781,
          0.3359818286283781,
          0.3359818286283781,
          0.3359818286283781,
          0.3359818286283781,
          0.3359818286283781,
          0.3359818286283781,
          0.3359818286283781,
          0.3359818286283781,
          0.3359818286283781,
          0.3359818286283781,
          0.5455594781168515,
          0.5455594781168515,
          0.5455594781168515,
          0.5455594781168515,
          0.5455594781168515,
          0.5455594781168515,
          0.5455594781168515,
          0.5455594781168515,
          0.5455594781168515,
          0.5455594781168515,
          0.5455594781168515,
          0.5455594781168515,
          0.5455594781168515,
          0.5455594781168515,
          0.5455594781168515,
          0.5455594781168515,
          0.5455594781168515,
          0.5455594781168515,
          0.5455594781168515,
          0.5455594781168515,
          0.8858667904100823,
          0.8858667904100823,
          0.8858667904100823,
          0.8858667904100823,
          0.8858667904100823,
          0.8858667904100823,
          0.8858667904100823,
          0.8858667904100823,
          0.8858667904100823,
          0.8858667904100823,
          0.8858667904100823,
          0.8858667904100823,
          0.8858667904100823,
          0.8858667904100823,
          0.8858667904100823,
          0.8858667904100823,
          0.8858667904100823,
          0.8858667904100823,
          0.8858667904100823,
          0.8858667904100823,
          1.438449888287663,
          1.438449888287663,
          1.438449888287663,
          1.438449888287663,
          1.438449888287663,
          1.438449888287663,
          1.438449888287663,
          1.438449888287663,
          1.438449888287663,
          1.438449888287663,
          1.438449888287663,
          1.438449888287663,
          1.438449888287663,
          1.438449888287663,
          1.438449888287663,
          1.438449888287663,
          1.438449888287663,
          1.438449888287663,
          1.438449888287663,
          1.438449888287663,
          2.3357214690901213,
          2.3357214690901213,
          2.3357214690901213,
          2.3357214690901213,
          2.3357214690901213,
          2.3357214690901213,
          2.3357214690901213,
          2.3357214690901213,
          2.3357214690901213,
          2.3357214690901213,
          2.3357214690901213,
          2.3357214690901213,
          2.3357214690901213,
          2.3357214690901213,
          2.3357214690901213,
          2.3357214690901213,
          2.3357214690901213,
          2.3357214690901213,
          2.3357214690901213,
          2.3357214690901213,
          3.792690190732246,
          3.792690190732246,
          3.792690190732246,
          3.792690190732246,
          3.792690190732246,
          3.792690190732246,
          3.792690190732246,
          3.792690190732246,
          3.792690190732246,
          3.792690190732246,
          3.792690190732246,
          3.792690190732246,
          3.792690190732246,
          3.792690190732246,
          3.792690190732246,
          3.792690190732246,
          3.792690190732246,
          3.792690190732246,
          3.792690190732246,
          3.792690190732246,
          6.158482110660261,
          6.158482110660261,
          6.158482110660261,
          6.158482110660261,
          6.158482110660261,
          6.158482110660261,
          6.158482110660261,
          6.158482110660261,
          6.158482110660261,
          6.158482110660261,
          6.158482110660261,
          6.158482110660261,
          6.158482110660261,
          6.158482110660261,
          6.158482110660261,
          6.158482110660261,
          6.158482110660261,
          6.158482110660261,
          6.158482110660261,
          6.158482110660261,
          10,
          10,
          10,
          10,
          10,
          10,
          10,
          10,
          10,
          10,
          10,
          10,
          10,
          10,
          10,
          10,
          10,
          10,
          10,
          10
         ],
         "z": [
          1.2929220263015373,
          1.2929390788299657,
          1.292956203642019,
          1.2929733304382223,
          1.2929904592189172,
          1.2930075899844469,
          1.293024722735153,
          1.2930418574713787,
          1.2930589941934667,
          1.29307613290176,
          1.2930932735966003,
          1.2931104162783305,
          1.2931275609472943,
          1.2931447076038345,
          1.2931618562482932,
          1.2931790068810145,
          1.2931961595023413,
          1.2932133141126176,
          1.2932304707121858,
          1.2932476293013901,
          1.2920757093429418,
          1.292103349079555,
          1.292131064063239,
          1.292158784258867,
          1.2921865096678966,
          1.292214240291788,
          1.2922419761320023,
          1.292269717189999,
          1.2922974634672413,
          1.2923252149651898,
          1.2923529716853082,
          1.2923807336290587,
          1.292408500797905,
          1.2924362731933126,
          1.2924640508167438,
          1.2924918336696671,
          1.292519621753546,
          1.2925474150698462,
          1.292575213620037,
          1.2926030174055845,
          1.2907038341253094,
          1.2907485122243219,
          1.2907932735873617,
          1.290838048609023,
          1.290882837295511,
          1.2909276396530354,
          1.2909724556878095,
          1.2910172854060498,
          1.2910621288139772,
          1.291106985917815,
          1.2911518567237934,
          1.2911967412381427,
          1.2912416394670985,
          1.291286551416901,
          1.2913314770937931,
          1.2913764165040222,
          1.2914213696538375,
          1.2914663365494945,
          1.2915113171972519,
          1.291556311603371,
          1.288482401982715,
          1.2885543458681015,
          1.2886263943131304,
          1.288698478416126,
          1.288770598203366,
          1.2888427537011533,
          1.2889149449358177,
          1.2889871719337136,
          1.289059434721222,
          1.289131733324749,
          1.289204067770727,
          1.2892764380856139,
          1.2893488442958942,
          1.2894212864280772,
          1.2894937645086992,
          1.2895662785643214,
          1.2896388286215321,
          1.2897114147069448,
          1.2897840368471993,
          1.2898566950689627,
          1.2848915144278978,
          1.2850066856588844,
          1.285122017126877,
          1.2852374411078074,
          1.2853529577121836,
          1.2854685670506876,
          1.2855842692341786,
          1.2857000643736893,
          1.2858159525804294,
          1.2859319339657849,
          1.286048008641318,
          1.2861641767187681,
          1.2862804383100535,
          1.2863967935272675,
          1.2865132424826842,
          1.2866297852887532,
          1.2867464220581055,
          1.28686315290355,
          1.2869799779380755,
          1.28709689727485,
          1.2791031037699967,
          1.2792857516822476,
          1.2794687028255962,
          1.279651891556816,
          1.2798353183354263,
          1.2800189836221243,
          1.280202887878789,
          1.2803870315684855,
          1.2805714151554677,
          1.280756039105183,
          1.280940903884277,
          1.2811260099605932,
          1.281311357803182,
          1.2814969478823022,
          1.2816827806694242,
          1.2818688566372354,
          1.2820551762596433,
          1.2822417400117794,
          1.2824285483700029,
          1.2826156018119057,
          1.2698141669318133,
          1.2700994061488606,
          1.2703853069183082,
          1.2706718077116415,
          1.270958910404698,
          1.2712466168810923,
          1.271534929032252,
          1.2718238487574618,
          1.2721133779639022,
          1.2724035185666907,
          1.2726942724889239,
          1.2729856416617165,
          1.2732776280242466,
          1.2735702335237924,
          1.273863460115781,
          1.2741573097638224,
          1.2744517844397614,
          1.2747468861237128,
          1.2750426168041098,
          1.2753389784777442,
          1.2550146970695568,
          1.2554488816142098,
          1.255884591813948,
          1.2563217757725789,
          1.25676044091768,
          1.2572005947264817,
          1.2576422447262732,
          1.258085398494825,
          1.258530063660808,
          1.2589762479042184,
          1.2594239589568073,
          1.2598732046025198,
          1.2603239926779262,
          1.2607763310726687,
          1.2612302277299101,
          1.2616856906467824,
          1.2621427278748452,
          1.2626013475205466,
          1.2630615577456883,
          1.2635233667678953,
          1.2317040005922537,
          1.232336564055529,
          1.232972606463914,
          1.2336121022398256,
          1.2342550793302391,
          1.2349015659822369,
          1.2355515907470196,
          1.2362051824839846,
          1.2368623703648705,
          1.237523183877966,
          1.2381876528323865,
          1.2388558073624256,
          1.2395276779319684,
          1.2402032953389825,
          1.2408826907200812,
          1.241565895555159,
          1.242252941672106,
          1.2429438612515995,
          1.2436386868319709,
          1.2443374513141574,
          1.1956412257763642,
          1.1964930970304866,
          1.1973523686120382,
          1.198219090321724,
          1.1990933584541137,
          1.1999752709561071,
          1.200864927462274,
          1.201762429331094,
          1.202667879682132,
          1.2035813834341738,
          1.2045030473443472,
          1.2054329800482693,
          1.2063712921012346,
          1.207318096020494,
          1.2082735063286398,
          1.2092376395981506,
          1.210210614497109,
          1.2111925518361526,
          1.2121835746166767,
          1.2131838080803359,
          1.141373112485901,
          1.1423534646138331,
          1.1433472944913379,
          1.1443548422297907,
          1.1453763897303721,
          1.146412226582319,
          1.1474626503243222,
          1.1485279667165889,
          1.1496084900240604,
          1.1507045433113279,
          1.1518164587498032,
          1.1529445779377492,
          1.1540892522337858,
          1.1552508431045443,
          1.1564297224871622,
          1.1576262731673617,
          1.1588408891738975,
          1.1600739761901897,
          1.1613259519840298,
          1.162597246856272,
          1.0630184479537947,
          1.0637539185959537,
          1.0645059400432362,
          1.0652750343166206,
          1.0660617698642936,
          1.0668667400355432,
          1.067690564434014,
          1.0685338903588921,
          1.0693973943406807,
          1.0702817837788072,
          1.07118779868893,
          1.0721162135685118,
          1.0730678393899962,
          1.074043525731762,
          1.075044163057955,
          1.0760706851593398,
          1.0771240717684174,
          1.0782053513633325,
          1.0793156041764589,
          1.0804559654250914,
          0.9563907207815221,
          0.9559674481007444,
          0.9555371308329222,
          0.9550996513756743,
          0.9546549091933667,
          0.9542028095403592,
          0.9537432647159727,
          0.9532761955039142,
          0.9528015328231292,
          0.9523192196212684,
          0.9518292130468746,
          0.9513314869421496,
          0.9508260347049327,
          0.9503128725764735,
          0.949792043420962,
          0.9492636210738619,
          0.9487277153492079,
          0.9481844778116082,
          0.9476341084372065,
          0.9470768633099861,
          0.8224134097168307,
          0.8191661212564268,
          0.815797967629584,
          0.8123020734468644,
          0.808671038286697,
          0.804896879457338,
          0.800970973652006,
          0.7968839914548715,
          0.7926258236562235,
          0.7881854981583242,
          0.7835510860421999,
          0.7787095951123396,
          0.7736468489314998,
          0.7683473489896748,
          0.762794117204841,
          0.7569685154094504,
          0.7508500378117848,
          0.7444160716045569,
          0.7376416198851345,
          0.7304989798016002,
          0.6699817272335675,
          0.6616365559554616,
          0.6528582505209269,
          0.6436121779776819,
          0.6338599125404409,
          0.623558699531021,
          0.6126608278653785,
          0.601112890076815,
          0.588854905625,
          0.5758192770714532,
          0.5619295407087169,
          0.5470988627923992,
          0.5312282187821437,
          0.5142041747434211,
          0.49589616558815325,
          0.4761531316894345,
          0.45479933003952944,
          0.43162907330345845,
          0.40640006205366935,
          0.37882485033795865,
          0.5149671933195561,
          0.49934018169779104,
          0.48267251652436377,
          0.4648566471182399,
          0.44576967120729866,
          0.4252704934623219,
          0.4031963290126068,
          0.3793583681574838,
          0.35353635766980124,
          0.32547176900273334,
          0.29485910380726565,
          0.26133471585283746,
          0.22446227999165086,
          0.18371367257970717,
          0.13844347825626505,
          0.08785449721993735,
          0.030950312778941207,
          0,
          0,
          0,
          0.37431761959771165,
          0.35021732943507794,
          0.3241859311226792,
          0.29598161766131537,
          0.2653204496474576,
          0.23186676010441423,
          0.19522081180708897,
          0.15490274307341412,
          0.11033143108577229,
          0.06079629077418714,
          0.005419091765265893,
          0,
          0,
          0,
          0,
          0,
          0,
          0,
          0,
          0,
          0.25930663799963777,
          0.2269344267199728,
          0.191603160156421,
          0.15288767960449506,
          0.11027727786809945,
          0.06315304185218927,
          0.010757591244371693,
          0,
          0,
          0,
          0,
          0,
          0,
          0,
          0,
          0,
          0,
          0,
          0,
          0,
          0.1729933745574418,
          0.13360769448113247,
          0.09028296077306462,
          0.042397133007790355,
          0,
          0,
          0,
          0,
          0,
          0,
          0,
          0,
          0,
          0,
          0,
          0,
          0,
          0,
          0,
          0,
          0.11229637178210669,
          0.06756037157083161,
          0.018076116082238716,
          0,
          0,
          0,
          0,
          0,
          0,
          0,
          0,
          0,
          0,
          0,
          0,
          0,
          0,
          0,
          0,
          0
         ]
        }
       ],
       "layout": {
        "coloraxis": {
         "colorbar": {
          "title": {
           "text": "Coefficient Value"
          }
         },
         "colorscale": [
          [
           0,
           "#440154"
          ],
          [
           0.1111111111111111,
           "#482878"
          ],
          [
           0.2222222222222222,
           "#3e4989"
          ],
          [
           0.3333333333333333,
           "#31688e"
          ],
          [
           0.4444444444444444,
           "#26828e"
          ],
          [
           0.5555555555555556,
           "#1f9e89"
          ],
          [
           0.6666666666666666,
           "#35b779"
          ],
          [
           0.7777777777777778,
           "#6ece58"
          ],
          [
           0.8888888888888888,
           "#b5de2b"
          ],
          [
           1,
           "#fde725"
          ]
         ]
        },
        "height": 800,
        "legend": {
         "tracegroupgap": 0
        },
        "scene": {
         "domain": {
          "x": [
           0,
           1
          ],
          "y": [
           0,
           1
          ]
         },
         "xaxis": {
          "title": {
           "text": "L1 Ratio"
          }
         },
         "yaxis": {
          "title": {
           "text": "Alpha"
          }
         },
         "zaxis": {
          "title": {
           "text": "Coefficient Value"
          }
         }
        },
        "template": {
         "data": {
          "bar": [
           {
            "error_x": {
             "color": "#2a3f5f"
            },
            "error_y": {
             "color": "#2a3f5f"
            },
            "marker": {
             "line": {
              "color": "#E5ECF6",
              "width": 0.5
             },
             "pattern": {
              "fillmode": "overlay",
              "size": 10,
              "solidity": 0.2
             }
            },
            "type": "bar"
           }
          ],
          "barpolar": [
           {
            "marker": {
             "line": {
              "color": "#E5ECF6",
              "width": 0.5
             },
             "pattern": {
              "fillmode": "overlay",
              "size": 10,
              "solidity": 0.2
             }
            },
            "type": "barpolar"
           }
          ],
          "carpet": [
           {
            "aaxis": {
             "endlinecolor": "#2a3f5f",
             "gridcolor": "white",
             "linecolor": "white",
             "minorgridcolor": "white",
             "startlinecolor": "#2a3f5f"
            },
            "baxis": {
             "endlinecolor": "#2a3f5f",
             "gridcolor": "white",
             "linecolor": "white",
             "minorgridcolor": "white",
             "startlinecolor": "#2a3f5f"
            },
            "type": "carpet"
           }
          ],
          "choropleth": [
           {
            "colorbar": {
             "outlinewidth": 0,
             "ticks": ""
            },
            "type": "choropleth"
           }
          ],
          "contour": [
           {
            "colorbar": {
             "outlinewidth": 0,
             "ticks": ""
            },
            "colorscale": [
             [
              0,
              "#0d0887"
             ],
             [
              0.1111111111111111,
              "#46039f"
             ],
             [
              0.2222222222222222,
              "#7201a8"
             ],
             [
              0.3333333333333333,
              "#9c179e"
             ],
             [
              0.4444444444444444,
              "#bd3786"
             ],
             [
              0.5555555555555556,
              "#d8576b"
             ],
             [
              0.6666666666666666,
              "#ed7953"
             ],
             [
              0.7777777777777778,
              "#fb9f3a"
             ],
             [
              0.8888888888888888,
              "#fdca26"
             ],
             [
              1,
              "#f0f921"
             ]
            ],
            "type": "contour"
           }
          ],
          "contourcarpet": [
           {
            "colorbar": {
             "outlinewidth": 0,
             "ticks": ""
            },
            "type": "contourcarpet"
           }
          ],
          "heatmap": [
           {
            "colorbar": {
             "outlinewidth": 0,
             "ticks": ""
            },
            "colorscale": [
             [
              0,
              "#0d0887"
             ],
             [
              0.1111111111111111,
              "#46039f"
             ],
             [
              0.2222222222222222,
              "#7201a8"
             ],
             [
              0.3333333333333333,
              "#9c179e"
             ],
             [
              0.4444444444444444,
              "#bd3786"
             ],
             [
              0.5555555555555556,
              "#d8576b"
             ],
             [
              0.6666666666666666,
              "#ed7953"
             ],
             [
              0.7777777777777778,
              "#fb9f3a"
             ],
             [
              0.8888888888888888,
              "#fdca26"
             ],
             [
              1,
              "#f0f921"
             ]
            ],
            "type": "heatmap"
           }
          ],
          "heatmapgl": [
           {
            "colorbar": {
             "outlinewidth": 0,
             "ticks": ""
            },
            "colorscale": [
             [
              0,
              "#0d0887"
             ],
             [
              0.1111111111111111,
              "#46039f"
             ],
             [
              0.2222222222222222,
              "#7201a8"
             ],
             [
              0.3333333333333333,
              "#9c179e"
             ],
             [
              0.4444444444444444,
              "#bd3786"
             ],
             [
              0.5555555555555556,
              "#d8576b"
             ],
             [
              0.6666666666666666,
              "#ed7953"
             ],
             [
              0.7777777777777778,
              "#fb9f3a"
             ],
             [
              0.8888888888888888,
              "#fdca26"
             ],
             [
              1,
              "#f0f921"
             ]
            ],
            "type": "heatmapgl"
           }
          ],
          "histogram": [
           {
            "marker": {
             "pattern": {
              "fillmode": "overlay",
              "size": 10,
              "solidity": 0.2
             }
            },
            "type": "histogram"
           }
          ],
          "histogram2d": [
           {
            "colorbar": {
             "outlinewidth": 0,
             "ticks": ""
            },
            "colorscale": [
             [
              0,
              "#0d0887"
             ],
             [
              0.1111111111111111,
              "#46039f"
             ],
             [
              0.2222222222222222,
              "#7201a8"
             ],
             [
              0.3333333333333333,
              "#9c179e"
             ],
             [
              0.4444444444444444,
              "#bd3786"
             ],
             [
              0.5555555555555556,
              "#d8576b"
             ],
             [
              0.6666666666666666,
              "#ed7953"
             ],
             [
              0.7777777777777778,
              "#fb9f3a"
             ],
             [
              0.8888888888888888,
              "#fdca26"
             ],
             [
              1,
              "#f0f921"
             ]
            ],
            "type": "histogram2d"
           }
          ],
          "histogram2dcontour": [
           {
            "colorbar": {
             "outlinewidth": 0,
             "ticks": ""
            },
            "colorscale": [
             [
              0,
              "#0d0887"
             ],
             [
              0.1111111111111111,
              "#46039f"
             ],
             [
              0.2222222222222222,
              "#7201a8"
             ],
             [
              0.3333333333333333,
              "#9c179e"
             ],
             [
              0.4444444444444444,
              "#bd3786"
             ],
             [
              0.5555555555555556,
              "#d8576b"
             ],
             [
              0.6666666666666666,
              "#ed7953"
             ],
             [
              0.7777777777777778,
              "#fb9f3a"
             ],
             [
              0.8888888888888888,
              "#fdca26"
             ],
             [
              1,
              "#f0f921"
             ]
            ],
            "type": "histogram2dcontour"
           }
          ],
          "mesh3d": [
           {
            "colorbar": {
             "outlinewidth": 0,
             "ticks": ""
            },
            "type": "mesh3d"
           }
          ],
          "parcoords": [
           {
            "line": {
             "colorbar": {
              "outlinewidth": 0,
              "ticks": ""
             }
            },
            "type": "parcoords"
           }
          ],
          "pie": [
           {
            "automargin": true,
            "type": "pie"
           }
          ],
          "scatter": [
           {
            "fillpattern": {
             "fillmode": "overlay",
             "size": 10,
             "solidity": 0.2
            },
            "type": "scatter"
           }
          ],
          "scatter3d": [
           {
            "line": {
             "colorbar": {
              "outlinewidth": 0,
              "ticks": ""
             }
            },
            "marker": {
             "colorbar": {
              "outlinewidth": 0,
              "ticks": ""
             }
            },
            "type": "scatter3d"
           }
          ],
          "scattercarpet": [
           {
            "marker": {
             "colorbar": {
              "outlinewidth": 0,
              "ticks": ""
             }
            },
            "type": "scattercarpet"
           }
          ],
          "scattergeo": [
           {
            "marker": {
             "colorbar": {
              "outlinewidth": 0,
              "ticks": ""
             }
            },
            "type": "scattergeo"
           }
          ],
          "scattergl": [
           {
            "marker": {
             "colorbar": {
              "outlinewidth": 0,
              "ticks": ""
             }
            },
            "type": "scattergl"
           }
          ],
          "scattermapbox": [
           {
            "marker": {
             "colorbar": {
              "outlinewidth": 0,
              "ticks": ""
             }
            },
            "type": "scattermapbox"
           }
          ],
          "scatterpolar": [
           {
            "marker": {
             "colorbar": {
              "outlinewidth": 0,
              "ticks": ""
             }
            },
            "type": "scatterpolar"
           }
          ],
          "scatterpolargl": [
           {
            "marker": {
             "colorbar": {
              "outlinewidth": 0,
              "ticks": ""
             }
            },
            "type": "scatterpolargl"
           }
          ],
          "scatterternary": [
           {
            "marker": {
             "colorbar": {
              "outlinewidth": 0,
              "ticks": ""
             }
            },
            "type": "scatterternary"
           }
          ],
          "surface": [
           {
            "colorbar": {
             "outlinewidth": 0,
             "ticks": ""
            },
            "colorscale": [
             [
              0,
              "#0d0887"
             ],
             [
              0.1111111111111111,
              "#46039f"
             ],
             [
              0.2222222222222222,
              "#7201a8"
             ],
             [
              0.3333333333333333,
              "#9c179e"
             ],
             [
              0.4444444444444444,
              "#bd3786"
             ],
             [
              0.5555555555555556,
              "#d8576b"
             ],
             [
              0.6666666666666666,
              "#ed7953"
             ],
             [
              0.7777777777777778,
              "#fb9f3a"
             ],
             [
              0.8888888888888888,
              "#fdca26"
             ],
             [
              1,
              "#f0f921"
             ]
            ],
            "type": "surface"
           }
          ],
          "table": [
           {
            "cells": {
             "fill": {
              "color": "#EBF0F8"
             },
             "line": {
              "color": "white"
             }
            },
            "header": {
             "fill": {
              "color": "#C8D4E3"
             },
             "line": {
              "color": "white"
             }
            },
            "type": "table"
           }
          ]
         },
         "layout": {
          "annotationdefaults": {
           "arrowcolor": "#2a3f5f",
           "arrowhead": 0,
           "arrowwidth": 1
          },
          "autotypenumbers": "strict",
          "coloraxis": {
           "colorbar": {
            "outlinewidth": 0,
            "ticks": ""
           }
          },
          "colorscale": {
           "diverging": [
            [
             0,
             "#8e0152"
            ],
            [
             0.1,
             "#c51b7d"
            ],
            [
             0.2,
             "#de77ae"
            ],
            [
             0.3,
             "#f1b6da"
            ],
            [
             0.4,
             "#fde0ef"
            ],
            [
             0.5,
             "#f7f7f7"
            ],
            [
             0.6,
             "#e6f5d0"
            ],
            [
             0.7,
             "#b8e186"
            ],
            [
             0.8,
             "#7fbc41"
            ],
            [
             0.9,
             "#4d9221"
            ],
            [
             1,
             "#276419"
            ]
           ],
           "sequential": [
            [
             0,
             "#0d0887"
            ],
            [
             0.1111111111111111,
             "#46039f"
            ],
            [
             0.2222222222222222,
             "#7201a8"
            ],
            [
             0.3333333333333333,
             "#9c179e"
            ],
            [
             0.4444444444444444,
             "#bd3786"
            ],
            [
             0.5555555555555556,
             "#d8576b"
            ],
            [
             0.6666666666666666,
             "#ed7953"
            ],
            [
             0.7777777777777778,
             "#fb9f3a"
            ],
            [
             0.8888888888888888,
             "#fdca26"
            ],
            [
             1,
             "#f0f921"
            ]
           ],
           "sequentialminus": [
            [
             0,
             "#0d0887"
            ],
            [
             0.1111111111111111,
             "#46039f"
            ],
            [
             0.2222222222222222,
             "#7201a8"
            ],
            [
             0.3333333333333333,
             "#9c179e"
            ],
            [
             0.4444444444444444,
             "#bd3786"
            ],
            [
             0.5555555555555556,
             "#d8576b"
            ],
            [
             0.6666666666666666,
             "#ed7953"
            ],
            [
             0.7777777777777778,
             "#fb9f3a"
            ],
            [
             0.8888888888888888,
             "#fdca26"
            ],
            [
             1,
             "#f0f921"
            ]
           ]
          },
          "colorway": [
           "#636efa",
           "#EF553B",
           "#00cc96",
           "#ab63fa",
           "#FFA15A",
           "#19d3f3",
           "#FF6692",
           "#B6E880",
           "#FF97FF",
           "#FECB52"
          ],
          "font": {
           "color": "#2a3f5f"
          },
          "geo": {
           "bgcolor": "white",
           "lakecolor": "white",
           "landcolor": "#E5ECF6",
           "showlakes": true,
           "showland": true,
           "subunitcolor": "white"
          },
          "hoverlabel": {
           "align": "left"
          },
          "hovermode": "closest",
          "mapbox": {
           "style": "light"
          },
          "paper_bgcolor": "white",
          "plot_bgcolor": "#E5ECF6",
          "polar": {
           "angularaxis": {
            "gridcolor": "white",
            "linecolor": "white",
            "ticks": ""
           },
           "bgcolor": "#E5ECF6",
           "radialaxis": {
            "gridcolor": "white",
            "linecolor": "white",
            "ticks": ""
           }
          },
          "scene": {
           "xaxis": {
            "backgroundcolor": "#E5ECF6",
            "gridcolor": "white",
            "gridwidth": 2,
            "linecolor": "white",
            "showbackground": true,
            "ticks": "",
            "zerolinecolor": "white"
           },
           "yaxis": {
            "backgroundcolor": "#E5ECF6",
            "gridcolor": "white",
            "gridwidth": 2,
            "linecolor": "white",
            "showbackground": true,
            "ticks": "",
            "zerolinecolor": "white"
           },
           "zaxis": {
            "backgroundcolor": "#E5ECF6",
            "gridcolor": "white",
            "gridwidth": 2,
            "linecolor": "white",
            "showbackground": true,
            "ticks": "",
            "zerolinecolor": "white"
           }
          },
          "shapedefaults": {
           "line": {
            "color": "#2a3f5f"
           }
          },
          "ternary": {
           "aaxis": {
            "gridcolor": "white",
            "linecolor": "white",
            "ticks": ""
           },
           "baxis": {
            "gridcolor": "white",
            "linecolor": "white",
            "ticks": ""
           },
           "bgcolor": "#E5ECF6",
           "caxis": {
            "gridcolor": "white",
            "linecolor": "white",
            "ticks": ""
           }
          },
          "title": {
           "x": 0.05
          },
          "xaxis": {
           "automargin": true,
           "gridcolor": "white",
           "linecolor": "white",
           "ticks": "",
           "title": {
            "standoff": 15
           },
           "zerolinecolor": "white",
           "zerolinewidth": 2
          },
          "yaxis": {
           "automargin": true,
           "gridcolor": "white",
           "linecolor": "white",
           "ticks": "",
           "title": {
            "standoff": 15
           },
           "zerolinecolor": "white",
           "zerolinewidth": 2
          }
         }
        },
        "title": {
         "text": "Elastic Net Regression Coefficient Shrinkage"
        },
        "width": 800
       }
      }
     },
     "metadata": {},
     "output_type": "display_data"
    }
   ],
   "source": [
    "# Update layout\n",
    "fig.update_layout(\n",
    "    scene = dict(\n",
    "        xaxis_title='L1 Ratio',\n",
    "        yaxis_title='Alpha',\n",
    "        zaxis_title='Coefficient Value',\n",
    "    ),\n",
    "    width=800,\n",
    "    height=800\n",
    ")"
   ]
  },
  {
   "cell_type": "code",
   "execution_count": null,
   "metadata": {},
   "outputs": [],
   "source": [
    "# Show plot\n",
    "fig.show()"
   ]
  }
 ],
 "metadata": {
  "kernelspec": {
   "display_name": "Python 3",
   "language": "python",
   "name": "python3"
  },
  "language_info": {
   "codemirror_mode": {
    "name": "ipython",
    "version": 3
   },
   "file_extension": ".py",
   "mimetype": "text/x-python",
   "name": "python",
   "nbconvert_exporter": "python",
   "pygments_lexer": "ipython3",
   "version": "3.12.0"
  }
 },
 "nbformat": 4,
 "nbformat_minor": 2
}
