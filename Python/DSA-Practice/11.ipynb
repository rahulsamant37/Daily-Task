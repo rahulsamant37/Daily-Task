{
 "cells": [
  {
   "cell_type": "markdown",
   "metadata": {},
   "source": [
    "### Question:\n",
    "Create a Python class DatasetAnalyzer to perform analysis and transformations on a dataset represented as a list of dictionaries. Implement the following features:\n",
    "\n",
    "1. Initialization: Accept a dataset (list of dictionaries).\n",
    "Normalize Column: Add a method normalize_column to normalize values in a specified numerical column using min-max normalization.\n",
    "2. Find Unique Values: Add a method unique_values to find all unique values in a specified column.\n",
    "3. Sort by Column: Add a method sort_by_column to sort the dataset based on a specified column in ascending or descending order.\n",
    "4. Summary Statistics: Add a method summary to compute the count, mean, minimum, and maximum of a numerical column.\n",
    "Write an example to demonstrate the following:\n",
    "\n",
    "1. Normalize a numerical column.\n",
    "2. Find unique values in a categorical column.\n",
    "3. Sort the dataset by a specified column.\n",
    "4. Compute summary statistics for a numerical column.\n"
   ]
  },
  {
   "cell_type": "code",
   "execution_count": 1,
   "metadata": {},
   "outputs": [],
   "source": [
    "from typing import List, Dict, Any"
   ]
  },
  {
   "cell_type": "code",
   "execution_count": 2,
   "metadata": {},
   "outputs": [],
   "source": [
    "class DatasetAnalyzer:\n",
    "    def __init__(self, data: List[Dict[str, Any]]):\n",
    "        \"\"\"\n",
    "        Initialize the analyzer with a dataset.\n",
    "        \"\"\"\n",
    "        self.data = data\n",
    "\n",
    "    def normalize_column(self, column: str) -> None:\n",
    "        \"\"\"\n",
    "        Normalize values in a specified column using min-max normalization.\n",
    "        Modifies the dataset in place.\n",
    "\n",
    "        :param column: Column name to normalize.\n",
    "        \"\"\"\n",
    "        values = [row[column] for row in self.data if isinstance(row[column], (int, float))]\n",
    "        min_val, max_val = min(values), max(values)\n",
    "\n",
    "        for row in self.data:\n",
    "            if isinstance(row[column], (int, float)):\n",
    "                row[column] = (row[column] - min_val) / (max_val - min_val)\n",
    "\n",
    "    def unique_values(self, column: str) -> List[Any]:\n",
    "        \"\"\"\n",
    "        Find all unique values in a specified column.\n",
    "\n",
    "        :param column: Column name to check.\n",
    "        :return: List of unique values.\n",
    "        \"\"\"\n",
    "        return list(set(row[column] for row in self.data))\n",
    "\n",
    "    def sort_by_column(self, column: str, descending: bool = False) -> List[Dict[str, Any]]:\n",
    "        \"\"\"\n",
    "        Sort the dataset by a specified column.\n",
    "\n",
    "        :param column: Column name to sort by.\n",
    "        :param descending: Whether to sort in descending order.\n",
    "        :return: Sorted dataset.\n",
    "        \"\"\"\n",
    "        return sorted(self.data, key=lambda x: x[column], reverse=descending)\n",
    "\n",
    "    def summary(self, column: str) -> Dict[str, Any]:\n",
    "        \"\"\"\n",
    "        Compute summary statistics (count, mean, min, max) for a numerical column.\n",
    "\n",
    "        :param column: Column name to summarize.\n",
    "        :return: Dictionary of summary statistics.\n",
    "        \"\"\"\n",
    "        values = [row[column] for row in self.data if isinstance(row[column], (int, float))]\n",
    "        return {\n",
    "            \"count\": len(values),\n",
    "            \"mean\": sum(values) / len(values) if values else 0,\n",
    "            \"min\": min(values) if values else None,\n",
    "            \"max\": max(values) if values else None,\n",
    "        }"
   ]
  },
  {
   "cell_type": "code",
   "execution_count": 3,
   "metadata": {},
   "outputs": [],
   "source": [
    "# Example Usage\n",
    "data = [\n",
    "    {\"Name\": \"Alice\", \"Age\": 25, \"Score\": 85, \"Country\": \"USA\"},\n",
    "    {\"Name\": \"Bob\", \"Age\": 30, \"Score\": 90, \"Country\": \"UK\"},\n",
    "    {\"Name\": \"Charlie\", \"Age\": 35, \"Score\": 95, \"Country\": \"USA\"},\n",
    "    {\"Name\": \"Diana\", \"Age\": 28, \"Score\": 88, \"Country\": \"Canada\"},\n",
    "    {\"Name\": \"Eve\", \"Age\": 22, \"Score\": 70, \"Country\": \"USA\"},\n",
    "]"
   ]
  },
  {
   "cell_type": "code",
   "execution_count": 4,
   "metadata": {},
   "outputs": [],
   "source": [
    "# Initialize the analyzer\n",
    "analyzer = DatasetAnalyzer(data)"
   ]
  },
  {
   "cell_type": "code",
   "execution_count": 5,
   "metadata": {},
   "outputs": [
    {
     "name": "stdout",
     "output_type": "stream",
     "text": [
      "Normalized Data: [{'Name': 'Alice', 'Age': 25, 'Score': 0.6, 'Country': 'USA'}, {'Name': 'Bob', 'Age': 30, 'Score': 0.8, 'Country': 'UK'}, {'Name': 'Charlie', 'Age': 35, 'Score': 1.0, 'Country': 'USA'}, {'Name': 'Diana', 'Age': 28, 'Score': 0.72, 'Country': 'Canada'}, {'Name': 'Eve', 'Age': 22, 'Score': 0.0, 'Country': 'USA'}]\n"
     ]
    }
   ],
   "source": [
    "# 1. Normalize the \"Score\" column\n",
    "analyzer.normalize_column(\"Score\")\n",
    "print(\"Normalized Data:\", data)"
   ]
  },
  {
   "cell_type": "code",
   "execution_count": 7,
   "metadata": {},
   "outputs": [
    {
     "name": "stdout",
     "output_type": "stream",
     "text": [
      "Unique Countries: ['USA', 'Canada', 'UK']\n"
     ]
    }
   ],
   "source": [
    "# 2. Find unique values in the \"Country\" column\n",
    "unique_countries = analyzer.unique_values(\"Country\")\n",
    "print(\"Unique Countries:\", unique_countries)"
   ]
  },
  {
   "cell_type": "code",
   "execution_count": 8,
   "metadata": {},
   "outputs": [
    {
     "name": "stdout",
     "output_type": "stream",
     "text": [
      "Sorted Data by Age (Descending): [{'Name': 'Charlie', 'Age': 35, 'Score': 1.0, 'Country': 'USA'}, {'Name': 'Bob', 'Age': 30, 'Score': 0.8, 'Country': 'UK'}, {'Name': 'Diana', 'Age': 28, 'Score': 0.72, 'Country': 'Canada'}, {'Name': 'Alice', 'Age': 25, 'Score': 0.6, 'Country': 'USA'}, {'Name': 'Eve', 'Age': 22, 'Score': 0.0, 'Country': 'USA'}]\n"
     ]
    }
   ],
   "source": [
    "# 3. Sort the dataset by \"Age\" in descending order\n",
    "sorted_data = analyzer.sort_by_column(\"Age\", descending=True)\n",
    "print(\"Sorted Data by Age (Descending):\", sorted_data)"
   ]
  },
  {
   "cell_type": "code",
   "execution_count": 9,
   "metadata": {},
   "outputs": [
    {
     "name": "stdout",
     "output_type": "stream",
     "text": [
      "Summary Statistics for Age: {'count': 5, 'mean': 28.0, 'min': 22, 'max': 35}\n"
     ]
    }
   ],
   "source": [
    "# 4. Compute summary statistics for \"Age\"\n",
    "age_summary = analyzer.summary(\"Age\")\n",
    "print(\"Summary Statistics for Age:\", age_summary)"
   ]
  },
  {
   "cell_type": "code",
   "execution_count": null,
   "metadata": {},
   "outputs": [],
   "source": []
  }
 ],
 "metadata": {
  "kernelspec": {
   "display_name": "Python 3",
   "language": "python",
   "name": "python3"
  },
  "language_info": {
   "codemirror_mode": {
    "name": "ipython",
    "version": 3
   },
   "file_extension": ".py",
   "mimetype": "text/x-python",
   "name": "python",
   "nbconvert_exporter": "python",
   "pygments_lexer": "ipython3",
   "version": "3.12.0"
  }
 },
 "nbformat": 4,
 "nbformat_minor": 2
}
