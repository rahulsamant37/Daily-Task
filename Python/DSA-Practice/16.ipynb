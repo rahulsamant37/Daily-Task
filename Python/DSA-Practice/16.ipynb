{
 "cells": [
  {
   "cell_type": "markdown",
   "metadata": {},
   "source": [
    "### Question:\n",
    "Create a class to handle basic data preprocessing tasks such as normalization, handling missing values, and summary statistics."
   ]
  },
  {
   "cell_type": "code",
   "execution_count": 1,
   "metadata": {},
   "outputs": [],
   "source": [
    "import numpy as np"
   ]
  },
  {
   "cell_type": "code",
   "execution_count": 2,
   "metadata": {},
   "outputs": [],
   "source": [
    "class DataProcessor:\n",
    "    def __init__(self, data):\n",
    "        \"\"\"\n",
    "        Initialize the DataProcessor with a dataset.\n",
    "        :param data: A 2D list or NumPy array of numerical data\n",
    "        \"\"\"\n",
    "        self.data = np.array(data)\n",
    "    \n",
    "    def normalize(self):\n",
    "        \"\"\"\n",
    "        Normalize the dataset column-wise (Min-Max normalization).\n",
    "        \"\"\"\n",
    "        min_vals = self.data.min(axis=0)\n",
    "        max_vals = self.data.max(axis=0)\n",
    "        self.data = (self.data - min_vals) / (max_vals - min_vals)\n",
    "        return self.data\n",
    "    \n",
    "    def fill_missing(self, strategy=\"mean\"):\n",
    "        \"\"\"\n",
    "        Fill missing values in the dataset.\n",
    "        :param strategy: The strategy to fill missing values, default is 'mean'. Options: 'mean', 'median'.\n",
    "        \"\"\"\n",
    "        for col in range(self.data.shape[1]):\n",
    "            col_values = self.data[:, col]\n",
    "            if np.isnan(col_values).any():\n",
    "                if strategy == \"mean\":\n",
    "                    fill_value = np.nanmean(col_values)\n",
    "                elif strategy == \"median\":\n",
    "                    fill_value = np.nanmedian(col_values)\n",
    "                else:\n",
    "                    raise ValueError(\"Unsupported strategy! Use 'mean' or 'median'.\")\n",
    "                col_values[np.isnan(col_values)] = fill_value\n",
    "                self.data[:, col] = col_values\n",
    "        return self.data\n",
    "    \n",
    "    def summary_statistics(self):\n",
    "        \"\"\"\n",
    "        Compute summary statistics (mean, median, std) for each column.\n",
    "        :return: A dictionary with summary statistics.\n",
    "        \"\"\"\n",
    "        stats = {\n",
    "            \"mean\": np.nanmean(self.data, axis=0),\n",
    "            \"median\": np.nanmedian(self.data, axis=0),\n",
    "            \"std\": np.nanstd(self.data, axis=0)\n",
    "        }\n",
    "        return stats"
   ]
  },
  {
   "cell_type": "code",
   "execution_count": 3,
   "metadata": {},
   "outputs": [],
   "source": [
    "sample_data = [\n",
    "    [1.0, 2.0, np.nan],\n",
    "    [4.0, np.nan, 6.0],\n",
    "    [7.0, 8.0, 9.0]\n",
    "]"
   ]
  },
  {
   "cell_type": "code",
   "execution_count": 4,
   "metadata": {},
   "outputs": [
    {
     "name": "stdout",
     "output_type": "stream",
     "text": [
      "Original Data:\n",
      "[[ 1.  2. nan]\n",
      " [ 4. nan  6.]\n",
      " [ 7.  8.  9.]]\n"
     ]
    }
   ],
   "source": [
    "processor = DataProcessor(sample_data)\n",
    "print(\"Original Data:\")\n",
    "print(processor.data)"
   ]
  },
  {
   "cell_type": "code",
   "execution_count": 5,
   "metadata": {},
   "outputs": [
    {
     "name": "stdout",
     "output_type": "stream",
     "text": [
      "\n",
      "After Filling Missing Values:\n",
      "[[1.  2.  7.5]\n",
      " [4.  5.  6. ]\n",
      " [7.  8.  9. ]]\n"
     ]
    }
   ],
   "source": [
    "# Fill missing values\n",
    "processor.fill_missing(strategy=\"mean\")\n",
    "print(\"\\nAfter Filling Missing Values:\")\n",
    "print(processor.data)"
   ]
  },
  {
   "cell_type": "code",
   "execution_count": 6,
   "metadata": {},
   "outputs": [
    {
     "name": "stdout",
     "output_type": "stream",
     "text": [
      "\n",
      "Normalized Data:\n",
      "[[0.  0.  0.5]\n",
      " [0.5 0.5 0. ]\n",
      " [1.  1.  1. ]]\n"
     ]
    }
   ],
   "source": [
    "# Normalize the data\n",
    "normalized_data = processor.normalize()\n",
    "print(\"\\nNormalized Data:\")\n",
    "print(normalized_data)"
   ]
  },
  {
   "cell_type": "code",
   "execution_count": 7,
   "metadata": {},
   "outputs": [
    {
     "name": "stdout",
     "output_type": "stream",
     "text": [
      "\n",
      "Summary Statistics:\n",
      "{'mean': array([0.5, 0.5, 0.5]), 'median': array([0.5, 0.5, 0.5]), 'std': array([0.40824829, 0.40824829, 0.40824829])}\n"
     ]
    }
   ],
   "source": [
    "# Get summary statistics\n",
    "stats = processor.summary_statistics()\n",
    "print(\"\\nSummary Statistics:\")\n",
    "print(stats)"
   ]
  },
  {
   "cell_type": "code",
   "execution_count": null,
   "metadata": {},
   "outputs": [],
   "source": []
  }
 ],
 "metadata": {
  "kernelspec": {
   "display_name": "Python 3",
   "language": "python",
   "name": "python3"
  },
  "language_info": {
   "codemirror_mode": {
    "name": "ipython",
    "version": 3
   },
   "file_extension": ".py",
   "mimetype": "text/x-python",
   "name": "python",
   "nbconvert_exporter": "python",
   "pygments_lexer": "ipython3",
   "version": "3.12.0"
  }
 },
 "nbformat": 4,
 "nbformat_minor": 2
}
