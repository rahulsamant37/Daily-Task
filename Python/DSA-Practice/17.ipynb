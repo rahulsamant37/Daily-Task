{
 "cells": [
  {
   "cell_type": "markdown",
   "metadata": {},
   "source": [
    "### Question:\n",
    "Design a class to implement a custom k-Nearest Neighbors (k-NN) classifier for a small dataset. The class should include methods to train the model, predict labels for new data points, and calculate the accuracy of the predictions."
   ]
  },
  {
   "cell_type": "code",
   "execution_count": 6,
   "metadata": {},
   "outputs": [],
   "source": [
    "import numpy as np\n",
    "from collections import Counter"
   ]
  },
  {
   "cell_type": "code",
   "execution_count": 1,
   "metadata": {},
   "outputs": [],
   "source": [
    "class KNNClassifier:\n",
    "    def __init__(self, k=3):\n",
    "        \"\"\"\n",
    "        Initialize the k-NN classifier.\n",
    "        :param k: Number of nearest neighbors to consider (default is 3)\n",
    "        \"\"\"\n",
    "        self.k = k\n",
    "        self.training_data = None\n",
    "        self.training_labels = None\n",
    "    \n",
    "    def fit(self, data, labels):\n",
    "        \"\"\"\n",
    "        Train the k-NN model by storing the training data and labels.\n",
    "        :param data: 2D array of training data\n",
    "        :param labels: 1D array of labels corresponding to the training data\n",
    "        \"\"\"\n",
    "        self.training_data = np.array(data)\n",
    "        self.training_labels = np.array(labels)\n",
    "    \n",
    "    def predict(self, test_data):\n",
    "        \"\"\"\n",
    "        Predict the label for each data point in the test set.\n",
    "        :param test_data: 2D array of test data\n",
    "        :return: List of predicted labels\n",
    "        \"\"\"\n",
    "        predictions = []\n",
    "        for test_point in test_data:\n",
    "            distances = np.sqrt(np.sum((self.training_data - test_point) ** 2, axis=1))\n",
    "            nearest_indices = np.argsort(distances)[:self.k]\n",
    "            nearest_labels = self.training_labels[nearest_indices]\n",
    "            majority_label = Counter(nearest_labels).most_common(1)[0][0]\n",
    "            predictions.append(majority_label)\n",
    "        return predictions\n",
    "    \n",
    "    def accuracy(self, predicted_labels, true_labels):\n",
    "        \"\"\"\n",
    "        Calculate the accuracy of predictions.\n",
    "        :param predicted_labels: List of predicted labels\n",
    "        :param true_labels: List of true labels\n",
    "        :return: Accuracy as a percentage\n",
    "        \"\"\"\n",
    "        correct_count = np.sum(np.array(predicted_labels) == np.array(true_labels))\n",
    "        return (correct_count / len(true_labels)) * 100"
   ]
  },
  {
   "cell_type": "code",
   "execution_count": 2,
   "metadata": {},
   "outputs": [],
   "source": [
    "# Sample training data and labels\n",
    "training_data = [\n",
    "    [1.0, 2.0],\n",
    "    [2.0, 3.0],\n",
    "    [3.0, 3.0],\n",
    "    [6.0, 5.0],\n",
    "    [7.0, 8.0],\n",
    "    [8.0, 6.0]\n",
    "]"
   ]
  },
  {
   "cell_type": "code",
   "execution_count": 3,
   "metadata": {},
   "outputs": [],
   "source": [
    "training_labels = [0, 0, 0, 1, 1, 1]"
   ]
  },
  {
   "cell_type": "code",
   "execution_count": 4,
   "metadata": {},
   "outputs": [],
   "source": [
    "# Test data and true labels\n",
    "test_data = [\n",
    "    [1.5, 2.5],\n",
    "    [7.0, 7.0],\n",
    "    [4.0, 4.0]\n",
    "]\n",
    "true_labels = [0, 1, 1]"
   ]
  },
  {
   "cell_type": "code",
   "execution_count": 7,
   "metadata": {},
   "outputs": [],
   "source": [
    "# Initialize, train, and test the k-NN classifier\n",
    "knn = KNNClassifier(k=3)\n",
    "knn.fit(training_data, training_labels)"
   ]
  },
  {
   "cell_type": "code",
   "execution_count": 8,
   "metadata": {},
   "outputs": [
    {
     "name": "stdout",
     "output_type": "stream",
     "text": [
      "Predicted Labels: [0, 1, 0]\n"
     ]
    }
   ],
   "source": [
    "predictions = knn.predict(test_data)\n",
    "print(\"Predicted Labels:\", predictions)"
   ]
  },
  {
   "cell_type": "code",
   "execution_count": 9,
   "metadata": {},
   "outputs": [
    {
     "name": "stdout",
     "output_type": "stream",
     "text": [
      "Accuracy: 66.66666666666666 %\n"
     ]
    }
   ],
   "source": [
    "accuracy = knn.accuracy(predictions, true_labels)\n",
    "print(\"Accuracy:\", accuracy, \"%\")"
   ]
  },
  {
   "cell_type": "code",
   "execution_count": 14,
   "metadata": {},
   "outputs": [],
   "source": [
    "import matplotlib.pyplot as plt\n",
    "\n",
    "def plot_data(train_data, train_labels, test_data, test_labels=None, predictions=None):\n",
    "    # Ensure inputs are NumPy arrays\n",
    "    train_data = np.array(train_data)\n",
    "    train_labels = np.array(train_labels)\n",
    "    test_data = np.array(test_data)\n",
    "\n",
    "    plt.figure(figsize=(8, 6))\n",
    "    unique_labels = np.unique(train_labels)\n",
    "\n",
    "    # Plot training data\n",
    "    for label in unique_labels:\n",
    "        points = train_data[train_labels == label]  # Correct filtering using boolean indexing\n",
    "        plt.scatter(points[:, 0], points[:, 1], label=f\"Class {label} (Train)\")\n",
    "    \n",
    "    # Plot test data\n",
    "    plt.scatter(test_data[:, 0], test_data[:, 1], c=\"black\", marker=\"x\", s=100, label=\"Test Points\")\n",
    "    \n",
    "    # Annotate predictions if available\n",
    "    if predictions is not None:\n",
    "        for i, (x, y) in enumerate(test_data):\n",
    "            plt.text(x + 0.1, y, f\"Pred: {predictions[i]}\", fontsize=10, color=\"black\")\n",
    "    \n",
    "    plt.xlabel(\"Feature 1\")\n",
    "    plt.ylabel(\"Feature 2\")\n",
    "    plt.legend()\n",
    "    plt.title(\"k-NN Classification Visualization\")\n",
    "    plt.grid(True)\n",
    "    plt.show()"
   ]
  },
  {
   "cell_type": "code",
   "execution_count": 15,
   "metadata": {},
   "outputs": [
    {
     "data": {
      "image/png": "[encoded data removed]",
      "text/plain": [
       "<Figure size 800x600 with 1 Axes>"
      ]
     },
     "metadata": {},
     "output_type": "display_data"
    }
   ],
   "source": [
    "# Visualize data and predictions\n",
    "plot_data(training_data, training_labels, test_data, predictions=predictions)"
   ]
  },
  {
   "cell_type": "code",
   "execution_count": null,
   "metadata": {},
   "outputs": [],
   "source": []
  }
 ],
 "metadata": {
  "kernelspec": {
   "display_name": "Python 3",
   "language": "python",
   "name": "python3"
  },
  "language_info": {
   "codemirror_mode": {
    "name": "ipython",
    "version": 3
   },
   "file_extension": ".py",
   "mimetype": "text/x-python",
   "name": "python",
   "nbconvert_exporter": "python",
   "pygments_lexer": "ipython3",
   "version": "3.12.0"
  }
 },
 "nbformat": 4,
 "nbformat_minor": 2
}
