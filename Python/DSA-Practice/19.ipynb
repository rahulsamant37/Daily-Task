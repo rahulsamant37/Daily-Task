{
 "cells": [
  {
   "cell_type": "markdown",
   "metadata": {},
   "source": [
    "### Question:\n",
    "Design an OOP-based data processing pipeline in Python that allows users to perform the following tasks on a given list of numeric data:\n",
    "\n",
    "- Apply custom transformations (e.g., scaling, normalization, etc.).\n",
    "- Compute summary statistics (mean, median, variance).\n",
    "- Chain multiple transformations."
   ]
  },
  {
   "cell_type": "code",
   "execution_count": 1,
   "metadata": {},
   "outputs": [],
   "source": [
    "import numpy as np\n",
    "from abc import ABC, abstractmethod"
   ]
  },
  {
   "cell_type": "code",
   "execution_count": 2,
   "metadata": {},
   "outputs": [],
   "source": [
    "# Abstract base transformer\n",
    "class BaseTransformer(ABC):\n",
    "    @abstractmethod\n",
    "    def transform(self, data):\n",
    "        pass"
   ]
  },
  {
   "cell_type": "code",
   "execution_count": 3,
   "metadata": {},
   "outputs": [],
   "source": [
    "# Transformer for scaling data\n",
    "class ScaleTransformer(BaseTransformer):\n",
    "    def __init__(self, factor):\n",
    "        self.factor = factor\n",
    "\n",
    "    def transform(self, data):\n",
    "        return [x * self.factor for x in data]"
   ]
  },
  {
   "cell_type": "code",
   "execution_count": 4,
   "metadata": {},
   "outputs": [],
   "source": [
    "# Transformer for normalizing data\n",
    "class NormalizeTransformer(BaseTransformer):\n",
    "    def transform(self, data):\n",
    "        data_min = min(data)\n",
    "        data_max = max(data)\n",
    "        return [(x - data_min) / (data_max - data_min) for x in data]"
   ]
  },
  {
   "cell_type": "code",
   "execution_count": 5,
   "metadata": {},
   "outputs": [],
   "source": [
    "# Pipeline to chain transformations\n",
    "class Pipeline:\n",
    "    def __init__(self):\n",
    "        self.transformers = []\n",
    "\n",
    "    def add_transformer(self, transformer):\n",
    "        if not isinstance(transformer, BaseTransformer):\n",
    "            raise ValueError(\"Transformer must inherit from BaseTransformer\")\n",
    "        self.transformers.append(transformer)\n",
    "\n",
    "    def apply(self, data):\n",
    "        for transformer in self.transformers:\n",
    "            data = transformer.transform(data)\n",
    "        return data"
   ]
  },
  {
   "cell_type": "code",
   "execution_count": 6,
   "metadata": {},
   "outputs": [],
   "source": [
    "# Function to compute summary statistics\n",
    "class Statistics:\n",
    "    @staticmethod\n",
    "    def compute(data):\n",
    "        return {\n",
    "            \"mean\": np.mean(data),\n",
    "            \"median\": np.median(data),\n",
    "            \"variance\": np.var(data)\n",
    "        }"
   ]
  },
  {
   "cell_type": "code",
   "execution_count": 7,
   "metadata": {},
   "outputs": [],
   "source": [
    "# Example usage\n",
    "data = [10, 20, 30, 40, 50]"
   ]
  },
  {
   "cell_type": "code",
   "execution_count": 8,
   "metadata": {},
   "outputs": [],
   "source": [
    "# Create a pipeline\n",
    "pipeline = Pipeline()\n",
    "pipeline.add_transformer(ScaleTransformer(2))  # Scale data by a factor of 2\n",
    "pipeline.add_transformer(NormalizeTransformer())  # Normalize data to [0, 1]"
   ]
  },
  {
   "cell_type": "code",
   "execution_count": 9,
   "metadata": {},
   "outputs": [
    {
     "name": "stdout",
     "output_type": "stream",
     "text": [
      "Processed Data: [0.0, 0.25, 0.5, 0.75, 1.0]\n"
     ]
    }
   ],
   "source": [
    "# Apply the pipeline\n",
    "processed_data = pipeline.apply(data)\n",
    "print(\"Processed Data:\", processed_data)"
   ]
  },
  {
   "cell_type": "code",
   "execution_count": 10,
   "metadata": {},
   "outputs": [
    {
     "name": "stdout",
     "output_type": "stream",
     "text": [
      "Statistics: {'mean': 0.5, 'median': 0.5, 'variance': 0.125}\n"
     ]
    }
   ],
   "source": [
    "# Compute statistics\n",
    "stats = Statistics.compute(processed_data)\n",
    "print(\"Statistics:\", stats)"
   ]
  },
  {
   "cell_type": "code",
   "execution_count": null,
   "metadata": {},
   "outputs": [],
   "source": []
  }
 ],
 "metadata": {
  "kernelspec": {
   "display_name": "venv",
   "language": "python",
   "name": "python3"
  },
  "language_info": {
   "codemirror_mode": {
    "name": "ipython",
    "version": 3
   },
   "file_extension": ".py",
   "mimetype": "text/x-python",
   "name": "python",
   "nbconvert_exporter": "python",
   "pygments_lexer": "ipython3",
   "version": "3.12.0"
  }
 },
 "nbformat": 4,
 "nbformat_minor": 2
}
