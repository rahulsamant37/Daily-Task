{
 "cells": [
  {
   "cell_type": "markdown",
   "metadata": {},
   "source": [
    "### Question: Implement a Python class BankAccount using OOP principles. The class should:\n",
    "\n",
    "1. Allow creating an account with an account holder's name and an initial balance.\n",
    "2. Provide methods for depositing and withdrawing money.\n",
    "3. Ensure that withdrawals don’t exceed the balance.\n",
    "4. Keep track of all transactions (deposits and withdrawals) in a list.\n",
    "5. Include a method to display the transaction history."
   ]
  },
  {
   "cell_type": "code",
   "execution_count": 1,
   "metadata": {},
   "outputs": [],
   "source": [
    "class BankAccount:\n",
    "    def __init__(self, account_holder, initial_balance=0):\n",
    "        \"\"\"\n",
    "        Initialize a new BankAccount instance.\n",
    "        :param account_holder: Name of the account holder\n",
    "        :param initial_balance: Initial balance in the account\n",
    "        \"\"\"\n",
    "        self.account_holder = account_holder\n",
    "        self.balance = initial_balance\n",
    "        self.transactions = [(\"Initial Balance\", initial_balance)]\n",
    "\n",
    "    def deposit(self, amount):\n",
    "        \"\"\"\n",
    "        Deposit money into the account.\n",
    "        :param amount: Amount to deposit\n",
    "        \"\"\"\n",
    "        if amount <= 0:\n",
    "            raise ValueError(\"Deposit amount must be positive.\")\n",
    "        self.balance += amount\n",
    "        self.transactions.append((\"Deposit\", amount))\n",
    "\n",
    "    def withdraw(self, amount):\n",
    "        \"\"\"\n",
    "        Withdraw money from the account.\n",
    "        :param amount: Amount to withdraw\n",
    "        \"\"\"\n",
    "        if amount <= 0:\n",
    "            raise ValueError(\"Withdrawal amount must be positive.\")\n",
    "        if amount > self.balance:\n",
    "            raise ValueError(\"Insufficient funds.\")\n",
    "        self.balance -= amount\n",
    "        self.transactions.append((\"Withdrawal\", amount))\n",
    "\n",
    "    def display_balance(self):\n",
    "        \"\"\"\n",
    "        Display the current account balance.\n",
    "        \"\"\"\n",
    "        print(f\"Account Holder: {self.account_holder}\")\n",
    "        print(f\"Current Balance: ${self.balance:.2f}\")\n",
    "\n",
    "    def transaction_history(self):\n",
    "        \"\"\"\n",
    "        Display the transaction history.\n",
    "        \"\"\"\n",
    "        print(f\"Transaction history for {self.account_holder}:\")\n",
    "        for transaction_type, amount in self.transactions:\n",
    "            print(f\"{transaction_type}: ${amount:.2f}\")"
   ]
  },
  {
   "cell_type": "code",
   "execution_count": 2,
   "metadata": {},
   "outputs": [
    {
     "name": "stdout",
     "output_type": "stream",
     "text": [
      "Account Holder: Alice\n",
      "Current Balance: $120.00\n",
      "Transaction history for Alice:\n",
      "Initial Balance: $100.00\n",
      "Deposit: $50.00\n",
      "Withdrawal: $30.00\n"
     ]
    }
   ],
   "source": [
    "# Example usage:\n",
    "account = BankAccount(\"Alice\", 100)\n",
    "account.deposit(50)\n",
    "account.withdraw(30)\n",
    "account.display_balance()\n",
    "account.transaction_history()"
   ]
  },
  {
   "cell_type": "code",
   "execution_count": null,
   "metadata": {},
   "outputs": [],
   "source": []
  }
 ],
 "metadata": {
  "kernelspec": {
   "display_name": "Python 3",
   "language": "python",
   "name": "python3"
  },
  "language_info": {
   "codemirror_mode": {
    "name": "ipython",
    "version": 3
   },
   "file_extension": ".py",
   "mimetype": "text/x-python",
   "name": "python",
   "nbconvert_exporter": "python",
   "pygments_lexer": "ipython3",
   "version": "3.12.0"
  }
 },
 "nbformat": 4,
 "nbformat_minor": 2
}
