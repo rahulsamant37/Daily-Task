{
 "cells": [
  {
   "cell_type": "markdown",
   "metadata": {},
   "source": [
    "### Question:\n",
    "Design a Python class-based system for a library that manages books and members. Implement the following functionality:\n",
    "\n",
    "1. A Book class with attributes like title, author, isbn, and available_copies. Include methods to display book details and update the number of available copies.\n",
    "2. A Member class with attributes like member_id, name, and borrowed_books. Include methods to allow borrowing and returning books. Ensure members can't borrow more than 3 books at a time and cannot borrow unavailable books.\n",
    "3. A Library class that maintains a collection of books and a list of members. Include methods to:\n",
    "- Add books to the collection.\n",
    "- Register new members.\n",
    "- Allow members to borrow and return books.\n",
    "- Display a report of all books and their availability.\n",
    "- Display all borrowed books for a specific member.\n",
    "\n",
    "Implement robust error handling for edge cases such as borrowing an unavailable book, returning a book not borrowed by the member, or registering duplicate members."
   ]
  },
  {
   "cell_type": "code",
   "execution_count": 1,
   "metadata": {},
   "outputs": [],
   "source": [
    "class Book:\n",
    "    def __init__(self, title, author, isbn, available_copies):\n",
    "        self.title = title\n",
    "        self.author = author\n",
    "        self.isbn = isbn\n",
    "        self.available_copies = available_copies\n",
    "\n",
    "    def display_details(self):\n",
    "        return f\"Title: {self.title}, Author: {self.author}, ISBN: {self.isbn}, Available Copies: {self.available_copies}\"\n",
    "\n",
    "    def update_copies(self, change):\n",
    "        if self.available_copies + change < 0:\n",
    "            raise ValueError(\"Insufficient copies to complete the operation.\")\n",
    "        self.available_copies += change"
   ]
  },
  {
   "cell_type": "code",
   "execution_count": 2,
   "metadata": {},
   "outputs": [],
   "source": [
    "class Member:\n",
    "    def __init__(self, member_id, name):\n",
    "        self.member_id = member_id\n",
    "        self.name = name\n",
    "        self.borrowed_books = {}\n",
    "\n",
    "    def borrow_book(self, book):\n",
    "        if len(self.borrowed_books) >= 3:\n",
    "            raise ValueError(\"Borrowing limit reached. Return a book to borrow a new one.\")\n",
    "        if book.isbn in self.borrowed_books:\n",
    "            raise ValueError(\"You have already borrowed this book.\")\n",
    "        if book.available_copies <= 0:\n",
    "            raise ValueError(\"This book is currently unavailable.\")\n",
    "        \n",
    "        book.update_copies(-1)\n",
    "        self.borrowed_books[book.isbn] = book.title\n",
    "\n",
    "    def return_book(self, book):\n",
    "        if book.isbn not in self.borrowed_books:\n",
    "            raise ValueError(\"This book is not borrowed by the member.\")\n",
    "        \n",
    "        book.update_copies(1)\n",
    "        del self.borrowed_books[book.isbn]\n",
    "\n",
    "    def display_borrowed_books(self):\n",
    "        return self.borrowed_books if self.borrowed_books else \"No books borrowed.\""
   ]
  },
  {
   "cell_type": "code",
   "execution_count": 3,
   "metadata": {},
   "outputs": [],
   "source": [
    "class Library:\n",
    "    def __init__(self):\n",
    "        self.books = {}\n",
    "        self.members = {}\n",
    "\n",
    "    def add_book(self, book):\n",
    "        if book.isbn in self.books:\n",
    "            raise ValueError(\"Book with this ISBN already exists in the library.\")\n",
    "        self.books[book.isbn] = book\n",
    "\n",
    "    def register_member(self, member):\n",
    "        if member.member_id in self.members:\n",
    "            raise ValueError(\"A member with this ID is already registered.\")\n",
    "        self.members[member.member_id] = member\n",
    "\n",
    "    def borrow_book(self, member_id, isbn):\n",
    "        if member_id not in self.members:\n",
    "            raise ValueError(\"Member not found.\")\n",
    "        if isbn not in self.books:\n",
    "            raise ValueError(\"Book not found.\")\n",
    "\n",
    "        member = self.members[member_id]\n",
    "        book = self.books[isbn]\n",
    "        member.borrow_book(book)\n",
    "\n",
    "    def return_book(self, member_id, isbn):\n",
    "        if member_id not in self.members:\n",
    "            raise ValueError(\"Member not found.\")\n",
    "        if isbn not in self.books:\n",
    "            raise ValueError(\"Book not found.\")\n",
    "\n",
    "        member = self.members[member_id]\n",
    "        book = self.books[isbn]\n",
    "        member.return_book(book)\n",
    "\n",
    "    def display_books(self):\n",
    "        return [book.display_details() for book in self.books.values()]\n",
    "\n",
    "    def member_borrowed_books(self, member_id):\n",
    "        if member_id not in self.members:\n",
    "            raise ValueError(\"Member not found.\")\n",
    "        return self.members[member_id].display_borrowed_books()"
   ]
  },
  {
   "cell_type": "code",
   "execution_count": 4,
   "metadata": {},
   "outputs": [],
   "source": [
    "# Create a library instance\n",
    "library = Library()"
   ]
  },
  {
   "cell_type": "code",
   "execution_count": 5,
   "metadata": {},
   "outputs": [],
   "source": [
    "# Add books\n",
    "book1 = Book(\"1984\", \"George Orwell\", \"12345\", 5)\n",
    "book2 = Book(\"To Kill a Mockingbird\", \"Harper Lee\", \"67890\", 3)\n",
    "library.add_book(book1)\n",
    "library.add_book(book2)"
   ]
  },
  {
   "cell_type": "code",
   "execution_count": 6,
   "metadata": {},
   "outputs": [],
   "source": [
    "# Register members\n",
    "member1 = Member(1, \"Alice\")\n",
    "member2 = Member(2, \"Bob\")\n",
    "library.register_member(member1)\n",
    "library.register_member(member2)"
   ]
  },
  {
   "cell_type": "code",
   "execution_count": 7,
   "metadata": {},
   "outputs": [
    {
     "name": "stdout",
     "output_type": "stream",
     "text": [
      "Books borrowed by Alice: {'12345': '1984', '67890': 'To Kill a Mockingbird'}\n"
     ]
    }
   ],
   "source": [
    "# Borrow and return operations\n",
    "library.borrow_book(1, \"12345\")\n",
    "library.borrow_book(1, \"67890\")\n",
    "print(\"Books borrowed by Alice:\", library.member_borrowed_books(1))"
   ]
  },
  {
   "cell_type": "code",
   "execution_count": 8,
   "metadata": {},
   "outputs": [
    {
     "name": "stdout",
     "output_type": "stream",
     "text": [
      "Books borrowed by Alice after return: {'67890': 'To Kill a Mockingbird'}\n"
     ]
    }
   ],
   "source": [
    "library.return_book(1, \"12345\")\n",
    "print(\"Books borrowed by Alice after return:\", library.member_borrowed_books(1))"
   ]
  },
  {
   "cell_type": "code",
   "execution_count": 9,
   "metadata": {},
   "outputs": [
    {
     "name": "stdout",
     "output_type": "stream",
     "text": [
      "Library books:\n",
      "Title: 1984, Author: George Orwell, ISBN: 12345, Available Copies: 5\n",
      "Title: To Kill a Mockingbird, Author: Harper Lee, ISBN: 67890, Available Copies: 2\n"
     ]
    }
   ],
   "source": [
    "# Display all books\n",
    "print(\"Library books:\")\n",
    "for details in library.display_books():\n",
    "    print(details)"
   ]
  },
  {
   "cell_type": "code",
   "execution_count": null,
   "metadata": {},
   "outputs": [],
   "source": []
  }
 ],
 "metadata": {
  "kernelspec": {
   "display_name": "venv",
   "language": "python",
   "name": "python3"
  },
  "language_info": {
   "codemirror_mode": {
    "name": "ipython",
    "version": 3
   },
   "file_extension": ".py",
   "mimetype": "text/x-python",
   "name": "python",
   "nbconvert_exporter": "python",
   "pygments_lexer": "ipython3",
   "version": "3.12.0"
  }
 },
 "nbformat": 4,
 "nbformat_minor": 2
}
