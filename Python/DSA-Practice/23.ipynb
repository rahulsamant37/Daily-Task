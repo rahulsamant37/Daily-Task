{
 "cells": [
  {
   "cell_type": "markdown",
   "metadata": {},
   "source": [
    "### Question:\n",
    "Create a Python class structure to manage an online bookstore. The system should:\n",
    "\n",
    "1. Have a Book class that stores:\n",
    "\n",
    "- title (string)\n",
    "- author (string)\n",
    "- price (float)\n",
    "- quantity (int) (number of copies in stock)\n",
    "2. Have a Bookstore class that can:\n",
    "\n",
    "- Add books to the store.\n",
    "- Remove books by title.\n",
    "- Sell a book (reduce the quantity).\n",
    "- Display all books in the store.\n",
    "- Calculate the total value of all books in stock.\n",
    "\n",
    "Implement methods for these functionalities and demonstrate the system with a few example operations."
   ]
  },
  {
   "cell_type": "code",
   "execution_count": 1,
   "metadata": {},
   "outputs": [],
   "source": [
    "class Book:\n",
    "    def __init__(self, title, author, price, quantity):\n",
    "        self.title = title\n",
    "        self.author = author\n",
    "        self.price = price\n",
    "        self.quantity = quantity\n",
    "\n",
    "    def __str__(self):\n",
    "        return f\"Title: {self.title}, Author: {self.author}, Price: ${self.price:.2f}, Quantity: {self.quantity}\""
   ]
  },
  {
   "cell_type": "code",
   "execution_count": 2,
   "metadata": {},
   "outputs": [],
   "source": [
    "class Bookstore:\n",
    "    def __init__(self):\n",
    "        self.books = []\n",
    "\n",
    "    def add_book(self, book):\n",
    "        self.books.append(book)\n",
    "        print(f\"Book '{book.title}' added to the store.\")\n",
    "\n",
    "    def remove_book(self, title):\n",
    "        for book in self.books:\n",
    "            if book.title == title:\n",
    "                self.books.remove(book)\n",
    "                print(f\"Book '{title}' removed from the store.\")\n",
    "                return\n",
    "        print(f\"Book '{title}' not found in the store.\")\n",
    "\n",
    "    def sell_book(self, title, quantity=1):\n",
    "        for book in self.books:\n",
    "            if book.title == title:\n",
    "                if book.quantity >= quantity:\n",
    "                    book.quantity -= quantity\n",
    "                    print(f\"Sold {quantity} copy/copies of '{title}'.\")\n",
    "                else:\n",
    "                    print(f\"Not enough copies of '{title}' in stock.\")\n",
    "                return\n",
    "        print(f\"Book '{title}' not found in the store.\")\n",
    "\n",
    "    def display_books(self):\n",
    "        if not self.books:\n",
    "            print(\"No books in the store.\")\n",
    "            return\n",
    "        for book in self.books:\n",
    "            print(book)\n",
    "\n",
    "    def total_value(self):\n",
    "        value = sum(book.price * book.quantity for book in self.books)\n",
    "        print(f\"Total value of books in stock: ${value:.2f}\")"
   ]
  },
  {
   "cell_type": "code",
   "execution_count": null,
   "metadata": {},
   "outputs": [],
   "source": [
    "# Create books\n",
    "book1 = Book(\"Python Programming\", \"John Smith\", 29.99, 10)\n",
    "book2 = Book(\"Machine Learning Essentials\", \"Jane Doe\", 49.99, 5)\n",
    "book3 = Book(\"Data Science Handbook\", \"Emily White\", 39.99, 8)"
   ]
  },
  {
   "cell_type": "code",
   "execution_count": 4,
   "metadata": {},
   "outputs": [
    {
     "name": "stdout",
     "output_type": "stream",
     "text": [
      "Book 'Python Programming' added to the store.\n",
      "Book 'Machine Learning Essentials' added to the store.\n",
      "Book 'Data Science Handbook' added to the store.\n"
     ]
    }
   ],
   "source": [
    "# Create a bookstore and add books\n",
    "store = Bookstore()\n",
    "store.add_book(book1)\n",
    "store.add_book(book2)\n",
    "store.add_book(book3)"
   ]
  },
  {
   "cell_type": "code",
   "execution_count": 5,
   "metadata": {},
   "outputs": [
    {
     "name": "stdout",
     "output_type": "stream",
     "text": [
      "\n",
      "Books in Store:\n",
      "Title: Python Programming, Author: John Smith, Price: $29.99, Quantity: 10\n",
      "Title: Machine Learning Essentials, Author: Jane Doe, Price: $49.99, Quantity: 5\n",
      "Title: Data Science Handbook, Author: Emily White, Price: $39.99, Quantity: 8\n"
     ]
    }
   ],
   "source": [
    "# Display books\n",
    "print(\"\\nBooks in Store:\")\n",
    "store.display_books()"
   ]
  },
  {
   "cell_type": "code",
   "execution_count": 6,
   "metadata": {},
   "outputs": [
    {
     "name": "stdout",
     "output_type": "stream",
     "text": [
      "\n",
      "Selling 2 copies of 'Python Programming':\n",
      "Sold 2 copy/copies of 'Python Programming'.\n"
     ]
    }
   ],
   "source": [
    "# Sell a book\n",
    "print(\"\\nSelling 2 copies of 'Python Programming':\")\n",
    "store.sell_book(\"Python Programming\", 2)"
   ]
  },
  {
   "cell_type": "code",
   "execution_count": 7,
   "metadata": {},
   "outputs": [
    {
     "name": "stdout",
     "output_type": "stream",
     "text": [
      "\n",
      "Books in Store After Sale:\n",
      "Title: Python Programming, Author: John Smith, Price: $29.99, Quantity: 8\n",
      "Title: Machine Learning Essentials, Author: Jane Doe, Price: $49.99, Quantity: 5\n",
      "Title: Data Science Handbook, Author: Emily White, Price: $39.99, Quantity: 8\n"
     ]
    }
   ],
   "source": [
    "# Display books after sale\n",
    "print(\"\\nBooks in Store After Sale:\")\n",
    "store.display_books()"
   ]
  },
  {
   "cell_type": "code",
   "execution_count": 8,
   "metadata": {},
   "outputs": [
    {
     "name": "stdout",
     "output_type": "stream",
     "text": [
      "\n",
      "Removing 'Machine Learning Essentials':\n",
      "Book 'Machine Learning Essentials' removed from the store.\n"
     ]
    }
   ],
   "source": [
    "# Remove a book\n",
    "print(\"\\nRemoving 'Machine Learning Essentials':\")\n",
    "store.remove_book(\"Machine Learning Essentials\")"
   ]
  },
  {
   "cell_type": "code",
   "execution_count": 9,
   "metadata": {},
   "outputs": [
    {
     "name": "stdout",
     "output_type": "stream",
     "text": [
      "\n",
      "Books in Store After Removal:\n",
      "Title: Python Programming, Author: John Smith, Price: $29.99, Quantity: 8\n",
      "Title: Data Science Handbook, Author: Emily White, Price: $39.99, Quantity: 8\n"
     ]
    }
   ],
   "source": [
    "# Display books after removal\n",
    "print(\"\\nBooks in Store After Removal:\")\n",
    "store.display_books()"
   ]
  },
  {
   "cell_type": "code",
   "execution_count": 10,
   "metadata": {},
   "outputs": [
    {
     "name": "stdout",
     "output_type": "stream",
     "text": [
      "\n",
      "Calculating Total Value of Books:\n",
      "Total value of books in stock: $559.84\n"
     ]
    }
   ],
   "source": [
    "# Total value of books in stock\n",
    "print(\"\\nCalculating Total Value of Books:\")\n",
    "store.total_value()"
   ]
  }
 ],
 "metadata": {
  "kernelspec": {
   "display_name": "venv",
   "language": "python",
   "name": "python3"
  },
  "language_info": {
   "codemirror_mode": {
    "name": "ipython",
    "version": 3
   },
   "file_extension": ".py",
   "mimetype": "text/x-python",
   "name": "python",
   "nbconvert_exporter": "python",
   "pygments_lexer": "ipython3",
   "version": "3.12.0"
  }
 },
 "nbformat": 4,
 "nbformat_minor": 2
}
