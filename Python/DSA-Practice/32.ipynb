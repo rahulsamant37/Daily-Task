{
 "cells": [
  {
   "cell_type": "markdown",
   "metadata": {},
   "source": [
    "## TODO List"
   ]
  },
  {
   "cell_type": "code",
   "execution_count": 1,
   "metadata": {},
   "outputs": [
    {
     "name": "stdout",
     "output_type": "stream",
     "text": [
      "don't forget to pay the bill\n",
      "To do List remaining\n",
      "- Buy the groceries\n",
      "- Pay the bills\n",
      "- Schedule meet with someone\n",
      "- Go for a run\n"
     ]
    }
   ],
   "source": [
    "to_do_list=[\"Buy the groceries\",\"Clean the house\",\"Pay the bills\"]\n",
    "\n",
    "## Add the task\n",
    "to_do_list.append(\"Schedule meet with someone\")\n",
    "to_do_list.append(\"Go for a run\")\n",
    "\n",
    "## Remove the task\n",
    "to_do_list.remove(\"Clean the house\")\n",
    "\n",
    "## Check the task if it is the list or not\n",
    "if \"Pay the bills\" in to_do_list:\n",
    "    print(\"don't forget to pay the bill\")\n",
    "\n",
    "print(\"To do List remaining\")\n",
    "for task in to_do_list:\n",
    "    print(f\"- {task}\")\n"
   ]
  },
  {
   "cell_type": "code",
   "execution_count": null,
   "metadata": {},
   "outputs": [],
   "source": []
  },
  {
   "cell_type": "code",
   "execution_count": null,
   "metadata": {},
   "outputs": [],
   "source": []
  },
  {
   "cell_type": "code",
   "execution_count": null,
   "metadata": {},
   "outputs": [],
   "source": []
  },
  {
   "cell_type": "code",
   "execution_count": null,
   "metadata": {},
   "outputs": [],
   "source": []
  },
  {
   "cell_type": "code",
   "execution_count": null,
   "metadata": {},
   "outputs": [],
   "source": []
  },
  {
   "cell_type": "code",
   "execution_count": null,
   "metadata": {},
   "outputs": [],
   "source": []
  }
 ],
 "metadata": {
  "kernelspec": {
   "display_name": "venv",
   "language": "python",
   "name": "python3"
  },
  "language_info": {
   "codemirror_mode": {
    "name": "ipython",
    "version": 3
   },
   "file_extension": ".py",
   "mimetype": "text/x-python",
   "name": "python",
   "nbconvert_exporter": "python",
   "pygments_lexer": "ipython3",
   "version": "3.12.7"
  }
 },
 "nbformat": 4,
 "nbformat_minor": 2
}
