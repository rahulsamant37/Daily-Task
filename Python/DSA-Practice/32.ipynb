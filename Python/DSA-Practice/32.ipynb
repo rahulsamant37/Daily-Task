{
 "cells": [
  {
   "cell_type": "markdown",
   "metadata": {},
   "source": [
    "## TODO List"
   ]
  },
  {
   "cell_type": "code",
   "execution_count": 1,
   "metadata": {},
   "outputs": [
    {
     "name": "stdout",
     "output_type": "stream",
     "text": [
      "don't forget to pay the bill\n",
      "To do List remaining\n",
      "- Buy the groceries\n",
      "- Pay the bills\n",
      "- Schedule meet with someone\n",
      "- Go for a run\n"
     ]
    }
   ],
   "source": [
    "to_do_list=[\"Buy the groceries\",\"Clean the house\",\"Pay the bills\"]\n",
    "\n",
    "## Add the task\n",
    "to_do_list.append(\"Schedule meet with someone\")\n",
    "to_do_list.append(\"Go for a run\")\n",
    "\n",
    "## Remove the task\n",
    "to_do_list.remove(\"Clean the house\")\n",
    "\n",
    "## Check the task if it is the list or not\n",
    "if \"Pay the bills\" in to_do_list:\n",
    "    print(\"don't forget to pay the bill\")\n",
    "\n",
    "print(\"To do List remaining\")\n",
    "for task in to_do_list:\n",
    "    print(f\"- {task}\")\n"
   ]
  },
  {
   "cell_type": "code",
   "execution_count": 7,
   "metadata": {},
   "outputs": [
    {
     "name": "stdout",
     "output_type": "stream",
     "text": [
      "The sum of first 0 natural numbers is : 0\n"
     ]
    }
   ],
   "source": [
    "n=int(input(\"Enter the number: \"))\n",
    "sum=0\n",
    "for i in range(1,n+1):\n",
    "    sum = sum+i\n",
    "print(f\"The sum of first {n} natural numbers is :\",sum)"
   ]
  },
  {
   "cell_type": "code",
   "execution_count": 9,
   "metadata": {},
   "outputs": [
    {
     "name": "stdout",
     "output_type": "stream",
     "text": [
      "The sum of the numbers is: 0\n"
     ]
    }
   ],
   "source": [
    "num=0\n",
    "while True:\n",
    "    n = int(input(\"Enter the number: \"))\n",
    "    if n==0:\n",
    "        break\n",
    "    num += n\n",
    "print(f\"The sum of the numbers is: {num}\")"
   ]
  },
  {
   "cell_type": "code",
   "execution_count": 1,
   "metadata": {},
   "outputs": [
    {
     "name": "stdout",
     "output_type": "stream",
     "text": [
      "2 is a even number in between 1 to 10\n",
      "4 is a even number in between 1 to 10\n",
      "6 is a even number in between 1 to 10\n",
      "8 is a even number in between 1 to 10\n",
      "10 is a even number in between 1 to 10\n"
     ]
    }
   ],
   "source": [
    "num=0\n",
    "n=int(input(\"Enter the number: \"))\n",
    "for i in range(1,n+1):\n",
    "    if i%2==0:\n",
    "        print(f\"{i} is a even number in between 1 to {n}\")"
   ]
  },
  {
   "cell_type": "code",
   "execution_count": null,
   "metadata": {},
   "outputs": [
    {
     "name": "stdout",
     "output_type": "stream",
     "text": [
      "The fatorial of 10 is 3628800\n"
     ]
    }
   ],
   "source": [
    "num=1\n",
    "def factor(n):\n",
    "    if n == 0:\n",
    "        return num\n",
    "    else:\n",
    "        num1=n * factor(n - 1)\n",
    "        return num1\n",
    "\n",
    "num = factor(10)\n",
    "print(f\"The fatorial of {n} is {num}\")"
   ]
  },
  {
   "cell_type": "code",
   "execution_count": null,
   "metadata": {},
   "outputs": [],
   "source": []
  },
  {
   "cell_type": "code",
   "execution_count": null,
   "metadata": {},
   "outputs": [],
   "source": []
  },
  {
   "cell_type": "code",
   "execution_count": null,
   "metadata": {},
   "outputs": [],
   "source": []
  }
 ],
 "metadata": {
  "kernelspec": {
   "display_name": "venv",
   "language": "python",
   "name": "python3"
  },
  "language_info": {
   "codemirror_mode": {
    "name": "ipython",
    "version": 3
   },
   "file_extension": ".py",
   "mimetype": "text/x-python",
   "name": "python",
   "nbconvert_exporter": "python",
   "pygments_lexer": "ipython3",
   "version": "3.12.7"
  }
 },
 "nbformat": 4,
 "nbformat_minor": 2
}
