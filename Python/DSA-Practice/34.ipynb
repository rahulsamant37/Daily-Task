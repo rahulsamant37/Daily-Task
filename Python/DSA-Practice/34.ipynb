{
 "cells": [
  {
   "cell_type": "markdown",
   "metadata": {},
   "source": [
    "## Question:\n",
    "Write a Python function to find the second largest number in a given list without using built-in sorting functions."
   ]
  },
  {
   "cell_type": "code",
   "execution_count": 1,
   "metadata": {},
   "outputs": [
    {
     "name": "stdout",
     "output_type": "stream",
     "text": [
      "45\n"
     ]
    }
   ],
   "source": [
    "def second_largest(nums):\n",
    "    first = second = float('-inf')\n",
    "    for num in nums:\n",
    "        if num > first:\n",
    "            second, first = first, num\n",
    "        elif first > num > second:\n",
    "            second = num\n",
    "    return second if second != float('-inf') else None\n",
    "\n",
    "# Example usage\n",
    "nums = [10, 20, 4, 45, 99, 99]\n",
    "print(second_largest(nums))  # Output: 45"
   ]
  },
  {
   "cell_type": "code",
   "execution_count": null,
   "metadata": {},
   "outputs": [],
   "source": []
  }
 ],
 "metadata": {
  "kernelspec": {
   "display_name": "venv",
   "language": "python",
   "name": "python3"
  },
  "language_info": {
   "codemirror_mode": {
    "name": "ipython",
    "version": 3
   },
   "file_extension": ".py",
   "mimetype": "text/x-python",
   "name": "python",
   "nbconvert_exporter": "python",
   "pygments_lexer": "ipython3",
   "version": "3.12.7"
  }
 },
 "nbformat": 4,
 "nbformat_minor": 2
}
