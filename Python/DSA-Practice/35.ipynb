{
 "cells": [
  {
   "cell_type": "markdown",
   "metadata": {},
   "source": [
    "# Question:\n",
    "\n",
    "You are given a collection of students, each with a set of courses they have taken. Some students may have taken the same set of courses, while others may have taken unique combinations. Your task is to write a Python program that identifies the longest common subsequence of courses taken by any two students in the dataset. The subsequence should be in the same order as the original lists of courses.\n",
    "\n",
    "## Problem Breakdown:\n",
    "1. Each student has a list of courses they have taken. A course can be represented by a string.\n",
    "\n",
    "2. A subsequence is a sequence that appears in the same order, but not necessarily consecutively.\n",
    "\n",
    "3. You need to find the longest common subsequence (LCS) between the course lists of any two students."
   ]
  },
  {
   "cell_type": "code",
   "execution_count": 2,
   "metadata": {},
   "outputs": [],
   "source": [
    "def longest_common_subsequence(course_list1, course_list2):\n",
    "    # Initialize a DP table with dimensions (len(course_list1) + 1) x (len(course_list2) + 1)\n",
    "    dp = [[0] * (len(course_list2) + 1) for _ in range(len(course_list1) + 1)]\n",
    "    \n",
    "    # Fill the DP table\n",
    "    for i in range(1, len(course_list1) + 1):\n",
    "        for j in range(1, len(course_list2) + 1):\n",
    "            if course_list1[i - 1] == course_list2[j - 1]:\n",
    "                dp[i][j] = dp[i - 1][j - 1] + 1\n",
    "            else:\n",
    "                dp[i][j] = max(dp[i - 1][j], dp[i][j - 1])\n",
    "    \n",
    "    # Reconstruct the LCS from the DP table\n",
    "    lcs = []\n",
    "    i, j = len(course_list1), len(course_list2)\n",
    "    while i > 0 and j > 0:\n",
    "        if course_list1[i - 1] == course_list2[j - 1]:\n",
    "            lcs.append(course_list1[i - 1])\n",
    "            i -= 1\n",
    "            j -= 1\n",
    "        elif dp[i - 1][j] >= dp[i][j - 1]:\n",
    "            i -= 1\n",
    "        else:\n",
    "            j -= 1\n",
    "    \n",
    "    # Reverse the LCS list because we've constructed it from the end\n",
    "    lcs.reverse()\n",
    "    \n",
    "    return lcs"
   ]
  },
  {
   "cell_type": "code",
   "execution_count": 3,
   "metadata": {},
   "outputs": [],
   "source": [
    "def longest_common_subsequence_among_students(students_courses):\n",
    "    longest_subseq = []\n",
    "    \n",
    "    # Compare every pair of students\n",
    "    student_names = list(students_courses.keys())\n",
    "    for i in range(len(student_names)):\n",
    "        for j in range(i + 1, len(student_names)):\n",
    "            student1 = student_names[i]\n",
    "            student2 = student_names[j]\n",
    "            \n",
    "            # Get the courses of both students\n",
    "            courses1 = students_courses[student1]\n",
    "            courses2 = students_courses[student2]\n",
    "            \n",
    "            # Find the LCS for this pair of students\n",
    "            lcs = longest_common_subsequence(courses1, courses2)\n",
    "            \n",
    "            # Update the longest subsequence if the current LCS is longer\n",
    "            if len(lcs) > len(longest_subseq):\n",
    "                longest_subseq = lcs\n",
    "    \n",
    "    return longest_subseq"
   ]
  },
  {
   "cell_type": "code",
   "execution_count": 4,
   "metadata": {},
   "outputs": [],
   "source": [
    "# Example usage\n",
    "students_courses = {\n",
    "    \"Alice\": [\"Math\", \"English\", \"History\", \"Science\"],\n",
    "    \"Bob\": [\"Math\", \"History\", \"Biology\", \"English\", \"Science\"],\n",
    "    \"Charlie\": [\"Math\", \"Art\", \"History\", \"Music\"],\n",
    "    \"David\": [\"Science\", \"English\", \"Math\", \"History\"]\n",
    "}"
   ]
  },
  {
   "cell_type": "code",
   "execution_count": 5,
   "metadata": {},
   "outputs": [
    {
     "name": "stdout",
     "output_type": "stream",
     "text": [
      "['Math', 'English', 'Science']\n"
     ]
    }
   ],
   "source": [
    "result = longest_common_subsequence_among_students(students_courses)\n",
    "print(result)"
   ]
  },
  {
   "cell_type": "code",
   "execution_count": null,
   "metadata": {},
   "outputs": [],
   "source": []
  }
 ],
 "metadata": {
  "kernelspec": {
   "display_name": "venv",
   "language": "python",
   "name": "python3"
  },
  "language_info": {
   "codemirror_mode": {
    "name": "ipython",
    "version": 3
   },
   "file_extension": ".py",
   "mimetype": "text/x-python",
   "name": "python",
   "nbconvert_exporter": "python",
   "pygments_lexer": "ipython3",
   "version": "3.12.7"
  }
 },
 "nbformat": 4,
 "nbformat_minor": 2
}
