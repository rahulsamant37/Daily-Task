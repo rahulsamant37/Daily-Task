{
 "cells": [
  {
   "cell_type": "markdown",
   "metadata": {},
   "source": [
    "#### Question:\n",
    "Create a Python program to simulate a Khata (Ledger) using classes. The Khata class should have the following features:\n",
    "1. The ability to add transactions (both credit and debit).\n",
    "2. A method to calculate the current balance.\n",
    "3. A method to display the transaction history in a readable format.\n",
    "\n",
    "Each transaction should include:\n",
    "- A transaction ID.\n",
    "- A description of the transaction.\n",
    "- An amount.\n",
    "- A transaction type ('credit' or 'debit').\n",
    "\n",
    "Demonstrate the program by:\n",
    "\n",
    "1. Adding three transactions.\n",
    "2. Displaying the transaction history.\n",
    "3. Printing the current balance."
   ]
  },
  {
   "cell_type": "code",
   "execution_count": 10,
   "metadata": {},
   "outputs": [],
   "source": [
    "class Transaction:\n",
    "    def __init__(self, transaction_id, description, amount, transaction_type):\n",
    "        self.transaction_id = transaction_id\n",
    "        self.description = description\n",
    "        self.amount = amount\n",
    "        self.transaction_type = transaction_type\n",
    "\n",
    "    def __str__(self):\n",
    "        return f\"ID: {self.transaction_id} | {self.description} | {self.transaction_type.capitalize()} | Amount: {self.amount}\""
   ]
  },
  {
   "cell_type": "code",
   "execution_count": 11,
   "metadata": {},
   "outputs": [],
   "source": [
    "class Khata:\n",
    "    def __init__(self):\n",
    "        self.transactions = []\n",
    "\n",
    "    def add_transaction(self, transaction_id, description, amount, transaction_type):\n",
    "        if transaction_type.lower() not in ['credit', 'debit']:\n",
    "            print(\"Invalid transaction type! Use 'credit' or 'debit'.\")\n",
    "            return\n",
    "\n",
    "        # Check if transaction ID already exists\n",
    "        for transaction in self.transactions:\n",
    "            if transaction.transaction_id == transaction_id:\n",
    "                print(f\"Transaction ID {transaction_id} already exists!\")\n",
    "                return\n",
    "\n",
    "        transaction = Transaction(transaction_id, description, amount, transaction_type.lower())\n",
    "        self.transactions.append(transaction)\n",
    "        print(f\"Transaction {transaction_id} added successfully.\")\n",
    "\n",
    "    def update_transaction(self, transaction_id, description=None, amount=None, transaction_type=None):\n",
    "        for transaction in self.transactions:\n",
    "            if transaction.transaction_id == transaction_id:\n",
    "                if description is not None:\n",
    "                    transaction.description = description\n",
    "                if amount is not None:\n",
    "                    transaction.amount = amount\n",
    "                if transaction_type is not None and transaction_type.lower() in ['credit', 'debit']:\n",
    "                    transaction.transaction_type = transaction_type.lower()\n",
    "                print(f\"Transaction {transaction_id} updated successfully.\")\n",
    "                return\n",
    "\n",
    "        print(f\"Transaction ID {transaction_id} not found!\")\n",
    "\n",
    "    def calculate_balance(self):\n",
    "        balance = 0\n",
    "        for transaction in self.transactions:\n",
    "            if transaction.transaction_type == 'credit':\n",
    "                balance += transaction.amount\n",
    "            elif transaction.transaction_type == 'debit':\n",
    "                balance -= transaction.amount\n",
    "        return balance\n",
    "\n",
    "    def display_transactions(self):\n",
    "        if not self.transactions:\n",
    "            print(\"No transactions found!\")\n",
    "            return\n",
    "\n",
    "        print(\"\\nTransaction History:\")\n",
    "        for transaction in self.transactions:\n",
    "            print(transaction)"
   ]
  },
  {
   "cell_type": "code",
   "execution_count": 12,
   "metadata": {},
   "outputs": [],
   "source": [
    "khata = Khata()"
   ]
  },
  {
   "cell_type": "code",
   "execution_count": 13,
   "metadata": {},
   "outputs": [
    {
     "name": "stdout",
     "output_type": "stream",
     "text": [
      "Transaction 1 added successfully.\n",
      "Transaction 2 added successfully.\n",
      "Transaction 3 added successfully.\n"
     ]
    }
   ],
   "source": [
    "# Adding transactions\n",
    "khata.add_transaction(1, \"Salary\", 5000, \"credit\")\n",
    "khata.add_transaction(2, \"Grocery Shopping\", 1500, \"debit\")\n",
    "khata.add_transaction(3, \"Electricity Bill\", 800, \"debit\")"
   ]
  },
  {
   "cell_type": "code",
   "execution_count": 14,
   "metadata": {},
   "outputs": [
    {
     "name": "stdout",
     "output_type": "stream",
     "text": [
      "\n",
      "Transaction History:\n",
      "ID: 1 | Salary | Credit | Amount: 5000\n",
      "ID: 2 | Grocery Shopping | Debit | Amount: 1500\n",
      "ID: 3 | Electricity Bill | Debit | Amount: 800\n"
     ]
    }
   ],
   "source": [
    "# Displaying transaction history\n",
    "khata.display_transactions()"
   ]
  },
  {
   "cell_type": "code",
   "execution_count": 15,
   "metadata": {},
   "outputs": [
    {
     "name": "stdout",
     "output_type": "stream",
     "text": [
      "\n",
      "Current Balance: 2700\n"
     ]
    }
   ],
   "source": [
    "# Calculating and displaying the current balance\n",
    "current_balance = khata.calculate_balance()\n",
    "print(f\"\\nCurrent Balance: {current_balance}\")"
   ]
  },
  {
   "cell_type": "code",
   "execution_count": 16,
   "metadata": {},
   "outputs": [
    {
     "name": "stdout",
     "output_type": "stream",
     "text": [
      "Transaction 2 updated successfully.\n"
     ]
    }
   ],
   "source": [
    "# Updating a transaction\n",
    "khata.update_transaction(2, description=\"Monthly Grocery\", amount=2000)"
   ]
  },
  {
   "cell_type": "code",
   "execution_count": 17,
   "metadata": {},
   "outputs": [
    {
     "name": "stdout",
     "output_type": "stream",
     "text": [
      "\n",
      "Transaction History:\n",
      "ID: 1 | Salary | Credit | Amount: 5000\n",
      "ID: 2 | Monthly Grocery | Debit | Amount: 2000\n",
      "ID: 3 | Electricity Bill | Debit | Amount: 800\n"
     ]
    }
   ],
   "source": [
    "# Displaying updated transaction history\n",
    "khata.display_transactions()"
   ]
  },
  {
   "cell_type": "code",
   "execution_count": 18,
   "metadata": {},
   "outputs": [
    {
     "name": "stdout",
     "output_type": "stream",
     "text": [
      "\n",
      "Current Balance: 2200\n"
     ]
    }
   ],
   "source": [
    "# Calculating and displaying the current balance\n",
    "current_balance = khata.calculate_balance()\n",
    "print(f\"\\nCurrent Balance: {current_balance}\")"
   ]
  },
  {
   "cell_type": "code",
   "execution_count": null,
   "metadata": {},
   "outputs": [],
   "source": []
  }
 ],
 "metadata": {
  "kernelspec": {
   "display_name": "Python 3",
   "language": "python",
   "name": "python3"
  },
  "language_info": {
   "codemirror_mode": {
    "name": "ipython",
    "version": 3
   },
   "file_extension": ".py",
   "mimetype": "text/x-python",
   "name": "python",
   "nbconvert_exporter": "python",
   "pygments_lexer": "ipython3",
   "version": "3.12.0"
  }
 },
 "nbformat": 4,
 "nbformat_minor": 2
}
