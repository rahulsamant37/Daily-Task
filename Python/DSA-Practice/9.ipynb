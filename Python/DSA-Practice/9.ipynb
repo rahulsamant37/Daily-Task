{
 "cells": [
  {
   "cell_type": "markdown",
   "metadata": {},
   "source": [
    "### Question:\n",
    "Create a Python class Dataset that represents a dataset for a data science project. The class should have:\n",
    "\n",
    "1. An initializer method (__init__) that initializes a hardcoded dataset as a pandas DataFrame.\n",
    "2. A method get_summary() that returns the summary statistics of the dataset.\n",
    "3. A method filter_data(column, value) that filters the dataset based on a specific column and value, and returns the filtered data.\n",
    "4. Demonstrate the usage of the class."
   ]
  },
  {
   "cell_type": "code",
   "execution_count": 3,
   "metadata": {},
   "outputs": [],
   "source": [
    "import pandas as pd\n",
    "\n",
    "class Dataset:\n",
    "    def __init__(self):\n",
    "        \"\"\"\n",
    "        Initialize the Dataset object with a hardcoded dataset.\n",
    "        The dataset is stored as a pandas DataFrame.\n",
    "        \"\"\"\n",
    "        # Hardcoded dataset\n",
    "        self.data = pd.DataFrame({\n",
    "            \"Name\": [\"Alice\", \"Bob\", \"Charlie\", \"David\", \"Eva\"],\n",
    "            \"Age\": [30, 25, 30, 35, 40],\n",
    "            \"Salary\": [50000, 45000, 60000, 70000, 80000]\n",
    "        })\n",
    "\n",
    "    def get_summary(self):\n",
    "        \"\"\"\n",
    "        Returns the summary statistics of the dataset.\n",
    "        \"\"\"\n",
    "        return self.data.describe()\n",
    "\n",
    "    def filter_data(self, column, value):\n",
    "        \"\"\"\n",
    "        Filters the dataset based on a column and a value.\n",
    "        Returns the filtered dataset.\n",
    "        \"\"\"\n",
    "        if column in self.data.columns:\n",
    "            return self.data[self.data[column] == value]\n",
    "        else:\n",
    "            return f\"Error: Column '{column}' not found in the dataset.\"\n"
   ]
  },
  {
   "cell_type": "code",
   "execution_count": 4,
   "metadata": {},
   "outputs": [
    {
     "name": "stdout",
     "output_type": "stream",
     "text": [
      "Summary Statistics:\n",
      "             Age        Salary\n",
      "count   5.000000      5.000000\n",
      "mean   32.000000  61000.000000\n",
      "std     5.700877  14317.821063\n",
      "min    25.000000  45000.000000\n",
      "25%    30.000000  50000.000000\n",
      "50%    30.000000  60000.000000\n",
      "75%    35.000000  70000.000000\n",
      "max    40.000000  80000.000000\n",
      "\n",
      "Filtered Data (Age == 30):\n",
      "      Name  Age  Salary\n",
      "0    Alice   30   50000\n",
      "2  Charlie   30   60000\n"
     ]
    }
   ],
   "source": [
    "# Example Usage\n",
    "if __name__ == \"__main__\":\n",
    "    dataset = Dataset()\n",
    "\n",
    "    # Print summary statistics\n",
    "    print(\"Summary Statistics:\")\n",
    "    print(dataset.get_summary())\n",
    "\n",
    "    # Filter data where 'Age' is 30\n",
    "    print(\"\\nFiltered Data (Age == 30):\")\n",
    "    print(dataset.filter_data(\"Age\", 30))"
   ]
  },
  {
   "cell_type": "code",
   "execution_count": null,
   "metadata": {},
   "outputs": [],
   "source": []
  }
 ],
 "metadata": {
  "kernelspec": {
   "display_name": "Python 3",
   "language": "python",
   "name": "python3"
  },
  "language_info": {
   "codemirror_mode": {
    "name": "ipython",
    "version": 3
   },
   "file_extension": ".py",
   "mimetype": "text/x-python",
   "name": "python",
   "nbconvert_exporter": "python",
   "pygments_lexer": "ipython3",
   "version": "3.12.0"
  }
 },
 "nbformat": 4,
 "nbformat_minor": 2
}
