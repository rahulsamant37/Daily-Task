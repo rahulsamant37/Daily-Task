{
 "cells": [
  {
   "cell_type": "code",
   "execution_count": 1,
   "id": "518dc442",
   "metadata": {},
   "outputs": [
    {
     "name": "stdout",
     "output_type": "stream",
     "text": [
      "{'a': 1, 'c': 9, 'e': 25}\n"
     ]
    }
   ],
   "source": [
    "## 1 Dictionary Comprehension with Conditions -\n",
    "\n",
    "data = [('a', 1), ('b', 2), ('c', 3), ('d', 4), ('e', 5)]\n",
    "result = {k: v**2 for k, v in data if v % 2 == 1}\n",
    "print(result)"
   ]
  },
  {
   "cell_type": "code",
   "execution_count": 17,
   "id": "4726f158",
   "metadata": {},
   "outputs": [
    {
     "name": "stdout",
     "output_type": "stream",
     "text": [
      "b don't equal to dict_keys(['k'])\n",
      "None\n"
     ]
    }
   ],
   "source": [
    "# 2. Nested Dictionary Access\n",
    "# Write a function that safely gets a value from a nested dictionary\n",
    "# Example: get_nested_value({'a': {'b': {'c': 5}}}, ['a', 'b', 'c']) should return 5\n",
    "# If any key doesn't exist, return None\n",
    "def get_nested_value(d, keys):\n",
    "    for i in range(len(keys)):\n",
    "        if keys[i] not in d:\n",
    "            print(f\"{keys[i]} don't equal to {d.keys()}\")\n",
    "            return None\n",
    "        d = d[keys[i]]\n",
    "    return d\n",
    "\n",
    "result = get_nested_value({'a': {'k': {'c': 5}}}, ['a', 'b', 'c'])\n",
    "print(result)"
   ]
  },
  {
   "cell_type": "code",
   "execution_count": null,
   "id": "baa256b5",
   "metadata": {},
   "outputs": [
    {
     "name": "stdout",
     "output_type": "stream",
     "text": [
      "{'a': 1, 'b': 3, 'c': 4}\n",
      "{'a': 1, 'b': 3, 'c': 4}\n",
      "{'a': 1, 'b': 3, 'c': 4}\n"
     ]
    }
   ],
   "source": [
    "# 3. Dictionary Merge Behavior\n",
    "# What's the difference between these three approaches?\n",
    "dict1 = {'a': 1, 'b': 2}\n",
    "dict2 = {'b': 3, 'c': 4}\n",
    "\n",
    "# Approach 1\n",
    "result1 = {**dict1, **dict2}\n",
    "\n",
    "# Approach 2\n",
    "result2 = dict1.copy()\n",
    "result2.update(dict2)\n",
    "\n",
    "# Approach 3 (Python 3.9+)\n",
    "result3 = dict1 | dict2\n",
    "\n",
    "# Which approach(es) modify the original dictionaries?\n",
    "## None of the approaches modify the original dictionaries\n",
    "\n",
    "print(result1)\n",
    "print(result2)\n",
    "print(result3)"
   ]
  },
  {
   "cell_type": "code",
   "execution_count": 3,
   "metadata": {},
   "outputs": [
    {
     "name": "stdout",
     "output_type": "stream",
     "text": [
      "{'apple': 1}\n",
      "{'banana': 1}\n",
      "{'apple': 1}\n"
     ]
    }
   ],
   "source": [
    "# 4. Dictionary as Default Argument Trap\n",
    "# What's wrong with this code and how would you fix it?\n",
    "def add_item(item, inventory=None):\n",
    "    if inventory is None:\n",
    "        inventory = {}\n",
    "    if item in inventory:\n",
    "        inventory[item] += 1\n",
    "    else:\n",
    "        inventory[item] = 1\n",
    "    return inventory\n",
    "\n",
    "# Test calls\n",
    "print(add_item('apple'))\n",
    "print(add_item('banana'))\n",
    "print(add_item('apple'))"
   ]
  },
  {
   "cell_type": "code",
   "execution_count": null,
   "id": "38be6c97",
   "metadata": {},
   "outputs": [],
   "source": [
    "# 5. Dictionary Key Requirements\n",
    "# Which of these can be used as dictionary keys? Explain why or why not.\n",
    "a = {[1, 2]: 'list'}           # Valid?\n",
    "b = {(1, 2): 'tuple'}          # Valid?\n",
    "c = {{'a': 1}: 'dict'}         # Valid?\n",
    "d = {frozenset([1, 2]): 'frozenset'}  # Valid?\n",
    "e = {1.0: 'float', 1: 'int'}   # What happens here?\n",
    "\n",
    "\"\"\"Explanation: Dictionary keys must be hashable (immutable). Lists and dicts are mutable, \n",
    "so they can't be keys. For e, since 1.0 == 1 in Python, they're considered the same key, \n",
    "so the second assignment overwrites the first.\"\"\"\n",
    "## a = {[1, 2]: 'list'}           # INVALID - lists are mutable/unhashable\n",
    "## b = {(1, 2): 'tuple'}          # VALID - tuples are immutable/hashable\n",
    "## c = {{'a': 1}: 'dict'}         # INVALID - dicts are mutable/unhashable\n",
    "## d = {frozenset([1, 2]): 'frozenset'}  # VALID - frozensets are immutable/hashable\n",
    "## e = {1.0: 'float', 1: 'int'}   # Only one entry: {1.0: 'int'} because 1.0 == 1"
   ]
  },
  {
   "cell_type": "code",
   "execution_count": 4,
   "metadata": {},
   "outputs": [
    {
     "name": "stdout",
     "output_type": "stream",
     "text": [
      "{'a': 1}\n"
     ]
    }
   ],
   "source": [
    "# 6. Counter and Dictionary Operations\n",
    "# Implement a function that finds the most common elements\n",
    "# that appear in both dictionaries (intersection of keys)\n",
    "from collections import Counter\n",
    "\n",
    "def common_elements(dict1, dict2):\n",
    "    # Return a dictionary with common keys and their minimum counts\n",
    "    # Example: common_elements({'a': 3, 'b': 2}, {'a': 1, 'c': 4}) \n",
    "    # should return {'a': 1}\n",
    "    common_keys = set(dict1.keys()) & set(dict2.keys())\n",
    "    return {key: min(dict1[key], dict2[key]) for key in common_keys}\n",
    "print(common_elements({'a': 3, 'b': 2}, {'a': 1, 'c': 4}))"
   ]
  },
  {
   "cell_type": "code",
   "execution_count": null,
   "id": "c04b1248",
   "metadata": {},
   "outputs": [
    {
     "name": "stdout",
     "output_type": "stream",
     "text": [
      "a: {'x': [1, 2, 3, 4], 'y': 5}\n",
      "b: {'x': [1, 2, 3, 4]}\n",
      "c: {'x': [1, 2, 3, 4], 'y': 5}\n",
      "a is c: True\n",
      "a['x'] is b['x']: True\n"
     ]
    }
   ],
   "source": [
    "# 7. Dictionary Memory and Identity\n",
    "# Predict the output and explain the behavior\n",
    "a = {'x': [1, 2, 3]}\n",
    "b = a.copy()\n",
    "c = a\n",
    "\n",
    "a['x'].append(4)\n",
    "a['y'] = 5\n",
    "\n",
    "print(f\"a: {a}\")\n",
    "print(f\"b: {b}\")\n",
    "print(f\"c: {c}\")\n",
    "print(f\"a is c: {a is c}\")\n",
    "print(f\"a['x'] is b['x']: {a['x'] is b['x']}\")\n",
    "\n",
    "\"\"\"Explanation: copy() creates a shallow copy - \n",
    "the dictionary structure is copied but nested objects (like lists)\n",
    "are still shared. c = a creates a reference, not a copy.\"\"\""
   ]
  },
  {
   "cell_type": "code",
   "execution_count": 7,
   "id": "614bbcb0",
   "metadata": {},
   "outputs": [
    {
     "name": "stdout",
     "output_type": "stream",
     "text": [
      "{1: ['a', 'c'], 2: ['b', 'd']}\n"
     ]
    }
   ],
   "source": [
    "# 8. Dictionary Ordering and Iteration\n",
    "# Create a function that groups items by their values\n",
    "# Example: group_by_value({'a': 1, 'b': 2, 'c': 1, 'd': 2})\n",
    "# should return {1: ['a', 'c'], 2: ['b', 'd']}\n",
    "def group_by_value(d):\n",
    "    # Your implementation here\n",
    "    result = {}\n",
    "    for k,v in d.items():\n",
    "        if v in result:\n",
    "            result[v].append(k)\n",
    "        else:\n",
    "            result[v] = [k]\n",
    "    return result\n",
    "print(group_by_value({'a': 1, 'b': 2, 'c': 1, 'd': 2}))"
   ]
  },
  {
   "cell_type": "code",
   "execution_count": 10,
   "id": "a945c9d3",
   "metadata": {},
   "outputs": [
    {
     "name": "stdout",
     "output_type": "stream",
     "text": [
      "world\n",
      "world\n",
      "world\n"
     ]
    }
   ],
   "source": [
    "# 9. Dictionary Subclassing Challenge\n",
    "# Complete this custom dictionary class that automatically\n",
    "# converts string keys to lowercase\n",
    "class CaseInsensitiveDict(dict):\n",
    "    def __setitem__(self, key, value):\n",
    "        if isinstance(key, str):\n",
    "            key = key.lower()\n",
    "        super().__setitem__(key, value)\n",
    "    \n",
    "    def __getitem__(self, key):\n",
    "        if isinstance(key, str):\n",
    "            key = key.lower()\n",
    "        return super().__getitem__(key)\n",
    "    \n",
    "    def __contains__(self, key):\n",
    "        if isinstance(key, str):\n",
    "            key = key.lower()\n",
    "        return super().__contains__(key)\n",
    "\n",
    "d = CaseInsensitiveDict()\n",
    "d['Hello'] = 'world'\n",
    "print(d['HELLO'])  # Should print 'world'\n",
    "print(d['HeLLO'])  # Should print 'world'\n",
    "print(d['HEllO'])  # Should print 'world'"
   ]
  },
  {
   "cell_type": "code",
   "execution_count": null,
   "id": "9d5ec7b1",
   "metadata": {},
   "outputs": [],
   "source": []
  }
 ],
 "metadata": {
  "kernelspec": {
   "display_name": "Python 3 (ipykernel)",
   "language": "python",
   "name": "python3"
  },
  "language_info": {
   "codemirror_mode": {
    "name": "ipython",
    "version": 3
   },
   "file_extension": ".py",
   "mimetype": "text/x-python",
   "name": "python",
   "nbconvert_exporter": "python",
   "pygments_lexer": "ipython3",
   "version": "3.12.1"
  }
 },
 "nbformat": 4,
 "nbformat_minor": 5
}
