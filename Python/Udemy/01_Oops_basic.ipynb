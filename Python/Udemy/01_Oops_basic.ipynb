{
 "cells": [
  {
   "cell_type": "code",
   "execution_count": 2,
   "id": "8d2b1410",
   "metadata": {},
   "outputs": [],
   "source": [
    "class car:\n",
    "    pass\n",
    "\n",
    "audi = car()\n",
    "tesla = car()"
   ]
  },
  {
   "cell_type": "code",
   "execution_count": 3,
   "id": "3764dc22",
   "metadata": {},
   "outputs": [
    {
     "data": {
      "text/plain": [
       "__main__.car"
      ]
     },
     "execution_count": 3,
     "metadata": {},
     "output_type": "execute_result"
    }
   ],
   "source": [
    "type(audi)\n",
    "type(tesla)"
   ]
  },
  {
   "cell_type": "code",
   "execution_count": 4,
   "id": "18df7b94",
   "metadata": {},
   "outputs": [
    {
     "data": {
      "text/plain": [
       "['__class__',\n",
       " '__delattr__',\n",
       " '__dict__',\n",
       " '__dir__',\n",
       " '__doc__',\n",
       " '__eq__',\n",
       " '__format__',\n",
       " '__ge__',\n",
       " '__getattribute__',\n",
       " '__getstate__',\n",
       " '__gt__',\n",
       " '__hash__',\n",
       " '__init__',\n",
       " '__init_subclass__',\n",
       " '__le__',\n",
       " '__lt__',\n",
       " '__module__',\n",
       " '__ne__',\n",
       " '__new__',\n",
       " '__reduce__',\n",
       " '__reduce_ex__',\n",
       " '__repr__',\n",
       " '__setattr__',\n",
       " '__sizeof__',\n",
       " '__str__',\n",
       " '__subclasshook__',\n",
       " '__weakref__']"
      ]
     },
     "execution_count": 4,
     "metadata": {},
     "output_type": "execute_result"
    }
   ],
   "source": [
    "dir(audi)"
   ]
  },
  {
   "cell_type": "code",
   "execution_count": 8,
   "id": "4c6de907",
   "metadata": {},
   "outputs": [
    {
     "name": "stdout",
     "output_type": "stream",
     "text": [
      "Germanseford\n"
     ]
    }
   ],
   "source": [
    "class Dog:\n",
    "    def __init__(self,name,age):\n",
    "        self.name = name\n",
    "        self.age = age\n",
    "\n",
    "German = Dog(name='Germanseford', age=10)\n",
    "print(German.name)"
   ]
  },
  {
   "cell_type": "code",
   "execution_count": 9,
   "id": "3d0d8cfb",
   "metadata": {},
   "outputs": [
    {
     "name": "stdout",
     "output_type": "stream",
     "text": [
      "Germanseford says Woof!\n"
     ]
    }
   ],
   "source": [
    "class Dog:\n",
    "    def __init__(self,name,age):\n",
    "        self.name = name\n",
    "        self.age = age\n",
    "    \n",
    "    def bark(self):\n",
    "        print(f\"{self.name} says Woof!\")\n",
    "\n",
    "German = Dog(name='Germanseford', age=10)\n",
    "German.bark()"
   ]
  },
  {
   "cell_type": "code",
   "execution_count": 36,
   "id": "f4ce5527",
   "metadata": {},
   "outputs": [
    {
     "name": "stdout",
     "output_type": "stream",
     "text": [
      "Hey Guest, Your 100 is added to your bank account and your current balance is 100\n",
      "Hey Guest, Insufficient Funds you cant't Withdraw the Money!\n"
     ]
    }
   ],
   "source": [
    "class Bank:\n",
    "    def __init__(self,owner='Guest',balance=0):\n",
    "        self.owner = owner\n",
    "        self.balance = balance\n",
    "    \n",
    "    def check_balance(self):\n",
    "        print(f\"Your current balance is {self.balance}\")\n",
    "    \n",
    "    def deposit(self, deposit_amount):\n",
    "        self.balance+=deposit_amount\n",
    "        print(f\"Hey {self.owner}, Your {deposit_amount} is added to your bank account and your current balance is {self.balance}\")\n",
    "    def withdraw(self, withdraw_amount):\n",
    "        if self.balance < withdraw_amount:\n",
    "            print(f\"Hey {self.owner}, Insufficient Funds you cant't Withdraw the Money!\")\n",
    "        else:\n",
    "            self.balance-=withdraw_amount\n",
    "            print(f\"Hey {self.owner}, Your {withdraw_amount} is added to your bank account and your current balance is {self.balance}\")\n",
    "\n",
    "Account = Bank()\n",
    "Account.deposit(100)\n",
    "Account.withdraw(150)"
   ]
  },
  {
   "cell_type": "code",
   "execution_count": 16,
   "id": "abe8aec2",
   "metadata": {},
   "outputs": [
    {
     "name": "stdout",
     "output_type": "stream",
     "text": [
      "Hey Rahul, Your Current Balance is 5000!\n"
     ]
    }
   ],
   "source": [
    "class Bank():\n",
    "    def __init__(self,owner,balance=0):\n",
    "        self.owner = owner\n",
    "        self.balance = balance\n",
    "    \n",
    "    def check_balance(self):\n",
    "        print(f\"Hey {self.owner}, Your Current Balance is {self.balance}!\")\n",
    "    \n",
    "    def deposit_cash(self,amount):\n",
    "        self.balance+=amount\n",
    "        print(f\"Hey {self.owner}, Your {self.balance} ruppes is added to your bank account.\\nYour current balance is {self.balance}!\")\n",
    "    \n",
    "    def withdraw_cash(self,amount):\n",
    "        if self.balance < amount:\n",
    "            print(f\"Hey {self.owner}, Your can't withdraw {amount} rupees form your bank account! As your current balance is {self.balance}.\")\n",
    "        else:\n",
    "            self.balance-=amount\n",
    "            print(f\"Hey {self.owner}, Your {self.balance} ruppes is deduced from your bank account.\\nYour current balance is {self.balance}!\")\n",
    "\n",
    "account1= Bank('Rahul', 5000)\n",
    "account1.check_balance()  "
   ]
  },
  {
   "cell_type": "code",
   "execution_count": 17,
   "metadata": {},
   "outputs": [
    {
     "name": "stdout",
     "output_type": "stream",
     "text": [
      "Hey Rahul, Your 105000 ruppes is added to your bank account.\n",
      "Your current balance is 105000!\n"
     ]
    }
   ],
   "source": [
    "account1.deposit_cash(100000)"
   ]
  },
  {
   "cell_type": "code",
   "execution_count": 18,
   "id": "db1d1fff",
   "metadata": {},
   "outputs": [
    {
     "name": "stdout",
     "output_type": "stream",
     "text": [
      "Hey Rahul, Your can't withdraw 200000 rupees form your bank account! As your current balance is 105000.\n"
     ]
    }
   ],
   "source": [
    "account1.withdraw_cash(200000)"
   ]
  },
  {
   "cell_type": "code",
   "execution_count": 19,
   "id": "827e4101",
   "metadata": {},
   "outputs": [
    {
     "name": "stdout",
     "output_type": "stream",
     "text": [
      "Hey Rahul, Your 55000 ruppes is deduced from your bank account.\n",
      "Your current balance is 55000!\n"
     ]
    }
   ],
   "source": [
    "account1.withdraw_cash(50000)"
   ]
  },
  {
   "cell_type": "code",
   "execution_count": null,
   "id": "9f5028a3",
   "metadata": {},
   "outputs": [],
   "source": []
  }
 ],
 "metadata": {
  "kernelspec": {
   "display_name": "Python 3",
   "language": "python",
   "name": "python3"
  },
  "language_info": {
   "codemirror_mode": {
    "name": "ipython",
    "version": 3
   },
   "file_extension": ".py",
   "mimetype": "text/x-python",
   "name": "python",
   "nbconvert_exporter": "python",
   "pygments_lexer": "ipython3",
   "version": "3.12.1"
  }
 },
 "nbformat": 4,
 "nbformat_minor": 5
}
