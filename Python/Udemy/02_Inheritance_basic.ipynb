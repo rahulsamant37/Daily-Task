{
 "cells": [
  {
   "cell_type": "code",
   "execution_count": 2,
   "id": "a017094b",
   "metadata": {},
   "outputs": [],
   "source": [
    "class Car:\n",
    "    def __init__(self,windows,door,enginetype):\n",
    "        self.windows = windows\n",
    "        self.door = door\n",
    "        self.enginetype = enginetype\n",
    "    \n",
    "    def drive(self):\n",
    "        print(f\"The person will derive the {self.enginetype} car!\")\n",
    "    "
   ]
  },
  {
   "cell_type": "code",
   "execution_count": 3,
   "metadata": {},
   "outputs": [
    {
     "name": "stdout",
     "output_type": "stream",
     "text": [
      "The person will derive the Petrol car!\n"
     ]
    }
   ],
   "source": [
    "car1 = Car(4,4,\"Petrol\")\n",
    "car1.drive()"
   ]
  },
  {
   "cell_type": "code",
   "execution_count": 4,
   "metadata": {},
   "outputs": [],
   "source": [
    "class Tesla(Car):\n",
    "    def __init__(self,windows,door,enginetype,is_selfdriving):\n",
    "        super().__init__(windows,door,enginetype)\n",
    "        self.is_selfdriving = is_selfdriving\n",
    "    \n",
    "    def check_selfdriving(self):\n",
    "        print(f\"Tesla Support self driving - {self.is_selfdriving}\")"
   ]
  },
  {
   "cell_type": "code",
   "execution_count": 10,
   "metadata": {},
   "outputs": [
    {
     "name": "stdout",
     "output_type": "stream",
     "text": [
      "Tesla Support self driving - True\n",
      "The person will derive the Electric car!\n"
     ]
    }
   ],
   "source": [
    "tesla1 = Tesla(4,4,\"Electric\",True)\n",
    "tesla1.check_selfdriving()\n",
    "tesla1.drive()"
   ]
  },
  {
   "cell_type": "code",
   "execution_count": 1,
   "metadata": {},
   "outputs": [
    {
     "name": "stdout",
     "output_type": "stream",
     "text": [
      "Dodo says Woof!\n"
     ]
    }
   ],
   "source": [
    "class Dog():\n",
    "    def __init__(self,name,gender):\n",
    "        self.name = name\n",
    "        self.gender = gender\n",
    "    \n",
    "    def bark(self):\n",
    "        print(f'{self.name} says Woof!')\n",
    "\n",
    "dog1 = Dog('Dodo', 'Male')\n",
    "dog1.bark()"
   ]
  },
  {
   "cell_type": "code",
   "execution_count": 3,
   "id": "8351e7f5",
   "metadata": {},
   "outputs": [
    {
     "name": "stdout",
     "output_type": "stream",
     "text": [
      "My Miyo has 4 number of legs!\n",
      "Miyo says Woof!\n"
     ]
    }
   ],
   "source": [
    "class Cat(Dog):\n",
    "    def __init__(self,name,gender,num_leg):\n",
    "        super().__init__(name,gender)\n",
    "        self.num_leg = num_leg\n",
    "    \n",
    "    def leg_count(self):\n",
    "        print(f\"My {self.name} has {self.num_leg} number of legs!\")\n",
    "\n",
    "cat1 = Cat('Miyo', 'Female', 4)\n",
    "cat1.leg_count()\n",
    "cat1.bark()"
   ]
  },
  {
   "cell_type": "code",
   "execution_count": null,
   "id": "b8bffa6d",
   "metadata": {},
   "outputs": [],
   "source": []
  }
 ],
 "metadata": {
  "kernelspec": {
   "display_name": "Python 3",
   "language": "python",
   "name": "python3"
  },
  "language_info": {
   "codemirror_mode": {
    "name": "ipython",
    "version": 3
   },
   "file_extension": ".py",
   "mimetype": "text/x-python",
   "name": "python",
   "nbconvert_exporter": "python",
   "pygments_lexer": "ipython3",
   "version": "3.12.1"
  }
 },
 "nbformat": 4,
 "nbformat_minor": 5
}
