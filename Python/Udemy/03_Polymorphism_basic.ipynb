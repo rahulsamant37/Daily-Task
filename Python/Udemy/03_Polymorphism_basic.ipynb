{
 "cells": [
  {
   "cell_type": "markdown",
   "id": "b88c2d74",
   "metadata": {},
   "source": [
    "# What is Polymorphism?\n",
    "### Polymorphism means \"many forms\".\n",
    "In OOP, it means that one function or method can work in different ways depending on the object that calls it."
   ]
  },
  {
   "cell_type": "markdown",
   "id": "49ed058e",
   "metadata": {},
   "source": [
    "### Method Overriding\n",
    "A child class provides its own version of a method that is already defined in its parent class."
   ]
  },
  {
   "cell_type": "code",
   "execution_count": 1,
   "id": "0f0175ec",
   "metadata": {},
   "outputs": [
    {
     "name": "stdout",
     "output_type": "stream",
     "text": [
      "Woof!\n",
      "Meow!\n",
      "Moo!\n"
     ]
    }
   ],
   "source": [
    "## Base Class\n",
    "class Animal:\n",
    "    def speak(self):\n",
    "        pass\n",
    "\n",
    "class Dog(Animal):\n",
    "    def speak(self):\n",
    "        return \"Woof!\"\n",
    "\n",
    "class Cat(Animal):\n",
    "    def speak(self):\n",
    "        return \"Meow!\"\n",
    "\n",
    "class Cow(Animal):\n",
    "    def speak(self):\n",
    "        return \"Moo!\"\n",
    "\n",
    "animals = [Dog(), Cat(), Cow()]\n",
    "\n",
    "for animal in animals:\n",
    "    print(animal.speak())\n"
   ]
  },
  {
   "cell_type": "code",
   "execution_count": 3,
   "metadata": {},
   "outputs": [
    {
     "name": "stdout",
     "output_type": "stream",
     "text": [
      "12\n",
      "44.0\n"
     ]
    }
   ],
   "source": [
    "### Polymorphism with Function and Methods\n",
    "## Base Class\n",
    "class shape():\n",
    "    def area(self):\n",
    "        return \"Area of the figure\"\n",
    "\n",
    "## Derived Class 1\n",
    "class Rectangle(shape):\n",
    "    def __init__(self,length, width):\n",
    "        self.length = length\n",
    "        self.width = width\n",
    "    \n",
    "    def area(self):\n",
    "        return self.length * self.width\n",
    "area1 = Rectangle(3,4)\n",
    "print(area1.area())\n",
    "\n",
    "## Derived Class 2\n",
    "class Circle(shape):\n",
    "    def __init__(self,radius):\n",
    "        self.radius = radius\n",
    "    \n",
    "    def area(self):\n",
    "        return 2*(22/7)*self.radius\n",
    "area2 = Circle(7)\n",
    "print(area2.area())\n"
   ]
  },
  {
   "cell_type": "markdown",
   "id": "61ec7a33",
   "metadata": {},
   "source": [
    "#### Polymorphism with Abstract Base Classes\n",
    "Abstract Base Classes (ABCs) are used to define common methods for a group of related objects.\n",
    "They can enforce that dervived classes implement particular methods, promoting consistency across\n",
    "different implementations."
   ]
  },
  {
   "cell_type": "code",
   "execution_count": 1,
   "id": "f993cf3c",
   "metadata": {},
   "outputs": [
    {
     "name": "stdout",
     "output_type": "stream",
     "text": [
      "Car is starting\n",
      "Bike is starting\n"
     ]
    }
   ],
   "source": [
    "from abc import ABC, abstractmethod\n",
    "\n",
    "## Define an abstract base class\n",
    "class Vechicle(ABC):\n",
    "    @abstractmethod\n",
    "    def start(self):\n",
    "        pass\n",
    "\n",
    "## Dericved class 1\n",
    "class Car(Vechicle):\n",
    "    def start(self):\n",
    "        return \"Car is starting\"\n",
    "\n",
    "## Dericved class 2\n",
    "class Bike(Vechicle):\n",
    "    def start(self):\n",
    "        return \"Bike is starting\"\n",
    "\n",
    "## create objects of Car and Bike\n",
    "car = Car()\n",
    "bike = Bike()\n",
    "print(car.start())\n",
    "print(bike.start())"
   ]
  },
  {
   "cell_type": "code",
   "execution_count": null,
   "metadata": {},
   "outputs": [],
   "source": []
  },
  {
   "cell_type": "code",
   "execution_count": null,
   "id": "34597a5a",
   "metadata": {},
   "outputs": [],
   "source": []
  },
  {
   "cell_type": "code",
   "execution_count": null,
   "metadata": {},
   "outputs": [],
   "source": []
  }
 ],
 "metadata": {
  "kernelspec": {
   "display_name": "Python 3",
   "language": "python",
   "name": "python3"
  },
  "language_info": {
   "codemirror_mode": {
    "name": "ipython",
    "version": 3
   },
   "file_extension": ".py",
   "mimetype": "text/x-python",
   "name": "python",
   "nbconvert_exporter": "python",
   "pygments_lexer": "ipython3",
   "version": "3.12.1"
  }
 },
 "nbformat": 4,
 "nbformat_minor": 5
}
