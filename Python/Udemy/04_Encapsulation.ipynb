{
 "cells": [
  {
   "cell_type": "markdown",
   "id": "55fb3640",
   "metadata": {},
   "source": [
    "### Encapsulation\n",
    "Encapsulation is the concept of wrapping data (variables) and methods (functions) together as a single unit. It\n",
    "restricts direct access to some of the object's components, which is a means of preventing accidental interference\n",
    "and misuse of the data."
   ]
  },
  {
   "cell_type": "code",
   "execution_count": 2,
   "id": "b050ef78",
   "metadata": {},
   "outputs": [
    {
     "name": "stdout",
     "output_type": "stream",
     "text": [
      "Rahul\n"
     ]
    }
   ],
   "source": [
    "### Encapsulation with Getters and Setters Methods\n",
    "### Public, Protected, and Private Attributes\n",
    "class Person:\n",
    "    def __init__(self, name, age):\n",
    "        self.name = name  # Public attribute\n",
    "        self.age = age  # Public attribute\n",
    "\n",
    "def get_name(person):\n",
    "    return person.name  # Getter for name\n",
    "\n",
    "person = Person(\"Rahul\", 22)\n",
    "print(get_name(person))  # Accessing public attribute outside the class"
   ]
  },
  {
   "cell_type": "code",
   "execution_count": null,
   "id": "52c6ce37",
   "metadata": {},
   "outputs": [],
   "source": [
    "## Example of encapsulation with private attributes\n",
    "class Person:\n",
    "    def __init__(self, name, age, gender):\n",
    "        self.__name = name  # Private attribute\n",
    "        self.__age = age   # Private attribute\n",
    "        self.gender = gender  # Public attribute"
   ]
  },
  {
   "cell_type": "code",
   "execution_count": 8,
   "id": "a4977a94",
   "metadata": {},
   "outputs": [
    {
     "data": {
      "text/plain": [
       "['_Person__age',\n",
       " '_Person__name',\n",
       " '__class__',\n",
       " '__delattr__',\n",
       " '__dict__',\n",
       " '__dir__',\n",
       " '__doc__',\n",
       " '__eq__',\n",
       " '__format__',\n",
       " '__ge__',\n",
       " '__getattribute__',\n",
       " '__getstate__',\n",
       " '__gt__',\n",
       " '__hash__',\n",
       " '__init__',\n",
       " '__init_subclass__',\n",
       " '__le__',\n",
       " '__lt__',\n",
       " '__module__',\n",
       " '__ne__',\n",
       " '__new__',\n",
       " '__reduce__',\n",
       " '__reduce_ex__',\n",
       " '__repr__',\n",
       " '__setattr__',\n",
       " '__sizeof__',\n",
       " '__str__',\n",
       " '__subclasshook__',\n",
       " '__weakref__',\n",
       " 'gender']"
      ]
     },
     "execution_count": 8,
     "metadata": {},
     "output_type": "execute_result"
    }
   ],
   "source": [
    "dir(person)  # List all attributes of the person object"
   ]
  },
  {
   "cell_type": "code",
   "execution_count": 9,
   "metadata": {},
   "outputs": [
    {
     "ename": "AttributeError",
     "evalue": "'Person' object has no attribute '__name'",
     "output_type": "error",
     "traceback": [
      "\u001b[31m---------------------------------------------------------------------------\u001b[39m",
      "\u001b[31mAttributeError\u001b[39m                            Traceback (most recent call last)",
      "\u001b[36mCell\u001b[39m\u001b[36m \u001b[39m\u001b[32mIn[9]\u001b[39m\u001b[32m, line 2\u001b[39m\n\u001b[32m      1\u001b[39m person = Person(\u001b[33m\"\u001b[39m\u001b[33mRahul\u001b[39m\u001b[33m\"\u001b[39m, \u001b[32m22\u001b[39m, \u001b[33m'\u001b[39m\u001b[33mMale\u001b[39m\u001b[33m'\u001b[39m)\n\u001b[32m----> \u001b[39m\u001b[32m2\u001b[39m \u001b[38;5;28mprint\u001b[39m(\u001b[43mperson\u001b[49m\u001b[43m.\u001b[49m\u001b[43m__name\u001b[49m)  \u001b[38;5;66;03m# This will raise an AttributeError because __name is private\u001b[39;00m\n",
      "\u001b[31mAttributeError\u001b[39m: 'Person' object has no attribute '__name'"
     ]
    }
   ],
   "source": [
    "person = Person(\"Rahul\", 22, 'Male')\n",
    "print(person.__name)  # This will raise an AttributeError because __name is private"
   ]
  },
  {
   "cell_type": "code",
   "execution_count": 7,
   "id": "da4bc935",
   "metadata": {},
   "outputs": [
    {
     "name": "stdout",
     "output_type": "stream",
     "text": [
      "Male\n"
     ]
    }
   ],
   "source": [
    "person = Person(\"Rahul\", 22, 'Male')\n",
    "print(person.gender)  # Accessing public attribute outside the class"
   ]
  },
  {
   "cell_type": "code",
   "execution_count": 11,
   "id": "e3a24edf",
   "metadata": {},
   "outputs": [
    {
     "name": "stdout",
     "output_type": "stream",
     "text": [
      "Rahul\n",
      "Rahul\n"
     ]
    }
   ],
   "source": [
    "## Example of encapsulation with protected attributes\n",
    "class Person:\n",
    "    def __init__(self, name, age, gender):\n",
    "        self._name = name  # Protected attribute\n",
    "        self._age = age   # Protected attribute\n",
    "        self.gender = gender  # Public attribute\n",
    "\n",
    "class Student(Person):\n",
    "    def __init__(self, name, age, gender):\n",
    "        super().__init__(name, age, gender)\n",
    "\n",
    "    def get_name(self):\n",
    "        return self._name\n",
    "\n",
    "student = Student('Rahul', age=22, gender='Male')\n",
    "print(student._name)  # Accessing protected attribute directly (not recommended)\n",
    "print(student.get_name())  # Accessing protected attribute through a method"
   ]
  },
  {
   "cell_type": "code",
   "execution_count": 12,
   "id": "f90dd024",
   "metadata": {},
   "outputs": [
    {
     "name": "stdout",
     "output_type": "stream",
     "text": [
      "Rahul\n",
      "Ravi\n",
      "22\n",
      "25\n"
     ]
    }
   ],
   "source": [
    "## Encapsulation with getters and setters\n",
    "class Person:\n",
    "    def __init__(self, name, age):\n",
    "        self.__name = name  # Private attribute\n",
    "        self.__age = age    # Private attribute\n",
    "\n",
    "    ## Getter Methods\n",
    "    def get_name(self):\n",
    "        return self.__name  # Getter for name\n",
    "\n",
    "    def set_name(self, name):\n",
    "        self.__name = name  # Setter for name\n",
    "\n",
    "    def get_age(self):\n",
    "        return self.__age  # Getter for age\n",
    "\n",
    "    def set_age(self, age):\n",
    "        if age >= 0:  # Validation in setter\n",
    "            self.__age = age\n",
    "        else:\n",
    "            raise ValueError(\"Age cannot be negative\")\n",
    "\n",
    "# Example usage of getters and setters\n",
    "person = Person(\"Rahul\", 22)\n",
    "print(person.get_name())  # Accessing name using getter\n",
    "person.set_name(\"Ravi\")  # Setting new name using setter\n",
    "print(person.get_name())  # Accessing updated name using getter\n",
    "print(person.get_age())  # Accessing age using getter\n",
    "person.set_age(25)  # Setting new age using setter\n",
    "print(person.get_age())  # Accessing updated age using getter"
   ]
  },
  {
   "cell_type": "code",
   "execution_count": null,
   "metadata": {},
   "outputs": [],
   "source": []
  },
  {
   "cell_type": "code",
   "execution_count": null,
   "id": "e37485df",
   "metadata": {},
   "outputs": [],
   "source": []
  },
  {
   "cell_type": "code",
   "execution_count": null,
   "metadata": {},
   "outputs": [],
   "source": []
  }
 ],
 "metadata": {
  "kernelspec": {
   "display_name": "Python 3",
   "language": "python",
   "name": "python3"
  },
  "language_info": {
   "codemirror_mode": {
    "name": "ipython",
    "version": 3
   },
   "file_extension": ".py",
   "mimetype": "text/x-python",
   "name": "python",
   "nbconvert_exporter": "python",
   "pygments_lexer": "ipython3",
   "version": "3.12.1"
  }
 },
 "nbformat": 4,
 "nbformat_minor": 5
}
