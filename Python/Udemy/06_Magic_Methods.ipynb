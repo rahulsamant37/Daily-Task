{
 "cells": [
  {
   "cell_type": "markdown",
   "id": "178c91f0",
   "metadata": {},
   "source": [
    "### Magic Methods\n",
    "Magic methods in Python (also called dunder methods, short for “double underscore”) are special methods that start and end with __. They let you define how objects of your class behave with built-in operations like printing, adding, comparing, etc."
   ]
  },
  {
   "cell_type": "markdown",
   "id": "05b203e1",
   "metadata": {},
   "source": [
    "| Magic Method  | Purpose                               | Example                                                 |\n",
    "| ------------- | ------------------------------------- | ------------------------------------------------------- |\n",
    "| `__init__`    | Constructor (runs on object creation) | `def __init__(self, x):`                                |\n",
    "| `__str__`     | String representation                 | `def __str__(self): return \"MyObject\"`                  |\n",
    "| `__repr__`    | Official representation               | `def __repr__(self): return \"MyObject()\"`               |\n",
    "| `__len__`     | Used by `len()`                       | `def __len__(self): return 5`                           |\n",
    "| `__add__`     | Used by `+` operator                  | `def __add__(self, other): return self.val + other.val` |\n",
    "| `__eq__`      | Equality check (`==`)                 | `def __eq__(self, other): return self.id == other.id`   |\n",
    "| `__getitem__` | Indexing (`obj[index]`)               | `def __getitem__(self, key): return self.data[key]`     |\n"
   ]
  },
  {
   "cell_type": "markdown",
   "id": "4606a0b1",
   "metadata": {},
   "source": []
  },
  {
   "cell_type": "code",
   "execution_count": 1,
   "id": "c579c341",
   "metadata": {},
   "outputs": [
    {
     "data": {
      "text/plain": [
       "['__class__',\n",
       " '__delattr__',\n",
       " '__dict__',\n",
       " '__dir__',\n",
       " '__doc__',\n",
       " '__eq__',\n",
       " '__format__',\n",
       " '__ge__',\n",
       " '__getattribute__',\n",
       " '__getstate__',\n",
       " '__gt__',\n",
       " '__hash__',\n",
       " '__init__',\n",
       " '__init_subclass__',\n",
       " '__le__',\n",
       " '__lt__',\n",
       " '__module__',\n",
       " '__ne__',\n",
       " '__new__',\n",
       " '__reduce__',\n",
       " '__reduce_ex__',\n",
       " '__repr__',\n",
       " '__setattr__',\n",
       " '__sizeof__',\n",
       " '__str__',\n",
       " '__subclasshook__',\n",
       " '__weakref__']"
      ]
     },
     "execution_count": 1,
     "metadata": {},
     "output_type": "execute_result"
    }
   ],
   "source": [
    "class Person:\n",
    "    pass\n",
    "\n",
    "person = Person()\n",
    "dir(person)"
   ]
  },
  {
   "cell_type": "markdown",
   "id": "f31e6578",
   "metadata": {},
   "source": [
    "### `__str__`"
   ]
  },
  {
   "cell_type": "code",
   "execution_count": 2,
   "id": "bd9f3572",
   "metadata": {},
   "outputs": [
    {
     "name": "stdout",
     "output_type": "stream",
     "text": [
      "<__main__.Person object at 0x74209411e060>\n"
     ]
    }
   ],
   "source": [
    "##Basic Methods\n",
    "class Person:\n",
    "    def __init__(self, name, age):\n",
    "        self.name = name\n",
    "        self.age =age\n",
    "person = Person(\"Rahul\", 22)\n",
    "print(person)"
   ]
  },
  {
   "cell_type": "code",
   "execution_count": null,
   "metadata": {},
   "outputs": [
    {
     "name": "stdout",
     "output_type": "stream",
     "text": [
      "Rahul,22 years old\n"
     ]
    }
   ],
   "source": [
    "class Person:\n",
    "    def __init__(self, name, age):\n",
    "        self.name = name\n",
    "        self.age =age\n",
    "    \n",
    "    def __str__(self):\n",
    "        return f\"{self.name},{self.age} years old\"\n",
    "\n",
    "person = Person(\"Rahul\", 22)\n",
    "print(person)"
   ]
  },
  {
   "cell_type": "markdown",
   "id": "7344d63b",
   "metadata": {},
   "source": [
    "### `__repr__`"
   ]
  },
  {
   "cell_type": "code",
   "execution_count": 5,
   "id": "06ae0b3d",
   "metadata": {},
   "outputs": [
    {
     "name": "stdout",
     "output_type": "stream",
     "text": [
      "<__main__.Person object at 0x7420940c6210>\n"
     ]
    }
   ],
   "source": [
    "class Person:\n",
    "    def __init__(self, name, age):\n",
    "        self.name = name\n",
    "        self.age =age\n",
    "\n",
    "person = Person(\"Rahul\", 22)\n",
    "print(repr(person))"
   ]
  },
  {
   "cell_type": "code",
   "execution_count": 4,
   "metadata": {},
   "outputs": [
    {
     "name": "stdout",
     "output_type": "stream",
     "text": [
      "name = Rahul,age = 22\n"
     ]
    }
   ],
   "source": [
    "class Person:\n",
    "    def __init__(self, name, age):\n",
    "        self.name = name\n",
    "        self.age =age\n",
    "    \n",
    "    def __repr__(self):\n",
    "        return f\"name = {self.name},age = {self.age}\"\n",
    "\n",
    "person = Person(\"Rahul\", 22)\n",
    "print(repr(person))"
   ]
  },
  {
   "cell_type": "code",
   "execution_count": null,
   "metadata": {},
   "outputs": [],
   "source": []
  },
  {
   "cell_type": "code",
   "execution_count": null,
   "metadata": {},
   "outputs": [],
   "source": []
  }
 ],
 "metadata": {
  "kernelspec": {
   "display_name": "Python 3",
   "language": "python",
   "name": "python3"
  },
  "language_info": {
   "codemirror_mode": {
    "name": "ipython",
    "version": 3
   },
   "file_extension": ".py",
   "mimetype": "text/x-python",
   "name": "python",
   "nbconvert_exporter": "python",
   "pygments_lexer": "ipython3",
   "version": "3.12.1"
  }
 },
 "nbformat": 4,
 "nbformat_minor": 5
}
