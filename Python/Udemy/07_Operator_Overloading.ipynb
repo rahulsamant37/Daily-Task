{
 "cells": [
  {
   "cell_type": "markdown",
   "id": "48ca37e0",
   "metadata": {},
   "source": [
    "## Operator Overloading\n",
    "Operator overloading allows us to define custom behavior for operators (like +, -, *, etc.) when they are used with objects of a class. It's done by defining special methods in the class, known as \"magic methods\" or \"dunder methods\"."
   ]
  },
  {
   "cell_type": "markdown",
   "id": "6c186162",
   "metadata": {},
   "source": [
    "| **Operator** | **Magic Method**           | **Description**                               | **Example**    |\n",
    "| ------------ | -------------------------- | --------------------------------------------- | -------------- |\n",
    "| `+`          | `__add__(self, other)`     | Defines behavior for addition.                | `obj1 + obj2`  |\n",
    "| `-`          | `__sub__(self, other)`     | Defines behavior for subtraction.             | `obj1 - obj2`  |\n",
    "| `*`          | `__mul__(self, other)`     | Defines behavior for multiplication.          | `obj1 * obj2`  |\n",
    "| `/`          | `__truediv__(self, other)` | Defines behavior for division.                | `obj1 / obj2`  |\n",
    "| `==`         | `__eq__(self, other)`      | Defines behavior for equality comparison.     | `obj1 == obj2` |\n",
    "| `!=`         | `__ne__(self, other)`      | Defines behavior for inequality comparison.   | `obj1 != obj2` |\n",
    "| `<`          | `__lt__(self, other)`      | Defines behavior for less-than comparison.    | `obj1 < obj2`  |\n",
    "| `>`          | `__gt__(self, other)`      | Defines behavior for greater-than comparison. | `obj1 > obj2`  |\n",
    "| `len()`      | `__len__(self)`            | Defines behavior for `len()` function.        | `len(obj)`     |"
   ]
  },
  {
   "cell_type": "code",
   "execution_count": null,
   "id": "63d335bb",
   "metadata": {},
   "outputs": [
    {
     "name": "stdout",
     "output_type": "stream",
     "text": [
      "6\n"
     ]
    }
   ],
   "source": [
    "class Vector:\n",
    "    def __init__(self,x,y):\n",
    "        self.x = x\n",
    "        self.y = y\n",
    "    \n",
    "    def __add__(self):\n",
    "        return self.x*self.y\n",
    "\n",
    "vector = Vector(2,3)\n",
    "print(vector.__add__())\n",
    "print()"
   ]
  },
  {
   "cell_type": "code",
   "execution_count": 4,
   "metadata": {},
   "outputs": [
    {
     "name": "stdout",
     "output_type": "stream",
     "text": [
      "Vector(6, 8)\n"
     ]
    }
   ],
   "source": [
    "class Vector:\n",
    "    def __init__(self,x,y):\n",
    "        self.x = x\n",
    "        self.y = y\n",
    "    \n",
    "    def __add__(self,other):\n",
    "        return Vector(self.x+other.x, self.y+other.y)\n",
    "    \n",
    "    def __eq__(self, other):\n",
    "        return self.x == other.x, self.y ==other.y\n",
    "    \n",
    "    def __repr__(self):\n",
    "        return f\"Vector({self.x}, {self.y})\"\n",
    "v1 = Vector(2,3)\n",
    "v2 = Vector(4,5)\n",
    "\n",
    "print(v1+v2)"
   ]
  },
  {
   "cell_type": "code",
   "execution_count": null,
   "id": "4e626ac2",
   "metadata": {},
   "outputs": [],
   "source": []
  },
  {
   "cell_type": "code",
   "execution_count": null,
   "id": "4ba8a5d3",
   "metadata": {},
   "outputs": [],
   "source": []
  },
  {
   "cell_type": "code",
   "execution_count": null,
   "id": "b8b77a6d",
   "metadata": {},
   "outputs": [],
   "source": []
  },
  {
   "cell_type": "code",
   "execution_count": null,
   "id": "ef1eef4e",
   "metadata": {},
   "outputs": [],
   "source": []
  },
  {
   "cell_type": "code",
   "execution_count": null,
   "metadata": {},
   "outputs": [],
   "source": []
  },
  {
   "cell_type": "code",
   "execution_count": null,
   "id": "2327a329",
   "metadata": {},
   "outputs": [],
   "source": []
  }
 ],
 "metadata": {
  "kernelspec": {
   "display_name": "Python 3",
   "language": "python",
   "name": "python3"
  },
  "language_info": {
   "codemirror_mode": {
    "name": "ipython",
    "version": 3
   },
   "file_extension": ".py",
   "mimetype": "text/x-python",
   "name": "python",
   "nbconvert_exporter": "python",
   "pygments_lexer": "ipython3",
   "version": "3.12.1"
  }
 },
 "nbformat": 4,
 "nbformat_minor": 5
}
