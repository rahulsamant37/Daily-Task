{
 "cells": [
  {
   "cell_type": "markdown",
   "metadata": {},
   "source": [
    "## Practice Example\n",
    "\n",
    "#### - Determine if a year is leap year using nested condition statement"
   ]
  },
  {
   "cell_type": "code",
   "execution_count": 5,
   "metadata": {},
   "outputs": [
    {
     "name": "stdout",
     "output_type": "stream",
     "text": [
      "It is a leap year\n",
      "It is a leap year\n",
      "It is not a leap year\n"
     ]
    }
   ],
   "source": [
    "nums = [2020,2024,2022]\n",
    "for num in nums:\n",
    "    if num % 4 == 0:\n",
    "        if num % 100 == 0:\n",
    "            if num % 400 == 0:\n",
    "                print(\"It is a leap year\")\n",
    "            else:\n",
    "                print(\"It is not a leap year\")\n",
    "        else:\n",
    "            print(\"It is a leap year\")\n",
    "    else:\n",
    "        print(\"It is not a leap year\")"
   ]
  },
  {
   "cell_type": "code",
   "execution_count": 24,
   "metadata": {},
   "outputs": [
    {
     "name": "stdout",
     "output_type": "stream",
     "text": [
      "2020 is a leap year\n",
      "2024 is a leap year\n",
      "2022 is not a leap year\n"
     ]
    }
   ],
   "source": [
    "nums = [2020, 2024, 2022]\n",
    "for num in nums: print(f\"{num} is a leap year\" if (num % 4 == 0 and (num % 100 != 0 or num % 400 == 0)) else f\"{num} is not a leap year\")\n"
   ]
  },
  {
   "cell_type": "code",
   "execution_count": 19,
   "metadata": {},
   "outputs": [
    {
     "name": "stdout",
     "output_type": "stream",
     "text": [
      "[1, 2, 3, 4, 5, 6, 7, 8, 9, 10]\n"
     ]
    }
   ],
   "source": [
    "count=[i for i in range(1,11)]\n",
    "print(count)"
   ]
  },
  {
   "cell_type": "code",
   "execution_count": 18,
   "metadata": {},
   "outputs": [
    {
     "name": "stdout",
     "output_type": "stream",
     "text": [
      "[10, 9, 8, 7, 6, 5, 4, 3, 2, 1]\n"
     ]
    }
   ],
   "source": [
    "nums=[i for i in range(1,11)]\n",
    "nums.reverse()\n",
    "print(nums)"
   ]
  },
  {
   "cell_type": "code",
   "execution_count": 21,
   "metadata": {},
   "outputs": [
    {
     "name": "stdout",
     "output_type": "stream",
     "text": [
      "Rahul Samant\n"
     ]
    }
   ],
   "source": [
    "str = \"Rahul Samant\"\n",
    "print(str[::])"
   ]
  },
  {
   "cell_type": "code",
   "execution_count": 34,
   "metadata": {},
   "outputs": [
    {
     "name": "stdout",
     "output_type": "stream",
     "text": [
      "5 is divisible by 5\n"
     ]
    }
   ],
   "source": [
    "for i in range(10): print(f\"{i} is divisible by 5\") if i == 5 else None"
   ]
  },
  {
   "cell_type": "code",
   "execution_count": 47,
   "metadata": {},
   "outputs": [
    {
     "name": "stdout",
     "output_type": "stream",
     "text": [
      "The sum of first 100 natural numbers is : 5050\n"
     ]
    }
   ],
   "source": [
    "## Calculate the sum of first natural numbers\n",
    "n=int(input(\"Enter the number: \"))\n",
    "sum=0\n",
    "for i in range(1,n+1):\n",
    "    sum = sum+i\n",
    "print(f\"The sum of first {n} natural numbers is :\",sum)"
   ]
  },
  {
   "cell_type": "code",
   "execution_count": 59,
   "metadata": {},
   "outputs": [
    {
     "name": "stdout",
     "output_type": "stream",
     "text": [
      "2\n",
      "3\n",
      "5\n",
      "7\n"
     ]
    }
   ],
   "source": [
    "## Prime number from 1 to n\n",
    "numbers=set()\n",
    "n=int(input(\"Enter the number: \"))\n",
    "for i in range(2,n+1):\n",
    "    for j in range(2,i):\n",
    "        if i%j==0:\n",
    "            break\n",
    "    else:\n",
    "        numbers.add(i)\n",
    "for number in numbers:\n",
    "    print(number)"
   ]
  },
  {
   "cell_type": "code",
   "execution_count": null,
   "metadata": {},
   "outputs": [],
   "source": []
  }
 ],
 "metadata": {
  "kernelspec": {
   "display_name": "venv",
   "language": "python",
   "name": "python3"
  },
  "language_info": {
   "codemirror_mode": {
    "name": "ipython",
    "version": 3
   },
   "file_extension": ".py",
   "mimetype": "text/x-python",
   "name": "python",
   "nbconvert_exporter": "python",
   "pygments_lexer": "ipython3",
   "version": "3.12.7"
  }
 },
 "nbformat": 4,
 "nbformat_minor": 2
}
