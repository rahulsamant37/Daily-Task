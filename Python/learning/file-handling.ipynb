{
 "cells": [
  {
   "cell_type": "markdown",
   "metadata": {},
   "source": [
    "## Working with file"
   ]
  },
  {
   "cell_type": "code",
   "execution_count": 1,
   "metadata": {},
   "outputs": [
    {
     "data": {
      "text/plain": [
       "'/workspaces/Daily-Task/Python/learning'"
      ]
     },
     "execution_count": 1,
     "metadata": {},
     "output_type": "execute_result"
    }
   ],
   "source": [
    "%pwd"
   ]
  },
  {
   "cell_type": "code",
   "execution_count": 2,
   "metadata": {},
   "outputs": [
    {
     "data": {
      "text/plain": [
       "0"
      ]
     },
     "execution_count": 2,
     "metadata": {},
     "output_type": "execute_result"
    }
   ],
   "source": [
    "import os\n",
    "os.system('touch example.txt')"
   ]
  },
  {
   "cell_type": "code",
   "execution_count": 3,
   "metadata": {},
   "outputs": [],
   "source": [
    "## Writing a file(Overwriting)\n",
    "with open('example.txt','w') as f:\n",
    "    f.write('Rahul is a good boy and he is also a hardworking guy who love his family')"
   ]
  },
  {
   "cell_type": "code",
   "execution_count": 4,
   "metadata": {},
   "outputs": [
    {
     "name": "stdout",
     "output_type": "stream",
     "text": [
      "Rahul is a good boy and he is also a hardworking guy who love his family"
     ]
    },
    {
     "data": {
      "text/plain": [
       "0"
      ]
     },
     "execution_count": 4,
     "metadata": {},
     "output_type": "execute_result"
    }
   ],
   "source": [
    "os.system('cat example.txt')"
   ]
  },
  {
   "cell_type": "code",
   "execution_count": 5,
   "metadata": {},
   "outputs": [
    {
     "name": "stdout",
     "output_type": "stream",
     "text": [
      "Rahul is a good boy and he is also a hardworking guy who love his family\n"
     ]
    }
   ],
   "source": [
    "with open('example.txt','r') as f:\n",
    "    content=f.read()\n",
    "    print(content)"
   ]
  },
  {
   "cell_type": "code",
   "execution_count": 6,
   "metadata": {},
   "outputs": [],
   "source": [
    "with open('example.txt','w') as f:\n",
    "    f.write('''Rahul is a good boy and \n",
    "he is also a hardworking guy \n",
    "who love his family'''\n",
    ")"
   ]
  },
  {
   "cell_type": "code",
   "execution_count": 7,
   "metadata": {},
   "outputs": [
    {
     "name": "stdout",
     "output_type": "stream",
     "text": [
      "Rahul is a good boy and\n",
      "he is also a hardworking guy\n",
      "who love his family\n"
     ]
    }
   ],
   "source": [
    "with open('example.txt','r') as f:\n",
    "    for line in f:\n",
    "        print(line.strip()) ## strip - removing the extra line or spaces"
   ]
  },
  {
   "cell_type": "code",
   "execution_count": 8,
   "metadata": {},
   "outputs": [],
   "source": [
    "## Writing a file(without Overwriting)\n",
    "with open('example.txt','a') as f:\n",
    "    f.write('\\nWho also love to play chess and baskeball')"
   ]
  },
  {
   "cell_type": "code",
   "execution_count": 9,
   "metadata": {},
   "outputs": [],
   "source": [
    "lines=['\\nFirst line','\\nSecond line','\\nThird line']\n",
    "with open('example.txt','a') as f:\n",
    "    f.writelines(lines)"
   ]
  },
  {
   "cell_type": "code",
   "execution_count": 10,
   "metadata": {},
   "outputs": [
    {
     "name": "stdout",
     "output_type": "stream",
     "text": [
      "This is number of line: 7 \n",
      "This is number of words: 30 \n",
      "This is number of character: 150\n"
     ]
    }
   ],
   "source": [
    "def count_text_file(file_path:str)->str:\n",
    "    with open(file_path,'r') as f:\n",
    "        lines=f.readlines()\n",
    "        line_count=len(lines)\n",
    "        word_count=sum(len(line.split()) for line in lines)\n",
    "        char_count=sum(len(line) for line in lines)\n",
    "    return line_count, word_count, char_count\n",
    "\n",
    "count=count_text_file('example.txt')\n",
    "print(f'This is number of line: {count[0]} \\nThis is number of words: {count[1]} \\nThis is number of character: {count[2]}')"
   ]
  },
  {
   "cell_type": "markdown",
   "metadata": {},
   "source": [
    "##### In Python, the \"w+\" mode opens a file for both reading and writing, creating the file if it doesn't exist and truncating it to zero length if it does."
   ]
  },
  {
   "cell_type": "code",
   "execution_count": 11,
   "metadata": {},
   "outputs": [
    {
     "name": "stdout",
     "output_type": "stream",
     "text": [
      "HEllo World!\n",
      "This a new line\n",
      "\n"
     ]
    }
   ],
   "source": [
    "with open('example.txt','w+') as f:\n",
    "    ## Write the content\n",
    "    f.write('HEllo World!\\n')\n",
    "    f.write('This a new line\\n')\n",
    "\n",
    "    ## Move the cursor to the begining\n",
    "    f.seek(0) ## without this it will display nothing\n",
    "\n",
    "    ## Read the content\n",
    "    content=f.read()\n",
    "    print(content)"
   ]
  },
  {
   "cell_type": "markdown",
   "metadata": {},
   "source": [
    "## Working with file path"
   ]
  },
  {
   "cell_type": "code",
   "execution_count": null,
   "metadata": {},
   "outputs": [
    {
     "name": "stdout",
     "output_type": "stream",
     "text": [
      "Your new directory package is created!\n"
     ]
    }
   ],
   "source": [
    "## create a new directory(dir shouldn't be existing)\n",
    "import os\n",
    "new_directory=\"package\"\n",
    "os.mkdir(new_directory)\n",
    "os.system(f'touch {new_directory}/__init__.py')\n",
    "print(f'Your new directory {new_directory} is created!')"
   ]
  },
  {
   "cell_type": "code",
   "execution_count": 16,
   "metadata": {},
   "outputs": [
    {
     "name": "stdout",
     "output_type": "stream",
     "text": [
      "['package', 'example.txt', 'file-handling.ipynb']\n"
     ]
    }
   ],
   "source": [
    "## Listing file and directory\n",
    "items=os.listdir('.')\n",
    "print(items)"
   ]
  },
  {
   "cell_type": "code",
   "execution_count": 17,
   "metadata": {},
   "outputs": [
    {
     "name": "stdout",
     "output_type": "stream",
     "text": [
      "package/main.py\n"
     ]
    }
   ],
   "source": [
    "## Joining Paths\n",
    "new_directory='package'\n",
    "file_name='main.py'\n",
    "full_path=os.path.join(new_directory,file_name)\n",
    "print(full_path)"
   ]
  },
  {
   "cell_type": "code",
   "execution_count": 18,
   "metadata": {},
   "outputs": [
    {
     "name": "stdout",
     "output_type": "stream",
     "text": [
      "/workspaces/Daily-Task/Python/learning/package/main.py\n"
     ]
    }
   ],
   "source": [
    "new_directory='package'\n",
    "file_name='main.py'\n",
    "full_path=os.path.join(os.getcwd(),new_directory,file_name)\n",
    "print(full_path)"
   ]
  },
  {
   "cell_type": "code",
   "execution_count": 25,
   "metadata": {},
   "outputs": [
    {
     "name": "stdout",
     "output_type": "stream",
     "text": [
      "The path 'package' exists!\n"
     ]
    }
   ],
   "source": [
    "path='package'\n",
    "if os.path.exists(path):\n",
    "    print(f\"The path '{path}' exists!\")\n",
    "else:\n",
    "    print(f\"The path {path} doesn't exists!\")"
   ]
  },
  {
   "cell_type": "code",
   "execution_count": 27,
   "metadata": {},
   "outputs": [
    {
     "name": "stdout",
     "output_type": "stream",
     "text": [
      "The path 'main.py' doesn't exists!\n"
     ]
    }
   ],
   "source": [
    "path='main.py'\n",
    "if os.path.exists(path):\n",
    "    print(f\"The path '{path}' exists!\")\n",
    "else:\n",
    "    print(f\"The path '{path}' doesn't exists!\")"
   ]
  },
  {
   "cell_type": "code",
   "execution_count": null,
   "metadata": {},
   "outputs": [],
   "source": []
  }
 ],
 "metadata": {
  "kernelspec": {
   "display_name": "Python 3",
   "language": "python",
   "name": "python3"
  },
  "language_info": {
   "codemirror_mode": {
    "name": "ipython",
    "version": 3
   },
   "file_extension": ".py",
   "mimetype": "text/x-python",
   "name": "python",
   "nbconvert_exporter": "python",
   "pygments_lexer": "ipython3",
   "version": "3.12.1"
  }
 },
 "nbformat": 4,
 "nbformat_minor": 2
}
