{
 "cells": [
  {
   "cell_type": "markdown",
   "metadata": {},
   "source": [
    "## Free GROQ MODEL"
   ]
  },
  {
   "cell_type": "code",
   "execution_count": null,
   "metadata": {},
   "outputs": [],
   "source": [
    "import os\n",
    "from dotenv import load_dotenv\n",
    "from langchain_groq import ChatGroq\n",
    "load_dotenv()\n",
    "\n",
    "os.environ['GROQ_API_KEY']=os.getenv('GROQ_API_KEY')\n",
    "llm = ChatGroq(model=\"qwen-2.5-32b\")"
   ]
  },
  {
   "cell_type": "markdown",
   "metadata": {},
   "source": [
    "# Free Gemini Model"
   ]
  },
  {
   "cell_type": "code",
   "execution_count": null,
   "metadata": {},
   "outputs": [],
   "source": [
    "from dotenv import load_dotenv\n",
    "import os\n",
    "load_dotenv()\n",
    "api_key = os.getenv(\"GOOGLE_API_KEY\")\n",
    "\n",
    "from google import genai\n",
    "\n",
    "client = genai.Client(api_key=api_key)\n",
    "\n",
    "response = client.models.generate_content(\n",
    "    model=\"gemini-2.0-flash\", contents=\"Explain how AI works in a few words\"\n",
    ")\n",
    "print(response.text)"
   ]
  },
  {
   "cell_type": "code",
   "execution_count": 4,
   "metadata": {},
   "outputs": [
    {
     "name": "stdout",
     "output_type": "stream",
     "text": [
      "name='Abraham Lincoln' height_m=1.93\n"
     ]
    }
   ],
   "source": [
    "from pydantic import BaseModel, Field\n",
    "from langchain_google_genai import ChatGoogleGenerativeAI\n",
    "from dotenv import load_dotenv\n",
    "load_dotenv()\n",
    "import os\n",
    "\n",
    "os.environ[\"GOOGLE_API_KEY\"] = os.getenv(\"GOOGLE_API_KEY\")\n",
    "\n",
    "\n",
    "\n",
    "# Define the desired structure\n",
    "class Person(BaseModel):\n",
    "    \"\"\"Information about a person.\"\"\"\n",
    "\n",
    "    name: str = Field(..., description=\"The person's name\")\n",
    "    height_m: float = Field(..., description=\"The person's height in meters\")\n",
    "\n",
    "\n",
    "# Initialize the model\n",
    "llm = ChatGoogleGenerativeAI(model=\"gemini-2.0-flash\", temperature=0)\n",
    "structured_llm = llm.with_structured_output(Person)\n",
    "\n",
    "# Invoke the model with a query asking for structured information\n",
    "result = structured_llm.invoke(\n",
    "    \"Who was the 16th president of the USA, and how tall was he in meters?\"\n",
    ")\n",
    "print(result)"
   ]
  },
  {
   "cell_type": "markdown",
   "metadata": {},
   "source": [
    "## Free Tools DuckDuckGo"
   ]
  },
  {
   "cell_type": "code",
   "execution_count": 1,
   "metadata": {},
   "outputs": [
    {
     "data": {
      "text/plain": [
       "\"snippet: Samay Raina was born on October 26, 1997, in Jammu, India, into a Kashmiri Hindu family. His father, Rajesh Raina, is a journalist who worked for media outlets like Doordarshan, while his mother, Sweeti Raina, left her job to raise Samay. The family had to relocate multiple times during the exodus of Kashmiri Pandits, first moving to Delhi and ..., title: Samay Raina Biography: Wiki, Bio, Age, Height, Family, Careers ..., link: https://biographyexpress.com/samay-raina-biography/, snippet: News News: Discover the journey of Samay Raina, the sensational comedian and star panellist of India's Got Latent, known for his unique humor and love for chess, alongside his recent controversies., title: Who is Samay Raina? All you need to know about India's Got Latent's ..., link: https://timesofindia.indiatimes.com/web-series/news/hindi/who-is-samay-raina-all-you-need-to-know-about-indias-got-latents-star-panellist/articleshow/118001057.cms, snippet: Samay Raina is one of the most discussed stand-up comics currently, partly due to the controversy that erupted over his widely viral parody show India's Got Latent. However, behind the row is a man who walked the road less traveled and turned it around for himself, becoming one of the fastest-growing YouTubers in India. ..., title: Who Is Samay Raina? India's Got Latent Creator And Stand-Up Comedian ..., link: https://www.republicworld.com/entertainment/who-is-samay-raina-india-s-got-latent-creator-and-stand-up-comedian-who-gained-fame-for-kashmir-jokes-dark-humour-chess-streaming, snippet: Samay Raina is an Indian stand-up comedian, YouTuber, and chess streamer known for his unique humor and love for chess. He gained widespread recognition through his comedy performances and online chess collaborations with top grandmasters. Profession(s) Stand-up Comedian, YouTuber, Chess Streamer Hometown Jammu, India Samay Raina Bio/Wiki Name ..., title: Samay Raina Biography Net Worth, Age, Family, Girlfriend & More, link: https://www.digitalgabbar.com/bio/samay-raina-biography/\""
      ]
     },
     "execution_count": 1,
     "metadata": {},
     "output_type": "execute_result"
    }
   ],
   "source": [
    "### Search\n",
    "\n",
    "from langchain_community.tools import DuckDuckGoSearchResults\n",
    "\n",
    "tool = DuckDuckGoSearchResults()\n",
    "\n",
    "tool.invoke('Who is Samay Raina?')"
   ]
  },
  {
   "cell_type": "code",
   "execution_count": 5,
   "metadata": {},
   "outputs": [
    {
     "name": "stdout",
     "output_type": "stream",
     "text": [
      "[{'title': 'Welcome to Python.org', 'href': 'https://www.python.org/', 'body': 'Python is a versatile and easy-to-learn programming language that lets you work quickly and integrate systems more effectively. Learn Python basics, download the latest version, access documentation, find jobs, events, success stories and more on the official website.'}, {'title': 'Python For Beginners | Python.org', 'href': 'https://www.python.org/about/gettingstarted/', 'body': 'Learn how to get started with Python, a popular and easy-to-use programming language. Find out how to install, edit, and use Python, and explore its libraries, documentation, and community resources.'}, {'title': 'Python (programming language) - Wikipedia', 'href': 'https://en.wikipedia.org/wiki/Python_(programming_language)', 'body': 'Learn about Python, a high-level, general-purpose programming language with a comprehensive standard library and multiple paradigms. Find out its history, features, implementations, dialects, and influences.'}, {'title': 'Python Tutorial - W3Schools', 'href': 'https://www.w3schools.com/python/', 'body': 'W3Schools offers a comprehensive and interactive Python tutorial with examples, exercises, quizzes, and references. Learn how to create web applications, handle files and databases, and get certified by completing the PYTHON course.'}, {'title': 'Python Tutorial | Learn Python Programming Language - GeeksforGeeks', 'href': 'https://www.geeksforgeeks.org/python-programming-language-tutorial/', 'body': 'Python is an object oriented programming language which encapsulates code within object. Python is cross-platform which works on Windows, Mac and Linux without major changes. Python is used by big companies like Google, Netflix and NASA. First Python Program. Here is a simple Python code, printing a string.'}]\n"
     ]
    }
   ],
   "source": [
    "from duckduckgo_search import DDGS\n",
    "\n",
    "results = DDGS().text(\"python programming\", max_results=5)\n",
    "print(results)"
   ]
  },
  {
   "cell_type": "markdown",
   "metadata": {},
   "source": [
    "## Free Embedding Hugging Face MODEL"
   ]
  },
  {
   "cell_type": "code",
   "execution_count": null,
   "metadata": {},
   "outputs": [],
   "source": [
    "import os\n",
    "from dotenv import load_dotenv\n",
    "from langchain_huggingface import HuggingFaceEmbeddings\n",
    "\n",
    "load_dotenv()\n",
    "os.environ['HF_TOKEN']=os.getenv('HF_TOKEN')\n",
    "\n",
    "embedding=HuggingFaceEmbeddings(model_name=\"all-MiniLM-L6-v2\")"
   ]
  },
  {
   "cell_type": "markdown",
   "metadata": {},
   "source": [
    "## Logger"
   ]
  },
  {
   "cell_type": "code",
   "execution_count": null,
   "metadata": {},
   "outputs": [],
   "source": [
    "import logging\n",
    "\n",
    "# Create and configure logger\n",
    "logging.basicConfig(filename=\"newfile.log\",\n",
    "                    format='%(asctime)s %(message)s',\n",
    "                    filemode='w')\n",
    "\n",
    "# Creating an object\n",
    "logger = logging.getLogger()"
   ]
  },
  {
   "cell_type": "code",
   "execution_count": null,
   "metadata": {},
   "outputs": [],
   "source": []
  }
 ],
 "metadata": {
  "kernelspec": {
   "display_name": "Python 3",
   "language": "python",
   "name": "python3"
  },
  "language_info": {
   "codemirror_mode": {
    "name": "ipython",
    "version": 3
   },
   "file_extension": ".py",
   "mimetype": "text/x-python",
   "name": "python",
   "nbconvert_exporter": "python",
   "pygments_lexer": "ipython3",
   "version": "3.12.1"
  }
 },
 "nbformat": 4,
 "nbformat_minor": 2
}
