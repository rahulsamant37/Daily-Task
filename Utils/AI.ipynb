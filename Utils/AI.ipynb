{
 "cells": [
  {
   "cell_type": "markdown",
   "metadata": {},
   "source": [
    "## Free GROQ MODEL"
   ]
  },
  {
   "cell_type": "code",
   "execution_count": null,
   "metadata": {},
   "outputs": [],
   "source": [
    "import os\n",
    "from dotenv import load_dotenv\n",
    "from langchain_groq import ChatGroq\n",
    "load_dotenv()\n",
    "\n",
    "os.environ['GROQ_API_KEY']=os.getenv('GROQ_API_KEY')\n",
    "llm = ChatGroq(model=\"qwen-2.5-32b\")"
   ]
  },
  {
   "cell_type": "markdown",
   "metadata": {},
   "source": [
    "## Free Tools DuckDuckGo"
   ]
  },
  {
   "cell_type": "code",
   "execution_count": 1,
   "metadata": {},
   "outputs": [
    {
     "data": {
      "text/plain": [
       "\"snippet: Samay Raina was born on October 26, 1997, in Jammu, India, into a Kashmiri Hindu family. His father, Rajesh Raina, is a journalist who worked for media outlets like Doordarshan, while his mother, Sweeti Raina, left her job to raise Samay. The family had to relocate multiple times during the exodus of Kashmiri Pandits, first moving to Delhi and ..., title: Samay Raina Biography: Wiki, Bio, Age, Height, Family, Careers ..., link: https://biographyexpress.com/samay-raina-biography/, snippet: News News: Discover the journey of Samay Raina, the sensational comedian and star panellist of India's Got Latent, known for his unique humor and love for chess, alongside his recent controversies., title: Who is Samay Raina? All you need to know about India's Got Latent's ..., link: https://timesofindia.indiatimes.com/web-series/news/hindi/who-is-samay-raina-all-you-need-to-know-about-indias-got-latents-star-panellist/articleshow/118001057.cms, snippet: Samay Raina is one of the most discussed stand-up comics currently, partly due to the controversy that erupted over his widely viral parody show India's Got Latent. However, behind the row is a man who walked the road less traveled and turned it around for himself, becoming one of the fastest-growing YouTubers in India. ..., title: Who Is Samay Raina? India's Got Latent Creator And Stand-Up Comedian ..., link: https://www.republicworld.com/entertainment/who-is-samay-raina-india-s-got-latent-creator-and-stand-up-comedian-who-gained-fame-for-kashmir-jokes-dark-humour-chess-streaming, snippet: Samay Raina is an Indian stand-up comedian, YouTuber, and chess streamer known for his unique humor and love for chess. He gained widespread recognition through his comedy performances and online chess collaborations with top grandmasters. Profession(s) Stand-up Comedian, YouTuber, Chess Streamer Hometown Jammu, India Samay Raina Bio/Wiki Name ..., title: Samay Raina Biography Net Worth, Age, Family, Girlfriend & More, link: https://www.digitalgabbar.com/bio/samay-raina-biography/\""
      ]
     },
     "execution_count": 1,
     "metadata": {},
     "output_type": "execute_result"
    }
   ],
   "source": [
    "### Search\n",
    "\n",
    "from langchain_community.tools import DuckDuckGoSearchResults\n",
    "\n",
    "tool = DuckDuckGoSearchResults()\n",
    "\n",
    "tool.invoke('Who is Samay Raina?')"
   ]
  },
  {
   "cell_type": "markdown",
   "metadata": {},
   "source": [
    "## Free Embedding Hugging Face MODEL"
   ]
  },
  {
   "cell_type": "code",
   "execution_count": null,
   "metadata": {},
   "outputs": [],
   "source": [
    "import os\n",
    "from dotenv import load_dotenv\n",
    "from langchain_huggingface import HuggingFaceEmbeddings\n",
    "\n",
    "load_dotenv()\n",
    "os.environ['HF_TOKEN']=os.getenv('HF_TOKEN')\n",
    "\n",
    "embedding=HuggingFaceEmbeddings(model_name=\"all-MiniLM-L6-v2\")"
   ]
  },
  {
   "cell_type": "markdown",
   "metadata": {},
   "source": [
    "## Logger"
   ]
  },
  {
   "cell_type": "code",
   "execution_count": null,
   "metadata": {},
   "outputs": [],
   "source": [
    "import logging\n",
    "\n",
    "# Create and configure logger\n",
    "logging.basicConfig(filename=\"newfile.log\",\n",
    "                    format='%(asctime)s %(message)s',\n",
    "                    filemode='w')\n",
    "\n",
    "# Creating an object\n",
    "logger = logging.getLogger()"
   ]
  },
  {
   "cell_type": "code",
   "execution_count": null,
   "metadata": {},
   "outputs": [],
   "source": []
  }
 ],
 "metadata": {
  "kernelspec": {
   "display_name": "venv",
   "language": "python",
   "name": "python3"
  },
  "language_info": {
   "codemirror_mode": {
    "name": "ipython",
    "version": 3
   },
   "file_extension": ".py",
   "mimetype": "text/x-python",
   "name": "python",
   "nbconvert_exporter": "python",
   "pygments_lexer": "ipython3",
   "version": "3.12.7"
  }
 },
 "nbformat": 4,
 "nbformat_minor": 2
}
