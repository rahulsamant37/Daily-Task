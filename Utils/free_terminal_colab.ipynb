{
 "cells": [
  {
   "cell_type": "code",
   "execution_count": null,
   "id": "a57e2ada",
   "metadata": {},
   "outputs": [],
   "source": [
    "!pip install colab-xterm"
   ]
  },
  {
   "cell_type": "code",
   "execution_count": null,
   "id": "bf0a0eab",
   "metadata": {},
   "outputs": [],
   "source": [
    "%load_ext colabxterm"
   ]
  },
  {
   "cell_type": "code",
   "execution_count": null,
   "metadata": {},
   "outputs": [],
   "source": [
    "%xterm\n",
    "\n",
    "# Once it starts, run this.\n",
    "\n",
    "# curl -fsSL https://ollama.com/install.sh | sh\n",
    "\n",
    "# ollama serve after model runs"
   ]
  }
 ],
 "metadata": {
  "language_info": {
   "name": "python"
  }
 },
 "nbformat": 4,
 "nbformat_minor": 5
}
