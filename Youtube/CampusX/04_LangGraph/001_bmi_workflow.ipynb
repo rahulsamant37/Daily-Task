{
 "cells": [
  {
   "cell_type": "code",
   "execution_count": 26,
   "id": "1c5ec031",
   "metadata": {},
   "outputs": [],
   "source": [
    "from langgraph.graph import StateGraph, START, END\n",
    "from typing import TypedDict"
   ]
  },
  {
   "cell_type": "code",
   "execution_count": 40,
   "id": "0fa29c80",
   "metadata": {},
   "outputs": [],
   "source": [
    "## Define State\n",
    "class BMIState(TypedDict):\n",
    "    weight_kg: float\n",
    "    height_m: float\n",
    "    bmi: float\n",
    "    category: str"
   ]
  },
  {
   "cell_type": "code",
   "execution_count": 41,
   "metadata": {},
   "outputs": [],
   "source": [
    "def bmi(state: BMIState) -> BMIState:\n",
    "    \"\"\"\n",
    "    A helpful function to calculate BMI\n",
    "    \"\"\"\n",
    "    weight = state['weight_kg']\n",
    "    height = state['height_m']\n",
    "    state['bmi'] = round((weight / (height**2)), 2)\n",
    "    return state\n",
    "\n",
    "def label_bmi(state: BMIState) -> BMIState:\n",
    "    \"\"\"\n",
    "    This is a function to Label category based on bmi\n",
    "    \"\"\"\n",
    "    bmi = state['bmi']\n",
    "    if bmi < 18:\n",
    "        state['category'] = 'underfit'\n",
    "    elif bmi >18 and bmi<24:\n",
    "        state['category'] = 'fit'\n",
    "    else:\n",
    "        state['category'] = 'overfit'\n",
    "    return state"
   ]
  },
  {
   "cell_type": "code",
   "execution_count": 42,
   "metadata": {},
   "outputs": [
    {
     "data": {
      "image/png": "[encoded data removed]",
      "text/plain": [
       "<IPython.core.display.Image object>"
      ]
     },
     "metadata": {},
     "output_type": "display_data"
    }
   ],
   "source": [
    "builder = StateGraph(BMIState)\n",
    "\n",
    "## Adding Node\n",
    "builder.add_node(\"BMI\", bmi)\n",
    "builder.add_node('label', label_bmi)\n",
    "\n",
    "## Adding Edges\n",
    "builder.add_edge(START, \"BMI\")\n",
    "builder.add_edge('BMI', 'label')\n",
    "builder.add_edge(\"label\", END)\n",
    "\n",
    "## Complie\n",
    "graph = builder.compile()\n",
    "\n",
    "from IPython.display import display, Image\n",
    "display(Image(graph.get_graph().draw_mermaid_png()))"
   ]
  },
  {
   "cell_type": "code",
   "execution_count": 45,
   "id": "6f95b615",
   "metadata": {},
   "outputs": [
    {
     "name": "stdout",
     "output_type": "stream",
     "text": [
      "weight_kg     ->      70.0\n",
      "height_m     ->      1.75\n",
      "bmi     ->      22.86\n",
      "category     ->      fit\n"
     ]
    }
   ],
   "source": [
    "result = graph.invoke({\"weight_kg\": 70.00, 'height_m': 1.75})\n",
    "\n",
    "for k,v in result.items():\n",
    "    print(f\"{k}     ->      {v}\")"
   ]
  },
  {
   "cell_type": "code",
   "execution_count": 46,
   "metadata": {},
   "outputs": [
    {
     "name": "stdout",
     "output_type": "stream",
     "text": [
      "weight_kg     ->      90.0\n",
      "height_m     ->      1.75\n",
      "bmi     ->      29.39\n",
      "category     ->      overfit\n"
     ]
    }
   ],
   "source": [
    "result = graph.invoke({\"weight_kg\": 90.00, 'height_m': 1.75})\n",
    "\n",
    "for k,v in result.items():\n",
    "    print(f\"{k}     ->      {v}\")"
   ]
  },
  {
   "cell_type": "code",
   "execution_count": null,
   "id": "0114b785",
   "metadata": {},
   "outputs": [],
   "source": []
  }
 ],
 "metadata": {
  "kernelspec": {
   "display_name": "daily-task",
   "language": "python",
   "name": "python3"
  },
  "language_info": {
   "codemirror_mode": {
    "name": "ipython",
    "version": 3
   },
   "file_extension": ".py",
   "mimetype": "text/x-python",
   "name": "python",
   "nbconvert_exporter": "python",
   "pygments_lexer": "ipython3",
   "version": "3.12.0"
  }
 },
 "nbformat": 4,
 "nbformat_minor": 5
}
