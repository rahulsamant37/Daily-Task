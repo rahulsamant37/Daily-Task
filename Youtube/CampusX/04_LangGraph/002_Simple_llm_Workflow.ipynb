{
 "cells": [
  {
   "cell_type": "code",
   "execution_count": 10,
   "id": "55527c2a",
   "metadata": {},
   "outputs": [
    {
     "data": {
      "text/plain": [
       "True"
      ]
     },
     "execution_count": 10,
     "metadata": {},
     "output_type": "execute_result"
    }
   ],
   "source": [
    "from langgraph.graph import StateGraph, START, END\n",
    "from langchain_google_genai import ChatGoogleGenerativeAI\n",
    "from typing import TypedDict\n",
    "\n",
    "from dotenv import load_dotenv\n",
    "load_dotenv()"
   ]
  },
  {
   "cell_type": "code",
   "execution_count": 11,
   "id": "24fa9a08",
   "metadata": {},
   "outputs": [],
   "source": [
    "llm = ChatGoogleGenerativeAI(model=\"gemini-2.5-flash\")"
   ]
  },
  {
   "cell_type": "code",
   "execution_count": 12,
   "id": "0359e00b",
   "metadata": {},
   "outputs": [],
   "source": [
    "## Create State\n",
    "class LLMState(TypedDict):\n",
    "    ques: str\n",
    "    ans: str"
   ]
  },
  {
   "cell_type": "code",
   "execution_count": 13,
   "id": "2aa00c59",
   "metadata": {},
   "outputs": [],
   "source": [
    "def llm_calling(state: LLMState) -> LLMState:\n",
    "    ques = state['ques']\n",
    "    state['ans'] = llm.invoke(ques).content\n",
    "    return state"
   ]
  },
  {
   "cell_type": "code",
   "execution_count": 14,
   "id": "70cbce03",
   "metadata": {},
   "outputs": [
    {
     "data": {
      "image/png": "[encoded data removed]",
      "text/plain": [
       "<IPython.core.display.Image object>"
      ]
     },
     "metadata": {},
     "output_type": "display_data"
    }
   ],
   "source": [
    "builder = StateGraph(LLMState)\n",
    "\n",
    "## Define Node\n",
    "builder.add_node(\"LLM\", llm_calling)\n",
    "\n",
    "## Define Edge\n",
    "builder.add_edge(START, \"LLM\")\n",
    "builder.add_edge(\"LLM\", END)\n",
    "\n",
    "## Complie\n",
    "graph = builder.compile()\n",
    "\n",
    "## Draw mermaid\n",
    "from IPython.display import display, Image\n",
    "display(Image(graph.get_graph().draw_mermaid_png()))"
   ]
  },
  {
   "cell_type": "code",
   "execution_count": 15,
   "id": "600b3d09",
   "metadata": {},
   "outputs": [
    {
     "data": {
      "text/plain": [
       "{'ques': 'Who is the first persident of INDIA?',\n",
       " 'ans': 'The first President of India was **Dr. Rajendra Prasad**.'}"
      ]
     },
     "execution_count": 15,
     "metadata": {},
     "output_type": "execute_result"
    }
   ],
   "source": [
    "graph.invoke({'ques': 'Who is the first persident of INDIA?'})"
   ]
  },
  {
   "cell_type": "code",
   "execution_count": null,
   "id": "b2e2a710",
   "metadata": {},
   "outputs": [],
   "source": []
  }
 ],
 "metadata": {
  "kernelspec": {
   "display_name": "daily-task",
   "language": "python",
   "name": "python3"
  },
  "language_info": {
   "codemirror_mode": {
    "name": "ipython",
    "version": 3
   },
   "file_extension": ".py",
   "mimetype": "text/x-python",
   "name": "python",
   "nbconvert_exporter": "python",
   "pygments_lexer": "ipython3",
   "version": "3.12.0"
  }
 },
 "nbformat": 4,
 "nbformat_minor": 5
}
