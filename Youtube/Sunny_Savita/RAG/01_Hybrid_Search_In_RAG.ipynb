{
  "cells": [
    {
      "cell_type": "code",
      "execution_count": 1,
      "metadata": {
        "id": "BuHwt-A05dUL"
      },
      "outputs": [],
      "source": [
        "!pip install -qU chromadb"
      ]
    },
    {
      "cell_type": "code",
      "execution_count": 2,
      "metadata": {
        "colab": {
          "base_uri": "https://localhost:8080/"
        },
        "id": "8DWRLu_3FnGo",
        "outputId": "2f1236b9-fdab-4854-bb7b-ada1a11a34b4"
      },
      "outputs": [
        {
          "name": "stdout",
          "output_type": "stream",
          "text": [
            "Requirement already satisfied: bitsandbytes in /usr/local/lib/python3.11/dist-packages (0.46.0)\n",
            "Requirement already satisfied: torch<3,>=2.2 in /usr/local/lib/python3.11/dist-packages (from bitsandbytes) (2.6.0+cu124)\n",
            "Requirement already satisfied: numpy>=1.17 in /usr/local/lib/python3.11/dist-packages (from bitsandbytes) (2.0.2)\n",
            "Requirement already satisfied: filelock in /usr/local/lib/python3.11/dist-packages (from torch<3,>=2.2->bitsandbytes) (3.18.0)\n",
            "Requirement already satisfied: typing-extensions>=4.10.0 in /usr/local/lib/python3.11/dist-packages (from torch<3,>=2.2->bitsandbytes) (4.14.0)\n",
            "Requirement already satisfied: networkx in /usr/local/lib/python3.11/dist-packages (from torch<3,>=2.2->bitsandbytes) (3.5)\n",
            "Requirement already satisfied: jinja2 in /usr/local/lib/python3.11/dist-packages (from torch<3,>=2.2->bitsandbytes) (3.1.6)\n",
            "Requirement already satisfied: fsspec in /usr/local/lib/python3.11/dist-packages (from torch<3,>=2.2->bitsandbytes) (2025.3.2)\n",
            "Requirement already satisfied: nvidia-cuda-nvrtc-cu12==12.4.127 in /usr/local/lib/python3.11/dist-packages (from torch<3,>=2.2->bitsandbytes) (12.4.127)\n",
            "Requirement already satisfied: nvidia-cuda-runtime-cu12==12.4.127 in /usr/local/lib/python3.11/dist-packages (from torch<3,>=2.2->bitsandbytes) (12.4.127)\n",
            "Requirement already satisfied: nvidia-cuda-cupti-cu12==12.4.127 in /usr/local/lib/python3.11/dist-packages (from torch<3,>=2.2->bitsandbytes) (12.4.127)\n",
            "Requirement already satisfied: nvidia-cudnn-cu12==9.1.0.70 in /usr/local/lib/python3.11/dist-packages (from torch<3,>=2.2->bitsandbytes) (9.1.0.70)\n",
            "Requirement already satisfied: nvidia-cublas-cu12==12.4.5.8 in /usr/local/lib/python3.11/dist-packages (from torch<3,>=2.2->bitsandbytes) (12.4.5.8)\n",
            "Requirement already satisfied: nvidia-cufft-cu12==11.2.1.3 in /usr/local/lib/python3.11/dist-packages (from torch<3,>=2.2->bitsandbytes) (11.2.1.3)\n",
            "Requirement already satisfied: nvidia-curand-cu12==10.3.5.147 in /usr/local/lib/python3.11/dist-packages (from torch<3,>=2.2->bitsandbytes) (10.3.5.147)\n",
            "Requirement already satisfied: nvidia-cusolver-cu12==11.6.1.9 in /usr/local/lib/python3.11/dist-packages (from torch<3,>=2.2->bitsandbytes) (11.6.1.9)\n",
            "Requirement already satisfied: nvidia-cusparse-cu12==12.3.1.170 in /usr/local/lib/python3.11/dist-packages (from torch<3,>=2.2->bitsandbytes) (12.3.1.170)\n",
            "Requirement already satisfied: nvidia-cusparselt-cu12==0.6.2 in /usr/local/lib/python3.11/dist-packages (from torch<3,>=2.2->bitsandbytes) (0.6.2)\n",
            "Requirement already satisfied: nvidia-nccl-cu12==2.21.5 in /usr/local/lib/python3.11/dist-packages (from torch<3,>=2.2->bitsandbytes) (2.21.5)\n",
            "Requirement already satisfied: nvidia-nvtx-cu12==12.4.127 in /usr/local/lib/python3.11/dist-packages (from torch<3,>=2.2->bitsandbytes) (12.4.127)\n",
            "Requirement already satisfied: nvidia-nvjitlink-cu12==12.4.127 in /usr/local/lib/python3.11/dist-packages (from torch<3,>=2.2->bitsandbytes) (12.4.127)\n",
            "Requirement already satisfied: triton==3.2.0 in /usr/local/lib/python3.11/dist-packages (from torch<3,>=2.2->bitsandbytes) (3.2.0)\n",
            "Requirement already satisfied: sympy==1.13.1 in /usr/local/lib/python3.11/dist-packages (from torch<3,>=2.2->bitsandbytes) (1.13.1)\n",
            "Requirement already satisfied: mpmath<1.4,>=1.1.0 in /usr/local/lib/python3.11/dist-packages (from sympy==1.13.1->torch<3,>=2.2->bitsandbytes) (1.3.0)\n",
            "Requirement already satisfied: MarkupSafe>=2.0 in /usr/local/lib/python3.11/dist-packages (from jinja2->torch<3,>=2.2->bitsandbytes) (3.0.2)\n"
          ]
        }
      ],
      "source": [
        "pip install -U bitsandbytes"
      ]
    },
    {
      "cell_type": "code",
      "execution_count": 3,
      "metadata": {
        "id": "1SLNeyK1hcGd"
      },
      "outputs": [],
      "source": [
        "from sklearn.feature_extraction.text import TfidfVectorizer\n",
        "from sklearn.metrics.pairwise import cosine_similarity\n",
        "import numpy as np"
      ]
    },
    {
      "cell_type": "code",
      "execution_count": 4,
      "metadata": {
        "id": "2OQIg-FIhxfV"
      },
      "outputs": [],
      "source": [
        "# Sample documents\n",
        "documents = [\n",
        "    \"This is a list which containing sample documents.\",\n",
        "    \"Keywords are important for keyword-based search.\",\n",
        "    \"Document analysis involves extracting keywords.\",\n",
        "    \"Keyword-based search relies on spare embeddings.\"\n",
        "]"
      ]
    },
    {
      "cell_type": "code",
      "execution_count": 5,
      "metadata": {
        "id": "tm4i9Rn2iT5S"
      },
      "outputs": [],
      "source": [
        "query = \"keyword-based search\""
      ]
    },
    {
      "cell_type": "code",
      "execution_count": 6,
      "metadata": {
        "id": "6FiNjOeuifFA"
      },
      "outputs": [],
      "source": [
        "import re\n",
        "def preprocess_text(text):\n",
        "    # Convert to lowercase\n",
        "    text = text.lower()\n",
        "    # Remove special characters and punctuation\n",
        "    text = re.sub(r'[^a-zA-Z0-9\\s]', '', text)\n",
        "    return text"
      ]
    },
    {
      "cell_type": "code",
      "execution_count": 7,
      "metadata": {
        "id": "eGs_LfjVilcK"
      },
      "outputs": [],
      "source": [
        "preprocess_documents = list(map(preprocess_text, documents))"
      ]
    },
    {
      "cell_type": "code",
      "execution_count": 8,
      "metadata": {
        "colab": {
          "base_uri": "https://localhost:8080/"
        },
        "id": "TWAbifC4i2o_",
        "outputId": "63b5f44c-d42f-450b-c133-5deebf705081"
      },
      "outputs": [
        {
          "data": {
            "text/plain": [
              "['this is a list which containing sample documents',\n",
              " 'keywords are important for keywordbased search',\n",
              " 'document analysis involves extracting keywords',\n",
              " 'keywordbased search relies on spare embeddings']"
            ]
          },
          "execution_count": 8,
          "metadata": {},
          "output_type": "execute_result"
        }
      ],
      "source": [
        "preprocess_documents"
      ]
    },
    {
      "cell_type": "code",
      "execution_count": 9,
      "metadata": {
        "colab": {
          "base_uri": "https://localhost:8080/"
        },
        "id": "zSosLFVbi60K",
        "outputId": "fac87afe-31e5-41b0-b12e-f8bdf574c480"
      },
      "outputs": [
        {
          "name": "stdout",
          "output_type": "stream",
          "text": [
            "Preprocessed Documents:\n",
            "Document 1: this is a list which containing sample documents\n",
            "Document 2: keywords are important for keywordbased search\n",
            "Document 3: document analysis involves extracting keywords\n",
            "Document 4: keywordbased search relies on spare embeddings\n"
          ]
        }
      ],
      "source": [
        "print(\"Preprocessed Documents:\")\n",
        "for idx, doc in enumerate(preprocess_documents):\n",
        "    print(f\"Document {idx + 1}: {doc}\")"
      ]
    },
    {
      "cell_type": "code",
      "execution_count": 10,
      "metadata": {
        "colab": {
          "base_uri": "https://localhost:8080/",
          "height": 36
        },
        "id": "setyMQbrjJTn",
        "outputId": "27fcc7d7-04c8-463e-ea64-ec486c70283e"
      },
      "outputs": [
        {
          "data": {
            "application/vnd.google.colaboratory.intrinsic+json": {
              "type": "string"
            },
            "text/plain": [
              "'keywordbased search'"
            ]
          },
          "execution_count": 10,
          "metadata": {},
          "output_type": "execute_result"
        }
      ],
      "source": [
        "preprocessed_query = preprocess_text(query)\n",
        "preprocessed_query"
      ]
    },
    {
      "cell_type": "code",
      "execution_count": 11,
      "metadata": {
        "id": "SIwiuq2hjTAi"
      },
      "outputs": [],
      "source": [
        "vector = TfidfVectorizer()"
      ]
    },
    {
      "cell_type": "code",
      "execution_count": 12,
      "metadata": {
        "id": "Rz7N8BfqjiRC"
      },
      "outputs": [],
      "source": [
        "X = vector.fit_transform(preprocess_documents)"
      ]
    },
    {
      "cell_type": "code",
      "execution_count": 13,
      "metadata": {
        "colab": {
          "base_uri": "https://localhost:8080/"
        },
        "id": "y256K9-2jlgp",
        "outputId": "adf6dee7-17e3-489c-92f2-fe67165a76f6"
      },
      "outputs": [
        {
          "data": {
            "text/plain": [
              "array([[0.        , 0.        , 0.37796447, 0.        , 0.37796447,\n",
              "        0.        , 0.        , 0.        , 0.        , 0.        ,\n",
              "        0.37796447, 0.        , 0.        , 0.37796447, 0.        ,\n",
              "        0.        , 0.37796447, 0.        , 0.        , 0.37796447,\n",
              "        0.37796447],\n",
              "       [0.        , 0.4533864 , 0.        , 0.        , 0.        ,\n",
              "        0.        , 0.        , 0.4533864 , 0.4533864 , 0.        ,\n",
              "        0.        , 0.35745504, 0.35745504, 0.        , 0.        ,\n",
              "        0.        , 0.        , 0.35745504, 0.        , 0.        ,\n",
              "        0.        ],\n",
              "       [0.46516193, 0.        , 0.        , 0.46516193, 0.        ,\n",
              "        0.        , 0.46516193, 0.        , 0.        , 0.46516193,\n",
              "        0.        , 0.        , 0.36673901, 0.        , 0.        ,\n",
              "        0.        , 0.        , 0.        , 0.        , 0.        ,\n",
              "        0.        ],\n",
              "       [0.        , 0.        , 0.        , 0.        , 0.        ,\n",
              "        0.43671931, 0.        , 0.        , 0.        , 0.        ,\n",
              "        0.        , 0.34431452, 0.        , 0.        , 0.43671931,\n",
              "        0.43671931, 0.        , 0.34431452, 0.43671931, 0.        ,\n",
              "        0.        ]])"
            ]
          },
          "execution_count": 13,
          "metadata": {},
          "output_type": "execute_result"
        }
      ],
      "source": [
        "X.toarray()"
      ]
    },
    {
      "cell_type": "code",
      "execution_count": 14,
      "metadata": {
        "colab": {
          "base_uri": "https://localhost:8080/"
        },
        "id": "yYFj5PwkjqyO",
        "outputId": "7c48aed9-81b0-41f7-dcca-d47c244fec7d"
      },
      "outputs": [
        {
          "data": {
            "text/plain": [
              "array([0.        , 0.        , 0.37796447, 0.        , 0.37796447,\n",
              "       0.        , 0.        , 0.        , 0.        , 0.        ,\n",
              "       0.37796447, 0.        , 0.        , 0.37796447, 0.        ,\n",
              "       0.        , 0.37796447, 0.        , 0.        , 0.37796447,\n",
              "       0.37796447])"
            ]
          },
          "execution_count": 14,
          "metadata": {},
          "output_type": "execute_result"
        }
      ],
      "source": [
        "X.toarray()[0]"
      ]
    },
    {
      "cell_type": "code",
      "execution_count": 15,
      "metadata": {
        "colab": {
          "base_uri": "https://localhost:8080/"
        },
        "id": "Pyk-Af9BjxZT",
        "outputId": "3885b1f6-6b6b-4840-cf45-6848a4bacb5a"
      },
      "outputs": [
        {
          "data": {
            "text/plain": [
              "array([[0.        , 0.        , 0.        , 0.        , 0.        ,\n",
              "        0.        , 0.        , 0.        , 0.        , 0.        ,\n",
              "        0.        , 0.70710678, 0.        , 0.        , 0.        ,\n",
              "        0.        , 0.        , 0.70710678, 0.        , 0.        ,\n",
              "        0.        ]])"
            ]
          },
          "execution_count": 15,
          "metadata": {},
          "output_type": "execute_result"
        }
      ],
      "source": [
        "y = vector.transform([preprocessed_query])\n",
        "y.toarray()"
      ]
    },
    {
      "cell_type": "code",
      "execution_count": 16,
      "metadata": {
        "id": "PlvHoDhWj5Cb"
      },
      "outputs": [],
      "source": [
        "similarities = cosine_similarity(X, y)"
      ]
    },
    {
      "cell_type": "code",
      "execution_count": 17,
      "metadata": {
        "colab": {
          "base_uri": "https://localhost:8080/"
        },
        "id": "WWIjnoJ8l0QG",
        "outputId": "373d5906-7965-4c11-ab54-820c4837e945"
      },
      "outputs": [
        {
          "data": {
            "text/plain": [
              "array([[0.        ],\n",
              "       [0.50551777],\n",
              "       [0.        ],\n",
              "       [0.48693426]])"
            ]
          },
          "execution_count": 17,
          "metadata": {},
          "output_type": "execute_result"
        }
      ],
      "source": [
        "similarities"
      ]
    },
    {
      "cell_type": "code",
      "execution_count": 18,
      "metadata": {
        "id": "GXGcH1bdl1z7"
      },
      "outputs": [],
      "source": [
        "# Ranking\n",
        "ranked_indices = np.argsort(similarities.flatten(), axis=0)[::-1]"
      ]
    },
    {
      "cell_type": "code",
      "execution_count": 19,
      "metadata": {
        "id": "6eBlDDkBnwaS"
      },
      "outputs": [],
      "source": [
        "ranked_documents = [documents[i] for i in ranked_indices]"
      ]
    },
    {
      "cell_type": "code",
      "execution_count": 20,
      "metadata": {
        "colab": {
          "base_uri": "https://localhost:8080/"
        },
        "id": "sSqOukxSmLDX",
        "outputId": "01efa2ca-ae94-4908-d34f-043bc7afc64c"
      },
      "outputs": [
        {
          "data": {
            "text/plain": [
              "array([1, 3, 2, 0])"
            ]
          },
          "execution_count": 20,
          "metadata": {},
          "output_type": "execute_result"
        }
      ],
      "source": [
        "ranked_indices"
      ]
    },
    {
      "cell_type": "code",
      "execution_count": 21,
      "metadata": {
        "colab": {
          "base_uri": "https://localhost:8080/"
        },
        "id": "xBaZghR0mMnL",
        "outputId": "4d710bec-4fe3-46b8-b6e6-9af6ee7d140d"
      },
      "outputs": [
        {
          "name": "stdout",
          "output_type": "stream",
          "text": [
            "This is your query - keyword-based search\n",
            "Rank 1: Keywords are important for keyword-based search.\n",
            "Rank 2: Keyword-based search relies on spare embeddings.\n",
            "Rank 3: Document analysis involves extracting keywords.\n",
            "Rank 4: This is a list which containing sample documents.\n"
          ]
        }
      ],
      "source": [
        "print(f\"This is your query - {query}\")\n",
        "for idx, doc in enumerate(ranked_documents):\n",
        "    print(f\"Rank {idx + 1}: {doc}\")"
      ]
    },
    {
      "cell_type": "code",
      "execution_count": 22,
      "metadata": {
        "id": "zUnVor46oo8_"
      },
      "outputs": [],
      "source": [
        "document_embeddings = np.array([\n",
        "    [0.634, 0.234, 0.867, 0.042, 0.249],\n",
        "    [0.123, 0.456, 0.789, 0.321, 0.654],\n",
        "    [0.987, 0.654, 0.321, 0.123, 0.456]\n",
        "])"
      ]
    },
    {
      "cell_type": "code",
      "execution_count": 23,
      "metadata": {
        "id": "naZ-DOAwpflD"
      },
      "outputs": [],
      "source": [
        "# Sample Search Query(represented as a dense vector)\n",
        "query_embedding = np.array([[0.789, 0.321, 0.654, 0.987, 0.123]])"
      ]
    },
    {
      "cell_type": "code",
      "execution_count": 24,
      "metadata": {
        "id": "iFUYtWUH0e1v"
      },
      "outputs": [],
      "source": [
        "# Calculate Consine Similarity between query and documents\n",
        "similarities = cosine_similarity(document_embeddings, query_embedding)"
      ]
    },
    {
      "cell_type": "code",
      "execution_count": 25,
      "metadata": {
        "colab": {
          "base_uri": "https://localhost:8080/"
        },
        "id": "cuzWRh4T0tKE",
        "outputId": "a9c9a07c-ae1c-4889-e04a-b452c9c0ae8d"
      },
      "outputs": [
        {
          "data": {
            "text/plain": [
              "array([[0.73558979],\n",
              "       [0.67357898],\n",
              "       [0.71517305]])"
            ]
          },
          "execution_count": 25,
          "metadata": {},
          "output_type": "execute_result"
        }
      ],
      "source": [
        "similarities"
      ]
    },
    {
      "cell_type": "code",
      "execution_count": 26,
      "metadata": {
        "id": "5qujDbO50uzt"
      },
      "outputs": [],
      "source": [
        "ranked_indices = np.argsort(similarities.flatten(), axis=0)[::-1]"
      ]
    },
    {
      "cell_type": "code",
      "execution_count": 27,
      "metadata": {
        "colab": {
          "base_uri": "https://localhost:8080/"
        },
        "id": "aRK49PtZ01p5",
        "outputId": "430975b6-2d4a-49a0-9f85-f04ad88dea62"
      },
      "outputs": [
        {
          "data": {
            "text/plain": [
              "array([0, 2, 1])"
            ]
          },
          "execution_count": 27,
          "metadata": {},
          "output_type": "execute_result"
        }
      ],
      "source": [
        "ranked_indices"
      ]
    },
    {
      "cell_type": "code",
      "execution_count": 28,
      "metadata": {
        "colab": {
          "base_uri": "https://localhost:8080/"
        },
        "id": "lvgIMv0f021b",
        "outputId": "6ba7f559-f1b6-494a-a904-eb726e152eb2"
      },
      "outputs": [
        {
          "name": "stdout",
          "output_type": "stream",
          "text": [
            "Rank 1: Document 1\n",
            "Rank 2: Document 3\n",
            "Rank 3: Document 2\n"
          ]
        }
      ],
      "source": [
        "# Output the ranked documents\n",
        "for idx, doc_idx in enumerate(ranked_indices):\n",
        "    print(f\"Rank {idx + 1}: Document {doc_idx + 1}\")"
      ]
    },
    {
      "cell_type": "code",
      "execution_count": 29,
      "metadata": {
        "id": "9gj0gmgw084w"
      },
      "outputs": [],
      "source": [
        "doc_path = \"/content/Chatbot\""
      ]
    },
    {
      "cell_type": "code",
      "execution_count": 30,
      "metadata": {
        "id": "ERStZ6kr1rPH"
      },
      "outputs": [],
      "source": [
        "!pip install -qU pypdf langchain_community"
      ]
    },
    {
      "cell_type": "code",
      "execution_count": 31,
      "metadata": {
        "id": "hgCOPxCw1xIb"
      },
      "outputs": [],
      "source": [
        "from langchain_community.document_loaders import PyPDFLoader"
      ]
    },
    {
      "cell_type": "code",
      "execution_count": 32,
      "metadata": {
        "id": "2PkMn2Z615x8"
      },
      "outputs": [],
      "source": [
        "loader = PyPDFLoader(doc_path)"
      ]
    },
    {
      "cell_type": "code",
      "execution_count": 33,
      "metadata": {
        "id": "GlxJZ_EC1_m6"
      },
      "outputs": [],
      "source": [
        "docs = loader.load()"
      ]
    },
    {
      "cell_type": "code",
      "execution_count": 34,
      "metadata": {
        "colab": {
          "base_uri": "https://localhost:8080/"
        },
        "id": "JyWos0pe2Bbb",
        "outputId": "f3add0d7-882e-49f6-b4ef-294a53c32760"
      },
      "outputs": [
        {
          "data": {
            "text/plain": [
              "Document(metadata={'producer': 'Skia/PDF m127', 'creator': 'Chromium', 'creationdate': '2025-04-08T16:58:37+00:00', 'moddate': '2025-04-08T16:58:37+00:00', 'source': '/content/Chatbot', 'total_pages': 7, 'page': 0, 'page_label': '1'}, page_content='This comprehensive design document outlines both the high-level architecture and low-level\\nimplementation details for a desktop chatbot application that operates locally without internet\\nconnectivity. The application leverages OpenVINO for optimized neural language model\\ninference and Electron for cross-platform desktop deployment.\\nThe desktop chatbot application follows a modular, layered architecture that separates concerns\\nbetween model inference, business logic, and user interface components. The system employs a\\nMulti-Context Protocol \\x00MCP) architecture to enable efficient communication between\\ncomponents while maintaining local operation.\\nThe high-level architecture consists of four primary layers:\\n!\\x00High-Level Architecture Diagram]\\nDesktop Chat-Bot Application Design Document:\\nHLD and LLD with UML & Sequence Diagrams\\nHigh-Level Design \\x00HLD\\x00\\nSystem Architecture Overview\\n\\x00\\x00\\x00Presentation Layer: An Electron-based desktop application with Next.js frontend that\\nprovides the user interface and handles user interactions.\\n\\x00\\x00\\x00Communication Layer: The MCP client-server protocol that manages communication\\nbetween the frontend and backend.\\n\\x00\\x00\\x00Application Layer: Contains the business logic, context management, conversation\\nhandling, and API endpoints.\\n\\x00\\x00\\x00Inference Layer: Handles the neural language model loading, optimization with OpenVINO,\\nand text generation.\\nCore Components\\nFrontend Components\\nUI Interface: Streamlit-based responsive user interface for chatbot interactions\\x001\\x00\\nChat History Manager: Maintains conversation state and history\\nMCP Client: Manages communication with the backend MCP server\\nConfiguration Manager: Handles user preferences and model settings')"
            ]
          },
          "execution_count": 34,
          "metadata": {},
          "output_type": "execute_result"
        }
      ],
      "source": [
        "docs[0]"
      ]
    },
    {
      "cell_type": "code",
      "execution_count": 35,
      "metadata": {
        "id": "r4QFxQpB2JhM"
      },
      "outputs": [],
      "source": [
        "from langchain.text_splitter import RecursiveCharacterTextSplitter"
      ]
    },
    {
      "cell_type": "code",
      "execution_count": 36,
      "metadata": {
        "id": "yS4Y1lh423Q-"
      },
      "outputs": [],
      "source": [
        "splitter = RecursiveCharacterTextSplitter(chunk_size=200, chunk_overlap=30)"
      ]
    },
    {
      "cell_type": "code",
      "execution_count": 37,
      "metadata": {
        "id": "UymDrVQ22545"
      },
      "outputs": [],
      "source": [
        "chunks = splitter.split_documents(docs)"
      ]
    },
    {
      "cell_type": "code",
      "execution_count": 38,
      "metadata": {
        "colab": {
          "base_uri": "https://localhost:8080/"
        },
        "id": "ZVZQn8an3Ebe",
        "outputId": "16d05807-998b-4b7e-a814-adfbc57c6462"
      },
      "outputs": [
        {
          "name": "stdout",
          "output_type": "stream",
          "text": [
            "Chunk 1: page_content='This comprehensive design document outlines both the high-level architecture and low-level\n",
            "implementation details for a desktop chatbot application that operates locally without internet' metadata={'producer': 'Skia/PDF m127', 'creator': 'Chromium', 'creationdate': '2025-04-08T16:58:37+00:00', 'moddate': '2025-04-08T16:58:37+00:00', 'source': '/content/Chatbot', 'total_pages': 7, 'page': 0, 'page_label': '1'}\n",
            "Chunk 2: page_content='connectivity. The application leverages OpenVINO for optimized neural language model\n",
            "inference and Electron for cross-platform desktop deployment.' metadata={'producer': 'Skia/PDF m127', 'creator': 'Chromium', 'creationdate': '2025-04-08T16:58:37+00:00', 'moddate': '2025-04-08T16:58:37+00:00', 'source': '/content/Chatbot', 'total_pages': 7, 'page': 0, 'page_label': '1'}\n",
            "Chunk 3: page_content='The desktop chatbot application follows a modular, layered architecture that separates concerns\n",
            "between model inference, business logic, and user interface components. The system employs a' metadata={'producer': 'Skia/PDF m127', 'creator': 'Chromium', 'creationdate': '2025-04-08T16:58:37+00:00', 'moddate': '2025-04-08T16:58:37+00:00', 'source': '/content/Chatbot', 'total_pages': 7, 'page': 0, 'page_label': '1'}\n",
            "Chunk 4: page_content='Multi-Context Protocol \u0000MCP) architecture to enable efficient communication between\n",
            "components while maintaining local operation.\n",
            "The high-level architecture consists of four primary layers:' metadata={'producer': 'Skia/PDF m127', 'creator': 'Chromium', 'creationdate': '2025-04-08T16:58:37+00:00', 'moddate': '2025-04-08T16:58:37+00:00', 'source': '/content/Chatbot', 'total_pages': 7, 'page': 0, 'page_label': '1'}\n",
            "Chunk 5: page_content='!\u0000High-Level Architecture Diagram]\n",
            "Desktop Chat-Bot Application Design Document:\n",
            "HLD and LLD with UML & Sequence Diagrams\n",
            "High-Level Design \u0000HLD\u0000\n",
            "System Architecture Overview' metadata={'producer': 'Skia/PDF m127', 'creator': 'Chromium', 'creationdate': '2025-04-08T16:58:37+00:00', 'moddate': '2025-04-08T16:58:37+00:00', 'source': '/content/Chatbot', 'total_pages': 7, 'page': 0, 'page_label': '1'}\n",
            "Chunk 6: page_content='System Architecture Overview\n",
            "\u0000\u0000\u0000Presentation Layer: An Electron-based desktop application with Next.js frontend that\n",
            "provides the user interface and handles user interactions.' metadata={'producer': 'Skia/PDF m127', 'creator': 'Chromium', 'creationdate': '2025-04-08T16:58:37+00:00', 'moddate': '2025-04-08T16:58:37+00:00', 'source': '/content/Chatbot', 'total_pages': 7, 'page': 0, 'page_label': '1'}\n",
            "Chunk 7: page_content='\u0000\u0000\u0000Communication Layer: The MCP client-server protocol that manages communication\n",
            "between the frontend and backend.\n",
            "\u0000\u0000\u0000Application Layer: Contains the business logic, context management, conversation' metadata={'producer': 'Skia/PDF m127', 'creator': 'Chromium', 'creationdate': '2025-04-08T16:58:37+00:00', 'moddate': '2025-04-08T16:58:37+00:00', 'source': '/content/Chatbot', 'total_pages': 7, 'page': 0, 'page_label': '1'}\n",
            "Chunk 8: page_content='handling, and API endpoints.\n",
            "\u0000\u0000\u0000Inference Layer: Handles the neural language model loading, optimization with OpenVINO,\n",
            "and text generation.\n",
            "Core Components\n",
            "Frontend Components' metadata={'producer': 'Skia/PDF m127', 'creator': 'Chromium', 'creationdate': '2025-04-08T16:58:37+00:00', 'moddate': '2025-04-08T16:58:37+00:00', 'source': '/content/Chatbot', 'total_pages': 7, 'page': 0, 'page_label': '1'}\n",
            "Chunk 9: page_content='Frontend Components\n",
            "UI Interface: Streamlit-based responsive user interface for chatbot interactions\u00001\u0000\n",
            "Chat History Manager: Maintains conversation state and history' metadata={'producer': 'Skia/PDF m127', 'creator': 'Chromium', 'creationdate': '2025-04-08T16:58:37+00:00', 'moddate': '2025-04-08T16:58:37+00:00', 'source': '/content/Chatbot', 'total_pages': 7, 'page': 0, 'page_label': '1'}\n",
            "Chunk 10: page_content='MCP Client: Manages communication with the backend MCP server\n",
            "Configuration Manager: Handles user preferences and model settings' metadata={'producer': 'Skia/PDF m127', 'creator': 'Chromium', 'creationdate': '2025-04-08T16:58:37+00:00', 'moddate': '2025-04-08T16:58:37+00:00', 'source': '/content/Chatbot', 'total_pages': 7, 'page': 0, 'page_label': '1'}\n",
            "Chunk 11: page_content='The application uses quantized large language models optimized for local inference:\n",
            "ModelManager:\n",
            "- load_model(model_name: str, precision: int): Model\n",
            "- unload_model(model_id: str): bool' metadata={'producer': 'Skia/PDF m127', 'creator': 'Chromium', 'creationdate': '2025-04-08T16:58:37+00:00', 'moddate': '2025-04-08T16:58:37+00:00', 'source': '/content/Chatbot', 'total_pages': 7, 'page': 1, 'page_label': '2'}\n",
            "Chunk 12: page_content='- get_available_models(): List[ModelMetadata]\n",
            "- optimize_for_device(model: Model, device: str): OptimizedModel\n",
            "The MCP Server acts as the central communication hub for the application:' metadata={'producer': 'Skia/PDF m127', 'creator': 'Chromium', 'creationdate': '2025-04-08T16:58:37+00:00', 'moddate': '2025-04-08T16:58:37+00:00', 'source': '/content/Chatbot', 'total_pages': 7, 'page': 1, 'page_label': '2'}\n",
            "Chunk 13: page_content='Backend Components\n",
            "MCP Server: FastMCP-based service orchestrating capabilities and requests\u00001\u0000\n",
            "Context Manager: Maintains conversation context and handles state transition' metadata={'producer': 'Skia/PDF m127', 'creator': 'Chromium', 'creationdate': '2025-04-08T16:58:37+00:00', 'moddate': '2025-04-08T16:58:37+00:00', 'source': '/content/Chatbot', 'total_pages': 7, 'page': 1, 'page_label': '2'}\n",
            "Chunk 14: page_content='OpenVINO Runtime: Optimized inference engine for model execution\n",
            "Model Repository: Stores and manages quantized language models\n",
            "Local Storage: Persists conversations and user preferences' metadata={'producer': 'Skia/PDF m127', 'creator': 'Chromium', 'creationdate': '2025-04-08T16:58:37+00:00', 'moddate': '2025-04-08T16:58:37+00:00', 'source': '/content/Chatbot', 'total_pages': 7, 'page': 1, 'page_label': '2'}\n",
            "Chunk 15: page_content='Technology Stack\n",
            "Frontend: Electron, Next.js, TypeScript\n",
            "Backend: Python, FastAPI\n",
            "Model Inference: OpenVINO, GGUF quantized models\n",
            "Communication: MCP \u0000Modular Capability Protocol)' metadata={'producer': 'Skia/PDF m127', 'creator': 'Chromium', 'creationdate': '2025-04-08T16:58:37+00:00', 'moddate': '2025-04-08T16:58:37+00:00', 'source': '/content/Chatbot', 'total_pages': 7, 'page': 1, 'page_label': '2'}\n",
            "Chunk 16: page_content='Containerization: Docker (for development and packaging)\u00001\u0000\n",
            "Low-Level Design \u0000LLD\u0000\n",
            "Model Preparation and Optimization\n",
            "\u0000\u0000\u0000Model Selection: Smaller but capable models like Llama-2\u00007B or Mistral-7B' metadata={'producer': 'Skia/PDF m127', 'creator': 'Chromium', 'creationdate': '2025-04-08T16:58:37+00:00', 'moddate': '2025-04-08T16:58:37+00:00', 'source': '/content/Chatbot', 'total_pages': 7, 'page': 1, 'page_label': '2'}\n",
            "Chunk 17: page_content='\u0000\u0000\u0000Quantization: Conversion to 4-bit or 8-bit precision using GGUF format\n",
            "\u0000\u0000\u0000OpenVINO Conversion: Transformation to OpenVINO IR format for optimized CPU\n",
            "inference\u00002\u0000' metadata={'producer': 'Skia/PDF m127', 'creator': 'Chromium', 'creationdate': '2025-04-08T16:58:37+00:00', 'moddate': '2025-04-08T16:58:37+00:00', 'source': '/content/Chatbot', 'total_pages': 7, 'page': 1, 'page_label': '2'}\n",
            "Chunk 18: page_content='inference\u00002\u0000\n",
            "\u0000\u0000\u0000Model Loading: Dynamic loading based on available system resources\n",
            "\u0000\u0000\u0000Inference Pipeline: Structured text generation with context management\n",
            "MCP Server Implementation' metadata={'producer': 'Skia/PDF m127', 'creator': 'Chromium', 'creationdate': '2025-04-08T16:58:37+00:00', 'moddate': '2025-04-08T16:58:37+00:00', 'source': '/content/Chatbot', 'total_pages': 7, 'page': 1, 'page_label': '2'}\n",
            "Chunk 19: page_content='MCP Server Implementation\n",
            "\u0000\u0000\u0000Endpoint Exposure: REST API for text generation, conversation management, and model\n",
            "configuration\n",
            "\u0000\u0000\u0000Request Handling: Processing and routing of client requests' metadata={'producer': 'Skia/PDF m127', 'creator': 'Chromium', 'creationdate': '2025-04-08T16:58:37+00:00', 'moddate': '2025-04-08T16:58:37+00:00', 'source': '/content/Chatbot', 'total_pages': 7, 'page': 1, 'page_label': '2'}\n",
            "Chunk 20: page_content='\u0000\u0000\u0000Response Generation: Packaging model outputs into standardized response formats' metadata={'producer': 'Skia/PDF m127', 'creator': 'Chromium', 'creationdate': '2025-04-08T16:58:37+00:00', 'moddate': '2025-04-08T16:58:37+00:00', 'source': '/content/Chatbot', 'total_pages': 7, 'page': 1, 'page_label': '2'}\n",
            "Chunk 21: page_content='MCPServer:\n",
            "- initialize(config: ServerConfig): bool\n",
            "- register_capability(capability: Capability): str\n",
            "- handle_request(request: MCPRequest): MCPResponse\n",
            "- shutdown(): void' metadata={'producer': 'Skia/PDF m127', 'creator': 'Chromium', 'creationdate': '2025-04-08T16:58:37+00:00', 'moddate': '2025-04-08T16:58:37+00:00', 'source': '/content/Chatbot', 'total_pages': 7, 'page': 2, 'page_label': '3'}\n",
            "Chunk 22: page_content='- shutdown(): void\n",
            "The Context Manager handles:\n",
            "ContextManager:\n",
            "- create_context(user_id: str): ContextID\n",
            "- update_context(context_id: ContextID, message: Message): void' metadata={'producer': 'Skia/PDF m127', 'creator': 'Chromium', 'creationdate': '2025-04-08T16:58:37+00:00', 'moddate': '2025-04-08T16:58:37+00:00', 'source': '/content/Chatbot', 'total_pages': 7, 'page': 2, 'page_label': '3'}\n",
            "Chunk 23: page_content='- get_context_history(context_id: ContextID, limit: int): List[Message]\n",
            "- prune_context(context_id: ContextID, max_tokens: int): void\n",
            "The user interface is designed with:' metadata={'producer': 'Skia/PDF m127', 'creator': 'Chromium', 'creationdate': '2025-04-08T16:58:37+00:00', 'moddate': '2025-04-08T16:58:37+00:00', 'source': '/content/Chatbot', 'total_pages': 7, 'page': 2, 'page_label': '3'}\n",
            "Chunk 24: page_content='The UI follows key design principles:\n",
            "\u0000\u0000\u0000Resource Management: Monitoring and adjusting resource allocation for model inference\u00001\u0000\n",
            "Context Management' metadata={'producer': 'Skia/PDF m127', 'creator': 'Chromium', 'creationdate': '2025-04-08T16:58:37+00:00', 'moddate': '2025-04-08T16:58:37+00:00', 'source': '/content/Chatbot', 'total_pages': 7, 'page': 2, 'page_label': '3'}\n",
            "Chunk 25: page_content='Context Management\n",
            "\u0000\u0000\u0000Conversation State: Tracking ongoing conversations and their states\n",
            "\u0000\u0000\u0000Memory Management: Efficient handling of conversation history with sliding windows' metadata={'producer': 'Skia/PDF m127', 'creator': 'Chromium', 'creationdate': '2025-04-08T16:58:37+00:00', 'moddate': '2025-04-08T16:58:37+00:00', 'source': '/content/Chatbot', 'total_pages': 7, 'page': 2, 'page_label': '3'}\n",
            "Chunk 26: page_content='\u0000\u0000\u0000Context Switching: Moving between different conversation threads\n",
            "\u0000\u0000\u0000Parameter Management: Handling model-specific parameters for each interaction\n",
            "UI Implementation' metadata={'producer': 'Skia/PDF m127', 'creator': 'Chromium', 'creationdate': '2025-04-08T16:58:37+00:00', 'moddate': '2025-04-08T16:58:37+00:00', 'source': '/content/Chatbot', 'total_pages': 7, 'page': 2, 'page_label': '3'}\n",
            "Chunk 27: page_content='UI Implementation\n",
            "\u0000\u0000\u0000Chat Interface: Clean, responsive design for message exchange\n",
            "\u0000\u0000\u0000Settings Panel: Configuration options for model parameters\n",
            "\u0000\u0000\u0000History Browser: Access to previous conversations' metadata={'producer': 'Skia/PDF m127', 'creator': 'Chromium', 'creationdate': '2025-04-08T16:58:37+00:00', 'moddate': '2025-04-08T16:58:37+00:00', 'source': '/content/Chatbot', 'total_pages': 7, 'page': 2, 'page_label': '3'}\n",
            "Chunk 28: page_content='\u0000\u0000\u0000Status Indicators: Visual feedback on system state and model loading\u00003\u0000\n",
            "Accessibility: Interface elements designed for universal access\n",
            "Simplicity: Clear and intuitive interaction patterns' metadata={'producer': 'Skia/PDF m127', 'creator': 'Chromium', 'creationdate': '2025-04-08T16:58:37+00:00', 'moddate': '2025-04-08T16:58:37+00:00', 'source': '/content/Chatbot', 'total_pages': 7, 'page': 2, 'page_label': '3'}\n",
            "Chunk 29: page_content='Responsiveness: Adapting to different screen sizes and resolutions\n",
            "Consistency: Uniform design language throughout the application\u00003\u0000\n",
            "UML Diagrams' metadata={'producer': 'Skia/PDF m127', 'creator': 'Chromium', 'creationdate': '2025-04-08T16:58:37+00:00', 'moddate': '2025-04-08T16:58:37+00:00', 'source': '/content/Chatbot', 'total_pages': 7, 'page': 2, 'page_label': '3'}\n",
            "Chunk 30: page_content='+------------------+       +----------------+       +------------------+\n",
            "|   UIController   |&lt;-----&gt;| ContextManager |&lt;-----&gt;|  ModelController |' metadata={'producer': 'Skia/PDF m127', 'creator': 'Chromium', 'creationdate': '2025-04-08T16:58:37+00:00', 'moddate': '2025-04-08T16:58:37+00:00', 'source': '/content/Chatbot', 'total_pages': 7, 'page': 3, 'page_label': '4'}\n",
            "Chunk 31: page_content='+------------------+       +----------------+       +------------------+\n",
            "        ^                         ^                        ^\n",
            "        |                         |                        |' metadata={'producer': 'Skia/PDF m127', 'creator': 'Chromium', 'creationdate': '2025-04-08T16:58:37+00:00', 'moddate': '2025-04-08T16:58:37+00:00', 'source': '/content/Chatbot', 'total_pages': 7, 'page': 3, 'page_label': '4'}\n",
            "Chunk 32: page_content='+------------------+       +----------------+       +------------------+\n",
            "|  ChatComponent   |       |   MCPClient    |       |  OpenVINORuntime |' metadata={'producer': 'Skia/PDF m127', 'creator': 'Chromium', 'creationdate': '2025-04-08T16:58:37+00:00', 'moddate': '2025-04-08T16:58:37+00:00', 'source': '/content/Chatbot', 'total_pages': 7, 'page': 3, 'page_label': '4'}\n",
            "Chunk 33: page_content='+------------------+       +----------------+       +------------------+\n",
            "        ^                         ^                        ^\n",
            "        |                         |                        |' metadata={'producer': 'Skia/PDF m127', 'creator': 'Chromium', 'creationdate': '2025-04-08T16:58:37+00:00', 'moddate': '2025-04-08T16:58:37+00:00', 'source': '/content/Chatbot', 'total_pages': 7, 'page': 3, 'page_label': '4'}\n",
            "Chunk 34: page_content='+------------------+       +----------------+       +------------------+\n",
            "| MessageComponent |       |  MCPServer     |       |  ModelRepository |' metadata={'producer': 'Skia/PDF m127', 'creator': 'Chromium', 'creationdate': '2025-04-08T16:58:37+00:00', 'moddate': '2025-04-08T16:58:37+00:00', 'source': '/content/Chatbot', 'total_pages': 7, 'page': 3, 'page_label': '4'}\n",
            "Chunk 35: page_content='+------------------+       +----------------+       +------------------+\n",
            "+---------------------+       +---------------------+\n",
            "|                     |       |                     |' metadata={'producer': 'Skia/PDF m127', 'creator': 'Chromium', 'creationdate': '2025-04-08T16:58:37+00:00', 'moddate': '2025-04-08T16:58:37+00:00', 'source': '/content/Chatbot', 'total_pages': 7, 'page': 3, 'page_label': '4'}\n",
            "Chunk 36: page_content='|  Electron Desktop   |------&gt;|   Next.js Frontend  |\n",
            "|                     |       |                     |\n",
            "+---------------------+       +---------------------+' metadata={'producer': 'Skia/PDF m127', 'creator': 'Chromium', 'creationdate': '2025-04-08T16:58:37+00:00', 'moddate': '2025-04-08T16:58:37+00:00', 'source': '/content/Chatbot', 'total_pages': 7, 'page': 3, 'page_label': '4'}\n",
            "Chunk 37: page_content='|                           |\n",
            "           |                           |\n",
            "           v                           v\n",
            "+---------------------+       +---------------------+' metadata={'producer': 'Skia/PDF m127', 'creator': 'Chromium', 'creationdate': '2025-04-08T16:58:37+00:00', 'moddate': '2025-04-08T16:58:37+00:00', 'source': '/content/Chatbot', 'total_pages': 7, 'page': 3, 'page_label': '4'}\n",
            "Chunk 38: page_content='|                     |       |                     |\n",
            "|     MCP Client      |------&gt;|    Context Manager  |\n",
            "|                     |       |                     |' metadata={'producer': 'Skia/PDF m127', 'creator': 'Chromium', 'creationdate': '2025-04-08T16:58:37+00:00', 'moddate': '2025-04-08T16:58:37+00:00', 'source': '/content/Chatbot', 'total_pages': 7, 'page': 3, 'page_label': '4'}\n",
            "Chunk 39: page_content='+---------------------+       +---------------------+\n",
            "           |                           |\n",
            "           |                           |\n",
            "           v                           v' metadata={'producer': 'Skia/PDF m127', 'creator': 'Chromium', 'creationdate': '2025-04-08T16:58:37+00:00', 'moddate': '2025-04-08T16:58:37+00:00', 'source': '/content/Chatbot', 'total_pages': 7, 'page': 3, 'page_label': '4'}\n",
            "Chunk 40: page_content='+---------------------+       +---------------------+\n",
            "|                     |       |                     |\n",
            "|     MCP Server      |------&gt;|   OpenVINO Runtime  |' metadata={'producer': 'Skia/PDF m127', 'creator': 'Chromium', 'creationdate': '2025-04-08T16:58:37+00:00', 'moddate': '2025-04-08T16:58:37+00:00', 'source': '/content/Chatbot', 'total_pages': 7, 'page': 3, 'page_label': '4'}\n",
            "Chunk 41: page_content='|                     |       |                     |\n",
            "+---------------------+       +---------------------+\n",
            "           |                           |\n",
            "           |                           |' metadata={'producer': 'Skia/PDF m127', 'creator': 'Chromium', 'creationdate': '2025-04-08T16:58:37+00:00', 'moddate': '2025-04-08T16:58:37+00:00', 'source': '/content/Chatbot', 'total_pages': 7, 'page': 3, 'page_label': '4'}\n",
            "Chunk 42: page_content='v                           v\n",
            "+---------------------+       +---------------------+\n",
            "|                     |       |                     |' metadata={'producer': 'Skia/PDF m127', 'creator': 'Chromium', 'creationdate': '2025-04-08T16:58:37+00:00', 'moddate': '2025-04-08T16:58:37+00:00', 'source': '/content/Chatbot', 'total_pages': 7, 'page': 3, 'page_label': '4'}\n",
            "Chunk 43: page_content='|  FastAPI Backend    |------&gt;|    Model Storage    |\n",
            "|                     |       |                     |\n",
            "+---------------------+       +---------------------+\n",
            "Class Diagram\n",
            "Component Diagram' metadata={'producer': 'Skia/PDF m127', 'creator': 'Chromium', 'creationdate': '2025-04-08T16:58:37+00:00', 'moddate': '2025-04-08T16:58:37+00:00', 'source': '/content/Chatbot', 'total_pages': 7, 'page': 3, 'page_label': '4'}\n",
            "Chunk 44: page_content='+---------------------+\n",
            "|    User Desktop     |\n",
            "|---------------------|\n",
            "|  +---------------+  |\n",
            "|  | Electron App  |  |\n",
            "|  |---------------|  |\n",
            "|  | - UI Layer    |  |\n",
            "|  | - MCP Client  |  |' metadata={'producer': 'Skia/PDF m127', 'creator': 'Chromium', 'creationdate': '2025-04-08T16:58:37+00:00', 'moddate': '2025-04-08T16:58:37+00:00', 'source': '/content/Chatbot', 'total_pages': 7, 'page': 4, 'page_label': '5'}\n",
            "Chunk 45: page_content='|  | - MCP Client  |  |\n",
            "|  +---------------+  |\n",
            "|         |           |\n",
            "|         v           |\n",
            "|  +---------------+  |\n",
            "|  | Local Backend |  |\n",
            "|  |---------------|  |\n",
            "|  | - MCP Server  |  |' metadata={'producer': 'Skia/PDF m127', 'creator': 'Chromium', 'creationdate': '2025-04-08T16:58:37+00:00', 'moddate': '2025-04-08T16:58:37+00:00', 'source': '/content/Chatbot', 'total_pages': 7, 'page': 4, 'page_label': '5'}\n",
            "Chunk 46: page_content='|  | - MCP Server  |  |\n",
            "|  | - FastAPI     |  |\n",
            "|  +---------------+  |\n",
            "|         |           |\n",
            "|         v           |\n",
            "|  +---------------+  |\n",
            "|  | OpenVINO      |  |\n",
            "|  |---------------|  |' metadata={'producer': 'Skia/PDF m127', 'creator': 'Chromium', 'creationdate': '2025-04-08T16:58:37+00:00', 'moddate': '2025-04-08T16:58:37+00:00', 'source': '/content/Chatbot', 'total_pages': 7, 'page': 4, 'page_label': '5'}\n",
            "Chunk 47: page_content='|  |---------------|  |\n",
            "|  | - Model IR    |  |\n",
            "|  | - Inference   |  |\n",
            "|  +---------------+  |\n",
            "+---------------------+\n",
            "+--------+    +-------+    +----------+    +----------+    +-------------+' metadata={'producer': 'Skia/PDF m127', 'creator': 'Chromium', 'creationdate': '2025-04-08T16:58:37+00:00', 'moddate': '2025-04-08T16:58:37+00:00', 'source': '/content/Chatbot', 'total_pages': 7, 'page': 4, 'page_label': '5'}\n",
            "Chunk 48: page_content='|  User  |    |  UI   |    |MCP Client|    |MCP Server|    |OpenVINO Model|\n",
            "+--------+    +-------+    +----------+    +----------+    +-------------+' metadata={'producer': 'Skia/PDF m127', 'creator': 'Chromium', 'creationdate': '2025-04-08T16:58:37+00:00', 'moddate': '2025-04-08T16:58:37+00:00', 'source': '/content/Chatbot', 'total_pages': 7, 'page': 4, 'page_label': '5'}\n",
            "Chunk 49: page_content='|             |             |              |                 |\n",
            "    | Launch App  |             |              |                 |' metadata={'producer': 'Skia/PDF m127', 'creator': 'Chromium', 'creationdate': '2025-04-08T16:58:37+00:00', 'moddate': '2025-04-08T16:58:37+00:00', 'source': '/content/Chatbot', 'total_pages': 7, 'page': 4, 'page_label': '5'}\n",
            "Chunk 50: page_content='|------------&gt;|             |              |                 |\n",
            "    |             | Initialize  |              |                 |' metadata={'producer': 'Skia/PDF m127', 'creator': 'Chromium', 'creationdate': '2025-04-08T16:58:37+00:00', 'moddate': '2025-04-08T16:58:37+00:00', 'source': '/content/Chatbot', 'total_pages': 7, 'page': 4, 'page_label': '5'}\n",
            "Chunk 51: page_content='|             |------------&gt;|              |                 |\n",
            "    |             |             | Connect      |                 |' metadata={'producer': 'Skia/PDF m127', 'creator': 'Chromium', 'creationdate': '2025-04-08T16:58:37+00:00', 'moddate': '2025-04-08T16:58:37+00:00', 'source': '/content/Chatbot', 'total_pages': 7, 'page': 4, 'page_label': '5'}\n",
            "Chunk 52: page_content='|             |             |-------------&gt;|                 |\n",
            "    |             |             |              | Load Model      |' metadata={'producer': 'Skia/PDF m127', 'creator': 'Chromium', 'creationdate': '2025-04-08T16:58:37+00:00', 'moddate': '2025-04-08T16:58:37+00:00', 'source': '/content/Chatbot', 'total_pages': 7, 'page': 4, 'page_label': '5'}\n",
            "Chunk 53: page_content='|             |             |              |----------------&gt;|\n",
            "    |             |             |              |                 |' metadata={'producer': 'Skia/PDF m127', 'creator': 'Chromium', 'creationdate': '2025-04-08T16:58:37+00:00', 'moddate': '2025-04-08T16:58:37+00:00', 'source': '/content/Chatbot', 'total_pages': 7, 'page': 4, 'page_label': '5'}\n",
            "Chunk 54: page_content='|             |             |              | Model Ready     |\n",
            "    |             |             |              |&lt;----------------|' metadata={'producer': 'Skia/PDF m127', 'creator': 'Chromium', 'creationdate': '2025-04-08T16:58:37+00:00', 'moddate': '2025-04-08T16:58:37+00:00', 'source': '/content/Chatbot', 'total_pages': 7, 'page': 4, 'page_label': '5'}\n",
            "Chunk 55: page_content='|             |             | Ready Status |                 |\n",
            "    |             |             |&lt;-------------|                 |' metadata={'producer': 'Skia/PDF m127', 'creator': 'Chromium', 'creationdate': '2025-04-08T16:58:37+00:00', 'moddate': '2025-04-08T16:58:37+00:00', 'source': '/content/Chatbot', 'total_pages': 7, 'page': 4, 'page_label': '5'}\n",
            "Chunk 56: page_content='|             | Show UI     |              |                 |\n",
            "    |             |&lt;------------|              |                 |' metadata={'producer': 'Skia/PDF m127', 'creator': 'Chromium', 'creationdate': '2025-04-08T16:58:37+00:00', 'moddate': '2025-04-08T16:58:37+00:00', 'source': '/content/Chatbot', 'total_pages': 7, 'page': 4, 'page_label': '5'}\n",
            "Chunk 57: page_content='| UI Ready    |             |              |                 |\n",
            "Deployment Diagram\n",
            "Sequence Diagrams\n",
            "Application Startup Sequence' metadata={'producer': 'Skia/PDF m127', 'creator': 'Chromium', 'creationdate': '2025-04-08T16:58:37+00:00', 'moddate': '2025-04-08T16:58:37+00:00', 'source': '/content/Chatbot', 'total_pages': 7, 'page': 4, 'page_label': '5'}\n",
            "Chunk 58: page_content='|&lt;------------|             |              |                 |\n",
            "+--------+    +-------+    +----------+    +----------+    +-------------+' metadata={'producer': 'Skia/PDF m127', 'creator': 'Chromium', 'creationdate': '2025-04-08T16:58:37+00:00', 'moddate': '2025-04-08T16:58:37+00:00', 'source': '/content/Chatbot', 'total_pages': 7, 'page': 5, 'page_label': '6'}\n",
            "Chunk 59: page_content='+--------+    +-------+    +----------+    +----------+    +-------------+\n",
            "|  User  |    |  UI   |    |MCP Client|    |MCP Server|    |OpenVINO Model|' metadata={'producer': 'Skia/PDF m127', 'creator': 'Chromium', 'creationdate': '2025-04-08T16:58:37+00:00', 'moddate': '2025-04-08T16:58:37+00:00', 'source': '/content/Chatbot', 'total_pages': 7, 'page': 5, 'page_label': '6'}\n",
            "Chunk 60: page_content='+--------+    +-------+    +----------+    +----------+    +-------------+\n",
            "    |             |             |              |                 |' metadata={'producer': 'Skia/PDF m127', 'creator': 'Chromium', 'creationdate': '2025-04-08T16:58:37+00:00', 'moddate': '2025-04-08T16:58:37+00:00', 'source': '/content/Chatbot', 'total_pages': 7, 'page': 5, 'page_label': '6'}\n",
            "Chunk 61: page_content='| Send Message|             |              |                 |\n",
            "    |------------&gt;|             |              |                 |' metadata={'producer': 'Skia/PDF m127', 'creator': 'Chromium', 'creationdate': '2025-04-08T16:58:37+00:00', 'moddate': '2025-04-08T16:58:37+00:00', 'source': '/content/Chatbot', 'total_pages': 7, 'page': 5, 'page_label': '6'}\n",
            "Chunk 62: page_content='|             | Format Msg  |              |                 |\n",
            "    |             |------------&gt;|              |                 |' metadata={'producer': 'Skia/PDF m127', 'creator': 'Chromium', 'creationdate': '2025-04-08T16:58:37+00:00', 'moddate': '2025-04-08T16:58:37+00:00', 'source': '/content/Chatbot', 'total_pages': 7, 'page': 5, 'page_label': '6'}\n",
            "Chunk 63: page_content='|             |             | Send Request |                 |\n",
            "    |             |             |-------------&gt;|                 |' metadata={'producer': 'Skia/PDF m127', 'creator': 'Chromium', 'creationdate': '2025-04-08T16:58:37+00:00', 'moddate': '2025-04-08T16:58:37+00:00', 'source': '/content/Chatbot', 'total_pages': 7, 'page': 5, 'page_label': '6'}\n",
            "Chunk 64: page_content='|             |             |              | Update Context  |\n",
            "    |             |             |              |-----+           |' metadata={'producer': 'Skia/PDF m127', 'creator': 'Chromium', 'creationdate': '2025-04-08T16:58:37+00:00', 'moddate': '2025-04-08T16:58:37+00:00', 'source': '/content/Chatbot', 'total_pages': 7, 'page': 5, 'page_label': '6'}\n",
            "Chunk 65: page_content='|             |             |              |     |           |\n",
            "    |             |             |              |&lt;----+           |' metadata={'producer': 'Skia/PDF m127', 'creator': 'Chromium', 'creationdate': '2025-04-08T16:58:37+00:00', 'moddate': '2025-04-08T16:58:37+00:00', 'source': '/content/Chatbot', 'total_pages': 7, 'page': 5, 'page_label': '6'}\n",
            "Chunk 66: page_content='|             |             |              | Generate Text   |\n",
            "    |             |             |              |----------------&gt;|' metadata={'producer': 'Skia/PDF m127', 'creator': 'Chromium', 'creationdate': '2025-04-08T16:58:37+00:00', 'moddate': '2025-04-08T16:58:37+00:00', 'source': '/content/Chatbot', 'total_pages': 7, 'page': 5, 'page_label': '6'}\n",
            "Chunk 67: page_content='|             |             |              |                 |\n",
            "    |             |             |              | Return Response |' metadata={'producer': 'Skia/PDF m127', 'creator': 'Chromium', 'creationdate': '2025-04-08T16:58:37+00:00', 'moddate': '2025-04-08T16:58:37+00:00', 'source': '/content/Chatbot', 'total_pages': 7, 'page': 5, 'page_label': '6'}\n",
            "Chunk 68: page_content='|             |             |              |&lt;----------------|\n",
            "    |             |             | Response     |                 |' metadata={'producer': 'Skia/PDF m127', 'creator': 'Chromium', 'creationdate': '2025-04-08T16:58:37+00:00', 'moddate': '2025-04-08T16:58:37+00:00', 'source': '/content/Chatbot', 'total_pages': 7, 'page': 5, 'page_label': '6'}\n",
            "Chunk 69: page_content='|             |             |&lt;-------------|                 |\n",
            "    |             | Update UI   |              |                 |' metadata={'producer': 'Skia/PDF m127', 'creator': 'Chromium', 'creationdate': '2025-04-08T16:58:37+00:00', 'moddate': '2025-04-08T16:58:37+00:00', 'source': '/content/Chatbot', 'total_pages': 7, 'page': 5, 'page_label': '6'}\n",
            "Chunk 70: page_content='|             |&lt;------------|              |                 |\n",
            "    | View Response|             |              |                |' metadata={'producer': 'Skia/PDF m127', 'creator': 'Chromium', 'creationdate': '2025-04-08T16:58:37+00:00', 'moddate': '2025-04-08T16:58:37+00:00', 'source': '/content/Chatbot', 'total_pages': 7, 'page': 5, 'page_label': '6'}\n",
            "Chunk 71: page_content='|&lt;------------|             |              |                 |\n",
            "+--------+    +-------+    +----------+    +----------+    +-------------+' metadata={'producer': 'Skia/PDF m127', 'creator': 'Chromium', 'creationdate': '2025-04-08T16:58:37+00:00', 'moddate': '2025-04-08T16:58:37+00:00', 'source': '/content/Chatbot', 'total_pages': 7, 'page': 5, 'page_label': '6'}\n",
            "Chunk 72: page_content='+--------+    +-------+    +----------+    +----------+    +-------------+\n",
            "|  User  |    |  UI   |    |MCP Client|    |MCP Server|    |OpenVINO Model|' metadata={'producer': 'Skia/PDF m127', 'creator': 'Chromium', 'creationdate': '2025-04-08T16:58:37+00:00', 'moddate': '2025-04-08T16:58:37+00:00', 'source': '/content/Chatbot', 'total_pages': 7, 'page': 5, 'page_label': '6'}\n",
            "Chunk 73: page_content='+--------+    +-------+    +----------+    +----------+    +-------------+\n",
            "    |             |             |              |                 |' metadata={'producer': 'Skia/PDF m127', 'creator': 'Chromium', 'creationdate': '2025-04-08T16:58:37+00:00', 'moddate': '2025-04-08T16:58:37+00:00', 'source': '/content/Chatbot', 'total_pages': 7, 'page': 5, 'page_label': '6'}\n",
            "Chunk 74: page_content='| Change Model|             |              |                 |\n",
            "    |------------&gt;|             |              |                 |' metadata={'producer': 'Skia/PDF m127', 'creator': 'Chromium', 'creationdate': '2025-04-08T16:58:37+00:00', 'moddate': '2025-04-08T16:58:37+00:00', 'source': '/content/Chatbot', 'total_pages': 7, 'page': 5, 'page_label': '6'}\n",
            "Chunk 75: page_content='|             | Request     |              |                 |\n",
            "    |             |------------&gt;|              |                 |' metadata={'producer': 'Skia/PDF m127', 'creator': 'Chromium', 'creationdate': '2025-04-08T16:58:37+00:00', 'moddate': '2025-04-08T16:58:37+00:00', 'source': '/content/Chatbot', 'total_pages': 7, 'page': 5, 'page_label': '6'}\n",
            "Chunk 76: page_content='|             |             | Switch Model |                 |\n",
            "    |             |             |-------------&gt;|                 |' metadata={'producer': 'Skia/PDF m127', 'creator': 'Chromium', 'creationdate': '2025-04-08T16:58:37+00:00', 'moddate': '2025-04-08T16:58:37+00:00', 'source': '/content/Chatbot', 'total_pages': 7, 'page': 5, 'page_label': '6'}\n",
            "Chunk 77: page_content='|             |             |              | Unload Current  |\n",
            "    |             |             |              |----------------&gt;|' metadata={'producer': 'Skia/PDF m127', 'creator': 'Chromium', 'creationdate': '2025-04-08T16:58:37+00:00', 'moddate': '2025-04-08T16:58:37+00:00', 'source': '/content/Chatbot', 'total_pages': 7, 'page': 5, 'page_label': '6'}\n",
            "Chunk 78: page_content='|             |             |              |                 |\n",
            "    |             |             |              | Load New Model  |' metadata={'producer': 'Skia/PDF m127', 'creator': 'Chromium', 'creationdate': '2025-04-08T16:58:37+00:00', 'moddate': '2025-04-08T16:58:37+00:00', 'source': '/content/Chatbot', 'total_pages': 7, 'page': 5, 'page_label': '6'}\n",
            "Chunk 79: page_content='|             |             |              |----------------&gt;|\n",
            "    |             |             |              |                 |' metadata={'producer': 'Skia/PDF m127', 'creator': 'Chromium', 'creationdate': '2025-04-08T16:58:37+00:00', 'moddate': '2025-04-08T16:58:37+00:00', 'source': '/content/Chatbot', 'total_pages': 7, 'page': 5, 'page_label': '6'}\n",
            "Chunk 80: page_content='|             |             |              | Model Ready     |\n",
            "    |             |             |              |&lt;----------------|' metadata={'producer': 'Skia/PDF m127', 'creator': 'Chromium', 'creationdate': '2025-04-08T16:58:37+00:00', 'moddate': '2025-04-08T16:58:37+00:00', 'source': '/content/Chatbot', 'total_pages': 7, 'page': 5, 'page_label': '6'}\n",
            "Chunk 81: page_content='|             |             | Ready Status |                 |\n",
            "User Interaction Sequence\n",
            "Model Switching Sequence' metadata={'producer': 'Skia/PDF m127', 'creator': 'Chromium', 'creationdate': '2025-04-08T16:58:37+00:00', 'moddate': '2025-04-08T16:58:37+00:00', 'source': '/content/Chatbot', 'total_pages': 7, 'page': 5, 'page_label': '6'}\n",
            "Chunk 82: page_content='|             |             |&lt;-------------|                 |\n",
            "    |             | Update UI   |              |                 |' metadata={'producer': 'Skia/PDF m127', 'creator': 'Chromium', 'creationdate': '2025-04-08T16:58:37+00:00', 'moddate': '2025-04-08T16:58:37+00:00', 'source': '/content/Chatbot', 'total_pages': 7, 'page': 6, 'page_label': '7'}\n",
            "Chunk 83: page_content='|             |&lt;------------|              |                 |\n",
            "    | Confirmation|             |              |                 |' metadata={'producer': 'Skia/PDF m127', 'creator': 'Chromium', 'creationdate': '2025-04-08T16:58:37+00:00', 'moddate': '2025-04-08T16:58:37+00:00', 'source': '/content/Chatbot', 'total_pages': 7, 'page': 6, 'page_label': '7'}\n",
            "Chunk 84: page_content='|&lt;------------|             |              |                 |\n",
            "+--------+    +-------+    +----------+    +----------+    +-------------+' metadata={'producer': 'Skia/PDF m127', 'creator': 'Chromium', 'creationdate': '2025-04-08T16:58:37+00:00', 'moddate': '2025-04-08T16:58:37+00:00', 'source': '/content/Chatbot', 'total_pages': 7, 'page': 6, 'page_label': '7'}\n",
            "Chunk 85: page_content='The proposed design for the Desktop Chat-Bot Application provides a comprehensive blueprint\n",
            "for building a robust, offline-capable chatbot using the OpenVINO framework and Electron for' metadata={'producer': 'Skia/PDF m127', 'creator': 'Chromium', 'creationdate': '2025-04-08T16:58:37+00:00', 'moddate': '2025-04-08T16:58:37+00:00', 'source': '/content/Chatbot', 'total_pages': 7, 'page': 6, 'page_label': '7'}\n",
            "Chunk 86: page_content='cross-platform deployment. The architecture follows a modular approach with clear separation\n",
            "of concerns between the UI, communication, business logic, and inference layers.' metadata={'producer': 'Skia/PDF m127', 'creator': 'Chromium', 'creationdate': '2025-04-08T16:58:37+00:00', 'moddate': '2025-04-08T16:58:37+00:00', 'source': '/content/Chatbot', 'total_pages': 7, 'page': 6, 'page_label': '7'}\n",
            "Chunk 87: page_content='Key strengths of this design include:\n",
            "The implementation follows modern software design principles and patterns, ensuring' metadata={'producer': 'Skia/PDF m127', 'creator': 'Chromium', 'creationdate': '2025-04-08T16:58:37+00:00', 'moddate': '2025-04-08T16:58:37+00:00', 'source': '/content/Chatbot', 'total_pages': 7, 'page': 6, 'page_label': '7'}\n",
            "Chunk 88: page_content='maintainability, extensibility, and performance. The sequence diagrams provide clear guidance\n",
            "on the expected behavior of the system during various operations, while the UML diagrams offer' metadata={'producer': 'Skia/PDF m127', 'creator': 'Chromium', 'creationdate': '2025-04-08T16:58:37+00:00', 'moddate': '2025-04-08T16:58:37+00:00', 'source': '/content/Chatbot', 'total_pages': 7, 'page': 6, 'page_label': '7'}\n",
            "Chunk 89: page_content='a visual representation of the system's structure and relationships.\n",
            "⁂\n",
            "Conclusion\n",
            "Full offline operation through local model inference\n",
            "Optimized performance with OpenVINO and model quantization' metadata={'producer': 'Skia/PDF m127', 'creator': 'Chromium', 'creationdate': '2025-04-08T16:58:37+00:00', 'moddate': '2025-04-08T16:58:37+00:00', 'source': '/content/Chatbot', 'total_pages': 7, 'page': 6, 'page_label': '7'}\n",
            "Chunk 90: page_content='Scalable architecture through the MCP protocol\n",
            "Cross-platform compatibility via Electron\n",
            "Robust context management for natural conversations\n",
            "\u0000\u0000\u0000https://github.com/muralianand12345/MCP\u0000ChatBot' metadata={'producer': 'Skia/PDF m127', 'creator': 'Chromium', 'creationdate': '2025-04-08T16:58:37+00:00', 'moddate': '2025-04-08T16:58:37+00:00', 'source': '/content/Chatbot', 'total_pages': 7, 'page': 6, 'page_label': '7'}\n",
            "Chunk 91: page_content='\u0000\u0000\u0000https://docs.openvino.ai/2024/notebooks/llm-chatbot-with-output.html\n",
            "\u0000\u0000\u0000https://www.ibm.com/topics/chatbot-design' metadata={'producer': 'Skia/PDF m127', 'creator': 'Chromium', 'creationdate': '2025-04-08T16:58:37+00:00', 'moddate': '2025-04-08T16:58:37+00:00', 'source': '/content/Chatbot', 'total_pages': 7, 'page': 6, 'page_label': '7'}\n"
          ]
        }
      ],
      "source": [
        "for idx, chunk in enumerate(chunks):\n",
        "    print(f\"Chunk {idx + 1}: {chunk}\")"
      ]
    },
    {
      "cell_type": "code",
      "execution_count": 39,
      "metadata": {
        "id": "pW8Zw_ib8pLv"
      },
      "outputs": [],
      "source": [
        "!pip install -q langchain_huggingface"
      ]
    },
    {
      "cell_type": "code",
      "execution_count": 41,
      "metadata": {
        "id": "v5Dxtp-g3Fnt"
      },
      "outputs": [],
      "source": [
        "from langchain_huggingface import HuggingFaceEmbeddings\n",
        "from langchain_community.vectorstores import Chroma\n",
        "\n",
        "# Use local embeddings (more stable)\n",
        "embeddings = HuggingFaceEmbeddings(model_name=\"BAAI/bge-base-en-v1.5\")"
      ]
    },
    {
      "cell_type": "code",
      "execution_count": 42,
      "metadata": {
        "id": "aQy5-heU4woI"
      },
      "outputs": [],
      "source": [
        "# Create vectorstore\n",
        "vectorstore = Chroma.from_documents(chunks, embeddings)"
      ]
    },
    {
      "cell_type": "code",
      "execution_count": 43,
      "metadata": {
        "colab": {
          "base_uri": "https://localhost:8080/"
        },
        "id": "Euedlg4U9c64",
        "outputId": "8ba07251-4eee-4d63-860a-030e2a4c7f25"
      },
      "outputs": [
        {
          "data": {
            "text/plain": [
              "<langchain_community.vectorstores.chroma.Chroma at 0x788d136e11d0>"
            ]
          },
          "execution_count": 43,
          "metadata": {},
          "output_type": "execute_result"
        }
      ],
      "source": [
        "vectorstore"
      ]
    },
    {
      "cell_type": "code",
      "execution_count": 44,
      "metadata": {
        "colab": {
          "base_uri": "https://localhost:8080/"
        },
        "id": "XcujzMvq9qW9",
        "outputId": "c00d5048-988e-46fa-9a90-87658daf5a59"
      },
      "outputs": [
        {
          "data": {
            "text/plain": [
              "VectorStoreRetriever(tags=['Chroma', 'HuggingFaceEmbeddings'], vectorstore=<langchain_community.vectorstores.chroma.Chroma object at 0x788d136e11d0>, search_kwargs={'k': 3})"
            ]
          },
          "execution_count": 44,
          "metadata": {},
          "output_type": "execute_result"
        }
      ],
      "source": [
        "vector_retriever = vectorstore.as_retriever(search_kwargs={\"k\": 3})\n",
        "vector_retriever"
      ]
    },
    {
      "cell_type": "code",
      "execution_count": 45,
      "metadata": {
        "id": "iRww4Ctb-IuF"
      },
      "outputs": [],
      "source": [
        "!pip install -q rank_bm25"
      ]
    },
    {
      "cell_type": "code",
      "execution_count": 46,
      "metadata": {
        "id": "qMV9EKE1-TRT"
      },
      "outputs": [],
      "source": [
        "from langchain.retrievers import BM25Retriever, EnsembleRetriever"
      ]
    },
    {
      "cell_type": "code",
      "execution_count": 47,
      "metadata": {
        "id": "2Zu9j64p950v"
      },
      "outputs": [],
      "source": [
        "keyword_retriver = BM25Retriever.from_documents(chunks)"
      ]
    },
    {
      "cell_type": "code",
      "execution_count": 48,
      "metadata": {
        "id": "r5ycWwUi-lJt"
      },
      "outputs": [],
      "source": [
        "keyword_retriver.k = 3"
      ]
    },
    {
      "cell_type": "code",
      "execution_count": 49,
      "metadata": {
        "id": "luTi6dxO-mj5"
      },
      "outputs": [],
      "source": [
        "ensemble_retriever = EnsembleRetriever(retrievers=[vector_retriever, keyword_retriver], weights=[0.7, 0.3])"
      ]
    },
    {
      "cell_type": "markdown",
      "metadata": {
        "id": "cOiFoU-B_dWa"
      },
      "source": [
        "### Mixingvector search and keyword search for Hybrid Search\n",
        "hybrid_score = (1 - alpha) * `sparse_score` + alpha * `dense_score`"
      ]
    },
    {
      "cell_type": "code",
      "execution_count": 50,
      "metadata": {
        "id": "RxGWkOWU_bBB"
      },
      "outputs": [],
      "source": [
        "model_name = \"HuggingFaceH4/zephyr-7b-beta\""
      ]
    },
    {
      "cell_type": "code",
      "execution_count": 51,
      "metadata": {
        "id": "QKHzuhDYAGYa"
      },
      "outputs": [],
      "source": [
        "!pip install -qU bitsandbytes accelerate"
      ]
    },
    {
      "cell_type": "code",
      "execution_count": 52,
      "metadata": {
        "id": "SR7gn8k5AIyV"
      },
      "outputs": [],
      "source": [
        "import torch\n",
        "from transformers import ( AutoModelForCausalLM, AutoTokenizer, BitsAndBytesConfig, pipeline, )\n",
        "from langchain import HuggingFacePipeline"
      ]
    },
    {
      "cell_type": "code",
      "execution_count": 53,
      "metadata": {
        "id": "Wd2EKjkaAqtO"
      },
      "outputs": [],
      "source": [
        "# function for laoding 4-bit quantized model\n",
        "def load_quantized_model(model_name:str):\n",
        "  \"\"\"\n",
        "  model_name: Name or path of the model to be loaded.\n",
        "  return: Loaded quantized model.\n",
        "  \"\"\"\n",
        "  bnb_config = BitsAndBytesConfig(\n",
        "      load_in_4bit=True,\n",
        "      bnb_4bit_use_double_quant=True,\n",
        "      bnb_4bit_quant_type=\"nf4\",\n",
        "      bnb_4bit_compute_dtype=torch.bfloat16,\n",
        "  )\n",
        "  model = AutoModelForCausalLM.from_pretrained(\n",
        "      model_name,\n",
        "      torch_dtype=torch.bfloat16,\n",
        "      quantization_config=bnb_config,\n",
        "  )\n",
        "  return model"
      ]
    },
    {
      "cell_type": "code",
      "execution_count": 54,
      "metadata": {
        "id": "NDDLewrMBPNu"
      },
      "outputs": [],
      "source": [
        "# Initializing tokenizer\n",
        "def initialize_tokenizer(model_name:str):\n",
        "  \"\"\"\n",
        "  model_name: Name or path of the model to be loaded.\n",
        "  return: Tokenizer for the model.\n",
        "  \"\"\"\n",
        "  tokenizer = AutoTokenizer.from_pretrained(model_name, return_token_type_ids=False)\n",
        "  tokenizer.bos_token_id = 1 # Set beginning of sentence token id\n",
        "  return tokenizer"
      ]
    },
    {
      "cell_type": "code",
      "execution_count": 55,
      "metadata": {
        "id": "pCldNjOkBqld"
      },
      "outputs": [],
      "source": [
        "tokenizer = initialize_tokenizer(model_name)"
      ]
    },
    {
      "cell_type": "code",
      "execution_count": 56,
      "metadata": {
        "colab": {
          "base_uri": "https://localhost:8080/"
        },
        "id": "ztWrMliLFhP_",
        "outputId": "25f661b3-ef43-4be1-89d4-9aece1da5d08"
      },
      "outputs": [
        {
          "name": "stdout",
          "output_type": "stream",
          "text": [
            "Requirement already satisfied: bitsandbytes in /usr/local/lib/python3.11/dist-packages (0.46.0)\n",
            "Requirement already satisfied: torch<3,>=2.2 in /usr/local/lib/python3.11/dist-packages (from bitsandbytes) (2.6.0+cu124)\n",
            "Requirement already satisfied: numpy>=1.17 in /usr/local/lib/python3.11/dist-packages (from bitsandbytes) (2.0.2)\n",
            "Requirement already satisfied: filelock in /usr/local/lib/python3.11/dist-packages (from torch<3,>=2.2->bitsandbytes) (3.18.0)\n",
            "Requirement already satisfied: typing-extensions>=4.10.0 in /usr/local/lib/python3.11/dist-packages (from torch<3,>=2.2->bitsandbytes) (4.14.0)\n",
            "Requirement already satisfied: networkx in /usr/local/lib/python3.11/dist-packages (from torch<3,>=2.2->bitsandbytes) (3.5)\n",
            "Requirement already satisfied: jinja2 in /usr/local/lib/python3.11/dist-packages (from torch<3,>=2.2->bitsandbytes) (3.1.6)\n",
            "Requirement already satisfied: fsspec in /usr/local/lib/python3.11/dist-packages (from torch<3,>=2.2->bitsandbytes) (2025.3.2)\n",
            "Requirement already satisfied: nvidia-cuda-nvrtc-cu12==12.4.127 in /usr/local/lib/python3.11/dist-packages (from torch<3,>=2.2->bitsandbytes) (12.4.127)\n",
            "Requirement already satisfied: nvidia-cuda-runtime-cu12==12.4.127 in /usr/local/lib/python3.11/dist-packages (from torch<3,>=2.2->bitsandbytes) (12.4.127)\n",
            "Requirement already satisfied: nvidia-cuda-cupti-cu12==12.4.127 in /usr/local/lib/python3.11/dist-packages (from torch<3,>=2.2->bitsandbytes) (12.4.127)\n",
            "Requirement already satisfied: nvidia-cudnn-cu12==9.1.0.70 in /usr/local/lib/python3.11/dist-packages (from torch<3,>=2.2->bitsandbytes) (9.1.0.70)\n",
            "Requirement already satisfied: nvidia-cublas-cu12==12.4.5.8 in /usr/local/lib/python3.11/dist-packages (from torch<3,>=2.2->bitsandbytes) (12.4.5.8)\n",
            "Requirement already satisfied: nvidia-cufft-cu12==11.2.1.3 in /usr/local/lib/python3.11/dist-packages (from torch<3,>=2.2->bitsandbytes) (11.2.1.3)\n",
            "Requirement already satisfied: nvidia-curand-cu12==10.3.5.147 in /usr/local/lib/python3.11/dist-packages (from torch<3,>=2.2->bitsandbytes) (10.3.5.147)\n",
            "Requirement already satisfied: nvidia-cusolver-cu12==11.6.1.9 in /usr/local/lib/python3.11/dist-packages (from torch<3,>=2.2->bitsandbytes) (11.6.1.9)\n",
            "Requirement already satisfied: nvidia-cusparse-cu12==12.3.1.170 in /usr/local/lib/python3.11/dist-packages (from torch<3,>=2.2->bitsandbytes) (12.3.1.170)\n",
            "Requirement already satisfied: nvidia-cusparselt-cu12==0.6.2 in /usr/local/lib/python3.11/dist-packages (from torch<3,>=2.2->bitsandbytes) (0.6.2)\n",
            "Requirement already satisfied: nvidia-nccl-cu12==2.21.5 in /usr/local/lib/python3.11/dist-packages (from torch<3,>=2.2->bitsandbytes) (2.21.5)\n",
            "Requirement already satisfied: nvidia-nvtx-cu12==12.4.127 in /usr/local/lib/python3.11/dist-packages (from torch<3,>=2.2->bitsandbytes) (12.4.127)\n",
            "Requirement already satisfied: nvidia-nvjitlink-cu12==12.4.127 in /usr/local/lib/python3.11/dist-packages (from torch<3,>=2.2->bitsandbytes) (12.4.127)\n",
            "Requirement already satisfied: triton==3.2.0 in /usr/local/lib/python3.11/dist-packages (from torch<3,>=2.2->bitsandbytes) (3.2.0)\n",
            "Requirement already satisfied: sympy==1.13.1 in /usr/local/lib/python3.11/dist-packages (from torch<3,>=2.2->bitsandbytes) (1.13.1)\n",
            "Requirement already satisfied: mpmath<1.4,>=1.1.0 in /usr/local/lib/python3.11/dist-packages (from sympy==1.13.1->torch<3,>=2.2->bitsandbytes) (1.3.0)\n",
            "Requirement already satisfied: MarkupSafe>=2.0 in /usr/local/lib/python3.11/dist-packages (from jinja2->torch<3,>=2.2->bitsandbytes) (3.0.2)\n"
          ]
        }
      ],
      "source": [
        "pip install -U bitsandbytes"
      ]
    },
    {
      "cell_type": "code",
      "execution_count": 57,
      "metadata": {
        "colab": {
          "base_uri": "https://localhost:8080/",
          "height": 625,
          "referenced_widgets": [
            "ae3c6ffb82e741f98b41ec2ad4161ef3",
            "05e43f011c4848289fe7d622f97e9c22",
            "c839652dda244969bbd80d16a4b93bb1",
            "3a0b9f5441d44aa9a744d62f106ad5d2",
            "a597b44a2fc04cacaa7d9c32d59d6b19",
            "30622afbdafc4cd1afac76167563764f",
            "3707516b60dd4b618e198bcf05c32947",
            "9f31f9e642344175a068ba7bac19ea31",
            "49b79967368e42089b4d886830c5361a",
            "c46bbc26d27b4fbeb5647fe29925931d",
            "64f0c43e38ec4426b05776fec8076cd6",
            "42a2fc7f17704be0985f272b67a8d493",
            "a9d7cb28cd4946669095b1ca17eb54ec",
            "1b18c8cc1a8648d7932b7ed2593d589a",
            "07e2c41dd07941189019769e6f38b3d1",
            "54ee5712ab084d6ea3b318308c7083b4",
            "3de463d233324062add631da5067e87c",
            "dbba54b019f64405bbcf1ca193bcbad0",
            "5569e1c3d36844daa52ab50057dcf251",
            "0c573e140cb043648a12210cb9380738",
            "574ebfcfb4684579beb748451a1c6e63",
            "ebf2b58e80554251b961caee8d78d764",
            "369df076068b4d6595dd993197e2f891",
            "ddd40dd2269045a489c441f4abaf3f2e",
            "663c109507dd40d1be0c34b454ddf9da",
            "00a16a4f81ca4e89ae7a98948ec3cc80",
            "8c07ce8cbcd44396beb2f5d380b18d18",
            "0671544e32a943328a872a17ca12c39a",
            "0c0bebf12b3847d19ccb35cbed1af463",
            "2556e5456d2245a5b8800f2996646ef3",
            "b345fdb8dd0246b088f7fe15dfa82ccb",
            "23294935b9ce41f19a045c79ae495488",
            "76076e2ca955439593075ac0568af15f",
            "2268f4e8952747b9898b2bc5ad8350b4",
            "d86cab0f70024bebaed5d5fba77809b9",
            "212db620355042078a8ab81292f42f2e",
            "cca25abedc5a4d4f8c91575d5a7e5fe6",
            "fb8c82e655df49e28d9f39c4c0d77983",
            "35323f1768f044be8e2168d1906840e3",
            "2e3baafd68644a63b670aca185f8911b",
            "5880cea4815342edb097e7f6c3a3ace5",
            "25ca35390e604af9a8f5d952732634ee",
            "5bd67cc08a644e9583e0d393402a77c0",
            "f3ebc59a102740d78b7f29de6cd32a2f",
            "b579683fe45f4d9499e23b02eb907231",
            "0ede4a074a3c42ada6a638b6ca1e32d2",
            "8c33a2c767484e868d76662d18968e9e",
            "299165b29e8646fd9512f630d1e93ef5",
            "a41cd8e1b79e485796ed2b01f3106888",
            "53399f0824a0495dbe4766435e0307ef",
            "a92ec6cbf7984756bb15e77e28e2eafd",
            "ec13b8a2041c4bee90ffbabe859af3d9",
            "b7fc0946402e445f9f90b8a35feb5151",
            "ca6b2fb05b264fd1beb144062df75316",
            "0d72c248b51947dfb67852e70fb47c58",
            "3318c63ae9944d0684e61cca0f799469",
            "25bf8957b15a45cab2383bc946a2561f",
            "968bf79f52da4a44aa5d7d2cc071d2aa",
            "5366b60287724ad7a7612e6bdfedac38",
            "a676ecd0fcca407d8377fd8218f70501",
            "10556eb5a5aa48139864128fdc5ea2f8",
            "ffdaa483e37a4014934dab8c0f49606b",
            "56aa1d78114e4b9593cc866eb0947225",
            "137c58dfa3a945f094989fbe50775f8b",
            "5eced935fccb44a3be04bb40a93ec284",
            "1781b93dea2045e38fdbec87b36f5544",
            "010a4c34989f441fad41c98bfc59eb46",
            "e115eb663ec841ca8ba0e8a99b90b183",
            "0eb87ad35e564c44a1c504b12390f184",
            "3a20a19c82864a7abcbb8f5a9da98e2c",
            "99a4859b84274866960ba938c8210c5c",
            "cef7932d52624ae69ded4672856ff247",
            "284aebffd7e946df9184d6f8baebf856",
            "741980a5785b499390edc877a760e03d",
            "6069060ec39642b8ad3bbbf1748d7277",
            "31cd70f3160f4178a4011a5162a48b38",
            "09db262e38074f78b0e088a88b6df3fb",
            "434ecafc94a84d86a9261ff64909fffb",
            "911d52870be846269adccffbc13f3bf6",
            "5c001217b2cf4b5195c363ed26b3c7ec",
            "7cd40b97e6af48ab928d7df6a507462e",
            "bdfdf8df8ceb43149f5593831b747c53",
            "6e41a712bf4946cca1401845f3d0be2b",
            "5fecf3e7d6ba4426be26b7e738992615",
            "a6270cc2b5da4386a9c32aef9a2f93d4",
            "f2ae13bc79914e939ec4c2cc3f5065dc",
            "4bd887b1eec747ff93278b2a90359fc2",
            "024c4c5dd0b74d49b7e2d04ab559fa58",
            "902655f1955c405097fe1389629392b4",
            "adafc2f5d02f43029a8842cb7d309e03",
            "900d138ac3984399b81fc75cbb44092c",
            "bbb1620682fa4f50bcb3b73c692a87de",
            "b32f65eb442741fb90b4cab57ddcf4fe",
            "14097ba6443a46198d79b81960ccab13",
            "9f2a64643b2a4f8cacad2bf25d171270",
            "1ddf817d2f6e453c8642165d9d853715",
            "4032a501c67f415296f249ecc08f7d36",
            "a6bab15c90d443d98c8cbf88d1e72918",
            "6127889a97324dc7b2095d65918b7384",
            "b65b0e1a51754a73ad705b68847db0fe",
            "f00372721bf948bf8d37bca31a84168e",
            "651e16248fc3446ea606c9be808c55ed",
            "a3ed54e697e041ccb5cec60684d51346",
            "2f587dd8fc0046e985870b461892de2c",
            "0b1ef4f59b1c47e9938969413a9c5094",
            "fe7693ff29c042f0a4c0811c20f7300c",
            "5d2bfdc8f55e4ece8d8b7805b626a81b",
            "75954116e367488b80600e4fff4b2d4a",
            "67e3a76a01f044118cb81ba0991fe54b",
            "fa9a4d84462c4ff89da29b4f454552b2",
            "8a080508d2d3418fafe5c039a213d03a",
            "951543166dab4db7a5a72217d57cc470",
            "c53698dc050f4d87ad9873a13235d52e",
            "e6da94c304774d9d94f972653b839b64",
            "a48ff7158b1f4d7a8dccffcdb37ec73b",
            "ee6e58ac603c4dcbbe2bc0df52ab493e",
            "83747e46d0b8493899286780ebc6cb55",
            "9b2ff520b1f843178d7ec76eb2e925b5",
            "95384d9033324990aa5dffc30ad4ee76",
            "308ca71ee8dc4536913b1da63e5665a7",
            "a79c2d9397b344bba48aab2f73ce491c",
            "8e72daa070a84dce9b5a247a1d51e0dc",
            "acb91cb9d14244cda15d39cd24c18d7d",
            "5376e9cbd66347ada39fe59a919bc859",
            "39640821473b41c7a0d2469821ff3195",
            "23de66e41f874ab68c4136db19b7d8ab",
            "4c6af57c5cc84ede83965c767c87dddc",
            "7571efb6f74f45fab2a8219afb92eb64",
            "0ab6eff429e945bfba1b59c342c2e1f5",
            "b60f39024723438c80cc70b223d3b62b",
            "c594e56390ec4843a879d0b01d23163c",
            "ae254bccfe304b2f83e9d0b5dfe9dc7c"
          ]
        },
        "id": "gBf7JqOTB4lI",
        "outputId": "294fc142-67ca-41ff-b651-25679278ee4e"
      },
      "outputs": [
        {
          "data": {
            "application/vnd.jupyter.widget-view+json": {
              "model_id": "ae3c6ffb82e741f98b41ec2ad4161ef3",
              "version_major": 2,
              "version_minor": 0
            },
            "text/plain": [
              "model.safetensors.index.json:   0%|          | 0.00/23.9k [00:00<?, ?B/s]"
            ]
          },
          "metadata": {},
          "output_type": "display_data"
        },
        {
          "data": {
            "application/vnd.jupyter.widget-view+json": {
              "model_id": "42a2fc7f17704be0985f272b67a8d493",
              "version_major": 2,
              "version_minor": 0
            },
            "text/plain": [
              "Fetching 8 files:   0%|          | 0/8 [00:00<?, ?it/s]"
            ]
          },
          "metadata": {},
          "output_type": "display_data"
        },
        {
          "data": {
            "application/vnd.jupyter.widget-view+json": {
              "model_id": "369df076068b4d6595dd993197e2f891",
              "version_major": 2,
              "version_minor": 0
            },
            "text/plain": [
              "model-00001-of-00008.safetensors:   0%|          | 0.00/1.89G [00:00<?, ?B/s]"
            ]
          },
          "metadata": {},
          "output_type": "display_data"
        },
        {
          "data": {
            "application/vnd.jupyter.widget-view+json": {
              "model_id": "2268f4e8952747b9898b2bc5ad8350b4",
              "version_major": 2,
              "version_minor": 0
            },
            "text/plain": [
              "model-00005-of-00008.safetensors:   0%|          | 0.00/1.98G [00:00<?, ?B/s]"
            ]
          },
          "metadata": {},
          "output_type": "display_data"
        },
        {
          "data": {
            "application/vnd.jupyter.widget-view+json": {
              "model_id": "b579683fe45f4d9499e23b02eb907231",
              "version_major": 2,
              "version_minor": 0
            },
            "text/plain": [
              "model-00006-of-00008.safetensors:   0%|          | 0.00/1.95G [00:00<?, ?B/s]"
            ]
          },
          "metadata": {},
          "output_type": "display_data"
        },
        {
          "data": {
            "application/vnd.jupyter.widget-view+json": {
              "model_id": "3318c63ae9944d0684e61cca0f799469",
              "version_major": 2,
              "version_minor": 0
            },
            "text/plain": [
              "model-00007-of-00008.safetensors:   0%|          | 0.00/1.98G [00:00<?, ?B/s]"
            ]
          },
          "metadata": {},
          "output_type": "display_data"
        },
        {
          "data": {
            "application/vnd.jupyter.widget-view+json": {
              "model_id": "010a4c34989f441fad41c98bfc59eb46",
              "version_major": 2,
              "version_minor": 0
            },
            "text/plain": [
              "model-00003-of-00008.safetensors:   0%|          | 0.00/1.98G [00:00<?, ?B/s]"
            ]
          },
          "metadata": {},
          "output_type": "display_data"
        },
        {
          "data": {
            "application/vnd.jupyter.widget-view+json": {
              "model_id": "434ecafc94a84d86a9261ff64909fffb",
              "version_major": 2,
              "version_minor": 0
            },
            "text/plain": [
              "model-00008-of-00008.safetensors:   0%|          | 0.00/816M [00:00<?, ?B/s]"
            ]
          },
          "metadata": {},
          "output_type": "display_data"
        },
        {
          "data": {
            "application/vnd.jupyter.widget-view+json": {
              "model_id": "902655f1955c405097fe1389629392b4",
              "version_major": 2,
              "version_minor": 0
            },
            "text/plain": [
              "model-00004-of-00008.safetensors:   0%|          | 0.00/1.95G [00:00<?, ?B/s]"
            ]
          },
          "metadata": {},
          "output_type": "display_data"
        },
        {
          "data": {
            "application/vnd.jupyter.widget-view+json": {
              "model_id": "b65b0e1a51754a73ad705b68847db0fe",
              "version_major": 2,
              "version_minor": 0
            },
            "text/plain": [
              "model-00002-of-00008.safetensors:   0%|          | 0.00/1.95G [00:00<?, ?B/s]"
            ]
          },
          "metadata": {},
          "output_type": "display_data"
        },
        {
          "data": {
            "application/vnd.jupyter.widget-view+json": {
              "model_id": "8a080508d2d3418fafe5c039a213d03a",
              "version_major": 2,
              "version_minor": 0
            },
            "text/plain": [
              "Loading checkpoint shards:   0%|          | 0/8 [00:00<?, ?it/s]"
            ]
          },
          "metadata": {},
          "output_type": "display_data"
        },
        {
          "data": {
            "application/vnd.jupyter.widget-view+json": {
              "model_id": "8e72daa070a84dce9b5a247a1d51e0dc",
              "version_major": 2,
              "version_minor": 0
            },
            "text/plain": [
              "generation_config.json:   0%|          | 0.00/111 [00:00<?, ?B/s]"
            ]
          },
          "metadata": {},
          "output_type": "display_data"
        }
      ],
      "source": [
        "model = load_quantized_model(model_name)"
      ]
    },
    {
      "cell_type": "code",
      "execution_count": 58,
      "metadata": {
        "colab": {
          "base_uri": "https://localhost:8080/"
        },
        "id": "XHnHGYBbB8XM",
        "outputId": "57750556-95ef-4bc4-ca1c-a4b059dd7bdb"
      },
      "outputs": [
        {
          "name": "stderr",
          "output_type": "stream",
          "text": [
            "Device set to use cuda:0\n"
          ]
        }
      ],
      "source": [
        "pipeline = pipeline(\n",
        "    \"text-generation\",\n",
        "    model=model,\n",
        "    tokenizer=tokenizer,\n",
        "    use_cache=True,\n",
        "    device_map=\"auto\",\n",
        "    max_length=2048,\n",
        "    do_sample=True,\n",
        "    top_k=5,\n",
        "    num_return_sequences=1,\n",
        "    eos_token_id=tokenizer.eos_token_id,\n",
        "    pad_token_id=tokenizer.eos_token_id,\n",
        ")"
      ]
    },
    {
      "cell_type": "code",
      "execution_count": 59,
      "metadata": {
        "colab": {
          "base_uri": "https://localhost:8080/"
        },
        "id": "rKfIkqvgCZEe",
        "outputId": "cb1802f3-ee35-4e04-c8f7-c3826ef44a6d"
      },
      "outputs": [
        {
          "name": "stderr",
          "output_type": "stream",
          "text": [
            "<ipython-input-59-2000179770>:1: LangChainDeprecationWarning: The class `HuggingFacePipeline` was deprecated in LangChain 0.0.37 and will be removed in 1.0. An updated version of the class exists in the :class:`~langchain-huggingface package and should be used instead. To use it run `pip install -U :class:`~langchain-huggingface` and import as `from :class:`~langchain_huggingface import HuggingFacePipeline``.\n",
            "  llm = HuggingFacePipeline(pipeline=pipeline)\n"
          ]
        }
      ],
      "source": [
        "llm = HuggingFacePipeline(pipeline=pipeline)"
      ]
    },
    {
      "cell_type": "code",
      "execution_count": 60,
      "metadata": {
        "id": "f3nOK_pqCdo9"
      },
      "outputs": [],
      "source": [
        "from langchain.chains import RetrievalQA"
      ]
    },
    {
      "cell_type": "code",
      "execution_count": 61,
      "metadata": {
        "id": "G_XHAfYqCf0a"
      },
      "outputs": [],
      "source": [
        "normal_chain = RetrievalQA.from_chain_type(\n",
        "    llm=llm,\n",
        "    chain_type=\"stuff\",\n",
        "    retriever=vector_retriever,\n",
        ")"
      ]
    },
    {
      "cell_type": "code",
      "execution_count": 62,
      "metadata": {
        "id": "XbKzyR-BCftN"
      },
      "outputs": [],
      "source": [
        "hybrid_chain = RetrievalQA.from_chain_type(\n",
        "    llm=llm,\n",
        "    chain_type=\"stuff\",\n",
        "    retriever=ensemble_retriever,\n",
        ")"
      ]
    },
    {
      "cell_type": "code",
      "execution_count": 66,
      "metadata": {
        "id": "FE6X9F9fDWTX"
      },
      "outputs": [],
      "source": [
        "response1 = normal_chain.invoke(\"What is History Manager?\")"
      ]
    },
    {
      "cell_type": "code",
      "execution_count": 67,
      "metadata": {
        "colab": {
          "base_uri": "https://localhost:8080/"
        },
        "id": "Z_FxwvIiEHsO",
        "outputId": "7d5d17f1-f826-4dfd-b7cb-0d73986ca9e7"
      },
      "outputs": [
        {
          "data": {
            "text/plain": [
              "{'query': 'What is History Manager?',\n",
              " 'result': \"Use the following pieces of context to answer the question at the end. If you don't know the answer, just say that you don't know, don't try to make up an answer.\\n\\nFrontend Components\\nUI Interface: Streamlit-based responsive user interface for chatbot interactions\\x001\\x00\\nChat History Manager: Maintains conversation state and history\\n\\n- get_context_history(context_id: ContextID, limit: int): List[Message]\\n- prune_context(context_id: ContextID, max_tokens: int): void\\nThe user interface is designed with:\\n\\nContext Management\\n\\x00\\x00\\x00Conversation State: Tracking ongoing conversations and their states\\n\\x00\\x00\\x00Memory Management: Efficient handling of conversation history with sliding windows\\n\\nQuestion: What is History Manager?\\nHelpful Answer: The History Manager in this context is responsible for managing and maintaining the history of conversations. It provides two main functionalities - getting the context history for a specific conversation and pruning the conversation history when it reaches a certain size. This allows for efficient and effective handling of conversation history with sliding windows, as mentioned in the text.\"}"
            ]
          },
          "execution_count": 67,
          "metadata": {},
          "output_type": "execute_result"
        }
      ],
      "source": [
        "response1"
      ]
    },
    {
      "cell_type": "code",
      "execution_count": 68,
      "metadata": {
        "colab": {
          "base_uri": "https://localhost:8080/"
        },
        "id": "ydvhmj7cGg4s",
        "outputId": "3d7200e6-40fe-4a45-d6bf-dc2d284be459"
      },
      "outputs": [
        {
          "name": "stdout",
          "output_type": "stream",
          "text": [
            "Use the following pieces of context to answer the question at the end. If you don't know the answer, just say that you don't know, don't try to make up an answer.\n",
            "\n",
            "Frontend Components\n",
            "UI Interface: Streamlit-based responsive user interface for chatbot interactions\u00001\u0000\n",
            "Chat History Manager: Maintains conversation state and history\n",
            "\n",
            "- get_context_history(context_id: ContextID, limit: int): List[Message]\n",
            "- prune_context(context_id: ContextID, max_tokens: int): void\n",
            "The user interface is designed with:\n",
            "\n",
            "Context Management\n",
            "\u0000\u0000\u0000Conversation State: Tracking ongoing conversations and their states\n",
            "\u0000\u0000\u0000Memory Management: Efficient handling of conversation history with sliding windows\n",
            "\n",
            "Question: What is History Manager?\n",
            "Helpful Answer: The History Manager in this context is responsible for managing and maintaining the history of conversations. It provides two main functionalities - getting the context history for a specific conversation and pruning the conversation history when it reaches a certain size. This allows for efficient and effective handling of conversation history with sliding windows, as mentioned in the text.\n"
          ]
        }
      ],
      "source": [
        "print(response1.get(\"result\"))"
      ]
    },
    {
      "cell_type": "code",
      "execution_count": 70,
      "metadata": {
        "id": "0AOy-4O7Jsqh"
      },
      "outputs": [],
      "source": [
        "response2 = hybrid_chain.invoke(\"What is History Manager?\")"
      ]
    },
    {
      "cell_type": "code",
      "execution_count": 71,
      "metadata": {
        "colab": {
          "base_uri": "https://localhost:8080/"
        },
        "id": "tvIHWRnLKXaM",
        "outputId": "da80d188-5893-49b6-c739-c4bf3e53bd09"
      },
      "outputs": [
        {
          "data": {
            "text/plain": [
              "{'query': 'What is History Manager?',\n",
              " 'result': \"Use the following pieces of context to answer the question at the end. If you don't know the answer, just say that you don't know, don't try to make up an answer.\\n\\nFrontend Components\\nUI Interface: Streamlit-based responsive user interface for chatbot interactions\\x001\\x00\\nChat History Manager: Maintains conversation state and history\\n\\n- get_context_history(context_id: ContextID, limit: int): List[Message]\\n- prune_context(context_id: ContextID, max_tokens: int): void\\nThe user interface is designed with:\\n\\nContext Management\\n\\x00\\x00\\x00Conversation State: Tracking ongoing conversations and their states\\n\\x00\\x00\\x00Memory Management: Efficient handling of conversation history with sliding windows\\n\\n\\x00\\x00\\x00https://docs.openvino.ai/2024/notebooks/llm-chatbot-with-output.html\\n\\x00\\x00\\x00https://www.ibm.com/topics/chatbot-design\\n\\nQuestion: What is History Manager?\\nHelpful Answer: The History Manager is a component in the chatbot system responsible for maintaining the conversation state and history. It allows the chatbot to remember previous interactions and provide relevant responses based on the user's input. The History Manager can be accessed through the `get_context_history()` and `prune_context()` methods, which respectively return the conversation history for a specific context and delete messages older than a specified number of tokens.\"}"
            ]
          },
          "execution_count": 71,
          "metadata": {},
          "output_type": "execute_result"
        }
      ],
      "source": [
        "response2"
      ]
    },
    {
      "cell_type": "code",
      "execution_count": 72,
      "metadata": {
        "colab": {
          "base_uri": "https://localhost:8080/"
        },
        "id": "cduv92jlKczm",
        "outputId": "221df6bf-cdc9-47ab-fa59-0c159c3805d1"
      },
      "outputs": [
        {
          "name": "stdout",
          "output_type": "stream",
          "text": [
            "Use the following pieces of context to answer the question at the end. If you don't know the answer, just say that you don't know, don't try to make up an answer.\n",
            "\n",
            "Frontend Components\n",
            "UI Interface: Streamlit-based responsive user interface for chatbot interactions\u00001\u0000\n",
            "Chat History Manager: Maintains conversation state and history\n",
            "\n",
            "- get_context_history(context_id: ContextID, limit: int): List[Message]\n",
            "- prune_context(context_id: ContextID, max_tokens: int): void\n",
            "The user interface is designed with:\n",
            "\n",
            "Context Management\n",
            "\u0000\u0000\u0000Conversation State: Tracking ongoing conversations and their states\n",
            "\u0000\u0000\u0000Memory Management: Efficient handling of conversation history with sliding windows\n",
            "\n",
            "\u0000\u0000\u0000https://docs.openvino.ai/2024/notebooks/llm-chatbot-with-output.html\n",
            "\u0000\u0000\u0000https://www.ibm.com/topics/chatbot-design\n",
            "\n",
            "Question: What is History Manager?\n",
            "Helpful Answer: The History Manager is a component in the chatbot system responsible for maintaining the conversation state and history. It allows the chatbot to remember previous interactions and provide relevant responses based on the user's input. The History Manager can be accessed through the `get_context_history()` and `prune_context()` methods, which respectively return the conversation history for a specific context and delete messages older than a specified number of tokens.\n"
          ]
        }
      ],
      "source": [
        "print(response2.get(\"result\"))"
      ]
    },
    {
      "cell_type": "code",
      "execution_count": null,
      "metadata": {
        "id": "26qEXix3KegU"
      },
      "outputs": [],
      "source": []
    }
  ],
  "metadata": {
    "accelerator": "GPU",
    "colab": {
      "gpuType": "T4",
      "provenance": []
    },
    "kernelspec": {
      "display_name": "Python 3",
      "name": "python3"
    },
    "language_info": {
      "name": "python"
    },
    "widgets": {
      "application/vnd.jupyter.widget-state+json": {
        "00a16a4f81ca4e89ae7a98948ec3cc80": {
          "model_module": "@jupyter-widgets/controls",
          "model_module_version": "1.5.0",
          "model_name": "HTMLModel",
          "state": {
            "_dom_classes": [],
            "_model_module": "@jupyter-widgets/controls",
            "_model_module_version": "1.5.0",
            "_model_name": "HTMLModel",
            "_view_count": null,
            "_view_module": "@jupyter-widgets/controls",
            "_view_module_version": "1.5.0",
            "_view_name": "HTMLView",
            "description": "",
            "description_tooltip": null,
            "layout": "IPY_MODEL_23294935b9ce41f19a045c79ae495488",
            "placeholder": "​",
            "style": "IPY_MODEL_76076e2ca955439593075ac0568af15f",
            "value": " 1.89G/1.89G [13:01&lt;00:00, 6.25MB/s]"
          }
        },
        "010a4c34989f441fad41c98bfc59eb46": {
          "model_module": "@jupyter-widgets/controls",
          "model_module_version": "1.5.0",
          "model_name": "HBoxModel",
          "state": {
            "_dom_classes": [],
            "_model_module": "@jupyter-widgets/controls",
            "_model_module_version": "1.5.0",
            "_model_name": "HBoxModel",
            "_view_count": null,
            "_view_module": "@jupyter-widgets/controls",
            "_view_module_version": "1.5.0",
            "_view_name": "HBoxView",
            "box_style": "",
            "children": [
              "IPY_MODEL_e115eb663ec841ca8ba0e8a99b90b183",
              "IPY_MODEL_0eb87ad35e564c44a1c504b12390f184",
              "IPY_MODEL_3a20a19c82864a7abcbb8f5a9da98e2c"
            ],
            "layout": "IPY_MODEL_99a4859b84274866960ba938c8210c5c"
          }
        },
        "024c4c5dd0b74d49b7e2d04ab559fa58": {
          "model_module": "@jupyter-widgets/controls",
          "model_module_version": "1.5.0",
          "model_name": "DescriptionStyleModel",
          "state": {
            "_model_module": "@jupyter-widgets/controls",
            "_model_module_version": "1.5.0",
            "_model_name": "DescriptionStyleModel",
            "_view_count": null,
            "_view_module": "@jupyter-widgets/base",
            "_view_module_version": "1.2.0",
            "_view_name": "StyleView",
            "description_width": ""
          }
        },
        "05e43f011c4848289fe7d622f97e9c22": {
          "model_module": "@jupyter-widgets/controls",
          "model_module_version": "1.5.0",
          "model_name": "HTMLModel",
          "state": {
            "_dom_classes": [],
            "_model_module": "@jupyter-widgets/controls",
            "_model_module_version": "1.5.0",
            "_model_name": "HTMLModel",
            "_view_count": null,
            "_view_module": "@jupyter-widgets/controls",
            "_view_module_version": "1.5.0",
            "_view_name": "HTMLView",
            "description": "",
            "description_tooltip": null,
            "layout": "IPY_MODEL_30622afbdafc4cd1afac76167563764f",
            "placeholder": "​",
            "style": "IPY_MODEL_3707516b60dd4b618e198bcf05c32947",
            "value": "model.safetensors.index.json: 100%"
          }
        },
        "0671544e32a943328a872a17ca12c39a": {
          "model_module": "@jupyter-widgets/base",
          "model_module_version": "1.2.0",
          "model_name": "LayoutModel",
          "state": {
            "_model_module": "@jupyter-widgets/base",
            "_model_module_version": "1.2.0",
            "_model_name": "LayoutModel",
            "_view_count": null,
            "_view_module": "@jupyter-widgets/base",
            "_view_module_version": "1.2.0",
            "_view_name": "LayoutView",
            "align_content": null,
            "align_items": null,
            "align_self": null,
            "border": null,
            "bottom": null,
            "display": null,
            "flex": null,
            "flex_flow": null,
            "grid_area": null,
            "grid_auto_columns": null,
            "grid_auto_flow": null,
            "grid_auto_rows": null,
            "grid_column": null,
            "grid_gap": null,
            "grid_row": null,
            "grid_template_areas": null,
            "grid_template_columns": null,
            "grid_template_rows": null,
            "height": null,
            "justify_content": null,
            "justify_items": null,
            "left": null,
            "margin": null,
            "max_height": null,
            "max_width": null,
            "min_height": null,
            "min_width": null,
            "object_fit": null,
            "object_position": null,
            "order": null,
            "overflow": null,
            "overflow_x": null,
            "overflow_y": null,
            "padding": null,
            "right": null,
            "top": null,
            "visibility": null,
            "width": null
          }
        },
        "07e2c41dd07941189019769e6f38b3d1": {
          "model_module": "@jupyter-widgets/controls",
          "model_module_version": "1.5.0",
          "model_name": "HTMLModel",
          "state": {
            "_dom_classes": [],
            "_model_module": "@jupyter-widgets/controls",
            "_model_module_version": "1.5.0",
            "_model_name": "HTMLModel",
            "_view_count": null,
            "_view_module": "@jupyter-widgets/controls",
            "_view_module_version": "1.5.0",
            "_view_name": "HTMLView",
            "description": "",
            "description_tooltip": null,
            "layout": "IPY_MODEL_574ebfcfb4684579beb748451a1c6e63",
            "placeholder": "​",
            "style": "IPY_MODEL_ebf2b58e80554251b961caee8d78d764",
            "value": " 8/8 [13:02&lt;00:00, 782.10s/it]"
          }
        },
        "09db262e38074f78b0e088a88b6df3fb": {
          "model_module": "@jupyter-widgets/controls",
          "model_module_version": "1.5.0",
          "model_name": "DescriptionStyleModel",
          "state": {
            "_model_module": "@jupyter-widgets/controls",
            "_model_module_version": "1.5.0",
            "_model_name": "DescriptionStyleModel",
            "_view_count": null,
            "_view_module": "@jupyter-widgets/base",
            "_view_module_version": "1.2.0",
            "_view_name": "StyleView",
            "description_width": ""
          }
        },
        "0ab6eff429e945bfba1b59c342c2e1f5": {
          "model_module": "@jupyter-widgets/base",
          "model_module_version": "1.2.0",
          "model_name": "LayoutModel",
          "state": {
            "_model_module": "@jupyter-widgets/base",
            "_model_module_version": "1.2.0",
            "_model_name": "LayoutModel",
            "_view_count": null,
            "_view_module": "@jupyter-widgets/base",
            "_view_module_version": "1.2.0",
            "_view_name": "LayoutView",
            "align_content": null,
            "align_items": null,
            "align_self": null,
            "border": null,
            "bottom": null,
            "display": null,
            "flex": null,
            "flex_flow": null,
            "grid_area": null,
            "grid_auto_columns": null,
            "grid_auto_flow": null,
            "grid_auto_rows": null,
            "grid_column": null,
            "grid_gap": null,
            "grid_row": null,
            "grid_template_areas": null,
            "grid_template_columns": null,
            "grid_template_rows": null,
            "height": null,
            "justify_content": null,
            "justify_items": null,
            "left": null,
            "margin": null,
            "max_height": null,
            "max_width": null,
            "min_height": null,
            "min_width": null,
            "object_fit": null,
            "object_position": null,
            "order": null,
            "overflow": null,
            "overflow_x": null,
            "overflow_y": null,
            "padding": null,
            "right": null,
            "top": null,
            "visibility": null,
            "width": null
          }
        },
        "0b1ef4f59b1c47e9938969413a9c5094": {
          "model_module": "@jupyter-widgets/base",
          "model_module_version": "1.2.0",
          "model_name": "LayoutModel",
          "state": {
            "_model_module": "@jupyter-widgets/base",
            "_model_module_version": "1.2.0",
            "_model_name": "LayoutModel",
            "_view_count": null,
            "_view_module": "@jupyter-widgets/base",
            "_view_module_version": "1.2.0",
            "_view_name": "LayoutView",
            "align_content": null,
            "align_items": null,
            "align_self": null,
            "border": null,
            "bottom": null,
            "display": null,
            "flex": null,
            "flex_flow": null,
            "grid_area": null,
            "grid_auto_columns": null,
            "grid_auto_flow": null,
            "grid_auto_rows": null,
            "grid_column": null,
            "grid_gap": null,
            "grid_row": null,
            "grid_template_areas": null,
            "grid_template_columns": null,
            "grid_template_rows": null,
            "height": null,
            "justify_content": null,
            "justify_items": null,
            "left": null,
            "margin": null,
            "max_height": null,
            "max_width": null,
            "min_height": null,
            "min_width": null,
            "object_fit": null,
            "object_position": null,
            "order": null,
            "overflow": null,
            "overflow_x": null,
            "overflow_y": null,
            "padding": null,
            "right": null,
            "top": null,
            "visibility": null,
            "width": null
          }
        },
        "0c0bebf12b3847d19ccb35cbed1af463": {
          "model_module": "@jupyter-widgets/controls",
          "model_module_version": "1.5.0",
          "model_name": "DescriptionStyleModel",
          "state": {
            "_model_module": "@jupyter-widgets/controls",
            "_model_module_version": "1.5.0",
            "_model_name": "DescriptionStyleModel",
            "_view_count": null,
            "_view_module": "@jupyter-widgets/base",
            "_view_module_version": "1.2.0",
            "_view_name": "StyleView",
            "description_width": ""
          }
        },
        "0c573e140cb043648a12210cb9380738": {
          "model_module": "@jupyter-widgets/controls",
          "model_module_version": "1.5.0",
          "model_name": "ProgressStyleModel",
          "state": {
            "_model_module": "@jupyter-widgets/controls",
            "_model_module_version": "1.5.0",
            "_model_name": "ProgressStyleModel",
            "_view_count": null,
            "_view_module": "@jupyter-widgets/base",
            "_view_module_version": "1.2.0",
            "_view_name": "StyleView",
            "bar_color": null,
            "description_width": ""
          }
        },
        "0d72c248b51947dfb67852e70fb47c58": {
          "model_module": "@jupyter-widgets/controls",
          "model_module_version": "1.5.0",
          "model_name": "DescriptionStyleModel",
          "state": {
            "_model_module": "@jupyter-widgets/controls",
            "_model_module_version": "1.5.0",
            "_model_name": "DescriptionStyleModel",
            "_view_count": null,
            "_view_module": "@jupyter-widgets/base",
            "_view_module_version": "1.2.0",
            "_view_name": "StyleView",
            "description_width": ""
          }
        },
        "0eb87ad35e564c44a1c504b12390f184": {
          "model_module": "@jupyter-widgets/controls",
          "model_module_version": "1.5.0",
          "model_name": "FloatProgressModel",
          "state": {
            "_dom_classes": [],
            "_model_module": "@jupyter-widgets/controls",
            "_model_module_version": "1.5.0",
            "_model_name": "FloatProgressModel",
            "_view_count": null,
            "_view_module": "@jupyter-widgets/controls",
            "_view_module_version": "1.5.0",
            "_view_name": "ProgressView",
            "bar_style": "success",
            "description": "",
            "description_tooltip": null,
            "layout": "IPY_MODEL_741980a5785b499390edc877a760e03d",
            "max": 1979781432,
            "min": 0,
            "orientation": "horizontal",
            "style": "IPY_MODEL_6069060ec39642b8ad3bbbf1748d7277",
            "value": 1979781432
          }
        },
        "0ede4a074a3c42ada6a638b6ca1e32d2": {
          "model_module": "@jupyter-widgets/controls",
          "model_module_version": "1.5.0",
          "model_name": "HTMLModel",
          "state": {
            "_dom_classes": [],
            "_model_module": "@jupyter-widgets/controls",
            "_model_module_version": "1.5.0",
            "_model_name": "HTMLModel",
            "_view_count": null,
            "_view_module": "@jupyter-widgets/controls",
            "_view_module_version": "1.5.0",
            "_view_name": "HTMLView",
            "description": "",
            "description_tooltip": null,
            "layout": "IPY_MODEL_53399f0824a0495dbe4766435e0307ef",
            "placeholder": "​",
            "style": "IPY_MODEL_a92ec6cbf7984756bb15e77e28e2eafd",
            "value": "model-00006-of-00008.safetensors: 100%"
          }
        },
        "10556eb5a5aa48139864128fdc5ea2f8": {
          "model_module": "@jupyter-widgets/base",
          "model_module_version": "1.2.0",
          "model_name": "LayoutModel",
          "state": {
            "_model_module": "@jupyter-widgets/base",
            "_model_module_version": "1.2.0",
            "_model_name": "LayoutModel",
            "_view_count": null,
            "_view_module": "@jupyter-widgets/base",
            "_view_module_version": "1.2.0",
            "_view_name": "LayoutView",
            "align_content": null,
            "align_items": null,
            "align_self": null,
            "border": null,
            "bottom": null,
            "display": null,
            "flex": null,
            "flex_flow": null,
            "grid_area": null,
            "grid_auto_columns": null,
            "grid_auto_flow": null,
            "grid_auto_rows": null,
            "grid_column": null,
            "grid_gap": null,
            "grid_row": null,
            "grid_template_areas": null,
            "grid_template_columns": null,
            "grid_template_rows": null,
            "height": null,
            "justify_content": null,
            "justify_items": null,
            "left": null,
            "margin": null,
            "max_height": null,
            "max_width": null,
            "min_height": null,
            "min_width": null,
            "object_fit": null,
            "object_position": null,
            "order": null,
            "overflow": null,
            "overflow_x": null,
            "overflow_y": null,
            "padding": null,
            "right": null,
            "top": null,
            "visibility": null,
            "width": null
          }
        },
        "137c58dfa3a945f094989fbe50775f8b": {
          "model_module": "@jupyter-widgets/controls",
          "model_module_version": "1.5.0",
          "model_name": "ProgressStyleModel",
          "state": {
            "_model_module": "@jupyter-widgets/controls",
            "_model_module_version": "1.5.0",
            "_model_name": "ProgressStyleModel",
            "_view_count": null,
            "_view_module": "@jupyter-widgets/base",
            "_view_module_version": "1.2.0",
            "_view_name": "StyleView",
            "bar_color": null,
            "description_width": ""
          }
        },
        "14097ba6443a46198d79b81960ccab13": {
          "model_module": "@jupyter-widgets/base",
          "model_module_version": "1.2.0",
          "model_name": "LayoutModel",
          "state": {
            "_model_module": "@jupyter-widgets/base",
            "_model_module_version": "1.2.0",
            "_model_name": "LayoutModel",
            "_view_count": null,
            "_view_module": "@jupyter-widgets/base",
            "_view_module_version": "1.2.0",
            "_view_name": "LayoutView",
            "align_content": null,
            "align_items": null,
            "align_self": null,
            "border": null,
            "bottom": null,
            "display": null,
            "flex": null,
            "flex_flow": null,
            "grid_area": null,
            "grid_auto_columns": null,
            "grid_auto_flow": null,
            "grid_auto_rows": null,
            "grid_column": null,
            "grid_gap": null,
            "grid_row": null,
            "grid_template_areas": null,
            "grid_template_columns": null,
            "grid_template_rows": null,
            "height": null,
            "justify_content": null,
            "justify_items": null,
            "left": null,
            "margin": null,
            "max_height": null,
            "max_width": null,
            "min_height": null,
            "min_width": null,
            "object_fit": null,
            "object_position": null,
            "order": null,
            "overflow": null,
            "overflow_x": null,
            "overflow_y": null,
            "padding": null,
            "right": null,
            "top": null,
            "visibility": null,
            "width": null
          }
        },
        "1781b93dea2045e38fdbec87b36f5544": {
          "model_module": "@jupyter-widgets/controls",
          "model_module_version": "1.5.0",
          "model_name": "DescriptionStyleModel",
          "state": {
            "_model_module": "@jupyter-widgets/controls",
            "_model_module_version": "1.5.0",
            "_model_name": "DescriptionStyleModel",
            "_view_count": null,
            "_view_module": "@jupyter-widgets/base",
            "_view_module_version": "1.2.0",
            "_view_name": "StyleView",
            "description_width": ""
          }
        },
        "1b18c8cc1a8648d7932b7ed2593d589a": {
          "model_module": "@jupyter-widgets/controls",
          "model_module_version": "1.5.0",
          "model_name": "FloatProgressModel",
          "state": {
            "_dom_classes": [],
            "_model_module": "@jupyter-widgets/controls",
            "_model_module_version": "1.5.0",
            "_model_name": "FloatProgressModel",
            "_view_count": null,
            "_view_module": "@jupyter-widgets/controls",
            "_view_module_version": "1.5.0",
            "_view_name": "ProgressView",
            "bar_style": "success",
            "description": "",
            "description_tooltip": null,
            "layout": "IPY_MODEL_5569e1c3d36844daa52ab50057dcf251",
            "max": 8,
            "min": 0,
            "orientation": "horizontal",
            "style": "IPY_MODEL_0c573e140cb043648a12210cb9380738",
            "value": 8
          }
        },
        "1ddf817d2f6e453c8642165d9d853715": {
          "model_module": "@jupyter-widgets/base",
          "model_module_version": "1.2.0",
          "model_name": "LayoutModel",
          "state": {
            "_model_module": "@jupyter-widgets/base",
            "_model_module_version": "1.2.0",
            "_model_name": "LayoutModel",
            "_view_count": null,
            "_view_module": "@jupyter-widgets/base",
            "_view_module_version": "1.2.0",
            "_view_name": "LayoutView",
            "align_content": null,
            "align_items": null,
            "align_self": null,
            "border": null,
            "bottom": null,
            "display": null,
            "flex": null,
            "flex_flow": null,
            "grid_area": null,
            "grid_auto_columns": null,
            "grid_auto_flow": null,
            "grid_auto_rows": null,
            "grid_column": null,
            "grid_gap": null,
            "grid_row": null,
            "grid_template_areas": null,
            "grid_template_columns": null,
            "grid_template_rows": null,
            "height": null,
            "justify_content": null,
            "justify_items": null,
            "left": null,
            "margin": null,
            "max_height": null,
            "max_width": null,
            "min_height": null,
            "min_width": null,
            "object_fit": null,
            "object_position": null,
            "order": null,
            "overflow": null,
            "overflow_x": null,
            "overflow_y": null,
            "padding": null,
            "right": null,
            "top": null,
            "visibility": null,
            "width": null
          }
        },
        "212db620355042078a8ab81292f42f2e": {
          "model_module": "@jupyter-widgets/controls",
          "model_module_version": "1.5.0",
          "model_name": "FloatProgressModel",
          "state": {
            "_dom_classes": [],
            "_model_module": "@jupyter-widgets/controls",
            "_model_module_version": "1.5.0",
            "_model_name": "FloatProgressModel",
            "_view_count": null,
            "_view_module": "@jupyter-widgets/controls",
            "_view_module_version": "1.5.0",
            "_view_name": "ProgressView",
            "bar_style": "success",
            "description": "",
            "description_tooltip": null,
            "layout": "IPY_MODEL_5880cea4815342edb097e7f6c3a3ace5",
            "max": 1979781448,
            "min": 0,
            "orientation": "horizontal",
            "style": "IPY_MODEL_25ca35390e604af9a8f5d952732634ee",
            "value": 1979781448
          }
        },
        "2268f4e8952747b9898b2bc5ad8350b4": {
          "model_module": "@jupyter-widgets/controls",
          "model_module_version": "1.5.0",
          "model_name": "HBoxModel",
          "state": {
            "_dom_classes": [],
            "_model_module": "@jupyter-widgets/controls",
            "_model_module_version": "1.5.0",
            "_model_name": "HBoxModel",
            "_view_count": null,
            "_view_module": "@jupyter-widgets/controls",
            "_view_module_version": "1.5.0",
            "_view_name": "HBoxView",
            "box_style": "",
            "children": [
              "IPY_MODEL_d86cab0f70024bebaed5d5fba77809b9",
              "IPY_MODEL_212db620355042078a8ab81292f42f2e",
              "IPY_MODEL_cca25abedc5a4d4f8c91575d5a7e5fe6"
            ],
            "layout": "IPY_MODEL_fb8c82e655df49e28d9f39c4c0d77983"
          }
        },
        "23294935b9ce41f19a045c79ae495488": {
          "model_module": "@jupyter-widgets/base",
          "model_module_version": "1.2.0",
          "model_name": "LayoutModel",
          "state": {
            "_model_module": "@jupyter-widgets/base",
            "_model_module_version": "1.2.0",
            "_model_name": "LayoutModel",
            "_view_count": null,
            "_view_module": "@jupyter-widgets/base",
            "_view_module_version": "1.2.0",
            "_view_name": "LayoutView",
            "align_content": null,
            "align_items": null,
            "align_self": null,
            "border": null,
            "bottom": null,
            "display": null,
            "flex": null,
            "flex_flow": null,
            "grid_area": null,
            "grid_auto_columns": null,
            "grid_auto_flow": null,
            "grid_auto_rows": null,
            "grid_column": null,
            "grid_gap": null,
            "grid_row": null,
            "grid_template_areas": null,
            "grid_template_columns": null,
            "grid_template_rows": null,
            "height": null,
            "justify_content": null,
            "justify_items": null,
            "left": null,
            "margin": null,
            "max_height": null,
            "max_width": null,
            "min_height": null,
            "min_width": null,
            "object_fit": null,
            "object_position": null,
            "order": null,
            "overflow": null,
            "overflow_x": null,
            "overflow_y": null,
            "padding": null,
            "right": null,
            "top": null,
            "visibility": null,
            "width": null
          }
        },
        "23de66e41f874ab68c4136db19b7d8ab": {
          "model_module": "@jupyter-widgets/base",
          "model_module_version": "1.2.0",
          "model_name": "LayoutModel",
          "state": {
            "_model_module": "@jupyter-widgets/base",
            "_model_module_version": "1.2.0",
            "_model_name": "LayoutModel",
            "_view_count": null,
            "_view_module": "@jupyter-widgets/base",
            "_view_module_version": "1.2.0",
            "_view_name": "LayoutView",
            "align_content": null,
            "align_items": null,
            "align_self": null,
            "border": null,
            "bottom": null,
            "display": null,
            "flex": null,
            "flex_flow": null,
            "grid_area": null,
            "grid_auto_columns": null,
            "grid_auto_flow": null,
            "grid_auto_rows": null,
            "grid_column": null,
            "grid_gap": null,
            "grid_row": null,
            "grid_template_areas": null,
            "grid_template_columns": null,
            "grid_template_rows": null,
            "height": null,
            "justify_content": null,
            "justify_items": null,
            "left": null,
            "margin": null,
            "max_height": null,
            "max_width": null,
            "min_height": null,
            "min_width": null,
            "object_fit": null,
            "object_position": null,
            "order": null,
            "overflow": null,
            "overflow_x": null,
            "overflow_y": null,
            "padding": null,
            "right": null,
            "top": null,
            "visibility": null,
            "width": null
          }
        },
        "2556e5456d2245a5b8800f2996646ef3": {
          "model_module": "@jupyter-widgets/base",
          "model_module_version": "1.2.0",
          "model_name": "LayoutModel",
          "state": {
            "_model_module": "@jupyter-widgets/base",
            "_model_module_version": "1.2.0",
            "_model_name": "LayoutModel",
            "_view_count": null,
            "_view_module": "@jupyter-widgets/base",
            "_view_module_version": "1.2.0",
            "_view_name": "LayoutView",
            "align_content": null,
            "align_items": null,
            "align_self": null,
            "border": null,
            "bottom": null,
            "display": null,
            "flex": null,
            "flex_flow": null,
            "grid_area": null,
            "grid_auto_columns": null,
            "grid_auto_flow": null,
            "grid_auto_rows": null,
            "grid_column": null,
            "grid_gap": null,
            "grid_row": null,
            "grid_template_areas": null,
            "grid_template_columns": null,
            "grid_template_rows": null,
            "height": null,
            "justify_content": null,
            "justify_items": null,
            "left": null,
            "margin": null,
            "max_height": null,
            "max_width": null,
            "min_height": null,
            "min_width": null,
            "object_fit": null,
            "object_position": null,
            "order": null,
            "overflow": null,
            "overflow_x": null,
            "overflow_y": null,
            "padding": null,
            "right": null,
            "top": null,
            "visibility": null,
            "width": null
          }
        },
        "25bf8957b15a45cab2383bc946a2561f": {
          "model_module": "@jupyter-widgets/controls",
          "model_module_version": "1.5.0",
          "model_name": "HTMLModel",
          "state": {
            "_dom_classes": [],
            "_model_module": "@jupyter-widgets/controls",
            "_model_module_version": "1.5.0",
            "_model_name": "HTMLModel",
            "_view_count": null,
            "_view_module": "@jupyter-widgets/controls",
            "_view_module_version": "1.5.0",
            "_view_name": "HTMLView",
            "description": "",
            "description_tooltip": null,
            "layout": "IPY_MODEL_10556eb5a5aa48139864128fdc5ea2f8",
            "placeholder": "​",
            "style": "IPY_MODEL_ffdaa483e37a4014934dab8c0f49606b",
            "value": "model-00007-of-00008.safetensors: 100%"
          }
        },
        "25ca35390e604af9a8f5d952732634ee": {
          "model_module": "@jupyter-widgets/controls",
          "model_module_version": "1.5.0",
          "model_name": "ProgressStyleModel",
          "state": {
            "_model_module": "@jupyter-widgets/controls",
            "_model_module_version": "1.5.0",
            "_model_name": "ProgressStyleModel",
            "_view_count": null,
            "_view_module": "@jupyter-widgets/base",
            "_view_module_version": "1.2.0",
            "_view_name": "StyleView",
            "bar_color": null,
            "description_width": ""
          }
        },
        "284aebffd7e946df9184d6f8baebf856": {
          "model_module": "@jupyter-widgets/controls",
          "model_module_version": "1.5.0",
          "model_name": "DescriptionStyleModel",
          "state": {
            "_model_module": "@jupyter-widgets/controls",
            "_model_module_version": "1.5.0",
            "_model_name": "DescriptionStyleModel",
            "_view_count": null,
            "_view_module": "@jupyter-widgets/base",
            "_view_module_version": "1.2.0",
            "_view_name": "StyleView",
            "description_width": ""
          }
        },
        "299165b29e8646fd9512f630d1e93ef5": {
          "model_module": "@jupyter-widgets/controls",
          "model_module_version": "1.5.0",
          "model_name": "HTMLModel",
          "state": {
            "_dom_classes": [],
            "_model_module": "@jupyter-widgets/controls",
            "_model_module_version": "1.5.0",
            "_model_name": "HTMLModel",
            "_view_count": null,
            "_view_module": "@jupyter-widgets/controls",
            "_view_module_version": "1.5.0",
            "_view_name": "HTMLView",
            "description": "",
            "description_tooltip": null,
            "layout": "IPY_MODEL_ca6b2fb05b264fd1beb144062df75316",
            "placeholder": "​",
            "style": "IPY_MODEL_0d72c248b51947dfb67852e70fb47c58",
            "value": " 1.95G/1.95G [13:00&lt;00:00, 4.45MB/s]"
          }
        },
        "2e3baafd68644a63b670aca185f8911b": {
          "model_module": "@jupyter-widgets/controls",
          "model_module_version": "1.5.0",
          "model_name": "DescriptionStyleModel",
          "state": {
            "_model_module": "@jupyter-widgets/controls",
            "_model_module_version": "1.5.0",
            "_model_name": "DescriptionStyleModel",
            "_view_count": null,
            "_view_module": "@jupyter-widgets/base",
            "_view_module_version": "1.2.0",
            "_view_name": "StyleView",
            "description_width": ""
          }
        },
        "2f587dd8fc0046e985870b461892de2c": {
          "model_module": "@jupyter-widgets/base",
          "model_module_version": "1.2.0",
          "model_name": "LayoutModel",
          "state": {
            "_model_module": "@jupyter-widgets/base",
            "_model_module_version": "1.2.0",
            "_model_name": "LayoutModel",
            "_view_count": null,
            "_view_module": "@jupyter-widgets/base",
            "_view_module_version": "1.2.0",
            "_view_name": "LayoutView",
            "align_content": null,
            "align_items": null,
            "align_self": null,
            "border": null,
            "bottom": null,
            "display": null,
            "flex": null,
            "flex_flow": null,
            "grid_area": null,
            "grid_auto_columns": null,
            "grid_auto_flow": null,
            "grid_auto_rows": null,
            "grid_column": null,
            "grid_gap": null,
            "grid_row": null,
            "grid_template_areas": null,
            "grid_template_columns": null,
            "grid_template_rows": null,
            "height": null,
            "justify_content": null,
            "justify_items": null,
            "left": null,
            "margin": null,
            "max_height": null,
            "max_width": null,
            "min_height": null,
            "min_width": null,
            "object_fit": null,
            "object_position": null,
            "order": null,
            "overflow": null,
            "overflow_x": null,
            "overflow_y": null,
            "padding": null,
            "right": null,
            "top": null,
            "visibility": null,
            "width": null
          }
        },
        "30622afbdafc4cd1afac76167563764f": {
          "model_module": "@jupyter-widgets/base",
          "model_module_version": "1.2.0",
          "model_name": "LayoutModel",
          "state": {
            "_model_module": "@jupyter-widgets/base",
            "_model_module_version": "1.2.0",
            "_model_name": "LayoutModel",
            "_view_count": null,
            "_view_module": "@jupyter-widgets/base",
            "_view_module_version": "1.2.0",
            "_view_name": "LayoutView",
            "align_content": null,
            "align_items": null,
            "align_self": null,
            "border": null,
            "bottom": null,
            "display": null,
            "flex": null,
            "flex_flow": null,
            "grid_area": null,
            "grid_auto_columns": null,
            "grid_auto_flow": null,
            "grid_auto_rows": null,
            "grid_column": null,
            "grid_gap": null,
            "grid_row": null,
            "grid_template_areas": null,
            "grid_template_columns": null,
            "grid_template_rows": null,
            "height": null,
            "justify_content": null,
            "justify_items": null,
            "left": null,
            "margin": null,
            "max_height": null,
            "max_width": null,
            "min_height": null,
            "min_width": null,
            "object_fit": null,
            "object_position": null,
            "order": null,
            "overflow": null,
            "overflow_x": null,
            "overflow_y": null,
            "padding": null,
            "right": null,
            "top": null,
            "visibility": null,
            "width": null
          }
        },
        "308ca71ee8dc4536913b1da63e5665a7": {
          "model_module": "@jupyter-widgets/base",
          "model_module_version": "1.2.0",
          "model_name": "LayoutModel",
          "state": {
            "_model_module": "@jupyter-widgets/base",
            "_model_module_version": "1.2.0",
            "_model_name": "LayoutModel",
            "_view_count": null,
            "_view_module": "@jupyter-widgets/base",
            "_view_module_version": "1.2.0",
            "_view_name": "LayoutView",
            "align_content": null,
            "align_items": null,
            "align_self": null,
            "border": null,
            "bottom": null,
            "display": null,
            "flex": null,
            "flex_flow": null,
            "grid_area": null,
            "grid_auto_columns": null,
            "grid_auto_flow": null,
            "grid_auto_rows": null,
            "grid_column": null,
            "grid_gap": null,
            "grid_row": null,
            "grid_template_areas": null,
            "grid_template_columns": null,
            "grid_template_rows": null,
            "height": null,
            "justify_content": null,
            "justify_items": null,
            "left": null,
            "margin": null,
            "max_height": null,
            "max_width": null,
            "min_height": null,
            "min_width": null,
            "object_fit": null,
            "object_position": null,
            "order": null,
            "overflow": null,
            "overflow_x": null,
            "overflow_y": null,
            "padding": null,
            "right": null,
            "top": null,
            "visibility": null,
            "width": null
          }
        },
        "31cd70f3160f4178a4011a5162a48b38": {
          "model_module": "@jupyter-widgets/base",
          "model_module_version": "1.2.0",
          "model_name": "LayoutModel",
          "state": {
            "_model_module": "@jupyter-widgets/base",
            "_model_module_version": "1.2.0",
            "_model_name": "LayoutModel",
            "_view_count": null,
            "_view_module": "@jupyter-widgets/base",
            "_view_module_version": "1.2.0",
            "_view_name": "LayoutView",
            "align_content": null,
            "align_items": null,
            "align_self": null,
            "border": null,
            "bottom": null,
            "display": null,
            "flex": null,
            "flex_flow": null,
            "grid_area": null,
            "grid_auto_columns": null,
            "grid_auto_flow": null,
            "grid_auto_rows": null,
            "grid_column": null,
            "grid_gap": null,
            "grid_row": null,
            "grid_template_areas": null,
            "grid_template_columns": null,
            "grid_template_rows": null,
            "height": null,
            "justify_content": null,
            "justify_items": null,
            "left": null,
            "margin": null,
            "max_height": null,
            "max_width": null,
            "min_height": null,
            "min_width": null,
            "object_fit": null,
            "object_position": null,
            "order": null,
            "overflow": null,
            "overflow_x": null,
            "overflow_y": null,
            "padding": null,
            "right": null,
            "top": null,
            "visibility": null,
            "width": null
          }
        },
        "3318c63ae9944d0684e61cca0f799469": {
          "model_module": "@jupyter-widgets/controls",
          "model_module_version": "1.5.0",
          "model_name": "HBoxModel",
          "state": {
            "_dom_classes": [],
            "_model_module": "@jupyter-widgets/controls",
            "_model_module_version": "1.5.0",
            "_model_name": "HBoxModel",
            "_view_count": null,
            "_view_module": "@jupyter-widgets/controls",
            "_view_module_version": "1.5.0",
            "_view_name": "HBoxView",
            "box_style": "",
            "children": [
              "IPY_MODEL_25bf8957b15a45cab2383bc946a2561f",
              "IPY_MODEL_968bf79f52da4a44aa5d7d2cc071d2aa",
              "IPY_MODEL_5366b60287724ad7a7612e6bdfedac38"
            ],
            "layout": "IPY_MODEL_a676ecd0fcca407d8377fd8218f70501"
          }
        },
        "35323f1768f044be8e2168d1906840e3": {
          "model_module": "@jupyter-widgets/base",
          "model_module_version": "1.2.0",
          "model_name": "LayoutModel",
          "state": {
            "_model_module": "@jupyter-widgets/base",
            "_model_module_version": "1.2.0",
            "_model_name": "LayoutModel",
            "_view_count": null,
            "_view_module": "@jupyter-widgets/base",
            "_view_module_version": "1.2.0",
            "_view_name": "LayoutView",
            "align_content": null,
            "align_items": null,
            "align_self": null,
            "border": null,
            "bottom": null,
            "display": null,
            "flex": null,
            "flex_flow": null,
            "grid_area": null,
            "grid_auto_columns": null,
            "grid_auto_flow": null,
            "grid_auto_rows": null,
            "grid_column": null,
            "grid_gap": null,
            "grid_row": null,
            "grid_template_areas": null,
            "grid_template_columns": null,
            "grid_template_rows": null,
            "height": null,
            "justify_content": null,
            "justify_items": null,
            "left": null,
            "margin": null,
            "max_height": null,
            "max_width": null,
            "min_height": null,
            "min_width": null,
            "object_fit": null,
            "object_position": null,
            "order": null,
            "overflow": null,
            "overflow_x": null,
            "overflow_y": null,
            "padding": null,
            "right": null,
            "top": null,
            "visibility": null,
            "width": null
          }
        },
        "369df076068b4d6595dd993197e2f891": {
          "model_module": "@jupyter-widgets/controls",
          "model_module_version": "1.5.0",
          "model_name": "HBoxModel",
          "state": {
            "_dom_classes": [],
            "_model_module": "@jupyter-widgets/controls",
            "_model_module_version": "1.5.0",
            "_model_name": "HBoxModel",
            "_view_count": null,
            "_view_module": "@jupyter-widgets/controls",
            "_view_module_version": "1.5.0",
            "_view_name": "HBoxView",
            "box_style": "",
            "children": [
              "IPY_MODEL_ddd40dd2269045a489c441f4abaf3f2e",
              "IPY_MODEL_663c109507dd40d1be0c34b454ddf9da",
              "IPY_MODEL_00a16a4f81ca4e89ae7a98948ec3cc80"
            ],
            "layout": "IPY_MODEL_8c07ce8cbcd44396beb2f5d380b18d18"
          }
        },
        "3707516b60dd4b618e198bcf05c32947": {
          "model_module": "@jupyter-widgets/controls",
          "model_module_version": "1.5.0",
          "model_name": "DescriptionStyleModel",
          "state": {
            "_model_module": "@jupyter-widgets/controls",
            "_model_module_version": "1.5.0",
            "_model_name": "DescriptionStyleModel",
            "_view_count": null,
            "_view_module": "@jupyter-widgets/base",
            "_view_module_version": "1.2.0",
            "_view_name": "StyleView",
            "description_width": ""
          }
        },
        "39640821473b41c7a0d2469821ff3195": {
          "model_module": "@jupyter-widgets/controls",
          "model_module_version": "1.5.0",
          "model_name": "HTMLModel",
          "state": {
            "_dom_classes": [],
            "_model_module": "@jupyter-widgets/controls",
            "_model_module_version": "1.5.0",
            "_model_name": "HTMLModel",
            "_view_count": null,
            "_view_module": "@jupyter-widgets/controls",
            "_view_module_version": "1.5.0",
            "_view_name": "HTMLView",
            "description": "",
            "description_tooltip": null,
            "layout": "IPY_MODEL_c594e56390ec4843a879d0b01d23163c",
            "placeholder": "​",
            "style": "IPY_MODEL_ae254bccfe304b2f83e9d0b5dfe9dc7c",
            "value": " 111/111 [00:00&lt;00:00, 12.1kB/s]"
          }
        },
        "3a0b9f5441d44aa9a744d62f106ad5d2": {
          "model_module": "@jupyter-widgets/controls",
          "model_module_version": "1.5.0",
          "model_name": "HTMLModel",
          "state": {
            "_dom_classes": [],
            "_model_module": "@jupyter-widgets/controls",
            "_model_module_version": "1.5.0",
            "_model_name": "HTMLModel",
            "_view_count": null,
            "_view_module": "@jupyter-widgets/controls",
            "_view_module_version": "1.5.0",
            "_view_name": "HTMLView",
            "description": "",
            "description_tooltip": null,
            "layout": "IPY_MODEL_c46bbc26d27b4fbeb5647fe29925931d",
            "placeholder": "​",
            "style": "IPY_MODEL_64f0c43e38ec4426b05776fec8076cd6",
            "value": " 23.9k/23.9k [00:00&lt;00:00, 1.22MB/s]"
          }
        },
        "3a20a19c82864a7abcbb8f5a9da98e2c": {
          "model_module": "@jupyter-widgets/controls",
          "model_module_version": "1.5.0",
          "model_name": "HTMLModel",
          "state": {
            "_dom_classes": [],
            "_model_module": "@jupyter-widgets/controls",
            "_model_module_version": "1.5.0",
            "_model_name": "HTMLModel",
            "_view_count": null,
            "_view_module": "@jupyter-widgets/controls",
            "_view_module_version": "1.5.0",
            "_view_name": "HTMLView",
            "description": "",
            "description_tooltip": null,
            "layout": "IPY_MODEL_31cd70f3160f4178a4011a5162a48b38",
            "placeholder": "​",
            "style": "IPY_MODEL_09db262e38074f78b0e088a88b6df3fb",
            "value": " 1.98G/1.98G [13:01&lt;00:00, 3.03MB/s]"
          }
        },
        "3de463d233324062add631da5067e87c": {
          "model_module": "@jupyter-widgets/base",
          "model_module_version": "1.2.0",
          "model_name": "LayoutModel",
          "state": {
            "_model_module": "@jupyter-widgets/base",
            "_model_module_version": "1.2.0",
            "_model_name": "LayoutModel",
            "_view_count": null,
            "_view_module": "@jupyter-widgets/base",
            "_view_module_version": "1.2.0",
            "_view_name": "LayoutView",
            "align_content": null,
            "align_items": null,
            "align_self": null,
            "border": null,
            "bottom": null,
            "display": null,
            "flex": null,
            "flex_flow": null,
            "grid_area": null,
            "grid_auto_columns": null,
            "grid_auto_flow": null,
            "grid_auto_rows": null,
            "grid_column": null,
            "grid_gap": null,
            "grid_row": null,
            "grid_template_areas": null,
            "grid_template_columns": null,
            "grid_template_rows": null,
            "height": null,
            "justify_content": null,
            "justify_items": null,
            "left": null,
            "margin": null,
            "max_height": null,
            "max_width": null,
            "min_height": null,
            "min_width": null,
            "object_fit": null,
            "object_position": null,
            "order": null,
            "overflow": null,
            "overflow_x": null,
            "overflow_y": null,
            "padding": null,
            "right": null,
            "top": null,
            "visibility": null,
            "width": null
          }
        },
        "4032a501c67f415296f249ecc08f7d36": {
          "model_module": "@jupyter-widgets/controls",
          "model_module_version": "1.5.0",
          "model_name": "ProgressStyleModel",
          "state": {
            "_model_module": "@jupyter-widgets/controls",
            "_model_module_version": "1.5.0",
            "_model_name": "ProgressStyleModel",
            "_view_count": null,
            "_view_module": "@jupyter-widgets/base",
            "_view_module_version": "1.2.0",
            "_view_name": "StyleView",
            "bar_color": null,
            "description_width": ""
          }
        },
        "42a2fc7f17704be0985f272b67a8d493": {
          "model_module": "@jupyter-widgets/controls",
          "model_module_version": "1.5.0",
          "model_name": "HBoxModel",
          "state": {
            "_dom_classes": [],
            "_model_module": "@jupyter-widgets/controls",
            "_model_module_version": "1.5.0",
            "_model_name": "HBoxModel",
            "_view_count": null,
            "_view_module": "@jupyter-widgets/controls",
            "_view_module_version": "1.5.0",
            "_view_name": "HBoxView",
            "box_style": "",
            "children": [
              "IPY_MODEL_a9d7cb28cd4946669095b1ca17eb54ec",
              "IPY_MODEL_1b18c8cc1a8648d7932b7ed2593d589a",
              "IPY_MODEL_07e2c41dd07941189019769e6f38b3d1"
            ],
            "layout": "IPY_MODEL_54ee5712ab084d6ea3b318308c7083b4"
          }
        },
        "434ecafc94a84d86a9261ff64909fffb": {
          "model_module": "@jupyter-widgets/controls",
          "model_module_version": "1.5.0",
          "model_name": "HBoxModel",
          "state": {
            "_dom_classes": [],
            "_model_module": "@jupyter-widgets/controls",
            "_model_module_version": "1.5.0",
            "_model_name": "HBoxModel",
            "_view_count": null,
            "_view_module": "@jupyter-widgets/controls",
            "_view_module_version": "1.5.0",
            "_view_name": "HBoxView",
            "box_style": "",
            "children": [
              "IPY_MODEL_911d52870be846269adccffbc13f3bf6",
              "IPY_MODEL_5c001217b2cf4b5195c363ed26b3c7ec",
              "IPY_MODEL_7cd40b97e6af48ab928d7df6a507462e"
            ],
            "layout": "IPY_MODEL_bdfdf8df8ceb43149f5593831b747c53"
          }
        },
        "49b79967368e42089b4d886830c5361a": {
          "model_module": "@jupyter-widgets/controls",
          "model_module_version": "1.5.0",
          "model_name": "ProgressStyleModel",
          "state": {
            "_model_module": "@jupyter-widgets/controls",
            "_model_module_version": "1.5.0",
            "_model_name": "ProgressStyleModel",
            "_view_count": null,
            "_view_module": "@jupyter-widgets/base",
            "_view_module_version": "1.2.0",
            "_view_name": "StyleView",
            "bar_color": null,
            "description_width": ""
          }
        },
        "4bd887b1eec747ff93278b2a90359fc2": {
          "model_module": "@jupyter-widgets/base",
          "model_module_version": "1.2.0",
          "model_name": "LayoutModel",
          "state": {
            "_model_module": "@jupyter-widgets/base",
            "_model_module_version": "1.2.0",
            "_model_name": "LayoutModel",
            "_view_count": null,
            "_view_module": "@jupyter-widgets/base",
            "_view_module_version": "1.2.0",
            "_view_name": "LayoutView",
            "align_content": null,
            "align_items": null,
            "align_self": null,
            "border": null,
            "bottom": null,
            "display": null,
            "flex": null,
            "flex_flow": null,
            "grid_area": null,
            "grid_auto_columns": null,
            "grid_auto_flow": null,
            "grid_auto_rows": null,
            "grid_column": null,
            "grid_gap": null,
            "grid_row": null,
            "grid_template_areas": null,
            "grid_template_columns": null,
            "grid_template_rows": null,
            "height": null,
            "justify_content": null,
            "justify_items": null,
            "left": null,
            "margin": null,
            "max_height": null,
            "max_width": null,
            "min_height": null,
            "min_width": null,
            "object_fit": null,
            "object_position": null,
            "order": null,
            "overflow": null,
            "overflow_x": null,
            "overflow_y": null,
            "padding": null,
            "right": null,
            "top": null,
            "visibility": null,
            "width": null
          }
        },
        "4c6af57c5cc84ede83965c767c87dddc": {
          "model_module": "@jupyter-widgets/base",
          "model_module_version": "1.2.0",
          "model_name": "LayoutModel",
          "state": {
            "_model_module": "@jupyter-widgets/base",
            "_model_module_version": "1.2.0",
            "_model_name": "LayoutModel",
            "_view_count": null,
            "_view_module": "@jupyter-widgets/base",
            "_view_module_version": "1.2.0",
            "_view_name": "LayoutView",
            "align_content": null,
            "align_items": null,
            "align_self": null,
            "border": null,
            "bottom": null,
            "display": null,
            "flex": null,
            "flex_flow": null,
            "grid_area": null,
            "grid_auto_columns": null,
            "grid_auto_flow": null,
            "grid_auto_rows": null,
            "grid_column": null,
            "grid_gap": null,
            "grid_row": null,
            "grid_template_areas": null,
            "grid_template_columns": null,
            "grid_template_rows": null,
            "height": null,
            "justify_content": null,
            "justify_items": null,
            "left": null,
            "margin": null,
            "max_height": null,
            "max_width": null,
            "min_height": null,
            "min_width": null,
            "object_fit": null,
            "object_position": null,
            "order": null,
            "overflow": null,
            "overflow_x": null,
            "overflow_y": null,
            "padding": null,
            "right": null,
            "top": null,
            "visibility": null,
            "width": null
          }
        },
        "53399f0824a0495dbe4766435e0307ef": {
          "model_module": "@jupyter-widgets/base",
          "model_module_version": "1.2.0",
          "model_name": "LayoutModel",
          "state": {
            "_model_module": "@jupyter-widgets/base",
            "_model_module_version": "1.2.0",
            "_model_name": "LayoutModel",
            "_view_count": null,
            "_view_module": "@jupyter-widgets/base",
            "_view_module_version": "1.2.0",
            "_view_name": "LayoutView",
            "align_content": null,
            "align_items": null,
            "align_self": null,
            "border": null,
            "bottom": null,
            "display": null,
            "flex": null,
            "flex_flow": null,
            "grid_area": null,
            "grid_auto_columns": null,
            "grid_auto_flow": null,
            "grid_auto_rows": null,
            "grid_column": null,
            "grid_gap": null,
            "grid_row": null,
            "grid_template_areas": null,
            "grid_template_columns": null,
            "grid_template_rows": null,
            "height": null,
            "justify_content": null,
            "justify_items": null,
            "left": null,
            "margin": null,
            "max_height": null,
            "max_width": null,
            "min_height": null,
            "min_width": null,
            "object_fit": null,
            "object_position": null,
            "order": null,
            "overflow": null,
            "overflow_x": null,
            "overflow_y": null,
            "padding": null,
            "right": null,
            "top": null,
            "visibility": null,
            "width": null
          }
        },
        "5366b60287724ad7a7612e6bdfedac38": {
          "model_module": "@jupyter-widgets/controls",
          "model_module_version": "1.5.0",
          "model_name": "HTMLModel",
          "state": {
            "_dom_classes": [],
            "_model_module": "@jupyter-widgets/controls",
            "_model_module_version": "1.5.0",
            "_model_name": "HTMLModel",
            "_view_count": null,
            "_view_module": "@jupyter-widgets/controls",
            "_view_module_version": "1.5.0",
            "_view_name": "HTMLView",
            "description": "",
            "description_tooltip": null,
            "layout": "IPY_MODEL_5eced935fccb44a3be04bb40a93ec284",
            "placeholder": "​",
            "style": "IPY_MODEL_1781b93dea2045e38fdbec87b36f5544",
            "value": " 1.98G/1.98G [12:22&lt;00:00, 5.54MB/s]"
          }
        },
        "5376e9cbd66347ada39fe59a919bc859": {
          "model_module": "@jupyter-widgets/controls",
          "model_module_version": "1.5.0",
          "model_name": "FloatProgressModel",
          "state": {
            "_dom_classes": [],
            "_model_module": "@jupyter-widgets/controls",
            "_model_module_version": "1.5.0",
            "_model_name": "FloatProgressModel",
            "_view_count": null,
            "_view_module": "@jupyter-widgets/controls",
            "_view_module_version": "1.5.0",
            "_view_name": "ProgressView",
            "bar_style": "success",
            "description": "",
            "description_tooltip": null,
            "layout": "IPY_MODEL_0ab6eff429e945bfba1b59c342c2e1f5",
            "max": 111,
            "min": 0,
            "orientation": "horizontal",
            "style": "IPY_MODEL_b60f39024723438c80cc70b223d3b62b",
            "value": 111
          }
        },
        "54ee5712ab084d6ea3b318308c7083b4": {
          "model_module": "@jupyter-widgets/base",
          "model_module_version": "1.2.0",
          "model_name": "LayoutModel",
          "state": {
            "_model_module": "@jupyter-widgets/base",
            "_model_module_version": "1.2.0",
            "_model_name": "LayoutModel",
            "_view_count": null,
            "_view_module": "@jupyter-widgets/base",
            "_view_module_version": "1.2.0",
            "_view_name": "LayoutView",
            "align_content": null,
            "align_items": null,
            "align_self": null,
            "border": null,
            "bottom": null,
            "display": null,
            "flex": null,
            "flex_flow": null,
            "grid_area": null,
            "grid_auto_columns": null,
            "grid_auto_flow": null,
            "grid_auto_rows": null,
            "grid_column": null,
            "grid_gap": null,
            "grid_row": null,
            "grid_template_areas": null,
            "grid_template_columns": null,
            "grid_template_rows": null,
            "height": null,
            "justify_content": null,
            "justify_items": null,
            "left": null,
            "margin": null,
            "max_height": null,
            "max_width": null,
            "min_height": null,
            "min_width": null,
            "object_fit": null,
            "object_position": null,
            "order": null,
            "overflow": null,
            "overflow_x": null,
            "overflow_y": null,
            "padding": null,
            "right": null,
            "top": null,
            "visibility": null,
            "width": null
          }
        },
        "5569e1c3d36844daa52ab50057dcf251": {
          "model_module": "@jupyter-widgets/base",
          "model_module_version": "1.2.0",
          "model_name": "LayoutModel",
          "state": {
            "_model_module": "@jupyter-widgets/base",
            "_model_module_version": "1.2.0",
            "_model_name": "LayoutModel",
            "_view_count": null,
            "_view_module": "@jupyter-widgets/base",
            "_view_module_version": "1.2.0",
            "_view_name": "LayoutView",
            "align_content": null,
            "align_items": null,
            "align_self": null,
            "border": null,
            "bottom": null,
            "display": null,
            "flex": null,
            "flex_flow": null,
            "grid_area": null,
            "grid_auto_columns": null,
            "grid_auto_flow": null,
            "grid_auto_rows": null,
            "grid_column": null,
            "grid_gap": null,
            "grid_row": null,
            "grid_template_areas": null,
            "grid_template_columns": null,
            "grid_template_rows": null,
            "height": null,
            "justify_content": null,
            "justify_items": null,
            "left": null,
            "margin": null,
            "max_height": null,
            "max_width": null,
            "min_height": null,
            "min_width": null,
            "object_fit": null,
            "object_position": null,
            "order": null,
            "overflow": null,
            "overflow_x": null,
            "overflow_y": null,
            "padding": null,
            "right": null,
            "top": null,
            "visibility": null,
            "width": null
          }
        },
        "56aa1d78114e4b9593cc866eb0947225": {
          "model_module": "@jupyter-widgets/base",
          "model_module_version": "1.2.0",
          "model_name": "LayoutModel",
          "state": {
            "_model_module": "@jupyter-widgets/base",
            "_model_module_version": "1.2.0",
            "_model_name": "LayoutModel",
            "_view_count": null,
            "_view_module": "@jupyter-widgets/base",
            "_view_module_version": "1.2.0",
            "_view_name": "LayoutView",
            "align_content": null,
            "align_items": null,
            "align_self": null,
            "border": null,
            "bottom": null,
            "display": null,
            "flex": null,
            "flex_flow": null,
            "grid_area": null,
            "grid_auto_columns": null,
            "grid_auto_flow": null,
            "grid_auto_rows": null,
            "grid_column": null,
            "grid_gap": null,
            "grid_row": null,
            "grid_template_areas": null,
            "grid_template_columns": null,
            "grid_template_rows": null,
            "height": null,
            "justify_content": null,
            "justify_items": null,
            "left": null,
            "margin": null,
            "max_height": null,
            "max_width": null,
            "min_height": null,
            "min_width": null,
            "object_fit": null,
            "object_position": null,
            "order": null,
            "overflow": null,
            "overflow_x": null,
            "overflow_y": null,
            "padding": null,
            "right": null,
            "top": null,
            "visibility": null,
            "width": null
          }
        },
        "574ebfcfb4684579beb748451a1c6e63": {
          "model_module": "@jupyter-widgets/base",
          "model_module_version": "1.2.0",
          "model_name": "LayoutModel",
          "state": {
            "_model_module": "@jupyter-widgets/base",
            "_model_module_version": "1.2.0",
            "_model_name": "LayoutModel",
            "_view_count": null,
            "_view_module": "@jupyter-widgets/base",
            "_view_module_version": "1.2.0",
            "_view_name": "LayoutView",
            "align_content": null,
            "align_items": null,
            "align_self": null,
            "border": null,
            "bottom": null,
            "display": null,
            "flex": null,
            "flex_flow": null,
            "grid_area": null,
            "grid_auto_columns": null,
            "grid_auto_flow": null,
            "grid_auto_rows": null,
            "grid_column": null,
            "grid_gap": null,
            "grid_row": null,
            "grid_template_areas": null,
            "grid_template_columns": null,
            "grid_template_rows": null,
            "height": null,
            "justify_content": null,
            "justify_items": null,
            "left": null,
            "margin": null,
            "max_height": null,
            "max_width": null,
            "min_height": null,
            "min_width": null,
            "object_fit": null,
            "object_position": null,
            "order": null,
            "overflow": null,
            "overflow_x": null,
            "overflow_y": null,
            "padding": null,
            "right": null,
            "top": null,
            "visibility": null,
            "width": null
          }
        },
        "5880cea4815342edb097e7f6c3a3ace5": {
          "model_module": "@jupyter-widgets/base",
          "model_module_version": "1.2.0",
          "model_name": "LayoutModel",
          "state": {
            "_model_module": "@jupyter-widgets/base",
            "_model_module_version": "1.2.0",
            "_model_name": "LayoutModel",
            "_view_count": null,
            "_view_module": "@jupyter-widgets/base",
            "_view_module_version": "1.2.0",
            "_view_name": "LayoutView",
            "align_content": null,
            "align_items": null,
            "align_self": null,
            "border": null,
            "bottom": null,
            "display": null,
            "flex": null,
            "flex_flow": null,
            "grid_area": null,
            "grid_auto_columns": null,
            "grid_auto_flow": null,
            "grid_auto_rows": null,
            "grid_column": null,
            "grid_gap": null,
            "grid_row": null,
            "grid_template_areas": null,
            "grid_template_columns": null,
            "grid_template_rows": null,
            "height": null,
            "justify_content": null,
            "justify_items": null,
            "left": null,
            "margin": null,
            "max_height": null,
            "max_width": null,
            "min_height": null,
            "min_width": null,
            "object_fit": null,
            "object_position": null,
            "order": null,
            "overflow": null,
            "overflow_x": null,
            "overflow_y": null,
            "padding": null,
            "right": null,
            "top": null,
            "visibility": null,
            "width": null
          }
        },
        "5bd67cc08a644e9583e0d393402a77c0": {
          "model_module": "@jupyter-widgets/base",
          "model_module_version": "1.2.0",
          "model_name": "LayoutModel",
          "state": {
            "_model_module": "@jupyter-widgets/base",
            "_model_module_version": "1.2.0",
            "_model_name": "LayoutModel",
            "_view_count": null,
            "_view_module": "@jupyter-widgets/base",
            "_view_module_version": "1.2.0",
            "_view_name": "LayoutView",
            "align_content": null,
            "align_items": null,
            "align_self": null,
            "border": null,
            "bottom": null,
            "display": null,
            "flex": null,
            "flex_flow": null,
            "grid_area": null,
            "grid_auto_columns": null,
            "grid_auto_flow": null,
            "grid_auto_rows": null,
            "grid_column": null,
            "grid_gap": null,
            "grid_row": null,
            "grid_template_areas": null,
            "grid_template_columns": null,
            "grid_template_rows": null,
            "height": null,
            "justify_content": null,
            "justify_items": null,
            "left": null,
            "margin": null,
            "max_height": null,
            "max_width": null,
            "min_height": null,
            "min_width": null,
            "object_fit": null,
            "object_position": null,
            "order": null,
            "overflow": null,
            "overflow_x": null,
            "overflow_y": null,
            "padding": null,
            "right": null,
            "top": null,
            "visibility": null,
            "width": null
          }
        },
        "5c001217b2cf4b5195c363ed26b3c7ec": {
          "model_module": "@jupyter-widgets/controls",
          "model_module_version": "1.5.0",
          "model_name": "FloatProgressModel",
          "state": {
            "_dom_classes": [],
            "_model_module": "@jupyter-widgets/controls",
            "_model_module_version": "1.5.0",
            "_model_name": "FloatProgressModel",
            "_view_count": null,
            "_view_module": "@jupyter-widgets/controls",
            "_view_module_version": "1.5.0",
            "_view_name": "ProgressView",
            "bar_style": "success",
            "description": "",
            "description_tooltip": null,
            "layout": "IPY_MODEL_a6270cc2b5da4386a9c32aef9a2f93d4",
            "max": 815834680,
            "min": 0,
            "orientation": "horizontal",
            "style": "IPY_MODEL_f2ae13bc79914e939ec4c2cc3f5065dc",
            "value": 815834680
          }
        },
        "5d2bfdc8f55e4ece8d8b7805b626a81b": {
          "model_module": "@jupyter-widgets/base",
          "model_module_version": "1.2.0",
          "model_name": "LayoutModel",
          "state": {
            "_model_module": "@jupyter-widgets/base",
            "_model_module_version": "1.2.0",
            "_model_name": "LayoutModel",
            "_view_count": null,
            "_view_module": "@jupyter-widgets/base",
            "_view_module_version": "1.2.0",
            "_view_name": "LayoutView",
            "align_content": null,
            "align_items": null,
            "align_self": null,
            "border": null,
            "bottom": null,
            "display": null,
            "flex": null,
            "flex_flow": null,
            "grid_area": null,
            "grid_auto_columns": null,
            "grid_auto_flow": null,
            "grid_auto_rows": null,
            "grid_column": null,
            "grid_gap": null,
            "grid_row": null,
            "grid_template_areas": null,
            "grid_template_columns": null,
            "grid_template_rows": null,
            "height": null,
            "justify_content": null,
            "justify_items": null,
            "left": null,
            "margin": null,
            "max_height": null,
            "max_width": null,
            "min_height": null,
            "min_width": null,
            "object_fit": null,
            "object_position": null,
            "order": null,
            "overflow": null,
            "overflow_x": null,
            "overflow_y": null,
            "padding": null,
            "right": null,
            "top": null,
            "visibility": null,
            "width": null
          }
        },
        "5eced935fccb44a3be04bb40a93ec284": {
          "model_module": "@jupyter-widgets/base",
          "model_module_version": "1.2.0",
          "model_name": "LayoutModel",
          "state": {
            "_model_module": "@jupyter-widgets/base",
            "_model_module_version": "1.2.0",
            "_model_name": "LayoutModel",
            "_view_count": null,
            "_view_module": "@jupyter-widgets/base",
            "_view_module_version": "1.2.0",
            "_view_name": "LayoutView",
            "align_content": null,
            "align_items": null,
            "align_self": null,
            "border": null,
            "bottom": null,
            "display": null,
            "flex": null,
            "flex_flow": null,
            "grid_area": null,
            "grid_auto_columns": null,
            "grid_auto_flow": null,
            "grid_auto_rows": null,
            "grid_column": null,
            "grid_gap": null,
            "grid_row": null,
            "grid_template_areas": null,
            "grid_template_columns": null,
            "grid_template_rows": null,
            "height": null,
            "justify_content": null,
            "justify_items": null,
            "left": null,
            "margin": null,
            "max_height": null,
            "max_width": null,
            "min_height": null,
            "min_width": null,
            "object_fit": null,
            "object_position": null,
            "order": null,
            "overflow": null,
            "overflow_x": null,
            "overflow_y": null,
            "padding": null,
            "right": null,
            "top": null,
            "visibility": null,
            "width": null
          }
        },
        "5fecf3e7d6ba4426be26b7e738992615": {
          "model_module": "@jupyter-widgets/controls",
          "model_module_version": "1.5.0",
          "model_name": "DescriptionStyleModel",
          "state": {
            "_model_module": "@jupyter-widgets/controls",
            "_model_module_version": "1.5.0",
            "_model_name": "DescriptionStyleModel",
            "_view_count": null,
            "_view_module": "@jupyter-widgets/base",
            "_view_module_version": "1.2.0",
            "_view_name": "StyleView",
            "description_width": ""
          }
        },
        "6069060ec39642b8ad3bbbf1748d7277": {
          "model_module": "@jupyter-widgets/controls",
          "model_module_version": "1.5.0",
          "model_name": "ProgressStyleModel",
          "state": {
            "_model_module": "@jupyter-widgets/controls",
            "_model_module_version": "1.5.0",
            "_model_name": "ProgressStyleModel",
            "_view_count": null,
            "_view_module": "@jupyter-widgets/base",
            "_view_module_version": "1.2.0",
            "_view_name": "StyleView",
            "bar_color": null,
            "description_width": ""
          }
        },
        "6127889a97324dc7b2095d65918b7384": {
          "model_module": "@jupyter-widgets/controls",
          "model_module_version": "1.5.0",
          "model_name": "DescriptionStyleModel",
          "state": {
            "_model_module": "@jupyter-widgets/controls",
            "_model_module_version": "1.5.0",
            "_model_name": "DescriptionStyleModel",
            "_view_count": null,
            "_view_module": "@jupyter-widgets/base",
            "_view_module_version": "1.2.0",
            "_view_name": "StyleView",
            "description_width": ""
          }
        },
        "64f0c43e38ec4426b05776fec8076cd6": {
          "model_module": "@jupyter-widgets/controls",
          "model_module_version": "1.5.0",
          "model_name": "DescriptionStyleModel",
          "state": {
            "_model_module": "@jupyter-widgets/controls",
            "_model_module_version": "1.5.0",
            "_model_name": "DescriptionStyleModel",
            "_view_count": null,
            "_view_module": "@jupyter-widgets/base",
            "_view_module_version": "1.2.0",
            "_view_name": "StyleView",
            "description_width": ""
          }
        },
        "651e16248fc3446ea606c9be808c55ed": {
          "model_module": "@jupyter-widgets/controls",
          "model_module_version": "1.5.0",
          "model_name": "FloatProgressModel",
          "state": {
            "_dom_classes": [],
            "_model_module": "@jupyter-widgets/controls",
            "_model_module_version": "1.5.0",
            "_model_name": "FloatProgressModel",
            "_view_count": null,
            "_view_module": "@jupyter-widgets/controls",
            "_view_module_version": "1.5.0",
            "_view_name": "ProgressView",
            "bar_style": "success",
            "description": "",
            "description_tooltip": null,
            "layout": "IPY_MODEL_5d2bfdc8f55e4ece8d8b7805b626a81b",
            "max": 1946243936,
            "min": 0,
            "orientation": "horizontal",
            "style": "IPY_MODEL_75954116e367488b80600e4fff4b2d4a",
            "value": 1946243936
          }
        },
        "663c109507dd40d1be0c34b454ddf9da": {
          "model_module": "@jupyter-widgets/controls",
          "model_module_version": "1.5.0",
          "model_name": "FloatProgressModel",
          "state": {
            "_dom_classes": [],
            "_model_module": "@jupyter-widgets/controls",
            "_model_module_version": "1.5.0",
            "_model_name": "FloatProgressModel",
            "_view_count": null,
            "_view_module": "@jupyter-widgets/controls",
            "_view_module_version": "1.5.0",
            "_view_name": "ProgressView",
            "bar_style": "success",
            "description": "",
            "description_tooltip": null,
            "layout": "IPY_MODEL_2556e5456d2245a5b8800f2996646ef3",
            "max": 1889587040,
            "min": 0,
            "orientation": "horizontal",
            "style": "IPY_MODEL_b345fdb8dd0246b088f7fe15dfa82ccb",
            "value": 1889587040
          }
        },
        "67e3a76a01f044118cb81ba0991fe54b": {
          "model_module": "@jupyter-widgets/base",
          "model_module_version": "1.2.0",
          "model_name": "LayoutModel",
          "state": {
            "_model_module": "@jupyter-widgets/base",
            "_model_module_version": "1.2.0",
            "_model_name": "LayoutModel",
            "_view_count": null,
            "_view_module": "@jupyter-widgets/base",
            "_view_module_version": "1.2.0",
            "_view_name": "LayoutView",
            "align_content": null,
            "align_items": null,
            "align_self": null,
            "border": null,
            "bottom": null,
            "display": null,
            "flex": null,
            "flex_flow": null,
            "grid_area": null,
            "grid_auto_columns": null,
            "grid_auto_flow": null,
            "grid_auto_rows": null,
            "grid_column": null,
            "grid_gap": null,
            "grid_row": null,
            "grid_template_areas": null,
            "grid_template_columns": null,
            "grid_template_rows": null,
            "height": null,
            "justify_content": null,
            "justify_items": null,
            "left": null,
            "margin": null,
            "max_height": null,
            "max_width": null,
            "min_height": null,
            "min_width": null,
            "object_fit": null,
            "object_position": null,
            "order": null,
            "overflow": null,
            "overflow_x": null,
            "overflow_y": null,
            "padding": null,
            "right": null,
            "top": null,
            "visibility": null,
            "width": null
          }
        },
        "6e41a712bf4946cca1401845f3d0be2b": {
          "model_module": "@jupyter-widgets/base",
          "model_module_version": "1.2.0",
          "model_name": "LayoutModel",
          "state": {
            "_model_module": "@jupyter-widgets/base",
            "_model_module_version": "1.2.0",
            "_model_name": "LayoutModel",
            "_view_count": null,
            "_view_module": "@jupyter-widgets/base",
            "_view_module_version": "1.2.0",
            "_view_name": "LayoutView",
            "align_content": null,
            "align_items": null,
            "align_self": null,
            "border": null,
            "bottom": null,
            "display": null,
            "flex": null,
            "flex_flow": null,
            "grid_area": null,
            "grid_auto_columns": null,
            "grid_auto_flow": null,
            "grid_auto_rows": null,
            "grid_column": null,
            "grid_gap": null,
            "grid_row": null,
            "grid_template_areas": null,
            "grid_template_columns": null,
            "grid_template_rows": null,
            "height": null,
            "justify_content": null,
            "justify_items": null,
            "left": null,
            "margin": null,
            "max_height": null,
            "max_width": null,
            "min_height": null,
            "min_width": null,
            "object_fit": null,
            "object_position": null,
            "order": null,
            "overflow": null,
            "overflow_x": null,
            "overflow_y": null,
            "padding": null,
            "right": null,
            "top": null,
            "visibility": null,
            "width": null
          }
        },
        "741980a5785b499390edc877a760e03d": {
          "model_module": "@jupyter-widgets/base",
          "model_module_version": "1.2.0",
          "model_name": "LayoutModel",
          "state": {
            "_model_module": "@jupyter-widgets/base",
            "_model_module_version": "1.2.0",
            "_model_name": "LayoutModel",
            "_view_count": null,
            "_view_module": "@jupyter-widgets/base",
            "_view_module_version": "1.2.0",
            "_view_name": "LayoutView",
            "align_content": null,
            "align_items": null,
            "align_self": null,
            "border": null,
            "bottom": null,
            "display": null,
            "flex": null,
            "flex_flow": null,
            "grid_area": null,
            "grid_auto_columns": null,
            "grid_auto_flow": null,
            "grid_auto_rows": null,
            "grid_column": null,
            "grid_gap": null,
            "grid_row": null,
            "grid_template_areas": null,
            "grid_template_columns": null,
            "grid_template_rows": null,
            "height": null,
            "justify_content": null,
            "justify_items": null,
            "left": null,
            "margin": null,
            "max_height": null,
            "max_width": null,
            "min_height": null,
            "min_width": null,
            "object_fit": null,
            "object_position": null,
            "order": null,
            "overflow": null,
            "overflow_x": null,
            "overflow_y": null,
            "padding": null,
            "right": null,
            "top": null,
            "visibility": null,
            "width": null
          }
        },
        "7571efb6f74f45fab2a8219afb92eb64": {
          "model_module": "@jupyter-widgets/controls",
          "model_module_version": "1.5.0",
          "model_name": "DescriptionStyleModel",
          "state": {
            "_model_module": "@jupyter-widgets/controls",
            "_model_module_version": "1.5.0",
            "_model_name": "DescriptionStyleModel",
            "_view_count": null,
            "_view_module": "@jupyter-widgets/base",
            "_view_module_version": "1.2.0",
            "_view_name": "StyleView",
            "description_width": ""
          }
        },
        "75954116e367488b80600e4fff4b2d4a": {
          "model_module": "@jupyter-widgets/controls",
          "model_module_version": "1.5.0",
          "model_name": "ProgressStyleModel",
          "state": {
            "_model_module": "@jupyter-widgets/controls",
            "_model_module_version": "1.5.0",
            "_model_name": "ProgressStyleModel",
            "_view_count": null,
            "_view_module": "@jupyter-widgets/base",
            "_view_module_version": "1.2.0",
            "_view_name": "StyleView",
            "bar_color": null,
            "description_width": ""
          }
        },
        "76076e2ca955439593075ac0568af15f": {
          "model_module": "@jupyter-widgets/controls",
          "model_module_version": "1.5.0",
          "model_name": "DescriptionStyleModel",
          "state": {
            "_model_module": "@jupyter-widgets/controls",
            "_model_module_version": "1.5.0",
            "_model_name": "DescriptionStyleModel",
            "_view_count": null,
            "_view_module": "@jupyter-widgets/base",
            "_view_module_version": "1.2.0",
            "_view_name": "StyleView",
            "description_width": ""
          }
        },
        "7cd40b97e6af48ab928d7df6a507462e": {
          "model_module": "@jupyter-widgets/controls",
          "model_module_version": "1.5.0",
          "model_name": "HTMLModel",
          "state": {
            "_dom_classes": [],
            "_model_module": "@jupyter-widgets/controls",
            "_model_module_version": "1.5.0",
            "_model_name": "HTMLModel",
            "_view_count": null,
            "_view_module": "@jupyter-widgets/controls",
            "_view_module_version": "1.5.0",
            "_view_name": "HTMLView",
            "description": "",
            "description_tooltip": null,
            "layout": "IPY_MODEL_4bd887b1eec747ff93278b2a90359fc2",
            "placeholder": "​",
            "style": "IPY_MODEL_024c4c5dd0b74d49b7e2d04ab559fa58",
            "value": " 816M/816M [10:25&lt;00:00, 1.06MB/s]"
          }
        },
        "83747e46d0b8493899286780ebc6cb55": {
          "model_module": "@jupyter-widgets/controls",
          "model_module_version": "1.5.0",
          "model_name": "DescriptionStyleModel",
          "state": {
            "_model_module": "@jupyter-widgets/controls",
            "_model_module_version": "1.5.0",
            "_model_name": "DescriptionStyleModel",
            "_view_count": null,
            "_view_module": "@jupyter-widgets/base",
            "_view_module_version": "1.2.0",
            "_view_name": "StyleView",
            "description_width": ""
          }
        },
        "8a080508d2d3418fafe5c039a213d03a": {
          "model_module": "@jupyter-widgets/controls",
          "model_module_version": "1.5.0",
          "model_name": "HBoxModel",
          "state": {
            "_dom_classes": [],
            "_model_module": "@jupyter-widgets/controls",
            "_model_module_version": "1.5.0",
            "_model_name": "HBoxModel",
            "_view_count": null,
            "_view_module": "@jupyter-widgets/controls",
            "_view_module_version": "1.5.0",
            "_view_name": "HBoxView",
            "box_style": "",
            "children": [
              "IPY_MODEL_951543166dab4db7a5a72217d57cc470",
              "IPY_MODEL_c53698dc050f4d87ad9873a13235d52e",
              "IPY_MODEL_e6da94c304774d9d94f972653b839b64"
            ],
            "layout": "IPY_MODEL_a48ff7158b1f4d7a8dccffcdb37ec73b"
          }
        },
        "8c07ce8cbcd44396beb2f5d380b18d18": {
          "model_module": "@jupyter-widgets/base",
          "model_module_version": "1.2.0",
          "model_name": "LayoutModel",
          "state": {
            "_model_module": "@jupyter-widgets/base",
            "_model_module_version": "1.2.0",
            "_model_name": "LayoutModel",
            "_view_count": null,
            "_view_module": "@jupyter-widgets/base",
            "_view_module_version": "1.2.0",
            "_view_name": "LayoutView",
            "align_content": null,
            "align_items": null,
            "align_self": null,
            "border": null,
            "bottom": null,
            "display": null,
            "flex": null,
            "flex_flow": null,
            "grid_area": null,
            "grid_auto_columns": null,
            "grid_auto_flow": null,
            "grid_auto_rows": null,
            "grid_column": null,
            "grid_gap": null,
            "grid_row": null,
            "grid_template_areas": null,
            "grid_template_columns": null,
            "grid_template_rows": null,
            "height": null,
            "justify_content": null,
            "justify_items": null,
            "left": null,
            "margin": null,
            "max_height": null,
            "max_width": null,
            "min_height": null,
            "min_width": null,
            "object_fit": null,
            "object_position": null,
            "order": null,
            "overflow": null,
            "overflow_x": null,
            "overflow_y": null,
            "padding": null,
            "right": null,
            "top": null,
            "visibility": null,
            "width": null
          }
        },
        "8c33a2c767484e868d76662d18968e9e": {
          "model_module": "@jupyter-widgets/controls",
          "model_module_version": "1.5.0",
          "model_name": "FloatProgressModel",
          "state": {
            "_dom_classes": [],
            "_model_module": "@jupyter-widgets/controls",
            "_model_module_version": "1.5.0",
            "_model_name": "FloatProgressModel",
            "_view_count": null,
            "_view_module": "@jupyter-widgets/controls",
            "_view_module_version": "1.5.0",
            "_view_name": "ProgressView",
            "bar_style": "success",
            "description": "",
            "description_tooltip": null,
            "layout": "IPY_MODEL_ec13b8a2041c4bee90ffbabe859af3d9",
            "max": 1946243984,
            "min": 0,
            "orientation": "horizontal",
            "style": "IPY_MODEL_b7fc0946402e445f9f90b8a35feb5151",
            "value": 1946243984
          }
        },
        "8e72daa070a84dce9b5a247a1d51e0dc": {
          "model_module": "@jupyter-widgets/controls",
          "model_module_version": "1.5.0",
          "model_name": "HBoxModel",
          "state": {
            "_dom_classes": [],
            "_model_module": "@jupyter-widgets/controls",
            "_model_module_version": "1.5.0",
            "_model_name": "HBoxModel",
            "_view_count": null,
            "_view_module": "@jupyter-widgets/controls",
            "_view_module_version": "1.5.0",
            "_view_name": "HBoxView",
            "box_style": "",
            "children": [
              "IPY_MODEL_acb91cb9d14244cda15d39cd24c18d7d",
              "IPY_MODEL_5376e9cbd66347ada39fe59a919bc859",
              "IPY_MODEL_39640821473b41c7a0d2469821ff3195"
            ],
            "layout": "IPY_MODEL_23de66e41f874ab68c4136db19b7d8ab"
          }
        },
        "900d138ac3984399b81fc75cbb44092c": {
          "model_module": "@jupyter-widgets/controls",
          "model_module_version": "1.5.0",
          "model_name": "FloatProgressModel",
          "state": {
            "_dom_classes": [],
            "_model_module": "@jupyter-widgets/controls",
            "_model_module_version": "1.5.0",
            "_model_name": "FloatProgressModel",
            "_view_count": null,
            "_view_module": "@jupyter-widgets/controls",
            "_view_module_version": "1.5.0",
            "_view_name": "ProgressView",
            "bar_style": "success",
            "description": "",
            "description_tooltip": null,
            "layout": "IPY_MODEL_1ddf817d2f6e453c8642165d9d853715",
            "max": 1946243984,
            "min": 0,
            "orientation": "horizontal",
            "style": "IPY_MODEL_4032a501c67f415296f249ecc08f7d36",
            "value": 1946243984
          }
        },
        "902655f1955c405097fe1389629392b4": {
          "model_module": "@jupyter-widgets/controls",
          "model_module_version": "1.5.0",
          "model_name": "HBoxModel",
          "state": {
            "_dom_classes": [],
            "_model_module": "@jupyter-widgets/controls",
            "_model_module_version": "1.5.0",
            "_model_name": "HBoxModel",
            "_view_count": null,
            "_view_module": "@jupyter-widgets/controls",
            "_view_module_version": "1.5.0",
            "_view_name": "HBoxView",
            "box_style": "",
            "children": [
              "IPY_MODEL_adafc2f5d02f43029a8842cb7d309e03",
              "IPY_MODEL_900d138ac3984399b81fc75cbb44092c",
              "IPY_MODEL_bbb1620682fa4f50bcb3b73c692a87de"
            ],
            "layout": "IPY_MODEL_b32f65eb442741fb90b4cab57ddcf4fe"
          }
        },
        "911d52870be846269adccffbc13f3bf6": {
          "model_module": "@jupyter-widgets/controls",
          "model_module_version": "1.5.0",
          "model_name": "HTMLModel",
          "state": {
            "_dom_classes": [],
            "_model_module": "@jupyter-widgets/controls",
            "_model_module_version": "1.5.0",
            "_model_name": "HTMLModel",
            "_view_count": null,
            "_view_module": "@jupyter-widgets/controls",
            "_view_module_version": "1.5.0",
            "_view_name": "HTMLView",
            "description": "",
            "description_tooltip": null,
            "layout": "IPY_MODEL_6e41a712bf4946cca1401845f3d0be2b",
            "placeholder": "​",
            "style": "IPY_MODEL_5fecf3e7d6ba4426be26b7e738992615",
            "value": "model-00008-of-00008.safetensors: 100%"
          }
        },
        "951543166dab4db7a5a72217d57cc470": {
          "model_module": "@jupyter-widgets/controls",
          "model_module_version": "1.5.0",
          "model_name": "HTMLModel",
          "state": {
            "_dom_classes": [],
            "_model_module": "@jupyter-widgets/controls",
            "_model_module_version": "1.5.0",
            "_model_name": "HTMLModel",
            "_view_count": null,
            "_view_module": "@jupyter-widgets/controls",
            "_view_module_version": "1.5.0",
            "_view_name": "HTMLView",
            "description": "",
            "description_tooltip": null,
            "layout": "IPY_MODEL_ee6e58ac603c4dcbbe2bc0df52ab493e",
            "placeholder": "​",
            "style": "IPY_MODEL_83747e46d0b8493899286780ebc6cb55",
            "value": "Loading checkpoint shards: 100%"
          }
        },
        "95384d9033324990aa5dffc30ad4ee76": {
          "model_module": "@jupyter-widgets/controls",
          "model_module_version": "1.5.0",
          "model_name": "ProgressStyleModel",
          "state": {
            "_model_module": "@jupyter-widgets/controls",
            "_model_module_version": "1.5.0",
            "_model_name": "ProgressStyleModel",
            "_view_count": null,
            "_view_module": "@jupyter-widgets/base",
            "_view_module_version": "1.2.0",
            "_view_name": "StyleView",
            "bar_color": null,
            "description_width": ""
          }
        },
        "968bf79f52da4a44aa5d7d2cc071d2aa": {
          "model_module": "@jupyter-widgets/controls",
          "model_module_version": "1.5.0",
          "model_name": "FloatProgressModel",
          "state": {
            "_dom_classes": [],
            "_model_module": "@jupyter-widgets/controls",
            "_model_module_version": "1.5.0",
            "_model_name": "FloatProgressModel",
            "_view_count": null,
            "_view_module": "@jupyter-widgets/controls",
            "_view_module_version": "1.5.0",
            "_view_name": "ProgressView",
            "bar_style": "success",
            "description": "",
            "description_tooltip": null,
            "layout": "IPY_MODEL_56aa1d78114e4b9593cc866eb0947225",
            "max": 1979781448,
            "min": 0,
            "orientation": "horizontal",
            "style": "IPY_MODEL_137c58dfa3a945f094989fbe50775f8b",
            "value": 1979781448
          }
        },
        "99a4859b84274866960ba938c8210c5c": {
          "model_module": "@jupyter-widgets/base",
          "model_module_version": "1.2.0",
          "model_name": "LayoutModel",
          "state": {
            "_model_module": "@jupyter-widgets/base",
            "_model_module_version": "1.2.0",
            "_model_name": "LayoutModel",
            "_view_count": null,
            "_view_module": "@jupyter-widgets/base",
            "_view_module_version": "1.2.0",
            "_view_name": "LayoutView",
            "align_content": null,
            "align_items": null,
            "align_self": null,
            "border": null,
            "bottom": null,
            "display": null,
            "flex": null,
            "flex_flow": null,
            "grid_area": null,
            "grid_auto_columns": null,
            "grid_auto_flow": null,
            "grid_auto_rows": null,
            "grid_column": null,
            "grid_gap": null,
            "grid_row": null,
            "grid_template_areas": null,
            "grid_template_columns": null,
            "grid_template_rows": null,
            "height": null,
            "justify_content": null,
            "justify_items": null,
            "left": null,
            "margin": null,
            "max_height": null,
            "max_width": null,
            "min_height": null,
            "min_width": null,
            "object_fit": null,
            "object_position": null,
            "order": null,
            "overflow": null,
            "overflow_x": null,
            "overflow_y": null,
            "padding": null,
            "right": null,
            "top": null,
            "visibility": null,
            "width": null
          }
        },
        "9b2ff520b1f843178d7ec76eb2e925b5": {
          "model_module": "@jupyter-widgets/base",
          "model_module_version": "1.2.0",
          "model_name": "LayoutModel",
          "state": {
            "_model_module": "@jupyter-widgets/base",
            "_model_module_version": "1.2.0",
            "_model_name": "LayoutModel",
            "_view_count": null,
            "_view_module": "@jupyter-widgets/base",
            "_view_module_version": "1.2.0",
            "_view_name": "LayoutView",
            "align_content": null,
            "align_items": null,
            "align_self": null,
            "border": null,
            "bottom": null,
            "display": null,
            "flex": null,
            "flex_flow": null,
            "grid_area": null,
            "grid_auto_columns": null,
            "grid_auto_flow": null,
            "grid_auto_rows": null,
            "grid_column": null,
            "grid_gap": null,
            "grid_row": null,
            "grid_template_areas": null,
            "grid_template_columns": null,
            "grid_template_rows": null,
            "height": null,
            "justify_content": null,
            "justify_items": null,
            "left": null,
            "margin": null,
            "max_height": null,
            "max_width": null,
            "min_height": null,
            "min_width": null,
            "object_fit": null,
            "object_position": null,
            "order": null,
            "overflow": null,
            "overflow_x": null,
            "overflow_y": null,
            "padding": null,
            "right": null,
            "top": null,
            "visibility": null,
            "width": null
          }
        },
        "9f2a64643b2a4f8cacad2bf25d171270": {
          "model_module": "@jupyter-widgets/controls",
          "model_module_version": "1.5.0",
          "model_name": "DescriptionStyleModel",
          "state": {
            "_model_module": "@jupyter-widgets/controls",
            "_model_module_version": "1.5.0",
            "_model_name": "DescriptionStyleModel",
            "_view_count": null,
            "_view_module": "@jupyter-widgets/base",
            "_view_module_version": "1.2.0",
            "_view_name": "StyleView",
            "description_width": ""
          }
        },
        "9f31f9e642344175a068ba7bac19ea31": {
          "model_module": "@jupyter-widgets/base",
          "model_module_version": "1.2.0",
          "model_name": "LayoutModel",
          "state": {
            "_model_module": "@jupyter-widgets/base",
            "_model_module_version": "1.2.0",
            "_model_name": "LayoutModel",
            "_view_count": null,
            "_view_module": "@jupyter-widgets/base",
            "_view_module_version": "1.2.0",
            "_view_name": "LayoutView",
            "align_content": null,
            "align_items": null,
            "align_self": null,
            "border": null,
            "bottom": null,
            "display": null,
            "flex": null,
            "flex_flow": null,
            "grid_area": null,
            "grid_auto_columns": null,
            "grid_auto_flow": null,
            "grid_auto_rows": null,
            "grid_column": null,
            "grid_gap": null,
            "grid_row": null,
            "grid_template_areas": null,
            "grid_template_columns": null,
            "grid_template_rows": null,
            "height": null,
            "justify_content": null,
            "justify_items": null,
            "left": null,
            "margin": null,
            "max_height": null,
            "max_width": null,
            "min_height": null,
            "min_width": null,
            "object_fit": null,
            "object_position": null,
            "order": null,
            "overflow": null,
            "overflow_x": null,
            "overflow_y": null,
            "padding": null,
            "right": null,
            "top": null,
            "visibility": null,
            "width": null
          }
        },
        "a3ed54e697e041ccb5cec60684d51346": {
          "model_module": "@jupyter-widgets/controls",
          "model_module_version": "1.5.0",
          "model_name": "HTMLModel",
          "state": {
            "_dom_classes": [],
            "_model_module": "@jupyter-widgets/controls",
            "_model_module_version": "1.5.0",
            "_model_name": "HTMLModel",
            "_view_count": null,
            "_view_module": "@jupyter-widgets/controls",
            "_view_module_version": "1.5.0",
            "_view_name": "HTMLView",
            "description": "",
            "description_tooltip": null,
            "layout": "IPY_MODEL_67e3a76a01f044118cb81ba0991fe54b",
            "placeholder": "​",
            "style": "IPY_MODEL_fa9a4d84462c4ff89da29b4f454552b2",
            "value": " 1.95G/1.95G [12:52&lt;00:00, 7.28MB/s]"
          }
        },
        "a41cd8e1b79e485796ed2b01f3106888": {
          "model_module": "@jupyter-widgets/base",
          "model_module_version": "1.2.0",
          "model_name": "LayoutModel",
          "state": {
            "_model_module": "@jupyter-widgets/base",
            "_model_module_version": "1.2.0",
            "_model_name": "LayoutModel",
            "_view_count": null,
            "_view_module": "@jupyter-widgets/base",
            "_view_module_version": "1.2.0",
            "_view_name": "LayoutView",
            "align_content": null,
            "align_items": null,
            "align_self": null,
            "border": null,
            "bottom": null,
            "display": null,
            "flex": null,
            "flex_flow": null,
            "grid_area": null,
            "grid_auto_columns": null,
            "grid_auto_flow": null,
            "grid_auto_rows": null,
            "grid_column": null,
            "grid_gap": null,
            "grid_row": null,
            "grid_template_areas": null,
            "grid_template_columns": null,
            "grid_template_rows": null,
            "height": null,
            "justify_content": null,
            "justify_items": null,
            "left": null,
            "margin": null,
            "max_height": null,
            "max_width": null,
            "min_height": null,
            "min_width": null,
            "object_fit": null,
            "object_position": null,
            "order": null,
            "overflow": null,
            "overflow_x": null,
            "overflow_y": null,
            "padding": null,
            "right": null,
            "top": null,
            "visibility": null,
            "width": null
          }
        },
        "a48ff7158b1f4d7a8dccffcdb37ec73b": {
          "model_module": "@jupyter-widgets/base",
          "model_module_version": "1.2.0",
          "model_name": "LayoutModel",
          "state": {
            "_model_module": "@jupyter-widgets/base",
            "_model_module_version": "1.2.0",
            "_model_name": "LayoutModel",
            "_view_count": null,
            "_view_module": "@jupyter-widgets/base",
            "_view_module_version": "1.2.0",
            "_view_name": "LayoutView",
            "align_content": null,
            "align_items": null,
            "align_self": null,
            "border": null,
            "bottom": null,
            "display": null,
            "flex": null,
            "flex_flow": null,
            "grid_area": null,
            "grid_auto_columns": null,
            "grid_auto_flow": null,
            "grid_auto_rows": null,
            "grid_column": null,
            "grid_gap": null,
            "grid_row": null,
            "grid_template_areas": null,
            "grid_template_columns": null,
            "grid_template_rows": null,
            "height": null,
            "justify_content": null,
            "justify_items": null,
            "left": null,
            "margin": null,
            "max_height": null,
            "max_width": null,
            "min_height": null,
            "min_width": null,
            "object_fit": null,
            "object_position": null,
            "order": null,
            "overflow": null,
            "overflow_x": null,
            "overflow_y": null,
            "padding": null,
            "right": null,
            "top": null,
            "visibility": null,
            "width": null
          }
        },
        "a597b44a2fc04cacaa7d9c32d59d6b19": {
          "model_module": "@jupyter-widgets/base",
          "model_module_version": "1.2.0",
          "model_name": "LayoutModel",
          "state": {
            "_model_module": "@jupyter-widgets/base",
            "_model_module_version": "1.2.0",
            "_model_name": "LayoutModel",
            "_view_count": null,
            "_view_module": "@jupyter-widgets/base",
            "_view_module_version": "1.2.0",
            "_view_name": "LayoutView",
            "align_content": null,
            "align_items": null,
            "align_self": null,
            "border": null,
            "bottom": null,
            "display": null,
            "flex": null,
            "flex_flow": null,
            "grid_area": null,
            "grid_auto_columns": null,
            "grid_auto_flow": null,
            "grid_auto_rows": null,
            "grid_column": null,
            "grid_gap": null,
            "grid_row": null,
            "grid_template_areas": null,
            "grid_template_columns": null,
            "grid_template_rows": null,
            "height": null,
            "justify_content": null,
            "justify_items": null,
            "left": null,
            "margin": null,
            "max_height": null,
            "max_width": null,
            "min_height": null,
            "min_width": null,
            "object_fit": null,
            "object_position": null,
            "order": null,
            "overflow": null,
            "overflow_x": null,
            "overflow_y": null,
            "padding": null,
            "right": null,
            "top": null,
            "visibility": null,
            "width": null
          }
        },
        "a6270cc2b5da4386a9c32aef9a2f93d4": {
          "model_module": "@jupyter-widgets/base",
          "model_module_version": "1.2.0",
          "model_name": "LayoutModel",
          "state": {
            "_model_module": "@jupyter-widgets/base",
            "_model_module_version": "1.2.0",
            "_model_name": "LayoutModel",
            "_view_count": null,
            "_view_module": "@jupyter-widgets/base",
            "_view_module_version": "1.2.0",
            "_view_name": "LayoutView",
            "align_content": null,
            "align_items": null,
            "align_self": null,
            "border": null,
            "bottom": null,
            "display": null,
            "flex": null,
            "flex_flow": null,
            "grid_area": null,
            "grid_auto_columns": null,
            "grid_auto_flow": null,
            "grid_auto_rows": null,
            "grid_column": null,
            "grid_gap": null,
            "grid_row": null,
            "grid_template_areas": null,
            "grid_template_columns": null,
            "grid_template_rows": null,
            "height": null,
            "justify_content": null,
            "justify_items": null,
            "left": null,
            "margin": null,
            "max_height": null,
            "max_width": null,
            "min_height": null,
            "min_width": null,
            "object_fit": null,
            "object_position": null,
            "order": null,
            "overflow": null,
            "overflow_x": null,
            "overflow_y": null,
            "padding": null,
            "right": null,
            "top": null,
            "visibility": null,
            "width": null
          }
        },
        "a676ecd0fcca407d8377fd8218f70501": {
          "model_module": "@jupyter-widgets/base",
          "model_module_version": "1.2.0",
          "model_name": "LayoutModel",
          "state": {
            "_model_module": "@jupyter-widgets/base",
            "_model_module_version": "1.2.0",
            "_model_name": "LayoutModel",
            "_view_count": null,
            "_view_module": "@jupyter-widgets/base",
            "_view_module_version": "1.2.0",
            "_view_name": "LayoutView",
            "align_content": null,
            "align_items": null,
            "align_self": null,
            "border": null,
            "bottom": null,
            "display": null,
            "flex": null,
            "flex_flow": null,
            "grid_area": null,
            "grid_auto_columns": null,
            "grid_auto_flow": null,
            "grid_auto_rows": null,
            "grid_column": null,
            "grid_gap": null,
            "grid_row": null,
            "grid_template_areas": null,
            "grid_template_columns": null,
            "grid_template_rows": null,
            "height": null,
            "justify_content": null,
            "justify_items": null,
            "left": null,
            "margin": null,
            "max_height": null,
            "max_width": null,
            "min_height": null,
            "min_width": null,
            "object_fit": null,
            "object_position": null,
            "order": null,
            "overflow": null,
            "overflow_x": null,
            "overflow_y": null,
            "padding": null,
            "right": null,
            "top": null,
            "visibility": null,
            "width": null
          }
        },
        "a6bab15c90d443d98c8cbf88d1e72918": {
          "model_module": "@jupyter-widgets/base",
          "model_module_version": "1.2.0",
          "model_name": "LayoutModel",
          "state": {
            "_model_module": "@jupyter-widgets/base",
            "_model_module_version": "1.2.0",
            "_model_name": "LayoutModel",
            "_view_count": null,
            "_view_module": "@jupyter-widgets/base",
            "_view_module_version": "1.2.0",
            "_view_name": "LayoutView",
            "align_content": null,
            "align_items": null,
            "align_self": null,
            "border": null,
            "bottom": null,
            "display": null,
            "flex": null,
            "flex_flow": null,
            "grid_area": null,
            "grid_auto_columns": null,
            "grid_auto_flow": null,
            "grid_auto_rows": null,
            "grid_column": null,
            "grid_gap": null,
            "grid_row": null,
            "grid_template_areas": null,
            "grid_template_columns": null,
            "grid_template_rows": null,
            "height": null,
            "justify_content": null,
            "justify_items": null,
            "left": null,
            "margin": null,
            "max_height": null,
            "max_width": null,
            "min_height": null,
            "min_width": null,
            "object_fit": null,
            "object_position": null,
            "order": null,
            "overflow": null,
            "overflow_x": null,
            "overflow_y": null,
            "padding": null,
            "right": null,
            "top": null,
            "visibility": null,
            "width": null
          }
        },
        "a79c2d9397b344bba48aab2f73ce491c": {
          "model_module": "@jupyter-widgets/controls",
          "model_module_version": "1.5.0",
          "model_name": "DescriptionStyleModel",
          "state": {
            "_model_module": "@jupyter-widgets/controls",
            "_model_module_version": "1.5.0",
            "_model_name": "DescriptionStyleModel",
            "_view_count": null,
            "_view_module": "@jupyter-widgets/base",
            "_view_module_version": "1.2.0",
            "_view_name": "StyleView",
            "description_width": ""
          }
        },
        "a92ec6cbf7984756bb15e77e28e2eafd": {
          "model_module": "@jupyter-widgets/controls",
          "model_module_version": "1.5.0",
          "model_name": "DescriptionStyleModel",
          "state": {
            "_model_module": "@jupyter-widgets/controls",
            "_model_module_version": "1.5.0",
            "_model_name": "DescriptionStyleModel",
            "_view_count": null,
            "_view_module": "@jupyter-widgets/base",
            "_view_module_version": "1.2.0",
            "_view_name": "StyleView",
            "description_width": ""
          }
        },
        "a9d7cb28cd4946669095b1ca17eb54ec": {
          "model_module": "@jupyter-widgets/controls",
          "model_module_version": "1.5.0",
          "model_name": "HTMLModel",
          "state": {
            "_dom_classes": [],
            "_model_module": "@jupyter-widgets/controls",
            "_model_module_version": "1.5.0",
            "_model_name": "HTMLModel",
            "_view_count": null,
            "_view_module": "@jupyter-widgets/controls",
            "_view_module_version": "1.5.0",
            "_view_name": "HTMLView",
            "description": "",
            "description_tooltip": null,
            "layout": "IPY_MODEL_3de463d233324062add631da5067e87c",
            "placeholder": "​",
            "style": "IPY_MODEL_dbba54b019f64405bbcf1ca193bcbad0",
            "value": "Fetching 8 files: 100%"
          }
        },
        "acb91cb9d14244cda15d39cd24c18d7d": {
          "model_module": "@jupyter-widgets/controls",
          "model_module_version": "1.5.0",
          "model_name": "HTMLModel",
          "state": {
            "_dom_classes": [],
            "_model_module": "@jupyter-widgets/controls",
            "_model_module_version": "1.5.0",
            "_model_name": "HTMLModel",
            "_view_count": null,
            "_view_module": "@jupyter-widgets/controls",
            "_view_module_version": "1.5.0",
            "_view_name": "HTMLView",
            "description": "",
            "description_tooltip": null,
            "layout": "IPY_MODEL_4c6af57c5cc84ede83965c767c87dddc",
            "placeholder": "​",
            "style": "IPY_MODEL_7571efb6f74f45fab2a8219afb92eb64",
            "value": "generation_config.json: 100%"
          }
        },
        "adafc2f5d02f43029a8842cb7d309e03": {
          "model_module": "@jupyter-widgets/controls",
          "model_module_version": "1.5.0",
          "model_name": "HTMLModel",
          "state": {
            "_dom_classes": [],
            "_model_module": "@jupyter-widgets/controls",
            "_model_module_version": "1.5.0",
            "_model_name": "HTMLModel",
            "_view_count": null,
            "_view_module": "@jupyter-widgets/controls",
            "_view_module_version": "1.5.0",
            "_view_name": "HTMLView",
            "description": "",
            "description_tooltip": null,
            "layout": "IPY_MODEL_14097ba6443a46198d79b81960ccab13",
            "placeholder": "​",
            "style": "IPY_MODEL_9f2a64643b2a4f8cacad2bf25d171270",
            "value": "model-00004-of-00008.safetensors: 100%"
          }
        },
        "ae254bccfe304b2f83e9d0b5dfe9dc7c": {
          "model_module": "@jupyter-widgets/controls",
          "model_module_version": "1.5.0",
          "model_name": "DescriptionStyleModel",
          "state": {
            "_model_module": "@jupyter-widgets/controls",
            "_model_module_version": "1.5.0",
            "_model_name": "DescriptionStyleModel",
            "_view_count": null,
            "_view_module": "@jupyter-widgets/base",
            "_view_module_version": "1.2.0",
            "_view_name": "StyleView",
            "description_width": ""
          }
        },
        "ae3c6ffb82e741f98b41ec2ad4161ef3": {
          "model_module": "@jupyter-widgets/controls",
          "model_module_version": "1.5.0",
          "model_name": "HBoxModel",
          "state": {
            "_dom_classes": [],
            "_model_module": "@jupyter-widgets/controls",
            "_model_module_version": "1.5.0",
            "_model_name": "HBoxModel",
            "_view_count": null,
            "_view_module": "@jupyter-widgets/controls",
            "_view_module_version": "1.5.0",
            "_view_name": "HBoxView",
            "box_style": "",
            "children": [
              "IPY_MODEL_05e43f011c4848289fe7d622f97e9c22",
              "IPY_MODEL_c839652dda244969bbd80d16a4b93bb1",
              "IPY_MODEL_3a0b9f5441d44aa9a744d62f106ad5d2"
            ],
            "layout": "IPY_MODEL_a597b44a2fc04cacaa7d9c32d59d6b19"
          }
        },
        "b32f65eb442741fb90b4cab57ddcf4fe": {
          "model_module": "@jupyter-widgets/base",
          "model_module_version": "1.2.0",
          "model_name": "LayoutModel",
          "state": {
            "_model_module": "@jupyter-widgets/base",
            "_model_module_version": "1.2.0",
            "_model_name": "LayoutModel",
            "_view_count": null,
            "_view_module": "@jupyter-widgets/base",
            "_view_module_version": "1.2.0",
            "_view_name": "LayoutView",
            "align_content": null,
            "align_items": null,
            "align_self": null,
            "border": null,
            "bottom": null,
            "display": null,
            "flex": null,
            "flex_flow": null,
            "grid_area": null,
            "grid_auto_columns": null,
            "grid_auto_flow": null,
            "grid_auto_rows": null,
            "grid_column": null,
            "grid_gap": null,
            "grid_row": null,
            "grid_template_areas": null,
            "grid_template_columns": null,
            "grid_template_rows": null,
            "height": null,
            "justify_content": null,
            "justify_items": null,
            "left": null,
            "margin": null,
            "max_height": null,
            "max_width": null,
            "min_height": null,
            "min_width": null,
            "object_fit": null,
            "object_position": null,
            "order": null,
            "overflow": null,
            "overflow_x": null,
            "overflow_y": null,
            "padding": null,
            "right": null,
            "top": null,
            "visibility": null,
            "width": null
          }
        },
        "b345fdb8dd0246b088f7fe15dfa82ccb": {
          "model_module": "@jupyter-widgets/controls",
          "model_module_version": "1.5.0",
          "model_name": "ProgressStyleModel",
          "state": {
            "_model_module": "@jupyter-widgets/controls",
            "_model_module_version": "1.5.0",
            "_model_name": "ProgressStyleModel",
            "_view_count": null,
            "_view_module": "@jupyter-widgets/base",
            "_view_module_version": "1.2.0",
            "_view_name": "StyleView",
            "bar_color": null,
            "description_width": ""
          }
        },
        "b579683fe45f4d9499e23b02eb907231": {
          "model_module": "@jupyter-widgets/controls",
          "model_module_version": "1.5.0",
          "model_name": "HBoxModel",
          "state": {
            "_dom_classes": [],
            "_model_module": "@jupyter-widgets/controls",
            "_model_module_version": "1.5.0",
            "_model_name": "HBoxModel",
            "_view_count": null,
            "_view_module": "@jupyter-widgets/controls",
            "_view_module_version": "1.5.0",
            "_view_name": "HBoxView",
            "box_style": "",
            "children": [
              "IPY_MODEL_0ede4a074a3c42ada6a638b6ca1e32d2",
              "IPY_MODEL_8c33a2c767484e868d76662d18968e9e",
              "IPY_MODEL_299165b29e8646fd9512f630d1e93ef5"
            ],
            "layout": "IPY_MODEL_a41cd8e1b79e485796ed2b01f3106888"
          }
        },
        "b60f39024723438c80cc70b223d3b62b": {
          "model_module": "@jupyter-widgets/controls",
          "model_module_version": "1.5.0",
          "model_name": "ProgressStyleModel",
          "state": {
            "_model_module": "@jupyter-widgets/controls",
            "_model_module_version": "1.5.0",
            "_model_name": "ProgressStyleModel",
            "_view_count": null,
            "_view_module": "@jupyter-widgets/base",
            "_view_module_version": "1.2.0",
            "_view_name": "StyleView",
            "bar_color": null,
            "description_width": ""
          }
        },
        "b65b0e1a51754a73ad705b68847db0fe": {
          "model_module": "@jupyter-widgets/controls",
          "model_module_version": "1.5.0",
          "model_name": "HBoxModel",
          "state": {
            "_dom_classes": [],
            "_model_module": "@jupyter-widgets/controls",
            "_model_module_version": "1.5.0",
            "_model_name": "HBoxModel",
            "_view_count": null,
            "_view_module": "@jupyter-widgets/controls",
            "_view_module_version": "1.5.0",
            "_view_name": "HBoxView",
            "box_style": "",
            "children": [
              "IPY_MODEL_f00372721bf948bf8d37bca31a84168e",
              "IPY_MODEL_651e16248fc3446ea606c9be808c55ed",
              "IPY_MODEL_a3ed54e697e041ccb5cec60684d51346"
            ],
            "layout": "IPY_MODEL_2f587dd8fc0046e985870b461892de2c"
          }
        },
        "b7fc0946402e445f9f90b8a35feb5151": {
          "model_module": "@jupyter-widgets/controls",
          "model_module_version": "1.5.0",
          "model_name": "ProgressStyleModel",
          "state": {
            "_model_module": "@jupyter-widgets/controls",
            "_model_module_version": "1.5.0",
            "_model_name": "ProgressStyleModel",
            "_view_count": null,
            "_view_module": "@jupyter-widgets/base",
            "_view_module_version": "1.2.0",
            "_view_name": "StyleView",
            "bar_color": null,
            "description_width": ""
          }
        },
        "bbb1620682fa4f50bcb3b73c692a87de": {
          "model_module": "@jupyter-widgets/controls",
          "model_module_version": "1.5.0",
          "model_name": "HTMLModel",
          "state": {
            "_dom_classes": [],
            "_model_module": "@jupyter-widgets/controls",
            "_model_module_version": "1.5.0",
            "_model_name": "HTMLModel",
            "_view_count": null,
            "_view_module": "@jupyter-widgets/controls",
            "_view_module_version": "1.5.0",
            "_view_name": "HTMLView",
            "description": "",
            "description_tooltip": null,
            "layout": "IPY_MODEL_a6bab15c90d443d98c8cbf88d1e72918",
            "placeholder": "​",
            "style": "IPY_MODEL_6127889a97324dc7b2095d65918b7384",
            "value": " 1.95G/1.95G [12:51&lt;00:00, 16.2MB/s]"
          }
        },
        "bdfdf8df8ceb43149f5593831b747c53": {
          "model_module": "@jupyter-widgets/base",
          "model_module_version": "1.2.0",
          "model_name": "LayoutModel",
          "state": {
            "_model_module": "@jupyter-widgets/base",
            "_model_module_version": "1.2.0",
            "_model_name": "LayoutModel",
            "_view_count": null,
            "_view_module": "@jupyter-widgets/base",
            "_view_module_version": "1.2.0",
            "_view_name": "LayoutView",
            "align_content": null,
            "align_items": null,
            "align_self": null,
            "border": null,
            "bottom": null,
            "display": null,
            "flex": null,
            "flex_flow": null,
            "grid_area": null,
            "grid_auto_columns": null,
            "grid_auto_flow": null,
            "grid_auto_rows": null,
            "grid_column": null,
            "grid_gap": null,
            "grid_row": null,
            "grid_template_areas": null,
            "grid_template_columns": null,
            "grid_template_rows": null,
            "height": null,
            "justify_content": null,
            "justify_items": null,
            "left": null,
            "margin": null,
            "max_height": null,
            "max_width": null,
            "min_height": null,
            "min_width": null,
            "object_fit": null,
            "object_position": null,
            "order": null,
            "overflow": null,
            "overflow_x": null,
            "overflow_y": null,
            "padding": null,
            "right": null,
            "top": null,
            "visibility": null,
            "width": null
          }
        },
        "c46bbc26d27b4fbeb5647fe29925931d": {
          "model_module": "@jupyter-widgets/base",
          "model_module_version": "1.2.0",
          "model_name": "LayoutModel",
          "state": {
            "_model_module": "@jupyter-widgets/base",
            "_model_module_version": "1.2.0",
            "_model_name": "LayoutModel",
            "_view_count": null,
            "_view_module": "@jupyter-widgets/base",
            "_view_module_version": "1.2.0",
            "_view_name": "LayoutView",
            "align_content": null,
            "align_items": null,
            "align_self": null,
            "border": null,
            "bottom": null,
            "display": null,
            "flex": null,
            "flex_flow": null,
            "grid_area": null,
            "grid_auto_columns": null,
            "grid_auto_flow": null,
            "grid_auto_rows": null,
            "grid_column": null,
            "grid_gap": null,
            "grid_row": null,
            "grid_template_areas": null,
            "grid_template_columns": null,
            "grid_template_rows": null,
            "height": null,
            "justify_content": null,
            "justify_items": null,
            "left": null,
            "margin": null,
            "max_height": null,
            "max_width": null,
            "min_height": null,
            "min_width": null,
            "object_fit": null,
            "object_position": null,
            "order": null,
            "overflow": null,
            "overflow_x": null,
            "overflow_y": null,
            "padding": null,
            "right": null,
            "top": null,
            "visibility": null,
            "width": null
          }
        },
        "c53698dc050f4d87ad9873a13235d52e": {
          "model_module": "@jupyter-widgets/controls",
          "model_module_version": "1.5.0",
          "model_name": "FloatProgressModel",
          "state": {
            "_dom_classes": [],
            "_model_module": "@jupyter-widgets/controls",
            "_model_module_version": "1.5.0",
            "_model_name": "FloatProgressModel",
            "_view_count": null,
            "_view_module": "@jupyter-widgets/controls",
            "_view_module_version": "1.5.0",
            "_view_name": "ProgressView",
            "bar_style": "success",
            "description": "",
            "description_tooltip": null,
            "layout": "IPY_MODEL_9b2ff520b1f843178d7ec76eb2e925b5",
            "max": 8,
            "min": 0,
            "orientation": "horizontal",
            "style": "IPY_MODEL_95384d9033324990aa5dffc30ad4ee76",
            "value": 8
          }
        },
        "c594e56390ec4843a879d0b01d23163c": {
          "model_module": "@jupyter-widgets/base",
          "model_module_version": "1.2.0",
          "model_name": "LayoutModel",
          "state": {
            "_model_module": "@jupyter-widgets/base",
            "_model_module_version": "1.2.0",
            "_model_name": "LayoutModel",
            "_view_count": null,
            "_view_module": "@jupyter-widgets/base",
            "_view_module_version": "1.2.0",
            "_view_name": "LayoutView",
            "align_content": null,
            "align_items": null,
            "align_self": null,
            "border": null,
            "bottom": null,
            "display": null,
            "flex": null,
            "flex_flow": null,
            "grid_area": null,
            "grid_auto_columns": null,
            "grid_auto_flow": null,
            "grid_auto_rows": null,
            "grid_column": null,
            "grid_gap": null,
            "grid_row": null,
            "grid_template_areas": null,
            "grid_template_columns": null,
            "grid_template_rows": null,
            "height": null,
            "justify_content": null,
            "justify_items": null,
            "left": null,
            "margin": null,
            "max_height": null,
            "max_width": null,
            "min_height": null,
            "min_width": null,
            "object_fit": null,
            "object_position": null,
            "order": null,
            "overflow": null,
            "overflow_x": null,
            "overflow_y": null,
            "padding": null,
            "right": null,
            "top": null,
            "visibility": null,
            "width": null
          }
        },
        "c839652dda244969bbd80d16a4b93bb1": {
          "model_module": "@jupyter-widgets/controls",
          "model_module_version": "1.5.0",
          "model_name": "FloatProgressModel",
          "state": {
            "_dom_classes": [],
            "_model_module": "@jupyter-widgets/controls",
            "_model_module_version": "1.5.0",
            "_model_name": "FloatProgressModel",
            "_view_count": null,
            "_view_module": "@jupyter-widgets/controls",
            "_view_module_version": "1.5.0",
            "_view_name": "ProgressView",
            "bar_style": "success",
            "description": "",
            "description_tooltip": null,
            "layout": "IPY_MODEL_9f31f9e642344175a068ba7bac19ea31",
            "max": 23950,
            "min": 0,
            "orientation": "horizontal",
            "style": "IPY_MODEL_49b79967368e42089b4d886830c5361a",
            "value": 23950
          }
        },
        "ca6b2fb05b264fd1beb144062df75316": {
          "model_module": "@jupyter-widgets/base",
          "model_module_version": "1.2.0",
          "model_name": "LayoutModel",
          "state": {
            "_model_module": "@jupyter-widgets/base",
            "_model_module_version": "1.2.0",
            "_model_name": "LayoutModel",
            "_view_count": null,
            "_view_module": "@jupyter-widgets/base",
            "_view_module_version": "1.2.0",
            "_view_name": "LayoutView",
            "align_content": null,
            "align_items": null,
            "align_self": null,
            "border": null,
            "bottom": null,
            "display": null,
            "flex": null,
            "flex_flow": null,
            "grid_area": null,
            "grid_auto_columns": null,
            "grid_auto_flow": null,
            "grid_auto_rows": null,
            "grid_column": null,
            "grid_gap": null,
            "grid_row": null,
            "grid_template_areas": null,
            "grid_template_columns": null,
            "grid_template_rows": null,
            "height": null,
            "justify_content": null,
            "justify_items": null,
            "left": null,
            "margin": null,
            "max_height": null,
            "max_width": null,
            "min_height": null,
            "min_width": null,
            "object_fit": null,
            "object_position": null,
            "order": null,
            "overflow": null,
            "overflow_x": null,
            "overflow_y": null,
            "padding": null,
            "right": null,
            "top": null,
            "visibility": null,
            "width": null
          }
        },
        "cca25abedc5a4d4f8c91575d5a7e5fe6": {
          "model_module": "@jupyter-widgets/controls",
          "model_module_version": "1.5.0",
          "model_name": "HTMLModel",
          "state": {
            "_dom_classes": [],
            "_model_module": "@jupyter-widgets/controls",
            "_model_module_version": "1.5.0",
            "_model_name": "HTMLModel",
            "_view_count": null,
            "_view_module": "@jupyter-widgets/controls",
            "_view_module_version": "1.5.0",
            "_view_name": "HTMLView",
            "description": "",
            "description_tooltip": null,
            "layout": "IPY_MODEL_5bd67cc08a644e9583e0d393402a77c0",
            "placeholder": "​",
            "style": "IPY_MODEL_f3ebc59a102740d78b7f29de6cd32a2f",
            "value": " 1.98G/1.98G [12:51&lt;00:00, 7.03MB/s]"
          }
        },
        "cef7932d52624ae69ded4672856ff247": {
          "model_module": "@jupyter-widgets/base",
          "model_module_version": "1.2.0",
          "model_name": "LayoutModel",
          "state": {
            "_model_module": "@jupyter-widgets/base",
            "_model_module_version": "1.2.0",
            "_model_name": "LayoutModel",
            "_view_count": null,
            "_view_module": "@jupyter-widgets/base",
            "_view_module_version": "1.2.0",
            "_view_name": "LayoutView",
            "align_content": null,
            "align_items": null,
            "align_self": null,
            "border": null,
            "bottom": null,
            "display": null,
            "flex": null,
            "flex_flow": null,
            "grid_area": null,
            "grid_auto_columns": null,
            "grid_auto_flow": null,
            "grid_auto_rows": null,
            "grid_column": null,
            "grid_gap": null,
            "grid_row": null,
            "grid_template_areas": null,
            "grid_template_columns": null,
            "grid_template_rows": null,
            "height": null,
            "justify_content": null,
            "justify_items": null,
            "left": null,
            "margin": null,
            "max_height": null,
            "max_width": null,
            "min_height": null,
            "min_width": null,
            "object_fit": null,
            "object_position": null,
            "order": null,
            "overflow": null,
            "overflow_x": null,
            "overflow_y": null,
            "padding": null,
            "right": null,
            "top": null,
            "visibility": null,
            "width": null
          }
        },
        "d86cab0f70024bebaed5d5fba77809b9": {
          "model_module": "@jupyter-widgets/controls",
          "model_module_version": "1.5.0",
          "model_name": "HTMLModel",
          "state": {
            "_dom_classes": [],
            "_model_module": "@jupyter-widgets/controls",
            "_model_module_version": "1.5.0",
            "_model_name": "HTMLModel",
            "_view_count": null,
            "_view_module": "@jupyter-widgets/controls",
            "_view_module_version": "1.5.0",
            "_view_name": "HTMLView",
            "description": "",
            "description_tooltip": null,
            "layout": "IPY_MODEL_35323f1768f044be8e2168d1906840e3",
            "placeholder": "​",
            "style": "IPY_MODEL_2e3baafd68644a63b670aca185f8911b",
            "value": "model-00005-of-00008.safetensors: 100%"
          }
        },
        "dbba54b019f64405bbcf1ca193bcbad0": {
          "model_module": "@jupyter-widgets/controls",
          "model_module_version": "1.5.0",
          "model_name": "DescriptionStyleModel",
          "state": {
            "_model_module": "@jupyter-widgets/controls",
            "_model_module_version": "1.5.0",
            "_model_name": "DescriptionStyleModel",
            "_view_count": null,
            "_view_module": "@jupyter-widgets/base",
            "_view_module_version": "1.2.0",
            "_view_name": "StyleView",
            "description_width": ""
          }
        },
        "ddd40dd2269045a489c441f4abaf3f2e": {
          "model_module": "@jupyter-widgets/controls",
          "model_module_version": "1.5.0",
          "model_name": "HTMLModel",
          "state": {
            "_dom_classes": [],
            "_model_module": "@jupyter-widgets/controls",
            "_model_module_version": "1.5.0",
            "_model_name": "HTMLModel",
            "_view_count": null,
            "_view_module": "@jupyter-widgets/controls",
            "_view_module_version": "1.5.0",
            "_view_name": "HTMLView",
            "description": "",
            "description_tooltip": null,
            "layout": "IPY_MODEL_0671544e32a943328a872a17ca12c39a",
            "placeholder": "​",
            "style": "IPY_MODEL_0c0bebf12b3847d19ccb35cbed1af463",
            "value": "model-00001-of-00008.safetensors: 100%"
          }
        },
        "e115eb663ec841ca8ba0e8a99b90b183": {
          "model_module": "@jupyter-widgets/controls",
          "model_module_version": "1.5.0",
          "model_name": "HTMLModel",
          "state": {
            "_dom_classes": [],
            "_model_module": "@jupyter-widgets/controls",
            "_model_module_version": "1.5.0",
            "_model_name": "HTMLModel",
            "_view_count": null,
            "_view_module": "@jupyter-widgets/controls",
            "_view_module_version": "1.5.0",
            "_view_name": "HTMLView",
            "description": "",
            "description_tooltip": null,
            "layout": "IPY_MODEL_cef7932d52624ae69ded4672856ff247",
            "placeholder": "​",
            "style": "IPY_MODEL_284aebffd7e946df9184d6f8baebf856",
            "value": "model-00003-of-00008.safetensors: 100%"
          }
        },
        "e6da94c304774d9d94f972653b839b64": {
          "model_module": "@jupyter-widgets/controls",
          "model_module_version": "1.5.0",
          "model_name": "HTMLModel",
          "state": {
            "_dom_classes": [],
            "_model_module": "@jupyter-widgets/controls",
            "_model_module_version": "1.5.0",
            "_model_name": "HTMLModel",
            "_view_count": null,
            "_view_module": "@jupyter-widgets/controls",
            "_view_module_version": "1.5.0",
            "_view_name": "HTMLView",
            "description": "",
            "description_tooltip": null,
            "layout": "IPY_MODEL_308ca71ee8dc4536913b1da63e5665a7",
            "placeholder": "​",
            "style": "IPY_MODEL_a79c2d9397b344bba48aab2f73ce491c",
            "value": " 8/8 [01:20&lt;00:00,  8.93s/it]"
          }
        },
        "ebf2b58e80554251b961caee8d78d764": {
          "model_module": "@jupyter-widgets/controls",
          "model_module_version": "1.5.0",
          "model_name": "DescriptionStyleModel",
          "state": {
            "_model_module": "@jupyter-widgets/controls",
            "_model_module_version": "1.5.0",
            "_model_name": "DescriptionStyleModel",
            "_view_count": null,
            "_view_module": "@jupyter-widgets/base",
            "_view_module_version": "1.2.0",
            "_view_name": "StyleView",
            "description_width": ""
          }
        },
        "ec13b8a2041c4bee90ffbabe859af3d9": {
          "model_module": "@jupyter-widgets/base",
          "model_module_version": "1.2.0",
          "model_name": "LayoutModel",
          "state": {
            "_model_module": "@jupyter-widgets/base",
            "_model_module_version": "1.2.0",
            "_model_name": "LayoutModel",
            "_view_count": null,
            "_view_module": "@jupyter-widgets/base",
            "_view_module_version": "1.2.0",
            "_view_name": "LayoutView",
            "align_content": null,
            "align_items": null,
            "align_self": null,
            "border": null,
            "bottom": null,
            "display": null,
            "flex": null,
            "flex_flow": null,
            "grid_area": null,
            "grid_auto_columns": null,
            "grid_auto_flow": null,
            "grid_auto_rows": null,
            "grid_column": null,
            "grid_gap": null,
            "grid_row": null,
            "grid_template_areas": null,
            "grid_template_columns": null,
            "grid_template_rows": null,
            "height": null,
            "justify_content": null,
            "justify_items": null,
            "left": null,
            "margin": null,
            "max_height": null,
            "max_width": null,
            "min_height": null,
            "min_width": null,
            "object_fit": null,
            "object_position": null,
            "order": null,
            "overflow": null,
            "overflow_x": null,
            "overflow_y": null,
            "padding": null,
            "right": null,
            "top": null,
            "visibility": null,
            "width": null
          }
        },
        "ee6e58ac603c4dcbbe2bc0df52ab493e": {
          "model_module": "@jupyter-widgets/base",
          "model_module_version": "1.2.0",
          "model_name": "LayoutModel",
          "state": {
            "_model_module": "@jupyter-widgets/base",
            "_model_module_version": "1.2.0",
            "_model_name": "LayoutModel",
            "_view_count": null,
            "_view_module": "@jupyter-widgets/base",
            "_view_module_version": "1.2.0",
            "_view_name": "LayoutView",
            "align_content": null,
            "align_items": null,
            "align_self": null,
            "border": null,
            "bottom": null,
            "display": null,
            "flex": null,
            "flex_flow": null,
            "grid_area": null,
            "grid_auto_columns": null,
            "grid_auto_flow": null,
            "grid_auto_rows": null,
            "grid_column": null,
            "grid_gap": null,
            "grid_row": null,
            "grid_template_areas": null,
            "grid_template_columns": null,
            "grid_template_rows": null,
            "height": null,
            "justify_content": null,
            "justify_items": null,
            "left": null,
            "margin": null,
            "max_height": null,
            "max_width": null,
            "min_height": null,
            "min_width": null,
            "object_fit": null,
            "object_position": null,
            "order": null,
            "overflow": null,
            "overflow_x": null,
            "overflow_y": null,
            "padding": null,
            "right": null,
            "top": null,
            "visibility": null,
            "width": null
          }
        },
        "f00372721bf948bf8d37bca31a84168e": {
          "model_module": "@jupyter-widgets/controls",
          "model_module_version": "1.5.0",
          "model_name": "HTMLModel",
          "state": {
            "_dom_classes": [],
            "_model_module": "@jupyter-widgets/controls",
            "_model_module_version": "1.5.0",
            "_model_name": "HTMLModel",
            "_view_count": null,
            "_view_module": "@jupyter-widgets/controls",
            "_view_module_version": "1.5.0",
            "_view_name": "HTMLView",
            "description": "",
            "description_tooltip": null,
            "layout": "IPY_MODEL_0b1ef4f59b1c47e9938969413a9c5094",
            "placeholder": "​",
            "style": "IPY_MODEL_fe7693ff29c042f0a4c0811c20f7300c",
            "value": "model-00002-of-00008.safetensors: 100%"
          }
        },
        "f2ae13bc79914e939ec4c2cc3f5065dc": {
          "model_module": "@jupyter-widgets/controls",
          "model_module_version": "1.5.0",
          "model_name": "ProgressStyleModel",
          "state": {
            "_model_module": "@jupyter-widgets/controls",
            "_model_module_version": "1.5.0",
            "_model_name": "ProgressStyleModel",
            "_view_count": null,
            "_view_module": "@jupyter-widgets/base",
            "_view_module_version": "1.2.0",
            "_view_name": "StyleView",
            "bar_color": null,
            "description_width": ""
          }
        },
        "f3ebc59a102740d78b7f29de6cd32a2f": {
          "model_module": "@jupyter-widgets/controls",
          "model_module_version": "1.5.0",
          "model_name": "DescriptionStyleModel",
          "state": {
            "_model_module": "@jupyter-widgets/controls",
            "_model_module_version": "1.5.0",
            "_model_name": "DescriptionStyleModel",
            "_view_count": null,
            "_view_module": "@jupyter-widgets/base",
            "_view_module_version": "1.2.0",
            "_view_name": "StyleView",
            "description_width": ""
          }
        },
        "fa9a4d84462c4ff89da29b4f454552b2": {
          "model_module": "@jupyter-widgets/controls",
          "model_module_version": "1.5.0",
          "model_name": "DescriptionStyleModel",
          "state": {
            "_model_module": "@jupyter-widgets/controls",
            "_model_module_version": "1.5.0",
            "_model_name": "DescriptionStyleModel",
            "_view_count": null,
            "_view_module": "@jupyter-widgets/base",
            "_view_module_version": "1.2.0",
            "_view_name": "StyleView",
            "description_width": ""
          }
        },
        "fb8c82e655df49e28d9f39c4c0d77983": {
          "model_module": "@jupyter-widgets/base",
          "model_module_version": "1.2.0",
          "model_name": "LayoutModel",
          "state": {
            "_model_module": "@jupyter-widgets/base",
            "_model_module_version": "1.2.0",
            "_model_name": "LayoutModel",
            "_view_count": null,
            "_view_module": "@jupyter-widgets/base",
            "_view_module_version": "1.2.0",
            "_view_name": "LayoutView",
            "align_content": null,
            "align_items": null,
            "align_self": null,
            "border": null,
            "bottom": null,
            "display": null,
            "flex": null,
            "flex_flow": null,
            "grid_area": null,
            "grid_auto_columns": null,
            "grid_auto_flow": null,
            "grid_auto_rows": null,
            "grid_column": null,
            "grid_gap": null,
            "grid_row": null,
            "grid_template_areas": null,
            "grid_template_columns": null,
            "grid_template_rows": null,
            "height": null,
            "justify_content": null,
            "justify_items": null,
            "left": null,
            "margin": null,
            "max_height": null,
            "max_width": null,
            "min_height": null,
            "min_width": null,
            "object_fit": null,
            "object_position": null,
            "order": null,
            "overflow": null,
            "overflow_x": null,
            "overflow_y": null,
            "padding": null,
            "right": null,
            "top": null,
            "visibility": null,
            "width": null
          }
        },
        "fe7693ff29c042f0a4c0811c20f7300c": {
          "model_module": "@jupyter-widgets/controls",
          "model_module_version": "1.5.0",
          "model_name": "DescriptionStyleModel",
          "state": {
            "_model_module": "@jupyter-widgets/controls",
            "_model_module_version": "1.5.0",
            "_model_name": "DescriptionStyleModel",
            "_view_count": null,
            "_view_module": "@jupyter-widgets/base",
            "_view_module_version": "1.2.0",
            "_view_name": "StyleView",
            "description_width": ""
          }
        },
        "ffdaa483e37a4014934dab8c0f49606b": {
          "model_module": "@jupyter-widgets/controls",
          "model_module_version": "1.5.0",
          "model_name": "DescriptionStyleModel",
          "state": {
            "_model_module": "@jupyter-widgets/controls",
            "_model_module_version": "1.5.0",
            "_model_name": "DescriptionStyleModel",
            "_view_count": null,
            "_view_module": "@jupyter-widgets/base",
            "_view_module_version": "1.2.0",
            "_view_name": "StyleView",
            "description_width": ""
          }
        }
      }
    }
  },
  "nbformat": 4,
  "nbformat_minor": 0
}
