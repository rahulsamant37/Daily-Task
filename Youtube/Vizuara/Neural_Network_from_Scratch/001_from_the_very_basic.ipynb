{
 "cells": [
  {
   "cell_type": "markdown",
   "id": "9604ab42",
   "metadata": {},
   "source": [
    "## Single Output Neural Network"
   ]
  },
  {
   "cell_type": "code",
   "execution_count": null,
   "id": "20b9fb2e",
   "metadata": {},
   "outputs": [
    {
     "name": "stdout",
     "output_type": "stream",
     "text": [
      "0.4\n"
     ]
    }
   ],
   "source": [
    "inputs = [1, 2, 3]\n",
    "weights = [0.2, 0.8, -0.5]\n",
    "bais = 0.1  # keeping your spelling\n",
    "\n",
    "basicNeuralNetwork = round(sum(i * w for i, w in zip(inputs, weights)) + bais, 1)\n",
    "\n",
    "print(basicNeuralNetwork)"
   ]
  },
  {
   "cell_type": "code",
   "execution_count": null,
   "id": "dfa6cd58",
   "metadata": {},
   "outputs": [],
   "source": []
  },
  {
   "cell_type": "code",
   "execution_count": null,
   "id": "662d882d",
   "metadata": {},
   "outputs": [],
   "source": []
  }
 ],
 "metadata": {
  "kernelspec": {
   "display_name": "daily-task",
   "language": "python",
   "name": "python3"
  },
  "language_info": {
   "codemirror_mode": {
    "name": "ipython",
    "version": 3
   },
   "file_extension": ".py",
   "mimetype": "text/x-python",
   "name": "python",
   "nbconvert_exporter": "python",
   "pygments_lexer": "ipython3",
   "version": "3.12.0"
  }
 },
 "nbformat": 4,
 "nbformat_minor": 5
}
