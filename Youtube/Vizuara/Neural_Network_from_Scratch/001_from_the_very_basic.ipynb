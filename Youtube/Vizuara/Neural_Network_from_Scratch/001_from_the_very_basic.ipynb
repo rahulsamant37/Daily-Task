{
 "cells": [
  {
   "cell_type": "markdown",
   "id": "9604ab42",
   "metadata": {},
   "source": [
    "## Single Output Neural Network"
   ]
  },
  {
   "cell_type": "code",
   "execution_count": null,
   "id": "20b9fb2e",
   "metadata": {},
   "outputs": [
    {
     "name": "stdout",
     "output_type": "stream",
     "text": [
      "0.4\n"
     ]
    }
   ],
   "source": [
    "inputs = [1, 2, 3]\n",
    "weights = [0.2, 0.8, -0.5]\n",
    "bais = 0.1  # keeping your spelling\n",
    "\n",
    "basicNeuralNetwork = round(sum(i * w for i, w in zip(inputs, weights)) + bais, 1)\n",
    "\n",
    "print(basicNeuralNetwork)"
   ]
  },
  {
   "cell_type": "markdown",
   "id": "88841ecd",
   "metadata": {},
   "source": [
    "## Mutli Output Neural Network"
   ]
  },
  {
   "cell_type": "code",
   "execution_count": 1,
   "id": "b249cbc8",
   "metadata": {},
   "outputs": [
    {
     "name": "stdout",
     "output_type": "stream",
     "text": [
      "[0.7, 3.5, 6.8]\n"
     ]
    }
   ],
   "source": [
    "input_vector = [1.2, -0.7, 3.0, 0.5]\n",
    "weights = [\n",
    "    [0.2, 0.8, -0.5, 1.0],   # Weights for neuron 1\n",
    "    [-0.3, 0.5, 2.0, -1.5],  # Weights for neuron 2\n",
    "    [0.7, -1.2, 1.5, 0.3]    # Weights for neuron 3\n",
    "]\n",
    "biases = [2.0, -1.0, 0.5]\n",
    "output = []\n",
    "for weight, bias in zip(weights, biases):\n",
    "    neuron_output = round(sum(i * w for i, w in zip(input_vector, weight)) + bias, 1)\n",
    "    output.append(neuron_output)\n",
    "\n",
    "print(output)"
   ]
  },
  {
   "cell_type": "code",
   "execution_count": null,
   "id": "dfa6cd58",
   "metadata": {},
   "outputs": [],
   "source": []
  },
  {
   "cell_type": "code",
   "execution_count": null,
   "id": "662d882d",
   "metadata": {},
   "outputs": [],
   "source": []
  }
 ],
 "metadata": {
  "kernelspec": {
   "display_name": "daily-task",
   "language": "python",
   "name": "python3"
  },
  "language_info": {
   "codemirror_mode": {
    "name": "ipython",
    "version": 3
   },
   "file_extension": ".py",
   "mimetype": "text/x-python",
   "name": "python",
   "nbconvert_exporter": "python",
   "pygments_lexer": "ipython3",
   "version": "3.12.0"
  }
 },
 "nbformat": 4,
 "nbformat_minor": 5
}
