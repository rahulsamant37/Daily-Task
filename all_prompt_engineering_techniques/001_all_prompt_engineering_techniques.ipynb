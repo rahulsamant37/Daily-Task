{
 "cells": [
  {
   "cell_type": "markdown",
   "id": "ee4c5701",
   "metadata": {},
   "source": [
    "# Introduction to Prompt Engineering Tutorial\n",
    "### Overview\n",
    "This tutorial provides a comprehensive introduction to the fundamental concepts of prompt engineering in the context of AI and language models. It is designed to give learners a solid foundation in understanding how to effectively communicate with and leverage large language models through carefully crafted prompts.\n",
    "\n",
    "### Motivation\n",
    "As AI language models become increasingly sophisticated and widely used, the ability to interact with them effectively becomes a crucial skill. Prompt engineering is the key to unlocking the full potential of these models, allowing users to guide AI outputs, improve response quality, and tackle complex tasks. This tutorial aims to equip learners with the essential knowledge and skills to begin their journey in prompt engineering.\n",
    "\n",
    "### Key Components\n",
    "The tutorial covers several key components of prompt engineering:\n",
    "\n",
    "1. Basic Concepts: An introduction to what prompt engineering is and why it's important.\n",
    "2. Prompt Structures: Exploration of different ways to structure prompts for various outcomes.\n",
    "3. Importance of Prompt Engineering: Discussion on how prompt engineering impacts AI model performance.\n",
    "4. Role in AI and Language Models: Examination of how prompt engineering fits into the broader context of AI applications.\n",
    "5. Practical Examples: Hands-on demonstrations of prompt engineering techniques.\n",
    "### Method Details\n",
    "The tutorial employs a mix of theoretical explanations and practical demonstrations to convey the concepts of prompt engineering:\n",
    "\n",
    "1. Setup and Environment: The lesson begins by setting up the necessary tools, including the OpenAI API and LangChain library. This provides a practical environment for experimenting with prompts.\n",
    "\n",
    "2. Basic Concept Exploration: Through simple examples, learners are introduced to how different prompts can yield varying responses from the AI model. This illustrates the fundamental principle of prompt engineering.\n",
    "\n",
    "3. Structured Prompts: The tutorial demonstrates how to create more complex, structured prompts using LangChain's PromptTemplate. This shows how to create reusable prompt structures with variable inputs.\n",
    "\n",
    "4. Comparative Analysis: By presenting multiple prompts on the same topic, the lesson highlights how subtle changes in prompt structure and wording can significantly affect the AI's output.\n",
    "\n",
    "5. Problem-Solving Application: The tutorial explores how prompt engineering can be applied to break down complex problems, guiding the AI through a step-by-step reasoning process.\n",
    "\n",
    "6. Limitation Mitigation: Examples are provided to show how careful prompt design can help overcome some limitations of AI models, such as improving factual accuracy.\n",
    "\n",
    "Throughout these methods, the tutorial emphasizes the importance of clarity, specificity, and thoughtful design in creating effective prompts.\n",
    "\n",
    "### Conclusion\n",
    "This introductory tutorial on prompt engineering lays the groundwork for understanding and applying this crucial skill in AI interactions. By the end of the lesson, learners will have gained:\n",
    "\n",
    "1. A clear understanding of what prompt engineering is and why it's important.\n",
    "2. Insight into how different prompt structures can influence AI outputs.\n",
    "3. Practical experience in crafting prompts for various purposes.\n",
    "4. Awareness of the role prompt engineering plays in enhancing AI model performance.\n",
    "5. A foundation for exploring more advanced prompt engineering techniques.\n",
    "The skills and knowledge gained from this tutorial will enable learners to more effectively harness the power of AI language models, setting the stage for more advanced applications and explorations in the field of artificial intelligence.\n",
    "\n",
    "### Setup\n",
    "First, let's import the necessary libraries"
   ]
  },
  {
   "cell_type": "code",
   "execution_count": 1,
   "id": "a1f0e801",
   "metadata": {},
   "outputs": [],
   "source": [
    "import os\n",
    "from langchain_core.prompts import PromptTemplate\n",
    "from langchain_google_genai import ChatGoogleGenerativeAI\n",
    "\n",
    "# Load enviroment variables\n",
    "from dotenv import load_dotenv\n",
    "load_dotenv()\n",
    "\n",
    "# Set up Google API key\n",
    "os.environ[\"GOOGLE_API_KEY\"] = os.getenv(\"GOOGLE_API_KEY\")\n",
    "\n",
    "# Initialize the language model\n",
    "llm = ChatGoogleGenerativeAI(model=\"gemini-2.0-flash\")"
   ]
  },
  {
   "cell_type": "markdown",
   "id": "6de00828",
   "metadata": {},
   "source": [
    "### Basic Concepts and Importance\n",
    "Prompt engineering is the practice of designing and optimizing input prompts for language models to generate desired outputs. It's a crucial skill for effectively leveraging AI models in various applications.\n",
    "\n",
    "Let's explore the concept with a simple example:"
   ]
  },
  {
   "cell_type": "code",
   "execution_count": 3,
   "id": "fec89357",
   "metadata": {},
   "outputs": [
    {
     "name": "stdout",
     "output_type": "stream",
     "text": [
      "Prompt engineering is the art and science of crafting effective instructions for large language models to elicit desired and high-quality outputs.\n"
     ]
    }
   ],
   "source": [
    "basic_prompt = \"Explain the concept of prompt engineering in one sentence.\"\n",
    "print(llm.invoke(basic_prompt).content)"
   ]
  },
  {
   "cell_type": "markdown",
   "id": "2a1f4244",
   "metadata": {},
   "source": [
    "Now, let's see how a more structured prompt can yield a more detailed response:"
   ]
  },
  {
   "cell_type": "code",
   "execution_count": 5,
   "id": "85fd4886",
   "metadata": {},
   "outputs": [
    {
     "name": "stdout",
     "output_type": "stream",
     "text": [
      "## Prompt Engineering: Definition, Importance, and Benefits\n",
      "\n",
      "**Definition:**\n",
      "\n",
      "Prompt engineering is the art and science of crafting effective and specific prompts to elicit desired responses from large language models (LLMs) like GPT-3, LaMDA, and others. It involves carefully designing the input text (the \"prompt\") to guide the LLM towards generating accurate, relevant, and coherent outputs that meet specific requirements.  Essentially, it's learning how to \"talk\" to AI models in a way they understand and can best utilize their knowledge and capabilities.\n",
      "\n",
      "**Importance:**\n",
      "\n",
      "Prompt engineering is crucial because the quality of the output from an LLM is heavily dependent on the quality of the input prompt.  Without well-crafted prompts, even the most powerful LLMs can produce irrelevant, nonsensical, or inaccurate results.  Prompt engineering bridges the gap between human intention and AI understanding, allowing users to leverage the full potential of these models for a wide range of applications.  It's not just about asking a question; it's about structuring the question in a way that unlocks the model's knowledge and capabilities.\n",
      "\n",
      "**Three Key Benefits:**\n",
      "\n",
      "1.  **Improved Accuracy and Relevance:**  By crafting prompts that provide clear context, constraints, and examples, prompt engineering significantly increases the accuracy and relevance of the generated outputs. This reduces the need for extensive post-processing and manual correction, saving time and resources.  Instead of vague or ambiguous requests, specific prompts can guide the model towards providing the exact information or creative content desired.\n",
      "\n",
      "2.  **Enhanced Control and Customization:** Prompt engineering provides greater control over the style, tone, and format of the generated output.  Users can specify desired characteristics, such as \"write a poem in the style of Shakespeare\" or \"summarize this article in three bullet points.\" This level of customization allows LLMs to be tailored to specific needs and applications, making them more versatile and adaptable.\n",
      "\n",
      "3.  **Unlock Previously Untapped Capabilities:**  Many LLMs possess hidden capabilities that are not readily apparent through simple questioning. Prompt engineering can unlock these latent potentials by guiding the model to perform tasks like code generation, complex reasoning, creative writing, and even translation with greater accuracy and nuance. It allows users to push the boundaries of what's possible with LLMs and discover new applications for these powerful tools.\n"
     ]
    }
   ],
   "source": [
    "structured_prompt = PromptTemplate(\n",
    "    input_variables=[\"topic\"],\n",
    "    template=\"Provide a definition of {topic}, explain its importance, and list three key benefits.\"\n",
    ")\n",
    "\n",
    "chain = structured_prompt | llm # Combine the prompt temaplate with the language model\n",
    "input_variables = {\"topic\": \"prompt engineering\"} # Define the input variables\n",
    "output = chain.invoke(input_variables).content # Invoke the chain with the input variables\n",
    "print(output)"
   ]
  },
  {
   "cell_type": "markdown",
   "id": "7e8d15a8",
   "metadata": {},
   "source": [
    "### Importance of Prompt Engineering\n",
    "Prompt engineering is important because it allows us to:\n",
    "\n",
    "1. Improve the quality and relevance of AI-generated outputs\n",
    "2. Guide language models to perform specific tasks more effectively\n",
    "3. Overcome limitations and biases in AI models\n",
    "4. Customize AI responses for different use cases and audiences\n",
    "\n",
    "Let's demonstrate how different prompts can lead to different outputs on the same topic:"
   ]
  },
  {
   "cell_type": "code",
   "execution_count": 7,
   "id": "7617e849",
   "metadata": {},
   "outputs": [
    {
     "name": "stdout",
     "output_type": "stream",
     "text": [
      "\n",
      "Prompt 1:\n",
      "List 3 applications of AI in healthcare\n",
      "\n",
      "Response:\n",
      "Here are 3 applications of AI in healthcare:\n",
      "\n",
      "1.  **Diagnosis and Treatment Planning:** AI algorithms can analyze medical images (like X-rays, CT scans, and MRIs) to detect diseases such as cancer, Alzheimer's, and heart conditions, often with greater speed and accuracy than human radiologists. They can also analyze patient data (medical history, symptoms, lab results) to suggest personalized treatment plans, predict treatment outcomes, and identify potential drug interactions.\n",
      "\n",
      "2.  **Drug Discovery and Development:** AI accelerates the drug discovery process by analyzing vast datasets of biological and chemical information to identify potential drug candidates, predict their effectiveness, and optimize their molecular structure. This reduces the time and cost associated with traditional drug development, which can take many years and billions of dollars. AI can also help repurpose existing drugs for new uses.\n",
      "\n",
      "3.  **Personalized Medicine and Patient Monitoring:** AI can analyze individual patient data to predict their risk of developing certain diseases, tailor treatment plans to their specific needs, and provide personalized health recommendations. AI-powered wearable devices and remote monitoring systems can track vital signs, activity levels, and other health metrics, allowing healthcare providers to remotely monitor patients, detect early warning signs of deterioration, and intervene proactively.\n",
      "--------------------------------------------------\n",
      "\n",
      "Prompt 2:\n",
      "Explain how AI is revolutionizing healthcare, with 3 specific examples.\n",
      "\n",
      "Response:\n",
      "## AI's Revolution in Healthcare: A Game Changer\n",
      "\n",
      "Artificial intelligence (AI) is rapidly transforming healthcare, promising to improve patient outcomes, streamline processes, and reduce costs.  Its ability to analyze vast datasets, identify patterns, and automate tasks far surpasses human capabilities, making it a powerful tool for tackling complex challenges in the medical field.  Essentially, AI is helping healthcare professionals make more informed decisions, personalize treatments, and ultimately provide better care.\n",
      "\n",
      "Here are three specific examples of how AI is revolutionizing healthcare:\n",
      "\n",
      "**1.  Enhanced Diagnosis and Disease Prediction:**\n",
      "\n",
      "*   **How it works:** AI algorithms, particularly those based on deep learning, are trained on massive datasets of medical images (X-rays, CT scans, MRIs), patient records, and genetic information. They learn to identify subtle patterns and anomalies that might be missed by the human eye, leading to earlier and more accurate diagnoses.\n",
      "*   **Impact:** AI can assist radiologists in detecting cancerous tumors in medical images, potentially catching them at earlier stages when treatment is more effective.  It can also analyze patient data to predict the likelihood of developing certain diseases, such as heart disease or Alzheimer's, allowing for proactive interventions and lifestyle changes.\n",
      "*   **Example:** **Google's DeepMind Health's Lymph Node Assistant (LYNA) is an AI system trained to detect breast cancer metastasis in lymph node biopsies.**  Studies have shown that LYNA can significantly reduce the number of false negatives in diagnoses, meaning fewer cases of cancer are missed. This leads to quicker treatment and improved survival rates for patients.\n",
      "\n",
      "**2.  Personalized Medicine and Treatment Plans:**\n",
      "\n",
      "*   **How it works:** AI algorithms analyze individual patient data, including their genetic makeup, medical history, lifestyle factors, and response to previous treatments. This information is used to create personalized treatment plans tailored to the specific needs of each patient.\n",
      "*   **Impact:** AI can help doctors identify the most effective medications and dosages for individual patients, minimizing side effects and maximizing treatment success. It can also predict how a patient will respond to different therapies, allowing for more informed decision-making.\n",
      "*   **Example:** **IBM Watson Oncology is an AI platform that provides oncologists with evidence-based treatment recommendations based on a patient's unique cancer profile.** It analyzes vast amounts of medical literature, clinical trial data, and expert opinions to suggest the most appropriate treatment options, helping doctors stay up-to-date on the latest advancements and personalize care for their patients. This is especially useful for rare or complex cancers where standard treatment protocols may not be readily available.\n",
      "\n",
      "**3.  Drug Discovery and Development:**\n",
      "\n",
      "*   **How it works:** AI algorithms can analyze vast datasets of chemical compounds, biological pathways, and clinical trial data to identify potential drug candidates and predict their efficacy and safety.  They can also simulate the effects of drugs on the human body, reducing the need for expensive and time-consuming laboratory experiments.\n",
      "*   **Impact:** AI can significantly accelerate the drug discovery process, reducing the time and cost required to bring new medications to market. It can also help identify new targets for drug development and optimize existing drugs for improved efficacy.\n",
      "*   **Example:** **Atomwise uses AI to screen millions of molecules for potential drugs to treat diseases like Ebola and multiple sclerosis.** They have developed algorithms that can predict the binding affinity of molecules to target proteins, allowing them to identify promising drug candidates with a high degree of accuracy.  This dramatically speeds up the initial stages of drug discovery, allowing researchers to focus their efforts on the most promising leads.\n",
      "\n",
      "In conclusion, AI is revolutionizing healthcare by providing powerful tools for diagnosis, treatment, and drug development. While still in its early stages, AI's potential to improve patient outcomes and transform the medical field is undeniable. As AI technology continues to advance, we can expect to see even more innovative applications emerge, further shaping the future of healthcare.\n",
      "--------------------------------------------------\n",
      "\n",
      "Prompt 3:\n",
      "You are a doctor. Describe 3 ways AI has improved your daily work in the hospital.\n",
      "\n",
      "Response:\n",
      "Okay, here are three ways AI has demonstrably improved my daily work as a physician in the hospital:\n",
      "\n",
      "1.  **Enhanced Diagnostic Accuracy and Speed:** AI-powered diagnostic tools are becoming increasingly invaluable.  For example, I routinely use AI algorithms to analyze medical imaging like X-rays and CT scans. These algorithms are trained on massive datasets and can often detect subtle anomalies that might be missed by the human eye, especially in the early stages of a disease.  This allows for faster and more accurate diagnoses, leading to quicker treatment initiation and improved patient outcomes.  Instead of spending hours poring over a stack of images, the AI can highlight areas of concern in minutes, allowing me to focus my attention on those specific regions and integrate that information with the patient's clinical presentation and lab results. This is particularly helpful in time-sensitive situations like stroke or pulmonary embolism, where rapid diagnosis is crucial. It's not replacing my judgment, but it's providing me with a crucial \"second opinion\" that significantly reduces the chances of error.\n",
      "\n",
      "2.  **Streamlined Administrative Tasks and Improved Efficiency:**  The sheer volume of administrative work in a hospital can be overwhelming and take away from valuable patient care time. AI is helping to alleviate this burden. For example, I use AI-powered voice-to-text transcription services for documenting patient encounters. This allows me to dictate my notes quickly and efficiently, freeing up time to focus on the patient in front of me.  Furthermore, AI algorithms are being used to automate tasks like scheduling appointments, managing medication refills, and even generating preliminary discharge summaries. This reduces the administrative workload for both myself and my nursing staff, allowing us to allocate more time and resources to direct patient care. The reduction in paperwork allows me to be more present and focused during patient interactions.\n",
      "\n",
      "3.  **Personalized Treatment Plans and Predictive Analytics:** AI can analyze vast amounts of patient data, including medical history, genetics, lifestyle factors, and lab results, to identify patterns and predict individual patient responses to different treatments. This allows me to develop more personalized treatment plans that are tailored to the specific needs of each patient.  For instance, AI algorithms can predict a patient's risk of developing certain complications, such as sepsis or hospital-acquired infections, allowing me to implement preventative measures proactively.  Similarly, AI can help me identify patients who are likely to benefit most from specific therapies, optimizing treatment outcomes and minimizing unnecessary interventions. This moves us towards a more precision-based approach to medicine, where treatment decisions are guided by data and individualized to the patient.\n",
      "\n",
      "It's important to remember that AI is a tool, and I, as a physician, am still responsible for making the final decisions regarding patient care. However, these AI-powered tools are significantly enhancing my ability to provide high-quality, efficient, and personalized care to my patients. They are not replacing doctors, but rather empowering us to be better doctors.\n",
      "--------------------------------------------------\n"
     ]
    }
   ],
   "source": [
    "prompts = [\n",
    "    \"List 3 applications of AI in healthcare\",\n",
    "    \"Explain how AI is revolutionizing healthcare, with 3 specific examples.\",\n",
    "    \"You are a doctor. Describe 3 ways AI has improved your daily work in the hospital.\"\n",
    "]\n",
    "\n",
    "for i, prompt in enumerate(prompts, 1):\n",
    "    print(f\"\\nPrompt {i}:\")\n",
    "    print(prompt)\n",
    "    print(\"\\nResponse:\")\n",
    "    print(llm.invoke(prompt).content)\n",
    "    print(\"-\"*50)"
   ]
  },
  {
   "cell_type": "markdown",
   "id": "66a5d00c",
   "metadata": {},
   "source": [
    "### Role in AI and Language Models\n",
    "Prompt engineering plays a crucial role in enhancing the performance and applicability of AI and language models. It helps in:\n",
    "\n",
    "1. Tailoring model outputs to specific needs\n",
    "2. Improving the accuracy and relevance of responses\n",
    "3. Enabling complex task completion\n",
    "4. Reducing biases and improving fairness in AI outputs\n",
    "\n",
    "Let's explore how prompt engineering can help in overcoming some limitations of language models:"
   ]
  },
  {
   "cell_type": "code",
   "execution_count": 8,
   "id": "b7b33fec",
   "metadata": {},
   "outputs": [
    {
     "name": "stdout",
     "output_type": "stream",
     "text": [
      "Evaluation: **Incorrect.**\n",
      "\n",
      "Correct Information: The capital of France is **Paris**.\n"
     ]
    }
   ],
   "source": [
    "fact_check_prompt = PromptTemplate(\n",
    "    input_variables=[\"statement\"],\n",
    "    template=\"\"\"Evaluate the following statement for factual accuracy. If it's incorrect, provide the correct information:\n",
    "    Statement: {statement}\n",
    "    Evaluation:\"\"\"\n",
    ")\n",
    "\n",
    "chain = fact_check_prompt | llm\n",
    "print(chain.invoke(\"The capital of France is London\").content)"
   ]
  },
  {
   "cell_type": "markdown",
   "id": "818e8106",
   "metadata": {},
   "source": [
    "### Improving Complex Problem-Solving\n",
    "Prompt engineering can also help in breaking down complex problems and guiding the model through a step-by-step reasoning process:"
   ]
  },
  {
   "cell_type": "code",
   "execution_count": 9,
   "id": "ca7c7d8e",
   "metadata": {},
   "outputs": [
    {
     "name": "stdout",
     "output_type": "stream",
     "text": [
      "**1) Identify the variables:**\n",
      "\n",
      "*   **Principal (P):** $1000 (the initial investment)\n",
      "*   **Annual interest rate (r):** 5% or 0.05 (expressed as a decimal)\n",
      "*   **Number of years (t):** 5\n",
      "\n",
      "**Formula for Compound Interest (compounded annually):**\n",
      "\n",
      "A = P (1 + r)^t\n",
      "\n",
      "Where:\n",
      "\n",
      "*   A = the future value of the investment/loan, including interest\n",
      "*   P = the principal investment amount (the initial deposit or loan amount)\n",
      "*   r = the annual interest rate (as a decimal)\n",
      "*   t = the number of years the money is invested or borrowed for\n",
      "\n",
      "We want to find the compound interest (CI), which is the difference between the final amount (A) and the principal (P).  So, CI = A - P.\n"
     ]
    }
   ],
   "source": [
    "problem_solving_prompt = PromptTemplate(\n",
    "    input_variables=[\"problem\"],\n",
    "    template=\"\"\"Solve the following problem step by step:\n",
    "    Problem: {problem}\n",
    "    Solution:\n",
    "    1)\"\"\"\n",
    ")\n",
    "\n",
    "chain = problem_solving_prompt | llm\n",
    "print(chain.invoke(\"Calculate the compound interest on $1000 invested for 5 years at an annual rate of 5%, compounded annually.\").content)"
   ]
  },
  {
   "cell_type": "code",
   "execution_count": null,
   "id": "3aa66b3b",
   "metadata": {},
   "outputs": [],
   "source": []
  }
 ],
 "metadata": {
  "kernelspec": {
   "display_name": "base",
   "language": "python",
   "name": "python3"
  },
  "language_info": {
   "codemirror_mode": {
    "name": "ipython",
    "version": 3
   },
   "file_extension": ".py",
   "mimetype": "text/x-python",
   "name": "python",
   "nbconvert_exporter": "python",
   "pygments_lexer": "ipython3",
   "version": "3.12.7"
  }
 },
 "nbformat": 4,
 "nbformat_minor": 5
}
