{
 "cells": [
  {
   "cell_type": "markdown",
   "id": "72393e31",
   "metadata": {},
   "source": [
    "# Handling Ambiguity and Improving Clarity in Prompt Engineering"
   ]
  },
  {
   "cell_type": "markdown",
   "id": "9985af5e",
   "metadata": {},
   "source": [
    "### Overview"
   ]
  },
  {
   "cell_type": "markdown",
   "id": "27f77fca",
   "metadata": {},
   "source": [
    "This tutorial focuses on two critical aspects of prompt engineering: identifying and resolving ambiguous prompts, and techniques for writing clearer prompts. These skills are essential for effective communication with AI models and obtaining more accurate and relevant responses."
   ]
  },
  {
   "cell_type": "markdown",
   "id": "d5de1644",
   "metadata": {},
   "source": [
    "### Motivation"
   ]
  },
  {
   "cell_type": "markdown",
   "id": "0376a4f6",
   "metadata": {},
   "source": [
    "Ambiguity in prompts can lead to inconsistent or irrelevant AI responses, while lack of clarity can result in misunderstandings and inaccurate outputs. By mastering these aspects of prompt engineering, you can significantly improve the quality and reliability of AI-generated content across various applications."
   ]
  },
  {
   "cell_type": "markdown",
   "id": "e87d302b",
   "metadata": {},
   "source": [
    "### Key Components"
   ]
  },
  {
   "cell_type": "markdown",
   "id": "b87bb1a7",
   "metadata": {},
   "source": [
    "1. Identifying ambiguous prompts\n",
    "2. Strategies for resolving ambiguity\n",
    "3. Techniques for writing clearer prompts\n",
    "4. Practical examples and exercises"
   ]
  },
  {
   "cell_type": "markdown",
   "id": "319d5f57",
   "metadata": {},
   "source": [
    "### Method Details"
   ]
  },
  {
   "cell_type": "markdown",
   "id": "8f68ab6e",
   "metadata": {},
   "source": [
    "We'll use Gemini model and the LangChain library to demonstrate various techniques for handling ambiguity and improving clarity in prompts. The tutorial will cover:\n",
    "\n",
    "1. Setting up the environment and necessary libraries\n",
    "2. Analyzing ambiguous prompts and their potential interpretations\n",
    "3. Implementing strategies to resolve ambiguity, such as providing context and specifying parameters\n",
    "4. Exploring techniques for writing clearer prompts, including using specific language and structured formats\n",
    "5. Practical exercises to apply these concepts in real-world scenarios"
   ]
  },
  {
   "cell_type": "markdown",
   "id": "53325ee9",
   "metadata": {},
   "source": [
    "### Conclusion"
   ]
  },
  {
   "cell_type": "markdown",
   "id": "c1f5e502",
   "metadata": {},
   "source": [
    "By the end of this tutorial, you'll have a solid understanding of how to identify and resolve ambiguity in prompts, as well as techniques for crafting clearer prompts. These skills will enable you to communicate more effectively with AI models, resulting in more accurate and relevant outputs across various applications."
   ]
  },
  {
   "cell_type": "markdown",
   "id": "2e3ceede",
   "metadata": {},
   "source": [
    "### Setup"
   ]
  },
  {
   "cell_type": "markdown",
   "id": "f3c39e05",
   "metadata": {},
   "source": [
    "First, let's import the necessary libraries and set up our environment."
   ]
  },
  {
   "cell_type": "code",
   "execution_count": 6,
   "id": "f34232a0",
   "metadata": {},
   "outputs": [],
   "source": [
    "import os\n",
    "from langchain_core.prompts import PromptTemplate\n",
    "from langchain_google_genai import ChatGoogleGenerativeAI\n",
    "\n",
    "# Load enviroment variables\n",
    "from dotenv import load_dotenv\n",
    "load_dotenv()\n",
    "\n",
    "# Set up Google API key\n",
    "os.environ[\"GOOGLE_API_KEY\"] = os.getenv(\"GOOGLE_API_KEY\")\n",
    "\n",
    "# Initialize the language model\n",
    "llm = ChatGoogleGenerativeAI(model=\"gemini-2.0-flash\")"
   ]
  },
  {
   "cell_type": "markdown",
   "id": "5b953216",
   "metadata": {},
   "source": [
    "### Identifying Ambiguous Prompts"
   ]
  },
  {
   "cell_type": "markdown",
   "id": "ac3fc7a0",
   "metadata": {},
   "source": [
    "Let's start by examining some ambiguous prompts and analyzing their potential interpretations."
   ]
  },
  {
   "cell_type": "code",
   "execution_count": 15,
   "id": "5ded2b30",
   "metadata": {},
   "outputs": [
    {
     "name": "stdout",
     "output_type": "stream",
     "text": [
      "Prompt: Tell me about the bank.\n",
      "The prompt \"Tell me about the bank\" is highly ambiguous because it lacks context and specificity. It could refer to various aspects of a bank or even different things entirely that share the name \"bank.\"\n",
      "\n",
      "**Why it's ambiguous:**\n",
      "\n",
      "The ambiguity stems from the word \"bank\" having multiple meanings and the lack of any qualifying information in the prompt. It's like asking \"Tell me about the park.\" Which park? What about it?\n",
      "\n",
      "**Possible Interpretations:**\n",
      "\n",
      "Here's a breakdown of potential interpretations:\n",
      "\n",
      "1.  **A Specific Financial Institution:** This is likely the most common interpretation, but still needs further clarification.\n",
      "    *   **The name of a specific bank:**  \"Tell me about Bank of America.\"  (This interpretation requires the listener to know which bank you're referring to.)\n",
      "    *   **A bank the speaker and listener both know:** \"Tell me about *the* bank (we both know).\" (Implies shared context, but still vague.)\n",
      "    *   **A type of bank:** \"Tell me about banks in general.\" (About the banking industry, its history, functions, etc.)\n",
      "\n",
      "2.  **Aspects of a Financial Institution:** Even if we assume the prompt refers to a financial institution, *what* about it is ambiguous:\n",
      "    *   **Its history:** \"Tell me about the bank's origins and development.\"\n",
      "    *   **Its services:** \"Tell me about the types of accounts and loans offered by the bank.\"\n",
      "    *   **Its financial performance:** \"Tell me about the bank's assets, liabilities, and profitability.\"\n",
      "    *   **Its employees:** \"Tell me about the people who work at the bank.\"\n",
      "    *   **Its location:** \"Tell me about the location of the bank's branches.\"\n",
      "    *   **Its current interest rates:** \"Tell me about the bank's interest rates on savings accounts and loans.\"\n",
      "    *   **Its reputation:** \"Tell me about the bank's reputation and customer service.\"\n",
      "    *   **Its security:** \"Tell me about the bank's security measures.\"\n",
      "    *   **Its social responsibility:** \"Tell me about the bank's community involvement.\"\n",
      "    *   **Its technology:** \"Tell me about the bank's online banking platform and mobile app.\"\n",
      "\n",
      "3.  **Geographical Feature:** The word \"bank\" can also refer to the edge of a river or lake.\n",
      "    *   **The bank of a river:** \"Tell me about the riverbank's erosion.\"\n",
      "    *   **The bank of a lake:** \"Tell me about the flora and fauna on the lake bank.\"\n",
      "\n",
      "4.  **A Sloping Landform:**\n",
      "    *   **A hillside or embankment:** \"Tell me about the bank's stability after the rain.\"\n",
      "\n",
      "5.  **A Collection or Pile:**\n",
      "    *   **A bank of clouds:** \"Tell me about the bank of clouds forming on the horizon.\"\n",
      "    *   **A bank of snow:** \"Tell me about the bank of snow piled up by the plow.\"\n",
      "\n",
      "**In conclusion:**\n",
      "\n",
      "The prompt \"Tell me about the bank\" is ambiguous due to the multiple meanings of \"bank\" and the lack of specific direction. To make the prompt clear, one needs to specify which meaning of \"bank\" is intended and what aspect of that \"bank\" is of interest. For example, \"Tell me about the history of Bank of America\" or \"Tell me about the erosion along the riverbank near my house.\"\n",
      "--------------------------------------------------\n",
      "Prompt: What's the best way to get to school?\n",
      "Okay, let's analyze the prompt \"What's the best way to get to school?\" for ambiguity.\n",
      "\n",
      "**Why it's Ambiguous:**\n",
      "\n",
      "The prompt is ambiguous because the word \"best\" is highly subjective and relative.  It lacks specific criteria for determining what constitutes \"best.\"  Furthermore, it doesn't specify *whose* perspective is relevant when considering the \"best\" way.  Finally, it doesn't define the \"school\" or the starting point.\n",
      "\n",
      "**Possible Interpretations (based on different assumptions):**\n",
      "\n",
      "Here's a breakdown of the ambiguities and the resulting possible interpretations:\n",
      "\n",
      "1.  **Definition of \"Best\":**\n",
      "\n",
      "    *   **Fastest:** The \"best\" way could mean the quickest route, prioritizing speed above all else.\n",
      "    *   **Cheapest:** The \"best\" way could mean the most affordable option, minimizing cost.\n",
      "    *   **Safest:** The \"best\" way could mean the route with the lowest risk of accidents or crime.\n",
      "    *   **Most Environmentally Friendly:** The \"best\" way could mean the option with the smallest carbon footprint.\n",
      "    *   **Most Convenient:** The \"best\" way could mean the option that requires the least effort or planning.\n",
      "    *   **Most Enjoyable/Scenic:** The \"best\" way could mean the route that is the most pleasant or offers the best views.\n",
      "    *   **Healthiest:** The \"best\" way could mean the option that provides the most exercise.\n",
      "    *   **Most Reliable:** The \"best\" way could mean the option that is least likely to be delayed or disrupted.\n",
      "    *   **Combination of Factors:** The \"best\" way could be a weighted combination of several of the above factors (e.g., a balance between speed and cost).\n",
      "\n",
      "2.  **Starting Point:**\n",
      "\n",
      "    *   **From Home:** The prompt likely assumes the starting point is the student's home.\n",
      "    *   **From a Bus Stop:** The student might already be at a bus stop.\n",
      "    *   **From Another Location:** The student might be at a friend's house, a library, or another location.\n",
      "\n",
      "3.  **Definition of \"School\":**\n",
      "\n",
      "    *   **Elementary School:** The \"best\" way might be walking or being driven by a parent.\n",
      "    *   **Middle School:** The \"best\" way might be the school bus, biking, or being driven.\n",
      "    *   **High School:** The \"best\" way might be driving oneself, public transportation, or carpooling.\n",
      "    *   **University/College:** The \"best\" way might be public transportation, biking, walking, or driving and parking.\n",
      "    *   **Specific School:** The best way may depend on the specific location and available transportation options for that particular school.\n",
      "\n",
      "4.  **Perspective:**\n",
      "\n",
      "    *   **The Student's Perspective:**  What the student considers \"best\" might be different from what a parent or school administrator considers \"best.\"\n",
      "    *   **A Parent's Perspective:** A parent might prioritize safety and reliability.\n",
      "    *   **The School's Perspective:** The school might prioritize reducing traffic congestion or promoting sustainable transportation.\n",
      "    *   **Society's Perspective:** Society might prioritize environmental impact or public safety.\n",
      "\n",
      "5.  **Available Options:**\n",
      "\n",
      "    *   **Walking:**  Is walking even an option based on distance and safety?\n",
      "    *   **Biking:**  Is biking safe and feasible?\n",
      "    *   **School Bus:** Is a school bus service available?\n",
      "    *   **Public Transportation:** Is there public transportation available?\n",
      "    *   **Driving (Self or Parent):** Is driving an option (age of student, access to a vehicle)?\n",
      "    *   **Carpooling:** Is carpooling a possibility?\n",
      "    *   **Ride-sharing (e.g., Uber, Lyft):** Is ride-sharing an option (age restrictions, cost)?\n",
      "\n",
      "**Examples of Different Interpretations and Answers:**\n",
      "\n",
      "*   **Interpretation:** \"What's the *fastest* way to get to *high school* from *home*?\"  **Answer:** \"Driving, even though parking is expensive.\"\n",
      "*   **Interpretation:** \"What's the *cheapest* way to get to *college* from *off-campus housing*?\" **Answer:** \"Taking the free university shuttle bus.\"\n",
      "*   **Interpretation:** \"What's the *safest* way for my *8-year-old* to get to *elementary school* from *our house*?\" **Answer:** \"Walking with a parent or designated adult crossing guard.\"\n",
      "*   **Interpretation:** \"What's the *most environmentally friendly* way to get to *university* from *my apartment*?\" **Answer:** \"Biking or taking public transportation.\"\n",
      "\n",
      "**In conclusion, to make the prompt less ambiguous, it needs to specify:**\n",
      "\n",
      "*   **The criteria for \"best\" (e.g., fastest, cheapest, safest).**\n",
      "*   **The starting point.**\n",
      "*   **The specific school (or at least the level of school).**\n",
      "*   **Whose perspective is relevant.**\n",
      "--------------------------------------------------\n",
      "Prompt: Can you explain the theory?\n",
      "The prompt \"Can you explain the theory?\" is highly ambiguous because it lacks crucial context. Here's why and some possible interpretations:\n",
      "\n",
      "**Why it's Ambiguous:**\n",
      "\n",
      "* **Unspecified Theory:** The biggest ambiguity is the lack of specification regarding *which* theory is being referred to. \"The theory\" implies a shared understanding, but without prior discussion or context, it's impossible to know what theory the user has in mind.\n",
      "* **Level of Detail:** The prompt doesn't specify the desired depth of explanation. Does the user want a brief overview, a detailed mathematical derivation, a historical context, or an explanation geared towards a specific audience (e.g., a beginner, an expert)?\n",
      "* **Purpose of Explanation:** The reason for needing the explanation isn't clear. Is the user studying for an exam, trying to apply the theory to a specific problem, or simply curious?  The purpose would influence the type of explanation provided.\n",
      "* **Medium/Format:** The prompt doesn't specify the desired format of the explanation.  Should it be a textual explanation, a code example, a diagram, a comparison with other theories, or a combination of formats?\n",
      "\n",
      "**Possible Interpretations:**\n",
      "\n",
      "Here are some possible theories the user might be referring to, along with the corresponding interpretation of the prompt:\n",
      "\n",
      "* **General Scientific Theories:**\n",
      "    * **\"Can you explain the Theory of Evolution?\"** (Explain Darwin's theory of natural selection, genetic drift, etc.)\n",
      "    * **\"Can you explain the Theory of Relativity?\"** (Explain Einstein's theories of special and general relativity.)\n",
      "    * **\"Can you explain the Big Bang Theory?\"** (Explain the prevailing cosmological model for the universe's origin.)\n",
      "    * **\"Can you explain the String Theory?\"** (Explain a theoretical framework in physics that attempts to unify all fundamental forces.)\n",
      "* **Social/Political Theories:**\n",
      "    * **\"Can you explain the Critical Race Theory?\"** (Explain a framework examining how race and racism have shaped legal systems and institutions in the US.)\n",
      "    * **\"Can you explain the Marxism Theory?\"** (Explain the social, political, and economic theories developed by Karl Marx.)\n",
      "    * **\"Can you explain the Game Theory?\"** (Explain a framework for analyzing strategic interactions between rational actors.)\n",
      "* **Mathematical/Computer Science Theories:**\n",
      "    * **\"Can you explain the Complexity Theory?\"** (Explain the study of the computational resources required to solve problems.)\n",
      "    * **\"Can you explain the Information Theory?\"** (Explain the mathematical theory of data communication and storage.)\n",
      "    * **\"Can you explain the Graph Theory?\"** (Explain the study of graphs, which are mathematical structures used to model pairwise relations between objects.)\n",
      "* **Domain-Specific Theories (within a specific context):** If the conversation is taking place within a specific context (e.g., a programming forum discussing machine learning), \"the theory\" might refer to:\n",
      "    * **\"Can you explain the Backpropagation Theory?\"** (Explain the algorithm used to train neural networks.)\n",
      "    * **\"Can you explain the Reinforcement Learning Theory?\"** (Explain the principles behind reinforcement learning algorithms.)\n",
      "* **Personal \"Theory\":**\n",
      "    * **\"Can you explain the theory behind your decision?\"** (Explain the reasoning and rationale behind a specific choice made by the person being asked.)\n",
      "    * **\"Can you explain the theory behind how this works?\"** (Explaining the underlying mechanism of a specific process or system.)\n",
      "\n",
      "**In summary, the prompt is ambiguous because it lacks a clear subject (the specific theory) and lacks information about the desired level of detail, purpose, and format of the explanation.**  To make the prompt effective, the user needs to specify *which* theory they are interested in and ideally provide some context about why they need the explanation.\n",
      "--------------------------------------------------\n"
     ]
    }
   ],
   "source": [
    "ambiguous_prompts = [\n",
    "    \"Tell me about the bank.\",\n",
    "    \"What's the best way to get to school?\",\n",
    "    \"Can you explain the theory?\"\n",
    "]\n",
    "for prompt in ambiguous_prompts:\n",
    "    analysis_prompt = f\"Analyze the following prompt for ambiguity: '{prompt}'. Explain why it's ambiguous and list possible interpretations.\"\n",
    "    print(f\"Prompt: {prompt}\")\n",
    "    print(llm.invoke(analysis_prompt).content)\n",
    "    print(\"-\"*50)"
   ]
  },
  {
   "cell_type": "markdown",
   "id": "f2d6b010",
   "metadata": {},
   "source": [
    "### Resolving Ambiguity"
   ]
  },
  {
   "cell_type": "markdown",
   "id": "419a8095",
   "metadata": {},
   "source": [
    "Now, let's explore strategies for resolving ambiguity in prompts."
   ]
  },
  {
   "cell_type": "code",
   "execution_count": 16,
   "id": "ac8e0a48",
   "metadata": {},
   "outputs": [
    {
     "name": "stdout",
     "output_type": "stream",
     "text": [
      "Context: You are a financial advisor discussing savings accounts.\n",
      "Clarified response: Okay, to give you the best information about the bank, I need a little more information. I can talk in general terms, or I can tailor my response to a specific bank. \n",
      "\n",
      "**Here are a few ways I can answer, depending on what you're looking for:**\n",
      "\n",
      "*   **In General (Hypothetically):** \"Let's talk about what to look for in a bank offering savings accounts. We want to consider things like the bank's stability, FDIC insurance, the interest rates they offer on savings accounts, any fees associated with the accounts, and the convenience of their branch locations or online/mobile banking options.\"\n",
      "\n",
      "*   **If you tell me a specific bank:** \"Okay, let's talk about [Bank Name]. [Bank Name] is a [type of bank - e.g., national bank, regional bank, credit union] with a history dating back to [year founded, if known]. They are known for [mention something positive, like good customer service or a wide range of products]. They offer a variety of savings accounts, including [mention types of accounts if you know them, like high-yield savings, money market accounts, etc.]. We'll want to look specifically at their current interest rates, minimum balance requirements, and any fees that might apply to their savings accounts to see if they're a good fit for your needs.\"\n",
      "\n",
      "**To give you the *best* answer, please tell me:**\n",
      "\n",
      "*   **Do you have a specific bank in mind?** If so, please tell me the name.\n",
      "*   **Are you interested in a particular type of bank?** (e.g., local credit union, online-only bank, national bank)\n",
      "*   **What are your priorities when choosing a bank?** (e.g., high interest rates, low fees, convenient locations, excellent customer service, online banking)\n",
      "\n",
      "Once I have that information, I can give you a more targeted and helpful response.\n",
      "--------------------------------------------------\n",
      "Context: You are a geographer describing river formations.\n",
      "Clarified response: Alright, let's talk about the bank of a river.\n",
      "\n",
      "The **bank** of a river is the terrain alongside the body of water. It's essentially the edge of the river, where the water meets the land. We often distinguish between two banks:\n",
      "\n",
      "*   **Left Bank:** This is the bank on your left as you face downstream (i.e., in the direction the river is flowing).\n",
      "*   **Right Bank:** This is the bank on your right as you face downstream.\n",
      "\n",
      "Here's why the bank is important from a geographical perspective:\n",
      "\n",
      "*   **Erosion and Deposition:** Banks are constantly being shaped by the forces of erosion and deposition. The river's flow can erode the bank, causing it to recede over time. Conversely, during floods or periods of slower flow, sediment can be deposited along the bank, building it up. This dynamic interplay is crucial in shaping the river's channel and floodplain.\n",
      "*   **Vegetation:** River banks often support a unique ecosystem of riparian vegetation. These plants are adapted to the fluctuating water levels and play a vital role in stabilizing the bank, preventing erosion, and providing habitat for various species. The type of vegetation along a bank can tell us a lot about the river's health and the local climate.\n",
      "*   **Floodplains:** River banks often mark the edge of the floodplain, the area of land adjacent to the river that is subject to flooding. Understanding the elevation and composition of the banks helps us delineate the extent of the floodplain and assess flood risks.\n",
      "*   **Human Impact:** River banks are often areas of human activity, such as agriculture, settlement, and transportation. Human modifications to river banks, such as the construction of levees or the removal of vegetation, can have significant impacts on the river's flow, erosion patterns, and ecosystem.\n",
      "*   **Bankfull Stage:** The bankfull stage is an important concept related to river banks. It refers to the height of the water level when the river is flowing at its maximum capacity without overflowing onto the floodplain. The bankfull stage is often used to define the top of the river bank and is an indicator of flood potential.\n",
      "\n",
      "In short, the bank is much more than just the edge of the river. It's a dynamic zone where water and land interact, shaping the landscape, supporting ecosystems, and influencing human activities. Studying river banks provides valuable insights into the processes that govern river systems and their relationship to the surrounding environment.\n",
      "--------------------------------------------------\n"
     ]
    }
   ],
   "source": [
    "def resolve_ambiguity(prompt, context):\n",
    "    \"\"\"\n",
    "    Resolve ambiguity in a prompt by providing additional context.\n",
    "    \n",
    "    Args:\n",
    "    prompt (str): The original ambiguous prompt\n",
    "    context (str): Additional context to resolve ambiguity\n",
    "    \n",
    "    Returns:\n",
    "    str: The AI's response to the clarified prompt\n",
    "    \"\"\"\n",
    "    clarified_prompt = f\"{context}\\n\\nBased on this context, {prompt}\"\n",
    "    return llm.invoke(clarified_prompt).content\n",
    "\n",
    "# Example usage\n",
    "ambiguous_prompt = \"Tell me about the bank.\"\n",
    "contexts = [\n",
    "    \"You are a financial advisor discussing savings accounts.\",\n",
    "    \"You are a geographer describing river formations.\"\n",
    "]\n",
    "\n",
    "for context in contexts:\n",
    "    print(f\"Context: {context}\")\n",
    "    print(f\"Clarified response: {resolve_ambiguity(ambiguous_prompt, context)}\")\n",
    "    print(\"-\" * 50)"
   ]
  },
  {
   "cell_type": "markdown",
   "id": "2097e16e",
   "metadata": {},
   "source": [
    "### Techniques for Writing Clearer Prompts"
   ]
  },
  {
   "cell_type": "markdown",
   "id": "fab23017",
   "metadata": {},
   "source": [
    "Let's explore some techniques for writing clearer prompts to improve AI responses."
   ]
  },
  {
   "cell_type": "code",
   "execution_count": 17,
   "id": "83a007e5",
   "metadata": {},
   "outputs": [
    {
     "name": "stdout",
     "output_type": "stream",
     "text": [
      "Original Prompt Response:\n",
      "To help me tell you how to make something, I need to know **what you want to make!** \n",
      "\n",
      "Please tell me:\n",
      "\n",
      "*   **What is it?** (e.g., a cake, a birdhouse, a website, a paper airplane, slime, etc.)\n",
      "*   **Do you have any specific requirements or limitations?** (e.g., I only have these ingredients, I want it to be easy to make, I want it to be very cheap, I want it to be vegan)\n",
      "\n",
      "Once I know what you're trying to create, I can provide you with a recipe or instructions.\n",
      "\n",
      "Improved Prompt Response:\n",
      "## Classic Margherita Pizza: A Step-by-Step Guide\n",
      "\n",
      "This guide will walk you through making a delicious, authentic Margherita pizza from scratch.\n",
      "\n",
      "**Yields:** 1 large pizza (approx. 12 inches)\n",
      "**Prep time:** 45 minutes (plus dough resting/proofing time)\n",
      "**Cook time:** 10-15 minutes\n",
      "\n",
      "**Ingredients:**\n",
      "\n",
      "**For the Dough:**\n",
      "\n",
      "*   1 cup (240ml) warm water (around 105-115°F or 40-46°C)\n",
      "*   1 teaspoon active dry yeast\n",
      "*   1 teaspoon granulated sugar\n",
      "*   2 1/2 cups (300g) all-purpose flour (or bread flour for a chewier crust)\n",
      "*   1 teaspoon salt\n",
      "*   1 tablespoon olive oil\n",
      "\n",
      "**For the Sauce:**\n",
      "\n",
      "*   1 (28 ounce) can crushed tomatoes (preferably San Marzano)\n",
      "*   1 clove garlic, minced\n",
      "*   1 teaspoon dried oregano\n",
      "*   1/2 teaspoon salt\n",
      "*   1/4 teaspoon black pepper\n",
      "*   1 tablespoon olive oil\n",
      "\n",
      "**For the Toppings:**\n",
      "\n",
      "*   8 ounces fresh mozzarella cheese, sliced (not shredded)\n",
      "*   1/4 cup fresh basil leaves\n",
      "*   Olive oil, for drizzling\n",
      "*   Optional: Pinch of red pepper flakes\n",
      "\n",
      "**Equipment:**\n",
      "\n",
      "*   Large mixing bowl\n",
      "*   Measuring cups and spoons\n",
      "*   Pizza stone or baking sheet\n",
      "*   Pizza peel (optional, but helpful)\n",
      "*   Oven\n",
      "\n",
      "**Instructions:**\n",
      "\n",
      "**Part 1: Making the Dough**\n",
      "\n",
      "1.  **Activate the Yeast:** In a large mixing bowl, combine the warm water, yeast, and sugar. Stir gently and let sit for 5-10 minutes, until the mixture becomes foamy. This indicates the yeast is active. If it doesn't foam, your yeast might be old and you should replace it.\n",
      "\n",
      "2.  **Combine Dry Ingredients:** In the same bowl (or a separate one if preferred), add the flour and salt. Whisk together to combine.\n",
      "\n",
      "3.  **Combine Wet and Dry Ingredients:** Add the olive oil to the yeast mixture. Pour the wet ingredients into the dry ingredients.\n",
      "\n",
      "4.  **Mix the Dough:** Use a wooden spoon or your hands to mix the ingredients until a shaggy dough forms.\n",
      "\n",
      "5.  **Knead the Dough:** Turn the dough out onto a lightly floured surface. Knead for 5-7 minutes, until the dough becomes smooth and elastic. It should be slightly sticky but not unmanageable. If the dough is too sticky, add a little more flour, one tablespoon at a time.\n",
      "\n",
      "6.  **First Rise:** Form the dough into a ball. Lightly oil a clean bowl and place the dough in the bowl, turning to coat with oil. Cover the bowl with plastic wrap or a clean kitchen towel. Let the dough rise in a warm place for 1-1.5 hours, or until doubled in size.\n",
      "\n",
      "**Part 2: Making the Sauce**\n",
      "\n",
      "1.  **Sauté Garlic:** In a small saucepan, heat the olive oil over medium heat. Add the minced garlic and cook for about 30 seconds, or until fragrant. Be careful not to burn the garlic.\n",
      "\n",
      "2.  **Add Tomatoes and Seasonings:** Add the crushed tomatoes, oregano, salt, and pepper to the saucepan.\n",
      "\n",
      "3.  **Simmer the Sauce:** Bring the sauce to a simmer, then reduce the heat to low and cook for 15-20 minutes, stirring occasionally, until the sauce has thickened slightly.\n",
      "\n",
      "4.  **Cool the Sauce:** Remove the sauce from the heat and let it cool slightly. You can use an immersion blender to smooth the sauce if desired (optional).\n",
      "\n",
      "**Part 3: Assembling and Baking the Pizza**\n",
      "\n",
      "1.  **Preheat the Oven:** Preheat your oven to the highest temperature setting (usually 500-550°F or 260-290°C). Place a pizza stone or baking sheet in the oven while it preheats. This ensures a crispy crust.\n",
      "\n",
      "2.  **Punch Down the Dough:** Once the dough has doubled in size, gently punch it down to release the air.\n",
      "\n",
      "3.  **Shape the Dough:** Turn the dough out onto a lightly floured surface.  You can either roll it out with a rolling pin or stretch it by hand. For a rustic look, stretching by hand is preferred. Aim for a 12-inch circle.  If using a pizza peel, dust it with flour or cornmeal to prevent sticking.\n",
      "\n",
      "4.  **Transfer the Dough:** Carefully transfer the shaped dough to the prepared pizza peel (if using) or directly onto a baking sheet.\n",
      "\n",
      "5.  **Add the Sauce:** Spread a thin layer of the tomato sauce evenly over the dough, leaving a small border for the crust.\n",
      "\n",
      "6.  **Add the Mozzarella:** Arrange the mozzarella slices evenly over the sauce.\n",
      "\n",
      "7.  **Bake the Pizza:** Carefully slide the pizza onto the preheated pizza stone or baking sheet in the oven (if using a peel). Bake for 10-15 minutes, or until the crust is golden brown and the cheese is melted and bubbly.  Keep a close eye on it, as oven temperatures vary.\n",
      "\n",
      "8.  **Add Basil and Olive Oil:** Remove the pizza from the oven and let it cool for a minute or two. Sprinkle fresh basil leaves over the pizza and drizzle with a little olive oil.  Optional: Add a pinch of red pepper flakes for a little heat.\n",
      "\n",
      "9.  **Slice and Serve:** Slice the pizza and serve immediately. Enjoy!\n",
      "\n",
      "**Tips and Variations:**\n",
      "\n",
      "*   **Dough:** For a more flavorful dough, try using a 00 flour. You can also add a pinch of garlic powder or Italian seasoning to the dough.\n",
      "*   **Sauce:** For a sweeter sauce, add a pinch of sugar.\n",
      "*   **Cheese:** Use high-quality fresh mozzarella for the best flavor.\n",
      "*   **Baking:** If your oven doesn't get hot enough, preheat a cast iron skillet in the oven and bake the pizza in the skillet.\n",
      "*   **Grilling:** You can also grill the pizza dough for a smoky flavor.\n",
      "*   **Gluten-Free:** Use gluten-free flour blend for a gluten-free version.\n",
      "\n",
      "Enjoy your homemade Margherita pizza! It's a simple yet satisfying classic.\n"
     ]
    }
   ],
   "source": [
    "def compare_prompt_clarity(original_prompt, improved_prompt):\n",
    "    \"\"\"\n",
    "    Compare the responses to an original prompt and an improved, clearer version.\n",
    "    \n",
    "    Args:\n",
    "    original_prompt (str): The original, potentially unclear prompt\n",
    "    improved_prompt (str): An improved, clearer version of the prompt\n",
    "    \n",
    "    Returns:\n",
    "    tuple: Responses to the original and improved prompts\n",
    "    \"\"\"\n",
    "    original_response = llm.invoke(original_prompt).content\n",
    "    improved_response = llm.invoke(improved_prompt).content\n",
    "    return original_response, improved_response\n",
    "\n",
    "# Example usage\n",
    "original_prompt = \"How do I make it?\"\n",
    "improved_prompt = \"Provide a step-by-step guide for making a classic margherita pizza, including ingredients and cooking instructions.\"\n",
    "\n",
    "original_response, improved_response = compare_prompt_clarity(original_prompt, improved_prompt)\n",
    "\n",
    "print(\"Original Prompt Response:\")\n",
    "print(original_response)\n",
    "print(\"\\nImproved Prompt Response:\")\n",
    "print(improved_response)"
   ]
  },
  {
   "cell_type": "markdown",
   "id": "7b920841",
   "metadata": {},
   "source": [
    "### Structured Prompts for Clarity\n",
    "Using structured prompts can significantly improve clarity and consistency in AI responses."
   ]
  },
  {
   "cell_type": "code",
   "execution_count": 18,
   "id": "08414981",
   "metadata": {},
   "outputs": [
    {
     "name": "stdout",
     "output_type": "stream",
     "text": [
      "Okay, I need the aspects you want me to analyze to complete the prompt. Please provide the list of `aspects` within the curly braces. For example:\n",
      "\n",
      "```python\n",
      "aspects = [\"Political Discourse\", \"Mental Health\", \"Economic Opportunities\"]\n",
      "```\n",
      "\n",
      "Once you provide the `aspects`, I will generate a balanced and objective analysis of the impact of social media on society, considering those specific points.\n"
     ]
    }
   ],
   "source": [
    "structured_prompt = PromptTemplate(\n",
    "    input_variables=[\"topic\", \"aspects\", \"tone\"],\n",
    "    template=\"\"\"Provide an analysis of {topic} considering the following aspects:\n",
    "    1. {{aspects[0]}}\n",
    "    2. {{aspects[1]}}\n",
    "    3. {{aspects[2]}}\n",
    "    \n",
    "    Present the analysis in a {tone} tone.\n",
    "    \"\"\"\n",
    ")\n",
    "\n",
    "# Example usage\n",
    "input_variables = {\n",
    "    \"topic\": \"the impact of social media on society\",\n",
    "    \"aspects\": [\"communication patterns\", \"mental health\", \"information spread\"],\n",
    "    \"tone\": \"balanced and objective\"\n",
    "}\n",
    "\n",
    "chain = structured_prompt | llm\n",
    "response = chain.invoke(input_variables).content\n",
    "print(response)"
   ]
  },
  {
   "cell_type": "markdown",
   "id": "463ea602",
   "metadata": {},
   "source": [
    "### Practical Exercise: Improving Prompt Clarity\n",
    "Now, let's practice improving the clarity of prompts."
   ]
  },
  {
   "cell_type": "code",
   "execution_count": 19,
   "id": "150c8bf5",
   "metadata": {},
   "outputs": [
    {
     "name": "stdout",
     "output_type": "stream",
     "text": [
      "Original: What's the difference?\n",
      "Improved: What's the difference between a cat and a dog?\n",
      "--------------------------------------------------\n",
      "Original: How does it work?\n",
      "Improved: How does the process of photosynthesis convert light energy into chemical energy?\n",
      "--------------------------------------------------\n",
      "Original: Why is it important?\n",
      "Improved: Why is understanding the impact of climate change on coastal communities important?\n",
      "--------------------------------------------------\n"
     ]
    }
   ],
   "source": [
    "unclear_prompts = [\n",
    "    \"What's the difference?\",\n",
    "    \"How does it work?\",\n",
    "    \"Why is it important?\"\n",
    "]\n",
    "\n",
    "def improve_prompt_clarity(unclear_prompt):\n",
    "    \"\"\"\n",
    "    Improve the clarity of a given prompt.\n",
    "    \n",
    "    Args:\n",
    "    unclear_prompt (str): The original unclear prompt\n",
    "    \n",
    "    Returns:\n",
    "    str: An improved, clearer version of the prompt\n",
    "    \"\"\"\n",
    "    improvement_prompt = f\"The following prompt is unclear: '{unclear_prompt}'. Please provide a clearer, more specific version of this prompt. output just the improved prompt and nothing else.\" \n",
    "    return llm.invoke(improvement_prompt).content\n",
    "\n",
    "for prompt in unclear_prompts:\n",
    "    improved_prompt = improve_prompt_clarity(prompt)\n",
    "    print(f\"Original: {prompt}\")\n",
    "    print(f\"Improved: {improved_prompt}\")\n",
    "    print(\"-\" * 50)"
   ]
  },
  {
   "cell_type": "code",
   "execution_count": null,
   "id": "f6406e7f",
   "metadata": {},
   "outputs": [],
   "source": []
  }
 ],
 "metadata": {
  "kernelspec": {
   "display_name": "base",
   "language": "python",
   "name": "python3"
  },
  "language_info": {
   "codemirror_mode": {
    "name": "ipython",
    "version": 3
   },
   "file_extension": ".py",
   "mimetype": "text/x-python",
   "name": "python",
   "nbconvert_exporter": "python",
   "pygments_lexer": "ipython3",
   "version": "3.12.7"
  }
 },
 "nbformat": 4,
 "nbformat_minor": 5
}
