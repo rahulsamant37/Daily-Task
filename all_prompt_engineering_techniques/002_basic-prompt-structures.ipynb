{
 "cells": [
  {
   "cell_type": "markdown",
   "id": "db4b154c",
   "metadata": {},
   "source": [
    "# Basic Prompt Structures Tutorial\n",
    "### Overview\n",
    "This tutorial focuses on two fundamental types of prompt structures:\n",
    "\n",
    "1. Single-turn prompts\n",
    "2. Multi-turn prompts (conversations)\n",
    "We'll use Gemini model and LangChain to demonstrate these concepts.\n",
    "\n",
    "### Motivation\n",
    "Understanding different prompt structures is crucial for effective communication with AI models. Single-turn prompts are useful for quick, straightforward queries, while multi-turn prompts enable more complex, context-aware interactions. Mastering these structures allows for more versatile and effective use of AI in various applications.\n",
    "\n",
    "### Key Components\n",
    "1. **Single-turn Prompts**: One-shot interactions with the language model.\n",
    "2. **Multi-turn Prompts**: Series of interactions that maintain context.\n",
    "3. **Prompt Templates**: Reusable structures for consistent prompting.\n",
    "4. **Conversation Chains**: Maintaining context across multiple interactions.\n",
    "\n",
    "### Method Details\n",
    "We'll use a combination of Gemini and LangChain library to demonstrate these prompt structures. The tutorial will include practical examples and comparisons of different prompt types.\n",
    "\n",
    "### Setup\n",
    "First, let's import the necessary libraries and set up our environment."
   ]
  },
  {
   "cell_type": "code",
   "execution_count": 9,
   "id": "70e9ec87",
   "metadata": {},
   "outputs": [],
   "source": [
    "import os\n",
    "from langchain_core.prompts import PromptTemplate\n",
    "from langchain_google_genai import ChatGoogleGenerativeAI\n",
    "from langchain.chains import ConversationChain\n",
    "from langchain.memory import ConversationBufferMemory\n",
    "\n",
    "# Load enviroment variables\n",
    "from dotenv import load_dotenv\n",
    "load_dotenv()\n",
    "\n",
    "# Set up Google API key\n",
    "os.environ[\"GOOGLE_API_KEY\"] = os.getenv(\"GOOGLE_API_KEY\")\n",
    "\n",
    "# Initialize the language model\n",
    "llm = ChatGoogleGenerativeAI(model=\"gemini-2.0-flash\")"
   ]
  },
  {
   "cell_type": "markdown",
   "id": "a5c23329",
   "metadata": {},
   "source": [
    "### 1. Single-turn Prompts\n",
    "Single-turn prompts are one-shot interactions with the language model. They consist of a single input (prompt) and generate a single output (response)."
   ]
  },
  {
   "cell_type": "code",
   "execution_count": 2,
   "id": "2ada08db",
   "metadata": {},
   "outputs": [
    {
     "name": "stdout",
     "output_type": "stream",
     "text": [
      "The three primary colors are **red, yellow, and blue**.\n"
     ]
    }
   ],
   "source": [
    "single_turn_prompt = \"What are the three primary colors?\"\n",
    "print(llm.invoke(single_turn_prompt).content)"
   ]
  },
  {
   "cell_type": "markdown",
   "id": "4fa61af6",
   "metadata": {},
   "source": [
    "Now, let's use a PromptTemplate to create a more structured single-turn prompt:"
   ]
  },
  {
   "cell_type": "code",
   "execution_count": 3,
   "id": "acfbed04",
   "metadata": {},
   "outputs": [
    {
     "name": "stdout",
     "output_type": "stream",
     "text": [
      "Color theory is the study of how colors mix, match, and create different visual effects. It's a set of principles that artists and designers use to create harmonious and visually appealing color schemes.\n",
      "\n",
      "The three main components of color theory are:\n",
      "\n",
      "1.  **The Color Wheel:**  A visual representation of colors arranged according to their chromatic relationship. It typically includes primary, secondary, and tertiary colors and helps understand color relationships like complementary, analogous, and triadic.\n",
      "\n",
      "2.  **Color Harmony:**  Deals with creating pleasing color combinations based on their relationships on the color wheel.  Common harmonies include complementary (opposite colors), analogous (colors next to each other), triadic (colors evenly spaced), and monochromatic (variations of a single color).\n",
      "\n",
      "3.  **Color Context:**  How a color appears in relation to other colors and its surrounding environment. This includes factors like lighting, size, and the colors adjacent to it, which can influence how a color is perceived.\n"
     ]
    }
   ],
   "source": [
    "structured_prompt = PromptTemplate(\n",
    "    input_variable=[\"topic\"],\n",
    "    template=\"Provide a brief explanation of {topic} and list its three main components.\"\n",
    ")\n",
    "\n",
    "chain = structured_prompt | llm\n",
    "print(chain.invoke({\"topic\": \"color theory\"}).content)"
   ]
  },
  {
   "cell_type": "markdown",
   "id": "d1aaaf72",
   "metadata": {},
   "source": [
    "### 2. Multi-turn Prompts (Conversations)\n",
    "Multi-turn prompts involve a series of interactions with the language model, allowing for more complex and context-aware conversations."
   ]
  },
  {
   "cell_type": "code",
   "execution_count": 8,
   "id": "c628e5f9",
   "metadata": {},
   "outputs": [
    {
     "name": "stdout",
     "output_type": "stream",
     "text": [
      "\n",
      "\n",
      "\u001b[1m> Entering new ConversationChain chain...\u001b[0m\n",
      "Prompt after formatting:\n",
      "\u001b[32;1m\u001b[1;3mThe following is a friendly conversation between a human and an AI. The AI is talkative and provides lots of specific details from its context. If the AI does not know the answer to a question, it truthfully says it does not know.\n",
      "\n",
      "Current conversation:\n",
      "\n",
      "Human: Hi, I'm learning about space. Can you tell me about planets?\n",
      "AI:\u001b[0m\n",
      "\n",
      "\u001b[1m> Finished chain.\u001b[0m\n",
      "Oh, space is *fascinating*! Planets are a great place to start. Okay, so, planets are celestial bodies that orbit a star, are massive enough for their own gravity to pull them into a nearly round shape, and have cleared their orbital path of other objects. That last part is actually what distinguishes planets from dwarf planets like Pluto, which *hasn't* cleared its neighborhood.\n",
      "\n",
      "In our solar system, we have eight planets: Mercury, Venus, Earth, Mars, Jupiter, Saturn, Uranus, and Neptune. They are divided into two main categories: terrestrial planets and gas giants.\n",
      "\n",
      "*   **Terrestrial planets:** These are rocky planets, relatively small and dense. Think Mercury, Venus, Earth, and Mars. They're closer to the Sun and have solid surfaces. For example, did you know that Mars has the largest volcano in the solar system, Olympus Mons? It's a shield volcano about 600 km wide and 25 km high!\n",
      "\n",
      "*   **Gas giants:** These are much larger and less dense, made mostly of gases like hydrogen and helium. That's Jupiter, Saturn, Uranus, and Neptune. Jupiter is the largest planet in our solar system and has a famous Great Red Spot, which is a massive storm that has been raging for hundreds of years! And Saturn, of course, is known for its spectacular rings, which are made up of billions of icy particles. Uranus and Neptune are sometimes called \"ice giants\" because they contain more heavier elements like oxygen, carbon, nitrogen, and sulfur than Jupiter and Saturn.\n",
      "\n",
      "Each planet has its own unique characteristics like size, mass, orbital period, and composition. For example, Venus has a runaway greenhouse effect, making it the hottest planet in our solar system with surface temperatures hot enough to melt lead!\n",
      "\n",
      "What specifically about planets are you interested in learning about? We could talk about specific planets in more detail, how they were formed, or even about exoplanets – planets orbiting other stars! Let me know what sparks your interest.\n",
      "\n",
      "\n",
      "\u001b[1m> Entering new ConversationChain chain...\u001b[0m\n",
      "Prompt after formatting:\n",
      "\u001b[32;1m\u001b[1;3mThe following is a friendly conversation between a human and an AI. The AI is talkative and provides lots of specific details from its context. If the AI does not know the answer to a question, it truthfully says it does not know.\n",
      "\n",
      "Current conversation:\n",
      "Human: Hi, I'm learning about space. Can you tell me about planets?\n",
      "AI: Oh, space is *fascinating*! Planets are a great place to start. Okay, so, planets are celestial bodies that orbit a star, are massive enough for their own gravity to pull them into a nearly round shape, and have cleared their orbital path of other objects. That last part is actually what distinguishes planets from dwarf planets like Pluto, which *hasn't* cleared its neighborhood.\n",
      "\n",
      "In our solar system, we have eight planets: Mercury, Venus, Earth, Mars, Jupiter, Saturn, Uranus, and Neptune. They are divided into two main categories: terrestrial planets and gas giants.\n",
      "\n",
      "*   **Terrestrial planets:** These are rocky planets, relatively small and dense. Think Mercury, Venus, Earth, and Mars. They're closer to the Sun and have solid surfaces. For example, did you know that Mars has the largest volcano in the solar system, Olympus Mons? It's a shield volcano about 600 km wide and 25 km high!\n",
      "\n",
      "*   **Gas giants:** These are much larger and less dense, made mostly of gases like hydrogen and helium. That's Jupiter, Saturn, Uranus, and Neptune. Jupiter is the largest planet in our solar system and has a famous Great Red Spot, which is a massive storm that has been raging for hundreds of years! And Saturn, of course, is known for its spectacular rings, which are made up of billions of icy particles. Uranus and Neptune are sometimes called \"ice giants\" because they contain more heavier elements like oxygen, carbon, nitrogen, and sulfur than Jupiter and Saturn.\n",
      "\n",
      "Each planet has its own unique characteristics like size, mass, orbital period, and composition. For example, Venus has a runaway greenhouse effect, making it the hottest planet in our solar system with surface temperatures hot enough to melt lead!\n",
      "\n",
      "What specifically about planets are you interested in learning about? We could talk about specific planets in more detail, how they were formed, or even about exoplanets – planets orbiting other stars! Let me know what sparks your interest.\n",
      "Human: What's the largest planet in our solar system?\n",
      "AI:\u001b[0m\n",
      "\n",
      "\u001b[1m> Finished chain.\u001b[0m\n",
      "That would be Jupiter! It's absolutely *massive*. If Earth were a grape, Jupiter would be the size of a basketball. To be more precise, its equatorial radius is about 71,492 kilometers (44,423 miles), which is roughly 11 times the radius of Earth. Its mass is more than twice the mass of all the other planets in our solar system combined!\n",
      "\n",
      "Jupiter is primarily made of hydrogen and helium, similar to the Sun. It's a gas giant, so it doesn't have a solid surface like Earth. Instead, it likely has a core of rock and metallic hydrogen, surrounded by a thick layer of liquid metallic hydrogen.\n",
      "\n",
      "Want to know something really cool? Jupiter has a very strong magnetic field, much stronger than Earth's. This magnetic field creates intense radiation belts around the planet. And, as I mentioned before, it's home to the Great Red Spot, a persistent anticyclonic storm that's larger than Earth! We've been observing it for at least 300 years, although it seems to be shrinking.\n",
      "\n",
      "Does this answer your question or would you like to know more about Jupiter?\n",
      "\n",
      "\n",
      "\u001b[1m> Entering new ConversationChain chain...\u001b[0m\n",
      "Prompt after formatting:\n",
      "\u001b[32;1m\u001b[1;3mThe following is a friendly conversation between a human and an AI. The AI is talkative and provides lots of specific details from its context. If the AI does not know the answer to a question, it truthfully says it does not know.\n",
      "\n",
      "Current conversation:\n",
      "Human: Hi, I'm learning about space. Can you tell me about planets?\n",
      "AI: Oh, space is *fascinating*! Planets are a great place to start. Okay, so, planets are celestial bodies that orbit a star, are massive enough for their own gravity to pull them into a nearly round shape, and have cleared their orbital path of other objects. That last part is actually what distinguishes planets from dwarf planets like Pluto, which *hasn't* cleared its neighborhood.\n",
      "\n",
      "In our solar system, we have eight planets: Mercury, Venus, Earth, Mars, Jupiter, Saturn, Uranus, and Neptune. They are divided into two main categories: terrestrial planets and gas giants.\n",
      "\n",
      "*   **Terrestrial planets:** These are rocky planets, relatively small and dense. Think Mercury, Venus, Earth, and Mars. They're closer to the Sun and have solid surfaces. For example, did you know that Mars has the largest volcano in the solar system, Olympus Mons? It's a shield volcano about 600 km wide and 25 km high!\n",
      "\n",
      "*   **Gas giants:** These are much larger and less dense, made mostly of gases like hydrogen and helium. That's Jupiter, Saturn, Uranus, and Neptune. Jupiter is the largest planet in our solar system and has a famous Great Red Spot, which is a massive storm that has been raging for hundreds of years! And Saturn, of course, is known for its spectacular rings, which are made up of billions of icy particles. Uranus and Neptune are sometimes called \"ice giants\" because they contain more heavier elements like oxygen, carbon, nitrogen, and sulfur than Jupiter and Saturn.\n",
      "\n",
      "Each planet has its own unique characteristics like size, mass, orbital period, and composition. For example, Venus has a runaway greenhouse effect, making it the hottest planet in our solar system with surface temperatures hot enough to melt lead!\n",
      "\n",
      "What specifically about planets are you interested in learning about? We could talk about specific planets in more detail, how they were formed, or even about exoplanets – planets orbiting other stars! Let me know what sparks your interest.\n",
      "Human: What's the largest planet in our solar system?\n",
      "AI: That would be Jupiter! It's absolutely *massive*. If Earth were a grape, Jupiter would be the size of a basketball. To be more precise, its equatorial radius is about 71,492 kilometers (44,423 miles), which is roughly 11 times the radius of Earth. Its mass is more than twice the mass of all the other planets in our solar system combined!\n",
      "\n",
      "Jupiter is primarily made of hydrogen and helium, similar to the Sun. It's a gas giant, so it doesn't have a solid surface like Earth. Instead, it likely has a core of rock and metallic hydrogen, surrounded by a thick layer of liquid metallic hydrogen.\n",
      "\n",
      "Want to know something really cool? Jupiter has a very strong magnetic field, much stronger than Earth's. This magnetic field creates intense radiation belts around the planet. And, as I mentioned before, it's home to the Great Red Spot, a persistent anticyclonic storm that's larger than Earth! We've been observing it for at least 300 years, although it seems to be shrinking.\n",
      "\n",
      "Does this answer your question or would you like to know more about Jupiter?\n",
      "Human: How does its size compare to Earth?\n",
      "AI:\u001b[0m\n",
      "\n",
      "\u001b[1m> Finished chain.\u001b[0m\n",
      "Okay, let's break down the size comparison between Jupiter and Earth a bit more. I already mentioned the \"grape versus basketball\" analogy, but let's get into some specific numbers to really visualize the difference.\n",
      "\n",
      "*   **Diameter:** Jupiter's diameter is about 11 times the diameter of Earth. So, you could line up roughly 11 Earths across Jupiter's equator. That's a visual!\n",
      "\n",
      "*   **Volume:** This is where the size difference really becomes apparent. Jupiter's volume is about 1,321 times greater than Earth's. That means you could fit over 1,300 Earths *inside* Jupiter! Imagine trying to pack that many Earths into one giant sphere!\n",
      "\n",
      "*   **Mass:** Jupiter's mass is about 318 times greater than Earth's. So, it would take almost 318 Earths to equal the mass of Jupiter.\n",
      "\n",
      "So, to recap:\n",
      "\n",
      "*   **Diameter:** Jupiter is 11 Earths across.\n",
      "*   **Volume:** Jupiter can hold 1,321 Earths.\n",
      "*   **Mass:** Jupiter weighs as much as 318 Earths.\n",
      "\n",
      "Essentially, Jupiter is so much bigger than Earth that it dwarfs our planet in every way. It's a true giant of our solar system! Did you find these comparisons helpful, or would you like me to compare some other aspects of the two planets?\n"
     ]
    }
   ],
   "source": [
    "conversation = ConversationChain(\n",
    "    llm=llm, \n",
    "    verbose=True,\n",
    "    memory=ConversationBufferMemory()\n",
    ")\n",
    "\n",
    "print(conversation.predict(input=\"Hi, I'm learning about space. Can you tell me about planets?\"))\n",
    "print(conversation.predict(input=\"What's the largest planet in our solar system?\"))\n",
    "print(conversation.predict(input=\"How does its size compare to Earth?\"))"
   ]
  },
  {
   "cell_type": "markdown",
   "id": "81aed376",
   "metadata": {},
   "source": [
    "Let's compare how single-turn and multi-turn prompts handle a series of related questions:"
   ]
  },
  {
   "cell_type": "code",
   "execution_count": 10,
   "id": "ee61b933",
   "metadata": {},
   "outputs": [
    {
     "name": "stdout",
     "output_type": "stream",
     "text": [
      "Single-turn responses:\n",
      "Q: What is the capital of France?\n",
      "A: The capital of France is **Paris**.\n",
      "\n",
      "Q: What is its population?\n",
      "A: Please tell me what \"it\" refers to! I need to know what city, country, planet, or other entity you're asking about in order to provide you with its population.\n",
      "\n",
      "Q: What is the city's most famous landmark?\n",
      "A: To answer that, I need to know which city you're asking about! Please tell me the city, and I'll tell you its most famous landmark.\n",
      "\n",
      "Multi-turn reponses:\n",
      "Q: What is the capital of France?\n",
      "A: AI: Oh, that's an easy one! The capital of France is Paris. Did you know that Paris is located on the Seine River in the north-central part of the country? It's also one of the most visited cities in the world, famous for its iconic landmarks like the Eiffel Tower, the Louvre Museum, and the Arc de Triomphe. I've processed so much information about Paris; it's practically a virtual city in my memory! Is there anything else you'd like to know about Paris or France? I'd be happy to share!\n",
      "\n",
      "Q: What is its population?\n",
      "A: AI: Ah, population figures! Those can be tricky, as they're constantly changing. However, according to the latest estimates I have access to, the population of Paris within its city limits (that is, the \"commune\" of Paris) is around 2.1 million people. Now, if you're talking about the *Greater Paris* metropolitan area, which includes the suburbs and surrounding areas, the population swells to over 12 million! That makes it one of the largest metropolitan areas in Europe. I can access more specific data if you'd like, perhaps broken down by arrondissement or demographic. Just let me know what you're interested in!\n",
      "\n",
      "Q: What is the city's most famous landmark?\n",
      "A: AI: Oh, without a doubt, the Eiffel Tower is the city's most famous landmark! It's practically synonymous with Paris itself. It was originally built for the 1889 World's Fair, and initially, many Parisians hated it! They thought it was an eyesore. Can you imagine? Now, it's one of the most recognizable structures in the world and attracts millions of visitors every year. It stands at about 330 meters (1,083 ft) tall, including the antenna, and offers incredible panoramic views of the city. I can even access images and historical data about its construction if you're curious! Did you know it was supposed to be dismantled after 20 years? Good thing they didn't!\n",
      "\n"
     ]
    }
   ],
   "source": [
    "# Single-turn prompts\n",
    "prompts = [\n",
    "    \"What is the capital of France?\",\n",
    "    \"What is its population?\",\n",
    "    \"What is the city's most famous landmark?\"\n",
    "]\n",
    "\n",
    "print(\"Single-turn responses:\")\n",
    "for prompt in prompts:\n",
    "    print(f\"Q: {prompt}\")\n",
    "    print(f\"A: {llm.invoke(prompt).content}\\n\")\n",
    "\n",
    "# Multi-turn prompts\n",
    "print(\"Multi-turn reponses:\")\n",
    "conversation = ConversationChain(llm=llm, memory=ConversationBufferMemory())\n",
    "for prompt in prompts:\n",
    "    print(f\"Q: {prompt}\")\n",
    "    print(f\"A: {conversation.predict(input=prompt)}\\n\")"
   ]
  },
  {
   "cell_type": "markdown",
   "id": "e4f78b4a",
   "metadata": {},
   "source": [
    "### Conclusion\n",
    "This tutorial has introduced you to the basics of single-turn and multi-turn prompt structures. We've seen how:\n",
    "\n",
    "1. Single-turn prompts are useful for quick, isolated queries.\n",
    "2. Multi-turn prompts maintain context across a conversation, allowing for more complex interactions.\n",
    "3. PromptTemplates can be used to create structured, reusable prompts.\n",
    "4. Conversation chains in LangChain help manage context in multi-turn interactions.\n",
    "\n",
    "Understanding these different prompt structures allows you to choose the most appropriate approach for various tasks and create more effective interactions with AI language models."
   ]
  }
 ],
 "metadata": {
  "kernelspec": {
   "display_name": "base",
   "language": "python",
   "name": "python3"
  },
  "language_info": {
   "codemirror_mode": {
    "name": "ipython",
    "version": 3
   },
   "file_extension": ".py",
   "mimetype": "text/x-python",
   "name": "python",
   "nbconvert_exporter": "python",
   "pygments_lexer": "ipython3",
   "version": "3.12.7"
  }
 },
 "nbformat": 4,
 "nbformat_minor": 5
}
