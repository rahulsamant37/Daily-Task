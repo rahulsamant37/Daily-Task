{
 "cells": [
  {
   "cell_type": "markdown",
   "id": "e35e2089",
   "metadata": {},
   "source": [
    "# Zero-Shot Prompting Tutorial\n",
    "### Overview\n",
    "This tutorial provides a comprehensive introduction to zero-shot prompting, a powerful technique in prompt engineering that allows language models to perform tasks without specific examples or prior training. We'll explore how to design effective zero-shot prompts and implement strategies using Gemini models and the LangChain library.\n",
    "\n",
    "### Motivation\n",
    "Zero-shot prompting is crucial in modern AI applications as it enables language models to generalize to new tasks without the need for task-specific training data or fine-tuning. This capability significantly enhances the flexibility and applicability of AI systems, allowing them to adapt to a wide range of scenarios and user needs with minimal setup.\n",
    "\n",
    "### Key Components\n",
    "1. Understanding Zero-Shot Learning: An introduction to the concept and its importance in AI.\n",
    "2. Prompt Design Principles: Techniques for crafting effective zero-shot prompts.\n",
    "3. Task Framing: Methods to frame various tasks for zero-shot performance.\n",
    "4. Gemini Integration: Using Gemini models for zero-shot tasks.\n",
    "5. LangChain Implementation: Leveraging LangChain for structured zero-shot prompting.\n",
    "### Method Details\n",
    "The tutorial will cover several methods for implementing zero-shot prompting:\n",
    "\n",
    "1. Direct Task Specification: Crafting prompts that clearly define the task without examples.\n",
    "2. Role-Based Prompting: Assigning specific roles to the AI to guide its responses.\n",
    "3. Format Specification: Providing output format guidelines in the prompt.\n",
    "4. Multi-step Reasoning: Breaking down complex tasks into simpler zero-shot steps.\n",
    "5. Comparative Analysis: Evaluating different zero-shot prompt structures for the same task.\n",
    "Throughout the tutorial, we'll use Python code with Gemini and LangChain to demonstrate these techniques practically.\n",
    "\n",
    "### Conclusion\n",
    "By the end of this tutorial, learners will have gained:\n",
    "\n",
    "1. A solid understanding of zero-shot prompting and its applications.\n",
    "2. Practical skills in designing effective zero-shot prompts for various tasks.\n",
    "3. Experience in implementing zero-shot techniques using Gemini and LangChain.\n",
    "4. Insights into the strengths and limitations of zero-shot approaches.\n",
    "5. A foundation for further exploration and innovation in prompt engineering.\n",
    "\n",
    "This knowledge will empower learners to leverage AI models more effectively across a wide range of applications, enhancing their ability to solve novel problems and create more flexible AI systems.\n",
    "\n",
    "### Setup\n",
    "Let's start by importing the necessary libraries and setting up our environment."
   ]
  },
  {
   "cell_type": "code",
   "execution_count": 1,
   "id": "7ca17ec8",
   "metadata": {},
   "outputs": [],
   "source": [
    "import os\n",
    "from langchain_core.prompts import PromptTemplate\n",
    "from langchain_google_genai import ChatGoogleGenerativeAI\n",
    "from langchain.chains import LLMChain\n",
    "\n",
    "# Load enviroment variables\n",
    "from dotenv import load_dotenv\n",
    "load_dotenv()\n",
    "\n",
    "# Set up Google API key\n",
    "os.environ[\"GOOGLE_API_KEY\"] = os.getenv(\"GOOGLE_API_KEY\")\n",
    "\n",
    "# Initialize the language model\n",
    "llm = ChatGoogleGenerativeAI(model=\"gemini-2.0-flash\")\n",
    "\n",
    "def create_chain(prompt_template):\n",
    "    \"\"\"\n",
    "    Create a LangChain chain with the given prompt template.\n",
    "    \n",
    "    Args:\n",
    "        prompt_template (str): The prompt template string.\n",
    "    \n",
    "    Returns:\n",
    "        LLMChain: A LangChain chain object.\n",
    "    \"\"\"\n",
    "    prompt = PromptTemplate.from_template(prompt_template)\n",
    "    return prompt | llm"
   ]
  },
  {
   "cell_type": "markdown",
   "id": "4f7b5dca",
   "metadata": {},
   "source": [
    "### 1. Direct Task Specification\n",
    "In this section, we'll explore how to craft prompts that clearly define the task without providing examples. This is the essence of zero-shot prompting."
   ]
  },
  {
   "cell_type": "code",
   "execution_count": 3,
   "metadata": {},
   "outputs": [
    {
     "name": "stdout",
     "output_type": "stream",
     "text": [
      "Text: I absolutely loved the movie! The acting was superb.\n",
      "Sentiment: Positive\n",
      "Text: The weather today is quite typical for this time of year.\n",
      "Sentiment: Neutral\n",
      "Text: I'm disappointed with the service I received at the restaurant.\n",
      "Sentiment: Negative\n"
     ]
    }
   ],
   "source": [
    "direct_task_prompt = \"\"\"Classify the sentiment of the following text as positive, negative, or neutral.\n",
    "Do not explain your reasoning, just provide the classification.\n",
    "\n",
    "Text: {text}\n",
    "\n",
    "Sentiment:\"\"\"\n",
    "\n",
    "direct_task_chain = create_chain(direct_task_prompt)\n",
    "\n",
    "# Test the direct task specification\n",
    "texts = [\n",
    "    \"I absolutely loved the movie! The acting was superb.\",\n",
    "    \"The weather today is quite typical for this time of year.\",\n",
    "    \"I'm disappointed with the service I received at the restaurant.\"\n",
    "]\n",
    "\n",
    "for text in texts:\n",
    "    result = direct_task_chain.invoke({\"text\": text}).content\n",
    "    print(f\"Text: {text}\")\n",
    "    print(f\"Sentiment: {result}\")"
   ]
  },
  {
   "cell_type": "markdown",
   "id": "d26442ec",
   "metadata": {},
   "source": [
    "### 2. Format Specification\n",
    "Providing output format guidelines in the prompt can help structure the AI's response in a zero-shot scenario."
   ]
  },
  {
   "cell_type": "code",
   "execution_count": 4,
   "metadata": {},
   "outputs": [
    {
     "name": "stdout",
     "output_type": "stream",
     "text": [
      "Headline: Kepler-186f's Cousin? New Exoplanet \"Gaia-b42\" Offers Potential for Life\n",
      "\n",
      "Lead: Astronomers have announced the discovery of a new Earth-like exoplanet, dubbed \"Gaia-b42,\" orbiting a Sun-like star within its habitable zone. This exciting find suggests the potential for liquid water and possibly, life beyond our solar system.\n",
      "\n",
      "Body: Gaia-b42 is approximately 1.2 times the size of Earth and orbits a star similar in age and temperature to our own Sun, but slightly less luminous. The exoplanet's orbital period is estimated to be around 385 Earth days, placing it squarely within the habitable zone, the region around a star where temperatures could allow for liquid water to exist on a planet's surface. Scientists used data from the Gaia space observatory combined with ground-based telescopes to confirm the planet's existence and characterize its properties.\n",
      "\n",
      "Further observations are planned using next-generation telescopes like the James Webb Space Telescope to analyze Gaia-b42's atmosphere and search for potential biosignatures – indicators of life. While the presence of liquid water and a suitable temperature are promising, many other factors, such as atmospheric composition and geological activity, will determine whether Gaia-b42 can truly support life.\n",
      "\n",
      "Conclusion: The discovery of Gaia-b42 marks a significant step forward in the search for habitable worlds, highlighting the ongoing efforts to understand our place in the cosmos.\n"
     ]
    }
   ],
   "source": [
    "format_spec_prompt = \"\"\"Generate a short news article about {topic}.\n",
    "Structure your response in the following format:\n",
    "\n",
    "Headline: [A catchy headline for the article]\n",
    "\n",
    "Lead: [A brief introductory paragraph summarizing the key points]\n",
    "\n",
    "Body: [2-3 short paragraphs providing more details]\n",
    "\n",
    "Conclusion: [A concluding sentence or call to action]\"\"\"\n",
    "\n",
    "format_spec_chain = create_chain(format_spec_prompt)\n",
    "\n",
    "# Test the format specification prompting\n",
    "topic = \"The discovery of a new earth-like exoplanet\"\n",
    "result = format_spec_chain.invoke({\"topic\": topic}).content\n",
    "print(result)"
   ]
  },
  {
   "cell_type": "markdown",
   "id": "a67c327d",
   "metadata": {},
   "source": [
    "### 3. Multi-step Reasoning\n",
    "For complex tasks, we can break them down into simpler zero-shot steps. This approach can improve the overall performance of the model."
   ]
  },
  {
   "cell_type": "code",
   "execution_count": 5,
   "metadata": {},
   "outputs": [
    {
     "name": "stdout",
     "output_type": "stream",
     "text": [
      "Okay, here's the analysis of the provided text, broken down into the requested steps:\n",
      "\n",
      "**1. Main Argument:**\n",
      "\n",
      "The main argument is that **the environmental benefits of electric vehicles are complex and not automatically guaranteed, as their production and operation can have negative environmental impacts that need to be considered alongside the potential benefits for climate change**. The text suggests cautious optimism, acknowledging potential future improvements that could make EVs a more definitively positive force.\n",
      "\n",
      "**2. Supporting Evidence:**\n",
      "\n",
      "*   **Battery Production Requires Mining:** The text points out that the manufacturing of batteries for EVs necessitates extensive mining, which leads to habitat destruction and water pollution.\n",
      "*   **Electricity Source Matters:** The text highlights that if the electricity used to power the EVs comes from fossil fuels, the overall reduction in carbon emissions may be minimal or even negligible.\n",
      "\n",
      "**3. Potential Counterarguments:**\n",
      "\n",
      "*   **Life Cycle Analysis Shows Net Benefit:** A counterargument could be that comprehensive life cycle assessments (LCAs) consistently demonstrate that even with current battery production and electricity grids, EVs generally have a lower overall carbon footprint than internal combustion engine (ICE) vehicles over their entire lifespan.\n",
      "*   **Technological Advancements are Mitigating Issues:** Counterarguments might point to advancements in battery technology (e.g., using more sustainable materials, improving recycling processes) and the increasing share of renewable energy in electricity grids, which are steadily reducing the environmental impact of EVs.\n",
      "*   **Focus on Long-Term Benefits:** A counterargument could emphasize the long-term benefits of transitioning to electric vehicles, such as reduced air pollution in urban areas and the potential for a more sustainable transportation system in the future.\n",
      "*   **Compared to What?**: A counterargument could state that even with their flaws, EVs are still a better alternative to traditional gasoline-powered vehicles, which have a direct and continuous negative impact on the environment through tailpipe emissions. The comparison should be made against the status quo, not against a hypothetical perfectly clean alternative.\n"
     ]
    }
   ],
   "source": [
    "multi_step_prompt = \"\"\"Analyze the following text for its main argument, supporting evidence, and potential counterarguments. \n",
    "Provide your analysis in the following steps:\n",
    "\n",
    "1. Main Argument: Identify and state the primary claim or thesis.\n",
    "2. Supporting Evidence: List the key points or evidence used to support the main argument.\n",
    "3. Potential Counterarguments: Suggest possible objections or alternative viewpoints to the main argument.\n",
    "\n",
    "Text: {text}\n",
    "\n",
    "Analysis:\"\"\"\n",
    "\n",
    "multi_step_chain = create_chain(multi_step_prompt)\n",
    "\n",
    "# Test the multi-step reasoning approach\n",
    "text = \"\"\"While electric vehicles are often touted as a solution to climate change, their environmental impact is not as straightforward as it seems. \n",
    "The production of batteries for electric cars requires significant mining operations, which can lead to habitat destruction and water pollution. \n",
    "Moreover, if the electricity used to charge these vehicles comes from fossil fuel sources, the overall carbon footprint may not be significantly reduced. \n",
    "However, as renewable energy sources become more prevalent and battery technology improves, electric vehicles could indeed play a crucial role in combating climate change.\"\"\"\n",
    "\n",
    "result = multi_step_chain.invoke({\"text\": text}).content\n",
    "print(result)"
   ]
  },
  {
   "cell_type": "markdown",
   "id": "bb47885f",
   "metadata": {},
   "source": [
    "### 4. Comparative Analysis\n",
    "Let's compare different zero-shot prompt structures for the same task to evaluate their effectiveness."
   ]
  },
  {
   "cell_type": "code",
   "execution_count": 6,
   "metadata": {},
   "outputs": [
    {
     "name": "stdout",
     "output_type": "stream",
     "text": [
      "Task: Explain concisely the concept of blockchain technology\n",
      "\n",
      "Basic Prompt Result:\n",
      "Blockchain technology is a decentralized, immutable, and transparent digital ledger.  It records transactions in blocks that are cryptographically linked together, forming a chain. This shared, tamper-proof record makes it secure and reliable for tracking and verifying information.\n",
      "\n",
      "--------------------------------------------------\n",
      "\n",
      "Structured Prompt Result:\n",
      "Okay, here's a concise explanation of blockchain technology:\n",
      "\n",
      "**1. Definition:**\n",
      "\n",
      "A blockchain is a **distributed, immutable, and transparent digital ledger** that records transactions in chronological order, grouped into blocks which are cryptographically linked together, forming a chain.\n",
      "\n",
      "**2. Key Features:**\n",
      "\n",
      "*   **Decentralization:** No single point of control; data is distributed across a network.\n",
      "*   **Immutability:**  Once a block is added, it cannot be altered or deleted.\n",
      "*   **Transparency:**  Transactions are publicly viewable (though identities can be pseudonymous).\n",
      "*   **Security:** Cryptography ensures data integrity and prevents tampering.\n",
      "*   **Consensus Mechanism:** Network participants agree on the validity of transactions.\n",
      "\n",
      "**3. Real-World Applications:**\n",
      "\n",
      "*   **Cryptocurrencies:** Bitcoin, Ethereum, etc.\n",
      "*   **Supply Chain Management:** Tracking goods from origin to consumer.\n",
      "*   **Healthcare:** Securely storing and sharing patient data.\n",
      "*   **Voting Systems:**  More secure and transparent elections.\n",
      "*   **Digital Identity:** Verifying and managing identities online.\n",
      "\n",
      "**4. Potential Impact on Industries:**\n",
      "\n",
      "Blockchain has the potential to:\n",
      "\n",
      "*   **Increase efficiency and reduce costs:** Automating processes and removing intermediaries.\n",
      "*   **Enhance transparency and trust:** Providing verifiable and auditable records.\n",
      "*   **Improve security and prevent fraud:** Making data more resistant to tampering.\n",
      "*   **Create new business models:**  Enabling decentralized finance (DeFi) and other innovative applications.\n",
      "*   **Empower individuals:** Giving greater control over their data and assets.\n",
      "\n",
      "--------------------------------------------------\n",
      "\n"
     ]
    }
   ],
   "source": [
    "def compare_prompts(task, prompt_templates):\n",
    "    \"\"\"\n",
    "    Compare different prompt templates for the same task.\n",
    "    \n",
    "    Args:\n",
    "        task (str): The task description or input.\n",
    "        prompt_templates (dict): A dictionary of prompt templates with their names as keys.\n",
    "    \"\"\"\n",
    "    print(f\"Task: {task}\\n\")\n",
    "    for name, template in prompt_templates.items():\n",
    "        chain = create_chain(template)\n",
    "        result = chain.invoke({\"task\": task}).content\n",
    "        print(f\"{name} Prompt Result:\")\n",
    "        print(result)\n",
    "        print(\"\\n\" + \"-\"*50 + \"\\n\")\n",
    "\n",
    "task = \"Explain concisely the concept of blockchain technology\"\n",
    "\n",
    "prompt_templates = {\n",
    "    \"Basic\": \"Explain {task}.\",\n",
    "    \"Structured\": \"\"\"Explain {task} by addressing the following points:\n",
    "1. Definition\n",
    "2. Key features\n",
    "3. Real-world applications\n",
    "4. Potential impact on industries\"\"\"\n",
    "}\n",
    "\n",
    "compare_prompts(task, prompt_templates)"
   ]
  },
  {
   "cell_type": "code",
   "execution_count": null,
   "metadata": {},
   "outputs": [],
   "source": []
  },
  {
   "cell_type": "code",
   "execution_count": null,
   "metadata": {},
   "outputs": [],
   "source": []
  },
  {
   "cell_type": "code",
   "execution_count": null,
   "metadata": {},
   "outputs": [],
   "source": []
  }
 ],
 "metadata": {
  "kernelspec": {
   "display_name": "base",
   "language": "python",
   "name": "python3"
  },
  "language_info": {
   "codemirror_mode": {
    "name": "ipython",
    "version": 3
   },
   "file_extension": ".py",
   "mimetype": "text/x-python",
   "name": "python",
   "nbconvert_exporter": "python",
   "pygments_lexer": "ipython3",
   "version": "3.12.7"
  }
 },
 "nbformat": 4,
 "nbformat_minor": 5
}
