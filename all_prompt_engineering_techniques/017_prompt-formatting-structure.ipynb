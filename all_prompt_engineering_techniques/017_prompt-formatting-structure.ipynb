{
 "cells": [
  {
   "cell_type": "markdown",
   "id": "386861e9",
   "metadata": {},
   "source": [
    "# Prompt Formatting and Structure Tutorial\n",
    "### Overview\n",
    "This tutorial explores various prompt formats and structural elements in prompt engineering, demonstrating their impact on AI model responses. We'll use Gemini model and the LangChain library to experiment with different prompt structures and analyze their effectiveness.\n",
    "\n",
    "### Motivation\n",
    "Understanding how to format and structure prompts is crucial for effective communication with AI models. Well-structured prompts can significantly improve the quality, relevance, and consistency of AI-generated responses. This tutorial aims to provide practical insights into crafting prompts that elicit desired outcomes across various use cases.\n",
    "\n",
    "### Key Components\n",
    "1. Different prompt formats (Q&A, dialogue, instructions)\n",
    "2. Structural elements (headings, bullet points, numbered lists)\n",
    "3. Comparison of prompt effectiveness\n",
    "4. Best practices for prompt formatting\n",
    "### Method Details\n",
    "We'll use the Gemini API through LangChain to interact with the GPT model. The tutorial will demonstrate:\n",
    "\n",
    "1. Setting up the environment with necessary libraries\n",
    "2. Creating various prompt formats (Q&A, dialogue, instructions)\n",
    "3. Incorporating structural elements like headings and lists\n",
    "4. Comparing responses from different prompt structures\n",
    "\n",
    "Throughout the tutorial, we'll use a consistent theme (e.g., explaining a scientific concept) to showcase how different prompt formats and structures can yield varied results.\n",
    "\n",
    "### Conclusion\n",
    "By the end of this tutorial, you'll have a solid understanding of how prompt formatting and structure influence AI responses. You'll be equipped with practical techniques to craft more effective prompts, enhancing your ability to communicate with and leverage AI models for various applications.\n",
    "\n",
    "### Setup\n",
    "First, let's import the necessary libraries and set up our environment."
   ]
  },
  {
   "cell_type": "code",
   "execution_count": 1,
   "id": "dbcf8baa",
   "metadata": {},
   "outputs": [],
   "source": [
    "import os\n",
    "from langchain_core.prompts import PromptTemplate\n",
    "from langchain_google_genai import ChatGoogleGenerativeAI\n",
    "\n",
    "# Load enviroment variables\n",
    "from dotenv import load_dotenv\n",
    "load_dotenv()\n",
    "\n",
    "# Set up Google API key\n",
    "os.environ[\"GOOGLE_API_KEY\"] = os.getenv(\"GOOGLE_API_KEY\")\n",
    "\n",
    "# Initialize the language model\n",
    "llm = ChatGoogleGenerativeAI(model=\"gemini-2.0-flash\")\n",
    "\n",
    "def get_response(prompt):\n",
    "    \"\"\"Helper function to get model response and print it.\"\"\"\n",
    "    response = llm.invoke(prompt).content\n",
    "    print(response)\n",
    "    print(\"-\" * 50)\n",
    "    return response"
   ]
  },
  {
   "cell_type": "markdown",
   "id": "5c52cb72",
   "metadata": {},
   "source": [
    "### Exploring Different Prompt Formats\n",
    "Let's explore various prompt formats using the topic of photosynthesis as our consistent theme.\n",
    "\n",
    "#### 1. Question and Answer (Q&A) Format"
   ]
  },
  {
   "cell_type": "code",
   "execution_count": 2,
   "id": "36fc4d60",
   "metadata": {},
   "outputs": [
    {
     "name": "stdout",
     "output_type": "stream",
     "text": [
      "Photosynthesis is the process by which plants, algae, and some bacteria convert light energy into chemical energy in the form of sugars (glucose), using water and carbon dioxide, and releasing oxygen as a byproduct.\n",
      "--------------------------------------------------\n"
     ]
    },
    {
     "data": {
      "text/plain": [
       "'Photosynthesis is the process by which plants, algae, and some bacteria convert light energy into chemical energy in the form of sugars (glucose), using water and carbon dioxide, and releasing oxygen as a byproduct.'"
      ]
     },
     "execution_count": 2,
     "metadata": {},
     "output_type": "execute_result"
    }
   ],
   "source": [
    "qa_prompt = \"\"\"Q: What is photosynthesis?\n",
    "A:\"\"\"\n",
    "\n",
    "get_response(qa_prompt)"
   ]
  },
  {
   "cell_type": "markdown",
   "id": "774856b4",
   "metadata": {},
   "source": [
    "### 2. Dialogue Format"
   ]
  },
  {
   "cell_type": "code",
   "execution_count": 3,
   "id": "3f385cfb",
   "metadata": {},
   "outputs": [
    {
     "name": "stdout",
     "output_type": "stream",
     "text": [
      "Okay, back to your question. A plant needs a few key things for photosynthesis to happen. It needs:\n",
      "\n",
      "*   **Sunlight:** This is the energy source that powers the whole process.\n",
      "*   **Carbon Dioxide (CO2):** Plants take this in from the air through tiny pores on their leaves called stomata.\n",
      "*   **Water (H2O):** Plants absorb water through their roots.\n",
      "*   **Chlorophyll:** This is the green pigment found in the chloroplasts of plant cells. It captures the sunlight's energy.\n",
      "\n",
      "So, to summarize, it needs **sunlight, carbon dioxide, water, and chlorophyll.**\n",
      "--------------------------------------------------\n"
     ]
    },
    {
     "data": {
      "text/plain": [
       "\"Okay, back to your question. A plant needs a few key things for photosynthesis to happen. It needs:\\n\\n*   **Sunlight:** This is the energy source that powers the whole process.\\n*   **Carbon Dioxide (CO2):** Plants take this in from the air through tiny pores on their leaves called stomata.\\n*   **Water (H2O):** Plants absorb water through their roots.\\n*   **Chlorophyll:** This is the green pigment found in the chloroplasts of plant cells. It captures the sunlight's energy.\\n\\nSo, to summarize, it needs **sunlight, carbon dioxide, water, and chlorophyll.**\""
      ]
     },
     "execution_count": 3,
     "metadata": {},
     "output_type": "execute_result"
    }
   ],
   "source": [
    "dialogue_prompt = \"\"\"Student: Can you explain photosynthesis to me?\n",
    "Teacher: Certainly! Photosynthesis is...\n",
    "Student: What does a plant need for photosynthesis?\n",
    "Teacher:\"\"\"\n",
    "\n",
    "get_response(dialogue_prompt)"
   ]
  },
  {
   "cell_type": "markdown",
   "id": "9b3551e6",
   "metadata": {},
   "source": [
    "### 3. Instruction Format"
   ]
  },
  {
   "cell_type": "code",
   "execution_count": 4,
   "id": "8aad96a9",
   "metadata": {},
   "outputs": [
    {
     "name": "stdout",
     "output_type": "stream",
     "text": [
      "Photosynthesis is the process by which plants, algae, and some bacteria convert light energy into chemical energy in the form of sugars (glucose).\n",
      "\n",
      "**Main Components:**\n",
      "\n",
      "*   **Sunlight:** Provides the energy needed for the process.\n",
      "*   **Chlorophyll:** A pigment in chloroplasts that absorbs sunlight.\n",
      "*   **Carbon Dioxide (CO2):** Absorbed from the atmosphere.\n",
      "*   **Water (H2O):** Absorbed from the soil.\n",
      "*   **Chloroplasts:** Organelles within plant cells where photosynthesis takes place.\n",
      "\n",
      "**Process (Simplified):**\n",
      "\n",
      "Plants use sunlight to convert CO2 and H2O into glucose (sugar) and oxygen (O2). The glucose is used as food for the plant, and the oxygen is released into the atmosphere.\n",
      "\n",
      "**Importance:**\n",
      "\n",
      "*   **Primary Energy Source:** Photosynthesis is the foundation of most food chains, providing energy for almost all life on Earth.\n",
      "*   **Oxygen Production:** It produces the oxygen we breathe.\n",
      "*   **Carbon Dioxide Removal:** It removes carbon dioxide from the atmosphere, helping to regulate the climate.\n",
      "*   **Foundation of Ecosystems:** It supports entire ecosystems by providing food and habitat.\n",
      "--------------------------------------------------\n"
     ]
    },
    {
     "data": {
      "text/plain": [
       "'Photosynthesis is the process by which plants, algae, and some bacteria convert light energy into chemical energy in the form of sugars (glucose).\\n\\n**Main Components:**\\n\\n*   **Sunlight:** Provides the energy needed for the process.\\n*   **Chlorophyll:** A pigment in chloroplasts that absorbs sunlight.\\n*   **Carbon Dioxide (CO2):** Absorbed from the atmosphere.\\n*   **Water (H2O):** Absorbed from the soil.\\n*   **Chloroplasts:** Organelles within plant cells where photosynthesis takes place.\\n\\n**Process (Simplified):**\\n\\nPlants use sunlight to convert CO2 and H2O into glucose (sugar) and oxygen (O2). The glucose is used as food for the plant, and the oxygen is released into the atmosphere.\\n\\n**Importance:**\\n\\n*   **Primary Energy Source:** Photosynthesis is the foundation of most food chains, providing energy for almost all life on Earth.\\n*   **Oxygen Production:** It produces the oxygen we breathe.\\n*   **Carbon Dioxide Removal:** It removes carbon dioxide from the atmosphere, helping to regulate the climate.\\n*   **Foundation of Ecosystems:** It supports entire ecosystems by providing food and habitat.'"
      ]
     },
     "execution_count": 4,
     "metadata": {},
     "output_type": "execute_result"
    }
   ],
   "source": [
    "instruction_prompt = \"\"\"Provide a brief explanation of photosynthesis, including its main components and importance.\"\"\"\n",
    "\n",
    "get_response(instruction_prompt)"
   ]
  },
  {
   "cell_type": "markdown",
   "id": "37fe18c2",
   "metadata": {},
   "source": [
    "### Impact of Structural Elements\n",
    "Now, let's examine how structural elements like headings and lists affect the AI's response.\n",
    "\n",
    "#### 1. Using Headings"
   ]
  },
  {
   "cell_type": "code",
   "execution_count": 5,
   "id": "66b70428",
   "metadata": {},
   "outputs": [
    {
     "name": "stdout",
     "output_type": "stream",
     "text": [
      "Okay, here's an explanation of photosynthesis structured according to your request:\n",
      "\n",
      "# Definition\n",
      "\n",
      "Photosynthesis is the process by which green plants, algae, and some bacteria convert light energy into chemical energy in the form of glucose (a sugar).  This glucose is then used as food for the organism, providing energy for growth, development, and other life processes.  Essentially, it's the process of using sunlight to create sugar from carbon dioxide and water.\n",
      "\n",
      "# Process\n",
      "\n",
      "The process of photosynthesis can be broken down into two main stages:\n",
      "\n",
      "*   **Light-Dependent Reactions (Light Reactions):**\n",
      "    *   These reactions occur in the thylakoid membranes within the chloroplasts (the organelles where photosynthesis takes place).\n",
      "    *   **Light Absorption:** Chlorophyll, the pigment that gives plants their green color, absorbs light energy (primarily red and blue wavelengths).\n",
      "    *   **Water Splitting:** This light energy is used to split water molecules (H₂O) into oxygen (O₂), protons (H⁺), and electrons (e⁻). Oxygen is released as a byproduct.\n",
      "    *   **Electron Transport Chain:** The electrons move through a series of protein complexes (the electron transport chain), releasing energy along the way. This energy is used to pump protons (H⁺) into the thylakoid space, creating a proton gradient.\n",
      "    *   **ATP and NADPH Production:** The proton gradient drives the production of ATP (adenosine triphosphate), an energy-carrying molecule, through a process called chemiosmosis.  Electrons are also used to reduce NADP⁺ to NADPH, another energy-carrying molecule.  ATP and NADPH are essential for the next stage.\n",
      "\n",
      "*   **Light-Independent Reactions (Calvin Cycle or Dark Reactions):**\n",
      "    *   These reactions occur in the stroma, the fluid-filled space surrounding the thylakoids within the chloroplasts.\n",
      "    *   **Carbon Fixation:**  Carbon dioxide (CO₂) from the atmosphere is incorporated (fixed) into an organic molecule called RuBP (ribulose-1,5-bisphosphate) with the help of the enzyme RuBisCO.\n",
      "    *   **Reduction:** The resulting molecule is unstable and immediately breaks down into two molecules of 3-PGA (3-phosphoglycerate).  ATP and NADPH (produced during the light-dependent reactions) are then used to convert 3-PGA into G3P (glyceraldehyde-3-phosphate).\n",
      "    *   **Regeneration:** Some G3P molecules are used to create glucose, while others are used to regenerate RuBP, allowing the cycle to continue.\n",
      "\n",
      "**Overall Equation:**\n",
      "\n",
      "6CO₂ + 6H₂O + Light Energy → C₆H₁₂O₆ + 6O₂\n",
      "\n",
      "Carbon Dioxide + Water + Light Energy → Glucose + Oxygen\n",
      "\n",
      "# Importance\n",
      "\n",
      "Photosynthesis is critically important for several reasons:\n",
      "\n",
      "*   **Primary Source of Energy for Life:**  It's the foundation of most food chains.  Plants, as primary producers, create their own food (glucose) through photosynthesis.  Herbivores eat plants, and carnivores eat herbivores, transferring that energy up the food chain.  Without photosynthesis, most life on Earth would not exist.\n",
      "*   **Oxygen Production:**  Photosynthesis is the primary source of oxygen in the Earth's atmosphere.  The oxygen we breathe is a byproduct of the splitting of water molecules during the light-dependent reactions.  This oxygen is essential for respiration, the process by which animals and many other organisms convert glucose into energy.\n",
      "*   **Carbon Dioxide Removal:** Photosynthesis removes carbon dioxide from the atmosphere.  Carbon dioxide is a greenhouse gas, and excessive levels contribute to climate change.  By absorbing CO₂, plants help regulate the Earth's climate.\n",
      "*   **Fuel Source:** Photosynthesis-derived biomass (e.g., wood, crops) is a significant source of fuel for humans, either directly (burning wood) or indirectly (fossil fuels, which are formed from ancient plant matter).\n",
      "*   **Foundation for Ecosystems:** Photosynthesis supports entire ecosystems by providing the energy and organic matter needed for all other organisms within those ecosystems to survive.\n",
      "--------------------------------------------------\n"
     ]
    },
    {
     "data": {
      "text/plain": [
       "\"Okay, here's an explanation of photosynthesis structured according to your request:\\n\\n# Definition\\n\\nPhotosynthesis is the process by which green plants, algae, and some bacteria convert light energy into chemical energy in the form of glucose (a sugar).  This glucose is then used as food for the organism, providing energy for growth, development, and other life processes.  Essentially, it's the process of using sunlight to create sugar from carbon dioxide and water.\\n\\n# Process\\n\\nThe process of photosynthesis can be broken down into two main stages:\\n\\n*   **Light-Dependent Reactions (Light Reactions):**\\n    *   These reactions occur in the thylakoid membranes within the chloroplasts (the organelles where photosynthesis takes place).\\n    *   **Light Absorption:** Chlorophyll, the pigment that gives plants their green color, absorbs light energy (primarily red and blue wavelengths).\\n    *   **Water Splitting:** This light energy is used to split water molecules (H₂O) into oxygen (O₂), protons (H⁺), and electrons (e⁻). Oxygen is released as a byproduct.\\n    *   **Electron Transport Chain:** The electrons move through a series of protein complexes (the electron transport chain), releasing energy along the way. This energy is used to pump protons (H⁺) into the thylakoid space, creating a proton gradient.\\n    *   **ATP and NADPH Production:** The proton gradient drives the production of ATP (adenosine triphosphate), an energy-carrying molecule, through a process called chemiosmosis.  Electrons are also used to reduce NADP⁺ to NADPH, another energy-carrying molecule.  ATP and NADPH are essential for the next stage.\\n\\n*   **Light-Independent Reactions (Calvin Cycle or Dark Reactions):**\\n    *   These reactions occur in the stroma, the fluid-filled space surrounding the thylakoids within the chloroplasts.\\n    *   **Carbon Fixation:**  Carbon dioxide (CO₂) from the atmosphere is incorporated (fixed) into an organic molecule called RuBP (ribulose-1,5-bisphosphate) with the help of the enzyme RuBisCO.\\n    *   **Reduction:** The resulting molecule is unstable and immediately breaks down into two molecules of 3-PGA (3-phosphoglycerate).  ATP and NADPH (produced during the light-dependent reactions) are then used to convert 3-PGA into G3P (glyceraldehyde-3-phosphate).\\n    *   **Regeneration:** Some G3P molecules are used to create glucose, while others are used to regenerate RuBP, allowing the cycle to continue.\\n\\n**Overall Equation:**\\n\\n6CO₂ + 6H₂O + Light Energy → C₆H₁₂O₆ + 6O₂\\n\\nCarbon Dioxide + Water + Light Energy → Glucose + Oxygen\\n\\n# Importance\\n\\nPhotosynthesis is critically important for several reasons:\\n\\n*   **Primary Source of Energy for Life:**  It's the foundation of most food chains.  Plants, as primary producers, create their own food (glucose) through photosynthesis.  Herbivores eat plants, and carnivores eat herbivores, transferring that energy up the food chain.  Without photosynthesis, most life on Earth would not exist.\\n*   **Oxygen Production:**  Photosynthesis is the primary source of oxygen in the Earth's atmosphere.  The oxygen we breathe is a byproduct of the splitting of water molecules during the light-dependent reactions.  This oxygen is essential for respiration, the process by which animals and many other organisms convert glucose into energy.\\n*   **Carbon Dioxide Removal:** Photosynthesis removes carbon dioxide from the atmosphere.  Carbon dioxide is a greenhouse gas, and excessive levels contribute to climate change.  By absorbing CO₂, plants help regulate the Earth's climate.\\n*   **Fuel Source:** Photosynthesis-derived biomass (e.g., wood, crops) is a significant source of fuel for humans, either directly (burning wood) or indirectly (fossil fuels, which are formed from ancient plant matter).\\n*   **Foundation for Ecosystems:** Photosynthesis supports entire ecosystems by providing the energy and organic matter needed for all other organisms within those ecosystems to survive.\""
      ]
     },
     "execution_count": 5,
     "metadata": {},
     "output_type": "execute_result"
    }
   ],
   "source": [
    "headings_prompt = \"\"\"Explain photosynthesis using the following structure:\n",
    "\n",
    "# Definition\n",
    "\n",
    "# Process\n",
    "\n",
    "# Importance\n",
    "\"\"\"\n",
    "\n",
    "get_response(headings_prompt)"
   ]
  },
  {
   "cell_type": "markdown",
   "id": "7331d152",
   "metadata": {},
   "source": [
    "#### 2. Using Bullet Points"
   ]
  },
  {
   "cell_type": "code",
   "execution_count": 6,
   "id": "24988287",
   "metadata": {},
   "outputs": [
    {
     "name": "stdout",
     "output_type": "stream",
     "text": [
      "Here are the key components needed for photosynthesis:\n",
      "\n",
      "*   **Carbon Dioxide (CO2)**\n",
      "*   **Water (H2O)**\n",
      "*   **Sunlight (Light Energy)**\n",
      "--------------------------------------------------\n"
     ]
    },
    {
     "data": {
      "text/plain": [
       "'Here are the key components needed for photosynthesis:\\n\\n*   **Carbon Dioxide (CO2)**\\n*   **Water (H2O)**\\n*   **Sunlight (Light Energy)**'"
      ]
     },
     "execution_count": 6,
     "metadata": {},
     "output_type": "execute_result"
    }
   ],
   "source": [
    "bullet_points_prompt = \"\"\"List the key components needed for photosynthesis:\n",
    "\n",
    "• \n",
    "• \n",
    "• \n",
    "\"\"\"\n",
    "\n",
    "get_response(bullet_points_prompt)"
   ]
  },
  {
   "cell_type": "markdown",
   "id": "cffdc222",
   "metadata": {},
   "source": [
    "#### 3. Using Numbered Lists"
   ]
  },
  {
   "cell_type": "code",
   "execution_count": 7,
   "id": "17545933",
   "metadata": {},
   "outputs": [
    {
     "name": "stdout",
     "output_type": "stream",
     "text": [
      "Okay, here are the simplified steps of photosynthesis in order:\n",
      "\n",
      "1.  **Light-Dependent Reactions (also known as the Light Reactions):** Chlorophyll and other pigments in the thylakoid membranes of chloroplasts absorb light energy. This light energy is used to split water molecules (H₂O) into protons (H+), electrons, and oxygen (O₂).  The oxygen is released as a byproduct.  The light energy also drives the production of ATP (energy currency) and NADPH (a reducing agent).\n",
      "\n",
      "2.  **Electron Transport Chain:** The high-energy electrons released from water are passed along a series of proteins in the thylakoid membrane called the electron transport chain.  As the electrons move down the chain, energy is released and used to pump protons (H+) into the thylakoid space, creating a proton gradient.\n",
      "\n",
      "3.  **Chemiosmosis:** The proton gradient created in the previous step drives the movement of protons (H+) back across the thylakoid membrane through an enzyme called ATP synthase. This movement provides the energy to convert ADP into ATP. This process is called chemiosmosis.\n",
      "\n",
      "4.  **Light-Independent Reactions (also known as the Calvin Cycle):** This cycle takes place in the stroma of the chloroplast.  Carbon dioxide (CO₂) from the atmosphere is \"fixed\" (incorporated) into an organic molecule.  The ATP and NADPH produced during the light-dependent reactions provide the energy and reducing power needed to convert the fixed carbon dioxide into glucose (a sugar).  The cycle regenerates its starting molecule to continue the process.\n",
      "--------------------------------------------------\n"
     ]
    },
    {
     "data": {
      "text/plain": [
       "'Okay, here are the simplified steps of photosynthesis in order:\\n\\n1.  **Light-Dependent Reactions (also known as the Light Reactions):** Chlorophyll and other pigments in the thylakoid membranes of chloroplasts absorb light energy. This light energy is used to split water molecules (H₂O) into protons (H+), electrons, and oxygen (O₂).  The oxygen is released as a byproduct.  The light energy also drives the production of ATP (energy currency) and NADPH (a reducing agent).\\n\\n2.  **Electron Transport Chain:** The high-energy electrons released from water are passed along a series of proteins in the thylakoid membrane called the electron transport chain.  As the electrons move down the chain, energy is released and used to pump protons (H+) into the thylakoid space, creating a proton gradient.\\n\\n3.  **Chemiosmosis:** The proton gradient created in the previous step drives the movement of protons (H+) back across the thylakoid membrane through an enzyme called ATP synthase. This movement provides the energy to convert ADP into ATP. This process is called chemiosmosis.\\n\\n4.  **Light-Independent Reactions (also known as the Calvin Cycle):** This cycle takes place in the stroma of the chloroplast.  Carbon dioxide (CO₂) from the atmosphere is \"fixed\" (incorporated) into an organic molecule.  The ATP and NADPH produced during the light-dependent reactions provide the energy and reducing power needed to convert the fixed carbon dioxide into glucose (a sugar).  The cycle regenerates its starting molecule to continue the process.'"
      ]
     },
     "execution_count": 7,
     "metadata": {},
     "output_type": "execute_result"
    }
   ],
   "source": [
    "numbered_list_prompt = \"\"\"Describe the steps of photosynthesis in order:\n",
    "\n",
    "1.\n",
    "2.\n",
    "3.\n",
    "4.\n",
    "\"\"\"\n",
    "\n",
    "get_response(numbered_list_prompt)"
   ]
  },
  {
   "cell_type": "markdown",
   "id": "89bd221f",
   "metadata": {},
   "source": [
    "#### Comparing Prompt Effectiveness\n",
    "Let's compare the effectiveness of different prompt structures for a specific task."
   ]
  },
  {
   "cell_type": "code",
   "execution_count": 8,
   "id": "6518d4f2",
   "metadata": {},
   "outputs": [
    {
     "name": "stdout",
     "output_type": "stream",
     "text": [
      "Prompt 1:\n",
      "Photosynthesis is arguably the most important biological process on Earth, and its importance for life cannot be overstated. Here's why:\n",
      "\n",
      "**1. Production of Oxygen (O2):**\n",
      "\n",
      "*   The most well-known and vital aspect is the production of oxygen. Photosynthesis uses sunlight, water, and carbon dioxide to create glucose (sugar) and oxygen.\n",
      "*   **Oxygen is essential for respiration:**  Almost all complex life forms (animals, fungi, most bacteria) rely on aerobic respiration, which uses oxygen to break down food (glucose) and release energy. Without oxygen produced by photosynthesis, these organisms could not survive.\n",
      "*   **Formation of the Ozone Layer:**  Oxygen released into the atmosphere eventually led to the formation of the ozone layer in the stratosphere. The ozone layer absorbs harmful ultraviolet (UV) radiation from the sun, protecting life on Earth from its damaging effects.  Without photosynthesis, the ozone layer wouldn't exist, and life on land would be severely limited.\n",
      "\n",
      "**2. Primary Production of Food (Glucose):**\n",
      "\n",
      "*   Photosynthesis is the foundation of nearly all food webs on Earth. Plants, algae, and some bacteria (photosynthetic organisms) are the **primary producers**.\n",
      "*   **Glucose as the Energy Source:**  They use the energy from sunlight to convert carbon dioxide and water into glucose (a type of sugar), which serves as their food source. This glucose is then used for growth, reproduction, and other life processes.\n",
      "*   **Base of the Food Chain:**  Herbivores (plant-eating animals) consume these primary producers, obtaining the energy stored in the glucose. Carnivores then eat the herbivores, and so on.  Ultimately, all the energy in almost all ecosystems originates from photosynthesis.\n",
      "\n",
      "**3. Carbon Dioxide Removal (CO2 Sequestration):**\n",
      "\n",
      "*   Photosynthesis plays a critical role in regulating the Earth's climate by removing carbon dioxide (CO2) from the atmosphere.\n",
      "*   **Greenhouse Gas Regulation:** CO2 is a major greenhouse gas, and its concentration in the atmosphere directly affects global temperatures.  By absorbing CO2, photosynthesis helps to mitigate the greenhouse effect and keep the Earth's climate within a habitable range.\n",
      "*   **Carbon Cycle:**  Photosynthesis is a vital part of the global carbon cycle.  It removes carbon from the atmosphere and incorporates it into plant biomass. This carbon is then transferred through the food web and eventually released back into the atmosphere through respiration and decomposition.\n",
      "\n",
      "**4. Indirect Benefits:**\n",
      "\n",
      "*   **Soil Formation:**  Photosynthetic organisms (especially plants) contribute to soil formation through the decomposition of their dead organic matter.  This organic matter improves soil structure, water retention, and nutrient availability.\n",
      "*   **Habitat Creation:**  Plants and other photosynthetic organisms create habitats and provide shelter for countless other species.  Forests, grasslands, and aquatic ecosystems all rely on the structure and resources provided by photosynthetic organisms.\n",
      "*   **Fossil Fuels:** Fossil fuels (coal, oil, and natural gas) are formed from the remains of ancient photosynthetic organisms.  These fuels have been a major source of energy for human civilization, although their use is now contributing to climate change.\n",
      "\n",
      "**In Summary:**\n",
      "\n",
      "Photosynthesis is essential for life on Earth because it:\n",
      "\n",
      "*   Produces oxygen, which is necessary for respiration by most organisms.\n",
      "*   Forms the base of the food web by producing glucose, the primary energy source for ecosystems.\n",
      "*   Removes carbon dioxide from the atmosphere, helping to regulate the Earth's climate.\n",
      "*   Contributes to soil formation, habitat creation, and the formation of fossil fuels.\n",
      "\n",
      "Without photosynthesis, the Earth would be a very different, and likely uninhabitable, place.\n",
      "--------------------------------------------------\n",
      "Prompt 2:\n",
      "Okay, here's an explanation of the importance of photosynthesis for life on Earth, structured as requested:\n",
      "\n",
      "**1. Oxygen Production:**\n",
      "\n",
      "Photosynthesis is the *primary* source of oxygen in Earth's atmosphere.  The process takes in carbon dioxide and water, and using sunlight as an energy source, converts them into glucose (sugar) and oxygen. The oxygen is released as a byproduct. Before the evolution of photosynthetic organisms (primarily cyanobacteria and later plants), the Earth's atmosphere contained very little free oxygen. The gradual build-up of oxygen, thanks to photosynthesis, allowed for the evolution of aerobic respiration, a much more efficient way of producing energy for organisms.  Aerobic respiration is the basis for the vast majority of complex life we see today, including animals, fungi, and many microorganisms. Without photosynthesis constantly replenishing the atmospheric oxygen, the oxygen levels would quickly decline due to respiration and other oxidative processes, making it impossible for most complex life to survive.\n",
      "\n",
      "**2. Food Chain Support:**\n",
      "\n",
      "Photosynthesis forms the foundation of nearly all food chains on Earth.  Photosynthetic organisms, also known as *producers* or *autotrophs*, are able to create their own food (glucose) from inorganic sources (carbon dioxide and water) using sunlight. This glucose provides energy for the producers to grow, reproduce, and carry out their life processes.  These producers are then consumed by *primary consumers* (herbivores), who obtain energy and nutrients from the plants.  Primary consumers are then eaten by *secondary consumers* (carnivores or omnivores), and so on, creating a food chain or web.  Essentially, all the energy that flows through these ecosystems originates from the sun and is captured initially by photosynthetic organisms. Without photosynthesis, there would be no primary producers, and the entire food web would collapse. Heterotrophic organisms would have no source of energy or organic molecules to sustain themselves.\n",
      "\n",
      "**3. Carbon Dioxide Absorption:**\n",
      "\n",
      "Photosynthesis plays a critical role in regulating the Earth's climate by absorbing carbon dioxide (CO2) from the atmosphere. Carbon dioxide is a greenhouse gas, meaning it traps heat and contributes to global warming. Photosynthetic organisms act as a \"carbon sink,\" removing CO2 from the atmosphere and incorporating it into their biomass (leaves, stems, roots, etc.) as sugars and other organic molecules.  A significant portion of this carbon is then stored in long-lived plant structures like wood, or in the soil as organic matter. By removing CO2, photosynthesis helps to mitigate the greenhouse effect and maintain a stable global temperature. Deforestation and other activities that reduce the number of photosynthetic organisms can lead to an increase in atmospheric CO2 levels, accelerating climate change. Therefore, maintaining and promoting photosynthesis through healthy ecosystems is crucial for regulating the carbon cycle and mitigating climate change.\n",
      "--------------------------------------------------\n",
      "Prompt 3:\n",
      "A: Photosynthesis is crucial for life on Earth because:\n",
      "\n",
      "1.  **It produces oxygen:** Photosynthesis uses sunlight, water, and carbon dioxide to create glucose (sugar) for energy, and as a byproduct, it releases oxygen (O2) into the atmosphere. This oxygen is essential for the respiration of most living organisms, including animals, plants, and many microorganisms.\n",
      "\n",
      "2.  **It is the primary source of energy for most food chains:** Photosynthetic organisms, such as plants, algae, and cyanobacteria, are the primary producers in most ecosystems. They convert light energy into chemical energy in the form of glucose. This glucose forms the base of the food chain, providing energy for herbivores that eat plants, and then for carnivores that eat herbivores, and so on.\n",
      "\n",
      "3.  **It removes carbon dioxide from the atmosphere:** Photosynthesis absorbs carbon dioxide (CO2) from the atmosphere and uses it to create glucose. Carbon dioxide is a greenhouse gas, and excessive amounts of it contribute to climate change. By removing CO2, photosynthesis helps regulate the Earth's climate and maintain a stable environment.\n",
      "--------------------------------------------------\n"
     ]
    }
   ],
   "source": [
    "comparison_prompts = [\n",
    "    \"Explain the importance of photosynthesis for life on Earth.\",\n",
    "    \"\"\"Explain the importance of photosynthesis for life on Earth. Structure your answer as follows:\n",
    "    1. Oxygen production\n",
    "    2. Food chain support\n",
    "    3. Carbon dioxide absorption\"\"\",\n",
    "    \"\"\"Q: Why is photosynthesis important for life on Earth?\n",
    "    A: Photosynthesis is crucial for life on Earth because:\n",
    "    1.\n",
    "    2.\n",
    "    3.\"\"\"\n",
    "]\n",
    "\n",
    "for i, prompt in enumerate(comparison_prompts, 1):\n",
    "    print(f\"Prompt {i}:\")\n",
    "    get_response(prompt)"
   ]
  },
  {
   "cell_type": "code",
   "execution_count": null,
   "id": "cd0b3990",
   "metadata": {},
   "outputs": [],
   "source": []
  }
 ],
 "metadata": {
  "kernelspec": {
   "display_name": "base",
   "language": "python",
   "name": "python3"
  },
  "language_info": {
   "codemirror_mode": {
    "name": "ipython",
    "version": 3
   },
   "file_extension": ".py",
   "mimetype": "text/x-python",
   "name": "python",
   "nbconvert_exporter": "python",
   "pygments_lexer": "ipython3",
   "version": "3.12.7"
  }
 },
 "nbformat": 4,
 "nbformat_minor": 5
}
