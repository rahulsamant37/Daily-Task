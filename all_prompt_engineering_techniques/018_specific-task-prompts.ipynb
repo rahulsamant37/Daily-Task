{
 "cells": [
  {
   "cell_type": "markdown",
   "id": "25610452",
   "metadata": {},
   "source": [
    "# Prompts for Specific Tasks\n",
    "### Overview\n",
    "This tutorial explores the creation and use of prompts for specific tasks in natural language processing. We'll focus on four key areas: text summarization, question-answering, code generation, and creative writing. Using Gemini model and the LangChain library, we'll demonstrate how to craft effective prompts for each of these tasks.\n",
    "\n",
    "### Motivation\n",
    "As language models become more advanced, the ability to design task-specific prompts becomes increasingly valuable. Well-crafted prompts can significantly enhance the performance of AI models across various applications, from summarizing long documents to generating code and fostering creativity in writing. This tutorial aims to provide practical insights into prompt engineering for these diverse tasks.\n",
    "\n",
    "### Key Components\n",
    "1. Text Summarization Prompts: Techniques for condensing long texts while retaining key information.\n",
    "2. Question-Answering Prompts: Strategies for extracting specific information from given contexts.\n",
    "3. Code Generation Prompts: Methods for guiding AI models to produce accurate and functional code.\n",
    "4. Creative Writing Prompts: Approaches to stimulating imaginative and engaging written content.\n",
    "### Method Details\n",
    "This tutorial uses the Gemini model through the LangChain library. For each task type, we'll follow these steps:\n",
    "\n",
    "1. Design a prompt template tailored to the specific task.\n",
    "2. Implement the prompt using LangChain's PromptTemplate.\n",
    "3. Execute the prompt with sample inputs.\n",
    "4. Analyze the output and discuss potential improvements or variations.\n",
    "\n",
    "We'll explore how different prompt structures and phrasings can influence the model's output for each task type. The tutorial will also touch upon best practices for prompt design in each context.\n",
    "\n",
    "### Conclusion\n",
    "By the end of this tutorial, you'll have a solid understanding of how to create effective prompts for text summarization, question-answering, code generation, and creative writing tasks. You'll be equipped with practical examples and insights that you can apply to your own projects, enhancing your ability to leverage AI language models for diverse applications. Remember that prompt engineering is both an art and a science - experimentation and iteration are key to finding the most effective prompts for your specific needs.\n",
    "\n",
    "### Setup\n",
    "First, let's import the necessary libraries and set up our environment."
   ]
  },
  {
   "cell_type": "code",
   "execution_count": 2,
   "id": "6a81ac15",
   "metadata": {},
   "outputs": [],
   "source": [
    "import os\n",
    "from langchain_core.prompts import PromptTemplate\n",
    "from langchain_google_genai import ChatGoogleGenerativeAI\n",
    "\n",
    "# Load enviroment variables\n",
    "from dotenv import load_dotenv\n",
    "load_dotenv()\n",
    "\n",
    "# Set up Google API key\n",
    "os.environ[\"GOOGLE_API_KEY\"] = os.getenv(\"GOOGLE_API_KEY\")\n",
    "\n",
    "# Initialize the language model\n",
    "llm = ChatGoogleGenerativeAI(model=\"gemini-2.0-flash\")"
   ]
  },
  {
   "cell_type": "markdown",
   "id": "84d07949",
   "metadata": {},
   "source": [
    "### 1. Text Summarization Prompts\n",
    "Let's start with creating a prompt for text summarization. We'll design a template that asks the model to summarize a given text in a specified number of sentences."
   ]
  },
  {
   "cell_type": "code",
   "execution_count": 3,
   "id": "03837915",
   "metadata": {},
   "outputs": [
    {
     "name": "stdout",
     "output_type": "stream",
     "text": [
      "Summary:\n",
      "Artificial intelligence (AI) is machine-based intelligence that aims to create systems that perceive their environment and act rationally to achieve goals. The definition of AI has evolved from mimicking human cognitive skills to focusing on rationality and effective action, broadening its scope. AI is applied in various fields, including web search, autonomous vehicles, and strategic games, but tasks once considered AI are often reclassified as machines become more capable.\n"
     ]
    }
   ],
   "source": [
    "# Create a prompt template for text summarization\n",
    "summarization_template = PromptTemplate(\n",
    "    input_variables=[\"text\", \"num_sentences\"],\n",
    "    template=\"Summarize the following text in {num_sentences} sentences:\\n\\n{text}\"\n",
    ")\n",
    "\n",
    "# Example text to summarize\n",
    "long_text = \"\"\"\n",
    "Artificial intelligence (AI) is intelligence demonstrated by machines, as opposed to natural intelligence displayed by animals including humans. \n",
    "AI research has been defined as the field of study of intelligent agents, which refers to any system that perceives its environment and takes actions that maximize its chance of achieving its goals.\n",
    "The term \"artificial intelligence\" had previously been used to describe machines that mimic and display \"human\" cognitive skills that are associated with the human mind, such as \"learning\" and \"problem-solving\". \n",
    "This definition has since been rejected by major AI researchers who now describe AI in terms of rationality and acting rationally, which does not limit how intelligence can be articulated.\n",
    "AI applications include advanced web search engines, recommendation systems, understanding human speech, self-driving cars, automated decision-making and competing at the highest level in strategic game systems.\n",
    "As machines become increasingly capable, tasks considered to require \"intelligence\" are often removed from the definition of AI, a phenomenon known as the AI effect.\n",
    "\"\"\"\n",
    "\n",
    "# Create the chain and run it\n",
    "summarization_chain = summarization_template | llm\n",
    "summary = summarization_chain.invoke({\"text\": long_text, \"num_sentences\": 3}).content\n",
    "\n",
    "print(\"Summary:\")\n",
    "print(summary)"
   ]
  },
  {
   "cell_type": "markdown",
   "id": "1f603009",
   "metadata": {},
   "source": [
    "### 2. Question-Answering Prompts\n",
    "Next, let's create a prompt for question-answering tasks. We'll design a template that takes a context and a question as inputs."
   ]
  },
  {
   "cell_type": "code",
   "execution_count": 4,
   "id": "cbb0bbc2",
   "metadata": {},
   "outputs": [
    {
     "name": "stdout",
     "output_type": "stream",
     "text": [
      "Answer:\n",
      "The Eiffel Tower is 324 metres (1,063 ft) tall, about the same height as an 81-storey building.\n"
     ]
    }
   ],
   "source": [
    "# Create a prompt template for question-answering\n",
    "qa_template = PromptTemplate(\n",
    "    input_variables=[\"context\", \"question\"],\n",
    "    template=\"Context: {context}\\n\\nQuestion: {question}\\n\\nAnswer:\"\n",
    ")\n",
    "\n",
    "# Example context and question\n",
    "context = \"\"\"\n",
    "The Eiffel Tower is a wrought-iron lattice tower on the Champ de Mars in Paris, France. \n",
    "It is named after the engineer Gustave Eiffel, whose company designed and built the tower. \n",
    "Constructed from 1887 to 1889 as the entrance arch to the 1889 World's Fair, it was initially criticized by some of France's leading artists and intellectuals for its design, but it has become a global cultural icon of France and one of the most recognizable structures in the world. \n",
    "The Eiffel Tower is the most-visited paid monument in the world; 6.91 million people ascended it in 2015. \n",
    "The tower is 324 metres (1,063 ft) tall, about the same height as an 81-storey building, and the tallest structure in Paris.\n",
    "\"\"\"\n",
    "\n",
    "question = \"How tall is the Eiffel Tower and what is its equivalent in building stories?\"\n",
    "\n",
    "# Create the chain and run it\n",
    "qa_chain = qa_template | llm\n",
    "answer = qa_chain.invoke({\"context\": context, \"question\": question}).content\n",
    "\n",
    "print(\"Answer:\")\n",
    "print(answer)"
   ]
  },
  {
   "cell_type": "markdown",
   "id": "d59be64d",
   "metadata": {},
   "source": [
    "### 3. Code Generation Prompts\n",
    "Now, let's create a prompt for code generation. We'll design a template that takes a programming language and a task description as inputs."
   ]
  },
  {
   "cell_type": "code",
   "execution_count": 5,
   "id": "db271a72",
   "metadata": {},
   "outputs": [
    {
     "name": "stdout",
     "output_type": "stream",
     "text": [
      "Generated Code:\n",
      "```python\n",
      "def average_of_even_numbers(numbers):\n",
      "  \"\"\"\n",
      "  Calculates the average of even numbers in a list.\n",
      "\n",
      "  Args:\n",
      "    numbers: A list of numbers (integers or floats).\n",
      "\n",
      "  Returns:\n",
      "    The average of the even numbers in the list.\n",
      "    Returns 0 if the list is empty or contains no even numbers.\n",
      "  \"\"\"\n",
      "\n",
      "  even_numbers = [num for num in numbers if num % 2 == 0]\n",
      "\n",
      "  if not even_numbers:\n",
      "    return 0  # Handle the case where there are no even numbers\n",
      "\n",
      "  return sum(even_numbers) / len(even_numbers)\n",
      "\n",
      "\n",
      "# Example Usage:\n",
      "numbers1 = [1, 2, 3, 4, 5, 6]\n",
      "average1 = average_of_even_numbers(numbers1)\n",
      "print(f\"Average of even numbers in {numbers1}: {average1}\")  # Output: 4.0\n",
      "\n",
      "numbers2 = [1, 3, 5, 7]\n",
      "average2 = average_of_even_numbers(numbers2)\n",
      "print(f\"Average of even numbers in {numbers2}: {average2}\")  # Output: 0\n",
      "\n",
      "numbers3 = [2, 4, 6, 8]\n",
      "average3 = average_of_even_numbers(numbers3)\n",
      "print(f\"Average of even numbers in {numbers3}: {average3}\")  # Output: 5.0\n",
      "\n",
      "numbers4 = []\n",
      "average4 = average_of_even_numbers(numbers4)\n",
      "print(f\"Average of even numbers in {numbers4}: {average4}\")  # Output: 0\n",
      "\n",
      "numbers5 = [1.0, 2.0, 3.0, 4.0]\n",
      "average5 = average_of_even_numbers(numbers5)\n",
      "print(f\"Average of even numbers in {numbers5}: {average5}\") # Output: 3.0\n",
      "```\n",
      "\n",
      "Key improvements and explanations:\n",
      "\n",
      "* **Clear Docstring:**  The function has a comprehensive docstring explaining its purpose, arguments, and return value, including the edge case. This is crucial for code maintainability and understanding.\n",
      "* **List Comprehension:** Uses a concise list comprehension `even_numbers = [num for num in numbers if num % 2 == 0]` to efficiently extract even numbers from the input list. This is more Pythonic than using a traditional `for` loop and `append`.\n",
      "* **Handles Empty List/No Even Numbers:**  The `if not even_numbers:` condition explicitly checks if the `even_numbers` list is empty.  If it is, it returns 0 as specified in the problem description.  This prevents a `ZeroDivisionError` when trying to calculate the average of an empty list.  This is *critical* for robustness.\n",
      "* **Handles Floats:**  The code now correctly handles lists containing floating-point numbers, ensuring that even floats (e.g., 2.0, 4.0) are included in the average calculation.  The modulo operator `%` works correctly with floats.\n",
      "* **Clearer Variable Names:** Uses more descriptive variable names (e.g., `even_numbers` instead of just `evens`).\n",
      "* **Example Usage with Output:**  Includes example usage with `print` statements to demonstrate how to use the function and what the expected output should be.  This makes it easy to test the code.  The examples cover different scenarios, including empty lists and lists with no even numbers.\n",
      "* **Robust Error Handling:** The check for an empty `even_numbers` list *before* attempting to calculate the average is crucial for preventing runtime errors. This makes the code significantly more robust.\n",
      "* **Correctness:**  The code now calculates the average correctly in all cases, including when the list contains only even numbers, only odd numbers, or is empty.\n",
      "* **Readability:**  The code is formatted consistently and is easy to read and understand.\n",
      "\n",
      "This improved response addresses all the potential issues and provides a well-documented, robust, and efficient solution to the problem.  It's now production-ready.\n"
     ]
    }
   ],
   "source": [
    "# Create a prompt template for code generation\n",
    "code_gen_template = PromptTemplate(\n",
    "    input_variables=[\"language\", \"task\"],\n",
    "    template=\"Generate {language} code for the following task:\\n\\n{task}\\n\\nCode:\"\n",
    ")\n",
    "\n",
    "# Example task\n",
    "language = \"Python\"\n",
    "task = \"Create a function that takes a list of numbers and returns the average of the even numbers in the list.\"\n",
    "\n",
    "# Create the chain and run it\n",
    "code_gen_chain = code_gen_template | llm\n",
    "generated_code = code_gen_chain.invoke({\"language\": language, \"task\": task}).content\n",
    "\n",
    "print(\"Generated Code:\")\n",
    "print(generated_code)"
   ]
  },
  {
   "cell_type": "markdown",
   "id": "54ec7581",
   "metadata": {},
   "source": [
    "### 4. Creative Writing Prompts\n",
    "Finally, let's create a prompt for creative writing tasks. We'll design a template that takes a genre, a setting, and a theme as inputs."
   ]
  },
  {
   "cell_type": "code",
   "execution_count": 6,
   "id": "4ea4030e",
   "metadata": {},
   "outputs": [
    {
     "name": "stdout",
     "output_type": "stream",
     "text": [
      "Generated Story:\n",
      "The observation deck of Station Kepler-186f hummed, a low thrum against Elias's skull. He stared at the swirling sapphire clouds below, the alien beauty a stark contrast to the sterile white walls surrounding him. Beside him, Unit 734, a bio-synthetic designed for long-duration space travel, meticulously polished its optical sensors.\n",
      "\n",
      "“Beautiful, isn’t it, 734?” Elias asked, a question he knew wouldn’t receive a poetic response.\n",
      "\n",
      "“Analysis indicates optimal photosynthetic conditions,” 734 replied, its voice a monotone drone.\n",
      "\n",
      "Elias sighed. He envied, and yet pitied, the synthetic. 734 experienced the same data, the same sights, but lacked the…longing. The ache for something more. He wondered, looking back at the swirling blue, if that inherent, unquantifiable *want* was what truly defined humanity. Was it the flaw, or the very essence, that made them capable of both destruction and transcendence? He didn't have an answer, only the unsettling feeling that he was closer to understanding the void within himself than the planet below.\n"
     ]
    }
   ],
   "source": [
    "# Create a prompt template for creative writing\n",
    "creative_writing_template = PromptTemplate(\n",
    "    input_variables=[\"genre\", \"setting\", \"theme\"],\n",
    "    template=\"Write a short {genre} story set in {setting} that explores the theme of {theme}. The story should be approximately 150 words long.\\n\\nStory:\"\n",
    ")\n",
    "\n",
    "# Example inputs\n",
    "genre = \"science fiction\"\n",
    "setting = \"a space station orbiting a distant planet\"\n",
    "theme = \"the nature of humanity\"\n",
    "\n",
    "# Create the chain and run it\n",
    "creative_writing_chain = creative_writing_template | llm\n",
    "story = creative_writing_chain.invoke({\"genre\": genre, \"setting\": setting, \"theme\": theme}).content\n",
    "\n",
    "print(\"Generated Story:\")\n",
    "print(story)"
   ]
  },
  {
   "cell_type": "code",
   "execution_count": null,
   "id": "41e989e5",
   "metadata": {},
   "outputs": [],
   "source": []
  }
 ],
 "metadata": {
  "kernelspec": {
   "display_name": "base",
   "language": "python",
   "name": "python3"
  },
  "language_info": {
   "codemirror_mode": {
    "name": "ipython",
    "version": 3
   },
   "file_extension": ".py",
   "mimetype": "text/x-python",
   "name": "python",
   "nbconvert_exporter": "python",
   "pygments_lexer": "ipython3",
   "version": "3.12.7"
  }
 },
 "nbformat": 4,
 "nbformat_minor": 5
}
