{
  "cells": [
    {
      "cell_type": "markdown",
      "metadata": {},
      "source": [
        "# Simple RAG (Retrieval-Augmented Generation) System for CSV Files\n",
        "\n",
        "## Overview\n",
        "\n",
        "This code implements a basic Retrieval-Augmented Generation (RAG) system for processing and querying CSV documents. The system encodes the document content into a vector store, which can then be queried to retrieve relevant information.\n",
        "\n",
        "# CSV File Structure and Use Case\n",
        "The CSV file contains dummy customer data, comprising various attributes like first name, last name, company, etc. This dataset will be utilized for a RAG use case, facilitating the creation of a customer information Q&A system.\n",
        "\n",
        "## Key Components\n",
        "\n",
        "1. Loading and spliting csv files.\n",
        "2. Vector store creation using [FAISS](https://engineering.fb.com/2017/03/29/data-infrastructure/faiss-a-library-for-efficient-similarity-search/) and OpenAI embeddings\n",
        "3. Retriever setup for querying the processed documents\n",
        "4. Creating a question and answer over the csv data.\n",
        "\n",
        "## Method Details\n",
        "\n",
        "### Document Preprocessing\n",
        "\n",
        "1. The csv is loaded using langchain Csvloader\n",
        "2. The data is split into chunks.\n",
        "\n",
        "\n",
        "### Vector Store Creation\n",
        "\n",
        "1. OpenAI embeddings are used to create vector representations of the text chunks.\n",
        "2. A FAISS vector store is created from these embeddings for efficient similarity search.\n",
        "\n",
        "### Retriever Setup\n",
        "\n",
        "1. A retriever is configured to fetch the most relevant chunks for a given query.\n",
        "\n",
        "## Benefits of this Approach\n",
        "\n",
        "1. Scalability: Can handle large documents by processing them in chunks.\n",
        "2. Flexibility: Easy to adjust parameters like chunk size and number of retrieved results.\n",
        "3. Efficiency: Utilizes FAISS for fast similarity search in high-dimensional spaces.\n",
        "4. Integration with Advanced NLP: Uses OpenAI embeddings for state-of-the-art text representation.\n",
        "\n",
        "## Conclusion\n",
        "\n",
        "This simple RAG system provides a solid foundation for building more complex information retrieval and question-answering systems. By encoding document content into a searchable vector store, it enables efficient retrieval of relevant information in response to queries. This approach is particularly useful for applications requiring quick access to specific information within a csv file."
      ]
    },
    {
      "cell_type": "markdown",
      "metadata": {},
      "source": [
        "import libries"
      ]
    },
    {
      "cell_type": "markdown",
      "metadata": {},
      "source": [
        "# Package Installation and Imports\n",
        "\n",
        "The cell below installs all necessary packages required to run this notebook.\n"
      ]
    },
    {
      "cell_type": "code",
      "execution_count": 1,
      "metadata": {},
      "outputs": [],
      "source": [
        "from langchain_community.document_loaders.csv_loader import CSVLoader\n",
        "from pathlib import Path\n",
        "from langchain_google_genai import ChatGoogleGenerativeAI, GoogleGenerativeAIEmbeddings\n",
        "import os\n",
        "from dotenv import load_dotenv\n",
        "\n",
        "# Load environment variables from a .env file\n",
        "load_dotenv()\n",
        "\n",
        "# Set the OpenAI API key environment variable\n",
        "os.environ[\"GEMINI_API_KEY\"] = os.getenv('GEMINI_API_KEY')\n",
        "\n",
        "llm = ChatGoogleGenerativeAI(model=\"gemini-2.5-flash\")"
      ]
    },
    {
      "cell_type": "markdown",
      "metadata": {},
      "source": [
        "# CSV File Structure and Use Case\n",
        "The CSV file contains dummy customer data, comprising various attributes like first name, last name, company, etc. This dataset will be utilized for a RAG use case, facilitating the creation of a customer information Q&A system."
      ]
    },
    {
      "cell_type": "code",
      "execution_count": null,
      "metadata": {},
      "outputs": [
        {
          "data": {
            "text/html": [
              "<div>\n",
              "<style scoped>\n",
              "    .dataframe tbody tr th:only-of-type {\n",
              "        vertical-align: middle;\n",
              "    }\n",
              "\n",
              "    .dataframe tbody tr th {\n",
              "        vertical-align: top;\n",
              "    }\n",
              "\n",
              "    .dataframe thead th {\n",
              "        text-align: right;\n",
              "    }\n",
              "</style>\n",
              "<table border=\"1\" class=\"dataframe\">\n",
              "  <thead>\n",
              "    <tr style=\"text-align: right;\">\n",
              "      <th></th>\n",
              "      <th>Index</th>\n",
              "      <th>Customer Id</th>\n",
              "      <th>First Name</th>\n",
              "      <th>Last Name</th>\n",
              "      <th>Company</th>\n",
              "      <th>City</th>\n",
              "      <th>Country</th>\n",
              "      <th>Phone 1</th>\n",
              "      <th>Phone 2</th>\n",
              "      <th>Email</th>\n",
              "      <th>Subscription Date</th>\n",
              "      <th>Website</th>\n",
              "    </tr>\n",
              "  </thead>\n",
              "  <tbody>\n",
              "    <tr>\n",
              "      <th>0</th>\n",
              "      <td>1</td>\n",
              "      <td>DD37Cf93aecA6Dc</td>\n",
              "      <td>Sheryl</td>\n",
              "      <td>Baxter</td>\n",
              "      <td>Rasmussen Group</td>\n",
              "      <td>East Leonard</td>\n",
              "      <td>Chile</td>\n",
              "      <td>229.077.5154</td>\n",
              "      <td>397.884.0519x718</td>\n",
              "      <td>zunigavanessa@smith.info</td>\n",
              "      <td>2020-08-24</td>\n",
              "      <td>http://www.stephenson.com/</td>\n",
              "    </tr>\n",
              "    <tr>\n",
              "      <th>1</th>\n",
              "      <td>2</td>\n",
              "      <td>1Ef7b82A4CAAD10</td>\n",
              "      <td>Preston</td>\n",
              "      <td>Lozano</td>\n",
              "      <td>Vega-Gentry</td>\n",
              "      <td>East Jimmychester</td>\n",
              "      <td>Djibouti</td>\n",
              "      <td>5153435776</td>\n",
              "      <td>686-620-1820x944</td>\n",
              "      <td>vmata@colon.com</td>\n",
              "      <td>2021-04-23</td>\n",
              "      <td>http://www.hobbs.com/</td>\n",
              "    </tr>\n",
              "    <tr>\n",
              "      <th>2</th>\n",
              "      <td>3</td>\n",
              "      <td>6F94879bDAfE5a6</td>\n",
              "      <td>Roy</td>\n",
              "      <td>Berry</td>\n",
              "      <td>Murillo-Perry</td>\n",
              "      <td>Isabelborough</td>\n",
              "      <td>Antigua and Barbuda</td>\n",
              "      <td>+1-539-402-0259</td>\n",
              "      <td>(496)978-3969x58947</td>\n",
              "      <td>beckycarr@hogan.com</td>\n",
              "      <td>2020-03-25</td>\n",
              "      <td>http://www.lawrence.com/</td>\n",
              "    </tr>\n",
              "    <tr>\n",
              "      <th>3</th>\n",
              "      <td>4</td>\n",
              "      <td>5Cef8BFA16c5e3c</td>\n",
              "      <td>Linda</td>\n",
              "      <td>Olsen</td>\n",
              "      <td>Dominguez, Mcmillan and Donovan</td>\n",
              "      <td>Bensonview</td>\n",
              "      <td>Dominican Republic</td>\n",
              "      <td>001-808-617-6467x12895</td>\n",
              "      <td>+1-813-324-8756</td>\n",
              "      <td>stanleyblackwell@benson.org</td>\n",
              "      <td>2020-06-02</td>\n",
              "      <td>http://www.good-lyons.com/</td>\n",
              "    </tr>\n",
              "    <tr>\n",
              "      <th>4</th>\n",
              "      <td>5</td>\n",
              "      <td>053d585Ab6b3159</td>\n",
              "      <td>Joanna</td>\n",
              "      <td>Bender</td>\n",
              "      <td>Martin, Lang and Andrade</td>\n",
              "      <td>West Priscilla</td>\n",
              "      <td>Slovakia (Slovak Republic)</td>\n",
              "      <td>001-234-203-0635x76146</td>\n",
              "      <td>001-199-446-3860x3486</td>\n",
              "      <td>colinalvarado@miles.net</td>\n",
              "      <td>2021-04-17</td>\n",
              "      <td>https://goodwin-ingram.com/</td>\n",
              "    </tr>\n",
              "  </tbody>\n",
              "</table>\n",
              "</div>"
            ],
            "text/plain": [
              "   Index      Customer Id First Name Last Name  \\\n",
              "0      1  DD37Cf93aecA6Dc     Sheryl    Baxter   \n",
              "1      2  1Ef7b82A4CAAD10    Preston    Lozano   \n",
              "2      3  6F94879bDAfE5a6        Roy     Berry   \n",
              "3      4  5Cef8BFA16c5e3c      Linda     Olsen   \n",
              "4      5  053d585Ab6b3159     Joanna    Bender   \n",
              "\n",
              "                           Company               City  \\\n",
              "0                  Rasmussen Group       East Leonard   \n",
              "1                      Vega-Gentry  East Jimmychester   \n",
              "2                    Murillo-Perry      Isabelborough   \n",
              "3  Dominguez, Mcmillan and Donovan         Bensonview   \n",
              "4         Martin, Lang and Andrade     West Priscilla   \n",
              "\n",
              "                      Country                 Phone 1                Phone 2  \\\n",
              "0                       Chile            229.077.5154       397.884.0519x718   \n",
              "1                    Djibouti              5153435776       686-620-1820x944   \n",
              "2         Antigua and Barbuda         +1-539-402-0259    (496)978-3969x58947   \n",
              "3          Dominican Republic  001-808-617-6467x12895        +1-813-324-8756   \n",
              "4  Slovakia (Slovak Republic)  001-234-203-0635x76146  001-199-446-3860x3486   \n",
              "\n",
              "                         Email Subscription Date                      Website  \n",
              "0     zunigavanessa@smith.info        2020-08-24   http://www.stephenson.com/  \n",
              "1              vmata@colon.com        2021-04-23        http://www.hobbs.com/  \n",
              "2          beckycarr@hogan.com        2020-03-25     http://www.lawrence.com/  \n",
              "3  stanleyblackwell@benson.org        2020-06-02   http://www.good-lyons.com/  \n",
              "4      colinalvarado@miles.net        2021-04-17  https://goodwin-ingram.com/  "
            ]
          },
          "execution_count": 5,
          "metadata": {},
          "output_type": "execute_result"
        }
      ],
      "source": [
        "## Load pandas\n",
        "import pandas as pd\n",
        "\n",
        "## Change the working directory to the parent directory\n",
        "import os\n",
        "os.chdir(\"..\")\n",
        "\n",
        "file_path = ('data/customers-100.csv') # insert the path of the csv file\n",
        "data = pd.read_csv(file_path)\n",
        "\n",
        "# preview the csv file\n",
        "data.head()"
      ]
    },
    {
      "cell_type": "markdown",
      "metadata": {},
      "source": [
        "load and process csv data"
      ]
    },
    {
      "cell_type": "code",
      "execution_count": 6,
      "metadata": {},
      "outputs": [],
      "source": [
        "loader = CSVLoader(file_path=file_path)\n",
        "docs = loader.load_and_split()"
      ]
    },
    {
      "cell_type": "markdown",
      "metadata": {},
      "source": [
        "Initiate faiss vector store and openai embedding"
      ]
    },
    {
      "cell_type": "code",
      "execution_count": 7,
      "metadata": {},
      "outputs": [],
      "source": [
        "import faiss\n",
        "from langchain_community.docstore.in_memory import InMemoryDocstore\n",
        "from langchain_community.vectorstores import FAISS\n",
        "\n",
        "embeddings = GoogleGenerativeAIEmbeddings(model=\"models/gemini-embedding-001\")\n",
        "index = faiss.IndexFlatL2(len(embeddings.embed_query(\" \")))\n",
        "vector_store = FAISS(\n",
        "    embedding_function=embeddings,\n",
        "    index=index,\n",
        "    docstore=InMemoryDocstore(),\n",
        "    index_to_docstore_id={}\n",
        ")"
      ]
    },
    {
      "cell_type": "markdown",
      "metadata": {},
      "source": [
        "Add the splitted csv data to the vector store"
      ]
    },
    {
      "cell_type": "code",
      "execution_count": 8,
      "metadata": {},
      "outputs": [
        {
          "data": {
            "text/plain": [
              "['2adc14e4-d647-496d-9bc4-99621c1d62c0',\n",
              " 'caea7069-338f-4d12-add9-28dc69f87ca6',\n",
              " 'b7fcbe20-a234-4192-b227-b17e2e82653a',\n",
              " '77a4d040-0bf3-4d2a-bc79-b9bb5888c902',\n",
              " '16b066b0-c974-477c-9fc4-cb24e317eac7',\n",
              " '0536cac4-2394-4cc7-bd2e-4526ae3abcb1',\n",
              " '85660dfa-4d72-4790-a7f8-2d11a2a295b8',\n",
              " 'f89dc76b-ff96-44c9-8842-9e7fb74a4825',\n",
              " 'bc77a8ec-a767-4116-aeee-37e77b23a918',\n",
              " 'ad023936-0b1b-4593-a467-de18155d6797',\n",
              " '26f6221d-2c38-47b2-8409-114258a920f9',\n",
              " '2e9a0c97-cd00-4399-b6c9-8f654f807d63',\n",
              " 'dd484ae9-58e8-4326-80a1-1d2c78b0e527',\n",
              " '71aa397c-c7e6-4791-9904-1d0c420cd183',\n",
              " '98037635-f783-4459-9dca-b4a7c2d76fee',\n",
              " '24854880-4a60-44f8-b464-bb673f267bde',\n",
              " 'cc9c50d9-4d68-449a-ac8f-06f1f810af12',\n",
              " '41592733-238d-4916-99e0-3faeab844cd4',\n",
              " '08606196-28f2-473e-a9af-29155fa5b3e1',\n",
              " '47d3bbd2-270b-431a-86d2-72257d0cf242',\n",
              " '7ee8a37d-2778-46de-ae6e-f096fca982f0',\n",
              " '4cbd6e3c-173e-455d-9b03-fd6ea9a3f9c8',\n",
              " 'af14f178-cf8c-4ef0-b149-70302f8c0671',\n",
              " 'eb7c36fa-82e3-49c4-9397-32868b8e8af5',\n",
              " '18bb1213-eeb5-4bb7-81e4-274a3d7693b2',\n",
              " '85699643-1aa8-42d8-9d25-3c5a1e71d35a',\n",
              " '41bb4b9f-eb8c-4300-87bf-ebbff5d2d5be',\n",
              " 'ab62236d-0538-4712-a056-456456cc166d',\n",
              " '1b347b6d-13fa-45d1-b267-4c7f727231ea',\n",
              " '245336d2-89fa-4806-bb3e-acbb7f7bf936',\n",
              " '487d5b7e-fd6f-44f2-890c-cd3fad0e87ce',\n",
              " 'e3bb6e00-ac87-4be9-b70a-7e7b5f82005d',\n",
              " '7ec9acba-c155-4262-b97b-74789456bb43',\n",
              " 'f114328b-47cd-423a-af1e-90bfe2032456',\n",
              " 'f9f024aa-d3de-4c04-8ec0-ad9b9e7a59ca',\n",
              " 'aacd5ee6-80df-40f3-8711-a3d83d3cb39b',\n",
              " '3b6dbe5b-e1b4-4c89-a663-13e048a90cb0',\n",
              " '02dc30ca-6031-41f7-88ee-dbcbb5158921',\n",
              " '22864df8-2746-4bda-9bfa-73763363f53d',\n",
              " '0df4c466-1f57-43d6-89a3-284f77bc7e7b',\n",
              " 'e6f57352-a075-4799-ad8d-1691c212947d',\n",
              " '131fbbd0-46d4-4e71-a0a6-ee96dcee2fa9',\n",
              " '3cb6be93-b3d6-4ac3-87d7-bdf3dcd71aae',\n",
              " 'b0e784a9-8e51-4839-972d-5e920742c449',\n",
              " 'f9ce0741-34b1-4f54-8cb2-db1da3345f50',\n",
              " 'c57eeb32-9f90-4cf6-b10e-49bb05d2f109',\n",
              " 'b8f27f67-625a-4a80-93b4-ae42afe74f8c',\n",
              " 'fcfab3f6-89e6-40d8-91d0-6da9334d7013',\n",
              " '46133b95-6edd-428d-b427-556ca0f2fecf',\n",
              " '4af2e74f-62db-4fbd-86b1-4ced44da551d',\n",
              " 'b888ffea-0dbb-45a2-b5e0-1639059b0334',\n",
              " '36b9d4b7-33e9-4ee3-9243-40f1fa710f17',\n",
              " '11a61776-3e68-46c1-aa1a-c1a934643e3e',\n",
              " '0f33829b-18bf-435a-9b20-3e6da2903a5d',\n",
              " '14a92f3b-0997-4684-947e-a81d8c0b0ed7',\n",
              " '0a29c422-a0e1-43a8-b595-dfa6443956b4',\n",
              " '91732457-15d1-475b-9a29-5132e4501954',\n",
              " '4cf4321c-4fb3-41e8-ac4b-a9be4c4c5221',\n",
              " 'cdb8fdf5-5125-4175-a3e3-20e14454d162',\n",
              " 'ec19e786-aa3f-4aa7-85f2-80948fd617c7',\n",
              " '388c273c-c1d9-4f19-b368-94ca5d6cfd61',\n",
              " '2b7eed72-2d08-495d-90b6-0848207ca0bc',\n",
              " '3543cb4c-5da9-4914-b13c-795aa2d3cdbc',\n",
              " '6c17c5e9-2a2a-4f16-a19f-77c3c79a2dde',\n",
              " 'a3a2dd57-c28c-4e55-b1e3-d86c6b03e5c1',\n",
              " 'b3aa54a0-9ad0-4b8c-92df-3d5106f4be31',\n",
              " 'ab94ecad-d0b0-45ea-9d52-3f49b040a602',\n",
              " '72019912-3d5a-4ad1-a94d-28bfd8fb2081',\n",
              " 'd91a7861-2ad6-40ce-83a1-d83b2a597448',\n",
              " '12092d6e-ceac-44c6-a7d8-75e5577d72ba',\n",
              " '64934251-4799-41ea-95d6-b2090338ba40',\n",
              " 'fa2280d4-2382-440e-8186-2d3b02f313e7',\n",
              " '2709a07c-ad87-4f1e-aa53-6e823e813712',\n",
              " 'c61e6611-8343-4381-b997-3ba10ca6890a',\n",
              " 'bea5c12b-6168-41db-b0b5-a097913294ca',\n",
              " '33137097-e833-4207-9449-fb9ecc145fc6',\n",
              " 'c2866223-bf68-4b0c-a0c2-eac331a3e3f7',\n",
              " 'ced2b1c1-1c65-4c71-aa69-ddb773fc4329',\n",
              " 'fddfb21d-da72-432b-b810-d8673e2672a7',\n",
              " 'c3a176bc-5d85-4a22-a3b6-22f0c47be345',\n",
              " '5241d084-381d-4dc8-9f40-6db6e44bd2b9',\n",
              " 'f48a405a-66d7-4562-b8c8-1cdbfdfb9e75',\n",
              " '55308726-7cbb-4325-ad94-10211c827671',\n",
              " '228f231b-4476-4675-8ced-babcede80e15',\n",
              " '4e3f935a-4436-4fdd-b1f5-c1e089558c4e',\n",
              " '89451201-411f-4489-a6f1-a50145f87184',\n",
              " 'cc005e9d-a279-4d15-b79d-a00f36168fc7',\n",
              " '0e093b2b-fa62-4ec6-a17d-a6b53ec8aaf9',\n",
              " 'cf0a174e-7152-4fd7-957c-15318200ec3f',\n",
              " '8cfc7214-c89c-465f-8a73-ea125999a818',\n",
              " 'a669729a-dfb0-4959-8d57-9cfaef8082a2',\n",
              " 'b3bb48fe-cd2e-46a2-94c6-5db188f374d4',\n",
              " 'afe3defd-43c0-439f-ad9d-2ad38edff5af',\n",
              " 'bfd38dc2-0a2f-440b-9677-1f87e579e774',\n",
              " '8f3da6c8-5496-4824-bc05-6d17d17cdf22',\n",
              " 'f1ca82c6-fedf-4678-8618-750994d3c73f',\n",
              " '4ef440f7-00ca-46cb-b2b4-67aba1d70590',\n",
              " '27691709-e244-4e51-87a9-ca9c8343ad07',\n",
              " '389a41f2-c9ae-4c45-9b88-95582d5601e3',\n",
              " '1ffdb9ba-308a-48ef-8c93-8b76801e2c8f']"
            ]
          },
          "execution_count": 8,
          "metadata": {},
          "output_type": "execute_result"
        }
      ],
      "source": [
        "vector_store.add_documents(documents=docs)"
      ]
    },
    {
      "cell_type": "markdown",
      "metadata": {},
      "source": [
        "Create the retrieval chain"
      ]
    },
    {
      "cell_type": "code",
      "execution_count": 9,
      "metadata": {},
      "outputs": [],
      "source": [
        "from langchain_core.prompts import ChatPromptTemplate\n",
        "from langchain.chains.retrieval import create_retrieval_chain\n",
        "from langchain.chains.combine_documents import create_stuff_documents_chain\n",
        "\n",
        "retriever = vector_store.as_retriever()\n",
        "\n",
        "# Set up system prompt\n",
        "system_prompt = (\n",
        "    \"You are an assistant for question-answering tasks. \"\n",
        "    \"Use the following pieces of retrieved context to answer \"\n",
        "    \"the question. If you don't know the answer, say that you \"\n",
        "    \"don't know. Use three sentences maximum and keep the \"\n",
        "    \"answer concise.\"\n",
        "    \"\\n\\n\"\n",
        "    \"{context}\"\n",
        ")\n",
        "\n",
        "prompt = ChatPromptTemplate.from_messages([\n",
        "    (\"system\", system_prompt),\n",
        "    (\"human\", \"{input}\"),\n",
        "    \n",
        "])\n",
        "\n",
        "# Create the question-answer chain\n",
        "question_answer_chain = create_stuff_documents_chain(llm, prompt)\n",
        "rag_chain = create_retrieval_chain(retriever, question_answer_chain)"
      ]
    },
    {
      "cell_type": "markdown",
      "metadata": {},
      "source": [
        "Query the rag bot with a question based on the CSV data"
      ]
    },
    {
      "cell_type": "code",
      "execution_count": 10,
      "metadata": {},
      "outputs": [
        {
          "data": {
            "text/plain": [
              "'Sheryl Baxter works for Rasmussen Group.'"
            ]
          },
          "execution_count": 10,
          "metadata": {},
          "output_type": "execute_result"
        }
      ],
      "source": [
        "answer= rag_chain.invoke({\"input\": \"which company does sheryl Baxter work for?\"})\n",
        "answer['answer']"
      ]
    },
    {
      "cell_type": "markdown",
      "metadata": {},
      "source": [
        "![](https://europe-west1-rag-techniques-views-tracker.cloudfunctions.net/rag-techniques-tracker?notebook=all-rag-techniques--simple-csv-rag)"
      ]
    }
  ],
  "metadata": {
    "colab": {
      "name": "",
      "provenance": [],
      "toc_visible": true
    },
    "kernelspec": {
      "display_name": "daily-task",
      "language": "python",
      "name": "python3"
    },
    "language_info": {
      "codemirror_mode": {
        "name": "ipython",
        "version": 3
      },
      "file_extension": ".py",
      "mimetype": "text/x-python",
      "name": "python",
      "nbconvert_exporter": "python",
      "pygments_lexer": "ipython3",
      "version": "3.12.0"
    }
  },
  "nbformat": 4,
  "nbformat_minor": 2
}
